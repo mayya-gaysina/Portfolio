{
 "cells": [
  {
   "cell_type": "markdown",
   "id": "b1c7f452",
   "metadata": {},
   "source": [
    "# Проект: Статистический анализ данных"
   ]
  },
  {
   "cell_type": "markdown",
   "id": "9e7ba715",
   "metadata": {},
   "source": [
    "**Переданы данные популярного сервиса аренды самокатов GoFast о некоторых пользователях из нескольких городов, а также об их поездках. Необходимо проанализировать данные и проверить некоторые гипотезы, которые могут помочь бизнесу вырасти.**\n",
    "\n",
    "Чтобы совершать поездки по городу, пользователи сервиса GoFast пользуются мобильным приложением. Сервисом можно пользоваться как с подпиской, так и без. Условия следующие: \n",
    " \n",
    " - без подписки\n",
    "  - абонентская плата отсутствует;\n",
    "  - стоимость одной минуты поездки — 8 рублей;\n",
    "  - стоимость старта (начала поездки) — 50 рублей;\n",
    " \n",
    " - с подпиской Ultra\n",
    "  - абонентская плата — 199 рублей в месяц;\n",
    "  - стоимость одной минуты поездки — 6 рублей;\n",
    "  - стоимость старта — бесплатно.\n",
    "\n",
    "**В основных данных есть информация о пользователях, их поездках и подписках:**\n",
    " - пользователи (файл users_go.csv содержит уникальный идентификатор пользователя (user_id), имя пользователя(name), возраст(age), город(city), тип подписки (free, ultra));\n",
    " - поездки (файл rides_go.csv содержит  уникальный идентификатор пользователя, расстояние(distance), которое пользователь проехал в текущей сессии (в метрах), продолжительность сессии (в минутах) — время с того момента, как пользователь нажал кнопку «Начать поездку» до момента, как он нажал кнопку «Завершить поездку»(duration), дата совершения поездки(date)\n",
    " - подписки (файл subscriptions_go.csv содержит тип подписки, стоимостью одной минуты поездки по данной подписке(minute_price),стоимостью начала поездки (start_ride_price), стоимость ежемесячного платежа (subscription_fee)\n",
    " \n",
    "**В данном проекте будет решена следующая задача:**\n",
    " - анализ данных,проверка ряда гипотез и выдвижение рекомендаций, которые помогут бизнесу вырасти.\n",
    "\n",
    "**Описание хода исследования:**\n",
    " - изучение общей информации о данных,\n",
    " - предобработка данных,\n",
    " - исследовательский анализ,\n",
    " - объединение данных,\n",
    " - агрегированние данных по пользователям и месяцам, по наличию/отсутствию подписки,\n",
    " - проверка гипотез,\n",
    " - общий вывод по проекту."
   ]
  },
  {
   "cell_type": "code",
   "execution_count": 1,
   "id": "cf9ed671",
   "metadata": {},
   "outputs": [],
   "source": [
    "#импортируем необходимые библиотеки,отключим предупреждения(в конце), зададим формат вывода знаков после запятой\n",
    "import pandas as pd\n",
    "import matplotlib.pyplot as plt\n",
    "import numpy as np\n",
    "import seaborn as sns\n",
    "import os\n",
    "from scipy import stats as st\n",
    "import warnings\n",
    "warnings.filterwarnings('ignore')\n",
    "pd.options.display.float_format = '{:,.2f}'.format"
   ]
  },
  {
   "cell_type": "markdown",
   "id": "c42cbe00",
   "metadata": {},
   "source": [
    "## Загрузка данных"
   ]
  },
  {
   "cell_type": "markdown",
   "id": "818625dd",
   "metadata": {},
   "source": [
    "Загрузим данные из каждого файла с пользователями,подписками и поездками и сохраним их в свой датафрейм"
   ]
  },
  {
   "cell_type": "code",
   "execution_count": 2,
   "id": "93c50266",
   "metadata": {},
   "outputs": [],
   "source": [
    "# функция загрузки данных из файлов\n",
    "def download(file):\n",
    "    data = pd.DataFrame()\n",
    "\n",
    "    path_1 = '/datasets/' + file + '.csv'\n",
    "    path_2 = 'https://code.s3.yandex.net/datasets/' + file + '.csv'\n",
    "   \n",
    "    if os.path.exists(path_1):\n",
    "        data = pd.read_csv(path_1, sep=',')\n",
    "    elif os.path.exists(path_2):\n",
    "        data = pd.read_csv(path_2, sep=',')\n",
    "    \n",
    "    return data"
   ]
  },
  {
   "cell_type": "code",
   "execution_count": 3,
   "id": "d04d36de",
   "metadata": {},
   "outputs": [],
   "source": [
    "#загрузим данные из файла users_go.csv\n",
    "users = download('users_go')\n",
    "\n",
    "#загрузим данные из файла rides_go.csv\n",
    "rides = download('rides_go')\n",
    "\n",
    "#загрузим данные из файла subscriptions_go.csv\n",
    "subscriptions = download('subscriptions_go')\n"
   ]
  },
  {
   "cell_type": "markdown",
   "id": "88804bf4",
   "metadata": {},
   "source": [
    "Выведем первые строки каждого набора данных и  изучим общую информацию о каждом датафрейме.\n",
    "Начнем с данных о пользователях"
   ]
  },
  {
   "cell_type": "code",
   "execution_count": 4,
   "id": "54d0dbb0",
   "metadata": {},
   "outputs": [
    {
     "data": {
      "text/html": [
       "<div>\n",
       "<style scoped>\n",
       "    .dataframe tbody tr th:only-of-type {\n",
       "        vertical-align: middle;\n",
       "    }\n",
       "\n",
       "    .dataframe tbody tr th {\n",
       "        vertical-align: top;\n",
       "    }\n",
       "\n",
       "    .dataframe thead th {\n",
       "        text-align: right;\n",
       "    }\n",
       "</style>\n",
       "<table border=\"1\" class=\"dataframe\">\n",
       "  <thead>\n",
       "    <tr style=\"text-align: right;\">\n",
       "      <th></th>\n",
       "      <th>user_id</th>\n",
       "      <th>name</th>\n",
       "      <th>age</th>\n",
       "      <th>city</th>\n",
       "      <th>subscription_type</th>\n",
       "    </tr>\n",
       "  </thead>\n",
       "  <tbody>\n",
       "    <tr>\n",
       "      <th>0</th>\n",
       "      <td>1</td>\n",
       "      <td>Кира</td>\n",
       "      <td>22</td>\n",
       "      <td>Тюмень</td>\n",
       "      <td>ultra</td>\n",
       "    </tr>\n",
       "    <tr>\n",
       "      <th>1</th>\n",
       "      <td>2</td>\n",
       "      <td>Станислав</td>\n",
       "      <td>31</td>\n",
       "      <td>Омск</td>\n",
       "      <td>ultra</td>\n",
       "    </tr>\n",
       "    <tr>\n",
       "      <th>2</th>\n",
       "      <td>3</td>\n",
       "      <td>Алексей</td>\n",
       "      <td>20</td>\n",
       "      <td>Москва</td>\n",
       "      <td>ultra</td>\n",
       "    </tr>\n",
       "    <tr>\n",
       "      <th>3</th>\n",
       "      <td>4</td>\n",
       "      <td>Константин</td>\n",
       "      <td>26</td>\n",
       "      <td>Ростов-на-Дону</td>\n",
       "      <td>ultra</td>\n",
       "    </tr>\n",
       "    <tr>\n",
       "      <th>4</th>\n",
       "      <td>5</td>\n",
       "      <td>Адель</td>\n",
       "      <td>28</td>\n",
       "      <td>Омск</td>\n",
       "      <td>ultra</td>\n",
       "    </tr>\n",
       "  </tbody>\n",
       "</table>\n",
       "</div>"
      ],
      "text/plain": [
       "   user_id        name  age            city subscription_type\n",
       "0        1        Кира   22          Тюмень             ultra\n",
       "1        2   Станислав   31            Омск             ultra\n",
       "2        3     Алексей   20          Москва             ultra\n",
       "3        4  Константин   26  Ростов-на-Дону             ultra\n",
       "4        5       Адель   28            Омск             ultra"
      ]
     },
     "execution_count": 4,
     "metadata": {},
     "output_type": "execute_result"
    }
   ],
   "source": [
    "#выведем первые 5 строк\n",
    "users.head()"
   ]
  },
  {
   "cell_type": "code",
   "execution_count": 5,
   "id": "be1c0c84",
   "metadata": {},
   "outputs": [
    {
     "name": "stdout",
     "output_type": "stream",
     "text": [
      "<class 'pandas.core.frame.DataFrame'>\n",
      "RangeIndex: 1565 entries, 0 to 1564\n",
      "Data columns (total 5 columns):\n",
      " #   Column             Non-Null Count  Dtype \n",
      "---  ------             --------------  ----- \n",
      " 0   user_id            1565 non-null   int64 \n",
      " 1   name               1565 non-null   object\n",
      " 2   age                1565 non-null   int64 \n",
      " 3   city               1565 non-null   object\n",
      " 4   subscription_type  1565 non-null   object\n",
      "dtypes: int64(2), object(3)\n",
      "memory usage: 61.3+ KB\n"
     ]
    }
   ],
   "source": [
    "#выведем общую информацию\n",
    "users.info()"
   ]
  },
  {
   "cell_type": "markdown",
   "id": "a64b18ba",
   "metadata": {},
   "source": [
    "Файл с пользователями:\n",
    " - данные состоят из 1565 строк, \n",
    " - пропусков нет (в каждом стобце кол-во значений равно кол-ву строк),\n",
    " - столбцы с уникальным идентификатором пользователя (номер по порядку) и возрастом имеют целочисленные значения, столбцы с именем, городом и типом подписки имеют текстовые значения - т.о. типы данных установлены корректно.\n",
    " \n",
    "Далее рассмотрим данные о файле с поездками "
   ]
  },
  {
   "cell_type": "code",
   "execution_count": 6,
   "id": "7fc87e61",
   "metadata": {},
   "outputs": [
    {
     "data": {
      "text/html": [
       "<div>\n",
       "<style scoped>\n",
       "    .dataframe tbody tr th:only-of-type {\n",
       "        vertical-align: middle;\n",
       "    }\n",
       "\n",
       "    .dataframe tbody tr th {\n",
       "        vertical-align: top;\n",
       "    }\n",
       "\n",
       "    .dataframe thead th {\n",
       "        text-align: right;\n",
       "    }\n",
       "</style>\n",
       "<table border=\"1\" class=\"dataframe\">\n",
       "  <thead>\n",
       "    <tr style=\"text-align: right;\">\n",
       "      <th></th>\n",
       "      <th>user_id</th>\n",
       "      <th>distance</th>\n",
       "      <th>duration</th>\n",
       "      <th>date</th>\n",
       "    </tr>\n",
       "  </thead>\n",
       "  <tbody>\n",
       "    <tr>\n",
       "      <th>0</th>\n",
       "      <td>1</td>\n",
       "      <td>4,409.92</td>\n",
       "      <td>25.60</td>\n",
       "      <td>2021-01-01</td>\n",
       "    </tr>\n",
       "    <tr>\n",
       "      <th>1</th>\n",
       "      <td>1</td>\n",
       "      <td>2,617.59</td>\n",
       "      <td>15.82</td>\n",
       "      <td>2021-01-18</td>\n",
       "    </tr>\n",
       "    <tr>\n",
       "      <th>2</th>\n",
       "      <td>1</td>\n",
       "      <td>754.16</td>\n",
       "      <td>6.23</td>\n",
       "      <td>2021-04-20</td>\n",
       "    </tr>\n",
       "    <tr>\n",
       "      <th>3</th>\n",
       "      <td>1</td>\n",
       "      <td>2,694.78</td>\n",
       "      <td>18.51</td>\n",
       "      <td>2021-08-11</td>\n",
       "    </tr>\n",
       "    <tr>\n",
       "      <th>4</th>\n",
       "      <td>1</td>\n",
       "      <td>4,028.69</td>\n",
       "      <td>26.27</td>\n",
       "      <td>2021-08-28</td>\n",
       "    </tr>\n",
       "  </tbody>\n",
       "</table>\n",
       "</div>"
      ],
      "text/plain": [
       "   user_id  distance  duration        date\n",
       "0        1  4,409.92     25.60  2021-01-01\n",
       "1        1  2,617.59     15.82  2021-01-18\n",
       "2        1    754.16      6.23  2021-04-20\n",
       "3        1  2,694.78     18.51  2021-08-11\n",
       "4        1  4,028.69     26.27  2021-08-28"
      ]
     },
     "execution_count": 6,
     "metadata": {},
     "output_type": "execute_result"
    }
   ],
   "source": [
    "#выведем первые 5 строк\n",
    "rides.head()"
   ]
  },
  {
   "cell_type": "code",
   "execution_count": 7,
   "id": "f8dc8410",
   "metadata": {},
   "outputs": [
    {
     "name": "stdout",
     "output_type": "stream",
     "text": [
      "<class 'pandas.core.frame.DataFrame'>\n",
      "RangeIndex: 18068 entries, 0 to 18067\n",
      "Data columns (total 4 columns):\n",
      " #   Column    Non-Null Count  Dtype  \n",
      "---  ------    --------------  -----  \n",
      " 0   user_id   18068 non-null  int64  \n",
      " 1   distance  18068 non-null  float64\n",
      " 2   duration  18068 non-null  float64\n",
      " 3   date      18068 non-null  object \n",
      "dtypes: float64(2), int64(1), object(1)\n",
      "memory usage: 564.8+ KB\n"
     ]
    }
   ],
   "source": [
    "#выведем общую информацию\n",
    "rides.info()"
   ]
  },
  {
   "cell_type": "markdown",
   "id": "2b159512",
   "metadata": {},
   "source": [
    "Файл с поездками:\n",
    " - данные состоят из 18068 строк, \n",
    " - пропусков нет (в каждом стобце кол-во значений равно кол-ву строк),\n",
    " - столбец с уникальным идентификатором пользователя (номер по порядку) имеет целочисленное значение (совпадает с аналогичным столбцом из файла с пользователями), столбцы с расстоянием и продолжительностью поездки имеют целочисленные значения, с датой совершения поездки - текстовый (некорректно, далее поменяем тип данных в столбце)\n",
    " \n",
    "Далее рассмотрим данные о файле с подписками "
   ]
  },
  {
   "cell_type": "code",
   "execution_count": 8,
   "id": "a0ef43bd",
   "metadata": {},
   "outputs": [
    {
     "data": {
      "text/html": [
       "<div>\n",
       "<style scoped>\n",
       "    .dataframe tbody tr th:only-of-type {\n",
       "        vertical-align: middle;\n",
       "    }\n",
       "\n",
       "    .dataframe tbody tr th {\n",
       "        vertical-align: top;\n",
       "    }\n",
       "\n",
       "    .dataframe thead th {\n",
       "        text-align: right;\n",
       "    }\n",
       "</style>\n",
       "<table border=\"1\" class=\"dataframe\">\n",
       "  <thead>\n",
       "    <tr style=\"text-align: right;\">\n",
       "      <th></th>\n",
       "      <th>subscription_type</th>\n",
       "      <th>minute_price</th>\n",
       "      <th>start_ride_price</th>\n",
       "      <th>subscription_fee</th>\n",
       "    </tr>\n",
       "  </thead>\n",
       "  <tbody>\n",
       "    <tr>\n",
       "      <th>0</th>\n",
       "      <td>free</td>\n",
       "      <td>8</td>\n",
       "      <td>50</td>\n",
       "      <td>0</td>\n",
       "    </tr>\n",
       "    <tr>\n",
       "      <th>1</th>\n",
       "      <td>ultra</td>\n",
       "      <td>6</td>\n",
       "      <td>0</td>\n",
       "      <td>199</td>\n",
       "    </tr>\n",
       "  </tbody>\n",
       "</table>\n",
       "</div>"
      ],
      "text/plain": [
       "  subscription_type  minute_price  start_ride_price  subscription_fee\n",
       "0              free             8                50                 0\n",
       "1             ultra             6                 0               199"
      ]
     },
     "execution_count": 8,
     "metadata": {},
     "output_type": "execute_result"
    }
   ],
   "source": [
    "#выведем первые 5 строк\n",
    "subscriptions.head()"
   ]
  },
  {
   "cell_type": "code",
   "execution_count": 9,
   "id": "3c9a10a4",
   "metadata": {},
   "outputs": [
    {
     "name": "stdout",
     "output_type": "stream",
     "text": [
      "<class 'pandas.core.frame.DataFrame'>\n",
      "RangeIndex: 2 entries, 0 to 1\n",
      "Data columns (total 4 columns):\n",
      " #   Column             Non-Null Count  Dtype \n",
      "---  ------             --------------  ----- \n",
      " 0   subscription_type  2 non-null      object\n",
      " 1   minute_price       2 non-null      int64 \n",
      " 2   start_ride_price   2 non-null      int64 \n",
      " 3   subscription_fee   2 non-null      int64 \n",
      "dtypes: int64(3), object(1)\n",
      "memory usage: 192.0+ bytes\n"
     ]
    }
   ],
   "source": [
    "#выведем общую информацию\n",
    "subscriptions.info()"
   ]
  },
  {
   "cell_type": "markdown",
   "id": "15f876e1",
   "metadata": {},
   "source": [
    "Файл с подписками\n",
    " - данные состоят из 2-х строк, \n",
    " - пропусков нет (в каждом стобце кол-во значений равно кол-ву строк),\n",
    " - столбец с типом подписки имеет текстовый формат, остальные - целочисленный.\n",
    " \n",
    "Далее проведем предобработку данных "
   ]
  },
  {
   "cell_type": "markdown",
   "id": "e95ebca7",
   "metadata": {},
   "source": [
    "## Предобработка данных"
   ]
  },
  {
   "cell_type": "markdown",
   "id": "53f0236b",
   "metadata": {},
   "source": [
    "### Смены типа данных столбца date из файла с поездками"
   ]
  },
  {
   "cell_type": "markdown",
   "id": "cd286dfe",
   "metadata": {},
   "source": [
    "Приведем столбец date из файла с поездками к корректному типу и сразу же проверим поменялся ли тип столбца"
   ]
  },
  {
   "cell_type": "code",
   "execution_count": 10,
   "id": "af6d202c",
   "metadata": {},
   "outputs": [
    {
     "name": "stdout",
     "output_type": "stream",
     "text": [
      "<class 'pandas.core.frame.DataFrame'>\n",
      "RangeIndex: 18068 entries, 0 to 18067\n",
      "Data columns (total 4 columns):\n",
      " #   Column    Non-Null Count  Dtype         \n",
      "---  ------    --------------  -----         \n",
      " 0   user_id   18068 non-null  int64         \n",
      " 1   distance  18068 non-null  float64       \n",
      " 2   duration  18068 non-null  float64       \n",
      " 3   date      18068 non-null  datetime64[ns]\n",
      "dtypes: datetime64[ns](1), float64(2), int64(1)\n",
      "memory usage: 564.8 KB\n"
     ]
    }
   ],
   "source": [
    "# изменим тип столбца\n",
    "rides['date'] = pd.to_datetime(rides['date'], format='%Y-%m-%dT%H:%M:%S')\n",
    "#выведем инфо об датафрейме\n",
    "rides.info()"
   ]
  },
  {
   "cell_type": "markdown",
   "id": "ffbe0fde",
   "metadata": {},
   "source": [
    "Теперь формат даты корректный"
   ]
  },
  {
   "cell_type": "markdown",
   "id": "01cd30cb",
   "metadata": {},
   "source": [
    "### Создание нового столбца с месяцем поездки"
   ]
  },
  {
   "cell_type": "markdown",
   "id": "83fa4e9c",
   "metadata": {},
   "source": [
    "Создадим новый столбец с номером месяца на основе столбца date, а также сразу посмотрим в каком виде выводятся данные в столбце date и созданном новом столбце"
   ]
  },
  {
   "cell_type": "code",
   "execution_count": 11,
   "id": "e652ec8e",
   "metadata": {},
   "outputs": [
    {
     "data": {
      "text/html": [
       "<div>\n",
       "<style scoped>\n",
       "    .dataframe tbody tr th:only-of-type {\n",
       "        vertical-align: middle;\n",
       "    }\n",
       "\n",
       "    .dataframe tbody tr th {\n",
       "        vertical-align: top;\n",
       "    }\n",
       "\n",
       "    .dataframe thead th {\n",
       "        text-align: right;\n",
       "    }\n",
       "</style>\n",
       "<table border=\"1\" class=\"dataframe\">\n",
       "  <thead>\n",
       "    <tr style=\"text-align: right;\">\n",
       "      <th></th>\n",
       "      <th>date</th>\n",
       "      <th>month</th>\n",
       "    </tr>\n",
       "  </thead>\n",
       "  <tbody>\n",
       "    <tr>\n",
       "      <th>13734</th>\n",
       "      <td>2021-09-14</td>\n",
       "      <td>9</td>\n",
       "    </tr>\n",
       "    <tr>\n",
       "      <th>913</th>\n",
       "      <td>2021-04-07</td>\n",
       "      <td>4</td>\n",
       "    </tr>\n",
       "    <tr>\n",
       "      <th>885</th>\n",
       "      <td>2021-04-02</td>\n",
       "      <td>4</td>\n",
       "    </tr>\n",
       "    <tr>\n",
       "      <th>6975</th>\n",
       "      <td>2021-07-08</td>\n",
       "      <td>7</td>\n",
       "    </tr>\n",
       "    <tr>\n",
       "      <th>15657</th>\n",
       "      <td>2021-01-06</td>\n",
       "      <td>1</td>\n",
       "    </tr>\n",
       "  </tbody>\n",
       "</table>\n",
       "</div>"
      ],
      "text/plain": [
       "            date  month\n",
       "13734 2021-09-14      9\n",
       "913   2021-04-07      4\n",
       "885   2021-04-02      4\n",
       "6975  2021-07-08      7\n",
       "15657 2021-01-06      1"
      ]
     },
     "execution_count": 11,
     "metadata": {},
     "output_type": "execute_result"
    }
   ],
   "source": [
    "# изменим тип столбца\n",
    "rides['month'] = rides['date'].dt.month\n",
    "#выведем 5 любых строк с датой и месяцем для проверки\n",
    "rides[['date','month']].sample(5)"
   ]
  },
  {
   "cell_type": "markdown",
   "id": "bc414e97",
   "metadata": {},
   "source": [
    "Для визуальности округлим данные по расстоянию до целых метров, по длительности - до десятых минут"
   ]
  },
  {
   "cell_type": "code",
   "execution_count": 12,
   "id": "e578c2b8",
   "metadata": {},
   "outputs": [],
   "source": [
    "# округлим расстояние до целого\n",
    "rides['distance'] = round(rides['distance'],)\n",
    "#округлим длительность до десятых\n",
    "rides['duration'] = round(rides['duration'],1)"
   ]
  },
  {
   "cell_type": "markdown",
   "id": "ee87edb1",
   "metadata": {},
   "source": [
    "### Поиск пропусков, дубликатов и их устранение"
   ]
  },
  {
   "cell_type": "markdown",
   "id": "47ccef19",
   "metadata": {},
   "source": [
    "Ранее мы уже выявили, что пропусков быть не должно. Кроме файла с подписками ( там всего 2 строки,визульная проверка пропусков не выявила) на всякий случай проверим отсутствие пропусков еще одним способом"
   ]
  },
  {
   "cell_type": "code",
   "execution_count": 13,
   "id": "5f8ba542",
   "metadata": {},
   "outputs": [
    {
     "data": {
      "text/plain": [
       "user_id              0\n",
       "name                 0\n",
       "age                  0\n",
       "city                 0\n",
       "subscription_type    0\n",
       "dtype: int64"
      ]
     },
     "execution_count": 13,
     "metadata": {},
     "output_type": "execute_result"
    }
   ],
   "source": [
    "users.isna().sum()"
   ]
  },
  {
   "cell_type": "code",
   "execution_count": 14,
   "id": "3eecf753",
   "metadata": {},
   "outputs": [
    {
     "data": {
      "text/plain": [
       "user_id     0\n",
       "distance    0\n",
       "duration    0\n",
       "date        0\n",
       "month       0\n",
       "dtype: int64"
      ]
     },
     "execution_count": 14,
     "metadata": {},
     "output_type": "execute_result"
    }
   ],
   "source": [
    "rides.isna().sum()"
   ]
  },
  {
   "cell_type": "markdown",
   "id": "d08051e2",
   "metadata": {},
   "source": [
    "Т.о. еще раз убедились, что пропусков в данных нет. Проверим на наличие дубликатов"
   ]
  },
  {
   "cell_type": "code",
   "execution_count": 15,
   "id": "c87ed8e8",
   "metadata": {},
   "outputs": [
    {
     "data": {
      "text/plain": [
       "31"
      ]
     },
     "execution_count": 15,
     "metadata": {},
     "output_type": "execute_result"
    }
   ],
   "source": [
    "users.duplicated().sum()"
   ]
  },
  {
   "cell_type": "code",
   "execution_count": 16,
   "id": "1b206b0f",
   "metadata": {},
   "outputs": [
    {
     "data": {
      "text/plain": [
       "0"
      ]
     },
     "execution_count": 16,
     "metadata": {},
     "output_type": "execute_result"
    }
   ],
   "source": [
    "rides.duplicated().sum()"
   ]
  },
  {
   "cell_type": "markdown",
   "id": "e00d9f60",
   "metadata": {},
   "source": [
    "Присутствует 31 явный дубликат в файле с пользователями (возможно были зарегистрированы с разных мобильных устройств, поэтому задвоились в системе), в файле с поездками явных дубликатов не обнаружено"
   ]
  },
  {
   "cell_type": "markdown",
   "id": "33bfc768",
   "metadata": {},
   "source": [
    "Удалим строки с дубликатами пользователей и сразу же посмотрим остались ли явные дубликаты"
   ]
  },
  {
   "cell_type": "code",
   "execution_count": 17,
   "id": "1dafcd4b",
   "metadata": {},
   "outputs": [
    {
     "data": {
      "text/plain": [
       "0"
      ]
     },
     "execution_count": 17,
     "metadata": {},
     "output_type": "execute_result"
    }
   ],
   "source": [
    "#удалим строки с дубликатами\n",
    "users = users.drop_duplicates().reset_index(drop=True)\n",
    "#проверим кол-во дубликатов\n",
    "users.duplicated().sum()"
   ]
  },
  {
   "cell_type": "markdown",
   "id": "e2b36dc0",
   "metadata": {},
   "source": [
    "Проведем проверку на неявные дубликаты. В этом случае проверяются столбцы с текстовым типом данных - такой тип данных присутствует только в файле с пользователями (имя и город, причем город с высокой вероятностью выбирается их предлагаемого списка, а не заполняется вручную). В файле с подписками неявные дубликаты отсутствуют согласно визуальной оценки.\n",
    "\n",
    "Сначала проверим неявные дубликаты по столбцу с названием города"
   ]
  },
  {
   "cell_type": "code",
   "execution_count": 18,
   "id": "b18976a0",
   "metadata": {},
   "outputs": [
    {
     "data": {
      "text/plain": [
       "array(['Тюмень', 'Омск', 'Москва', 'Ростов-на-Дону', 'Краснодар',\n",
       "       'Пятигорск', 'Екатеринбург', 'Сочи'], dtype=object)"
      ]
     },
     "execution_count": 18,
     "metadata": {},
     "output_type": "execute_result"
    }
   ],
   "source": [
    "users['city'].unique()"
   ]
  },
  {
   "cell_type": "markdown",
   "id": "ac959e02",
   "metadata": {},
   "source": [
    "Неявные дубликаты отсутствуют. Заодно мы увидели из каких городов собраны данные, это 8 городов: Тюмень, Омск, Москва, Ростов-на-Дону, Краснодар,Пятигорск,Екатеринбург,Сочи.\n",
    "\n",
    "Проверим на неявные дубликаты столбцец с именем также путем анализа перечня уникальных значений в столбце"
   ]
  },
  {
   "cell_type": "code",
   "execution_count": 19,
   "id": "24498db9",
   "metadata": {},
   "outputs": [
    {
     "data": {
      "text/plain": [
       "array(['Кира', 'Станислав', 'Алексей', 'Константин', 'Адель', 'Регина',\n",
       "       'Игорь', 'Юрий', 'Ян', 'Валерий', 'Агата', 'Марк', 'Ева',\n",
       "       'Антонина', 'Валерия', 'Амалия', 'Даниил', 'Аделина', 'Святогор',\n",
       "       'Борис', 'Вероника', 'Ростислав', 'Назар', 'Эдуард', 'Василий',\n",
       "       'Денис', 'Тамара', 'Николай', 'Эвелина', 'Федор', 'Руслан', 'Иван',\n",
       "       'Любовь', 'Ярослава', 'Майя', 'Ильдар', 'Данила', 'Нина',\n",
       "       'Стефания', 'Ясмина', 'Дмитрий', 'Александр', 'Одиссей', 'Арсений',\n",
       "       'Алла', 'Таисия', 'Максим', 'Юлиана', 'Павел', 'Карина', 'Алиса',\n",
       "       'Лидия', 'Рамиль', 'Родион', 'Ника', 'Оксана', 'Анастасия',\n",
       "       'Маргарита', 'Вера', 'Тимур', 'Никита', 'Лев', 'Влад', 'Артур',\n",
       "       'Анна', 'Ольга', 'Вячеслав', 'Ксения', 'Виталина', 'Владислав',\n",
       "       'Тамерлан', 'Амина', 'Вадим', 'Олеся', 'Зарина', 'Егор', 'Гордей',\n",
       "       'Лилия', 'Святослав', 'Роберт', 'Амир', 'Влада', 'Богдан',\n",
       "       'Полина', 'Марат', 'Елисей', 'Макар', 'Алина', 'Глеб', 'Андрей',\n",
       "       'Альбина', 'Людмила', 'Марсель', 'Милена', 'Диана', 'Дарина',\n",
       "       'Данил', 'Артемий', 'Лиана', 'Альберт', 'Герман', 'Жанна', 'Нелли',\n",
       "       'Евгения', 'Ариана', 'Самира', 'Захар', 'Эльвира', 'Екатерина',\n",
       "       'Инна', 'Демид', 'Яна', 'Михаил', 'Татьяна', 'Степан', 'Мелания',\n",
       "       'Тимофей', 'Ирина', 'Анжелика', 'Владислава', 'Елизавета',\n",
       "       'Мадина', 'Снежана', 'Даниэль', 'Рустам', 'Каролина', 'Ангелина',\n",
       "       'Владимир', 'Виктория', 'Валентина', 'Семен', 'Арина', 'Лариса',\n",
       "       'Есения', 'Галина', 'Кирилл', 'Игнат', 'Виталий', 'Эмилия',\n",
       "       'Виолетта', 'Яромир', 'Софья', 'Мирослава', 'Евгений', 'Варвара',\n",
       "       'Платон', 'Наталия', 'Анатолий', 'Кристина', 'Всеволод', 'Дарья',\n",
       "       'Наташа', 'Мария', 'Марина', 'Василиса', 'Юлия', 'Илья', 'Злата',\n",
       "       'Роман', 'Наталья', 'Элина', 'Арсен', 'Айдар', 'Алия', 'Виктор',\n",
       "       'Мирон', 'Ульяна', 'Георгий', 'Петр', 'Эльмира', 'Олег', 'Дамир',\n",
       "       'Самир', 'Ярослав', 'Камилла', 'Сергей', 'Эмиль', 'Радмир',\n",
       "       'Савелий', 'Елена', 'Антон', 'Мирослав', 'София', 'Тихон', 'Артём',\n",
       "       'Давид', 'Григорий', 'Алёна', 'Светлана', 'Леонид', 'Александра',\n",
       "       'Василина', 'Милана', 'Матвей'], dtype=object)"
      ]
     },
     "execution_count": 19,
     "metadata": {},
     "output_type": "execute_result"
    }
   ],
   "source": [
    "users['name'].unique()"
   ]
  },
  {
   "cell_type": "markdown",
   "id": "77dbdeea",
   "metadata": {},
   "source": [
    "На первый взгляд неявных дубликатов имен нет (например, из-за написания не с заглавной буквы). Возможны дубликаты из-за написания имен Алёна и Артём через е и ё, поэтому на всякий случай произведем замену е на ё в таких именах. Также возможны неявные дубликаты из-за написания неофициального  имени: например, Наташа, но т.к. мы не можем определить полное от него будет Наталья или Наталия, то данное имя менять не будем.\n",
    "\n",
    "Произведем замену и проверим не появились ли после этого дубликаты строк"
   ]
  },
  {
   "cell_type": "code",
   "execution_count": 20,
   "id": "68ab8cf4",
   "metadata": {},
   "outputs": [
    {
     "data": {
      "text/plain": [
       "0"
      ]
     },
     "execution_count": 20,
     "metadata": {},
     "output_type": "execute_result"
    }
   ],
   "source": [
    "#замена е на ё в заданых именах\n",
    "user = users.apply(lambda x: x.replace({'Алена':'Алёна', 'Артем':'Артём'}, regex=True))\n",
    "#кол-во дубликатов строк\n",
    "users.duplicated().sum()"
   ]
  },
  {
   "cell_type": "markdown",
   "id": "b6ee57ba",
   "metadata": {},
   "source": [
    "Т.о. мы избавились от дубликатов в наших данных. Данные предоставлены без указания мобильных номеров, дубликаты могли быть получены вследствие регистрации одного и того же пользователя, но с разными номерами телефона. В противном случае, требуется доработка приложения, чтобы исключить возможность одного и того же пользователя регистрироваться несколько раз. "
   ]
  },
  {
   "cell_type": "markdown",
   "id": "49a93ad5",
   "metadata": {},
   "source": [
    "**Вывод по шагу 2**:\n",
    "\n",
    "Проведена предобработка предоставленных данных:\n",
    " - все столбцы преведены к корректному типу данных,\n",
    " - пропущенные данные отсутствуют,\n",
    " - проведена работа по выявлению явных и неявных дубликтов, в результате которой а файле с пользователями были удалены дубликаты строк (31 строка). \n",
    "\n",
    "Данные предоставлены без указания мобильных номеров, дубликаты могли быть получены вследствие регистрации одного и того же пользователя, но с разными номерами телефона. В противном случае, требуется доработка приложения, чтобы исключить возможность одного и того же пользователя регистрироваться несколько раз. \n"
   ]
  },
  {
   "cell_type": "markdown",
   "id": "212593c7",
   "metadata": {},
   "source": [
    "## Исследовательский анализ данных"
   ]
  },
  {
   "cell_type": "markdown",
   "id": "329ca1f3",
   "metadata": {},
   "source": [
    "Опишем и визуализируем общую информацию о пользователях и поездках"
   ]
  },
  {
   "cell_type": "markdown",
   "id": "89e90c0d",
   "metadata": {},
   "source": [
    "### Частота встречаемости городов"
   ]
  },
  {
   "cell_type": "markdown",
   "id": "b7011aec",
   "metadata": {},
   "source": [
    "Рассмотрим распределение пользователей по городам: постороим гистограмму и оценим кол-во по долям"
   ]
  },
  {
   "cell_type": "code",
   "execution_count": 21,
   "id": "18a01667",
   "metadata": {},
   "outputs": [
    {
     "data": {
      "image/png": "[encoded data removed]",
      "text/plain": [
       "<Figure size 288x288 with 1 Axes>"
      ]
     },
     "metadata": {
      "needs_background": "light"
     },
     "output_type": "display_data"
    }
   ],
   "source": [
    "# частота распределения данных по городам\n",
    "users.groupby('city')['city'].count().sort_values(ascending=False)\\\n",
    ".plot(kind='bar',title='Распределение кол-ва пользователей по городам',figsize=(4,4),grid=True);\n",
    "plt.ylabel('Кол-во пользователей', fontsize=12);\n",
    "plt.xlabel('Город', fontsize=12);"
   ]
  },
  {
   "cell_type": "code",
   "execution_count": 22,
   "id": "1db1f242",
   "metadata": {},
   "outputs": [
    {
     "data": {
      "text/plain": [
       "city\n",
       "Пятигорск        14.00\n",
       "Екатеринбург     13.00\n",
       "Краснодар        13.00\n",
       "Ростов-на-Дону   13.00\n",
       "Омск             12.00\n",
       "Сочи             12.00\n",
       "Тюмень           12.00\n",
       "Москва           11.00\n",
       "Name: city, dtype: float64"
      ]
     },
     "execution_count": 22,
     "metadata": {},
     "output_type": "execute_result"
    }
   ],
   "source": [
    "#частота в процентном выражении\n",
    "round(users.groupby('city')['city'].count()*100/len(users['city']),).sort_values(ascending=False)"
   ]
  },
  {
   "cell_type": "markdown",
   "id": "2e065f85",
   "metadata": {},
   "source": [
    "Данные собраны из 8 городов: Тюмень, Омск, Москва, Ростов-на-Дону, Краснодар,Пятигорск,Екатеринбург,Сочи. Города в данных представлены примерно в одинаковом кол-ве пользователей, при этом максимальное кол-во - в Пятигорске(14%), минимальное - в Москве(11%)."
   ]
  },
  {
   "cell_type": "markdown",
   "id": "cfa12364",
   "metadata": {},
   "source": [
    "### Соотношение пользователей с подпиской и без подписки"
   ]
  },
  {
   "cell_type": "markdown",
   "id": "230d2ae0",
   "metadata": {},
   "source": [
    "Оценим распределение кол-ва пользователей с подпиской и без: построим круговую диаграмму и оценим доли каждой группы"
   ]
  },
  {
   "cell_type": "code",
   "execution_count": 23,
   "id": "b938c2ba",
   "metadata": {},
   "outputs": [],
   "source": [
    "#функция для построения круговой диаграммы с подписью долей\n",
    "def pie(data,column,title):\n",
    "    data.groupby(column)[column].count()\\\n",
    ".plot(kind='pie',figsize=(4,4),grid=True,autopct='%.1f%%');\n",
    "    plt.ylabel(' ', fontsize=10);\n",
    "    plt.title(f'Распределение {title} с подпиской и без',fontsize=12)\n",
    "    plt.xlabel('ultra - с подпиской, free - без подписки ', fontsize=10);"
   ]
  },
  {
   "cell_type": "code",
   "execution_count": 24,
   "id": "282d9551",
   "metadata": {},
   "outputs": [
    {
     "data": {
      "image/png": "[encoded data removed]",
      "text/plain": [
       "<Figure size 288x288 with 1 Axes>"
      ]
     },
     "metadata": {},
     "output_type": "display_data"
    }
   ],
   "source": [
    "#выведем круговую диаграмму распеделения кол-ва пользователей с подпиской и без\n",
    "pie(users,'subscription_type','пользователей')"
   ]
  },
  {
   "cell_type": "markdown",
   "id": "c0bf367f",
   "metadata": {},
   "source": [
    "Данные по пользователям с подпиской и без примерно одинаковое, без подписки - чуть больше (54%), чем с подпиской(46%)"
   ]
  },
  {
   "cell_type": "markdown",
   "id": "1e7d81e7",
   "metadata": {},
   "source": [
    "### Возраст пользователей"
   ]
  },
  {
   "cell_type": "markdown",
   "id": "8d12df6c",
   "metadata": {},
   "source": [
    "Оценим распределение пользователей по возрасту (построим гистограмму), выведем статистику по столбцу и построим диаграмму размаха"
   ]
  },
  {
   "cell_type": "code",
   "execution_count": 25,
   "id": "fb5a8e44",
   "metadata": {},
   "outputs": [
    {
     "data": {
      "image/png": "[encoded data removed]",
      "text/plain": [
       "<Figure size 576x576 with 1 Axes>"
      ]
     },
     "metadata": {
      "needs_background": "light"
     },
     "output_type": "display_data"
    }
   ],
   "source": [
    "#столбчатая диаграмма распределения\n",
    "users.groupby('age')['age'].count()\\\n",
    ".plot(kind='bar',title='Распределение пользователей по возрасту',figsize=(8,8),grid=True);\n",
    "plt.ylabel('Кол-во пользователей', fontsize=12);\n",
    "plt.xlabel('Возраст пользователей в годах', fontsize=12);"
   ]
  },
  {
   "cell_type": "code",
   "execution_count": 26,
   "id": "c44bbe9d",
   "metadata": {},
   "outputs": [
    {
     "data": {
      "text/plain": [
       "count   1,534.00\n",
       "mean       24.90\n",
       "std         4.57\n",
       "min        12.00\n",
       "25%        22.00\n",
       "50%        25.00\n",
       "75%        28.00\n",
       "max        43.00\n",
       "Name: age, dtype: float64"
      ]
     },
     "execution_count": 26,
     "metadata": {},
     "output_type": "execute_result"
    }
   ],
   "source": [
    "#вывод статистики по столбцу\n",
    "users['age'].describe()"
   ]
  },
  {
   "cell_type": "code",
   "execution_count": 27,
   "id": "f2a4ad1b",
   "metadata": {},
   "outputs": [
    {
     "data": {
      "image/png": "[encoded data removed]",
      "text/plain": [
       "<Figure size 432x288 with 1 Axes>"
      ]
     },
     "metadata": {
      "needs_background": "light"
     },
     "output_type": "display_data"
    }
   ],
   "source": [
    "users.boxplot(column='age')\n",
    "plt.ylim(10, 45)\n",
    "plt.ylabel('Возраст пользователей, в годах', fontsize=10);\n",
    "plt.title('Диаграмма размаха значений возраста пользователей',fontsize=12);"
   ]
  },
  {
   "cell_type": "markdown",
   "id": "6b4b05e4",
   "metadata": {},
   "source": [
    "Возраст пользователей от 12 до 43 лет, половина данных приходится на возраст от 22 до 28 лет. Медиана приходится на 25 лет и практически равна среднему - распределение очень близко к симметричному, выбросами являются значения возраста 12 лет и 3 значения свыше 37 лет - 38, 39 и 43 года."
   ]
  },
  {
   "cell_type": "markdown",
   "id": "9d6afd62",
   "metadata": {},
   "source": [
    "### Расстояние, которое пользователь преодолел за одну поездку"
   ]
  },
  {
   "cell_type": "markdown",
   "id": "3bb283ec",
   "metadata": {},
   "source": [
    "Выведем статистику по столбцу, гистограмму распределения и диаграмму размаха для оценки выбросов "
   ]
  },
  {
   "cell_type": "code",
   "execution_count": 28,
   "id": "ab9965e8",
   "metadata": {},
   "outputs": [
    {
     "data": {
      "text/plain": [
       "count   18,068.00\n",
       "mean     3,071.00\n",
       "std      1,117.00\n",
       "min          1.00\n",
       "25%      2,543.00\n",
       "50%      3,134.00\n",
       "75%      3,776.00\n",
       "max      7,211.00\n",
       "Name: distance, dtype: float64"
      ]
     },
     "execution_count": 28,
     "metadata": {},
     "output_type": "execute_result"
    }
   ],
   "source": [
    "#вывод статистики по столбцу\n",
    "round(rides['distance'].describe(),)"
   ]
  },
  {
   "cell_type": "code",
   "execution_count": 29,
   "id": "73cda36a",
   "metadata": {},
   "outputs": [
    {
     "data": {
      "image/png": "[encoded data removed]",
      "text/plain": [
       "<Figure size 720x720 with 1 Axes>"
      ]
     },
     "metadata": {
      "needs_background": "light"
     },
     "output_type": "display_data"
    }
   ],
   "source": [
    "#выведем гистограмму \n",
    "rides.plot(y ='distance',title='Распределение значений расстояний за 1 поездку',\\\n",
    "          kind ='hist', ec='black', bins = 50, grid = True,figsize=(10,10),range = (1,7230));\n",
    "plt.ylabel('Кол-во поездок', fontsize=12);\n",
    "plt.xlabel('Расстояние в метрах', fontsize=12);"
   ]
  },
  {
   "cell_type": "code",
   "execution_count": 30,
   "id": "e69c06d7",
   "metadata": {},
   "outputs": [
    {
     "data": {
      "image/png": "[encoded data removed]",
      "text/plain": [
       "<Figure size 432x288 with 1 Axes>"
      ]
     },
     "metadata": {
      "needs_background": "light"
     },
     "output_type": "display_data"
    }
   ],
   "source": [
    "# выведем диаграмму размаха\n",
    "rides.boxplot(column='distance')\n",
    "plt.ylim(0, 7500)\n",
    "plt.ylabel('Расстояние в метрах', fontsize=10);\n",
    "plt.title('Диаграмма размаха значений расстояний',fontsize=12);"
   ]
  },
  {
   "cell_type": "markdown",
   "id": "3a2a8d47",
   "metadata": {},
   "source": [
    "Расстояние в данных представлено диапазоном от 1 до 7 211 м, половина всех значений находятся в промежутке от 2 543 до 3 776 метров, медиана 3 134 м недалека от среднего 3 071 м. Выбросы находятся в пределах примерно до 700 метров и свыше 5500 метров"
   ]
  },
  {
   "cell_type": "markdown",
   "id": "44b0796f",
   "metadata": {},
   "source": [
    "### Продолжительность поездок"
   ]
  },
  {
   "cell_type": "markdown",
   "id": "bd53c338",
   "metadata": {},
   "source": [
    "Выведем статистику по столбцу, гистограмму распределения и диаграмму размаха для оценки выбросов"
   ]
  },
  {
   "cell_type": "code",
   "execution_count": 31,
   "id": "5f15bc9a",
   "metadata": {},
   "outputs": [
    {
     "data": {
      "text/plain": [
       "count   18,068.00\n",
       "mean        17.80\n",
       "std          6.10\n",
       "min          0.50\n",
       "25%         13.60\n",
       "50%         17.70\n",
       "75%         21.70\n",
       "max         40.80\n",
       "Name: duration, dtype: float64"
      ]
     },
     "execution_count": 31,
     "metadata": {},
     "output_type": "execute_result"
    }
   ],
   "source": [
    "#вывод статистики по столбцу\n",
    "round(rides['duration'].describe(),1)"
   ]
  },
  {
   "cell_type": "code",
   "execution_count": 32,
   "id": "1cf96e97",
   "metadata": {},
   "outputs": [
    {
     "data": {
      "image/png": "[encoded data removed]",
      "text/plain": [
       "<Figure size 720x720 with 1 Axes>"
      ]
     },
     "metadata": {
      "needs_background": "light"
     },
     "output_type": "display_data"
    }
   ],
   "source": [
    "#выведем гистограмму \n",
    "rides.plot(y ='duration',title='Распределение продолжительности поездок',\\\n",
    "          kind ='hist', ec='black', bins = 50, grid = True,figsize=(10,10),range = (0,45));\n",
    "plt.ylabel('Кол-во поездок', fontsize=12);\n",
    "plt.xlabel('Время поездки в минутах', fontsize=12);"
   ]
  },
  {
   "cell_type": "code",
   "execution_count": 33,
   "id": "0b064b21",
   "metadata": {},
   "outputs": [
    {
     "data": {
      "image/png": "[encoded data removed]",
      "text/plain": [
       "<Figure size 432x288 with 1 Axes>"
      ]
     },
     "metadata": {
      "needs_background": "light"
     },
     "output_type": "display_data"
    }
   ],
   "source": [
    "# выведем диаграмму размаха\n",
    "rides.boxplot(column='duration')\n",
    "plt.ylim(0, 45)\n",
    "plt.ylabel('Время поездки в минутах', fontsize=10);\n",
    "plt.title('Диаграмма размаха значений времени поездки',fontsize=12);"
   ]
  },
  {
   "cell_type": "markdown",
   "id": "b275507a",
   "metadata": {},
   "source": [
    "Продолжительность поездок в интервале от полуминуты до 41 минуты, более половины в интервале от 14 до 22 минут. Медиана и среднее практически совпадают (около 18 минут), распределение значений приближено к симметричному. Выбросами являются значения менее 2-х минут и свыше 34 минут"
   ]
  },
  {
   "cell_type": "markdown",
   "id": "f2de300c",
   "metadata": {},
   "source": [
    "**Вывод по шагу 2**:\n",
    "\n",
    "Исследовательский анализ данных показал следующее:\n",
    " - Данные собраны их 8 городов: Тюмень, Омск, Москва, Ростов-на-Дону, Краснодар,Пятигорск,Екатеринбург,Сочи. Города в данных представлены примерно в одинаковом кол-ве пользователей, при этом максимальное кол-во - в Пятигорске(14%), минимальное - в Москве(11%).\n",
    " - Данные по пользователям с подпиской и без примерно одинаковое, без подписки - чуть больше (54%), чем с подпиской(46%).\n",
    " - Возраст пользователей от 12 до 43 лет, половина данных приходится на возраст от 22 до 28 лет. Медиана приходится на 25 лет и практически равна среднему - распределение очень близко к симметричному, выбросами являются значения возраста 12 лет  и 3 значения свыше 37 лет - 38, 39 и 43 года.\n",
    " - Расстояние в данных представлено диапазоном от 1 до 7 211 м, половина всех значений находятся в промежутке от 2 543 до 3 776 метров, медиана 3 134 м недалека от среднего 3 071 м. Выбросы находятся в пределах примерно до 700 метров и свыше 5500 метров.\n",
    " - Продолжительность поездок в интервале от полуминуты до 41 минуты, более половины в интервале от 14 до 22 минут. Медиана и среднее практически совпадают (около 18 минут), распределение значений приближено к симметричному. Выбросами являются значения менее 2-х минут и свыше 34 минут.\n"
   ]
  },
  {
   "cell_type": "markdown",
   "id": "4ef51331",
   "metadata": {},
   "source": [
    "## Объединение данных"
   ]
  },
  {
   "cell_type": "markdown",
   "id": "f861aa53",
   "metadata": {},
   "source": [
    "### Объединение всех данных в один файл"
   ]
  },
  {
   "cell_type": "markdown",
   "id": "63f84048",
   "metadata": {},
   "source": [
    "Объединим данные из всех 3-х файлов в один датафрейм с названием data и выведем 5 любых строк этого датафрейма для проверки"
   ]
  },
  {
   "cell_type": "code",
   "execution_count": 34,
   "id": "5c0eac35",
   "metadata": {},
   "outputs": [
    {
     "data": {
      "text/html": [
       "<div>\n",
       "<style scoped>\n",
       "    .dataframe tbody tr th:only-of-type {\n",
       "        vertical-align: middle;\n",
       "    }\n",
       "\n",
       "    .dataframe tbody tr th {\n",
       "        vertical-align: top;\n",
       "    }\n",
       "\n",
       "    .dataframe thead th {\n",
       "        text-align: right;\n",
       "    }\n",
       "</style>\n",
       "<table border=\"1\" class=\"dataframe\">\n",
       "  <thead>\n",
       "    <tr style=\"text-align: right;\">\n",
       "      <th></th>\n",
       "      <th>user_id</th>\n",
       "      <th>name</th>\n",
       "      <th>age</th>\n",
       "      <th>city</th>\n",
       "      <th>subscription_type</th>\n",
       "      <th>distance</th>\n",
       "      <th>duration</th>\n",
       "      <th>date</th>\n",
       "      <th>month</th>\n",
       "      <th>minute_price</th>\n",
       "      <th>start_ride_price</th>\n",
       "      <th>subscription_fee</th>\n",
       "    </tr>\n",
       "  </thead>\n",
       "  <tbody>\n",
       "    <tr>\n",
       "      <th>6019</th>\n",
       "      <td>645</td>\n",
       "      <td>Олеся</td>\n",
       "      <td>36</td>\n",
       "      <td>Краснодар</td>\n",
       "      <td>ultra</td>\n",
       "      <td>2,560.00</td>\n",
       "      <td>10.10</td>\n",
       "      <td>2021-01-25</td>\n",
       "      <td>1</td>\n",
       "      <td>6</td>\n",
       "      <td>0</td>\n",
       "      <td>199</td>\n",
       "    </tr>\n",
       "    <tr>\n",
       "      <th>15860</th>\n",
       "      <td>1380</td>\n",
       "      <td>Михаил</td>\n",
       "      <td>26</td>\n",
       "      <td>Омск</td>\n",
       "      <td>free</td>\n",
       "      <td>2,683.00</td>\n",
       "      <td>9.70</td>\n",
       "      <td>2021-11-25</td>\n",
       "      <td>11</td>\n",
       "      <td>8</td>\n",
       "      <td>50</td>\n",
       "      <td>0</td>\n",
       "    </tr>\n",
       "    <tr>\n",
       "      <th>4744</th>\n",
       "      <td>511</td>\n",
       "      <td>Тамерлан</td>\n",
       "      <td>24</td>\n",
       "      <td>Екатеринбург</td>\n",
       "      <td>ultra</td>\n",
       "      <td>3,401.00</td>\n",
       "      <td>23.70</td>\n",
       "      <td>2021-03-25</td>\n",
       "      <td>3</td>\n",
       "      <td>6</td>\n",
       "      <td>0</td>\n",
       "      <td>199</td>\n",
       "    </tr>\n",
       "    <tr>\n",
       "      <th>13324</th>\n",
       "      <td>1199</td>\n",
       "      <td>Константин</td>\n",
       "      <td>18</td>\n",
       "      <td>Пятигорск</td>\n",
       "      <td>free</td>\n",
       "      <td>3,372.00</td>\n",
       "      <td>20.20</td>\n",
       "      <td>2021-11-11</td>\n",
       "      <td>11</td>\n",
       "      <td>8</td>\n",
       "      <td>50</td>\n",
       "      <td>0</td>\n",
       "    </tr>\n",
       "    <tr>\n",
       "      <th>5664</th>\n",
       "      <td>604</td>\n",
       "      <td>Лидия</td>\n",
       "      <td>32</td>\n",
       "      <td>Сочи</td>\n",
       "      <td>ultra</td>\n",
       "      <td>2,936.00</td>\n",
       "      <td>16.70</td>\n",
       "      <td>2021-06-25</td>\n",
       "      <td>6</td>\n",
       "      <td>6</td>\n",
       "      <td>0</td>\n",
       "      <td>199</td>\n",
       "    </tr>\n",
       "  </tbody>\n",
       "</table>\n",
       "</div>"
      ],
      "text/plain": [
       "       user_id        name  age          city subscription_type  distance  \\\n",
       "6019       645       Олеся   36     Краснодар             ultra  2,560.00   \n",
       "15860     1380      Михаил   26          Омск              free  2,683.00   \n",
       "4744       511    Тамерлан   24  Екатеринбург             ultra  3,401.00   \n",
       "13324     1199  Константин   18     Пятигорск              free  3,372.00   \n",
       "5664       604       Лидия   32          Сочи             ultra  2,936.00   \n",
       "\n",
       "       duration       date  month  minute_price  start_ride_price  \\\n",
       "6019      10.10 2021-01-25      1             6                 0   \n",
       "15860      9.70 2021-11-25     11             8                50   \n",
       "4744      23.70 2021-03-25      3             6                 0   \n",
       "13324     20.20 2021-11-11     11             8                50   \n",
       "5664      16.70 2021-06-25      6             6                 0   \n",
       "\n",
       "       subscription_fee  \n",
       "6019                199  \n",
       "15860                 0  \n",
       "4744                199  \n",
       "13324                 0  \n",
       "5664                199  "
      ]
     },
     "execution_count": 34,
     "metadata": {},
     "output_type": "execute_result"
    }
   ],
   "source": [
    "# присвоим датафрейму users название data\n",
    "data = users\n",
    "# объединим данные по пользователям и поездкам\n",
    "data = data.merge(rides, on=['user_id'], how='outer')\n",
    "# далее объединим с подписками\n",
    "data = data.merge(subscriptions, on=['subscription_type'],how='outer')\n",
    "# выведем 5 любых строк нового датафрейма\n",
    "data.sample(5)"
   ]
  },
  {
   "cell_type": "markdown",
   "id": "c52a1850",
   "metadata": {},
   "source": [
    "Данные были успешно объединены, все столбцы вошли, данным с типом подписки соответствуют корректные данные о стоимостях. Индексация должна соответствовать индексации той таблицы, в которой было больше всего строк - таблице о поездках.\n",
    "\n",
    "Посмотрим общую информацию о полученном датафрейме"
   ]
  },
  {
   "cell_type": "code",
   "execution_count": 35,
   "id": "5593fbed",
   "metadata": {},
   "outputs": [
    {
     "name": "stdout",
     "output_type": "stream",
     "text": [
      "<class 'pandas.core.frame.DataFrame'>\n",
      "Int64Index: 18068 entries, 0 to 18067\n",
      "Data columns (total 12 columns):\n",
      " #   Column             Non-Null Count  Dtype         \n",
      "---  ------             --------------  -----         \n",
      " 0   user_id            18068 non-null  int64         \n",
      " 1   name               18068 non-null  object        \n",
      " 2   age                18068 non-null  int64         \n",
      " 3   city               18068 non-null  object        \n",
      " 4   subscription_type  18068 non-null  object        \n",
      " 5   distance           18068 non-null  float64       \n",
      " 6   duration           18068 non-null  float64       \n",
      " 7   date               18068 non-null  datetime64[ns]\n",
      " 8   month              18068 non-null  int64         \n",
      " 9   minute_price       18068 non-null  int64         \n",
      " 10  start_ride_price   18068 non-null  int64         \n",
      " 11  subscription_fee   18068 non-null  int64         \n",
      "dtypes: datetime64[ns](1), float64(2), int64(6), object(3)\n",
      "memory usage: 1.8+ MB\n"
     ]
    }
   ],
   "source": [
    "# выведем информацию о полученном датафрейме\n",
    "data.info()"
   ]
  },
  {
   "cell_type": "markdown",
   "id": "22189d1e",
   "metadata": {},
   "source": [
    "Кол-во строк 18068 ( как было в таблице с самым большим кол-вом строк - о поездках), типы данных корректные, пропуски отсутствуют."
   ]
  },
  {
   "cell_type": "markdown",
   "id": "9be3d403",
   "metadata": {},
   "source": [
    "### Разделение данных с учетом наличия подписки"
   ]
  },
  {
   "cell_type": "markdown",
   "id": "1ef0bbfc",
   "metadata": {},
   "source": [
    "Создадим 2 отдельных датафрейма на пользователей с подпиской и без (соответственно data_yes и  data_no).\n",
    "Выведем по 5 любых строк каждого датафрейма для проверки корректности распределения - с подпиской и без подписки"
   ]
  },
  {
   "cell_type": "code",
   "execution_count": 36,
   "id": "15185ef6",
   "metadata": {},
   "outputs": [
    {
     "data": {
      "text/html": [
       "<div>\n",
       "<style scoped>\n",
       "    .dataframe tbody tr th:only-of-type {\n",
       "        vertical-align: middle;\n",
       "    }\n",
       "\n",
       "    .dataframe tbody tr th {\n",
       "        vertical-align: top;\n",
       "    }\n",
       "\n",
       "    .dataframe thead th {\n",
       "        text-align: right;\n",
       "    }\n",
       "</style>\n",
       "<table border=\"1\" class=\"dataframe\">\n",
       "  <thead>\n",
       "    <tr style=\"text-align: right;\">\n",
       "      <th></th>\n",
       "      <th>user_id</th>\n",
       "      <th>name</th>\n",
       "      <th>age</th>\n",
       "      <th>city</th>\n",
       "      <th>subscription_type</th>\n",
       "      <th>distance</th>\n",
       "      <th>duration</th>\n",
       "      <th>date</th>\n",
       "      <th>month</th>\n",
       "      <th>minute_price</th>\n",
       "      <th>start_ride_price</th>\n",
       "      <th>subscription_fee</th>\n",
       "    </tr>\n",
       "  </thead>\n",
       "  <tbody>\n",
       "    <tr>\n",
       "      <th>2544</th>\n",
       "      <td>270</td>\n",
       "      <td>Егор</td>\n",
       "      <td>26</td>\n",
       "      <td>Тюмень</td>\n",
       "      <td>ultra</td>\n",
       "      <td>4,151.00</td>\n",
       "      <td>14.20</td>\n",
       "      <td>2021-01-08</td>\n",
       "      <td>1</td>\n",
       "      <td>6</td>\n",
       "      <td>0</td>\n",
       "      <td>199</td>\n",
       "    </tr>\n",
       "    <tr>\n",
       "      <th>6050</th>\n",
       "      <td>649</td>\n",
       "      <td>София</td>\n",
       "      <td>34</td>\n",
       "      <td>Пятигорск</td>\n",
       "      <td>ultra</td>\n",
       "      <td>3,931.00</td>\n",
       "      <td>34.60</td>\n",
       "      <td>2021-06-14</td>\n",
       "      <td>6</td>\n",
       "      <td>6</td>\n",
       "      <td>0</td>\n",
       "      <td>199</td>\n",
       "    </tr>\n",
       "    <tr>\n",
       "      <th>3060</th>\n",
       "      <td>328</td>\n",
       "      <td>Данил</td>\n",
       "      <td>35</td>\n",
       "      <td>Пятигорск</td>\n",
       "      <td>ultra</td>\n",
       "      <td>2,971.00</td>\n",
       "      <td>11.10</td>\n",
       "      <td>2021-08-03</td>\n",
       "      <td>8</td>\n",
       "      <td>6</td>\n",
       "      <td>0</td>\n",
       "      <td>199</td>\n",
       "    </tr>\n",
       "    <tr>\n",
       "      <th>3228</th>\n",
       "      <td>349</td>\n",
       "      <td>Федор</td>\n",
       "      <td>25</td>\n",
       "      <td>Сочи</td>\n",
       "      <td>ultra</td>\n",
       "      <td>3,544.00</td>\n",
       "      <td>18.80</td>\n",
       "      <td>2021-05-07</td>\n",
       "      <td>5</td>\n",
       "      <td>6</td>\n",
       "      <td>0</td>\n",
       "      <td>199</td>\n",
       "    </tr>\n",
       "    <tr>\n",
       "      <th>6186</th>\n",
       "      <td>663</td>\n",
       "      <td>Евгения</td>\n",
       "      <td>24</td>\n",
       "      <td>Москва</td>\n",
       "      <td>ultra</td>\n",
       "      <td>2,994.00</td>\n",
       "      <td>12.40</td>\n",
       "      <td>2021-12-24</td>\n",
       "      <td>12</td>\n",
       "      <td>6</td>\n",
       "      <td>0</td>\n",
       "      <td>199</td>\n",
       "    </tr>\n",
       "  </tbody>\n",
       "</table>\n",
       "</div>"
      ],
      "text/plain": [
       "      user_id     name  age       city subscription_type  distance  duration  \\\n",
       "2544      270     Егор   26     Тюмень             ultra  4,151.00     14.20   \n",
       "6050      649    София   34  Пятигорск             ultra  3,931.00     34.60   \n",
       "3060      328    Данил   35  Пятигорск             ultra  2,971.00     11.10   \n",
       "3228      349    Федор   25       Сочи             ultra  3,544.00     18.80   \n",
       "6186      663  Евгения   24     Москва             ultra  2,994.00     12.40   \n",
       "\n",
       "           date  month  minute_price  start_ride_price  subscription_fee  \n",
       "2544 2021-01-08      1             6                 0               199  \n",
       "6050 2021-06-14      6             6                 0               199  \n",
       "3060 2021-08-03      8             6                 0               199  \n",
       "3228 2021-05-07      5             6                 0               199  \n",
       "6186 2021-12-24     12             6                 0               199  "
      ]
     },
     "execution_count": 36,
     "metadata": {},
     "output_type": "execute_result"
    }
   ],
   "source": [
    "# создадим таблицу с пользователями с подпиской\n",
    "data_yes = data.query('subscription_type==\"ultra\"')\n",
    "data_yes.sample(5)"
   ]
  },
  {
   "cell_type": "code",
   "execution_count": 37,
   "id": "4072bbc0",
   "metadata": {},
   "outputs": [
    {
     "data": {
      "text/html": [
       "<div>\n",
       "<style scoped>\n",
       "    .dataframe tbody tr th:only-of-type {\n",
       "        vertical-align: middle;\n",
       "    }\n",
       "\n",
       "    .dataframe tbody tr th {\n",
       "        vertical-align: top;\n",
       "    }\n",
       "\n",
       "    .dataframe thead th {\n",
       "        text-align: right;\n",
       "    }\n",
       "</style>\n",
       "<table border=\"1\" class=\"dataframe\">\n",
       "  <thead>\n",
       "    <tr style=\"text-align: right;\">\n",
       "      <th></th>\n",
       "      <th>user_id</th>\n",
       "      <th>name</th>\n",
       "      <th>age</th>\n",
       "      <th>city</th>\n",
       "      <th>subscription_type</th>\n",
       "      <th>distance</th>\n",
       "      <th>duration</th>\n",
       "      <th>date</th>\n",
       "      <th>month</th>\n",
       "      <th>minute_price</th>\n",
       "      <th>start_ride_price</th>\n",
       "      <th>subscription_fee</th>\n",
       "    </tr>\n",
       "  </thead>\n",
       "  <tbody>\n",
       "    <tr>\n",
       "      <th>14442</th>\n",
       "      <td>1275</td>\n",
       "      <td>Виталина</td>\n",
       "      <td>26</td>\n",
       "      <td>Тюмень</td>\n",
       "      <td>free</td>\n",
       "      <td>3,015.00</td>\n",
       "      <td>18.20</td>\n",
       "      <td>2021-06-21</td>\n",
       "      <td>6</td>\n",
       "      <td>8</td>\n",
       "      <td>50</td>\n",
       "      <td>0</td>\n",
       "    </tr>\n",
       "    <tr>\n",
       "      <th>14112</th>\n",
       "      <td>1252</td>\n",
       "      <td>Нелли</td>\n",
       "      <td>31</td>\n",
       "      <td>Краснодар</td>\n",
       "      <td>free</td>\n",
       "      <td>3,063.00</td>\n",
       "      <td>16.00</td>\n",
       "      <td>2021-10-08</td>\n",
       "      <td>10</td>\n",
       "      <td>8</td>\n",
       "      <td>50</td>\n",
       "      <td>0</td>\n",
       "    </tr>\n",
       "    <tr>\n",
       "      <th>15735</th>\n",
       "      <td>1372</td>\n",
       "      <td>Святослав</td>\n",
       "      <td>28</td>\n",
       "      <td>Краснодар</td>\n",
       "      <td>free</td>\n",
       "      <td>3,060.00</td>\n",
       "      <td>21.50</td>\n",
       "      <td>2021-04-20</td>\n",
       "      <td>4</td>\n",
       "      <td>8</td>\n",
       "      <td>50</td>\n",
       "      <td>0</td>\n",
       "    </tr>\n",
       "    <tr>\n",
       "      <th>17268</th>\n",
       "      <td>1478</td>\n",
       "      <td>Роберт</td>\n",
       "      <td>21</td>\n",
       "      <td>Пятигорск</td>\n",
       "      <td>free</td>\n",
       "      <td>2,117.00</td>\n",
       "      <td>13.80</td>\n",
       "      <td>2021-12-30</td>\n",
       "      <td>12</td>\n",
       "      <td>8</td>\n",
       "      <td>50</td>\n",
       "      <td>0</td>\n",
       "    </tr>\n",
       "    <tr>\n",
       "      <th>13974</th>\n",
       "      <td>1243</td>\n",
       "      <td>Эдуард</td>\n",
       "      <td>31</td>\n",
       "      <td>Москва</td>\n",
       "      <td>free</td>\n",
       "      <td>3,826.00</td>\n",
       "      <td>20.70</td>\n",
       "      <td>2021-04-07</td>\n",
       "      <td>4</td>\n",
       "      <td>8</td>\n",
       "      <td>50</td>\n",
       "      <td>0</td>\n",
       "    </tr>\n",
       "  </tbody>\n",
       "</table>\n",
       "</div>"
      ],
      "text/plain": [
       "       user_id       name  age       city subscription_type  distance  \\\n",
       "14442     1275   Виталина   26     Тюмень              free  3,015.00   \n",
       "14112     1252      Нелли   31  Краснодар              free  3,063.00   \n",
       "15735     1372  Святослав   28  Краснодар              free  3,060.00   \n",
       "17268     1478     Роберт   21  Пятигорск              free  2,117.00   \n",
       "13974     1243     Эдуард   31     Москва              free  3,826.00   \n",
       "\n",
       "       duration       date  month  minute_price  start_ride_price  \\\n",
       "14442     18.20 2021-06-21      6             8                50   \n",
       "14112     16.00 2021-10-08     10             8                50   \n",
       "15735     21.50 2021-04-20      4             8                50   \n",
       "17268     13.80 2021-12-30     12             8                50   \n",
       "13974     20.70 2021-04-07      4             8                50   \n",
       "\n",
       "       subscription_fee  \n",
       "14442                 0  \n",
       "14112                 0  \n",
       "15735                 0  \n",
       "17268                 0  \n",
       "13974                 0  "
      ]
     },
     "execution_count": 37,
     "metadata": {},
     "output_type": "execute_result"
    }
   ],
   "source": [
    "# создадим таблицу с пользователями без подписки\n",
    "data_no = data.query('subscription_type==\"free\"')\n",
    "data_no.sample(5)"
   ]
  },
  {
   "cell_type": "markdown",
   "id": "4318361d",
   "metadata": {},
   "source": [
    "Таблицы созданы корректно"
   ]
  },
  {
   "cell_type": "markdown",
   "id": "9f3ae61a",
   "metadata": {},
   "source": [
    "### Информация о расстоянии и времени поездок для пользователей обеих категорий"
   ]
  },
  {
   "cell_type": "markdown",
   "id": "b5a01542",
   "metadata": {},
   "source": [
    "Проанализируем расстояние  для пользователей с подпиской и без подписки: постороим график распределения расстояния и диаграмму размаха, а также выведем статистику расстояния"
   ]
  },
  {
   "cell_type": "code",
   "execution_count": 38,
   "id": "cadefd6b",
   "metadata": {},
   "outputs": [],
   "source": [
    "# функция для построения гистаграммы двух таблиц на одном графике\n",
    "def plots(column,range,xlabel,title):\n",
    "    \n",
    "    ax = data_yes.plot(\n",
    "     kind='hist',\n",
    "     y=column,\n",
    "     histtype='step',\n",
    "     range=range,\n",
    "     bins=50,\n",
    "     linewidth=5,\n",
    "     alpha=0.7,\n",
    "     label='для пользователей с подпиской',\n",
    "     );\n",
    "    \n",
    "    data_no.plot(\n",
    "     kind='hist',\n",
    "     y=column,\n",
    "     histtype='step',\n",
    "     range=range,\n",
    "     bins=50,\n",
    "     linewidth=5,\n",
    "     alpha=0.7,\n",
    "     label='для пользователей без подписки',\n",
    "     ax=ax,\n",
    "     grid=True,\n",
    "     legend=True,\n",
    "      );\n",
    "    plt.ylabel('Кол-во поездок', fontsize=12);\n",
    "    plt.xlabel(xlabel, fontsize=12);\n",
    "    plt.title(title,fontsize=12);"
   ]
  },
  {
   "cell_type": "code",
   "execution_count": 39,
   "id": "1069e5ce",
   "metadata": {},
   "outputs": [
    {
     "data": {
      "image/png": "[encoded data removed]",
      "text/plain": [
       "<Figure size 432x288 with 1 Axes>"
      ]
     },
     "metadata": {
      "needs_background": "light"
     },
     "output_type": "display_data"
    }
   ],
   "source": [
    "# построим гистаграмму двух таблиц на одном графике\n",
    "plots('distance',(0, 7000),'Расстояние в метрах','Распределение  значений расстояний')"
   ]
  },
  {
   "cell_type": "code",
   "execution_count": 40,
   "id": "a48ae03e",
   "metadata": {},
   "outputs": [
    {
     "data": {
      "image/png": "[encoded data removed]",
      "text/plain": [
       "<Figure size 576x432 with 1 Axes>"
      ]
     },
     "metadata": {
      "needs_background": "light"
     },
     "output_type": "display_data"
    }
   ],
   "source": [
    "# построим диаграмму размаха на одном графике\n",
    "data.boxplot('distance', by='subscription_type', figsize=(8,6))\n",
    "plt.ylim(0,7000)\n",
    "plt.ylabel('Расстояние в метрах', fontsize=12);\n",
    "plt.xlabel('Без подписки(free) и с подпиской(ultra)', fontsize=12);\n",
    "plt.title('Диаграмма размаха значений расстояний');"
   ]
  },
  {
   "cell_type": "markdown",
   "id": "c38faf24",
   "metadata": {},
   "source": [
    "Выведем статистику расстояний для пользователей с подпиской и без подписки"
   ]
  },
  {
   "cell_type": "code",
   "execution_count": 41,
   "id": "0b4a5774",
   "metadata": {},
   "outputs": [],
   "source": [
    "#создадим список метрик статистики describe\n",
    "metr = ['count','mean','std','min','25%','50%','75%','max']\n",
    "\n",
    "#функция для объединения статистики по значению в разрезе  \"с подпиской и без\" в одну таблицу\n",
    "def dataframe(column):\n",
    "    describe = pd.DataFrame(zip(metr,round(data_yes[column].describe(),),\\\n",
    "                            round(data_no[column].describe(),)),\\\n",
    "            columns=['metrics','Ultra','Free'])\n",
    "    return describe"
   ]
  },
  {
   "cell_type": "code",
   "execution_count": 42,
   "id": "9725e7d7",
   "metadata": {},
   "outputs": [
    {
     "data": {
      "text/html": [
       "<div>\n",
       "<style scoped>\n",
       "    .dataframe tbody tr th:only-of-type {\n",
       "        vertical-align: middle;\n",
       "    }\n",
       "\n",
       "    .dataframe tbody tr th {\n",
       "        vertical-align: top;\n",
       "    }\n",
       "\n",
       "    .dataframe thead th {\n",
       "        text-align: right;\n",
       "    }\n",
       "</style>\n",
       "<table border=\"1\" class=\"dataframe\">\n",
       "  <thead>\n",
       "    <tr style=\"text-align: right;\">\n",
       "      <th></th>\n",
       "      <th>metrics</th>\n",
       "      <th>Ultra</th>\n",
       "      <th>Free</th>\n",
       "    </tr>\n",
       "  </thead>\n",
       "  <tbody>\n",
       "    <tr>\n",
       "      <th>0</th>\n",
       "      <td>count</td>\n",
       "      <td>6,500.00</td>\n",
       "      <td>11,568.00</td>\n",
       "    </tr>\n",
       "    <tr>\n",
       "      <th>1</th>\n",
       "      <td>mean</td>\n",
       "      <td>3,115.00</td>\n",
       "      <td>3,045.00</td>\n",
       "    </tr>\n",
       "    <tr>\n",
       "      <th>2</th>\n",
       "      <td>std</td>\n",
       "      <td>837.00</td>\n",
       "      <td>1,246.00</td>\n",
       "    </tr>\n",
       "    <tr>\n",
       "      <th>3</th>\n",
       "      <td>min</td>\n",
       "      <td>244.00</td>\n",
       "      <td>1.00</td>\n",
       "    </tr>\n",
       "    <tr>\n",
       "      <th>4</th>\n",
       "      <td>25%</td>\n",
       "      <td>2,785.00</td>\n",
       "      <td>2,367.00</td>\n",
       "    </tr>\n",
       "    <tr>\n",
       "      <th>5</th>\n",
       "      <td>50%</td>\n",
       "      <td>3,149.00</td>\n",
       "      <td>3,115.00</td>\n",
       "    </tr>\n",
       "    <tr>\n",
       "      <th>6</th>\n",
       "      <td>75%</td>\n",
       "      <td>3,561.00</td>\n",
       "      <td>3,906.00</td>\n",
       "    </tr>\n",
       "    <tr>\n",
       "      <th>7</th>\n",
       "      <td>max</td>\n",
       "      <td>5,700.00</td>\n",
       "      <td>7,211.00</td>\n",
       "    </tr>\n",
       "  </tbody>\n",
       "</table>\n",
       "</div>"
      ],
      "text/plain": [
       "  metrics    Ultra      Free\n",
       "0   count 6,500.00 11,568.00\n",
       "1    mean 3,115.00  3,045.00\n",
       "2     std   837.00  1,246.00\n",
       "3     min   244.00      1.00\n",
       "4     25% 2,785.00  2,367.00\n",
       "5     50% 3,149.00  3,115.00\n",
       "6     75% 3,561.00  3,906.00\n",
       "7     max 5,700.00  7,211.00"
      ]
     },
     "execution_count": 42,
     "metadata": {},
     "output_type": "execute_result"
    }
   ],
   "source": [
    "#выведем статистику по подписанным и неподписанным пользователям в разрезе расстояний\n",
    "dataframe('distance')"
   ]
  },
  {
   "cell_type": "markdown",
   "id": "903ce3f9",
   "metadata": {},
   "source": [
    "На основании 2-х графиков и статистики можно утверждать следующее:\n",
    " - по площади гистограммы видно, что кол-во значений расстояний в целом выше у пользователей без подписки, за исключением интервала расстояния от 2800 до примерно 3300 метров - в этом интервале преобладают поездки пользователей с подпиской. Разница в большем кол-ве значений пользователей без подписки может быть связано как с их большим кол-вом в данных (54% от всех данных о пользователях), так и в большем кол-ве поездок пользователей без подписки (проверим далее)\n",
    " - размах значений расстояний у пользователей без подписки шире: не считая выбросов, значения нахдятся в интервале от 0 до примерно 6200 м, в то время как с подпиской - в интервале от 1600 до 4700 м.\n",
    " - из-за выбросов среднее двух категорий различаются более существенно (с подпиской - 3115, без - 3045 метров), чем медианы расстояний (3148 и 3114 м соответственно).\n",
    " \n",
    "Посчитаем кол-во поездок пользователей с подпиской и без в процентах "
   ]
  },
  {
   "cell_type": "code",
   "execution_count": 43,
   "id": "853cbb40",
   "metadata": {},
   "outputs": [
    {
     "data": {
      "image/png": "[encoded data removed]",
      "text/plain": [
       "<Figure size 288x288 with 1 Axes>"
      ]
     },
     "metadata": {},
     "output_type": "display_data"
    }
   ],
   "source": [
    "pie(data,'subscription_type','кол-ва поездок')"
   ]
  },
  {
   "cell_type": "markdown",
   "id": "c5639ad2",
   "metadata": {},
   "source": [
    "Мы видим, что кол-во поездок без подписки почти в 2 раза превышает кол-во поездок с подпиской, вследствие чего при сопоставимых расстояниях поездки площадь распределения расстояний пользователей без подписки на гистограмме больше, чем пользователей с подпиской.\n",
    "\n",
    "\n",
    "Аналогично проанализируем продолжительность поездок для пользователей с подпиской и без подписки: постороим график распределения расстояния и диаграмму размаха, а также выведем статистику расстояния "
   ]
  },
  {
   "cell_type": "code",
   "execution_count": 44,
   "id": "7bbbbe48",
   "metadata": {},
   "outputs": [
    {
     "data": {
      "image/png": "[encoded data removed]",
      "text/plain": [
       "<Figure size 432x288 with 1 Axes>"
      ]
     },
     "metadata": {
      "needs_background": "light"
     },
     "output_type": "display_data"
    }
   ],
   "source": [
    "# построим гистаграмму двух таблиц на одном графике\n",
    "plots('duration',(0, 42),'Длительность в минутах','Распределение значений времени поездок для пользователей')"
   ]
  },
  {
   "cell_type": "code",
   "execution_count": 45,
   "id": "6e94e242",
   "metadata": {},
   "outputs": [
    {
     "data": {
      "image/png": "[encoded data removed]",
      "text/plain": [
       "<Figure size 576x432 with 1 Axes>"
      ]
     },
     "metadata": {
      "needs_background": "light"
     },
     "output_type": "display_data"
    }
   ],
   "source": [
    "# построим диаграмму размаха на одном графике\n",
    "data.boxplot('duration', by='subscription_type', figsize=(8,6))\n",
    "plt.ylim(0,42);\n",
    "plt.ylabel('Время в минутах', fontsize=12);\n",
    "plt.xlabel('Без подписки(free) и с подпиской(ultra)', fontsize=12);\n",
    "plt.title('Диаграмма размаха длительности поездок');"
   ]
  },
  {
   "cell_type": "code",
   "execution_count": 46,
   "id": "feed8117",
   "metadata": {},
   "outputs": [
    {
     "data": {
      "text/html": [
       "<div>\n",
       "<style scoped>\n",
       "    .dataframe tbody tr th:only-of-type {\n",
       "        vertical-align: middle;\n",
       "    }\n",
       "\n",
       "    .dataframe tbody tr th {\n",
       "        vertical-align: top;\n",
       "    }\n",
       "\n",
       "    .dataframe thead th {\n",
       "        text-align: right;\n",
       "    }\n",
       "</style>\n",
       "<table border=\"1\" class=\"dataframe\">\n",
       "  <thead>\n",
       "    <tr style=\"text-align: right;\">\n",
       "      <th></th>\n",
       "      <th>metrics</th>\n",
       "      <th>Ultra</th>\n",
       "      <th>Free</th>\n",
       "    </tr>\n",
       "  </thead>\n",
       "  <tbody>\n",
       "    <tr>\n",
       "      <th>0</th>\n",
       "      <td>count</td>\n",
       "      <td>6,500.00</td>\n",
       "      <td>11,568.00</td>\n",
       "    </tr>\n",
       "    <tr>\n",
       "      <th>1</th>\n",
       "      <td>mean</td>\n",
       "      <td>19.00</td>\n",
       "      <td>17.00</td>\n",
       "    </tr>\n",
       "    <tr>\n",
       "      <th>2</th>\n",
       "      <td>std</td>\n",
       "      <td>6.00</td>\n",
       "      <td>6.00</td>\n",
       "    </tr>\n",
       "    <tr>\n",
       "      <th>3</th>\n",
       "      <td>min</td>\n",
       "      <td>4.00</td>\n",
       "      <td>0.00</td>\n",
       "    </tr>\n",
       "    <tr>\n",
       "      <th>4</th>\n",
       "      <td>25%</td>\n",
       "      <td>14.00</td>\n",
       "      <td>13.00</td>\n",
       "    </tr>\n",
       "    <tr>\n",
       "      <th>5</th>\n",
       "      <td>50%</td>\n",
       "      <td>18.00</td>\n",
       "      <td>17.00</td>\n",
       "    </tr>\n",
       "    <tr>\n",
       "      <th>6</th>\n",
       "      <td>75%</td>\n",
       "      <td>22.00</td>\n",
       "      <td>22.00</td>\n",
       "    </tr>\n",
       "    <tr>\n",
       "      <th>7</th>\n",
       "      <td>max</td>\n",
       "      <td>41.00</td>\n",
       "      <td>35.00</td>\n",
       "    </tr>\n",
       "  </tbody>\n",
       "</table>\n",
       "</div>"
      ],
      "text/plain": [
       "  metrics    Ultra      Free\n",
       "0   count 6,500.00 11,568.00\n",
       "1    mean    19.00     17.00\n",
       "2     std     6.00      6.00\n",
       "3     min     4.00      0.00\n",
       "4     25%    14.00     13.00\n",
       "5     50%    18.00     17.00\n",
       "6     75%    22.00     22.00\n",
       "7     max    41.00     35.00"
      ]
     },
     "execution_count": 46,
     "metadata": {},
     "output_type": "execute_result"
    }
   ],
   "source": [
    "#выведем статистику длительности поездок для пользователей с подпиской и без\n",
    "dataframe('duration')"
   ]
  },
  {
   "cell_type": "markdown",
   "id": "97e97c53",
   "metadata": {},
   "source": [
    "На основании 2-х графиков и статистики можно утверждать следующее:\n",
    " - гистограмма: как мы уже выяснили выше, кол-во поездок пользователей без подписки составляет почти 2/3,\n",
    " - размах значений у пользователей без подписки также немного шире: не считая выбросов, значения находятся в интервале от 0 до примерно 35 минут, в то время как с подпиской - в интервале от 4 до 33 минут.\n",
    " - при этом среднее и медиана времени для пользователей с подпиской и без примерно расходятся примерно на 1 минуту:18 - 18,5 и 17 минут соответственно."
   ]
  },
  {
   "cell_type": "markdown",
   "id": "dfd227dd",
   "metadata": {},
   "source": [
    "**Вывод по шагу 4**:\n",
    "\n",
    "Данные из 3-х файлов с пользователями, поездками и тарифами объединены в один файл.\n",
    "\n",
    "Для анализа возможных различий в проезжаемых пользователями расстояниях и длительности поездок данный файл был разделе на 2 файла - файл с данными о пользователях с подпиской и файл с пользователями без подписок. Напомним, что пользователей без подписки - 54%, с подпиской - 46%. Анализ данных файл показал следующее:\n",
    "\n",
    "1)Расстояние:\n",
    " - кол-во значений расстояний, а соответственно, поездок, в целом выше у пользователей без подписки, за исключением интервала расстояния от 2800 до примерно 3300 метров - в этом интервале преобладают поездки пользователей с подпиской. Разница в большем кол-ве значений пользователей без подписки связано как с их большим кол-вом в данных (54% от всех данных о пользователях), так и в большем кол-ве поездок пользователей без подписки (чуть менее 2/3 всех поездок - поездки пользователей без подписки)\n",
    " - размах значений расстояний у пользователей без подписки шире: не считая выбросов, значения нахдятся в интервале от 0 до примерно 6200 м, в то время как с подпиской - в интервале от 1600 до 4700 м.\n",
    " - из-за выбросов среднее двух категорий различаются более существенно (с подпиской - 3115, без - 3045 метров), чем медианы расстояний (3148 и 3114 м соответственно).\n",
    " \n",
    "2)Продолжительность поездок:\n",
    " - размах значений у пользователей без подписки немного шире: не считая выбросов, значения находятся в интервале от 0 до примерно 35 минут, в то время как с подпиской - в интервале от 4 до 33 минут.\n",
    " - при этом среднее и медиана времени для пользователей с подпиской и без  расходятся примерно на 1 минуту:18 - 18,5 и 17 минуты соответственно."
   ]
  },
  {
   "cell_type": "markdown",
   "id": "402d620f",
   "metadata": {},
   "source": [
    "## Подсчёт выручки"
   ]
  },
  {
   "cell_type": "markdown",
   "id": "4cdc0904",
   "metadata": {},
   "source": [
    "### Агрегированные данные по каждому пользователю"
   ]
  },
  {
   "cell_type": "markdown",
   "id": "03f662e7",
   "metadata": {},
   "source": [
    "Посчитаем совокупную длительность, кол-во и время поездок для каждого пользователя - создадим отдельную таблицу data_user и выведем первые 10 строк этой таблицы.\n",
    "Кроме столбцов из исходной таблицы, в ней будут новые столбцы: rides_count - кол-во поездок,distance_sum - сумма всех расстояний, duration_round_sum - совокупная округленная длительность всех поездок.\n",
    "До этого предварительно создадим еще один столбец duration_round в исходном датафрейме data с округленной в большую сторону продолжительностью каждой поездки"
   ]
  },
  {
   "cell_type": "code",
   "execution_count": 47,
   "id": "6c39ec87",
   "metadata": {},
   "outputs": [
    {
     "data": {
      "text/html": [
       "<div>\n",
       "<style scoped>\n",
       "    .dataframe tbody tr th:only-of-type {\n",
       "        vertical-align: middle;\n",
       "    }\n",
       "\n",
       "    .dataframe tbody tr th {\n",
       "        vertical-align: top;\n",
       "    }\n",
       "\n",
       "    .dataframe thead th {\n",
       "        text-align: right;\n",
       "    }\n",
       "</style>\n",
       "<table border=\"1\" class=\"dataframe\">\n",
       "  <thead>\n",
       "    <tr style=\"text-align: right;\">\n",
       "      <th></th>\n",
       "      <th>user_id</th>\n",
       "      <th>month</th>\n",
       "      <th>subscription_type</th>\n",
       "      <th>minute_price</th>\n",
       "      <th>start_ride_price</th>\n",
       "      <th>subscription_fee</th>\n",
       "      <th>distance_sum</th>\n",
       "      <th>rides_count</th>\n",
       "      <th>duration_round_sum</th>\n",
       "    </tr>\n",
       "  </thead>\n",
       "  <tbody>\n",
       "    <tr>\n",
       "      <th>0</th>\n",
       "      <td>1</td>\n",
       "      <td>1</td>\n",
       "      <td>ultra</td>\n",
       "      <td>6</td>\n",
       "      <td>0</td>\n",
       "      <td>199</td>\n",
       "      <td>7,028.00</td>\n",
       "      <td>2</td>\n",
       "      <td>42.00</td>\n",
       "    </tr>\n",
       "    <tr>\n",
       "      <th>1</th>\n",
       "      <td>1</td>\n",
       "      <td>4</td>\n",
       "      <td>ultra</td>\n",
       "      <td>6</td>\n",
       "      <td>0</td>\n",
       "      <td>199</td>\n",
       "      <td>754.00</td>\n",
       "      <td>1</td>\n",
       "      <td>7.00</td>\n",
       "    </tr>\n",
       "    <tr>\n",
       "      <th>2</th>\n",
       "      <td>1</td>\n",
       "      <td>8</td>\n",
       "      <td>ultra</td>\n",
       "      <td>6</td>\n",
       "      <td>0</td>\n",
       "      <td>199</td>\n",
       "      <td>6,724.00</td>\n",
       "      <td>2</td>\n",
       "      <td>46.00</td>\n",
       "    </tr>\n",
       "    <tr>\n",
       "      <th>3</th>\n",
       "      <td>1</td>\n",
       "      <td>10</td>\n",
       "      <td>ultra</td>\n",
       "      <td>6</td>\n",
       "      <td>0</td>\n",
       "      <td>199</td>\n",
       "      <td>5,810.00</td>\n",
       "      <td>2</td>\n",
       "      <td>32.00</td>\n",
       "    </tr>\n",
       "    <tr>\n",
       "      <th>4</th>\n",
       "      <td>1</td>\n",
       "      <td>11</td>\n",
       "      <td>ultra</td>\n",
       "      <td>6</td>\n",
       "      <td>0</td>\n",
       "      <td>199</td>\n",
       "      <td>7,004.00</td>\n",
       "      <td>3</td>\n",
       "      <td>55.00</td>\n",
       "    </tr>\n",
       "    <tr>\n",
       "      <th>5</th>\n",
       "      <td>1</td>\n",
       "      <td>12</td>\n",
       "      <td>ultra</td>\n",
       "      <td>6</td>\n",
       "      <td>0</td>\n",
       "      <td>199</td>\n",
       "      <td>6,752.00</td>\n",
       "      <td>2</td>\n",
       "      <td>28.00</td>\n",
       "    </tr>\n",
       "    <tr>\n",
       "      <th>6</th>\n",
       "      <td>2</td>\n",
       "      <td>3</td>\n",
       "      <td>ultra</td>\n",
       "      <td>6</td>\n",
       "      <td>0</td>\n",
       "      <td>199</td>\n",
       "      <td>10,188.00</td>\n",
       "      <td>3</td>\n",
       "      <td>63.00</td>\n",
       "    </tr>\n",
       "    <tr>\n",
       "      <th>7</th>\n",
       "      <td>2</td>\n",
       "      <td>4</td>\n",
       "      <td>ultra</td>\n",
       "      <td>6</td>\n",
       "      <td>0</td>\n",
       "      <td>199</td>\n",
       "      <td>6,165.00</td>\n",
       "      <td>2</td>\n",
       "      <td>40.00</td>\n",
       "    </tr>\n",
       "    <tr>\n",
       "      <th>8</th>\n",
       "      <td>2</td>\n",
       "      <td>6</td>\n",
       "      <td>ultra</td>\n",
       "      <td>6</td>\n",
       "      <td>0</td>\n",
       "      <td>199</td>\n",
       "      <td>3,255.00</td>\n",
       "      <td>1</td>\n",
       "      <td>14.00</td>\n",
       "    </tr>\n",
       "    <tr>\n",
       "      <th>9</th>\n",
       "      <td>2</td>\n",
       "      <td>7</td>\n",
       "      <td>ultra</td>\n",
       "      <td>6</td>\n",
       "      <td>0</td>\n",
       "      <td>199</td>\n",
       "      <td>6,781.00</td>\n",
       "      <td>2</td>\n",
       "      <td>47.00</td>\n",
       "    </tr>\n",
       "  </tbody>\n",
       "</table>\n",
       "</div>"
      ],
      "text/plain": [
       "   user_id  month subscription_type  minute_price  start_ride_price  \\\n",
       "0        1      1             ultra             6                 0   \n",
       "1        1      4             ultra             6                 0   \n",
       "2        1      8             ultra             6                 0   \n",
       "3        1     10             ultra             6                 0   \n",
       "4        1     11             ultra             6                 0   \n",
       "5        1     12             ultra             6                 0   \n",
       "6        2      3             ultra             6                 0   \n",
       "7        2      4             ultra             6                 0   \n",
       "8        2      6             ultra             6                 0   \n",
       "9        2      7             ultra             6                 0   \n",
       "\n",
       "   subscription_fee  distance_sum  rides_count  duration_round_sum  \n",
       "0               199      7,028.00            2               42.00  \n",
       "1               199        754.00            1                7.00  \n",
       "2               199      6,724.00            2               46.00  \n",
       "3               199      5,810.00            2               32.00  \n",
       "4               199      7,004.00            3               55.00  \n",
       "5               199      6,752.00            2               28.00  \n",
       "6               199     10,188.00            3               63.00  \n",
       "7               199      6,165.00            2               40.00  \n",
       "8               199      3,255.00            1               14.00  \n",
       "9               199      6,781.00            2               47.00  "
      ]
     },
     "execution_count": 47,
     "metadata": {},
     "output_type": "execute_result"
    }
   ],
   "source": [
    "#создадим столбец в исходной таблице с округленным в большую сторону значением каждой поездки\n",
    "data['duration_round'] = np.ceil(data['duration'])\n",
    "#создадим сводную таблицу, сгруппированную \n",
    "data_user = data.groupby(['user_id','month','subscription_type','minute_price',\\\n",
    "                          'start_ride_price','subscription_fee'])\\\n",
    "                         .agg({'distance':['sum','count'],'duration_round':'sum'}).reset_index()\n",
    "#поименуем столбцы этой таблицы\n",
    "data_user.columns=['user_id','month','subscription_type','minute_price','start_ride_price','subscription_fee',\\\n",
    "                   'distance_sum','rides_count','duration_round_sum']\n",
    "data_user.head(10)"
   ]
  },
  {
   "cell_type": "markdown",
   "id": "86fdbcdc",
   "metadata": {},
   "source": [
    "### Агрегированные данные по каждому пользователю с выручкой"
   ]
  },
  {
   "cell_type": "markdown",
   "id": "f697571d",
   "metadata": {},
   "source": [
    "Необходимо добавить столбец с помесячной выручкой, которую принёс каждый пользователь. \n",
    "\n",
    "Вспомним, что условия по оплате следующие:\n",
    " - без подписки:\n",
    "   - абонентская плата отсутствует;\n",
    "   - стоимость одной минуты поездки — 8 рублей;\n",
    "   - стоимость старта (начала поездки) — 50 рублей;\n",
    " - с подпиской Ultra:\n",
    "   - абонентская плата — 199 рублей в месяц;\n",
    "   - стоимость одной минуты поездки — 6 рублей;\n",
    "   - стоимость старта — бесплатно.\n",
    "   \n",
    "Т.о. расчет выручки для каждого пользователя в месяц будет следующий:\n",
    " - без подписки: это сумма, которая складывается из  кол-ва поездок (столбец rides_count), умноженного на 50 руб.  и общей округленной длительности поездки(столбец duration_round_sum), умноженной на 8 руб.;\n",
    " - с подпиской Ultra: это сумма, которая складывается из абонентской платы умноженной и общей округленной длительности поездки,умноженной на 6 руб.\n",
    " "
   ]
  },
  {
   "cell_type": "markdown",
   "id": "80a7f8f6",
   "metadata": {},
   "source": [
    "Рассчитаем общую выручку по каждому пользователю в зависимости от типа подписки"
   ]
  },
  {
   "cell_type": "code",
   "execution_count": 48,
   "id": "f5703a5e",
   "metadata": {},
   "outputs": [
    {
     "data": {
      "text/html": [
       "<div>\n",
       "<style scoped>\n",
       "    .dataframe tbody tr th:only-of-type {\n",
       "        vertical-align: middle;\n",
       "    }\n",
       "\n",
       "    .dataframe tbody tr th {\n",
       "        vertical-align: top;\n",
       "    }\n",
       "\n",
       "    .dataframe thead th {\n",
       "        text-align: right;\n",
       "    }\n",
       "</style>\n",
       "<table border=\"1\" class=\"dataframe\">\n",
       "  <thead>\n",
       "    <tr style=\"text-align: right;\">\n",
       "      <th></th>\n",
       "      <th>user_id</th>\n",
       "      <th>month</th>\n",
       "      <th>subscription_type</th>\n",
       "      <th>minute_price</th>\n",
       "      <th>start_ride_price</th>\n",
       "      <th>subscription_fee</th>\n",
       "      <th>distance_sum</th>\n",
       "      <th>rides_count</th>\n",
       "      <th>duration_round_sum</th>\n",
       "      <th>revenue</th>\n",
       "    </tr>\n",
       "  </thead>\n",
       "  <tbody>\n",
       "    <tr>\n",
       "      <th>41</th>\n",
       "      <td>7</td>\n",
       "      <td>1</td>\n",
       "      <td>ultra</td>\n",
       "      <td>6</td>\n",
       "      <td>0</td>\n",
       "      <td>199</td>\n",
       "      <td>6,478.00</td>\n",
       "      <td>2</td>\n",
       "      <td>28.00</td>\n",
       "      <td>367.00</td>\n",
       "    </tr>\n",
       "    <tr>\n",
       "      <th>5426</th>\n",
       "      <td>813</td>\n",
       "      <td>8</td>\n",
       "      <td>free</td>\n",
       "      <td>8</td>\n",
       "      <td>50</td>\n",
       "      <td>0</td>\n",
       "      <td>241.00</td>\n",
       "      <td>1</td>\n",
       "      <td>8.00</td>\n",
       "      <td>114.00</td>\n",
       "    </tr>\n",
       "    <tr>\n",
       "      <th>10102</th>\n",
       "      <td>1386</td>\n",
       "      <td>7</td>\n",
       "      <td>free</td>\n",
       "      <td>8</td>\n",
       "      <td>50</td>\n",
       "      <td>0</td>\n",
       "      <td>8,662.00</td>\n",
       "      <td>2</td>\n",
       "      <td>30.00</td>\n",
       "      <td>340.00</td>\n",
       "    </tr>\n",
       "    <tr>\n",
       "      <th>9526</th>\n",
       "      <td>1314</td>\n",
       "      <td>8</td>\n",
       "      <td>free</td>\n",
       "      <td>8</td>\n",
       "      <td>50</td>\n",
       "      <td>0</td>\n",
       "      <td>3,418.00</td>\n",
       "      <td>2</td>\n",
       "      <td>34.00</td>\n",
       "      <td>372.00</td>\n",
       "    </tr>\n",
       "    <tr>\n",
       "      <th>9320</th>\n",
       "      <td>1288</td>\n",
       "      <td>2</td>\n",
       "      <td>free</td>\n",
       "      <td>8</td>\n",
       "      <td>50</td>\n",
       "      <td>0</td>\n",
       "      <td>9,106.00</td>\n",
       "      <td>3</td>\n",
       "      <td>54.00</td>\n",
       "      <td>582.00</td>\n",
       "    </tr>\n",
       "  </tbody>\n",
       "</table>\n",
       "</div>"
      ],
      "text/plain": [
       "       user_id  month subscription_type  minute_price  start_ride_price  \\\n",
       "41           7      1             ultra             6                 0   \n",
       "5426       813      8              free             8                50   \n",
       "10102     1386      7              free             8                50   \n",
       "9526      1314      8              free             8                50   \n",
       "9320      1288      2              free             8                50   \n",
       "\n",
       "       subscription_fee  distance_sum  rides_count  duration_round_sum  \\\n",
       "41                  199      6,478.00            2               28.00   \n",
       "5426                  0        241.00            1                8.00   \n",
       "10102                 0      8,662.00            2               30.00   \n",
       "9526                  0      3,418.00            2               34.00   \n",
       "9320                  0      9,106.00            3               54.00   \n",
       "\n",
       "       revenue  \n",
       "41      367.00  \n",
       "5426    114.00  \n",
       "10102   340.00  \n",
       "9526    372.00  \n",
       "9320    582.00  "
      ]
     },
     "execution_count": 48,
     "metadata": {},
     "output_type": "execute_result"
    }
   ],
   "source": [
    "#создадим столбец с расчетом выручки\n",
    "data_user['revenue'] = data_user['minute_price']* data_user['duration_round_sum'] \\\n",
    "                     + data_user['start_ride_price']*data_user['rides_count']\\\n",
    "                     + data_user['subscription_fee']\n",
    "#выведем 5 любых строк обновленной таблицы\n",
    "data_user.sample(5)"
   ]
  },
  {
   "cell_type": "markdown",
   "id": "4b63fe62",
   "metadata": {},
   "source": [
    "Мы получили таблицу с агрегированными данными по месяцам по каждому пользователю о кол-ве поездок, общей длительности всех поездок, совокупном расстоянии и полученной выручке от каждого пользователя в месяц.\n",
    " \n",
    "Посчитаем долю выручки от подписанных пользователей и без подписки за все время: "
   ]
  },
  {
   "cell_type": "code",
   "execution_count": 49,
   "id": "db6d1411",
   "metadata": {},
   "outputs": [
    {
     "data": {
      "text/plain": [
       "subscription_type\n",
       "free    57.58\n",
       "ultra   42.42\n",
       "Name: revenue, dtype: float64"
      ]
     },
     "execution_count": 49,
     "metadata": {},
     "output_type": "execute_result"
    }
   ],
   "source": [
    "data_user.groupby('subscription_type')['revenue'].sum() * 100/ data_user['revenue'].sum()"
   ]
  },
  {
   "cell_type": "markdown",
   "id": "b03edbdf",
   "metadata": {},
   "source": [
    "Несмотря на то, что пользователи без подписки формируют почти 2/3 всех поездок (64%) доля выручки от них меньше: возможно они совершают менее длительные поездки, чем \"подписанные\" пользователи (проверим данную гипотезу далее). "
   ]
  },
  {
   "cell_type": "markdown",
   "id": "e4283b5e",
   "metadata": {},
   "source": [
    "**Вывод по шагу 5**:\n",
    "\n",
    "Мы получили агрегированные данные по каждому пользователю с общим кол-вом поездок, суммарным расстоянием и длительностью поездок и полученной от него выручкой. Доля выручки пользователей с подпиской и без составляют 42 и 58% соответственно, причем, несмотря на то, что пользователи без подписки формируют почти 2/3 всех поездок (64%) доля выручки от них меньше доли кол-ва поездок: возможно они совершают менее длительные поездки, чем \"подписанные\" пользователи (проверим данную гипотезу далее). "
   ]
  },
  {
   "cell_type": "markdown",
   "id": "41545ac0",
   "metadata": {},
   "source": [
    "## Проверка гипотез"
   ]
  },
  {
   "cell_type": "markdown",
   "id": "376f7f44",
   "metadata": {},
   "source": [
    "Продакт-менеджеры сервиса хотят увеличить количество пользователей с подпиской. Для этого они будут проводить различные акции, но сначала нужно выяснить несколько важных моментов."
   ]
  },
  {
   "cell_type": "markdown",
   "id": "d27ab31f",
   "metadata": {},
   "source": [
    "### Гипотеза о времени поездки"
   ]
  },
  {
   "cell_type": "markdown",
   "id": "047a4f41",
   "metadata": {},
   "source": [
    "Важно понять, тратят ли пользователи с подпиской больше времени на поездки? Если да, то пользователи с подпиской могут быть «выгоднее» для компании. Проверим гипотезу, используя исходные данные о продолжительности каждой сессии — отдельно для подписчиков и тех, у кого нет подписки.\n",
    "\n",
    "Сформулируем гипотезы:\n",
    "- Н0:длительность поездок пользователей с подпиской такая же как у \"неподписанных\" пользователей,\n",
    "- Н1:длительность поездок пользователей с подпиской выше, чем у \"неподписанных\" пользователей.\n",
    "\n",
    "Для проверки гипотез будем использовать двухвыборочный t-тест для независимых выборок: дисперсии выборок будем считать не равными ( статистика данных пользователей с подпиской и без из пункта 4.3 показала существенное отличие стандартного отклонения по двум категориям пользователей - почти в 1 минуту)"
   ]
  },
  {
   "cell_type": "code",
   "execution_count": 50,
   "id": "d995a204",
   "metadata": {},
   "outputs": [
    {
     "data": {
      "text/plain": [
       "'Среднее время поездки пользователя с подпиской:18.5 минут'"
      ]
     },
     "execution_count": 50,
     "metadata": {},
     "output_type": "execute_result"
    }
   ],
   "source": [
    "a = data_yes['duration']\n",
    "f'Среднее время поездки пользователя с подпиской:{round(a.mean(),1)} минут'"
   ]
  },
  {
   "cell_type": "code",
   "execution_count": 51,
   "id": "130e5a55",
   "metadata": {},
   "outputs": [
    {
     "data": {
      "text/plain": [
       "'Среднее время поездки пользователя без подписки:17.4 минут'"
      ]
     },
     "execution_count": 51,
     "metadata": {},
     "output_type": "execute_result"
    }
   ],
   "source": [
    "b = data_no['duration']\n",
    "f'Среднее время поездки пользователя без подписки:{round(b.mean(),1)} минут'"
   ]
  },
  {
   "cell_type": "code",
   "execution_count": 52,
   "id": "d9315397",
   "metadata": {},
   "outputs": [
    {
     "data": {
      "text/plain": [
       "('р-значение:', 5.96655027721321e-37)"
      ]
     },
     "execution_count": 52,
     "metadata": {},
     "output_type": "execute_result"
    }
   ],
   "source": [
    "#установим уровень стат значимости на уровне 5%\n",
    "alpha = 0.05\n",
    "# используем двухвыборочный t-тест для независимых выборок\n",
    "results = st.ttest_ind(a,b,equal_var=False,alternative='greater')\n",
    "# выведем полученное значение p-value\n",
    "'р-значение:', results.pvalue"
   ]
  },
  {
   "cell_type": "code",
   "execution_count": 53,
   "id": "b6e4a708",
   "metadata": {},
   "outputs": [
    {
     "name": "stdout",
     "output_type": "stream",
     "text": [
      "Отвергаем нулевую гипотезу\n"
     ]
    }
   ],
   "source": [
    "#вывод об отвержении или неотвержении нулевой гипотезы\n",
    "if results.pvalue < alpha:\n",
    "    print('Отвергаем нулевую гипотезу')\n",
    "else:\n",
    "    print('Не получилось отвергнуть нулевую гипотезу')"
   ]
  },
  {
   "cell_type": "markdown",
   "id": "bc1150bf",
   "metadata": {},
   "source": [
    "Гипотеза о равенстве длительности поездок пользователей с подпиской и без отвергнута, в т.ч. по средним знаениям мы видим, что длительность поездок пользователей с подпиской выше, чем без подписки. Т.о.можно сказать, что пользователи с подпиской тратят больше времени на поездки и  могут быть «выгодными» для компании."
   ]
  },
  {
   "cell_type": "markdown",
   "id": "7c314256",
   "metadata": {},
   "source": [
    "### Гипотеза о расстоянии одной поездки"
   ]
  },
  {
   "cell_type": "markdown",
   "id": "9d4acf95",
   "metadata": {},
   "source": [
    "Расстояние одной поездки в 3130 метров — оптимальное с точки зрения износа самоката. Можно ли сказать, что среднее расстояние, которое проезжают пользователи с подпиской за одну поездку, не превышает 3130 метров? Проверим гипотезу и сделаем выводы.\n",
    "\n",
    "Сформулируем гипотезы:\n",
    "- Н0:расстояние одной поездки пользователей с подпиской равно 3130 метров,\n",
    "- Н1:расстояние одной поездки пользователей с подпиской больше 3130 метров.\n",
    "\n",
    "Для проверки гипотез будем использовать одновыборочный t-тест"
   ]
  },
  {
   "cell_type": "code",
   "execution_count": 54,
   "id": "1a2d6da0",
   "metadata": {},
   "outputs": [
    {
     "data": {
      "text/plain": [
       "('р-значение:', 0.9195649894697724)"
      ]
     },
     "execution_count": 54,
     "metadata": {},
     "output_type": "execute_result"
    }
   ],
   "source": [
    "a = data_yes['distance']\n",
    "#установим уровень стат значимости на уровне 5%\n",
    "alpha = 0.05\n",
    "# используем одновыборочный t-тест\n",
    "results = st.ttest_1samp(a, popmean=3130,alternative='greater')\n",
    "# выведем полученное значение p-value\n",
    "'р-значение:', results.pvalue"
   ]
  },
  {
   "cell_type": "code",
   "execution_count": 55,
   "id": "b16b4b37",
   "metadata": {},
   "outputs": [
    {
     "name": "stdout",
     "output_type": "stream",
     "text": [
      "Не получилось отвергнуть нулевую гипотезу\n"
     ]
    }
   ],
   "source": [
    "#вывод об отвержении или неотвержении нулевой гипотезы\n",
    "if results.pvalue < alpha:\n",
    "    print('Отвергаем нулевую гипотезу')\n",
    "else:\n",
    "    print('Не получилось отвергнуть нулевую гипотезу')"
   ]
  },
  {
   "cell_type": "code",
   "execution_count": 56,
   "id": "4f5f7b3c",
   "metadata": {},
   "outputs": [
    {
     "data": {
      "text/plain": [
       "'Среднее расстояние,которое проезжают пользователи с подпиской:3115 метров'"
      ]
     },
     "execution_count": 56,
     "metadata": {},
     "output_type": "execute_result"
    }
   ],
   "source": [
    "f'Среднее расстояние,которое проезжают пользователи с подпиской:{round(a.mean(),)} метров'"
   ]
  },
  {
   "cell_type": "markdown",
   "id": "f1052c2c",
   "metadata": {},
   "source": [
    "Т.о. можно сказать, что среднее расстояние, которое проезжают пользователи с подпиской приближается к  3130, а значит не превышает его. В т.ч. нулевая гипотеза подтверждается тем, что среднее расстояние,которое проезжают пользователи с подпиской, равно 3115 метров. Исходя, из износостройкости самокатов, среднее расстояние поездок пользователей с подпиской является оптимальным."
   ]
  },
  {
   "cell_type": "markdown",
   "id": "34d77915",
   "metadata": {},
   "source": [
    "### Гипотеза о помесячной выручке"
   ]
  },
  {
   "cell_type": "markdown",
   "id": "d670f1b5",
   "metadata": {},
   "source": [
    "Проверим гипотезу о том, будет ли помесячная выручка от пользователей с подпиской по месяцам выше, чем выручка от пользователей без подписки. Сделаем вывод\n",
    "\n",
    "Сформулируем гипотезы:\n",
    "\n",
    " - Н0:помесячная выручка от пользователей с подпиской такая же как у \"неподписанных\" пользователей,\n",
    " - Н1:помесячная выручка от пользователей с подпиской выше, чем у \"неподписанных\" пользователей.\n",
    "\n",
    "Для проверки гипотез будем использовать двухвыборочный t-тест для независимых выборок"
   ]
  },
  {
   "cell_type": "code",
   "execution_count": 57,
   "id": "696db547",
   "metadata": {},
   "outputs": [
    {
     "data": {
      "text/plain": [
       "'Средняя месячная выручка от пользователя с подпиской:362 рублей'"
      ]
     },
     "execution_count": 57,
     "metadata": {},
     "output_type": "execute_result"
    }
   ],
   "source": [
    "a = data_user.query('subscription_type==\"ultra\"')\n",
    "a = a['revenue']\n",
    "f'Средняя месячная выручка от пользователя с подпиской:{round(a.mean(),)} рублей'"
   ]
  },
  {
   "cell_type": "code",
   "execution_count": 58,
   "id": "639397e0",
   "metadata": {},
   "outputs": [
    {
     "data": {
      "text/plain": [
       "'Средняя месячная выручка от пользователя без подписки:328 рублей'"
      ]
     },
     "execution_count": 58,
     "metadata": {},
     "output_type": "execute_result"
    }
   ],
   "source": [
    "b = data_user.query('subscription_type==\"free\"')\n",
    "b = b['revenue']\n",
    "f'Средняя месячная выручка от пользователя без подписки:{round(b.mean(),)} рублей'"
   ]
  },
  {
   "cell_type": "code",
   "execution_count": 59,
   "id": "815948c4",
   "metadata": {},
   "outputs": [
    {
     "data": {
      "text/plain": [
       "('р-значение:', 5.015631474144602e-32)"
      ]
     },
     "execution_count": 59,
     "metadata": {},
     "output_type": "execute_result"
    }
   ],
   "source": [
    "#установим уровень стат значимости на уровне 5%\n",
    "alpha = 0.05\n",
    "# используем двухвыборочный t-тест для независимых выборок\n",
    "results = st.ttest_ind(a,b,alternative='greater')\n",
    "# выведем полученное значение p-value\n",
    "'р-значение:', results.pvalue"
   ]
  },
  {
   "cell_type": "code",
   "execution_count": 60,
   "id": "5733364d",
   "metadata": {},
   "outputs": [
    {
     "name": "stdout",
     "output_type": "stream",
     "text": [
      "Отвергаем нулевую гипотезу\n"
     ]
    }
   ],
   "source": [
    "#вывод об отвержении или неотвержении нулевой гипотезы\n",
    "if results.pvalue < alpha:\n",
    "    print('Отвергаем нулевую гипотезу')\n",
    "else:\n",
    "    print('Не получилось отвергнуть нулевую гипотезу')"
   ]
  },
  {
   "cell_type": "markdown",
   "id": "1c127813",
   "metadata": {},
   "source": [
    "Гипотеза о равенстве помесячной выручки пользователей с подпиской и без отвергнута, в т.ч. по средним знаениям мы видим, что среднемесячная выручка \"подписанных\" пользователей выше, чем \"неподписанных\". Т.о. можно сказать, что пользователи с подпиской являются более \"выгодными\" с точки зрения доходности."
   ]
  },
  {
   "cell_type": "markdown",
   "id": "a4d6cbff",
   "metadata": {},
   "source": [
    "### Гипотеза о количестве обращений в техподдержку"
   ]
  },
  {
   "cell_type": "markdown",
   "id": "b9663803",
   "metadata": {},
   "source": [
    "Вопрос: \n",
    "- Представьте такую ситуацию: техническая команда сервиса обновила сервера, с которыми взаимодействует мобильное приложение. Она надеется, что из-за этого количество обращений в техподдержку значимо снизилось. Некоторый файл содержит для каждого пользователя данные о количестве обращений до обновления и после него. Какой тест вам понадобился бы для проверки этой гипотезы?\n",
    "\n",
    "Ответ:\n",
    " - Поскольку это будут две зависимые выборки, то потребуется проверка гипотезы о равенстве среднего значения генеральной совокупности до и после изменения. Чтобы проверить данную гипотезу понадобится двухвыборочный t-тест для зависимых выборок. Применим метод scipy.stats.ttest_rel() с проверкой левосторонней альтернативной гипотезой "
   ]
  },
  {
   "cell_type": "markdown",
   "id": "0b9c7ede",
   "metadata": {},
   "source": [
    "**Вывод по шагу 6**:\n",
    "\n",
    "Проведена проверка ряда гипотез, получены следующие выводы:\n",
    " - пользователи с подпиской тратят больше времени на поездки и  могут быть более «выгодными» для компании, чем пользователи без подписки.\n",
    " - можно сказать, что среднее расстояние, которое проезжают пользователи с подпиской, приближается к 3130 м, т.е не превышает 3130. Исходя, из износостройкости самокатов, среднее расстояние поездок пользователей с подпиской является оптимальным.\n",
    " - среднемесячная выручка \"подписанных\" пользователей выше, чем \"неподписанных\". Т.о. можно сказать, что пользователи с подпиской являются более \"выгодными\" с точки зрения доходности.\n",
    "  \n",
    "По совокупности проведенной работы можно утверждать, что перспективным направлением развития сервиса аренды самокатов GoFast является увеличение числа \"подписанных\" пользователей, поскольку данная категория является наиболее доходной ( подтверждается помесячной выручкой и более длительными поездками по сравнению с пользователями без подписки) и оптимальной с т.з. износостойкости самокатов. База для развития данного направления является достаточно емкой даже без учета привлечения новых клиентов: доля неподписанных пользователей составляет 54%, причем они формируют практически 2/3 всех поездок(64%).  "
   ]
  },
  {
   "cell_type": "markdown",
   "id": "e1b2c4d3",
   "metadata": {},
   "source": [
    "## Общий вывод"
   ]
  },
  {
   "cell_type": "markdown",
   "id": "c59be91b",
   "metadata": {},
   "source": [
    "Переданы данные популярного сервиса аренды самокатов GoFast о некоторых пользователях из нескольких городов, а также об их поездках.Чтобы совершать поездки по городу, пользователи сервиса GoFast пользуются мобильным приложением. Сервисом можно пользоваться как с подпиской, так и без. \n",
    "\n",
    "Перед анализом данных была проведена работа по анализу пропусков и дубликатов (были удалены 31 дубликат в файле с пользователями), изменению типов данных. Данные предоставлены без указания мобильных номеров, дубликаты могли быть получены вследствие регистрации одного и того же пользователя, но с разными номерами телефона. В противном случае, требуется доработка приложения, чтобы исключить возможность одного и того же пользователя регистрироваться несколько раз. \n",
    "\n",
    "Данные характеризуются следующим:\n",
    " - Данные по пользователям с подпиской и без примерно одинаковое, без подписки - чуть больше (54%), чем с подпиской(46%).\n",
    " - Возраст пользователей от 12 до 43 лет, половина данных приходится на возраст от 22 до 28 лет. Медиана приходится на 25 лет и практически равна среднему - распределение очень близко к симметричному, выбросами являются значения возраста 12 лет и 3 значения свыше 37 лет - 38, 39 и 43 года.\n",
    " - Расстояние в данных представлено диапазоном от 1 до 7 211 м, половина всех значений находятся в промежутке от 2 543 до 3 776 метров, медиана 3 134 м недалека от среднего 3 071 м. Выбросы находятся в пределах примерно до 700 метров и свыше 5500 метров.\n",
    " - Продолжительность поездок в интервале от полуминуты до 41 минуты, более половины в интервале от 14 до 22 минут.  Медиана и среднее практически совпадают (около 18 минут), распределение значений приближено к симметричному. Выбросами являются значения менее 2-х минут и свыше 34 минут.\n",
    " \n",
    "Анализ данных о расстояние и длительности поездок в зависимости от того, имеет ли пользователь подписку или нет показал следующее:\n",
    "\n",
    "1)Расстояние:\n",
    " - кол-во значений расстояний, а соответственно, поездок, в целом выше у пользователей без подписки, за исключением интервала расстояния от 2800 до примерно 3300 метров - в этом интервале преобладают поездки пользователей с подпиской. Разница в большем кол-ве значений пользователей без подписки связано как с их большим кол-вом в данных (54% от всех данных о пользователях), так и в большем кол-ве поездок пользователей без подписки (чуть менее 2/3 всех поездок - поездки пользователей без подписки)\n",
    " - размах значений расстояний у пользователей без подписки шире: не считая выбросов, значения нахдятся в интервале от 0 до примерно 6200 м, в то время как с подпиской - в интервале от 1600 до 4700 м.\n",
    " - из-за выбросов среднее двух категорий различаются более существенно (с подпиской - 3115, без - 3045 метров), чем медианы расстояний (3148 и 3114 м соответственно).\n",
    "\n",
    "2)Продолжительность поездок:\n",
    " - размах значений у пользователей без подписки немного шире: не считая выбросов, значения находятся в интервале от 0 до примерно 35 минут, в то время как с подпиской - в интервале от 4 до 33 минут.\n",
    " - при этом среднее и медиана времени для пользователей с подпиской и без расходятся примерно на 1 минуту:18 - 18,5 и 17 минут соответственно.\n",
    "\n",
    "Доля выручки пользователей с подпиской и без составляют 42 и 58% соответственно, причем, несмотря на то, что пользователи без подписки формируют почти 2/3 всех поездок (64%) доля выручки от них меньше доли кол-ва поездок, т.к. они совершают менее длительные поездки, чем \"подписанные\" пользователи (см. далее).\n",
    "\n",
    "Проверен ряд гипотез о длительности поездок, расстоянии пользователей с подпиской и без, выручке, полученной от «подписанных» пользователей, получены следующие выводы:\n",
    " - пользователи с подпиской тратят больше времени на поездки и  могут быть более «выгодными» для компании, чем пользователи без подписки.\n",
    " - можно сказать, что среднее расстояние, которое проезжают пользователи с подпиской, приближается к 3130 м, т.е не превышает 3130. Исходя, из износостройкости самокатов, среднее расстояние поездок пользователей с подпиской является оптимальным.\n",
    " - среднемесячная выручка \"подписанных\" пользователей выше, чем \"неподписанных\". Т.о. можно сказать, что пользователи с подпиской являются более \"выгодными\" с точки зрения доходности.\n",
    "\n",
    "По совокупности проведенной работы можно утверждать, что перспективным направлением развития сервиса аренды самокатов GoFast является увеличение числа \"подписанных\" пользователей, поскольку данная категория является наиболее доходной ( подтверждается помесячной выручкой и более длительными поездками по сравнению с пользователями без подписки) и оптимальной с т.з. износостойкости самокатов. База для развития данного направления является достаточно емкой даже без учета привлечения новых клиентов: доля неподписанных пользователей составляет 54%, причем они формируют практически 2/3 всех поездок(64%). Например, для привлечения действующих клиентов использовать подписку можно использовать промоакции по  15-ти днейной/одномесячной подписке, по завершении периода действия этой подписки пользователь может либо отказаться от неё, либо продлить, совершив соответствующий платёж\n"
   ]
  },
  {
   "cell_type": "markdown",
   "id": "61213c5e",
   "metadata": {},
   "source": [
    "## Распределения"
   ]
  },
  {
   "cell_type": "markdown",
   "id": "6013f0bc",
   "metadata": {},
   "source": [
    "### Акция с раздачей промокодов"
   ]
  },
  {
   "cell_type": "markdown",
   "id": "82aeb551",
   "metadata": {},
   "source": [
    "Отделу маркетинга GoFast поставили задачу: нужно провести акцию с раздачей промокодов на один бесплатный месяц подписки, в рамках которой как минимум 100 существующих клиентов должны продлить эту подписку. То есть по завершении периода действия подписки пользователь может либо отказаться от неё, либо продлить, совершив соответствующий платёж. \n",
    "\n",
    "Эта акция уже проводилась ранее и по итогу выяснилось, что после бесплатного пробного периода подписку продлевают \n",
    "10 % пользователей. Выясните, какое минимальное количество промокодов нужно разослать, чтобы вероятность не выполнить план была примерно 5 %. \n",
    "\n",
    "Подберите параметры распределения, описывающего эту ситуацию, постройте график распределения и сформулируйте ответ на вопрос о количестве промокодов."
   ]
  },
  {
   "cell_type": "markdown",
   "id": "42454979",
   "metadata": {},
   "source": [
    "Данное распределение является биномиальным с вероятность получить успех-10%, неуспех, соответственно, 90%.\n",
    "Построим график распределения для n = 1000"
   ]
  },
  {
   "cell_type": "code",
   "execution_count": 61,
   "id": "e07f171d",
   "metadata": {},
   "outputs": [
    {
     "data": {
      "image/png": "[encoded data removed]",
      "text/plain": [
       "<Figure size 432x288 with 1 Axes>"
      ]
     },
     "metadata": {
      "needs_background": "light"
     },
     "output_type": "display_data"
    }
   ],
   "source": [
    "from scipy.stats import binom\n",
    "\n",
    "n = 1000 # количество попыток\n",
    "p = 0.1 # вероятность успеха\n",
    "\n",
    "distr = []\n",
    "\n",
    "for k in range(0, n + 1):\n",
    "    value = binom.pmf(k, n, p)\n",
    "    distr.append(value)\n",
    "    \n",
    "    \n",
    "plt.bar(range(0, n + 1), distr);\n",
    "plt.xlim(50,150);\n",
    "plt.ylabel('Вероятность', fontsize=12);\n",
    "plt.xlabel('Кол-во продленных подписок', fontsize=12);\n",
    "plt.title('График распределения кол-ва продленных подписок',fontsize=12);"
   ]
  },
  {
   "cell_type": "markdown",
   "id": "25925a66",
   "metadata": {},
   "source": [
    "График показывает, что вероятность получить от 100 продлений при количестве промокодов 1000 с вероятностью продления подписки 10% - около 50%, нам же нужна вероятность не менее 95%.Т.о., нужно увеличить кол-во промокодов.\n",
    "\n",
    "Для подбора приведем наше распределение к параметрам нормального для использования метода cdf(). Вероятность получить менее 100 продлений должна быть не больше 5%, соответственно получить больше - 95%: подберем минимальное значение n, при котором значение result будет наиболее близко к 95%."
   ]
  },
  {
   "cell_type": "code",
   "execution_count": 62,
   "id": "3abcbf8c",
   "metadata": {},
   "outputs": [
    {
     "data": {
      "text/plain": [
       "0.9502851068730583"
      ]
     },
     "execution_count": 62,
     "metadata": {},
     "output_type": "execute_result"
    }
   ],
   "source": [
    "from math import sqrt\n",
    "\n",
    "n = 1169  \n",
    "p = 0.1\n",
    "\n",
    "# рассчитаем параметры с заданным кол-вом и вероятностью для нормального распределения\n",
    "mu = n*p \n",
    "sigma = sqrt(n * p * (1 - p))\n",
    "# зададим нормальное распределение\n",
    "distr = st.norm(mu, sigma)\n",
    "# найдите вероятность\n",
    "result = 1-distr.cdf(100)\n",
    "# выведем вероятность в процентах\n",
    "result"
   ]
  },
  {
   "cell_type": "markdown",
   "id": "3789c149",
   "metadata": {},
   "source": [
    "Т.о., минимальное количество промокодов, чтобы вероятность не выполнить план была примерно 5 %, составляет 1169 промокодов."
   ]
  },
  {
   "cell_type": "markdown",
   "id": "14369b1e",
   "metadata": {},
   "source": [
    "### Push-уведомления в мобильном приложении."
   ]
  },
  {
   "cell_type": "markdown",
   "id": "6e824927",
   "metadata": {},
   "source": [
    "Отдел маркетинга рассылает клиентам push-уведомления в мобильном приложении. Клиенты могут открыть его или не открывать. Известно, что уведомления открывают около 40 % получивших клиентов. Отдел планирует разослать \n",
    "1 млн уведомлений. С помощью аппроксимации постройте примерный график распределения и оцените вероятность того, что уведомление откроют не более 399,5 тыс. пользователей.\n",
    "\n",
    "\n",
    "Сначала посчитаем вероятность, что уведомление откроют не более 399,5 тыс. пользователей:\n",
    " - данное распределение является биномиальным с вероятностью успеха 40%, неуспеха - 60%,\n",
    " - приведем наше распределение к нормальному для подсчета вероятности получения менее определенного кол-ва успехов методом cdf()."
   ]
  },
  {
   "cell_type": "code",
   "execution_count": 63,
   "id": "b36edcbc",
   "metadata": {},
   "outputs": [
    {
     "data": {
      "text/plain": [
       "15.4"
      ]
     },
     "execution_count": 63,
     "metadata": {},
     "output_type": "execute_result"
    }
   ],
   "source": [
    "from math import sqrt\n",
    "\n",
    "n = 1000000  \n",
    "p = 0.4\n",
    "\n",
    "# рассчитаем параметры с заданным кол-вом и вероятностью для нормального распределения\n",
    "mu = n*p \n",
    "sigma = sqrt(n * p * (1 - p))\n",
    "# зададим нормальное распределение\n",
    "distr = st.norm(mu, sigma)\n",
    "# найдите вероятность\n",
    "result = distr.cdf(399500)\n",
    "# выведем вероятность в процентах\n",
    "round(result*100,1)"
   ]
  },
  {
   "cell_type": "markdown",
   "id": "aa1f1572",
   "metadata": {},
   "source": [
    "Такая вероятность составляет 15.4%.\n",
    "\n",
    "Аппроксимируем наше распределение нормальным, построим примерный график распределения для n = 100 и проверим - выполняется ли наше условие аппроксимации (лежит ли mu ± 3 sigma в промежутке от 0 до n)."
   ]
  },
  {
   "cell_type": "code",
   "execution_count": 64,
   "id": "bc77e626",
   "metadata": {},
   "outputs": [
    {
     "data": {
      "image/png": "[encoded data removed]",
      "text/plain": [
       "<Figure size 432x288 with 1 Axes>"
      ]
     },
     "metadata": {
      "needs_background": "light"
     },
     "output_type": "display_data"
    },
    {
     "name": "stdout",
     "output_type": "stream",
     "text": [
      "Условие выполняется\n"
     ]
    }
   ],
   "source": [
    "# зададим функцию, которая выдаёт <num> чисел,\n",
    "# равномерно распределённых от <start> до <stop>\n",
    "# (понадобится для визуализации нормального распределения)\n",
    "def linspace(start, stop, num):\n",
    "    step = (stop - start) / (num - 1)\n",
    "    result = []\n",
    "    for i in range(num):\n",
    "        result.append(start + step * i)\n",
    "    return result\n",
    " \n",
    "# задаём параметры биномиального распределения\n",
    "n = 100\n",
    "p = 0.4\n",
    "\n",
    "# границы промежутка, в котором будем строить аппроксимацию -\n",
    "# от n*p минус 4 ст.отклонения бином.распределения\n",
    "# до n*p плюс 4 ст.отклонения бином.распределения\n",
    "# (там, где вероятности значений почти не равны нулю)\n",
    "left = int(n * p - 4 * sqrt(n * p * (1 - p)))\n",
    "right = int(n * p + 4 * sqrt(n * p * (1 - p)))\n",
    "\n",
    "\n",
    "# зададим набор значений биномиальной величины на выбранном промежутке:\n",
    "# все неотрицательные целые числа от left до right\n",
    "x = list(range(max(0, left), right))\n",
    "# рисуем график биномиального распределения\n",
    "ax = plt.subplot()\n",
    "# используем синие о-образные маркеры и размер маркера 5\n",
    "ax.plot(x, binom.pmf(x, n, p), 'bo', ms=5,\\\n",
    "        label='вероятности биномиального распределения')\n",
    "plt.ylabel('Вероятность', fontsize=12);\n",
    "plt.xlabel('Кол-во открытых уведомлений', fontsize=12);\n",
    "plt.title('График распределения кол-ва открытых уведомлений',fontsize=12);\n",
    "\n",
    "# зададим мат.ожидание и ст.отклонение нормального распределения равными\n",
    "# мат.ожиданию и ст.отклонению биномиального распределения\n",
    "mu = n * p\n",
    "sigma = sqrt(n * p * (1 - p))\n",
    " \n",
    "# рисуем график нормального распределения:\n",
    "# получим список из 100 чисел от left до right\n",
    "x = linspace(left, right, 100)\n",
    "# используем красную линию ширины 3 и прозрачности 0.3\n",
    "ax.plot(x, st.norm.pdf(x, mu, sigma), 'r-', lw=10, alpha=0.3,\\\n",
    "        label='плотность вероятности нормального распределения')\n",
    " \n",
    "# зададим подписи по оси x в пределах ± 3 ст.отклонений от мат.ожидания\n",
    "# (последний аргумент в методе range - интервал между подписями)\n",
    "x_ticks = list(range(int(mu - 3 * sigma), int(mu + 3 * sigma), 1))\n",
    "ax.set_xticks(x_ticks)\n",
    "\n",
    "# настраиваем оптимальное расположение легенды и выводим график\n",
    "ax.legend(loc='best')\n",
    "plt.show()\n",
    "# выводим, выполняется ли наше условие аппроксимации:\n",
    "# лежит ли mu ± 3 sigma в промежутке от 0 до n:\n",
    "if (mu - (3 * sigma) >= 0) and ((mu + (3 * sigma) <= n)):\n",
    "    print('Условие выполняется')\n",
    "else:\n",
    "    print('Условие не выполняется')"
   ]
  },
  {
   "cell_type": "markdown",
   "id": "408c3fd4",
   "metadata": {},
   "source": [
    "Т.о.: \n",
    "\n",
    "1)график построен, \n",
    "\n",
    "2)при рассылке 1 млн уведомлений вероятность того, что уведомление откроют не более 399,5 тыс. пользователей - около 15,4%."
   ]
  }
 ],
 "metadata": {
  "ExecuteTimeLog": [
   {
    "duration": 58,
    "start_time": "2024-01-15T09:34:06.660Z"
   },
   {
    "duration": 467,
    "start_time": "2024-01-15T09:34:12.741Z"
   },
   {
    "duration": 200,
    "start_time": "2024-01-15T09:34:17.688Z"
   },
   {
    "duration": 72,
    "start_time": "2024-01-15T09:36:12.809Z"
   },
   {
    "duration": 14,
    "start_time": "2024-01-15T09:36:31.985Z"
   },
   {
    "duration": 72,
    "start_time": "2024-01-15T09:37:06.160Z"
   },
   {
    "duration": 8,
    "start_time": "2024-01-15T09:37:08.705Z"
   },
   {
    "duration": 11,
    "start_time": "2024-01-15T09:38:28.210Z"
   },
   {
    "duration": 7,
    "start_time": "2024-01-15T09:46:26.479Z"
   },
   {
    "duration": 67,
    "start_time": "2024-01-15T09:46:35.404Z"
   },
   {
    "duration": 8,
    "start_time": "2024-01-15T09:46:40.223Z"
   },
   {
    "duration": 11,
    "start_time": "2024-01-15T09:46:56.322Z"
   },
   {
    "duration": 8,
    "start_time": "2024-01-15T09:53:02.313Z"
   },
   {
    "duration": 7,
    "start_time": "2024-01-15T09:53:15.994Z"
   },
   {
    "duration": 11,
    "start_time": "2024-01-15T09:54:16.469Z"
   },
   {
    "duration": 15,
    "start_time": "2024-01-15T10:03:51.346Z"
   },
   {
    "duration": 79,
    "start_time": "2024-01-15T10:04:29.409Z"
   },
   {
    "duration": 21,
    "start_time": "2024-01-15T10:04:51.895Z"
   },
   {
    "duration": 20,
    "start_time": "2024-01-15T10:06:25.362Z"
   },
   {
    "duration": 12,
    "start_time": "2024-01-15T10:17:35.912Z"
   },
   {
    "duration": 6,
    "start_time": "2024-01-15T10:21:59.065Z"
   },
   {
    "duration": 6,
    "start_time": "2024-01-15T10:22:02.401Z"
   },
   {
    "duration": 7,
    "start_time": "2024-01-15T10:23:58.122Z"
   },
   {
    "duration": 9,
    "start_time": "2024-01-15T10:24:03.313Z"
   },
   {
    "duration": 8,
    "start_time": "2024-01-15T10:25:52.306Z"
   },
   {
    "duration": 4,
    "start_time": "2024-01-15T10:33:38.740Z"
   },
   {
    "duration": 14,
    "start_time": "2024-01-15T10:33:44.448Z"
   },
   {
    "duration": 8,
    "start_time": "2024-01-15T10:37:57.991Z"
   },
   {
    "duration": 5,
    "start_time": "2024-01-15T10:46:10.432Z"
   },
   {
    "duration": 6,
    "start_time": "2024-01-15T10:47:34.340Z"
   },
   {
    "duration": 4,
    "start_time": "2024-01-15T10:54:59.919Z"
   },
   {
    "duration": 5,
    "start_time": "2024-01-15T10:55:59.802Z"
   },
   {
    "duration": 19,
    "start_time": "2024-01-15T11:13:34.560Z"
   },
   {
    "duration": 6,
    "start_time": "2024-01-15T11:17:08.298Z"
   },
   {
    "duration": 21,
    "start_time": "2024-01-15T11:21:14.650Z"
   },
   {
    "duration": 6,
    "start_time": "2024-01-15T11:22:08.231Z"
   },
   {
    "duration": 8,
    "start_time": "2024-01-15T11:22:19.325Z"
   },
   {
    "duration": 7,
    "start_time": "2024-01-15T11:22:33.799Z"
   },
   {
    "duration": 8,
    "start_time": "2024-01-15T11:23:17.898Z"
   },
   {
    "duration": 610,
    "start_time": "2024-01-15T11:26:37.657Z"
   },
   {
    "duration": 136,
    "start_time": "2024-01-15T11:27:18.398Z"
   },
   {
    "duration": 87,
    "start_time": "2024-01-15T12:06:06.907Z"
   },
   {
    "duration": 9,
    "start_time": "2024-01-15T12:06:59.030Z"
   },
   {
    "duration": 288,
    "start_time": "2024-01-15T12:13:24.103Z"
   },
   {
    "duration": 45,
    "start_time": "2024-01-15T17:05:19.103Z"
   },
   {
    "duration": 423,
    "start_time": "2024-01-15T17:05:30.154Z"
   },
   {
    "duration": 296,
    "start_time": "2024-01-15T17:05:30.579Z"
   },
   {
    "duration": 14,
    "start_time": "2024-01-15T17:05:30.877Z"
   },
   {
    "duration": 82,
    "start_time": "2024-01-15T17:05:30.893Z"
   },
   {
    "duration": 36,
    "start_time": "2024-01-15T17:05:30.976Z"
   },
   {
    "duration": 80,
    "start_time": "2024-01-15T17:05:31.014Z"
   },
   {
    "duration": 47,
    "start_time": "2024-01-15T17:05:31.096Z"
   },
   {
    "duration": 67,
    "start_time": "2024-01-15T17:05:31.145Z"
   },
   {
    "duration": 92,
    "start_time": "2024-01-15T17:05:31.214Z"
   },
   {
    "duration": 180,
    "start_time": "2024-01-15T17:05:31.309Z"
   },
   {
    "duration": 285,
    "start_time": "2024-01-15T17:05:31.491Z"
   },
   {
    "duration": 222,
    "start_time": "2024-01-15T17:05:31.777Z"
   },
   {
    "duration": 79,
    "start_time": "2024-01-15T17:05:32.001Z"
   },
   {
    "duration": 70,
    "start_time": "2024-01-15T17:05:32.081Z"
   },
   {
    "duration": 43,
    "start_time": "2024-01-15T17:05:32.152Z"
   },
   {
    "duration": 74,
    "start_time": "2024-01-15T17:05:32.197Z"
   },
   {
    "duration": 72,
    "start_time": "2024-01-15T17:05:32.272Z"
   },
   {
    "duration": 108,
    "start_time": "2024-01-15T17:05:32.345Z"
   },
   {
    "duration": 47,
    "start_time": "2024-01-15T17:05:32.455Z"
   },
   {
    "duration": 548,
    "start_time": "2024-01-15T17:05:32.503Z"
   },
   {
    "duration": 8,
    "start_time": "2024-01-15T17:05:33.053Z"
   },
   {
    "duration": 77,
    "start_time": "2024-01-15T17:05:33.067Z"
   },
   {
    "duration": 6,
    "start_time": "2024-01-15T17:05:33.146Z"
   },
   {
    "duration": 268,
    "start_time": "2024-01-15T17:05:33.153Z"
   },
   {
    "duration": 7,
    "start_time": "2024-01-15T17:05:33.423Z"
   },
   {
    "duration": 418,
    "start_time": "2024-01-15T17:15:14.801Z"
   },
   {
    "duration": 199,
    "start_time": "2024-01-15T17:17:17.283Z"
   },
   {
    "duration": 10,
    "start_time": "2024-01-15T17:19:48.017Z"
   },
   {
    "duration": 9,
    "start_time": "2024-01-15T17:20:11.214Z"
   },
   {
    "duration": 242,
    "start_time": "2024-01-15T17:20:47.016Z"
   },
   {
    "duration": 529,
    "start_time": "2024-01-15T17:45:09.482Z"
   },
   {
    "duration": 110,
    "start_time": "2024-01-15T17:46:07.481Z"
   },
   {
    "duration": 99,
    "start_time": "2024-01-15T17:49:10.381Z"
   },
   {
    "duration": 8,
    "start_time": "2024-01-15T17:54:48.106Z"
   },
   {
    "duration": 230,
    "start_time": "2024-01-15T17:56:16.013Z"
   },
   {
    "duration": 114,
    "start_time": "2024-01-15T17:57:25.795Z"
   },
   {
    "duration": 8,
    "start_time": "2024-01-15T17:57:49.364Z"
   },
   {
    "duration": 21,
    "start_time": "2024-01-15T18:25:15.883Z"
   },
   {
    "duration": 42,
    "start_time": "2024-01-15T18:27:33.179Z"
   },
   {
    "duration": 15,
    "start_time": "2024-01-15T18:27:45.133Z"
   },
   {
    "duration": 23,
    "start_time": "2024-01-15T18:27:51.719Z"
   },
   {
    "duration": 31,
    "start_time": "2024-01-15T18:29:21.650Z"
   },
   {
    "duration": 22,
    "start_time": "2024-01-15T18:29:39.883Z"
   },
   {
    "duration": 27,
    "start_time": "2024-01-15T18:29:50.979Z"
   },
   {
    "duration": 12,
    "start_time": "2024-01-15T18:32:31.965Z"
   },
   {
    "duration": 1061,
    "start_time": "2024-01-15T18:33:17.515Z"
   },
   {
    "duration": 69,
    "start_time": "2024-01-15T18:33:18.578Z"
   },
   {
    "duration": 11,
    "start_time": "2024-01-15T18:33:18.648Z"
   },
   {
    "duration": 10,
    "start_time": "2024-01-15T18:33:18.661Z"
   },
   {
    "duration": 8,
    "start_time": "2024-01-15T18:33:18.673Z"
   },
   {
    "duration": 13,
    "start_time": "2024-01-15T18:33:18.683Z"
   },
   {
    "duration": 7,
    "start_time": "2024-01-15T18:33:18.697Z"
   },
   {
    "duration": 12,
    "start_time": "2024-01-15T18:33:18.705Z"
   },
   {
    "duration": 15,
    "start_time": "2024-01-15T18:33:18.719Z"
   },
   {
    "duration": 10,
    "start_time": "2024-01-15T18:33:18.736Z"
   },
   {
    "duration": 5,
    "start_time": "2024-01-15T18:33:18.767Z"
   },
   {
    "duration": 10,
    "start_time": "2024-01-15T18:33:18.773Z"
   },
   {
    "duration": 10,
    "start_time": "2024-01-15T18:33:18.784Z"
   },
   {
    "duration": 9,
    "start_time": "2024-01-15T18:33:18.795Z"
   },
   {
    "duration": 16,
    "start_time": "2024-01-15T18:33:18.805Z"
   },
   {
    "duration": 7,
    "start_time": "2024-01-15T18:33:18.822Z"
   },
   {
    "duration": 3,
    "start_time": "2024-01-15T18:33:18.831Z"
   },
   {
    "duration": 32,
    "start_time": "2024-01-15T18:33:18.836Z"
   },
   {
    "duration": 18,
    "start_time": "2024-01-15T18:33:18.870Z"
   },
   {
    "duration": 152,
    "start_time": "2024-01-15T18:33:18.890Z"
   },
   {
    "duration": 7,
    "start_time": "2024-01-15T18:33:19.043Z"
   },
   {
    "duration": 77,
    "start_time": "2024-01-15T18:33:19.052Z"
   },
   {
    "duration": 7,
    "start_time": "2024-01-15T18:33:19.130Z"
   },
   {
    "duration": 292,
    "start_time": "2024-01-15T18:33:19.138Z"
   },
   {
    "duration": 8,
    "start_time": "2024-01-15T18:33:19.432Z"
   },
   {
    "duration": 110,
    "start_time": "2024-01-15T18:33:19.441Z"
   },
   {
    "duration": 21,
    "start_time": "2024-01-15T18:33:19.553Z"
   },
   {
    "duration": 252,
    "start_time": "2024-01-15T18:33:19.576Z"
   },
   {
    "duration": 117,
    "start_time": "2024-01-15T18:33:19.829Z"
   },
   {
    "duration": 21,
    "start_time": "2024-01-15T18:33:19.947Z"
   },
   {
    "duration": 279,
    "start_time": "2024-01-15T18:33:19.970Z"
   },
   {
    "duration": 118,
    "start_time": "2024-01-15T18:33:20.250Z"
   },
   {
    "duration": 23,
    "start_time": "2024-01-15T18:33:20.370Z"
   },
   {
    "duration": 10,
    "start_time": "2024-01-15T18:33:20.395Z"
   },
   {
    "duration": 14,
    "start_time": "2024-01-15T18:33:51.361Z"
   },
   {
    "duration": 18,
    "start_time": "2024-01-15T18:48:35.231Z"
   },
   {
    "duration": 16,
    "start_time": "2024-01-15T18:48:39.997Z"
   },
   {
    "duration": 163,
    "start_time": "2024-01-15T18:57:24.087Z"
   },
   {
    "duration": 189,
    "start_time": "2024-01-15T18:57:45.931Z"
   },
   {
    "duration": 162,
    "start_time": "2024-01-15T18:58:59.479Z"
   },
   {
    "duration": 186,
    "start_time": "2024-01-15T19:02:12.982Z"
   },
   {
    "duration": 116,
    "start_time": "2024-01-15T19:02:41.882Z"
   },
   {
    "duration": 111,
    "start_time": "2024-01-15T19:03:09.738Z"
   },
   {
    "duration": 125,
    "start_time": "2024-01-15T19:03:46.355Z"
   },
   {
    "duration": 160,
    "start_time": "2024-01-15T19:04:10.619Z"
   },
   {
    "duration": 206,
    "start_time": "2024-01-15T19:05:46.879Z"
   },
   {
    "duration": 237,
    "start_time": "2024-01-15T19:08:46.813Z"
   },
   {
    "duration": 12,
    "start_time": "2024-01-15T19:13:51.078Z"
   },
   {
    "duration": 64,
    "start_time": "2024-01-15T19:14:09.475Z"
   },
   {
    "duration": 7,
    "start_time": "2024-01-15T19:16:23.712Z"
   },
   {
    "duration": 161,
    "start_time": "2024-01-15T19:20:00.278Z"
   },
   {
    "duration": 170,
    "start_time": "2024-01-15T19:20:23.226Z"
   },
   {
    "duration": 151,
    "start_time": "2024-01-15T19:20:45.759Z"
   },
   {
    "duration": 132,
    "start_time": "2024-01-15T19:21:04.209Z"
   },
   {
    "duration": 131,
    "start_time": "2024-01-15T19:21:12.137Z"
   },
   {
    "duration": 160,
    "start_time": "2024-01-15T19:21:24.893Z"
   },
   {
    "duration": 164,
    "start_time": "2024-01-15T19:21:34.626Z"
   },
   {
    "duration": 140,
    "start_time": "2024-01-15T19:21:46.843Z"
   },
   {
    "duration": 145,
    "start_time": "2024-01-15T19:22:07.643Z"
   },
   {
    "duration": 158,
    "start_time": "2024-01-15T19:22:24.010Z"
   },
   {
    "duration": 20,
    "start_time": "2024-01-15T19:36:31.019Z"
   },
   {
    "duration": 5,
    "start_time": "2024-01-15T19:37:26.922Z"
   },
   {
    "duration": 20,
    "start_time": "2024-01-15T19:39:49.948Z"
   },
   {
    "duration": 5,
    "start_time": "2024-01-15T19:40:19.819Z"
   },
   {
    "duration": 4,
    "start_time": "2024-01-15T19:42:43.581Z"
   },
   {
    "duration": 20,
    "start_time": "2024-01-15T20:07:01.519Z"
   },
   {
    "duration": 17,
    "start_time": "2024-01-15T20:18:35.565Z"
   },
   {
    "duration": 122,
    "start_time": "2024-01-15T20:22:18.962Z"
   },
   {
    "duration": 27,
    "start_time": "2024-01-15T20:24:03.880Z"
   },
   {
    "duration": 24,
    "start_time": "2024-01-15T20:25:10.246Z"
   },
   {
    "duration": 34,
    "start_time": "2024-01-15T20:26:41.845Z"
   },
   {
    "duration": 37,
    "start_time": "2024-01-15T20:29:07.161Z"
   },
   {
    "duration": 21,
    "start_time": "2024-01-15T20:30:56.511Z"
   },
   {
    "duration": 19,
    "start_time": "2024-01-15T20:31:05.460Z"
   },
   {
    "duration": 17,
    "start_time": "2024-01-15T20:32:04.094Z"
   },
   {
    "duration": 21,
    "start_time": "2024-01-15T20:33:03.028Z"
   },
   {
    "duration": 22,
    "start_time": "2024-01-15T20:33:22.093Z"
   },
   {
    "duration": 24,
    "start_time": "2024-01-15T20:34:53.227Z"
   },
   {
    "duration": 27,
    "start_time": "2024-01-15T20:35:45.385Z"
   },
   {
    "duration": 20,
    "start_time": "2024-01-15T20:37:07.843Z"
   },
   {
    "duration": 15,
    "start_time": "2024-01-15T20:40:37.739Z"
   },
   {
    "duration": 282,
    "start_time": "2024-01-15T20:40:46.209Z"
   },
   {
    "duration": 301,
    "start_time": "2024-01-15T20:41:05.547Z"
   },
   {
    "duration": 13,
    "start_time": "2024-01-15T20:41:54.126Z"
   },
   {
    "duration": 15,
    "start_time": "2024-01-15T20:42:30.608Z"
   },
   {
    "duration": 18,
    "start_time": "2024-01-15T20:42:58.959Z"
   },
   {
    "duration": 12,
    "start_time": "2024-01-15T20:43:41.703Z"
   },
   {
    "duration": 14,
    "start_time": "2024-01-15T20:43:55.041Z"
   },
   {
    "duration": 16,
    "start_time": "2024-01-15T20:45:01.476Z"
   },
   {
    "duration": 12,
    "start_time": "2024-01-15T20:45:09.409Z"
   },
   {
    "duration": 1301,
    "start_time": "2024-01-16T10:03:09.593Z"
   },
   {
    "duration": 190,
    "start_time": "2024-01-16T10:03:10.896Z"
   },
   {
    "duration": 11,
    "start_time": "2024-01-16T10:03:11.088Z"
   },
   {
    "duration": 15,
    "start_time": "2024-01-16T10:03:11.101Z"
   },
   {
    "duration": 17,
    "start_time": "2024-01-16T10:03:11.118Z"
   },
   {
    "duration": 11,
    "start_time": "2024-01-16T10:03:11.138Z"
   },
   {
    "duration": 7,
    "start_time": "2024-01-16T10:03:11.151Z"
   },
   {
    "duration": 17,
    "start_time": "2024-01-16T10:03:11.160Z"
   },
   {
    "duration": 15,
    "start_time": "2024-01-16T10:03:11.179Z"
   },
   {
    "duration": 11,
    "start_time": "2024-01-16T10:03:11.198Z"
   },
   {
    "duration": 6,
    "start_time": "2024-01-16T10:03:11.211Z"
   },
   {
    "duration": 9,
    "start_time": "2024-01-16T10:03:11.219Z"
   },
   {
    "duration": 9,
    "start_time": "2024-01-16T10:03:11.230Z"
   },
   {
    "duration": 31,
    "start_time": "2024-01-16T10:03:11.241Z"
   },
   {
    "duration": 24,
    "start_time": "2024-01-16T10:03:11.274Z"
   },
   {
    "duration": 8,
    "start_time": "2024-01-16T10:03:11.300Z"
   },
   {
    "duration": 19,
    "start_time": "2024-01-16T10:03:11.310Z"
   },
   {
    "duration": 11,
    "start_time": "2024-01-16T10:03:11.331Z"
   },
   {
    "duration": 32,
    "start_time": "2024-01-16T10:03:11.344Z"
   },
   {
    "duration": 154,
    "start_time": "2024-01-16T10:03:11.378Z"
   },
   {
    "duration": 8,
    "start_time": "2024-01-16T10:03:11.533Z"
   },
   {
    "duration": 84,
    "start_time": "2024-01-16T10:03:11.543Z"
   },
   {
    "duration": 7,
    "start_time": "2024-01-16T10:03:11.629Z"
   },
   {
    "duration": 290,
    "start_time": "2024-01-16T10:03:11.638Z"
   },
   {
    "duration": 7,
    "start_time": "2024-01-16T10:03:11.930Z"
   },
   {
    "duration": 110,
    "start_time": "2024-01-16T10:03:11.938Z"
   },
   {
    "duration": 22,
    "start_time": "2024-01-16T10:03:12.049Z"
   },
   {
    "duration": 254,
    "start_time": "2024-01-16T10:03:12.074Z"
   },
   {
    "duration": 136,
    "start_time": "2024-01-16T10:03:12.329Z"
   },
   {
    "duration": 9,
    "start_time": "2024-01-16T10:03:12.466Z"
   },
   {
    "duration": 302,
    "start_time": "2024-01-16T10:03:12.476Z"
   },
   {
    "duration": 120,
    "start_time": "2024-01-16T10:03:12.780Z"
   },
   {
    "duration": 22,
    "start_time": "2024-01-16T10:03:12.902Z"
   },
   {
    "duration": 13,
    "start_time": "2024-01-16T10:03:12.926Z"
   },
   {
    "duration": 32,
    "start_time": "2024-01-16T10:03:12.941Z"
   },
   {
    "duration": 13,
    "start_time": "2024-01-16T10:03:12.975Z"
   },
   {
    "duration": 178,
    "start_time": "2024-01-16T10:03:12.990Z"
   },
   {
    "duration": 159,
    "start_time": "2024-01-16T10:03:13.169Z"
   },
   {
    "duration": 160,
    "start_time": "2024-01-16T10:03:13.330Z"
   },
   {
    "duration": 164,
    "start_time": "2024-01-16T10:03:13.492Z"
   },
   {
    "duration": 77,
    "start_time": "2024-01-16T10:03:13.658Z"
   },
   {
    "duration": 0,
    "start_time": "2024-01-16T10:03:13.736Z"
   },
   {
    "duration": 0,
    "start_time": "2024-01-16T10:03:13.738Z"
   },
   {
    "duration": 0,
    "start_time": "2024-01-16T10:03:13.740Z"
   },
   {
    "duration": 0,
    "start_time": "2024-01-16T10:03:13.741Z"
   },
   {
    "duration": 20,
    "start_time": "2024-01-16T10:04:39.989Z"
   },
   {
    "duration": 5,
    "start_time": "2024-01-16T10:04:55.041Z"
   },
   {
    "duration": 26,
    "start_time": "2024-01-16T10:05:23.992Z"
   },
   {
    "duration": 23,
    "start_time": "2024-01-16T10:07:26.324Z"
   },
   {
    "duration": 103,
    "start_time": "2024-01-16T10:07:34.474Z"
   },
   {
    "duration": 12,
    "start_time": "2024-01-16T10:08:37.501Z"
   },
   {
    "duration": 73,
    "start_time": "2024-01-16T10:12:46.525Z"
   },
   {
    "duration": 28,
    "start_time": "2024-01-16T10:12:54.958Z"
   },
   {
    "duration": 337,
    "start_time": "2024-01-16T10:21:06.081Z"
   },
   {
    "duration": 290,
    "start_time": "2024-01-16T10:21:46.008Z"
   },
   {
    "duration": 30,
    "start_time": "2024-01-16T10:21:52.540Z"
   },
   {
    "duration": 29,
    "start_time": "2024-01-16T10:22:30.206Z"
   },
   {
    "duration": 354,
    "start_time": "2024-01-16T10:24:44.223Z"
   },
   {
    "duration": 37,
    "start_time": "2024-01-16T10:25:47.789Z"
   },
   {
    "duration": 35,
    "start_time": "2024-01-16T10:28:23.274Z"
   },
   {
    "duration": 1388,
    "start_time": "2024-01-16T10:39:55.121Z"
   },
   {
    "duration": 14,
    "start_time": "2024-01-16T10:41:49.916Z"
   },
   {
    "duration": 1273,
    "start_time": "2024-01-16T10:43:28.394Z"
   },
   {
    "duration": 1226,
    "start_time": "2024-01-16T10:44:25.467Z"
   },
   {
    "duration": 1174,
    "start_time": "2024-01-16T10:44:50.167Z"
   },
   {
    "duration": 1323,
    "start_time": "2024-01-16T10:45:55.032Z"
   },
   {
    "duration": 1077,
    "start_time": "2024-01-16T10:46:35.789Z"
   },
   {
    "duration": 66,
    "start_time": "2024-01-16T10:46:36.868Z"
   },
   {
    "duration": 11,
    "start_time": "2024-01-16T10:46:36.936Z"
   },
   {
    "duration": 10,
    "start_time": "2024-01-16T10:46:36.950Z"
   },
   {
    "duration": 21,
    "start_time": "2024-01-16T10:46:36.962Z"
   },
   {
    "duration": 12,
    "start_time": "2024-01-16T10:46:36.984Z"
   },
   {
    "duration": 6,
    "start_time": "2024-01-16T10:46:36.998Z"
   },
   {
    "duration": 10,
    "start_time": "2024-01-16T10:46:37.005Z"
   },
   {
    "duration": 13,
    "start_time": "2024-01-16T10:46:37.016Z"
   },
   {
    "duration": 10,
    "start_time": "2024-01-16T10:46:37.031Z"
   },
   {
    "duration": 24,
    "start_time": "2024-01-16T10:46:37.042Z"
   },
   {
    "duration": 10,
    "start_time": "2024-01-16T10:46:37.068Z"
   },
   {
    "duration": 7,
    "start_time": "2024-01-16T10:46:37.079Z"
   },
   {
    "duration": 17,
    "start_time": "2024-01-16T10:46:37.087Z"
   },
   {
    "duration": 12,
    "start_time": "2024-01-16T10:46:37.105Z"
   },
   {
    "duration": 7,
    "start_time": "2024-01-16T10:46:37.119Z"
   },
   {
    "duration": 4,
    "start_time": "2024-01-16T10:46:37.127Z"
   },
   {
    "duration": 34,
    "start_time": "2024-01-16T10:46:37.132Z"
   },
   {
    "duration": 17,
    "start_time": "2024-01-16T10:46:37.167Z"
   },
   {
    "duration": 158,
    "start_time": "2024-01-16T10:46:37.186Z"
   },
   {
    "duration": 8,
    "start_time": "2024-01-16T10:46:37.345Z"
   },
   {
    "duration": 79,
    "start_time": "2024-01-16T10:46:37.354Z"
   },
   {
    "duration": 7,
    "start_time": "2024-01-16T10:46:37.435Z"
   },
   {
    "duration": 278,
    "start_time": "2024-01-16T10:46:37.443Z"
   },
   {
    "duration": 7,
    "start_time": "2024-01-16T10:46:37.723Z"
   },
   {
    "duration": 120,
    "start_time": "2024-01-16T10:46:37.732Z"
   },
   {
    "duration": 19,
    "start_time": "2024-01-16T10:46:37.854Z"
   },
   {
    "duration": 254,
    "start_time": "2024-01-16T10:46:37.877Z"
   },
   {
    "duration": 122,
    "start_time": "2024-01-16T10:46:38.133Z"
   },
   {
    "duration": 15,
    "start_time": "2024-01-16T10:46:38.256Z"
   },
   {
    "duration": 314,
    "start_time": "2024-01-16T10:46:38.272Z"
   },
   {
    "duration": 127,
    "start_time": "2024-01-16T10:46:38.587Z"
   },
   {
    "duration": 25,
    "start_time": "2024-01-16T10:46:38.716Z"
   },
   {
    "duration": 31,
    "start_time": "2024-01-16T10:46:38.743Z"
   },
   {
    "duration": 15,
    "start_time": "2024-01-16T10:46:38.775Z"
   },
   {
    "duration": 15,
    "start_time": "2024-01-16T10:46:38.792Z"
   },
   {
    "duration": 208,
    "start_time": "2024-01-16T10:46:38.809Z"
   },
   {
    "duration": 154,
    "start_time": "2024-01-16T10:46:39.018Z"
   },
   {
    "duration": 178,
    "start_time": "2024-01-16T10:46:39.174Z"
   },
   {
    "duration": 164,
    "start_time": "2024-01-16T10:46:39.353Z"
   },
   {
    "duration": 20,
    "start_time": "2024-01-16T10:46:39.519Z"
   },
   {
    "duration": 5,
    "start_time": "2024-01-16T10:46:39.540Z"
   },
   {
    "duration": 50,
    "start_time": "2024-01-16T10:46:39.546Z"
   },
   {
    "duration": 1300,
    "start_time": "2024-01-16T10:46:39.598Z"
   },
   {
    "duration": 0,
    "start_time": "2024-01-16T10:46:40.900Z"
   },
   {
    "duration": 84,
    "start_time": "2024-01-16T10:52:31.863Z"
   },
   {
    "duration": 358,
    "start_time": "2024-01-16T10:53:09.020Z"
   },
   {
    "duration": 14,
    "start_time": "2024-01-16T10:53:41.328Z"
   },
   {
    "duration": 1539,
    "start_time": "2024-01-16T10:58:27.793Z"
   },
   {
    "duration": 1638,
    "start_time": "2024-01-16T11:02:20.473Z"
   },
   {
    "duration": 1455,
    "start_time": "2024-01-16T11:03:54.742Z"
   },
   {
    "duration": 18,
    "start_time": "2024-01-16T11:05:33.132Z"
   },
   {
    "duration": 15,
    "start_time": "2024-01-16T11:14:33.871Z"
   },
   {
    "duration": 13,
    "start_time": "2024-01-16T11:15:07.879Z"
   },
   {
    "duration": 14,
    "start_time": "2024-01-16T11:15:12.177Z"
   },
   {
    "duration": 1331,
    "start_time": "2024-01-16T11:15:33.753Z"
   },
   {
    "duration": 4,
    "start_time": "2024-01-16T11:16:52.786Z"
   },
   {
    "duration": 22,
    "start_time": "2024-01-16T11:17:44.019Z"
   },
   {
    "duration": 5,
    "start_time": "2024-01-16T11:17:58.401Z"
   },
   {
    "duration": 19,
    "start_time": "2024-01-16T11:18:23.652Z"
   },
   {
    "duration": 33,
    "start_time": "2024-01-16T11:21:30.501Z"
   },
   {
    "duration": 324,
    "start_time": "2024-01-16T11:28:08.417Z"
   },
   {
    "duration": 20,
    "start_time": "2024-01-16T11:28:32.781Z"
   },
   {
    "duration": 22,
    "start_time": "2024-01-16T11:28:48.873Z"
   },
   {
    "duration": 22,
    "start_time": "2024-01-16T11:29:04.864Z"
   },
   {
    "duration": 35,
    "start_time": "2024-01-16T11:30:00.789Z"
   },
   {
    "duration": 34,
    "start_time": "2024-01-16T11:30:17.400Z"
   },
   {
    "duration": 105,
    "start_time": "2024-01-16T11:30:37.216Z"
   },
   {
    "duration": 18,
    "start_time": "2024-01-16T11:30:46.516Z"
   },
   {
    "duration": 1405,
    "start_time": "2024-01-16T11:30:57.948Z"
   },
   {
    "duration": 17,
    "start_time": "2024-01-16T11:33:02.963Z"
   },
   {
    "duration": 9,
    "start_time": "2024-01-16T11:48:04.352Z"
   },
   {
    "duration": 13,
    "start_time": "2024-01-16T11:48:27.817Z"
   },
   {
    "duration": 10,
    "start_time": "2024-01-16T12:39:51.765Z"
   },
   {
    "duration": 8,
    "start_time": "2024-01-16T12:40:07.051Z"
   },
   {
    "duration": 9,
    "start_time": "2024-01-16T12:49:04.546Z"
   },
   {
    "duration": 9,
    "start_time": "2024-01-16T12:49:07.049Z"
   },
   {
    "duration": 93,
    "start_time": "2024-01-16T14:38:53.189Z"
   },
   {
    "duration": 102,
    "start_time": "2024-01-16T14:39:42.238Z"
   },
   {
    "duration": 134,
    "start_time": "2024-01-16T14:41:08.483Z"
   },
   {
    "duration": 5,
    "start_time": "2024-01-16T14:42:11.774Z"
   },
   {
    "duration": 4,
    "start_time": "2024-01-16T14:42:36.692Z"
   },
   {
    "duration": 4,
    "start_time": "2024-01-16T14:42:54.607Z"
   },
   {
    "duration": 5,
    "start_time": "2024-01-16T14:43:30.959Z"
   },
   {
    "duration": 5,
    "start_time": "2024-01-16T14:43:41.466Z"
   },
   {
    "duration": 5,
    "start_time": "2024-01-16T14:43:44.824Z"
   },
   {
    "duration": 66,
    "start_time": "2024-01-16T14:48:12.178Z"
   },
   {
    "duration": 5,
    "start_time": "2024-01-16T14:48:30.854Z"
   },
   {
    "duration": 4,
    "start_time": "2024-01-16T14:50:15.182Z"
   },
   {
    "duration": 4,
    "start_time": "2024-01-16T14:50:19.169Z"
   },
   {
    "duration": 4,
    "start_time": "2024-01-16T14:50:22.914Z"
   },
   {
    "duration": 7,
    "start_time": "2024-01-16T14:51:41.312Z"
   },
   {
    "duration": 6,
    "start_time": "2024-01-16T14:51:46.812Z"
   },
   {
    "duration": 6,
    "start_time": "2024-01-16T14:51:51.230Z"
   },
   {
    "duration": 6,
    "start_time": "2024-01-16T14:51:55.997Z"
   },
   {
    "duration": 7,
    "start_time": "2024-01-16T14:52:05.293Z"
   },
   {
    "duration": 3,
    "start_time": "2024-01-16T14:52:22.931Z"
   },
   {
    "duration": 6,
    "start_time": "2024-01-16T14:52:34.780Z"
   },
   {
    "duration": 1106,
    "start_time": "2024-01-16T14:52:41.408Z"
   },
   {
    "duration": 69,
    "start_time": "2024-01-16T14:52:42.517Z"
   },
   {
    "duration": 10,
    "start_time": "2024-01-16T14:52:42.590Z"
   },
   {
    "duration": 10,
    "start_time": "2024-01-16T14:52:42.601Z"
   },
   {
    "duration": 10,
    "start_time": "2024-01-16T14:52:42.613Z"
   },
   {
    "duration": 13,
    "start_time": "2024-01-16T14:52:42.624Z"
   },
   {
    "duration": 6,
    "start_time": "2024-01-16T14:52:42.639Z"
   },
   {
    "duration": 23,
    "start_time": "2024-01-16T14:52:42.646Z"
   },
   {
    "duration": 15,
    "start_time": "2024-01-16T14:52:42.671Z"
   },
   {
    "duration": 10,
    "start_time": "2024-01-16T14:52:42.687Z"
   },
   {
    "duration": 5,
    "start_time": "2024-01-16T14:52:42.698Z"
   },
   {
    "duration": 8,
    "start_time": "2024-01-16T14:52:42.704Z"
   },
   {
    "duration": 8,
    "start_time": "2024-01-16T14:52:42.713Z"
   },
   {
    "duration": 8,
    "start_time": "2024-01-16T14:52:42.722Z"
   },
   {
    "duration": 41,
    "start_time": "2024-01-16T14:52:42.731Z"
   },
   {
    "duration": 7,
    "start_time": "2024-01-16T14:52:42.774Z"
   },
   {
    "duration": 4,
    "start_time": "2024-01-16T14:52:42.782Z"
   },
   {
    "duration": 6,
    "start_time": "2024-01-16T14:52:42.787Z"
   },
   {
    "duration": 15,
    "start_time": "2024-01-16T14:52:42.794Z"
   },
   {
    "duration": 161,
    "start_time": "2024-01-16T14:52:42.811Z"
   },
   {
    "duration": 8,
    "start_time": "2024-01-16T14:52:42.974Z"
   },
   {
    "duration": 83,
    "start_time": "2024-01-16T14:52:42.983Z"
   },
   {
    "duration": 6,
    "start_time": "2024-01-16T14:52:43.068Z"
   },
   {
    "duration": 257,
    "start_time": "2024-01-16T14:52:43.075Z"
   },
   {
    "duration": 7,
    "start_time": "2024-01-16T14:52:43.333Z"
   },
   {
    "duration": 112,
    "start_time": "2024-01-16T14:52:43.341Z"
   },
   {
    "duration": 9,
    "start_time": "2024-01-16T14:52:43.464Z"
   },
   {
    "duration": 269,
    "start_time": "2024-01-16T14:52:43.475Z"
   },
   {
    "duration": 126,
    "start_time": "2024-01-16T14:52:43.746Z"
   },
   {
    "duration": 8,
    "start_time": "2024-01-16T14:52:43.874Z"
   },
   {
    "duration": 290,
    "start_time": "2024-01-16T14:52:43.883Z"
   },
   {
    "duration": 122,
    "start_time": "2024-01-16T14:52:44.175Z"
   },
   {
    "duration": 25,
    "start_time": "2024-01-16T14:52:44.298Z"
   },
   {
    "duration": 12,
    "start_time": "2024-01-16T14:52:44.324Z"
   },
   {
    "duration": 34,
    "start_time": "2024-01-16T14:52:44.337Z"
   },
   {
    "duration": 17,
    "start_time": "2024-01-16T14:52:44.372Z"
   },
   {
    "duration": 178,
    "start_time": "2024-01-16T14:52:44.391Z"
   },
   {
    "duration": 154,
    "start_time": "2024-01-16T14:52:44.571Z"
   },
   {
    "duration": 7,
    "start_time": "2024-01-16T14:52:44.727Z"
   },
   {
    "duration": 11,
    "start_time": "2024-01-16T14:52:44.735Z"
   },
   {
    "duration": 166,
    "start_time": "2024-01-16T14:52:44.747Z"
   },
   {
    "duration": 152,
    "start_time": "2024-01-16T14:52:44.915Z"
   },
   {
    "duration": 7,
    "start_time": "2024-01-16T14:52:45.068Z"
   },
   {
    "duration": 56,
    "start_time": "2024-01-16T14:52:45.076Z"
   },
   {
    "duration": 28,
    "start_time": "2024-01-16T14:52:45.133Z"
   },
   {
    "duration": 41,
    "start_time": "2024-01-16T14:52:45.162Z"
   },
   {
    "duration": 16,
    "start_time": "2024-01-16T14:52:45.204Z"
   },
   {
    "duration": 6,
    "start_time": "2024-01-16T14:52:45.221Z"
   },
   {
    "duration": 13,
    "start_time": "2024-01-16T14:52:45.228Z"
   },
   {
    "duration": 7,
    "start_time": "2024-01-16T14:52:45.242Z"
   },
   {
    "duration": 5,
    "start_time": "2024-01-16T14:53:01.246Z"
   },
   {
    "duration": 5,
    "start_time": "2024-01-16T14:53:32.197Z"
   },
   {
    "duration": 6,
    "start_time": "2024-01-16T14:55:13.984Z"
   },
   {
    "duration": 5,
    "start_time": "2024-01-16T14:55:42.963Z"
   },
   {
    "duration": 5,
    "start_time": "2024-01-16T14:58:50.116Z"
   },
   {
    "duration": 114,
    "start_time": "2024-01-16T14:59:05.364Z"
   },
   {
    "duration": 4,
    "start_time": "2024-01-16T14:59:11.998Z"
   },
   {
    "duration": 7,
    "start_time": "2024-01-16T15:11:13.033Z"
   },
   {
    "duration": 6,
    "start_time": "2024-01-16T16:25:41.068Z"
   },
   {
    "duration": 4,
    "start_time": "2024-01-16T16:28:18.684Z"
   },
   {
    "duration": 6,
    "start_time": "2024-01-16T16:43:02.786Z"
   },
   {
    "duration": 4,
    "start_time": "2024-01-16T16:43:20.262Z"
   },
   {
    "duration": 495,
    "start_time": "2024-01-16T16:56:04.341Z"
   },
   {
    "duration": 77,
    "start_time": "2024-01-16T16:57:04.713Z"
   },
   {
    "duration": 10,
    "start_time": "2024-01-16T16:59:43.872Z"
   },
   {
    "duration": 21,
    "start_time": "2024-01-16T17:00:00.854Z"
   },
   {
    "duration": 1088,
    "start_time": "2024-01-16T17:00:31.891Z"
   },
   {
    "duration": 68,
    "start_time": "2024-01-16T17:00:32.981Z"
   },
   {
    "duration": 12,
    "start_time": "2024-01-16T17:00:33.051Z"
   },
   {
    "duration": 27,
    "start_time": "2024-01-16T17:00:33.065Z"
   },
   {
    "duration": 16,
    "start_time": "2024-01-16T17:00:33.094Z"
   },
   {
    "duration": 10,
    "start_time": "2024-01-16T17:00:33.112Z"
   },
   {
    "duration": 8,
    "start_time": "2024-01-16T17:00:33.123Z"
   },
   {
    "duration": 10,
    "start_time": "2024-01-16T17:00:33.133Z"
   },
   {
    "duration": 22,
    "start_time": "2024-01-16T17:00:33.144Z"
   },
   {
    "duration": 11,
    "start_time": "2024-01-16T17:00:33.168Z"
   },
   {
    "duration": 6,
    "start_time": "2024-01-16T17:00:33.180Z"
   },
   {
    "duration": 22,
    "start_time": "2024-01-16T17:00:33.188Z"
   },
   {
    "duration": 5,
    "start_time": "2024-01-16T17:00:33.212Z"
   },
   {
    "duration": 8,
    "start_time": "2024-01-16T17:00:33.219Z"
   },
   {
    "duration": 13,
    "start_time": "2024-01-16T17:00:33.229Z"
   },
   {
    "duration": 8,
    "start_time": "2024-01-16T17:00:33.266Z"
   },
   {
    "duration": 6,
    "start_time": "2024-01-16T17:00:33.275Z"
   },
   {
    "duration": 5,
    "start_time": "2024-01-16T17:00:33.283Z"
   },
   {
    "duration": 18,
    "start_time": "2024-01-16T17:00:33.289Z"
   },
   {
    "duration": 165,
    "start_time": "2024-01-16T17:00:33.308Z"
   },
   {
    "duration": 8,
    "start_time": "2024-01-16T17:00:33.475Z"
   },
   {
    "duration": 86,
    "start_time": "2024-01-16T17:00:33.484Z"
   },
   {
    "duration": 7,
    "start_time": "2024-01-16T17:00:33.571Z"
   },
   {
    "duration": 255,
    "start_time": "2024-01-16T17:00:33.579Z"
   },
   {
    "duration": 7,
    "start_time": "2024-01-16T17:00:33.835Z"
   },
   {
    "duration": 108,
    "start_time": "2024-01-16T17:00:33.844Z"
   },
   {
    "duration": 14,
    "start_time": "2024-01-16T17:00:33.953Z"
   },
   {
    "duration": 244,
    "start_time": "2024-01-16T17:00:33.970Z"
   },
   {
    "duration": 136,
    "start_time": "2024-01-16T17:00:34.216Z"
   },
   {
    "duration": 15,
    "start_time": "2024-01-16T17:00:34.353Z"
   },
   {
    "duration": 305,
    "start_time": "2024-01-16T17:00:34.369Z"
   },
   {
    "duration": 120,
    "start_time": "2024-01-16T17:00:34.675Z"
   },
   {
    "duration": 23,
    "start_time": "2024-01-16T17:00:34.796Z"
   },
   {
    "duration": 12,
    "start_time": "2024-01-16T17:00:34.821Z"
   },
   {
    "duration": 38,
    "start_time": "2024-01-16T17:00:34.834Z"
   },
   {
    "duration": 14,
    "start_time": "2024-01-16T17:00:34.874Z"
   },
   {
    "duration": 182,
    "start_time": "2024-01-16T17:00:34.890Z"
   },
   {
    "duration": 145,
    "start_time": "2024-01-16T17:00:35.074Z"
   },
   {
    "duration": 8,
    "start_time": "2024-01-16T17:00:35.221Z"
   },
   {
    "duration": 8,
    "start_time": "2024-01-16T17:00:35.230Z"
   },
   {
    "duration": 27,
    "start_time": "2024-01-16T17:00:35.239Z"
   },
   {
    "duration": 159,
    "start_time": "2024-01-16T17:00:35.268Z"
   },
   {
    "duration": 160,
    "start_time": "2024-01-16T17:00:35.429Z"
   },
   {
    "duration": 9,
    "start_time": "2024-01-16T17:00:35.591Z"
   },
   {
    "duration": 10,
    "start_time": "2024-01-16T17:00:35.601Z"
   },
   {
    "duration": 18,
    "start_time": "2024-01-16T17:00:35.612Z"
   },
   {
    "duration": 140,
    "start_time": "2024-01-16T17:00:35.632Z"
   },
   {
    "duration": 0,
    "start_time": "2024-01-16T17:00:35.773Z"
   },
   {
    "duration": 0,
    "start_time": "2024-01-16T17:00:35.776Z"
   },
   {
    "duration": 0,
    "start_time": "2024-01-16T17:00:35.777Z"
   },
   {
    "duration": 0,
    "start_time": "2024-01-16T17:00:35.778Z"
   },
   {
    "duration": 0,
    "start_time": "2024-01-16T17:00:35.779Z"
   },
   {
    "duration": 0,
    "start_time": "2024-01-16T17:00:35.781Z"
   },
   {
    "duration": 0,
    "start_time": "2024-01-16T17:00:35.782Z"
   },
   {
    "duration": 0,
    "start_time": "2024-01-16T17:00:35.784Z"
   },
   {
    "duration": 80,
    "start_time": "2024-01-16T17:03:15.288Z"
   },
   {
    "duration": 4,
    "start_time": "2024-01-16T17:08:41.852Z"
   },
   {
    "duration": 13,
    "start_time": "2024-01-16T17:08:47.511Z"
   },
   {
    "duration": 22,
    "start_time": "2024-01-16T17:09:30.949Z"
   },
   {
    "duration": 27,
    "start_time": "2024-01-16T17:10:43.334Z"
   },
   {
    "duration": 38,
    "start_time": "2024-01-16T17:11:25.120Z"
   },
   {
    "duration": 384,
    "start_time": "2024-01-16T17:14:03.084Z"
   },
   {
    "duration": 38,
    "start_time": "2024-01-16T17:14:15.733Z"
   },
   {
    "duration": 381,
    "start_time": "2024-01-16T17:20:56.392Z"
   },
   {
    "duration": 1249,
    "start_time": "2024-01-16T17:22:38.334Z"
   },
   {
    "duration": 305,
    "start_time": "2024-01-16T17:23:36.737Z"
   },
   {
    "duration": 41,
    "start_time": "2024-01-16T17:26:46.699Z"
   },
   {
    "duration": 18,
    "start_time": "2024-01-16T17:34:06.416Z"
   },
   {
    "duration": 5,
    "start_time": "2024-01-16T17:41:11.578Z"
   },
   {
    "duration": 5,
    "start_time": "2024-01-16T17:41:17.262Z"
   },
   {
    "duration": 6,
    "start_time": "2024-01-16T17:41:31.877Z"
   },
   {
    "duration": 4,
    "start_time": "2024-01-16T17:41:37.730Z"
   },
   {
    "duration": 5,
    "start_time": "2024-01-16T17:41:53.978Z"
   },
   {
    "duration": 3,
    "start_time": "2024-01-16T17:42:01.529Z"
   },
   {
    "duration": 5,
    "start_time": "2024-01-16T17:42:07.401Z"
   },
   {
    "duration": 10,
    "start_time": "2024-01-16T17:56:19.156Z"
   },
   {
    "duration": 11,
    "start_time": "2024-01-16T17:57:38.710Z"
   },
   {
    "duration": 6,
    "start_time": "2024-01-16T17:58:42.635Z"
   },
   {
    "duration": 4,
    "start_time": "2024-01-16T17:59:00.028Z"
   },
   {
    "duration": 9,
    "start_time": "2024-01-16T18:35:01.138Z"
   },
   {
    "duration": 7,
    "start_time": "2024-01-16T18:35:43.452Z"
   },
   {
    "duration": 9,
    "start_time": "2024-01-16T18:36:03.802Z"
   },
   {
    "duration": 8,
    "start_time": "2024-01-16T18:36:27.448Z"
   },
   {
    "duration": 7,
    "start_time": "2024-01-16T18:37:38.320Z"
   },
   {
    "duration": 16,
    "start_time": "2024-01-16T18:41:05.003Z"
   },
   {
    "duration": 9,
    "start_time": "2024-01-16T18:41:16.801Z"
   },
   {
    "duration": 12,
    "start_time": "2024-01-16T18:42:08.272Z"
   },
   {
    "duration": 8,
    "start_time": "2024-01-16T18:42:17.186Z"
   },
   {
    "duration": 10,
    "start_time": "2024-01-16T18:43:56.726Z"
   },
   {
    "duration": 10,
    "start_time": "2024-01-16T18:45:02.685Z"
   },
   {
    "duration": 9,
    "start_time": "2024-01-16T19:12:03.669Z"
   },
   {
    "duration": 1732,
    "start_time": "2024-01-16T19:35:03.779Z"
   },
   {
    "duration": 1763,
    "start_time": "2024-01-16T19:35:21.037Z"
   },
   {
    "duration": 2057,
    "start_time": "2024-01-16T19:38:18.562Z"
   },
   {
    "duration": 1753,
    "start_time": "2024-01-16T19:38:33.881Z"
   },
   {
    "duration": 15497,
    "start_time": "2024-01-16T19:40:12.984Z"
   },
   {
    "duration": 17565,
    "start_time": "2024-01-16T19:41:13.682Z"
   },
   {
    "duration": 2553,
    "start_time": "2024-01-16T19:43:23.783Z"
   },
   {
    "duration": 1816,
    "start_time": "2024-01-16T19:44:46.903Z"
   },
   {
    "duration": 1682,
    "start_time": "2024-01-16T19:45:19.268Z"
   },
   {
    "duration": 1701,
    "start_time": "2024-01-16T19:48:06.599Z"
   },
   {
    "duration": 1997,
    "start_time": "2024-01-17T06:14:55.708Z"
   },
   {
    "duration": 1450,
    "start_time": "2024-01-17T06:15:04.550Z"
   },
   {
    "duration": 196,
    "start_time": "2024-01-17T06:15:06.002Z"
   },
   {
    "duration": 12,
    "start_time": "2024-01-17T06:15:06.200Z"
   },
   {
    "duration": 24,
    "start_time": "2024-01-17T06:15:06.214Z"
   },
   {
    "duration": 15,
    "start_time": "2024-01-17T06:15:06.240Z"
   },
   {
    "duration": 32,
    "start_time": "2024-01-17T06:15:06.257Z"
   },
   {
    "duration": 10,
    "start_time": "2024-01-17T06:15:06.290Z"
   },
   {
    "duration": 37,
    "start_time": "2024-01-17T06:15:06.301Z"
   },
   {
    "duration": 36,
    "start_time": "2024-01-17T06:15:06.340Z"
   },
   {
    "duration": 36,
    "start_time": "2024-01-17T06:15:06.378Z"
   },
   {
    "duration": 36,
    "start_time": "2024-01-17T06:15:06.416Z"
   },
   {
    "duration": 41,
    "start_time": "2024-01-17T06:15:06.454Z"
   },
   {
    "duration": 32,
    "start_time": "2024-01-17T06:15:06.497Z"
   },
   {
    "duration": 15,
    "start_time": "2024-01-17T06:15:06.531Z"
   },
   {
    "duration": 36,
    "start_time": "2024-01-17T06:15:06.547Z"
   },
   {
    "duration": 37,
    "start_time": "2024-01-17T06:15:06.584Z"
   },
   {
    "duration": 24,
    "start_time": "2024-01-17T06:15:06.622Z"
   },
   {
    "duration": 34,
    "start_time": "2024-01-17T06:15:06.648Z"
   },
   {
    "duration": 33,
    "start_time": "2024-01-17T06:15:06.684Z"
   },
   {
    "duration": 190,
    "start_time": "2024-01-17T06:15:06.718Z"
   },
   {
    "duration": 10,
    "start_time": "2024-01-17T06:15:06.910Z"
   },
   {
    "duration": 115,
    "start_time": "2024-01-17T06:15:06.921Z"
   },
   {
    "duration": 8,
    "start_time": "2024-01-17T06:15:07.038Z"
   },
   {
    "duration": 299,
    "start_time": "2024-01-17T06:15:07.059Z"
   },
   {
    "duration": 8,
    "start_time": "2024-01-17T06:15:07.360Z"
   },
   {
    "duration": 136,
    "start_time": "2024-01-17T06:15:07.370Z"
   },
   {
    "duration": 9,
    "start_time": "2024-01-17T06:15:07.508Z"
   },
   {
    "duration": 302,
    "start_time": "2024-01-17T06:15:07.522Z"
   },
   {
    "duration": 143,
    "start_time": "2024-01-17T06:15:07.826Z"
   },
   {
    "duration": 10,
    "start_time": "2024-01-17T06:15:07.971Z"
   },
   {
    "duration": 354,
    "start_time": "2024-01-17T06:15:07.983Z"
   },
   {
    "duration": 147,
    "start_time": "2024-01-17T06:15:08.338Z"
   },
   {
    "duration": 27,
    "start_time": "2024-01-17T06:15:08.486Z"
   },
   {
    "duration": 13,
    "start_time": "2024-01-17T06:15:08.515Z"
   },
   {
    "duration": 38,
    "start_time": "2024-01-17T06:15:08.530Z"
   },
   {
    "duration": 19,
    "start_time": "2024-01-17T06:15:08.570Z"
   },
   {
    "duration": 211,
    "start_time": "2024-01-17T06:15:08.591Z"
   },
   {
    "duration": 175,
    "start_time": "2024-01-17T06:15:08.804Z"
   },
   {
    "duration": 8,
    "start_time": "2024-01-17T06:15:08.981Z"
   },
   {
    "duration": 8,
    "start_time": "2024-01-17T06:15:08.991Z"
   },
   {
    "duration": 9,
    "start_time": "2024-01-17T06:15:09.001Z"
   },
   {
    "duration": 203,
    "start_time": "2024-01-17T06:15:09.012Z"
   },
   {
    "duration": 173,
    "start_time": "2024-01-17T06:15:09.216Z"
   },
   {
    "duration": 9,
    "start_time": "2024-01-17T06:15:09.390Z"
   },
   {
    "duration": 15,
    "start_time": "2024-01-17T06:15:09.401Z"
   },
   {
    "duration": 54,
    "start_time": "2024-01-17T06:15:09.418Z"
   },
   {
    "duration": 44,
    "start_time": "2024-01-17T06:15:09.474Z"
   },
   {
    "duration": 16,
    "start_time": "2024-01-17T06:15:09.520Z"
   },
   {
    "duration": 28,
    "start_time": "2024-01-17T06:15:09.538Z"
   },
   {
    "duration": 8,
    "start_time": "2024-01-17T06:15:09.567Z"
   },
   {
    "duration": 9,
    "start_time": "2024-01-17T06:15:09.577Z"
   },
   {
    "duration": 6,
    "start_time": "2024-01-17T06:15:09.588Z"
   },
   {
    "duration": 5,
    "start_time": "2024-01-17T06:15:09.595Z"
   },
   {
    "duration": 8,
    "start_time": "2024-01-17T06:15:09.602Z"
   },
   {
    "duration": 4,
    "start_time": "2024-01-17T06:15:09.612Z"
   },
   {
    "duration": 42,
    "start_time": "2024-01-17T06:15:09.618Z"
   },
   {
    "duration": 8,
    "start_time": "2024-01-17T06:15:09.662Z"
   },
   {
    "duration": 13,
    "start_time": "2024-01-17T06:15:09.672Z"
   },
   {
    "duration": 11,
    "start_time": "2024-01-17T06:15:09.687Z"
   },
   {
    "duration": 10,
    "start_time": "2024-01-17T06:15:09.700Z"
   },
   {
    "duration": 14518,
    "start_time": "2024-01-17T06:15:09.712Z"
   },
   {
    "duration": 16833,
    "start_time": "2024-01-17T06:20:16.037Z"
   },
   {
    "duration": 6,
    "start_time": "2024-01-17T06:26:08.726Z"
   },
   {
    "duration": 258,
    "start_time": "2024-01-17T06:31:41.480Z"
   },
   {
    "duration": 105,
    "start_time": "2024-01-17T06:34:10.146Z"
   },
   {
    "duration": 39520,
    "start_time": "2024-01-17T06:37:08.029Z"
   },
   {
    "duration": 38274,
    "start_time": "2024-01-17T06:42:38.112Z"
   },
   {
    "duration": 8,
    "start_time": "2024-01-17T06:47:09.601Z"
   },
   {
    "duration": 8,
    "start_time": "2024-01-17T06:47:22.693Z"
   },
   {
    "duration": 41985,
    "start_time": "2024-01-17T06:53:38.483Z"
   },
   {
    "duration": 302,
    "start_time": "2024-01-17T06:55:49.384Z"
   },
   {
    "duration": 142,
    "start_time": "2024-01-17T06:57:52.725Z"
   },
   {
    "duration": 85,
    "start_time": "2024-01-17T06:58:34.861Z"
   },
   {
    "duration": 39,
    "start_time": "2024-01-17T06:59:01.675Z"
   },
   {
    "duration": 36,
    "start_time": "2024-01-17T06:59:10.591Z"
   },
   {
    "duration": 135,
    "start_time": "2024-01-17T07:02:56.973Z"
   },
   {
    "duration": 34,
    "start_time": "2024-01-17T07:04:13.326Z"
   },
   {
    "duration": 103,
    "start_time": "2024-01-17T07:19:34.790Z"
   },
   {
    "duration": 25,
    "start_time": "2024-01-17T07:19:43.355Z"
   },
   {
    "duration": 35,
    "start_time": "2024-01-17T07:24:32.087Z"
   },
   {
    "duration": 1332,
    "start_time": "2024-01-17T07:24:52.154Z"
   },
   {
    "duration": 1301,
    "start_time": "2024-01-17T07:25:27.336Z"
   },
   {
    "duration": 17010,
    "start_time": "2024-01-17T07:28:06.136Z"
   },
   {
    "duration": 16,
    "start_time": "2024-01-17T07:43:00.326Z"
   },
   {
    "duration": 1334,
    "start_time": "2024-01-17T07:44:33.877Z"
   },
   {
    "duration": 1298,
    "start_time": "2024-01-17T07:45:19.844Z"
   },
   {
    "duration": 18674,
    "start_time": "2024-01-17T07:46:34.092Z"
   },
   {
    "duration": 71,
    "start_time": "2024-01-17T07:47:37.975Z"
   },
   {
    "duration": 19243,
    "start_time": "2024-01-17T07:47:44.643Z"
   },
   {
    "duration": 17303,
    "start_time": "2024-01-17T07:53:50.809Z"
   },
   {
    "duration": 2714,
    "start_time": "2024-01-17T07:55:21.538Z"
   },
   {
    "duration": 1923,
    "start_time": "2024-01-17T07:58:55.810Z"
   },
   {
    "duration": 1722,
    "start_time": "2024-01-17T08:06:36.662Z"
   },
   {
    "duration": 1716,
    "start_time": "2024-01-17T08:07:32.563Z"
   },
   {
    "duration": 7,
    "start_time": "2024-01-17T08:18:24.136Z"
   },
   {
    "duration": 7,
    "start_time": "2024-01-17T08:20:12.622Z"
   },
   {
    "duration": 7,
    "start_time": "2024-01-17T08:20:22.972Z"
   },
   {
    "duration": 6,
    "start_time": "2024-01-17T08:20:42.305Z"
   },
   {
    "duration": 7,
    "start_time": "2024-01-17T08:21:07.122Z"
   },
   {
    "duration": 7,
    "start_time": "2024-01-17T08:21:15.788Z"
   },
   {
    "duration": 6,
    "start_time": "2024-01-17T08:21:23.789Z"
   },
   {
    "duration": 9,
    "start_time": "2024-01-17T08:21:45.048Z"
   },
   {
    "duration": 7,
    "start_time": "2024-01-17T08:22:03.855Z"
   },
   {
    "duration": 7,
    "start_time": "2024-01-17T08:22:20.047Z"
   },
   {
    "duration": 6,
    "start_time": "2024-01-17T08:22:43.548Z"
   },
   {
    "duration": 6,
    "start_time": "2024-01-17T08:23:05.090Z"
   },
   {
    "duration": 7,
    "start_time": "2024-01-17T08:23:12.054Z"
   },
   {
    "duration": 7,
    "start_time": "2024-01-17T08:23:17.353Z"
   },
   {
    "duration": 6,
    "start_time": "2024-01-17T08:23:21.931Z"
   },
   {
    "duration": 6,
    "start_time": "2024-01-17T08:23:27.506Z"
   },
   {
    "duration": 6,
    "start_time": "2024-01-17T08:23:32.397Z"
   },
   {
    "duration": 6,
    "start_time": "2024-01-17T08:23:41.180Z"
   },
   {
    "duration": 7,
    "start_time": "2024-01-17T08:23:46.402Z"
   },
   {
    "duration": 6,
    "start_time": "2024-01-17T08:23:50.804Z"
   },
   {
    "duration": 1856,
    "start_time": "2024-01-17T08:26:12.283Z"
   },
   {
    "duration": 1761,
    "start_time": "2024-01-17T08:27:36.948Z"
   },
   {
    "duration": 276,
    "start_time": "2024-01-17T08:41:43.449Z"
   },
   {
    "duration": 71,
    "start_time": "2024-01-17T08:54:03.910Z"
   },
   {
    "duration": 9,
    "start_time": "2024-01-17T08:54:27.841Z"
   },
   {
    "duration": 12,
    "start_time": "2024-01-17T08:54:32.475Z"
   },
   {
    "duration": 9,
    "start_time": "2024-01-17T08:54:45.090Z"
   },
   {
    "duration": 7,
    "start_time": "2024-01-17T08:55:02.708Z"
   },
   {
    "duration": 14,
    "start_time": "2024-01-17T08:55:25.511Z"
   },
   {
    "duration": 15,
    "start_time": "2024-01-17T08:55:38.409Z"
   },
   {
    "duration": 5,
    "start_time": "2024-01-17T08:56:01.357Z"
   },
   {
    "duration": 6,
    "start_time": "2024-01-17T08:57:14.109Z"
   },
   {
    "duration": 7,
    "start_time": "2024-01-17T08:57:16.826Z"
   },
   {
    "duration": 6,
    "start_time": "2024-01-17T08:57:19.759Z"
   },
   {
    "duration": 8,
    "start_time": "2024-01-17T08:57:21.926Z"
   },
   {
    "duration": 8,
    "start_time": "2024-01-17T08:57:29.424Z"
   },
   {
    "duration": 4,
    "start_time": "2024-01-17T08:58:04.026Z"
   },
   {
    "duration": 5,
    "start_time": "2024-01-17T08:58:09.010Z"
   },
   {
    "duration": 18,
    "start_time": "2024-01-17T09:01:19.377Z"
   },
   {
    "duration": 143,
    "start_time": "2024-01-17T09:01:24.777Z"
   },
   {
    "duration": 8,
    "start_time": "2024-01-17T09:01:28.727Z"
   },
   {
    "duration": 86,
    "start_time": "2024-01-17T09:01:33.661Z"
   },
   {
    "duration": 7,
    "start_time": "2024-01-17T09:01:42.711Z"
   },
   {
    "duration": 298,
    "start_time": "2024-01-17T09:01:48.411Z"
   },
   {
    "duration": 8,
    "start_time": "2024-01-17T09:01:52.127Z"
   },
   {
    "duration": 111,
    "start_time": "2024-01-17T09:01:57.976Z"
   },
   {
    "duration": 10,
    "start_time": "2024-01-17T09:02:09.692Z"
   },
   {
    "duration": 279,
    "start_time": "2024-01-17T09:02:18.295Z"
   },
   {
    "duration": 318,
    "start_time": "2024-01-17T09:02:23.646Z"
   },
   {
    "duration": 9,
    "start_time": "2024-01-17T09:02:37.924Z"
   },
   {
    "duration": 250,
    "start_time": "2024-01-17T09:03:31.582Z"
   },
   {
    "duration": 9,
    "start_time": "2024-01-17T09:04:16.424Z"
   },
   {
    "duration": 126,
    "start_time": "2024-01-17T09:04:27.608Z"
   },
   {
    "duration": 29,
    "start_time": "2024-01-17T09:05:23.245Z"
   },
   {
    "duration": 14,
    "start_time": "2024-01-17T09:05:43.925Z"
   },
   {
    "duration": 18,
    "start_time": "2024-01-17T09:05:56.578Z"
   },
   {
    "duration": 18,
    "start_time": "2024-01-17T09:06:01.212Z"
   },
   {
    "duration": 191,
    "start_time": "2024-01-17T09:06:12.743Z"
   },
   {
    "duration": 167,
    "start_time": "2024-01-17T09:06:16.111Z"
   },
   {
    "duration": 12,
    "start_time": "2024-01-17T09:06:37.545Z"
   },
   {
    "duration": 12,
    "start_time": "2024-01-17T09:07:18.644Z"
   },
   {
    "duration": 10,
    "start_time": "2024-01-17T09:08:06.110Z"
   },
   {
    "duration": 179,
    "start_time": "2024-01-17T09:08:33.812Z"
   },
   {
    "duration": 163,
    "start_time": "2024-01-17T09:08:37.911Z"
   },
   {
    "duration": 9,
    "start_time": "2024-01-17T09:11:38.428Z"
   },
   {
    "duration": 9,
    "start_time": "2024-01-17T09:11:41.245Z"
   },
   {
    "duration": 39,
    "start_time": "2024-01-17T09:12:02.028Z"
   },
   {
    "duration": 43,
    "start_time": "2024-01-17T09:15:23.049Z"
   },
   {
    "duration": 23,
    "start_time": "2024-01-17T09:15:49.162Z"
   },
   {
    "duration": 5,
    "start_time": "2024-01-17T09:25:19.759Z"
   },
   {
    "duration": 7,
    "start_time": "2024-01-17T09:26:11.867Z"
   },
   {
    "duration": 1249,
    "start_time": "2024-01-17T09:58:31.269Z"
   },
   {
    "duration": 69,
    "start_time": "2024-01-17T09:58:32.521Z"
   },
   {
    "duration": 176,
    "start_time": "2024-01-17T09:58:32.592Z"
   },
   {
    "duration": 61,
    "start_time": "2024-01-17T09:58:32.770Z"
   },
   {
    "duration": 46,
    "start_time": "2024-01-17T09:58:32.832Z"
   },
   {
    "duration": 152,
    "start_time": "2024-01-17T09:58:32.880Z"
   },
   {
    "duration": 57,
    "start_time": "2024-01-17T09:58:33.034Z"
   },
   {
    "duration": 56,
    "start_time": "2024-01-17T09:58:33.092Z"
   },
   {
    "duration": 67,
    "start_time": "2024-01-17T09:58:33.150Z"
   },
   {
    "duration": 57,
    "start_time": "2024-01-17T09:58:33.220Z"
   },
   {
    "duration": 44,
    "start_time": "2024-01-17T09:58:33.279Z"
   },
   {
    "duration": 46,
    "start_time": "2024-01-17T09:58:33.325Z"
   },
   {
    "duration": 84,
    "start_time": "2024-01-17T09:58:33.372Z"
   },
   {
    "duration": 18,
    "start_time": "2024-01-17T09:58:33.458Z"
   },
   {
    "duration": 36,
    "start_time": "2024-01-17T09:58:33.477Z"
   },
   {
    "duration": 55,
    "start_time": "2024-01-17T09:58:33.515Z"
   },
   {
    "duration": 28,
    "start_time": "2024-01-17T09:58:33.571Z"
   },
   {
    "duration": 9,
    "start_time": "2024-01-17T09:58:33.601Z"
   },
   {
    "duration": 75,
    "start_time": "2024-01-17T09:58:33.612Z"
   },
   {
    "duration": 173,
    "start_time": "2024-01-17T09:58:33.688Z"
   },
   {
    "duration": 9,
    "start_time": "2024-01-17T09:58:33.863Z"
   },
   {
    "duration": 99,
    "start_time": "2024-01-17T09:58:33.874Z"
   },
   {
    "duration": 7,
    "start_time": "2024-01-17T09:58:33.975Z"
   },
   {
    "duration": 291,
    "start_time": "2024-01-17T09:58:33.984Z"
   },
   {
    "duration": 8,
    "start_time": "2024-01-17T09:58:34.277Z"
   },
   {
    "duration": 130,
    "start_time": "2024-01-17T09:58:34.287Z"
   },
   {
    "duration": 9,
    "start_time": "2024-01-17T09:58:34.419Z"
   },
   {
    "duration": 304,
    "start_time": "2024-01-17T09:58:34.432Z"
   },
   {
    "duration": 135,
    "start_time": "2024-01-17T09:58:34.738Z"
   },
   {
    "duration": 11,
    "start_time": "2024-01-17T09:58:34.875Z"
   },
   {
    "duration": 351,
    "start_time": "2024-01-17T09:58:34.888Z"
   },
   {
    "duration": 145,
    "start_time": "2024-01-17T09:58:35.242Z"
   },
   {
    "duration": 27,
    "start_time": "2024-01-17T09:58:35.389Z"
   },
   {
    "duration": 40,
    "start_time": "2024-01-17T09:58:35.418Z"
   },
   {
    "duration": 32,
    "start_time": "2024-01-17T09:58:35.460Z"
   },
   {
    "duration": 38,
    "start_time": "2024-01-17T09:58:35.494Z"
   },
   {
    "duration": 240,
    "start_time": "2024-01-17T09:58:35.534Z"
   },
   {
    "duration": 169,
    "start_time": "2024-01-17T09:58:35.776Z"
   },
   {
    "duration": 17,
    "start_time": "2024-01-17T09:58:35.946Z"
   },
   {
    "duration": 9,
    "start_time": "2024-01-17T09:58:35.965Z"
   },
   {
    "duration": 35,
    "start_time": "2024-01-17T09:58:35.976Z"
   },
   {
    "duration": 186,
    "start_time": "2024-01-17T09:58:36.013Z"
   },
   {
    "duration": 175,
    "start_time": "2024-01-17T09:58:36.200Z"
   },
   {
    "duration": 9,
    "start_time": "2024-01-17T09:58:36.377Z"
   },
   {
    "duration": 16,
    "start_time": "2024-01-17T09:58:36.388Z"
   },
   {
    "duration": 54,
    "start_time": "2024-01-17T09:58:36.406Z"
   },
   {
    "duration": 45,
    "start_time": "2024-01-17T09:58:36.462Z"
   },
   {
    "duration": 18,
    "start_time": "2024-01-17T09:58:36.509Z"
   },
   {
    "duration": 38,
    "start_time": "2024-01-17T09:58:36.529Z"
   },
   {
    "duration": 14,
    "start_time": "2024-01-17T09:58:36.569Z"
   },
   {
    "duration": 26,
    "start_time": "2024-01-17T09:58:36.585Z"
   },
   {
    "duration": 34,
    "start_time": "2024-01-17T09:58:36.612Z"
   },
   {
    "duration": 4,
    "start_time": "2024-01-17T09:58:36.648Z"
   },
   {
    "duration": 6,
    "start_time": "2024-01-17T09:58:36.654Z"
   },
   {
    "duration": 12,
    "start_time": "2024-01-17T09:58:36.661Z"
   },
   {
    "duration": 10,
    "start_time": "2024-01-17T09:58:36.675Z"
   },
   {
    "duration": 18,
    "start_time": "2024-01-17T09:58:36.687Z"
   },
   {
    "duration": 9,
    "start_time": "2024-01-17T09:58:36.707Z"
   },
   {
    "duration": 10,
    "start_time": "2024-01-17T09:58:36.717Z"
   },
   {
    "duration": 11,
    "start_time": "2024-01-17T09:58:36.729Z"
   },
   {
    "duration": 1654,
    "start_time": "2024-01-17T09:58:36.742Z"
   },
   {
    "duration": 7,
    "start_time": "2024-01-17T09:58:38.398Z"
   },
   {
    "duration": 19,
    "start_time": "2024-01-17T09:58:38.406Z"
   },
   {
    "duration": 281,
    "start_time": "2024-01-17T09:58:38.426Z"
   },
   {
    "duration": 1174,
    "start_time": "2024-01-17T10:04:22.313Z"
   },
   {
    "duration": 71,
    "start_time": "2024-01-17T10:04:23.489Z"
   },
   {
    "duration": 12,
    "start_time": "2024-01-17T10:04:23.561Z"
   },
   {
    "duration": 16,
    "start_time": "2024-01-17T10:04:23.575Z"
   },
   {
    "duration": 16,
    "start_time": "2024-01-17T10:04:23.593Z"
   },
   {
    "duration": 12,
    "start_time": "2024-01-17T10:04:23.611Z"
   },
   {
    "duration": 11,
    "start_time": "2024-01-17T10:04:23.625Z"
   },
   {
    "duration": 41,
    "start_time": "2024-01-17T10:04:23.638Z"
   },
   {
    "duration": 27,
    "start_time": "2024-01-17T10:04:23.680Z"
   },
   {
    "duration": 37,
    "start_time": "2024-01-17T10:04:23.709Z"
   },
   {
    "duration": 29,
    "start_time": "2024-01-17T10:04:23.747Z"
   },
   {
    "duration": 20,
    "start_time": "2024-01-17T10:04:23.778Z"
   },
   {
    "duration": 13,
    "start_time": "2024-01-17T10:04:23.800Z"
   },
   {
    "duration": 7,
    "start_time": "2024-01-17T10:04:23.815Z"
   },
   {
    "duration": 9,
    "start_time": "2024-01-17T10:04:23.824Z"
   },
   {
    "duration": 12,
    "start_time": "2024-01-17T10:04:23.834Z"
   },
   {
    "duration": 4,
    "start_time": "2024-01-17T10:04:23.848Z"
   },
   {
    "duration": 12,
    "start_time": "2024-01-17T10:04:23.854Z"
   },
   {
    "duration": 21,
    "start_time": "2024-01-17T10:04:23.868Z"
   },
   {
    "duration": 162,
    "start_time": "2024-01-17T10:04:23.890Z"
   },
   {
    "duration": 13,
    "start_time": "2024-01-17T10:04:24.053Z"
   },
   {
    "duration": 107,
    "start_time": "2024-01-17T10:04:24.068Z"
   },
   {
    "duration": 7,
    "start_time": "2024-01-17T10:04:24.177Z"
   },
   {
    "duration": 297,
    "start_time": "2024-01-17T10:04:24.186Z"
   },
   {
    "duration": 8,
    "start_time": "2024-01-17T10:04:24.484Z"
   },
   {
    "duration": 130,
    "start_time": "2024-01-17T10:04:24.494Z"
   },
   {
    "duration": 9,
    "start_time": "2024-01-17T10:04:24.625Z"
   },
   {
    "duration": 281,
    "start_time": "2024-01-17T10:04:24.638Z"
   },
   {
    "duration": 140,
    "start_time": "2024-01-17T10:04:24.920Z"
   },
   {
    "duration": 9,
    "start_time": "2024-01-17T10:04:25.062Z"
   },
   {
    "duration": 341,
    "start_time": "2024-01-17T10:04:25.073Z"
   },
   {
    "duration": 143,
    "start_time": "2024-01-17T10:04:25.416Z"
   },
   {
    "duration": 77,
    "start_time": "2024-01-17T10:04:25.561Z"
   },
   {
    "duration": 32,
    "start_time": "2024-01-17T10:04:25.641Z"
   },
   {
    "duration": 48,
    "start_time": "2024-01-17T10:04:25.675Z"
   },
   {
    "duration": 44,
    "start_time": "2024-01-17T10:04:25.725Z"
   },
   {
    "duration": 246,
    "start_time": "2024-01-17T10:04:25.771Z"
   },
   {
    "duration": 176,
    "start_time": "2024-01-17T10:04:26.019Z"
   },
   {
    "duration": 8,
    "start_time": "2024-01-17T10:04:26.197Z"
   },
   {
    "duration": 8,
    "start_time": "2024-01-17T10:04:26.207Z"
   },
   {
    "duration": 11,
    "start_time": "2024-01-17T10:04:26.216Z"
   },
   {
    "duration": 223,
    "start_time": "2024-01-17T10:04:26.229Z"
   },
   {
    "duration": 174,
    "start_time": "2024-01-17T10:04:26.454Z"
   },
   {
    "duration": 9,
    "start_time": "2024-01-17T10:04:26.630Z"
   },
   {
    "duration": 21,
    "start_time": "2024-01-17T10:04:26.640Z"
   },
   {
    "duration": 36,
    "start_time": "2024-01-17T10:04:26.663Z"
   },
   {
    "duration": 59,
    "start_time": "2024-01-17T10:04:26.700Z"
   },
   {
    "duration": 15,
    "start_time": "2024-01-17T10:04:26.761Z"
   },
   {
    "duration": 8,
    "start_time": "2024-01-17T10:04:26.777Z"
   },
   {
    "duration": 4,
    "start_time": "2024-01-17T10:04:26.787Z"
   },
   {
    "duration": 32,
    "start_time": "2024-01-17T10:04:26.792Z"
   },
   {
    "duration": 9,
    "start_time": "2024-01-17T10:04:26.825Z"
   },
   {
    "duration": 3,
    "start_time": "2024-01-17T10:04:26.836Z"
   },
   {
    "duration": 22,
    "start_time": "2024-01-17T10:04:26.841Z"
   },
   {
    "duration": 3,
    "start_time": "2024-01-17T10:04:26.865Z"
   },
   {
    "duration": 6,
    "start_time": "2024-01-17T10:04:26.870Z"
   },
   {
    "duration": 9,
    "start_time": "2024-01-17T10:04:26.878Z"
   },
   {
    "duration": 12,
    "start_time": "2024-01-17T10:04:26.889Z"
   },
   {
    "duration": 11,
    "start_time": "2024-01-17T10:04:26.903Z"
   },
   {
    "duration": 43,
    "start_time": "2024-01-17T10:04:26.916Z"
   },
   {
    "duration": 1609,
    "start_time": "2024-01-17T10:04:26.960Z"
   },
   {
    "duration": 6,
    "start_time": "2024-01-17T10:04:28.571Z"
   },
   {
    "duration": 7,
    "start_time": "2024-01-17T10:04:28.579Z"
   },
   {
    "duration": 316,
    "start_time": "2024-01-17T10:04:28.588Z"
   },
   {
    "duration": 1275,
    "start_time": "2024-01-17T10:07:16.277Z"
   },
   {
    "duration": 71,
    "start_time": "2024-01-17T10:07:17.554Z"
   },
   {
    "duration": 13,
    "start_time": "2024-01-17T10:07:17.626Z"
   },
   {
    "duration": 31,
    "start_time": "2024-01-17T10:07:17.641Z"
   },
   {
    "duration": 30,
    "start_time": "2024-01-17T10:07:17.675Z"
   },
   {
    "duration": 28,
    "start_time": "2024-01-17T10:07:17.707Z"
   },
   {
    "duration": 24,
    "start_time": "2024-01-17T10:07:17.737Z"
   },
   {
    "duration": 29,
    "start_time": "2024-01-17T10:07:17.763Z"
   },
   {
    "duration": 58,
    "start_time": "2024-01-17T10:07:17.793Z"
   },
   {
    "duration": 38,
    "start_time": "2024-01-17T10:07:17.853Z"
   },
   {
    "duration": 49,
    "start_time": "2024-01-17T10:07:17.893Z"
   },
   {
    "duration": 9,
    "start_time": "2024-01-17T10:07:17.943Z"
   },
   {
    "duration": 24,
    "start_time": "2024-01-17T10:07:17.953Z"
   },
   {
    "duration": 7,
    "start_time": "2024-01-17T10:07:17.978Z"
   },
   {
    "duration": 20,
    "start_time": "2024-01-17T10:07:17.987Z"
   },
   {
    "duration": 63,
    "start_time": "2024-01-17T10:07:18.008Z"
   },
   {
    "duration": 56,
    "start_time": "2024-01-17T10:07:18.073Z"
   },
   {
    "duration": 61,
    "start_time": "2024-01-17T10:07:18.131Z"
   },
   {
    "duration": 125,
    "start_time": "2024-01-17T10:07:18.193Z"
   },
   {
    "duration": 162,
    "start_time": "2024-01-17T10:07:18.320Z"
   },
   {
    "duration": 9,
    "start_time": "2024-01-17T10:07:18.484Z"
   },
   {
    "duration": 104,
    "start_time": "2024-01-17T10:07:18.494Z"
   },
   {
    "duration": 8,
    "start_time": "2024-01-17T10:07:18.599Z"
   },
   {
    "duration": 318,
    "start_time": "2024-01-17T10:07:18.608Z"
   },
   {
    "duration": 8,
    "start_time": "2024-01-17T10:07:18.928Z"
   },
   {
    "duration": 130,
    "start_time": "2024-01-17T10:07:18.938Z"
   },
   {
    "duration": 9,
    "start_time": "2024-01-17T10:07:19.070Z"
   },
   {
    "duration": 302,
    "start_time": "2024-01-17T10:07:19.083Z"
   },
   {
    "duration": 139,
    "start_time": "2024-01-17T10:07:19.387Z"
   },
   {
    "duration": 9,
    "start_time": "2024-01-17T10:07:19.528Z"
   },
   {
    "duration": 354,
    "start_time": "2024-01-17T10:07:19.539Z"
   },
   {
    "duration": 148,
    "start_time": "2024-01-17T10:07:19.895Z"
   },
   {
    "duration": 37,
    "start_time": "2024-01-17T10:07:20.044Z"
   },
   {
    "duration": 15,
    "start_time": "2024-01-17T10:07:20.083Z"
   },
   {
    "duration": 50,
    "start_time": "2024-01-17T10:07:20.100Z"
   },
   {
    "duration": 18,
    "start_time": "2024-01-17T10:07:20.153Z"
   },
   {
    "duration": 206,
    "start_time": "2024-01-17T10:07:20.173Z"
   },
   {
    "duration": 169,
    "start_time": "2024-01-17T10:07:20.381Z"
   },
   {
    "duration": 13,
    "start_time": "2024-01-17T10:07:20.552Z"
   },
   {
    "duration": 9,
    "start_time": "2024-01-17T10:07:20.567Z"
   },
   {
    "duration": 10,
    "start_time": "2024-01-17T10:07:20.577Z"
   },
   {
    "duration": 198,
    "start_time": "2024-01-17T10:07:20.588Z"
   },
   {
    "duration": 181,
    "start_time": "2024-01-17T10:07:20.788Z"
   },
   {
    "duration": 8,
    "start_time": "2024-01-17T10:07:20.971Z"
   },
   {
    "duration": 21,
    "start_time": "2024-01-17T10:07:20.980Z"
   },
   {
    "duration": 42,
    "start_time": "2024-01-17T10:07:21.003Z"
   },
   {
    "duration": 52,
    "start_time": "2024-01-17T10:07:21.047Z"
   },
   {
    "duration": 16,
    "start_time": "2024-01-17T10:07:21.100Z"
   },
   {
    "duration": 26,
    "start_time": "2024-01-17T10:07:21.118Z"
   },
   {
    "duration": 4,
    "start_time": "2024-01-17T10:07:21.158Z"
   },
   {
    "duration": 20,
    "start_time": "2024-01-17T10:07:21.164Z"
   },
   {
    "duration": 23,
    "start_time": "2024-01-17T10:07:21.185Z"
   },
   {
    "duration": 15,
    "start_time": "2024-01-17T10:07:21.210Z"
   },
   {
    "duration": 14,
    "start_time": "2024-01-17T10:07:21.228Z"
   },
   {
    "duration": 8,
    "start_time": "2024-01-17T10:07:21.244Z"
   },
   {
    "duration": 14,
    "start_time": "2024-01-17T10:07:21.254Z"
   },
   {
    "duration": 24,
    "start_time": "2024-01-17T10:07:21.271Z"
   },
   {
    "duration": 21,
    "start_time": "2024-01-17T10:07:21.297Z"
   },
   {
    "duration": 36,
    "start_time": "2024-01-17T10:07:21.320Z"
   },
   {
    "duration": 4,
    "start_time": "2024-01-17T10:07:21.359Z"
   },
   {
    "duration": 1693,
    "start_time": "2024-01-17T10:07:21.365Z"
   },
   {
    "duration": 8,
    "start_time": "2024-01-17T10:07:23.060Z"
   },
   {
    "duration": 13,
    "start_time": "2024-01-17T10:07:23.069Z"
   },
   {
    "duration": 300,
    "start_time": "2024-01-17T10:07:23.084Z"
   },
   {
    "duration": 1254,
    "start_time": "2024-01-17T10:08:23.204Z"
   },
   {
    "duration": 72,
    "start_time": "2024-01-17T10:08:24.461Z"
   },
   {
    "duration": 14,
    "start_time": "2024-01-17T10:08:24.536Z"
   },
   {
    "duration": 15,
    "start_time": "2024-01-17T10:08:24.552Z"
   },
   {
    "duration": 13,
    "start_time": "2024-01-17T10:08:24.569Z"
   },
   {
    "duration": 13,
    "start_time": "2024-01-17T10:08:24.583Z"
   },
   {
    "duration": 9,
    "start_time": "2024-01-17T10:08:24.597Z"
   },
   {
    "duration": 20,
    "start_time": "2024-01-17T10:08:24.608Z"
   },
   {
    "duration": 42,
    "start_time": "2024-01-17T10:08:24.630Z"
   },
   {
    "duration": 12,
    "start_time": "2024-01-17T10:08:24.676Z"
   },
   {
    "duration": 5,
    "start_time": "2024-01-17T10:08:24.691Z"
   },
   {
    "duration": 20,
    "start_time": "2024-01-17T10:08:24.697Z"
   },
   {
    "duration": 7,
    "start_time": "2024-01-17T10:08:24.719Z"
   },
   {
    "duration": 8,
    "start_time": "2024-01-17T10:08:24.727Z"
   },
   {
    "duration": 10,
    "start_time": "2024-01-17T10:08:24.759Z"
   },
   {
    "duration": 9,
    "start_time": "2024-01-17T10:08:24.771Z"
   },
   {
    "duration": 20,
    "start_time": "2024-01-17T10:08:24.782Z"
   },
   {
    "duration": 10,
    "start_time": "2024-01-17T10:08:24.804Z"
   },
   {
    "duration": 19,
    "start_time": "2024-01-17T10:08:24.816Z"
   },
   {
    "duration": 167,
    "start_time": "2024-01-17T10:08:24.859Z"
   },
   {
    "duration": 9,
    "start_time": "2024-01-17T10:08:25.027Z"
   },
   {
    "duration": 120,
    "start_time": "2024-01-17T10:08:25.038Z"
   },
   {
    "duration": 10,
    "start_time": "2024-01-17T10:08:25.160Z"
   },
   {
    "duration": 317,
    "start_time": "2024-01-17T10:08:25.172Z"
   },
   {
    "duration": 9,
    "start_time": "2024-01-17T10:08:25.490Z"
   },
   {
    "duration": 135,
    "start_time": "2024-01-17T10:08:25.501Z"
   },
   {
    "duration": 26,
    "start_time": "2024-01-17T10:08:25.638Z"
   },
   {
    "duration": 281,
    "start_time": "2024-01-17T10:08:25.669Z"
   },
   {
    "duration": 141,
    "start_time": "2024-01-17T10:08:25.953Z"
   },
   {
    "duration": 9,
    "start_time": "2024-01-17T10:08:26.096Z"
   },
   {
    "duration": 356,
    "start_time": "2024-01-17T10:08:26.107Z"
   },
   {
    "duration": 139,
    "start_time": "2024-01-17T10:08:26.465Z"
   },
   {
    "duration": 28,
    "start_time": "2024-01-17T10:08:26.605Z"
   },
   {
    "duration": 30,
    "start_time": "2024-01-17T10:08:26.634Z"
   },
   {
    "duration": 17,
    "start_time": "2024-01-17T10:08:26.666Z"
   },
   {
    "duration": 39,
    "start_time": "2024-01-17T10:08:26.685Z"
   },
   {
    "duration": 209,
    "start_time": "2024-01-17T10:08:26.726Z"
   },
   {
    "duration": 190,
    "start_time": "2024-01-17T10:08:26.937Z"
   },
   {
    "duration": 9,
    "start_time": "2024-01-17T10:08:27.129Z"
   },
   {
    "duration": 24,
    "start_time": "2024-01-17T10:08:27.140Z"
   },
   {
    "duration": 15,
    "start_time": "2024-01-17T10:08:27.166Z"
   },
   {
    "duration": 193,
    "start_time": "2024-01-17T10:08:27.183Z"
   },
   {
    "duration": 184,
    "start_time": "2024-01-17T10:08:27.378Z"
   },
   {
    "duration": 10,
    "start_time": "2024-01-17T10:08:27.563Z"
   },
   {
    "duration": 9,
    "start_time": "2024-01-17T10:08:27.574Z"
   },
   {
    "duration": 46,
    "start_time": "2024-01-17T10:08:27.584Z"
   },
   {
    "duration": 65,
    "start_time": "2024-01-17T10:08:27.631Z"
   },
   {
    "duration": 15,
    "start_time": "2024-01-17T10:08:27.698Z"
   },
   {
    "duration": 8,
    "start_time": "2024-01-17T10:08:27.715Z"
   },
   {
    "duration": 5,
    "start_time": "2024-01-17T10:08:27.724Z"
   },
   {
    "duration": 29,
    "start_time": "2024-01-17T10:08:27.731Z"
   },
   {
    "duration": 15,
    "start_time": "2024-01-17T10:08:27.762Z"
   },
   {
    "duration": 19,
    "start_time": "2024-01-17T10:08:27.779Z"
   },
   {
    "duration": 7,
    "start_time": "2024-01-17T10:08:27.800Z"
   },
   {
    "duration": 4,
    "start_time": "2024-01-17T10:08:27.809Z"
   },
   {
    "duration": 5,
    "start_time": "2024-01-17T10:08:27.815Z"
   },
   {
    "duration": 20,
    "start_time": "2024-01-17T10:08:27.822Z"
   },
   {
    "duration": 18,
    "start_time": "2024-01-17T10:08:27.844Z"
   },
   {
    "duration": 64,
    "start_time": "2024-01-17T10:08:27.863Z"
   },
   {
    "duration": 97,
    "start_time": "2024-01-17T10:08:27.929Z"
   },
   {
    "duration": 1668,
    "start_time": "2024-01-17T10:08:28.028Z"
   },
   {
    "duration": 6,
    "start_time": "2024-01-17T10:08:29.699Z"
   },
   {
    "duration": 20,
    "start_time": "2024-01-17T10:08:29.707Z"
   },
   {
    "duration": 274,
    "start_time": "2024-01-17T10:08:29.729Z"
   },
   {
    "duration": 1092,
    "start_time": "2024-01-17T10:22:29.273Z"
   },
   {
    "duration": 187,
    "start_time": "2024-01-17T10:22:30.367Z"
   },
   {
    "duration": 11,
    "start_time": "2024-01-17T10:22:30.556Z"
   },
   {
    "duration": 23,
    "start_time": "2024-01-17T10:22:30.569Z"
   },
   {
    "duration": 19,
    "start_time": "2024-01-17T10:22:30.594Z"
   },
   {
    "duration": 31,
    "start_time": "2024-01-17T10:22:30.614Z"
   },
   {
    "duration": 27,
    "start_time": "2024-01-17T10:22:30.646Z"
   },
   {
    "duration": 39,
    "start_time": "2024-01-17T10:22:30.674Z"
   },
   {
    "duration": 43,
    "start_time": "2024-01-17T10:22:30.715Z"
   },
   {
    "duration": 49,
    "start_time": "2024-01-17T10:22:30.762Z"
   },
   {
    "duration": 29,
    "start_time": "2024-01-17T10:22:30.813Z"
   },
   {
    "duration": 41,
    "start_time": "2024-01-17T10:22:30.844Z"
   },
   {
    "duration": 37,
    "start_time": "2024-01-17T10:22:30.886Z"
   },
   {
    "duration": 33,
    "start_time": "2024-01-17T10:22:30.925Z"
   },
   {
    "duration": 32,
    "start_time": "2024-01-17T10:22:30.960Z"
   },
   {
    "duration": 63,
    "start_time": "2024-01-17T10:22:30.994Z"
   },
   {
    "duration": 24,
    "start_time": "2024-01-17T10:22:31.058Z"
   },
   {
    "duration": 13,
    "start_time": "2024-01-17T10:22:31.084Z"
   },
   {
    "duration": 32,
    "start_time": "2024-01-17T10:22:31.099Z"
   },
   {
    "duration": 162,
    "start_time": "2024-01-17T10:22:31.132Z"
   },
   {
    "duration": 9,
    "start_time": "2024-01-17T10:22:31.296Z"
   },
   {
    "duration": 99,
    "start_time": "2024-01-17T10:22:31.318Z"
   },
   {
    "duration": 7,
    "start_time": "2024-01-17T10:22:31.419Z"
   },
   {
    "duration": 298,
    "start_time": "2024-01-17T10:22:31.428Z"
   },
   {
    "duration": 8,
    "start_time": "2024-01-17T10:22:31.728Z"
   },
   {
    "duration": 115,
    "start_time": "2024-01-17T10:22:31.738Z"
   },
   {
    "duration": 9,
    "start_time": "2024-01-17T10:22:31.855Z"
   },
   {
    "duration": 265,
    "start_time": "2024-01-17T10:22:31.869Z"
   },
   {
    "duration": 118,
    "start_time": "2024-01-17T10:22:32.136Z"
   },
   {
    "duration": 10,
    "start_time": "2024-01-17T10:22:32.256Z"
   },
   {
    "duration": 327,
    "start_time": "2024-01-17T10:22:32.268Z"
   },
   {
    "duration": 111,
    "start_time": "2024-01-17T10:22:32.596Z"
   },
   {
    "duration": 24,
    "start_time": "2024-01-17T10:22:32.717Z"
   },
   {
    "duration": 13,
    "start_time": "2024-01-17T10:22:32.743Z"
   },
   {
    "duration": 15,
    "start_time": "2024-01-17T10:22:32.758Z"
   },
   {
    "duration": 44,
    "start_time": "2024-01-17T10:22:32.775Z"
   },
   {
    "duration": 173,
    "start_time": "2024-01-17T10:22:32.820Z"
   },
   {
    "duration": 150,
    "start_time": "2024-01-17T10:22:32.994Z"
   },
   {
    "duration": 8,
    "start_time": "2024-01-17T10:22:33.145Z"
   },
   {
    "duration": 14,
    "start_time": "2024-01-17T10:22:33.154Z"
   },
   {
    "duration": 13,
    "start_time": "2024-01-17T10:22:33.169Z"
   },
   {
    "duration": 155,
    "start_time": "2024-01-17T10:22:33.183Z"
   },
   {
    "duration": 146,
    "start_time": "2024-01-17T10:22:33.339Z"
   },
   {
    "duration": 8,
    "start_time": "2024-01-17T10:22:33.487Z"
   },
   {
    "duration": 7,
    "start_time": "2024-01-17T10:22:33.496Z"
   },
   {
    "duration": 32,
    "start_time": "2024-01-17T10:22:33.518Z"
   },
   {
    "duration": 37,
    "start_time": "2024-01-17T10:22:33.552Z"
   },
   {
    "duration": 34,
    "start_time": "2024-01-17T10:22:33.591Z"
   },
   {
    "duration": 15,
    "start_time": "2024-01-17T10:22:33.626Z"
   },
   {
    "duration": 8,
    "start_time": "2024-01-17T10:22:33.643Z"
   },
   {
    "duration": 6,
    "start_time": "2024-01-17T10:22:33.653Z"
   },
   {
    "duration": 6,
    "start_time": "2024-01-17T10:22:33.660Z"
   },
   {
    "duration": 4,
    "start_time": "2024-01-17T10:22:33.667Z"
   },
   {
    "duration": 6,
    "start_time": "2024-01-17T10:22:33.672Z"
   },
   {
    "duration": 39,
    "start_time": "2024-01-17T10:22:33.679Z"
   },
   {
    "duration": 4,
    "start_time": "2024-01-17T10:22:33.720Z"
   },
   {
    "duration": 13,
    "start_time": "2024-01-17T10:22:33.725Z"
   },
   {
    "duration": 11,
    "start_time": "2024-01-17T10:22:33.739Z"
   },
   {
    "duration": 6,
    "start_time": "2024-01-17T10:22:33.752Z"
   },
   {
    "duration": 4,
    "start_time": "2024-01-17T10:22:33.760Z"
   },
   {
    "duration": 1439,
    "start_time": "2024-01-17T10:22:33.765Z"
   },
   {
    "duration": 13,
    "start_time": "2024-01-17T10:22:35.206Z"
   },
   {
    "duration": 6,
    "start_time": "2024-01-17T10:22:35.221Z"
   },
   {
    "duration": 237,
    "start_time": "2024-01-17T10:22:35.228Z"
   },
   {
    "duration": 20,
    "start_time": "2024-01-17T10:31:04.789Z"
   },
   {
    "duration": 16,
    "start_time": "2024-01-17T10:32:22.717Z"
   },
   {
    "duration": 9,
    "start_time": "2024-01-17T10:32:47.585Z"
   },
   {
    "duration": 6,
    "start_time": "2024-01-17T10:33:46.316Z"
   },
   {
    "duration": 5,
    "start_time": "2024-01-17T10:33:58.356Z"
   },
   {
    "duration": 5,
    "start_time": "2024-01-17T10:34:02.822Z"
   },
   {
    "duration": 7,
    "start_time": "2024-01-17T10:34:26.474Z"
   },
   {
    "duration": 7,
    "start_time": "2024-01-17T10:36:06.136Z"
   },
   {
    "duration": 12,
    "start_time": "2024-01-17T10:36:48.137Z"
   },
   {
    "duration": 1192,
    "start_time": "2024-01-17T11:56:09.401Z"
   },
   {
    "duration": 71,
    "start_time": "2024-01-17T11:56:10.595Z"
   },
   {
    "duration": 12,
    "start_time": "2024-01-17T11:56:10.668Z"
   },
   {
    "duration": 33,
    "start_time": "2024-01-17T11:56:10.682Z"
   },
   {
    "duration": 18,
    "start_time": "2024-01-17T11:56:10.717Z"
   },
   {
    "duration": 16,
    "start_time": "2024-01-17T11:56:10.737Z"
   },
   {
    "duration": 12,
    "start_time": "2024-01-17T11:56:10.754Z"
   },
   {
    "duration": 15,
    "start_time": "2024-01-17T11:56:10.767Z"
   },
   {
    "duration": 29,
    "start_time": "2024-01-17T11:56:10.784Z"
   },
   {
    "duration": 18,
    "start_time": "2024-01-17T11:56:10.816Z"
   },
   {
    "duration": 4,
    "start_time": "2024-01-17T11:56:10.835Z"
   },
   {
    "duration": 12,
    "start_time": "2024-01-17T11:56:10.841Z"
   },
   {
    "duration": 8,
    "start_time": "2024-01-17T11:56:10.854Z"
   },
   {
    "duration": 11,
    "start_time": "2024-01-17T11:56:10.864Z"
   },
   {
    "duration": 9,
    "start_time": "2024-01-17T11:56:10.877Z"
   },
   {
    "duration": 8,
    "start_time": "2024-01-17T11:56:10.887Z"
   },
   {
    "duration": 5,
    "start_time": "2024-01-17T11:56:10.897Z"
   },
   {
    "duration": 22,
    "start_time": "2024-01-17T11:56:10.904Z"
   },
   {
    "duration": 41,
    "start_time": "2024-01-17T11:56:10.928Z"
   },
   {
    "duration": 174,
    "start_time": "2024-01-17T11:56:10.971Z"
   },
   {
    "duration": 16,
    "start_time": "2024-01-17T11:56:11.147Z"
   },
   {
    "duration": 108,
    "start_time": "2024-01-17T11:56:11.164Z"
   },
   {
    "duration": 8,
    "start_time": "2024-01-17T11:56:11.274Z"
   },
   {
    "duration": 308,
    "start_time": "2024-01-17T11:56:11.283Z"
   },
   {
    "duration": 7,
    "start_time": "2024-01-17T11:56:11.593Z"
   },
   {
    "duration": 133,
    "start_time": "2024-01-17T11:56:11.602Z"
   },
   {
    "duration": 9,
    "start_time": "2024-01-17T11:56:11.737Z"
   },
   {
    "duration": 284,
    "start_time": "2024-01-17T11:56:11.761Z"
   },
   {
    "duration": 140,
    "start_time": "2024-01-17T11:56:12.046Z"
   },
   {
    "duration": 9,
    "start_time": "2024-01-17T11:56:12.188Z"
   },
   {
    "duration": 349,
    "start_time": "2024-01-17T11:56:12.198Z"
   },
   {
    "duration": 151,
    "start_time": "2024-01-17T11:56:12.549Z"
   },
   {
    "duration": 25,
    "start_time": "2024-01-17T11:56:12.702Z"
   },
   {
    "duration": 14,
    "start_time": "2024-01-17T11:56:12.729Z"
   },
   {
    "duration": 17,
    "start_time": "2024-01-17T11:56:12.759Z"
   },
   {
    "duration": 17,
    "start_time": "2024-01-17T11:56:12.778Z"
   },
   {
    "duration": 214,
    "start_time": "2024-01-17T11:56:12.797Z"
   },
   {
    "duration": 180,
    "start_time": "2024-01-17T11:56:13.012Z"
   },
   {
    "duration": 9,
    "start_time": "2024-01-17T11:56:13.194Z"
   },
   {
    "duration": 9,
    "start_time": "2024-01-17T11:56:13.204Z"
   },
   {
    "duration": 10,
    "start_time": "2024-01-17T11:56:13.214Z"
   },
   {
    "duration": 211,
    "start_time": "2024-01-17T11:56:13.225Z"
   },
   {
    "duration": 170,
    "start_time": "2024-01-17T11:56:13.438Z"
   },
   {
    "duration": 10,
    "start_time": "2024-01-17T11:56:13.609Z"
   },
   {
    "duration": 8,
    "start_time": "2024-01-17T11:56:13.620Z"
   },
   {
    "duration": 68,
    "start_time": "2024-01-17T11:56:13.630Z"
   },
   {
    "duration": 48,
    "start_time": "2024-01-17T11:56:13.699Z"
   },
   {
    "duration": 23,
    "start_time": "2024-01-17T11:56:13.748Z"
   },
   {
    "duration": 7,
    "start_time": "2024-01-17T11:56:13.773Z"
   },
   {
    "duration": 5,
    "start_time": "2024-01-17T11:56:13.781Z"
   },
   {
    "duration": 7,
    "start_time": "2024-01-17T11:56:13.788Z"
   },
   {
    "duration": 6,
    "start_time": "2024-01-17T11:56:13.797Z"
   },
   {
    "duration": 8,
    "start_time": "2024-01-17T11:56:13.804Z"
   },
   {
    "duration": 17,
    "start_time": "2024-01-17T11:56:13.814Z"
   },
   {
    "duration": 26,
    "start_time": "2024-01-17T11:56:13.833Z"
   },
   {
    "duration": 7,
    "start_time": "2024-01-17T11:56:13.861Z"
   },
   {
    "duration": 8,
    "start_time": "2024-01-17T11:56:13.869Z"
   },
   {
    "duration": 8,
    "start_time": "2024-01-17T11:56:13.879Z"
   },
   {
    "duration": 5,
    "start_time": "2024-01-17T11:56:13.889Z"
   },
   {
    "duration": 5,
    "start_time": "2024-01-17T11:56:13.896Z"
   },
   {
    "duration": 1669,
    "start_time": "2024-01-17T11:56:13.903Z"
   },
   {
    "duration": 6,
    "start_time": "2024-01-17T11:56:15.574Z"
   },
   {
    "duration": 65,
    "start_time": "2024-01-17T11:56:15.582Z"
   },
   {
    "duration": 358,
    "start_time": "2024-01-17T11:56:15.649Z"
   },
   {
    "duration": 162,
    "start_time": "2024-01-17T12:02:25.066Z"
   },
   {
    "duration": 184,
    "start_time": "2024-01-17T12:02:40.869Z"
   },
   {
    "duration": 141,
    "start_time": "2024-01-17T12:02:51.763Z"
   },
   {
    "duration": 387,
    "start_time": "2024-01-17T12:03:31.879Z"
   },
   {
    "duration": 157,
    "start_time": "2024-01-17T12:05:37.477Z"
   },
   {
    "duration": 165,
    "start_time": "2024-01-17T12:08:17.478Z"
   },
   {
    "duration": 154,
    "start_time": "2024-01-17T12:08:48.612Z"
   },
   {
    "duration": 155,
    "start_time": "2024-01-17T12:08:55.745Z"
   },
   {
    "duration": 156,
    "start_time": "2024-01-17T12:09:01.377Z"
   },
   {
    "duration": 150,
    "start_time": "2024-01-17T12:09:27.825Z"
   },
   {
    "duration": 159,
    "start_time": "2024-01-17T12:10:43.547Z"
   },
   {
    "duration": 152,
    "start_time": "2024-01-17T12:10:52.026Z"
   },
   {
    "duration": 159,
    "start_time": "2024-01-17T12:12:09.461Z"
   },
   {
    "duration": 90,
    "start_time": "2024-01-17T12:13:02.261Z"
   },
   {
    "duration": 154,
    "start_time": "2024-01-17T12:16:52.896Z"
   },
   {
    "duration": 174,
    "start_time": "2024-01-17T12:18:24.013Z"
   },
   {
    "duration": 296,
    "start_time": "2024-01-17T12:18:44.245Z"
   },
   {
    "duration": 116,
    "start_time": "2024-01-17T12:19:20.077Z"
   },
   {
    "duration": 279,
    "start_time": "2024-01-17T12:20:31.579Z"
   },
   {
    "duration": 294,
    "start_time": "2024-01-17T12:20:42.461Z"
   },
   {
    "duration": 132,
    "start_time": "2024-01-17T12:21:25.813Z"
   },
   {
    "duration": 260,
    "start_time": "2024-01-17T12:22:43.227Z"
   },
   {
    "duration": 145,
    "start_time": "2024-01-17T12:23:23.617Z"
   },
   {
    "duration": 296,
    "start_time": "2024-01-17T12:25:18.835Z"
   },
   {
    "duration": 167,
    "start_time": "2024-01-17T12:25:59.736Z"
   },
   {
    "duration": 178,
    "start_time": "2024-01-17T12:26:39.796Z"
   },
   {
    "duration": 199,
    "start_time": "2024-01-17T12:27:56.984Z"
   },
   {
    "duration": 129,
    "start_time": "2024-01-17T12:28:26.698Z"
   },
   {
    "duration": 178,
    "start_time": "2024-01-17T12:28:49.816Z"
   },
   {
    "duration": 165,
    "start_time": "2024-01-17T12:29:09.819Z"
   },
   {
    "duration": 160,
    "start_time": "2024-01-17T12:32:55.025Z"
   },
   {
    "duration": 88,
    "start_time": "2024-01-17T12:34:11.321Z"
   },
   {
    "duration": 90,
    "start_time": "2024-01-17T12:34:36.366Z"
   },
   {
    "duration": 87,
    "start_time": "2024-01-17T12:34:53.372Z"
   },
   {
    "duration": 312,
    "start_time": "2024-01-17T12:35:47.695Z"
   },
   {
    "duration": 134,
    "start_time": "2024-01-17T12:36:49.403Z"
   },
   {
    "duration": 240,
    "start_time": "2024-01-17T12:49:25.997Z"
   },
   {
    "duration": 136,
    "start_time": "2024-01-17T12:49:34.458Z"
   },
   {
    "duration": 149,
    "start_time": "2024-01-17T12:49:55.536Z"
   },
   {
    "duration": 159,
    "start_time": "2024-01-17T12:50:09.111Z"
   },
   {
    "duration": 226,
    "start_time": "2024-01-17T12:51:02.703Z"
   },
   {
    "duration": 213,
    "start_time": "2024-01-17T12:51:12.388Z"
   },
   {
    "duration": 210,
    "start_time": "2024-01-17T12:51:43.828Z"
   },
   {
    "duration": 227,
    "start_time": "2024-01-17T12:51:53.678Z"
   },
   {
    "duration": 193,
    "start_time": "2024-01-17T12:52:23.758Z"
   },
   {
    "duration": 198,
    "start_time": "2024-01-17T12:53:41.024Z"
   },
   {
    "duration": 200,
    "start_time": "2024-01-17T12:54:05.309Z"
   },
   {
    "duration": 46,
    "start_time": "2024-01-17T17:08:03.324Z"
   },
   {
    "duration": 1242,
    "start_time": "2024-01-17T17:08:09.182Z"
   },
   {
    "duration": 186,
    "start_time": "2024-01-17T17:08:10.426Z"
   },
   {
    "duration": 15,
    "start_time": "2024-01-17T17:08:10.614Z"
   },
   {
    "duration": 14,
    "start_time": "2024-01-17T17:08:10.632Z"
   },
   {
    "duration": 9,
    "start_time": "2024-01-17T17:08:10.647Z"
   },
   {
    "duration": 13,
    "start_time": "2024-01-17T17:08:10.657Z"
   },
   {
    "duration": 5,
    "start_time": "2024-01-17T17:08:10.672Z"
   },
   {
    "duration": 8,
    "start_time": "2024-01-17T17:08:10.679Z"
   },
   {
    "duration": 14,
    "start_time": "2024-01-17T17:08:10.689Z"
   },
   {
    "duration": 12,
    "start_time": "2024-01-17T17:08:10.732Z"
   },
   {
    "duration": 10,
    "start_time": "2024-01-17T17:08:10.746Z"
   },
   {
    "duration": 12,
    "start_time": "2024-01-17T17:08:10.758Z"
   },
   {
    "duration": 8,
    "start_time": "2024-01-17T17:08:10.772Z"
   },
   {
    "duration": 5,
    "start_time": "2024-01-17T17:08:10.782Z"
   },
   {
    "duration": 7,
    "start_time": "2024-01-17T17:08:10.788Z"
   },
   {
    "duration": 11,
    "start_time": "2024-01-17T17:08:10.796Z"
   },
   {
    "duration": 5,
    "start_time": "2024-01-17T17:08:10.808Z"
   },
   {
    "duration": 6,
    "start_time": "2024-01-17T17:08:10.833Z"
   },
   {
    "duration": 17,
    "start_time": "2024-01-17T17:08:10.840Z"
   },
   {
    "duration": 172,
    "start_time": "2024-01-17T17:08:10.859Z"
   },
   {
    "duration": 7,
    "start_time": "2024-01-17T17:08:11.033Z"
   },
   {
    "duration": 76,
    "start_time": "2024-01-17T17:08:11.041Z"
   },
   {
    "duration": 19,
    "start_time": "2024-01-17T17:08:11.118Z"
   },
   {
    "duration": 256,
    "start_time": "2024-01-17T17:08:11.139Z"
   },
   {
    "duration": 8,
    "start_time": "2024-01-17T17:08:11.397Z"
   },
   {
    "duration": 105,
    "start_time": "2024-01-17T17:08:11.406Z"
   },
   {
    "duration": 7,
    "start_time": "2024-01-17T17:08:11.513Z"
   },
   {
    "duration": 257,
    "start_time": "2024-01-17T17:08:11.523Z"
   },
   {
    "duration": 131,
    "start_time": "2024-01-17T17:08:11.781Z"
   },
   {
    "duration": 10,
    "start_time": "2024-01-17T17:08:11.913Z"
   },
   {
    "duration": 329,
    "start_time": "2024-01-17T17:08:11.934Z"
   },
   {
    "duration": 118,
    "start_time": "2024-01-17T17:08:12.264Z"
   },
   {
    "duration": 64,
    "start_time": "2024-01-17T17:08:12.384Z"
   },
   {
    "duration": 16,
    "start_time": "2024-01-17T17:08:12.450Z"
   },
   {
    "duration": 15,
    "start_time": "2024-01-17T17:08:12.467Z"
   },
   {
    "duration": 51,
    "start_time": "2024-01-17T17:08:12.483Z"
   },
   {
    "duration": 241,
    "start_time": "2024-01-17T17:08:12.536Z"
   },
   {
    "duration": 164,
    "start_time": "2024-01-17T17:08:12.778Z"
   },
   {
    "duration": 8,
    "start_time": "2024-01-17T17:08:12.943Z"
   },
   {
    "duration": 10,
    "start_time": "2024-01-17T17:08:12.952Z"
   },
   {
    "duration": 7,
    "start_time": "2024-01-17T17:08:12.964Z"
   },
   {
    "duration": 173,
    "start_time": "2024-01-17T17:08:12.972Z"
   },
   {
    "duration": 163,
    "start_time": "2024-01-17T17:08:13.146Z"
   },
   {
    "duration": 7,
    "start_time": "2024-01-17T17:08:13.311Z"
   },
   {
    "duration": 18,
    "start_time": "2024-01-17T17:08:13.319Z"
   },
   {
    "duration": 30,
    "start_time": "2024-01-17T17:08:13.338Z"
   },
   {
    "duration": 36,
    "start_time": "2024-01-17T17:08:13.370Z"
   },
   {
    "duration": 29,
    "start_time": "2024-01-17T17:08:13.407Z"
   },
   {
    "duration": 6,
    "start_time": "2024-01-17T17:08:13.438Z"
   },
   {
    "duration": 4,
    "start_time": "2024-01-17T17:08:13.445Z"
   },
   {
    "duration": 5,
    "start_time": "2024-01-17T17:08:13.450Z"
   },
   {
    "duration": 5,
    "start_time": "2024-01-17T17:08:13.456Z"
   },
   {
    "duration": 3,
    "start_time": "2024-01-17T17:08:13.462Z"
   },
   {
    "duration": 15,
    "start_time": "2024-01-17T17:08:13.466Z"
   },
   {
    "duration": 11,
    "start_time": "2024-01-17T17:08:13.482Z"
   },
   {
    "duration": 6,
    "start_time": "2024-01-17T17:08:13.495Z"
   },
   {
    "duration": 32,
    "start_time": "2024-01-17T17:08:13.502Z"
   },
   {
    "duration": 8,
    "start_time": "2024-01-17T17:08:13.535Z"
   },
   {
    "duration": 12,
    "start_time": "2024-01-17T17:08:13.544Z"
   },
   {
    "duration": 6,
    "start_time": "2024-01-17T17:08:13.557Z"
   },
   {
    "duration": 1393,
    "start_time": "2024-01-17T17:08:13.565Z"
   },
   {
    "duration": 5,
    "start_time": "2024-01-17T17:08:14.960Z"
   },
   {
    "duration": 9,
    "start_time": "2024-01-17T17:08:14.966Z"
   },
   {
    "duration": 223,
    "start_time": "2024-01-17T17:08:14.976Z"
   },
   {
    "duration": 100,
    "start_time": "2024-01-17T17:09:45.881Z"
   },
   {
    "duration": 98,
    "start_time": "2024-01-17T17:10:01.524Z"
   },
   {
    "duration": 162,
    "start_time": "2024-01-17T17:11:31.557Z"
   },
   {
    "duration": 261,
    "start_time": "2024-01-17T17:13:40.891Z"
   },
   {
    "duration": 142,
    "start_time": "2024-01-17T17:14:06.352Z"
   },
   {
    "duration": 1368,
    "start_time": "2024-01-17T17:47:51.691Z"
   },
   {
    "duration": 1433,
    "start_time": "2024-01-17T17:47:58.027Z"
   },
   {
    "duration": 159,
    "start_time": "2024-01-17T17:49:31.642Z"
   },
   {
    "duration": 151,
    "start_time": "2024-01-17T17:50:01.466Z"
   },
   {
    "duration": 311,
    "start_time": "2024-01-17T17:52:37.113Z"
   },
   {
    "duration": 459,
    "start_time": "2024-01-17T17:53:20.900Z"
   },
   {
    "duration": 447,
    "start_time": "2024-01-17T17:53:49.849Z"
   },
   {
    "duration": 238,
    "start_time": "2024-01-17T17:54:38.601Z"
   },
   {
    "duration": 355,
    "start_time": "2024-01-17T17:56:16.220Z"
   },
   {
    "duration": 255,
    "start_time": "2024-01-17T17:56:49.441Z"
   },
   {
    "duration": 94,
    "start_time": "2024-01-17T17:56:57.616Z"
   },
   {
    "duration": 233,
    "start_time": "2024-01-17T17:57:35.398Z"
   },
   {
    "duration": 34,
    "start_time": "2024-01-17T18:23:51.375Z"
   },
   {
    "duration": 13,
    "start_time": "2024-01-17T18:25:30.632Z"
   },
   {
    "duration": 8,
    "start_time": "2024-01-17T18:26:06.914Z"
   },
   {
    "duration": 1170,
    "start_time": "2024-01-17T18:33:31.110Z"
   },
   {
    "duration": 73,
    "start_time": "2024-01-17T18:33:32.281Z"
   },
   {
    "duration": 10,
    "start_time": "2024-01-17T18:33:32.355Z"
   },
   {
    "duration": 9,
    "start_time": "2024-01-17T18:33:32.367Z"
   },
   {
    "duration": 10,
    "start_time": "2024-01-17T18:33:32.377Z"
   },
   {
    "duration": 9,
    "start_time": "2024-01-17T18:33:32.389Z"
   },
   {
    "duration": 5,
    "start_time": "2024-01-17T18:33:32.399Z"
   },
   {
    "duration": 12,
    "start_time": "2024-01-17T18:33:32.405Z"
   },
   {
    "duration": 20,
    "start_time": "2024-01-17T18:33:32.418Z"
   },
   {
    "duration": 11,
    "start_time": "2024-01-17T18:33:32.442Z"
   },
   {
    "duration": 4,
    "start_time": "2024-01-17T18:33:32.454Z"
   },
   {
    "duration": 5,
    "start_time": "2024-01-17T18:33:32.459Z"
   },
   {
    "duration": 9,
    "start_time": "2024-01-17T18:33:32.466Z"
   },
   {
    "duration": 6,
    "start_time": "2024-01-17T18:33:32.476Z"
   },
   {
    "duration": 6,
    "start_time": "2024-01-17T18:33:32.483Z"
   },
   {
    "duration": 7,
    "start_time": "2024-01-17T18:33:32.491Z"
   },
   {
    "duration": 41,
    "start_time": "2024-01-17T18:33:32.499Z"
   },
   {
    "duration": 9,
    "start_time": "2024-01-17T18:33:32.541Z"
   },
   {
    "duration": 17,
    "start_time": "2024-01-17T18:33:32.551Z"
   },
   {
    "duration": 161,
    "start_time": "2024-01-17T18:33:32.570Z"
   },
   {
    "duration": 16,
    "start_time": "2024-01-17T18:33:32.732Z"
   },
   {
    "duration": 76,
    "start_time": "2024-01-17T18:33:32.751Z"
   },
   {
    "duration": 8,
    "start_time": "2024-01-17T18:33:32.840Z"
   },
   {
    "duration": 298,
    "start_time": "2024-01-17T18:33:32.850Z"
   },
   {
    "duration": 8,
    "start_time": "2024-01-17T18:33:33.150Z"
   },
   {
    "duration": 112,
    "start_time": "2024-01-17T18:33:33.160Z"
   },
   {
    "duration": 8,
    "start_time": "2024-01-17T18:33:33.274Z"
   },
   {
    "duration": 261,
    "start_time": "2024-01-17T18:33:33.287Z"
   },
   {
    "duration": 120,
    "start_time": "2024-01-17T18:33:33.550Z"
   },
   {
    "duration": 8,
    "start_time": "2024-01-17T18:33:33.672Z"
   },
   {
    "duration": 311,
    "start_time": "2024-01-17T18:33:33.682Z"
   },
   {
    "duration": 132,
    "start_time": "2024-01-17T18:33:33.995Z"
   },
   {
    "duration": 31,
    "start_time": "2024-01-17T18:33:34.129Z"
   },
   {
    "duration": 10,
    "start_time": "2024-01-17T18:33:34.162Z"
   },
   {
    "duration": 13,
    "start_time": "2024-01-17T18:33:34.174Z"
   },
   {
    "duration": 15,
    "start_time": "2024-01-17T18:33:34.189Z"
   },
   {
    "duration": 208,
    "start_time": "2024-01-17T18:33:34.205Z"
   },
   {
    "duration": 164,
    "start_time": "2024-01-17T18:33:34.415Z"
   },
   {
    "duration": 7,
    "start_time": "2024-01-17T18:33:34.581Z"
   },
   {
    "duration": 6,
    "start_time": "2024-01-17T18:33:34.590Z"
   },
   {
    "duration": 7,
    "start_time": "2024-01-17T18:33:34.598Z"
   },
   {
    "duration": 186,
    "start_time": "2024-01-17T18:33:34.607Z"
   },
   {
    "duration": 159,
    "start_time": "2024-01-17T18:33:34.794Z"
   },
   {
    "duration": 8,
    "start_time": "2024-01-17T18:33:34.954Z"
   },
   {
    "duration": 6,
    "start_time": "2024-01-17T18:33:34.964Z"
   },
   {
    "duration": 31,
    "start_time": "2024-01-17T18:33:34.971Z"
   },
   {
    "duration": 43,
    "start_time": "2024-01-17T18:33:35.003Z"
   },
   {
    "duration": 7,
    "start_time": "2024-01-17T18:33:35.048Z"
   },
   {
    "duration": 7,
    "start_time": "2024-01-17T18:33:35.056Z"
   },
   {
    "duration": 8,
    "start_time": "2024-01-17T18:33:35.064Z"
   },
   {
    "duration": 5,
    "start_time": "2024-01-17T18:33:35.073Z"
   },
   {
    "duration": 3,
    "start_time": "2024-01-17T18:33:35.080Z"
   },
   {
    "duration": 6,
    "start_time": "2024-01-17T18:33:35.085Z"
   },
   {
    "duration": 4,
    "start_time": "2024-01-17T18:33:35.092Z"
   },
   {
    "duration": 4,
    "start_time": "2024-01-17T18:33:35.097Z"
   },
   {
    "duration": 45,
    "start_time": "2024-01-17T18:33:35.103Z"
   },
   {
    "duration": 7,
    "start_time": "2024-01-17T18:33:35.149Z"
   },
   {
    "duration": 7,
    "start_time": "2024-01-17T18:33:35.158Z"
   },
   {
    "duration": 5,
    "start_time": "2024-01-17T18:33:35.166Z"
   },
   {
    "duration": 1441,
    "start_time": "2024-01-17T18:33:35.172Z"
   },
   {
    "duration": 6,
    "start_time": "2024-01-17T18:33:36.614Z"
   },
   {
    "duration": 16,
    "start_time": "2024-01-17T18:33:36.621Z"
   },
   {
    "duration": 255,
    "start_time": "2024-01-17T18:33:36.638Z"
   },
   {
    "duration": 1060,
    "start_time": "2024-01-17T18:46:22.557Z"
   },
   {
    "duration": 68,
    "start_time": "2024-01-17T18:46:23.619Z"
   },
   {
    "duration": 11,
    "start_time": "2024-01-17T18:46:23.689Z"
   },
   {
    "duration": 10,
    "start_time": "2024-01-17T18:46:23.702Z"
   },
   {
    "duration": 8,
    "start_time": "2024-01-17T18:46:23.713Z"
   },
   {
    "duration": 14,
    "start_time": "2024-01-17T18:46:23.723Z"
   },
   {
    "duration": 9,
    "start_time": "2024-01-17T18:46:23.744Z"
   },
   {
    "duration": 10,
    "start_time": "2024-01-17T18:46:23.754Z"
   },
   {
    "duration": 13,
    "start_time": "2024-01-17T18:46:23.766Z"
   },
   {
    "duration": 10,
    "start_time": "2024-01-17T18:46:23.782Z"
   },
   {
    "duration": 3,
    "start_time": "2024-01-17T18:46:23.794Z"
   },
   {
    "duration": 12,
    "start_time": "2024-01-17T18:46:23.798Z"
   },
   {
    "duration": 23,
    "start_time": "2024-01-17T18:46:23.811Z"
   },
   {
    "duration": 6,
    "start_time": "2024-01-17T18:46:23.835Z"
   },
   {
    "duration": 12,
    "start_time": "2024-01-17T18:46:23.842Z"
   },
   {
    "duration": 8,
    "start_time": "2024-01-17T18:46:23.856Z"
   },
   {
    "duration": 4,
    "start_time": "2024-01-17T18:46:23.865Z"
   },
   {
    "duration": 9,
    "start_time": "2024-01-17T18:46:23.871Z"
   },
   {
    "duration": 17,
    "start_time": "2024-01-17T18:46:23.882Z"
   },
   {
    "duration": 156,
    "start_time": "2024-01-17T18:46:23.937Z"
   },
   {
    "duration": 8,
    "start_time": "2024-01-17T18:46:24.094Z"
   },
   {
    "duration": 97,
    "start_time": "2024-01-17T18:46:24.103Z"
   },
   {
    "duration": 7,
    "start_time": "2024-01-17T18:46:24.201Z"
   },
   {
    "duration": 285,
    "start_time": "2024-01-17T18:46:24.209Z"
   },
   {
    "duration": 7,
    "start_time": "2024-01-17T18:46:24.495Z"
   },
   {
    "duration": 115,
    "start_time": "2024-01-17T18:46:24.504Z"
   },
   {
    "duration": 28,
    "start_time": "2024-01-17T18:46:24.620Z"
   },
   {
    "duration": 248,
    "start_time": "2024-01-17T18:46:24.652Z"
   },
   {
    "duration": 122,
    "start_time": "2024-01-17T18:46:24.901Z"
   },
   {
    "duration": 16,
    "start_time": "2024-01-17T18:46:25.024Z"
   },
   {
    "duration": 310,
    "start_time": "2024-01-17T18:46:25.042Z"
   },
   {
    "duration": 126,
    "start_time": "2024-01-17T18:46:25.354Z"
   },
   {
    "duration": 22,
    "start_time": "2024-01-17T18:46:25.481Z"
   },
   {
    "duration": 12,
    "start_time": "2024-01-17T18:46:25.505Z"
   },
   {
    "duration": 21,
    "start_time": "2024-01-17T18:46:25.533Z"
   },
   {
    "duration": 13,
    "start_time": "2024-01-17T18:46:25.555Z"
   },
   {
    "duration": 187,
    "start_time": "2024-01-17T18:46:25.570Z"
   },
   {
    "duration": 167,
    "start_time": "2024-01-17T18:46:25.759Z"
   },
   {
    "duration": 22,
    "start_time": "2024-01-17T18:46:25.927Z"
   },
   {
    "duration": 7,
    "start_time": "2024-01-17T18:46:25.951Z"
   },
   {
    "duration": 8,
    "start_time": "2024-01-17T18:46:25.959Z"
   },
   {
    "duration": 175,
    "start_time": "2024-01-17T18:46:25.968Z"
   },
   {
    "duration": 155,
    "start_time": "2024-01-17T18:46:26.145Z"
   },
   {
    "duration": 8,
    "start_time": "2024-01-17T18:46:26.301Z"
   },
   {
    "duration": 40,
    "start_time": "2024-01-17T18:46:26.311Z"
   },
   {
    "duration": 40,
    "start_time": "2024-01-17T18:46:26.353Z"
   },
   {
    "duration": 13,
    "start_time": "2024-01-17T18:46:26.395Z"
   },
   {
    "duration": 6,
    "start_time": "2024-01-17T18:46:26.409Z"
   },
   {
    "duration": 4,
    "start_time": "2024-01-17T18:46:26.416Z"
   },
   {
    "duration": 25,
    "start_time": "2024-01-17T18:46:26.421Z"
   },
   {
    "duration": 5,
    "start_time": "2024-01-17T18:46:26.448Z"
   },
   {
    "duration": 3,
    "start_time": "2024-01-17T18:46:26.454Z"
   },
   {
    "duration": 7,
    "start_time": "2024-01-17T18:46:26.458Z"
   },
   {
    "duration": 3,
    "start_time": "2024-01-17T18:46:26.466Z"
   },
   {
    "duration": 5,
    "start_time": "2024-01-17T18:46:26.470Z"
   },
   {
    "duration": 9,
    "start_time": "2024-01-17T18:46:26.476Z"
   },
   {
    "duration": 6,
    "start_time": "2024-01-17T18:46:26.486Z"
   },
   {
    "duration": 14,
    "start_time": "2024-01-17T18:46:26.493Z"
   },
   {
    "duration": 30,
    "start_time": "2024-01-17T18:46:26.508Z"
   },
   {
    "duration": 1462,
    "start_time": "2024-01-17T18:46:26.546Z"
   },
   {
    "duration": 6,
    "start_time": "2024-01-17T18:46:28.009Z"
   },
   {
    "duration": 28,
    "start_time": "2024-01-17T18:46:28.017Z"
   },
   {
    "duration": 246,
    "start_time": "2024-01-17T18:46:28.047Z"
   },
   {
    "duration": 2208,
    "start_time": "2024-01-18T08:25:29.457Z"
   },
   {
    "duration": 207,
    "start_time": "2024-01-18T08:25:31.668Z"
   },
   {
    "duration": 12,
    "start_time": "2024-01-18T08:25:31.876Z"
   },
   {
    "duration": 65,
    "start_time": "2024-01-18T08:25:31.889Z"
   },
   {
    "duration": 10,
    "start_time": "2024-01-18T08:25:31.959Z"
   },
   {
    "duration": 11,
    "start_time": "2024-01-18T08:25:31.972Z"
   },
   {
    "duration": 85,
    "start_time": "2024-01-18T08:25:31.984Z"
   },
   {
    "duration": 34,
    "start_time": "2024-01-18T08:25:32.071Z"
   },
   {
    "duration": 68,
    "start_time": "2024-01-18T08:25:32.107Z"
   },
   {
    "duration": 22,
    "start_time": "2024-01-18T08:25:32.177Z"
   },
   {
    "duration": 62,
    "start_time": "2024-01-18T08:25:32.201Z"
   },
   {
    "duration": 6,
    "start_time": "2024-01-18T08:25:32.267Z"
   },
   {
    "duration": 80,
    "start_time": "2024-01-18T08:25:32.275Z"
   },
   {
    "duration": 9,
    "start_time": "2024-01-18T08:25:32.358Z"
   },
   {
    "duration": 22,
    "start_time": "2024-01-18T08:25:32.369Z"
   },
   {
    "duration": 78,
    "start_time": "2024-01-18T08:25:32.393Z"
   },
   {
    "duration": 5,
    "start_time": "2024-01-18T08:25:32.473Z"
   },
   {
    "duration": 25,
    "start_time": "2024-01-18T08:25:32.479Z"
   },
   {
    "duration": 70,
    "start_time": "2024-01-18T08:25:32.505Z"
   },
   {
    "duration": 496,
    "start_time": "2024-01-18T08:25:32.577Z"
   },
   {
    "duration": 11,
    "start_time": "2024-01-18T08:25:33.075Z"
   },
   {
    "duration": 205,
    "start_time": "2024-01-18T08:25:33.088Z"
   },
   {
    "duration": 70,
    "start_time": "2024-01-18T08:25:33.295Z"
   },
   {
    "duration": 624,
    "start_time": "2024-01-18T08:25:33.370Z"
   },
   {
    "duration": 70,
    "start_time": "2024-01-18T08:25:33.995Z"
   },
   {
    "duration": 219,
    "start_time": "2024-01-18T08:25:34.068Z"
   },
   {
    "duration": 74,
    "start_time": "2024-01-18T08:25:34.289Z"
   },
   {
    "duration": 731,
    "start_time": "2024-01-18T08:25:34.365Z"
   },
   {
    "duration": 371,
    "start_time": "2024-01-18T08:25:35.098Z"
   },
   {
    "duration": 9,
    "start_time": "2024-01-18T08:25:35.471Z"
   },
   {
    "duration": 698,
    "start_time": "2024-01-18T08:25:35.482Z"
   },
   {
    "duration": 294,
    "start_time": "2024-01-18T08:25:36.181Z"
   },
   {
    "duration": 82,
    "start_time": "2024-01-18T08:25:36.476Z"
   },
   {
    "duration": 20,
    "start_time": "2024-01-18T08:25:36.562Z"
   },
   {
    "duration": 74,
    "start_time": "2024-01-18T08:25:36.584Z"
   },
   {
    "duration": 18,
    "start_time": "2024-01-18T08:25:36.659Z"
   },
   {
    "duration": 415,
    "start_time": "2024-01-18T08:25:36.679Z"
   },
   {
    "duration": 478,
    "start_time": "2024-01-18T08:25:37.095Z"
   },
   {
    "duration": 9,
    "start_time": "2024-01-18T08:25:37.574Z"
   },
   {
    "duration": 8,
    "start_time": "2024-01-18T08:25:37.585Z"
   },
   {
    "duration": 13,
    "start_time": "2024-01-18T08:25:37.657Z"
   },
   {
    "duration": 390,
    "start_time": "2024-01-18T08:25:37.672Z"
   },
   {
    "duration": 390,
    "start_time": "2024-01-18T08:25:38.066Z"
   },
   {
    "duration": 19,
    "start_time": "2024-01-18T08:25:38.459Z"
   },
   {
    "duration": 9,
    "start_time": "2024-01-18T08:25:38.480Z"
   },
   {
    "duration": 101,
    "start_time": "2024-01-18T08:25:38.491Z"
   },
   {
    "duration": 73,
    "start_time": "2024-01-18T08:25:38.594Z"
   },
   {
    "duration": 18,
    "start_time": "2024-01-18T08:25:38.671Z"
   },
   {
    "duration": 8,
    "start_time": "2024-01-18T08:25:38.692Z"
   },
   {
    "duration": 12,
    "start_time": "2024-01-18T08:25:38.752Z"
   },
   {
    "duration": 6,
    "start_time": "2024-01-18T08:25:38.766Z"
   },
   {
    "duration": 18,
    "start_time": "2024-01-18T08:25:38.774Z"
   },
   {
    "duration": 62,
    "start_time": "2024-01-18T08:25:38.793Z"
   },
   {
    "duration": 9,
    "start_time": "2024-01-18T08:25:38.859Z"
   },
   {
    "duration": 5,
    "start_time": "2024-01-18T08:25:38.872Z"
   },
   {
    "duration": 20,
    "start_time": "2024-01-18T08:25:38.878Z"
   },
   {
    "duration": 63,
    "start_time": "2024-01-18T08:25:38.900Z"
   },
   {
    "duration": 5,
    "start_time": "2024-01-18T08:25:38.970Z"
   },
   {
    "duration": 6,
    "start_time": "2024-01-18T08:25:38.977Z"
   },
   {
    "duration": 3479,
    "start_time": "2024-01-18T08:25:38.985Z"
   },
   {
    "duration": 9,
    "start_time": "2024-01-18T08:25:42.466Z"
   },
   {
    "duration": 7,
    "start_time": "2024-01-18T08:25:42.477Z"
   },
   {
    "duration": 605,
    "start_time": "2024-01-18T08:25:42.485Z"
   },
   {
    "duration": 6,
    "start_time": "2024-01-18T08:31:57.720Z"
   },
   {
    "duration": 1475,
    "start_time": "2024-09-25T11:00:18.718Z"
   },
   {
    "duration": 4,
    "start_time": "2024-09-25T11:00:23.415Z"
   },
   {
    "duration": 9,
    "start_time": "2024-09-25T11:04:30.758Z"
   },
   {
    "duration": 1209,
    "start_time": "2024-09-25T11:04:34.966Z"
   },
   {
    "duration": 4,
    "start_time": "2024-09-25T11:04:39.265Z"
   },
   {
    "duration": 140,
    "start_time": "2024-09-25T11:04:41.882Z"
   },
   {
    "duration": 5,
    "start_time": "2024-09-25T11:05:33.033Z"
   },
   {
    "duration": 112,
    "start_time": "2024-09-25T11:05:35.269Z"
   },
   {
    "duration": 11,
    "start_time": "2024-09-25T11:05:38.304Z"
   },
   {
    "duration": 12,
    "start_time": "2024-09-25T11:05:43.339Z"
   },
   {
    "duration": 8,
    "start_time": "2024-09-25T11:05:53.638Z"
   },
   {
    "duration": 12,
    "start_time": "2024-09-25T11:06:01.775Z"
   },
   {
    "duration": 7,
    "start_time": "2024-09-25T11:06:10.412Z"
   },
   {
    "duration": 10,
    "start_time": "2024-09-25T11:06:20.977Z"
   },
   {
    "duration": 16,
    "start_time": "2024-09-25T11:07:01.937Z"
   },
   {
    "duration": 11,
    "start_time": "2024-09-25T11:07:08.498Z"
   },
   {
    "duration": 4,
    "start_time": "2024-09-25T11:07:14.472Z"
   },
   {
    "duration": 7,
    "start_time": "2024-09-25T11:07:26.809Z"
   },
   {
    "duration": 6,
    "start_time": "2024-09-25T11:07:28.985Z"
   },
   {
    "duration": 6,
    "start_time": "2024-09-25T11:07:31.887Z"
   },
   {
    "duration": 8,
    "start_time": "2024-09-25T11:07:35.282Z"
   },
   {
    "duration": 20,
    "start_time": "2024-09-25T11:07:43.318Z"
   },
   {
    "duration": 5,
    "start_time": "2024-09-25T11:07:46.578Z"
   },
   {
    "duration": 4,
    "start_time": "2024-09-25T11:07:55.070Z"
   },
   {
    "duration": 19,
    "start_time": "2024-09-25T11:08:02.556Z"
   },
   {
    "duration": 179,
    "start_time": "2024-09-25T11:09:54.229Z"
   },
   {
    "duration": 10,
    "start_time": "2024-09-25T11:16:00.753Z"
   },
   {
    "duration": 98,
    "start_time": "2024-09-25T11:16:03.917Z"
   },
   {
    "duration": 94,
    "start_time": "2024-09-25T11:22:04.603Z"
   },
   {
    "duration": 151,
    "start_time": "2024-09-25T11:22:41.106Z"
   },
   {
    "duration": 91,
    "start_time": "2024-09-25T11:23:07.844Z"
   },
   {
    "duration": 305,
    "start_time": "2024-09-25T11:23:48.648Z"
   },
   {
    "duration": 8,
    "start_time": "2024-09-25T11:23:58.499Z"
   },
   {
    "duration": 9,
    "start_time": "2024-09-25T11:24:07.199Z"
   },
   {
    "duration": 115,
    "start_time": "2024-09-25T11:24:24.603Z"
   },
   {
    "duration": 9,
    "start_time": "2024-09-25T11:24:44.672Z"
   },
   {
    "duration": 362,
    "start_time": "2024-09-25T11:24:49.073Z"
   },
   {
    "duration": 137,
    "start_time": "2024-09-25T11:24:57.623Z"
   },
   {
    "duration": 10,
    "start_time": "2024-09-25T11:25:11.974Z"
   },
   {
    "duration": 280,
    "start_time": "2024-09-25T11:25:14.567Z"
   },
   {
    "duration": 142,
    "start_time": "2024-09-25T11:25:19.033Z"
   },
   {
    "duration": 29,
    "start_time": "2024-09-25T11:26:00.252Z"
   },
   {
    "duration": 15,
    "start_time": "2024-09-25T11:26:05.119Z"
   },
   {
    "duration": 16,
    "start_time": "2024-09-25T11:26:14.238Z"
   },
   {
    "duration": 17,
    "start_time": "2024-09-25T11:26:18.478Z"
   },
   {
    "duration": 202,
    "start_time": "2024-09-25T11:26:37.416Z"
   },
   {
    "duration": 179,
    "start_time": "2024-09-25T11:26:44.567Z"
   },
   {
    "duration": 10,
    "start_time": "2024-09-25T11:26:53.389Z"
   },
   {
    "duration": 9,
    "start_time": "2024-09-25T11:28:18.906Z"
   },
   {
    "duration": 28,
    "start_time": "2024-09-25T11:28:28.214Z"
   },
   {
    "duration": 9,
    "start_time": "2024-09-25T11:28:41.847Z"
   },
   {
    "duration": 16,
    "start_time": "2024-09-25T11:34:08.649Z"
   },
   {
    "duration": 4,
    "start_time": "2024-09-25T11:40:54.562Z"
   },
   {
    "duration": 99,
    "start_time": "2024-09-25T11:40:56.779Z"
   },
   {
    "duration": 3,
    "start_time": "2024-09-25T11:44:32.366Z"
   },
   {
    "duration": 96,
    "start_time": "2024-09-25T11:44:34.476Z"
   },
   {
    "duration": 9,
    "start_time": "2024-09-25T11:48:26.266Z"
   },
   {
    "duration": 6,
    "start_time": "2024-09-25T11:51:37.636Z"
   },
   {
    "duration": 4,
    "start_time": "2024-09-25T11:51:50.545Z"
   },
   {
    "duration": 94,
    "start_time": "2024-09-25T11:51:52.293Z"
   },
   {
    "duration": 5,
    "start_time": "2024-09-25T11:52:16.832Z"
   },
   {
    "duration": 98,
    "start_time": "2024-09-25T11:52:18.570Z"
   },
   {
    "duration": 97,
    "start_time": "2024-09-25T11:53:00.815Z"
   },
   {
    "duration": 79,
    "start_time": "2024-09-25T11:56:38.279Z"
   },
   {
    "duration": 51,
    "start_time": "2024-09-25T11:56:47.954Z"
   },
   {
    "duration": 6,
    "start_time": "2024-09-25T11:57:47.870Z"
   },
   {
    "duration": 274,
    "start_time": "2024-09-25T11:58:55.658Z"
   },
   {
    "duration": 193,
    "start_time": "2024-09-25T11:59:10.682Z"
   },
   {
    "duration": 4,
    "start_time": "2024-09-25T12:03:27.560Z"
   },
   {
    "duration": 217,
    "start_time": "2024-09-25T12:03:40.023Z"
   },
   {
    "duration": 10,
    "start_time": "2024-09-25T12:07:20.514Z"
   },
   {
    "duration": 5,
    "start_time": "2024-09-25T12:07:28.435Z"
   },
   {
    "duration": 208,
    "start_time": "2024-09-25T12:07:30.446Z"
   },
   {
    "duration": 170,
    "start_time": "2024-09-25T12:08:08.229Z"
   },
   {
    "duration": 4,
    "start_time": "2024-09-25T12:14:16.826Z"
   },
   {
    "duration": 10,
    "start_time": "2024-09-25T12:14:19.138Z"
   },
   {
    "duration": 4,
    "start_time": "2024-09-25T12:14:33.964Z"
   },
   {
    "duration": 14,
    "start_time": "2024-09-25T12:14:35.635Z"
   },
   {
    "duration": 4,
    "start_time": "2024-09-25T12:15:56.372Z"
   },
   {
    "duration": 19,
    "start_time": "2024-09-25T12:16:01.187Z"
   },
   {
    "duration": 1257,
    "start_time": "2024-09-25T12:24:39.289Z"
   },
   {
    "duration": 3,
    "start_time": "2024-09-25T12:24:40.550Z"
   },
   {
    "duration": 84,
    "start_time": "2024-09-25T12:24:40.555Z"
   },
   {
    "duration": 13,
    "start_time": "2024-09-25T12:24:40.641Z"
   },
   {
    "duration": 72,
    "start_time": "2024-09-25T12:24:40.656Z"
   },
   {
    "duration": 20,
    "start_time": "2024-09-25T12:24:40.729Z"
   },
   {
    "duration": 12,
    "start_time": "2024-09-25T12:24:40.751Z"
   },
   {
    "duration": 8,
    "start_time": "2024-09-25T12:24:40.764Z"
   },
   {
    "duration": 12,
    "start_time": "2024-09-25T12:24:40.774Z"
   },
   {
    "duration": 42,
    "start_time": "2024-09-25T12:24:40.789Z"
   },
   {
    "duration": 14,
    "start_time": "2024-09-25T12:24:40.833Z"
   },
   {
    "duration": 5,
    "start_time": "2024-09-25T12:24:40.850Z"
   },
   {
    "duration": 7,
    "start_time": "2024-09-25T12:24:40.857Z"
   },
   {
    "duration": 7,
    "start_time": "2024-09-25T12:24:40.865Z"
   },
   {
    "duration": 7,
    "start_time": "2024-09-25T12:24:40.874Z"
   },
   {
    "duration": 48,
    "start_time": "2024-09-25T12:24:40.883Z"
   },
   {
    "duration": 12,
    "start_time": "2024-09-25T12:24:40.932Z"
   },
   {
    "duration": 6,
    "start_time": "2024-09-25T12:24:40.945Z"
   },
   {
    "duration": 66,
    "start_time": "2024-09-25T12:24:40.952Z"
   },
   {
    "duration": 47,
    "start_time": "2024-09-25T12:24:41.020Z"
   },
   {
    "duration": 169,
    "start_time": "2024-09-25T12:24:41.068Z"
   },
   {
    "duration": 8,
    "start_time": "2024-09-25T12:24:41.238Z"
   },
   {
    "duration": 7,
    "start_time": "2024-09-25T12:24:41.248Z"
   },
   {
    "duration": 114,
    "start_time": "2024-09-25T12:24:41.256Z"
   },
   {
    "duration": 307,
    "start_time": "2024-09-25T12:24:41.372Z"
   },
   {
    "duration": 8,
    "start_time": "2024-09-25T12:24:41.681Z"
   },
   {
    "duration": 145,
    "start_time": "2024-09-25T12:24:41.690Z"
   },
   {
    "duration": 10,
    "start_time": "2024-09-25T12:24:41.839Z"
   },
   {
    "duration": 307,
    "start_time": "2024-09-25T12:24:41.851Z"
   },
   {
    "duration": 153,
    "start_time": "2024-09-25T12:24:42.160Z"
   },
   {
    "duration": 19,
    "start_time": "2024-09-25T12:24:42.315Z"
   },
   {
    "duration": 355,
    "start_time": "2024-09-25T12:24:42.336Z"
   },
   {
    "duration": 151,
    "start_time": "2024-09-25T12:24:42.693Z"
   },
   {
    "duration": 27,
    "start_time": "2024-09-25T12:24:42.846Z"
   },
   {
    "duration": 14,
    "start_time": "2024-09-25T12:24:42.875Z"
   },
   {
    "duration": 43,
    "start_time": "2024-09-25T12:24:42.890Z"
   },
   {
    "duration": 18,
    "start_time": "2024-09-25T12:24:42.934Z"
   },
   {
    "duration": 5,
    "start_time": "2024-09-25T12:24:42.953Z"
   },
   {
    "duration": 307,
    "start_time": "2024-09-25T12:24:42.960Z"
   },
   {
    "duration": 4,
    "start_time": "2024-09-25T12:24:43.268Z"
   },
   {
    "duration": 191,
    "start_time": "2024-09-25T12:24:43.273Z"
   },
   {
    "duration": 5,
    "start_time": "2024-09-25T12:24:43.465Z"
   },
   {
    "duration": 25,
    "start_time": "2024-09-25T12:24:43.472Z"
   },
   {
    "duration": 114,
    "start_time": "2024-09-25T12:24:43.499Z"
   },
   {
    "duration": 190,
    "start_time": "2024-09-25T12:24:43.615Z"
   },
   {
    "duration": 2,
    "start_time": "2024-09-25T12:24:43.807Z"
   },
   {
    "duration": 187,
    "start_time": "2024-09-25T12:24:43.811Z"
   },
   {
    "duration": 15,
    "start_time": "2024-09-25T12:24:44.000Z"
   },
   {
    "duration": 39,
    "start_time": "2024-09-25T12:24:44.026Z"
   },
   {
    "duration": 15,
    "start_time": "2024-09-25T12:24:44.067Z"
   },
   {
    "duration": 8,
    "start_time": "2024-09-25T12:24:44.084Z"
   },
   {
    "duration": 32,
    "start_time": "2024-09-25T12:24:44.094Z"
   },
   {
    "duration": 5,
    "start_time": "2024-09-25T12:24:44.128Z"
   },
   {
    "duration": 7,
    "start_time": "2024-09-25T12:24:44.135Z"
   },
   {
    "duration": 4,
    "start_time": "2024-09-25T12:24:44.144Z"
   },
   {
    "duration": 10,
    "start_time": "2024-09-25T12:24:44.150Z"
   },
   {
    "duration": 5,
    "start_time": "2024-09-25T12:24:44.161Z"
   },
   {
    "duration": 5,
    "start_time": "2024-09-25T12:24:44.168Z"
   },
   {
    "duration": 54,
    "start_time": "2024-09-25T12:24:44.175Z"
   },
   {
    "duration": 11,
    "start_time": "2024-09-25T12:24:44.231Z"
   },
   {
    "duration": 6,
    "start_time": "2024-09-25T12:24:44.244Z"
   },
   {
    "duration": 4,
    "start_time": "2024-09-25T12:24:44.252Z"
   },
   {
    "duration": 1667,
    "start_time": "2024-09-25T12:24:44.258Z"
   },
   {
    "duration": 7,
    "start_time": "2024-09-25T12:24:45.927Z"
   },
   {
    "duration": 11,
    "start_time": "2024-09-25T12:24:45.936Z"
   },
   {
    "duration": 296,
    "start_time": "2024-09-25T12:24:45.949Z"
   },
   {
    "duration": 1239,
    "start_time": "2024-09-25T12:46:08.649Z"
   },
   {
    "duration": 4,
    "start_time": "2024-09-25T12:46:09.890Z"
   },
   {
    "duration": 80,
    "start_time": "2024-09-25T12:46:09.896Z"
   },
   {
    "duration": 13,
    "start_time": "2024-09-25T12:46:09.978Z"
   },
   {
    "duration": 15,
    "start_time": "2024-09-25T12:46:09.993Z"
   },
   {
    "duration": 10,
    "start_time": "2024-09-25T12:46:10.010Z"
   },
   {
    "duration": 12,
    "start_time": "2024-09-25T12:46:10.022Z"
   },
   {
    "duration": 7,
    "start_time": "2024-09-25T12:46:10.036Z"
   },
   {
    "duration": 11,
    "start_time": "2024-09-25T12:46:10.044Z"
   },
   {
    "duration": 14,
    "start_time": "2024-09-25T12:46:10.057Z"
   },
   {
    "duration": 11,
    "start_time": "2024-09-25T12:46:10.073Z"
   },
   {
    "duration": 40,
    "start_time": "2024-09-25T12:46:10.086Z"
   },
   {
    "duration": 7,
    "start_time": "2024-09-25T12:46:10.128Z"
   },
   {
    "duration": 8,
    "start_time": "2024-09-25T12:46:10.137Z"
   },
   {
    "duration": 7,
    "start_time": "2024-09-25T12:46:10.147Z"
   },
   {
    "duration": 9,
    "start_time": "2024-09-25T12:46:10.155Z"
   },
   {
    "duration": 13,
    "start_time": "2024-09-25T12:46:10.165Z"
   },
   {
    "duration": 51,
    "start_time": "2024-09-25T12:46:10.180Z"
   },
   {
    "duration": 5,
    "start_time": "2024-09-25T12:46:10.234Z"
   },
   {
    "duration": 19,
    "start_time": "2024-09-25T12:46:10.241Z"
   },
   {
    "duration": 191,
    "start_time": "2024-09-25T12:46:10.262Z"
   },
   {
    "duration": 8,
    "start_time": "2024-09-25T12:46:10.455Z"
   },
   {
    "duration": 4,
    "start_time": "2024-09-25T12:46:10.465Z"
   },
   {
    "duration": 116,
    "start_time": "2024-09-25T12:46:10.471Z"
   },
   {
    "duration": 308,
    "start_time": "2024-09-25T12:46:10.589Z"
   },
   {
    "duration": 8,
    "start_time": "2024-09-25T12:46:10.899Z"
   },
   {
    "duration": 176,
    "start_time": "2024-09-25T12:46:10.909Z"
   },
   {
    "duration": 9,
    "start_time": "2024-09-25T12:46:11.090Z"
   },
   {
    "duration": 325,
    "start_time": "2024-09-25T12:46:11.101Z"
   },
   {
    "duration": 146,
    "start_time": "2024-09-25T12:46:11.428Z"
   },
   {
    "duration": 9,
    "start_time": "2024-09-25T12:46:11.576Z"
   },
   {
    "duration": 359,
    "start_time": "2024-09-25T12:46:11.587Z"
   },
   {
    "duration": 152,
    "start_time": "2024-09-25T12:46:11.948Z"
   },
   {
    "duration": 35,
    "start_time": "2024-09-25T12:46:12.102Z"
   },
   {
    "duration": 14,
    "start_time": "2024-09-25T12:46:12.139Z"
   },
   {
    "duration": 19,
    "start_time": "2024-09-25T12:46:12.154Z"
   },
   {
    "duration": 15,
    "start_time": "2024-09-25T12:46:12.175Z"
   },
   {
    "duration": 5,
    "start_time": "2024-09-25T12:46:12.191Z"
   },
   {
    "duration": 205,
    "start_time": "2024-09-25T12:46:12.225Z"
   },
   {
    "duration": 183,
    "start_time": "2024-09-25T12:46:12.431Z"
   },
   {
    "duration": 3,
    "start_time": "2024-09-25T12:46:12.616Z"
   },
   {
    "duration": 22,
    "start_time": "2024-09-25T12:46:12.625Z"
   },
   {
    "duration": 100,
    "start_time": "2024-09-25T12:46:12.649Z"
   },
   {
    "duration": 185,
    "start_time": "2024-09-25T12:46:12.750Z"
   },
   {
    "duration": 190,
    "start_time": "2024-09-25T12:46:12.937Z"
   },
   {
    "duration": 15,
    "start_time": "2024-09-25T12:46:13.128Z"
   },
   {
    "duration": 40,
    "start_time": "2024-09-25T12:46:13.145Z"
   },
   {
    "duration": 14,
    "start_time": "2024-09-25T12:46:13.187Z"
   },
   {
    "duration": 29,
    "start_time": "2024-09-25T12:46:13.202Z"
   },
   {
    "duration": 5,
    "start_time": "2024-09-25T12:46:13.232Z"
   },
   {
    "duration": 4,
    "start_time": "2024-09-25T12:46:13.239Z"
   },
   {
    "duration": 6,
    "start_time": "2024-09-25T12:46:13.244Z"
   },
   {
    "duration": 3,
    "start_time": "2024-09-25T12:46:13.252Z"
   },
   {
    "duration": 6,
    "start_time": "2024-09-25T12:46:13.257Z"
   },
   {
    "duration": 3,
    "start_time": "2024-09-25T12:46:13.265Z"
   },
   {
    "duration": 5,
    "start_time": "2024-09-25T12:46:13.270Z"
   },
   {
    "duration": 11,
    "start_time": "2024-09-25T12:46:13.326Z"
   },
   {
    "duration": 13,
    "start_time": "2024-09-25T12:46:13.339Z"
   },
   {
    "duration": 6,
    "start_time": "2024-09-25T12:46:13.354Z"
   },
   {
    "duration": 4,
    "start_time": "2024-09-25T12:46:13.362Z"
   },
   {
    "duration": 1765,
    "start_time": "2024-09-25T12:46:13.367Z"
   },
   {
    "duration": 6,
    "start_time": "2024-09-25T12:46:15.134Z"
   },
   {
    "duration": 17,
    "start_time": "2024-09-25T12:46:15.142Z"
   },
   {
    "duration": 377,
    "start_time": "2024-09-25T12:46:15.161Z"
   }
  ],
  "kernelspec": {
   "display_name": "Python 3 (ipykernel)",
   "language": "python",
   "name": "python3"
  },
  "language_info": {
   "codemirror_mode": {
    "name": "ipython",
    "version": 3
   },
   "file_extension": ".py",
   "mimetype": "text/x-python",
   "name": "python",
   "nbconvert_exporter": "python",
   "pygments_lexer": "ipython3",
   "version": "3.9.5"
  },
  "toc": {
   "base_numbering": 1,
   "nav_menu": {},
   "number_sections": true,
   "sideBar": true,
   "skip_h1_title": true,
   "title_cell": "Table of Contents",
   "title_sidebar": "Contents",
   "toc_cell": false,
   "toc_position": {},
   "toc_section_display": true,
   "toc_window_display": false
  }
 },
 "nbformat": 4,
 "nbformat_minor": 5
}
