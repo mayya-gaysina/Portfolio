{
 "cells": [
  {
   "cell_type": "markdown",
   "metadata": {},
   "source": [
    "# Проект \"Определение стоимости автомобилей\""
   ]
  },
  {
   "cell_type": "markdown",
   "metadata": {},
   "source": [
    "Сервис по продаже автомобилей с пробегом «Не бит, не крашен» разрабатывает приложение для привлечения новых клиентов. В нём можно быстро узнать рыночную стоимость своего автомобиля. В нашем распоряжении исторические данные: технические характеристики, комплектации и цены автомобилей. Требуется  построить модель для определения стоимости. \n",
    "\n",
    "Заказчику важны:\n",
    "\n",
    "- качество предсказания;\n",
    "- скорость предсказания;\n",
    "- время обучения.\n",
    "\n",
    "Основные шаги:\n",
    " - Изучим данные, заполним пропущенные значения и обработаем аномалии в столбцах. Если среди признаков имеются неинформативные - удалим их.\n",
    " - Подготовим выборки для обучения моделей.\n",
    " - Обучим разные модели, одна из которых — LightGBM, как минимум одна — не бустинг. Для каждой модели попробуем разные гиперпараметры.\n",
    " - Проанализируем время обучения, время предсказания и качество моделей.\n",
    " - Опираясь на критерии заказчика, выберем лучшую модель, проверим её качество на тестовой выборке.\n",
    "\n",
    "Для оценки качества моделей применим метрику RMSE.\n",
    "Значение метрики RMSE должно быть меньше 2500.\n",
    "Средствами библиотеки LightGBM построим модели градиентного бустинга.\n",
    "\n",
    "Описание данных (данные находятся в файле autos.csv). \n",
    "Признаки:\n",
    " - DateCrawled — дата скачивания анкеты из базы\n",
    " - VehicleType — тип автомобильного кузова\n",
    " - RegistrationYear — год регистрации автомобиля\n",
    " - Gearbox — тип коробки передач\n",
    " - Power — мощность (л. с.)\n",
    " - Model — модель автомобиля\n",
    " - Kilometer — пробег (км)\n",
    " - RegistrationMonth — месяц регистрации автомобиля\n",
    " - FuelType — тип топлива\n",
    " - Brand — марка автомобиля\n",
    " - Repaired — была машина в ремонте или нет\n",
    " - DateCreated — дата создания анкеты\n",
    " - NumberOfPictures — количество фотографий автомобиля\n",
    " - PostalCode — почтовый индекс владельца анкеты (пользователя)\n",
    " - LastSeen — дата последней активности пользователя\n",
    " - Price — цена (евро) - Целевой признак."
   ]
  },
  {
   "cell_type": "markdown",
   "metadata": {},
   "source": [
    "## Подготовка данных"
   ]
  },
  {
   "cell_type": "markdown",
   "metadata": {},
   "source": [
    "### Общая информация о данных"
   ]
  },
  {
   "cell_type": "code",
   "execution_count": 1,
   "metadata": {},
   "outputs": [],
   "source": [
    "#установим некоторые доп библиотеки\n",
    "!pip install scikit-learn==1.1.3 -q\n",
    "!pip install category_encoders -q\n",
    "!pip install matplotlib==3.5.2 -q"
   ]
  },
  {
   "cell_type": "code",
   "execution_count": 2,
   "metadata": {},
   "outputs": [
    {
     "data": {
      "text/html": [
       "<style>.container { width:90% !important; }</style>"
      ],
      "text/plain": [
       "<IPython.core.display.HTML object>"
      ]
     },
     "metadata": {},
     "output_type": "display_data"
    }
   ],
   "source": [
    "#импортируем необходимые библиотеки,отключим предупреждения (в конце), \n",
    "#зададим формат вывода знаков после запятой\n",
    "\n",
    "import pandas as pd\n",
    "import numpy as np\n",
    "import matplotlib.pyplot as plt\n",
    "import sklearn\n",
    "import category_encoders as ce\n",
    "import lightgbm as lgb\n",
    "from time import time\n",
    "from scipy import stats as st\n",
    "from sklearn.model_selection import train_test_split,RandomizedSearchCV,cross_val_score\n",
    "from sklearn.preprocessing import OneHotEncoder\n",
    "\n",
    "# загружаем классы для подготовки данных\n",
    "from sklearn.preprocessing import  StandardScaler\n",
    "\n",
    "\n",
    "# загружаем функцию для работы с метриками\n",
    "from sklearn.metrics import mean_squared_error\n",
    "\n",
    "# загружаем нужные модели\n",
    "from sklearn.linear_model import LinearRegression,Ridge, Lasso\n",
    "from sklearn.tree import DecisionTreeRegressor\n",
    "from sklearn.ensemble import RandomForestRegressor\n",
    "from lightgbm import LGBMRegressor\n",
    "\n",
    "import warnings\n",
    "warnings.filterwarnings('ignore')\n",
    "pd.options.display.float_format = '{:,.2f}'.format\n",
    "\n",
    "from IPython.core.display import display, HTML\n",
    "display(HTML(\"<style>.container { width:90% !important; }</style>\"))"
   ]
  },
  {
   "cell_type": "markdown",
   "metadata": {},
   "source": [
    "Загрузим данные, выведем любые 10 строк для наглядной оценки данных, оценим общую информацию о данных"
   ]
  },
  {
   "cell_type": "code",
   "execution_count": 3,
   "metadata": {},
   "outputs": [
    {
     "data": {
      "text/html": [
       "<div>\n",
       "<style scoped>\n",
       "    .dataframe tbody tr th:only-of-type {\n",
       "        vertical-align: middle;\n",
       "    }\n",
       "\n",
       "    .dataframe tbody tr th {\n",
       "        vertical-align: top;\n",
       "    }\n",
       "\n",
       "    .dataframe thead th {\n",
       "        text-align: right;\n",
       "    }\n",
       "</style>\n",
       "<table border=\"1\" class=\"dataframe\">\n",
       "  <thead>\n",
       "    <tr style=\"text-align: right;\">\n",
       "      <th></th>\n",
       "      <th>DateCrawled</th>\n",
       "      <th>Price</th>\n",
       "      <th>VehicleType</th>\n",
       "      <th>RegistrationYear</th>\n",
       "      <th>Gearbox</th>\n",
       "      <th>Power</th>\n",
       "      <th>Model</th>\n",
       "      <th>Kilometer</th>\n",
       "      <th>RegistrationMonth</th>\n",
       "      <th>FuelType</th>\n",
       "      <th>Brand</th>\n",
       "      <th>Repaired</th>\n",
       "      <th>DateCreated</th>\n",
       "      <th>NumberOfPictures</th>\n",
       "      <th>PostalCode</th>\n",
       "      <th>LastSeen</th>\n",
       "    </tr>\n",
       "  </thead>\n",
       "  <tbody>\n",
       "    <tr>\n",
       "      <th>89998</th>\n",
       "      <td>2016-03-13 22:37:20</td>\n",
       "      <td>5599</td>\n",
       "      <td>wagon</td>\n",
       "      <td>2005</td>\n",
       "      <td>manual</td>\n",
       "      <td>140</td>\n",
       "      <td>passat</td>\n",
       "      <td>150000</td>\n",
       "      <td>12</td>\n",
       "      <td>gasoline</td>\n",
       "      <td>volkswagen</td>\n",
       "      <td>no</td>\n",
       "      <td>2016-03-13 00:00:00</td>\n",
       "      <td>0</td>\n",
       "      <td>29525</td>\n",
       "      <td>2016-04-06 19:18:01</td>\n",
       "    </tr>\n",
       "    <tr>\n",
       "      <th>211801</th>\n",
       "      <td>2016-04-02 19:55:16</td>\n",
       "      <td>1222</td>\n",
       "      <td>bus</td>\n",
       "      <td>2002</td>\n",
       "      <td>auto</td>\n",
       "      <td>116</td>\n",
       "      <td>alhambra</td>\n",
       "      <td>150000</td>\n",
       "      <td>11</td>\n",
       "      <td>gasoline</td>\n",
       "      <td>seat</td>\n",
       "      <td>no</td>\n",
       "      <td>2016-04-02 00:00:00</td>\n",
       "      <td>0</td>\n",
       "      <td>64625</td>\n",
       "      <td>2016-04-02 19:55:16</td>\n",
       "    </tr>\n",
       "    <tr>\n",
       "      <th>62893</th>\n",
       "      <td>2016-03-08 11:49:24</td>\n",
       "      <td>990</td>\n",
       "      <td>suv</td>\n",
       "      <td>1998</td>\n",
       "      <td>manual</td>\n",
       "      <td>124</td>\n",
       "      <td>NaN</td>\n",
       "      <td>20000</td>\n",
       "      <td>1</td>\n",
       "      <td>NaN</td>\n",
       "      <td>ford</td>\n",
       "      <td>no</td>\n",
       "      <td>2016-03-08 00:00:00</td>\n",
       "      <td>0</td>\n",
       "      <td>28876</td>\n",
       "      <td>2016-03-12 18:16:30</td>\n",
       "    </tr>\n",
       "    <tr>\n",
       "      <th>23476</th>\n",
       "      <td>2016-03-14 16:55:43</td>\n",
       "      <td>12500</td>\n",
       "      <td>wagon</td>\n",
       "      <td>2007</td>\n",
       "      <td>manual</td>\n",
       "      <td>197</td>\n",
       "      <td>5er</td>\n",
       "      <td>150000</td>\n",
       "      <td>7</td>\n",
       "      <td>gasoline</td>\n",
       "      <td>bmw</td>\n",
       "      <td>no</td>\n",
       "      <td>2016-03-14 00:00:00</td>\n",
       "      <td>0</td>\n",
       "      <td>54664</td>\n",
       "      <td>2016-04-05 23:16:25</td>\n",
       "    </tr>\n",
       "    <tr>\n",
       "      <th>63929</th>\n",
       "      <td>2016-03-31 15:52:39</td>\n",
       "      <td>4500</td>\n",
       "      <td>suv</td>\n",
       "      <td>1999</td>\n",
       "      <td>auto</td>\n",
       "      <td>220</td>\n",
       "      <td>grand</td>\n",
       "      <td>150000</td>\n",
       "      <td>7</td>\n",
       "      <td>lpg</td>\n",
       "      <td>jeep</td>\n",
       "      <td>yes</td>\n",
       "      <td>2016-03-31 00:00:00</td>\n",
       "      <td>0</td>\n",
       "      <td>26670</td>\n",
       "      <td>2016-03-31 15:52:39</td>\n",
       "    </tr>\n",
       "    <tr>\n",
       "      <th>164967</th>\n",
       "      <td>2016-04-03 18:42:53</td>\n",
       "      <td>550</td>\n",
       "      <td>small</td>\n",
       "      <td>2001</td>\n",
       "      <td>NaN</td>\n",
       "      <td>60</td>\n",
       "      <td>NaN</td>\n",
       "      <td>150000</td>\n",
       "      <td>12</td>\n",
       "      <td>petrol</td>\n",
       "      <td>peugeot</td>\n",
       "      <td>no</td>\n",
       "      <td>2016-04-03 00:00:00</td>\n",
       "      <td>0</td>\n",
       "      <td>66399</td>\n",
       "      <td>2016-04-05 18:46:33</td>\n",
       "    </tr>\n",
       "    <tr>\n",
       "      <th>329985</th>\n",
       "      <td>2016-03-18 05:36:25</td>\n",
       "      <td>250</td>\n",
       "      <td>NaN</td>\n",
       "      <td>2005</td>\n",
       "      <td>NaN</td>\n",
       "      <td>0</td>\n",
       "      <td>NaN</td>\n",
       "      <td>150000</td>\n",
       "      <td>0</td>\n",
       "      <td>petrol</td>\n",
       "      <td>volkswagen</td>\n",
       "      <td>NaN</td>\n",
       "      <td>2016-03-18 00:00:00</td>\n",
       "      <td>0</td>\n",
       "      <td>96132</td>\n",
       "      <td>2016-04-05 21:46:35</td>\n",
       "    </tr>\n",
       "    <tr>\n",
       "      <th>73560</th>\n",
       "      <td>2016-03-10 23:06:23</td>\n",
       "      <td>7500</td>\n",
       "      <td>convertible</td>\n",
       "      <td>2008</td>\n",
       "      <td>manual</td>\n",
       "      <td>125</td>\n",
       "      <td>tigra</td>\n",
       "      <td>90000</td>\n",
       "      <td>4</td>\n",
       "      <td>petrol</td>\n",
       "      <td>opel</td>\n",
       "      <td>no</td>\n",
       "      <td>2016-03-10 00:00:00</td>\n",
       "      <td>0</td>\n",
       "      <td>56294</td>\n",
       "      <td>2016-03-17 22:17:19</td>\n",
       "    </tr>\n",
       "    <tr>\n",
       "      <th>117276</th>\n",
       "      <td>2016-03-15 13:25:24</td>\n",
       "      <td>5800</td>\n",
       "      <td>sedan</td>\n",
       "      <td>2002</td>\n",
       "      <td>manual</td>\n",
       "      <td>231</td>\n",
       "      <td>3er</td>\n",
       "      <td>150000</td>\n",
       "      <td>5</td>\n",
       "      <td>petrol</td>\n",
       "      <td>bmw</td>\n",
       "      <td>no</td>\n",
       "      <td>2016-03-15 00:00:00</td>\n",
       "      <td>0</td>\n",
       "      <td>35578</td>\n",
       "      <td>2016-04-05 19:16:52</td>\n",
       "    </tr>\n",
       "    <tr>\n",
       "      <th>195530</th>\n",
       "      <td>2016-04-04 17:54:19</td>\n",
       "      <td>750</td>\n",
       "      <td>sedan</td>\n",
       "      <td>1993</td>\n",
       "      <td>manual</td>\n",
       "      <td>0</td>\n",
       "      <td>c_klasse</td>\n",
       "      <td>150000</td>\n",
       "      <td>0</td>\n",
       "      <td>NaN</td>\n",
       "      <td>mercedes_benz</td>\n",
       "      <td>yes</td>\n",
       "      <td>2016-04-04 00:00:00</td>\n",
       "      <td>0</td>\n",
       "      <td>81929</td>\n",
       "      <td>2016-04-06 19:48:28</td>\n",
       "    </tr>\n",
       "  </tbody>\n",
       "</table>\n",
       "</div>"
      ],
      "text/plain": [
       "                DateCrawled  Price  VehicleType  RegistrationYear Gearbox  \\\n",
       "89998   2016-03-13 22:37:20   5599        wagon              2005  manual   \n",
       "211801  2016-04-02 19:55:16   1222          bus              2002    auto   \n",
       "62893   2016-03-08 11:49:24    990          suv              1998  manual   \n",
       "23476   2016-03-14 16:55:43  12500        wagon              2007  manual   \n",
       "63929   2016-03-31 15:52:39   4500          suv              1999    auto   \n",
       "164967  2016-04-03 18:42:53    550        small              2001     NaN   \n",
       "329985  2016-03-18 05:36:25    250          NaN              2005     NaN   \n",
       "73560   2016-03-10 23:06:23   7500  convertible              2008  manual   \n",
       "117276  2016-03-15 13:25:24   5800        sedan              2002  manual   \n",
       "195530  2016-04-04 17:54:19    750        sedan              1993  manual   \n",
       "\n",
       "        Power     Model  Kilometer  RegistrationMonth  FuelType  \\\n",
       "89998     140    passat     150000                 12  gasoline   \n",
       "211801    116  alhambra     150000                 11  gasoline   \n",
       "62893     124       NaN      20000                  1       NaN   \n",
       "23476     197       5er     150000                  7  gasoline   \n",
       "63929     220     grand     150000                  7       lpg   \n",
       "164967     60       NaN     150000                 12    petrol   \n",
       "329985      0       NaN     150000                  0    petrol   \n",
       "73560     125     tigra      90000                  4    petrol   \n",
       "117276    231       3er     150000                  5    petrol   \n",
       "195530      0  c_klasse     150000                  0       NaN   \n",
       "\n",
       "                Brand Repaired          DateCreated  NumberOfPictures  \\\n",
       "89998      volkswagen       no  2016-03-13 00:00:00                 0   \n",
       "211801           seat       no  2016-04-02 00:00:00                 0   \n",
       "62893            ford       no  2016-03-08 00:00:00                 0   \n",
       "23476             bmw       no  2016-03-14 00:00:00                 0   \n",
       "63929            jeep      yes  2016-03-31 00:00:00                 0   \n",
       "164967        peugeot       no  2016-04-03 00:00:00                 0   \n",
       "329985     volkswagen      NaN  2016-03-18 00:00:00                 0   \n",
       "73560            opel       no  2016-03-10 00:00:00                 0   \n",
       "117276            bmw       no  2016-03-15 00:00:00                 0   \n",
       "195530  mercedes_benz      yes  2016-04-04 00:00:00                 0   \n",
       "\n",
       "        PostalCode             LastSeen  \n",
       "89998        29525  2016-04-06 19:18:01  \n",
       "211801       64625  2016-04-02 19:55:16  \n",
       "62893        28876  2016-03-12 18:16:30  \n",
       "23476        54664  2016-04-05 23:16:25  \n",
       "63929        26670  2016-03-31 15:52:39  \n",
       "164967       66399  2016-04-05 18:46:33  \n",
       "329985       96132  2016-04-05 21:46:35  \n",
       "73560        56294  2016-03-17 22:17:19  \n",
       "117276       35578  2016-04-05 19:16:52  \n",
       "195530       81929  2016-04-06 19:48:28  "
      ]
     },
     "execution_count": 3,
     "metadata": {},
     "output_type": "execute_result"
    }
   ],
   "source": [
    "#загрузим данные из файла \n",
    "try:\n",
    "    autos = pd.read_csv('/datasets/autos.csv', sep=',')\n",
    "except:    \n",
    "    autos = pd.read_csv('https://code.s3.yandex.net/datasets/autos.csv', sep=',')\n",
    "#выведем любые 10 строк\n",
    "autos.sample(10)"
   ]
  },
  {
   "cell_type": "markdown",
   "metadata": {},
   "source": [
    "Строковые признаки написаны со строчных букв, кол-во фотографий везде указано как 0(проверим всегда ли такое значение),дата скачивания и дата создания совпадают.\n",
    "\n",
    "Выведем общую информацию о данных"
   ]
  },
  {
   "cell_type": "code",
   "execution_count": 4,
   "metadata": {},
   "outputs": [
    {
     "name": "stdout",
     "output_type": "stream",
     "text": [
      "<class 'pandas.core.frame.DataFrame'>\n",
      "RangeIndex: 354369 entries, 0 to 354368\n",
      "Data columns (total 16 columns):\n",
      " #   Column             Non-Null Count   Dtype \n",
      "---  ------             --------------   ----- \n",
      " 0   DateCrawled        354369 non-null  object\n",
      " 1   Price              354369 non-null  int64 \n",
      " 2   VehicleType        316879 non-null  object\n",
      " 3   RegistrationYear   354369 non-null  int64 \n",
      " 4   Gearbox            334536 non-null  object\n",
      " 5   Power              354369 non-null  int64 \n",
      " 6   Model              334664 non-null  object\n",
      " 7   Kilometer          354369 non-null  int64 \n",
      " 8   RegistrationMonth  354369 non-null  int64 \n",
      " 9   FuelType           321474 non-null  object\n",
      " 10  Brand              354369 non-null  object\n",
      " 11  Repaired           283215 non-null  object\n",
      " 12  DateCreated        354369 non-null  object\n",
      " 13  NumberOfPictures   354369 non-null  int64 \n",
      " 14  PostalCode         354369 non-null  int64 \n",
      " 15  LastSeen           354369 non-null  object\n",
      "dtypes: int64(7), object(9)\n",
      "memory usage: 43.3+ MB\n"
     ]
    }
   ],
   "source": [
    "autos.info()"
   ]
  },
  {
   "cell_type": "markdown",
   "metadata": {},
   "source": [
    "Данные представлены 16 столбцами, как и заявлено. Тип данных представлен как строковыми, так и целочисленными данными(оценим корректность типа данных после удаления неинформативных столбцов, при этом бросается в глаза некорректный тип данных в столбцах, которые содержат даты - строковые). В ряде столбцов присутствуют пропуски.\n",
    "\n",
    "Найдем кол-во явных дубликатов,оценим статистику по количественным признакам"
   ]
  },
  {
   "cell_type": "code",
   "execution_count": 5,
   "metadata": {},
   "outputs": [
    {
     "data": {
      "text/plain": [
       "'Кол-во полных дубликатов:4'"
      ]
     },
     "execution_count": 5,
     "metadata": {},
     "output_type": "execute_result"
    }
   ],
   "source": [
    "f'Кол-во полных дубликатов:{autos.duplicated().sum()}'"
   ]
  },
  {
   "cell_type": "code",
   "execution_count": 6,
   "metadata": {},
   "outputs": [
    {
     "data": {
      "text/html": [
       "<div>\n",
       "<style scoped>\n",
       "    .dataframe tbody tr th:only-of-type {\n",
       "        vertical-align: middle;\n",
       "    }\n",
       "\n",
       "    .dataframe tbody tr th {\n",
       "        vertical-align: top;\n",
       "    }\n",
       "\n",
       "    .dataframe thead th {\n",
       "        text-align: right;\n",
       "    }\n",
       "</style>\n",
       "<table border=\"1\" class=\"dataframe\">\n",
       "  <thead>\n",
       "    <tr style=\"text-align: right;\">\n",
       "      <th></th>\n",
       "      <th>count</th>\n",
       "      <th>mean</th>\n",
       "      <th>std</th>\n",
       "      <th>min</th>\n",
       "      <th>25%</th>\n",
       "      <th>50%</th>\n",
       "      <th>75%</th>\n",
       "      <th>max</th>\n",
       "    </tr>\n",
       "  </thead>\n",
       "  <tbody>\n",
       "    <tr>\n",
       "      <th>Price</th>\n",
       "      <td>354,369.00</td>\n",
       "      <td>4,416.66</td>\n",
       "      <td>4,514.16</td>\n",
       "      <td>0.00</td>\n",
       "      <td>1,050.00</td>\n",
       "      <td>2,700.00</td>\n",
       "      <td>6,400.00</td>\n",
       "      <td>20,000.00</td>\n",
       "    </tr>\n",
       "    <tr>\n",
       "      <th>RegistrationYear</th>\n",
       "      <td>354,369.00</td>\n",
       "      <td>2,004.23</td>\n",
       "      <td>90.23</td>\n",
       "      <td>1,000.00</td>\n",
       "      <td>1,999.00</td>\n",
       "      <td>2,003.00</td>\n",
       "      <td>2,008.00</td>\n",
       "      <td>9,999.00</td>\n",
       "    </tr>\n",
       "    <tr>\n",
       "      <th>Power</th>\n",
       "      <td>354,369.00</td>\n",
       "      <td>110.09</td>\n",
       "      <td>189.85</td>\n",
       "      <td>0.00</td>\n",
       "      <td>69.00</td>\n",
       "      <td>105.00</td>\n",
       "      <td>143.00</td>\n",
       "      <td>20,000.00</td>\n",
       "    </tr>\n",
       "    <tr>\n",
       "      <th>Kilometer</th>\n",
       "      <td>354,369.00</td>\n",
       "      <td>128,211.17</td>\n",
       "      <td>37,905.34</td>\n",
       "      <td>5,000.00</td>\n",
       "      <td>125,000.00</td>\n",
       "      <td>150,000.00</td>\n",
       "      <td>150,000.00</td>\n",
       "      <td>150,000.00</td>\n",
       "    </tr>\n",
       "    <tr>\n",
       "      <th>RegistrationMonth</th>\n",
       "      <td>354,369.00</td>\n",
       "      <td>5.71</td>\n",
       "      <td>3.73</td>\n",
       "      <td>0.00</td>\n",
       "      <td>3.00</td>\n",
       "      <td>6.00</td>\n",
       "      <td>9.00</td>\n",
       "      <td>12.00</td>\n",
       "    </tr>\n",
       "    <tr>\n",
       "      <th>NumberOfPictures</th>\n",
       "      <td>354,369.00</td>\n",
       "      <td>0.00</td>\n",
       "      <td>0.00</td>\n",
       "      <td>0.00</td>\n",
       "      <td>0.00</td>\n",
       "      <td>0.00</td>\n",
       "      <td>0.00</td>\n",
       "      <td>0.00</td>\n",
       "    </tr>\n",
       "    <tr>\n",
       "      <th>PostalCode</th>\n",
       "      <td>354,369.00</td>\n",
       "      <td>50,508.69</td>\n",
       "      <td>25,783.10</td>\n",
       "      <td>1,067.00</td>\n",
       "      <td>30,165.00</td>\n",
       "      <td>49,413.00</td>\n",
       "      <td>71,083.00</td>\n",
       "      <td>99,998.00</td>\n",
       "    </tr>\n",
       "  </tbody>\n",
       "</table>\n",
       "</div>"
      ],
      "text/plain": [
       "                       count       mean       std      min        25%  \\\n",
       "Price             354,369.00   4,416.66  4,514.16     0.00   1,050.00   \n",
       "RegistrationYear  354,369.00   2,004.23     90.23 1,000.00   1,999.00   \n",
       "Power             354,369.00     110.09    189.85     0.00      69.00   \n",
       "Kilometer         354,369.00 128,211.17 37,905.34 5,000.00 125,000.00   \n",
       "RegistrationMonth 354,369.00       5.71      3.73     0.00       3.00   \n",
       "NumberOfPictures  354,369.00       0.00      0.00     0.00       0.00   \n",
       "PostalCode        354,369.00  50,508.69 25,783.10 1,067.00  30,165.00   \n",
       "\n",
       "                         50%        75%        max  \n",
       "Price               2,700.00   6,400.00  20,000.00  \n",
       "RegistrationYear    2,003.00   2,008.00   9,999.00  \n",
       "Power                 105.00     143.00  20,000.00  \n",
       "Kilometer         150,000.00 150,000.00 150,000.00  \n",
       "RegistrationMonth       6.00       9.00      12.00  \n",
       "NumberOfPictures        0.00       0.00       0.00  \n",
       "PostalCode         49,413.00  71,083.00  99,998.00  "
      ]
     },
     "execution_count": 6,
     "metadata": {},
     "output_type": "execute_result"
    }
   ],
   "source": [
    "autos.describe().T"
   ]
  },
  {
   "cell_type": "markdown",
   "metadata": {},
   "source": [
    " - Цена:значения колеблятся в интервале от 0 до 20000 евро, предложений с нулевой ценой не должно быть - требуется доп анализ,\n",
    " - Год регистрации: значения колеблятся в интервале от 1000 до 9999 - оба этих значения некорректные, год регистрации должен быть не позднее  даты создания анкет - требуется доп анализ,\n",
    " - Мощность: значение и интервале от 0 до 20000 лс, нулевого значения быть не должно,как и значения свыше максимально возможного на момент выгрузки базы  - требуется доп анализ,\n",
    " - Пробег: значения от 5000 до 150000,\n",
    " - Месяц регистрации: в интервале от 0 до 12, нулевого месяца не бывает - требуется доп анализ,\n",
    " - Кол-во фотографий: везде 0(далее не будем анализировать данный признак),\n",
    " - Почтовый индекс:в целом не является непрерывной переменной, более корректный тип - строковой, а не числовой.\n",
    " \n",
    "Проверим на неявные дубликаты в категориальных признаках(кроме столбцов с данными о датах): "
   ]
  },
  {
   "cell_type": "code",
   "execution_count": 7,
   "metadata": {},
   "outputs": [
    {
     "name": "stdout",
     "output_type": "stream",
     "text": [
      "VehicleType :  [nan 'coupe' 'suv' 'small' 'sedan' 'convertible' 'bus' 'wagon' 'other']\n",
      " \n",
      "Gearbox :  ['manual' 'auto' nan]\n",
      " \n",
      "Model :  ['golf' nan 'grand' 'fabia' '3er' '2_reihe' 'other' 'c_max' '3_reihe'\n",
      " 'passat' 'navara' 'ka' 'polo' 'twingo' 'a_klasse' 'scirocco' '5er'\n",
      " 'meriva' 'arosa' 'c4' 'civic' 'transporter' 'punto' 'e_klasse' 'clio'\n",
      " 'kadett' 'kangoo' 'corsa' 'one' 'fortwo' '1er' 'b_klasse' 'signum'\n",
      " 'astra' 'a8' 'jetta' 'fiesta' 'c_klasse' 'micra' 'vito' 'sprinter' '156'\n",
      " 'escort' 'forester' 'xc_reihe' 'scenic' 'a4' 'a1' 'insignia' 'combo'\n",
      " 'focus' 'tt' 'a6' 'jazz' 'omega' 'slk' '7er' '80' '147' '100' 'z_reihe'\n",
      " 'sportage' 'sorento' 'v40' 'ibiza' 'mustang' 'eos' 'touran' 'getz' 'a3'\n",
      " 'almera' 'megane' 'lupo' 'r19' 'zafira' 'caddy' 'mondeo' 'cordoba' 'colt'\n",
      " 'impreza' 'vectra' 'berlingo' 'tiguan' 'i_reihe' 'espace' 'sharan'\n",
      " '6_reihe' 'panda' 'up' 'seicento' 'ceed' '5_reihe' 'yeti' 'octavia' 'mii'\n",
      " 'rx_reihe' '6er' 'modus' 'fox' 'matiz' 'beetle' 'c1' 'rio' 'touareg'\n",
      " 'logan' 'spider' 'cuore' 's_max' 'a2' 'galaxy' 'c3' 'viano' 's_klasse'\n",
      " '1_reihe' 'avensis' 'roomster' 'sl' 'kaefer' 'santa' 'cooper' 'leon'\n",
      " '4_reihe' 'a5' '500' 'laguna' 'ptcruiser' 'clk' 'primera' 'x_reihe'\n",
      " 'exeo' '159' 'transit' 'juke' 'qashqai' 'carisma' 'accord' 'corolla'\n",
      " 'lanos' 'phaeton' 'verso' 'swift' 'rav' 'picanto' 'boxster' 'kalos'\n",
      " 'superb' 'stilo' 'alhambra' 'mx_reihe' 'roadster' 'ypsilon' 'cayenne'\n",
      " 'galant' 'justy' '90' 'sirion' 'crossfire' 'agila' 'duster' 'cr_reihe'\n",
      " 'v50' 'c_reihe' 'v_klasse' 'm_klasse' 'yaris' 'c5' 'aygo' 'cc' 'carnival'\n",
      " 'fusion' '911' 'bora' 'forfour' 'm_reihe' 'cl' 'tigra' '300c' 'spark'\n",
      " 'v70' 'kuga' 'x_type' 'ducato' 's_type' 'x_trail' 'toledo' 'altea'\n",
      " 'voyager' 'calibra' 'bravo' 'antara' 'tucson' 'citigo' 'jimny' 'wrangler'\n",
      " 'lybra' 'q7' 'lancer' 'captiva' 'c2' 'discovery' 'freelander' 'sandero'\n",
      " 'note' '900' 'cherokee' 'clubman' 'samara' 'defender' '601' 'cx_reihe'\n",
      " 'legacy' 'pajero' 'auris' 'niva' 's60' 'nubira' 'vivaro' 'g_klasse'\n",
      " 'lodgy' '850' 'range_rover' 'q3' 'serie_2' 'glk' 'charade' 'croma'\n",
      " 'outlander' 'doblo' 'musa' 'move' '9000' 'v60' '145' 'aveo' '200' 'b_max'\n",
      " 'range_rover_sport' 'terios' 'rangerover' 'q5' 'range_rover_evoque'\n",
      " 'materia' 'delta' 'gl' 'kalina' 'amarok' 'elefantino' 'i3' 'kappa'\n",
      " 'serie_3' 'serie_1']\n",
      " \n",
      "FuelType :  ['petrol' 'gasoline' nan 'lpg' 'other' 'hybrid' 'cng' 'electric']\n",
      " \n",
      "Brand :  ['volkswagen' 'audi' 'jeep' 'skoda' 'bmw' 'peugeot' 'ford' 'mazda'\n",
      " 'nissan' 'renault' 'mercedes_benz' 'opel' 'seat' 'citroen' 'honda' 'fiat'\n",
      " 'mini' 'smart' 'hyundai' 'sonstige_autos' 'alfa_romeo' 'subaru' 'volvo'\n",
      " 'mitsubishi' 'kia' 'suzuki' 'lancia' 'toyota' 'chevrolet' 'dacia'\n",
      " 'daihatsu' 'trabant' 'saab' 'chrysler' 'jaguar' 'daewoo' 'porsche'\n",
      " 'rover' 'land_rover' 'lada']\n",
      " \n",
      "Repaired :  [nan 'yes' 'no']\n",
      " \n"
     ]
    }
   ],
   "source": [
    "#выведем уникальные значения\n",
    "for column in autos.drop(['DateCrawled','DateCreated','LastSeen'],axis=1).select_dtypes(exclude='number'):\n",
    "    print (column, ': ',   autos.select_dtypes(exclude='number')[column].unique())\n",
    "    print(' ')"
   ]
  },
  {
   "cell_type": "markdown",
   "metadata": {},
   "source": [
    " - Во всех столбцах, кроме бренда, есть пропуски в значениях. \n",
    " - Неявные дубликаты при визуальном анализе выявлены:\n",
    "   -  в столбце с моделью: 'range_rover' и 'rangerover',\n",
    "   -  в столбце с типом топлива: 'petrol' и 'gasoline' - оба бензин,\n",
    " - Исходя из моделей,под названием бренда  'rover'  имеется ввиду 'range_rover'.\n",
    "\n",
    "Оценим долю пропусков в каждом столбце"
   ]
  },
  {
   "cell_type": "code",
   "execution_count": 8,
   "metadata": {},
   "outputs": [
    {
     "data": {
      "text/html": [
       "<style  type=\"text/css\" >\n",
       "#T_6bf38_row0_col0{\n",
       "            background-color:  #b40426;\n",
       "            color:  #f1f1f1;\n",
       "        }#T_6bf38_row1_col0{\n",
       "            background-color:  #e3d9d3;\n",
       "            color:  #000000;\n",
       "        }#T_6bf38_row2_col0{\n",
       "            background-color:  #d3dbe7;\n",
       "            color:  #000000;\n",
       "        }#T_6bf38_row3_col0{\n",
       "            background-color:  #97b8ff;\n",
       "            color:  #000000;\n",
       "        }#T_6bf38_row4_col0{\n",
       "            background-color:  #96b7ff;\n",
       "            color:  #000000;\n",
       "        }#T_6bf38_row5_col0,#T_6bf38_row6_col0,#T_6bf38_row7_col0,#T_6bf38_row8_col0,#T_6bf38_row9_col0,#T_6bf38_row10_col0,#T_6bf38_row11_col0,#T_6bf38_row12_col0,#T_6bf38_row13_col0,#T_6bf38_row14_col0,#T_6bf38_row15_col0{\n",
       "            background-color:  #3b4cc0;\n",
       "            color:  #f1f1f1;\n",
       "        }</style><table id=\"T_6bf38_\" ><thead>    <tr>        <th class=\"blank level0\" ></th>        <th class=\"col_heading level0 col0\" >доля пропусков,%</th>    </tr></thead><tbody>\n",
       "                <tr>\n",
       "                        <th id=\"T_6bf38_level0_row0\" class=\"row_heading level0 row0\" >Repaired</th>\n",
       "                        <td id=\"T_6bf38_row0_col0\" class=\"data row0 col0\" >20.080000</td>\n",
       "            </tr>\n",
       "            <tr>\n",
       "                        <th id=\"T_6bf38_level0_row1\" class=\"row_heading level0 row1\" >VehicleType</th>\n",
       "                        <td id=\"T_6bf38_row1_col0\" class=\"data row1 col0\" >10.580000</td>\n",
       "            </tr>\n",
       "            <tr>\n",
       "                        <th id=\"T_6bf38_level0_row2\" class=\"row_heading level0 row2\" >FuelType</th>\n",
       "                        <td id=\"T_6bf38_row2_col0\" class=\"data row2 col0\" >9.280000</td>\n",
       "            </tr>\n",
       "            <tr>\n",
       "                        <th id=\"T_6bf38_level0_row3\" class=\"row_heading level0 row3\" >Gearbox</th>\n",
       "                        <td id=\"T_6bf38_row3_col0\" class=\"data row3 col0\" >5.600000</td>\n",
       "            </tr>\n",
       "            <tr>\n",
       "                        <th id=\"T_6bf38_level0_row4\" class=\"row_heading level0 row4\" >Model</th>\n",
       "                        <td id=\"T_6bf38_row4_col0\" class=\"data row4 col0\" >5.560000</td>\n",
       "            </tr>\n",
       "            <tr>\n",
       "                        <th id=\"T_6bf38_level0_row5\" class=\"row_heading level0 row5\" >DateCrawled</th>\n",
       "                        <td id=\"T_6bf38_row5_col0\" class=\"data row5 col0\" >0.000000</td>\n",
       "            </tr>\n",
       "            <tr>\n",
       "                        <th id=\"T_6bf38_level0_row6\" class=\"row_heading level0 row6\" >Price</th>\n",
       "                        <td id=\"T_6bf38_row6_col0\" class=\"data row6 col0\" >0.000000</td>\n",
       "            </tr>\n",
       "            <tr>\n",
       "                        <th id=\"T_6bf38_level0_row7\" class=\"row_heading level0 row7\" >RegistrationYear</th>\n",
       "                        <td id=\"T_6bf38_row7_col0\" class=\"data row7 col0\" >0.000000</td>\n",
       "            </tr>\n",
       "            <tr>\n",
       "                        <th id=\"T_6bf38_level0_row8\" class=\"row_heading level0 row8\" >Power</th>\n",
       "                        <td id=\"T_6bf38_row8_col0\" class=\"data row8 col0\" >0.000000</td>\n",
       "            </tr>\n",
       "            <tr>\n",
       "                        <th id=\"T_6bf38_level0_row9\" class=\"row_heading level0 row9\" >Kilometer</th>\n",
       "                        <td id=\"T_6bf38_row9_col0\" class=\"data row9 col0\" >0.000000</td>\n",
       "            </tr>\n",
       "            <tr>\n",
       "                        <th id=\"T_6bf38_level0_row10\" class=\"row_heading level0 row10\" >RegistrationMonth</th>\n",
       "                        <td id=\"T_6bf38_row10_col0\" class=\"data row10 col0\" >0.000000</td>\n",
       "            </tr>\n",
       "            <tr>\n",
       "                        <th id=\"T_6bf38_level0_row11\" class=\"row_heading level0 row11\" >Brand</th>\n",
       "                        <td id=\"T_6bf38_row11_col0\" class=\"data row11 col0\" >0.000000</td>\n",
       "            </tr>\n",
       "            <tr>\n",
       "                        <th id=\"T_6bf38_level0_row12\" class=\"row_heading level0 row12\" >DateCreated</th>\n",
       "                        <td id=\"T_6bf38_row12_col0\" class=\"data row12 col0\" >0.000000</td>\n",
       "            </tr>\n",
       "            <tr>\n",
       "                        <th id=\"T_6bf38_level0_row13\" class=\"row_heading level0 row13\" >NumberOfPictures</th>\n",
       "                        <td id=\"T_6bf38_row13_col0\" class=\"data row13 col0\" >0.000000</td>\n",
       "            </tr>\n",
       "            <tr>\n",
       "                        <th id=\"T_6bf38_level0_row14\" class=\"row_heading level0 row14\" >PostalCode</th>\n",
       "                        <td id=\"T_6bf38_row14_col0\" class=\"data row14 col0\" >0.000000</td>\n",
       "            </tr>\n",
       "            <tr>\n",
       "                        <th id=\"T_6bf38_level0_row15\" class=\"row_heading level0 row15\" >LastSeen</th>\n",
       "                        <td id=\"T_6bf38_row15_col0\" class=\"data row15 col0\" >0.000000</td>\n",
       "            </tr>\n",
       "    </tbody></table>"
      ],
      "text/plain": [
       "<pandas.io.formats.style.Styler at 0x7f8d945b49d0>"
      ]
     },
     "execution_count": 8,
     "metadata": {},
     "output_type": "execute_result"
    }
   ],
   "source": [
    "#создадим таблицу с долей пропусков по столбцам, значения зададим по убыванию\n",
    "pd.DataFrame(round((autos.isna().sum()*100/len(autos)),2), columns=['доля пропусков,%'])\\\n",
    ".sort_values(by='доля пропусков,%', ascending=False).style.background_gradient('coolwarm')"
   ]
  },
  {
   "cell_type": "markdown",
   "metadata": {},
   "source": [
    "Пропуски присутствуют в 5 столбцах, причем в столбце с информацией о ремонте машины больше всего(больше 20%). В остальных 4-х столбцах кол-во пропусков также существенное"
   ]
  },
  {
   "cell_type": "markdown",
   "metadata": {},
   "source": [
    "### Предобработка данных"
   ]
  },
  {
   "cell_type": "markdown",
   "metadata": {},
   "source": [
    "Определим неинформативные столбцы и удалим их,снова проверив на дубликаты, обработаем пропуски и аномалии.\n",
    "\n",
    "Признаки, не связанные с ценообразованием и дублирующие:\n",
    " - кол-во фотографий и почтовый индекс никак не связаны с ценообразованием - удалим,\n",
    " - дата создания анкеты совпадает с датой скачивания анкеты - удалим столбец с датой скачивания,\n",
    " - нужность оставшихся столбцов с датами, месяцем регистрации оценим в процессе. \n",
    " \n",
    "Произведем замену 'range_rover' и 'rangerover', 'petrol' и 'gasoline', после чего снова проверим на полные дубликаты и удалим. "
   ]
  },
  {
   "cell_type": "code",
   "execution_count": 9,
   "metadata": {},
   "outputs": [
    {
     "data": {
      "text/plain": [
       "'Кол-во полных дубликатов:4'"
      ]
     },
     "execution_count": 9,
     "metadata": {},
     "output_type": "execute_result"
    }
   ],
   "source": [
    "#заменим 'rangerover' на 'range_rover' и снова проверим на полные дубликаты\n",
    "autos['Model'] = autos['Model'].str.replace('rangerover','range_rover')\n",
    "autos['FuelType'] = autos['FuelType'].str.replace('gasoline','petrol')\n",
    "f'Кол-во полных дубликатов:{autos.duplicated().sum()}'"
   ]
  },
  {
   "cell_type": "markdown",
   "metadata": {},
   "source": [
    "Удалим явные дубликаты,удалим неинформативные столбцы, указанные выше."
   ]
  },
  {
   "cell_type": "code",
   "execution_count": 10,
   "metadata": {},
   "outputs": [],
   "source": [
    "#удлаим явные дубликаты\n",
    "autos = autos.drop_duplicates()\n",
    "#удалим дублирующие и неинформативные столбцы\n",
    "autos = autos.drop(['DateCrawled','NumberOfPictures','PostalCode'],axis=1)"
   ]
  },
  {
   "cell_type": "markdown",
   "metadata": {},
   "source": [
    "Еще раз и теперь визуально оценим распределение количественных признаков для оценки аномалий"
   ]
  },
  {
   "cell_type": "code",
   "execution_count": 11,
   "metadata": {},
   "outputs": [],
   "source": [
    "#напишем функцию для вывода гистограммы и боксплота по каждому признаку \n",
    "def hist_box(data,column):\n",
    "    fig, ax = plt.subplots(figsize = (20, 5));\n",
    "    \n",
    "    ax = plt.subplot(1, 2, 1);\n",
    "    data.plot(kind='hist',y=column,histtype='step',bins=50,\\\n",
    "                                 linewidth=5,alpha=0.7,ax=ax);\n",
    "    plt.ylabel('Кол-во авто', fontsize=12);\n",
    "    plt.xlabel(column, fontsize=12);\n",
    "    plt.title('Гистограмма распределения');\n",
    "\n",
    "    data.boxplot(column, ax = plt.subplot(1, 2, 2));\n",
    "    plt.ylabel('Значение по признаку '+column, fontsize=12);\n",
    "    plt.title('Диаграмма размаха');\n",
    "\n",
    "    fig.suptitle('Распределение значений по признаку '+column,fontsize=14);\n",
    "    plt.subplots_adjust(wspace=1,hspace = 1);\n",
    "    plt.show();"
   ]
  },
  {
   "cell_type": "code",
   "execution_count": 12,
   "metadata": {},
   "outputs": [
    {
     "data": {
      "text/plain": [
       "<Figure size 432x288 with 0 Axes>"
      ]
     },
     "metadata": {},
     "output_type": "display_data"
    },
    {
     "data": {
      "image/png": "[encoded data removed]",
      "text/plain": [
       "<Figure size 1440x360 with 2 Axes>"
      ]
     },
     "metadata": {
      "needs_background": "light"
     },
     "output_type": "display_data"
    },
    {
     "data": {
      "text/plain": [
       "<Figure size 432x288 with 0 Axes>"
      ]
     },
     "metadata": {},
     "output_type": "display_data"
    },
    {
     "data": {
      "image/png": "[encoded data removed]",
      "text/plain": [
       "<Figure size 1440x360 with 2 Axes>"
      ]
     },
     "metadata": {
      "needs_background": "light"
     },
     "output_type": "display_data"
    },
    {
     "data": {
      "text/plain": [
       "<Figure size 432x288 with 0 Axes>"
      ]
     },
     "metadata": {},
     "output_type": "display_data"
    },
    {
     "data": {
      "image/png": "[encoded data removed]",
      "text/plain": [
       "<Figure size 1440x360 with 2 Axes>"
      ]
     },
     "metadata": {
      "needs_background": "light"
     },
     "output_type": "display_data"
    },
    {
     "data": {
      "text/plain": [
       "<Figure size 432x288 with 0 Axes>"
      ]
     },
     "metadata": {},
     "output_type": "display_data"
    },
    {
     "data": {
      "image/png": "[encoded data removed]",
      "text/plain": [
       "<Figure size 1440x360 with 2 Axes>"
      ]
     },
     "metadata": {
      "needs_background": "light"
     },
     "output_type": "display_data"
    },
    {
     "data": {
      "text/plain": [
       "<Figure size 432x288 with 0 Axes>"
      ]
     },
     "metadata": {},
     "output_type": "display_data"
    },
    {
     "data": {
      "image/png": "[encoded data removed]",
      "text/plain": [
       "<Figure size 1440x360 with 2 Axes>"
      ]
     },
     "metadata": {
      "needs_background": "light"
     },
     "output_type": "display_data"
    }
   ],
   "source": [
    "#выведем  диаграммы распределения для каждого числового признака\n",
    "for i in  autos.select_dtypes(include='number').columns.tolist():\n",
    "    plt.subplots_adjust(hspace = 1.5);\n",
    "    hist_box(autos, i);"
   ]
  },
  {
   "cell_type": "markdown",
   "metadata": {},
   "source": [
    " - Цена:цена в размере 0 евро некорректна (возможно продавец либо забыл указать цену, либо цена договорная), в любом случае это приведет к неверной работе модели, также есть значения, близкие к 0(возможно владельцы указали цену в тыс евро - проверить не представляется возможным), поэтому такие значение тоже стоит исключить - проведем оценку до 5%-ному и 95%-ному квантилям\n",
    " - Год регистрации: первые машиины появились в конце 19 века (все ранее этого и позднее 2023/либо даты создания анкеты - аномалии),машины конца 19 века - первой половины 20 века являются скорее раритетом, а это уже выбросы, т.к. ценообразование по ним работает совершенно по-другому, поэтому все значения менее хотя бы 1960 года стоит исключить -перед исключем проверим, насколько много таких авто. Исключением по верхней планке будет являться либо 2023 либо год размещения объявления, т.к. год регистрации позднее этой даты не может быть.Удалим все свыше верхней планки и снова оценим распределение\n",
    " - Мощность: на текущий день (немного забегая вперед, мы выявили, что это 2016 год) самая высокая мощность у автомобиля составляет 1500 лс, а никак не 2500 и выше (при заполнении продавцом видимо была допущена ошибка),топ самых мощных авто начинается от 600 лс. Авто с мощностью свыше 600 являются премиальными, вероятность их продажи через базу минимальна, скорее всего при заполнении данных закралась ошибка.Нулевой мощности тоже не бывает. Т.о., по авто с мощностью свыше 600 и 0 заменим на медианное значение мощности авто аналогичной модели.\n",
    " - Пробег:отклоняющихся значений не выявлено.\n",
    " - Месяц регистрации: значение скорее имеет год регистрации, данные по месяцу регистрации распределены нормально, в нашей выборке кол-во автомобилей по месяцам в целом распределено равномерно - считаю необходимым исключить данный признак из дальнейшего анализа, т.к. он не информативен для модели.\n",
    " \n",
    " \n",
    "Удалим столбец с месяцем регистрации.Проведем анализ цен по 5%-ному и 95%-ному квантилям"
   ]
  },
  {
   "cell_type": "code",
   "execution_count": 13,
   "metadata": {},
   "outputs": [
    {
     "data": {
      "text/plain": [
       "0.05      200.00\n",
       "0.95   14,600.00\n",
       "Name: Price, dtype: float64"
      ]
     },
     "execution_count": 13,
     "metadata": {},
     "output_type": "execute_result"
    }
   ],
   "source": [
    "autos = autos.drop(['RegistrationMonth'],axis=1)\n",
    "autos['Price'].quantile([.05, 0.95])"
   ]
  },
  {
   "cell_type": "markdown",
   "metadata": {},
   "source": [
    "Удалим все значения цены, ниже 200 евро.На боксплоте выше видим, что как раз примерно на 95%-ном квантиле остальное оценивается как выбросы: поскольку признак цены является целевым, после всей проведенной предобратоки вернемся к ее распределению и решим какие значения оставим.\n",
    "\n",
    "Год регистрации: удалим нереалистичные года и оценим распределение даных по годам "
   ]
  },
  {
   "cell_type": "code",
   "execution_count": 14,
   "metadata": {},
   "outputs": [
    {
     "data": {
      "text/plain": [
       "2016"
      ]
     },
     "execution_count": 14,
     "metadata": {},
     "output_type": "execute_result"
    }
   ],
   "source": [
    "#удалим данные по цене ниже 200 евро\n",
    "autos = autos.query('Price>200')\n",
    "#переведем формат данных с датами из числового в формат даты\n",
    "autos[['DateCreated','LastSeen']] = autos[['DateCreated','LastSeen']].apply(pd.to_datetime)\n",
    "#вытащим максимальный год из даты создания анкет\n",
    "year = autos['DateCreated'].dt.year.max()\n",
    "year"
   ]
  },
  {
   "cell_type": "markdown",
   "metadata": {},
   "source": [
    "Максимальный год создания анкет - 2016, соответственно никаких авто с регистрацией позднее этого года быть не должно, как и ранее 1900. Оценим распределение данных по этим годам"
   ]
  },
  {
   "cell_type": "code",
   "execution_count": 15,
   "metadata": {},
   "outputs": [
    {
     "data": {
      "image/png": "[encoded data removed]",
      "text/plain": [
       "<Figure size 1440x360 with 2 Axes>"
      ]
     },
     "metadata": {
      "needs_background": "light"
     },
     "output_type": "display_data"
    }
   ],
   "source": [
    "hist_box(autos.query('1900<RegistrationYear<=2016'),'RegistrationYear')"
   ]
  },
  {
   "cell_type": "markdown",
   "metadata": {},
   "source": [
    "Авто до 1960 года мало, это скорее выбросы(раритет), удалим такие авто."
   ]
  },
  {
   "cell_type": "code",
   "execution_count": 16,
   "metadata": {},
   "outputs": [
    {
     "data": {
      "text/plain": [
       "count   320,944.00\n",
       "mean      2,002.76\n",
       "std           6.58\n",
       "min       1,961.00\n",
       "25%       1,999.00\n",
       "50%       2,003.00\n",
       "75%       2,007.00\n",
       "max       2,016.00\n",
       "Name: RegistrationYear, dtype: float64"
      ]
     },
     "execution_count": 16,
     "metadata": {},
     "output_type": "execute_result"
    }
   ],
   "source": [
    "#сохраним только данные с авто по годам регистрации не позднее максимальной даты анкет и не ранее 1960\n",
    "autos = autos.query('1960<RegistrationYear<=@year')\n",
    "autos['RegistrationYear'].describe()"
   ]
  },
  {
   "cell_type": "markdown",
   "metadata": {},
   "source": [
    "Дата создания объявления больше не нужна, как и дата последней активности пользователя- удалим."
   ]
  },
  {
   "cell_type": "code",
   "execution_count": 17,
   "metadata": {},
   "outputs": [],
   "source": [
    "autos = autos.drop(['LastSeen','DateCreated'],axis=1)"
   ]
  },
  {
   "cell_type": "markdown",
   "metadata": {},
   "source": [
    "Оценим распределение данных по годам"
   ]
  },
  {
   "cell_type": "markdown",
   "metadata": {},
   "source": [
    "Оценим по авто с мощностью свыше 600 лс, что скорее всего является ошибкой при заполнении, заменим значение мощности на медианное значение мощности по данной модели авто. Также авто с мощностью ниже 20 лс являются либо аномалиями, либо очень редким явлением  и наличие таких значений будут искажать работу модели - удалим их"
   ]
  },
  {
   "cell_type": "code",
   "execution_count": 18,
   "metadata": {},
   "outputs": [
    {
     "data": {
      "text/plain": [
       "count   316,870.00\n",
       "mean        120.46\n",
       "std          52.82\n",
       "min          21.00\n",
       "25%          79.00\n",
       "50%         113.00\n",
       "75%         150.00\n",
       "max         600.00\n",
       "Name: Power, dtype: float64"
      ]
     },
     "execution_count": 18,
     "metadata": {},
     "output_type": "execute_result"
    }
   ],
   "source": [
    "#переведем аномалии с мощностью в пропуски и далее заполним эти пропуски медианным значение по модели\n",
    "autos.loc[(autos['Power'] > 600)|(autos['Power']==0), 'Power'] = None\n",
    "autos['Power'] = autos['Power'].fillna(autos.groupby('Model')['Power'].transform('median'))\n",
    "autos = autos.query('Power>20')\n",
    "autos['Power'].describe()"
   ]
  },
  {
   "cell_type": "markdown",
   "metadata": {},
   "source": [
    "Оценим есть ли аномалии по максимальным значениям цены"
   ]
  },
  {
   "cell_type": "code",
   "execution_count": 19,
   "metadata": {},
   "outputs": [
    {
     "data": {
      "text/html": [
       "<div>\n",
       "<style scoped>\n",
       "    .dataframe tbody tr th:only-of-type {\n",
       "        vertical-align: middle;\n",
       "    }\n",
       "\n",
       "    .dataframe tbody tr th {\n",
       "        vertical-align: top;\n",
       "    }\n",
       "\n",
       "    .dataframe thead th {\n",
       "        text-align: right;\n",
       "    }\n",
       "</style>\n",
       "<table border=\"1\" class=\"dataframe\">\n",
       "  <thead>\n",
       "    <tr style=\"text-align: right;\">\n",
       "      <th></th>\n",
       "      <th>Price</th>\n",
       "      <th>VehicleType</th>\n",
       "      <th>RegistrationYear</th>\n",
       "      <th>Gearbox</th>\n",
       "      <th>Power</th>\n",
       "      <th>Model</th>\n",
       "      <th>Kilometer</th>\n",
       "      <th>FuelType</th>\n",
       "      <th>Brand</th>\n",
       "      <th>Repaired</th>\n",
       "    </tr>\n",
       "  </thead>\n",
       "  <tbody>\n",
       "    <tr>\n",
       "      <th>342303</th>\n",
       "      <td>20000</td>\n",
       "      <td>sedan</td>\n",
       "      <td>2013</td>\n",
       "      <td>manual</td>\n",
       "      <td>194.00</td>\n",
       "      <td>insignia</td>\n",
       "      <td>60000</td>\n",
       "      <td>petrol</td>\n",
       "      <td>opel</td>\n",
       "      <td>no</td>\n",
       "    </tr>\n",
       "    <tr>\n",
       "      <th>110872</th>\n",
       "      <td>20000</td>\n",
       "      <td>suv</td>\n",
       "      <td>2010</td>\n",
       "      <td>manual</td>\n",
       "      <td>163.00</td>\n",
       "      <td>amarok</td>\n",
       "      <td>80000</td>\n",
       "      <td>petrol</td>\n",
       "      <td>volkswagen</td>\n",
       "      <td>no</td>\n",
       "    </tr>\n",
       "    <tr>\n",
       "      <th>13681</th>\n",
       "      <td>20000</td>\n",
       "      <td>suv</td>\n",
       "      <td>2009</td>\n",
       "      <td>auto</td>\n",
       "      <td>224.00</td>\n",
       "      <td>g_klasse</td>\n",
       "      <td>150000</td>\n",
       "      <td>petrol</td>\n",
       "      <td>mercedes_benz</td>\n",
       "      <td>no</td>\n",
       "    </tr>\n",
       "    <tr>\n",
       "      <th>1515</th>\n",
       "      <td>20000</td>\n",
       "      <td>sedan</td>\n",
       "      <td>2010</td>\n",
       "      <td>auto</td>\n",
       "      <td>239.00</td>\n",
       "      <td>a6</td>\n",
       "      <td>150000</td>\n",
       "      <td>petrol</td>\n",
       "      <td>audi</td>\n",
       "      <td>no</td>\n",
       "    </tr>\n",
       "    <tr>\n",
       "      <th>113554</th>\n",
       "      <td>20000</td>\n",
       "      <td>wagon</td>\n",
       "      <td>2014</td>\n",
       "      <td>manual</td>\n",
       "      <td>124.00</td>\n",
       "      <td>auris</td>\n",
       "      <td>30000</td>\n",
       "      <td>petrol</td>\n",
       "      <td>toyota</td>\n",
       "      <td>no</td>\n",
       "    </tr>\n",
       "    <tr>\n",
       "      <th>197617</th>\n",
       "      <td>20000</td>\n",
       "      <td>coupe</td>\n",
       "      <td>2010</td>\n",
       "      <td>auto</td>\n",
       "      <td>170.00</td>\n",
       "      <td>3er</td>\n",
       "      <td>90000</td>\n",
       "      <td>petrol</td>\n",
       "      <td>bmw</td>\n",
       "      <td>no</td>\n",
       "    </tr>\n",
       "    <tr>\n",
       "      <th>100694</th>\n",
       "      <td>20000</td>\n",
       "      <td>sedan</td>\n",
       "      <td>2010</td>\n",
       "      <td>auto</td>\n",
       "      <td>184.00</td>\n",
       "      <td>5er</td>\n",
       "      <td>150000</td>\n",
       "      <td>petrol</td>\n",
       "      <td>bmw</td>\n",
       "      <td>no</td>\n",
       "    </tr>\n",
       "    <tr>\n",
       "      <th>19551</th>\n",
       "      <td>20000</td>\n",
       "      <td>convertible</td>\n",
       "      <td>2013</td>\n",
       "      <td>manual</td>\n",
       "      <td>105.00</td>\n",
       "      <td>beetle</td>\n",
       "      <td>30000</td>\n",
       "      <td>petrol</td>\n",
       "      <td>volkswagen</td>\n",
       "      <td>no</td>\n",
       "    </tr>\n",
       "    <tr>\n",
       "      <th>227601</th>\n",
       "      <td>20000</td>\n",
       "      <td>convertible</td>\n",
       "      <td>1972</td>\n",
       "      <td>auto</td>\n",
       "      <td>176.00</td>\n",
       "      <td>NaN</td>\n",
       "      <td>150000</td>\n",
       "      <td>petrol</td>\n",
       "      <td>sonstige_autos</td>\n",
       "      <td>NaN</td>\n",
       "    </tr>\n",
       "    <tr>\n",
       "      <th>13360</th>\n",
       "      <td>20000</td>\n",
       "      <td>coupe</td>\n",
       "      <td>2004</td>\n",
       "      <td>manual</td>\n",
       "      <td>325.00</td>\n",
       "      <td>crossfire</td>\n",
       "      <td>125000</td>\n",
       "      <td>petrol</td>\n",
       "      <td>chrysler</td>\n",
       "      <td>no</td>\n",
       "    </tr>\n",
       "    <tr>\n",
       "      <th>302739</th>\n",
       "      <td>20000</td>\n",
       "      <td>wagon</td>\n",
       "      <td>2011</td>\n",
       "      <td>auto</td>\n",
       "      <td>170.00</td>\n",
       "      <td>passat</td>\n",
       "      <td>150000</td>\n",
       "      <td>petrol</td>\n",
       "      <td>volkswagen</td>\n",
       "      <td>no</td>\n",
       "    </tr>\n",
       "    <tr>\n",
       "      <th>122041</th>\n",
       "      <td>20000</td>\n",
       "      <td>sedan</td>\n",
       "      <td>2007</td>\n",
       "      <td>auto</td>\n",
       "      <td>207.00</td>\n",
       "      <td>other</td>\n",
       "      <td>70000</td>\n",
       "      <td>petrol</td>\n",
       "      <td>jaguar</td>\n",
       "      <td>no</td>\n",
       "    </tr>\n",
       "    <tr>\n",
       "      <th>305581</th>\n",
       "      <td>20000</td>\n",
       "      <td>convertible</td>\n",
       "      <td>1972</td>\n",
       "      <td>auto</td>\n",
       "      <td>177.00</td>\n",
       "      <td>NaN</td>\n",
       "      <td>150000</td>\n",
       "      <td>petrol</td>\n",
       "      <td>sonstige_autos</td>\n",
       "      <td>no</td>\n",
       "    </tr>\n",
       "    <tr>\n",
       "      <th>63866</th>\n",
       "      <td>20000</td>\n",
       "      <td>sedan</td>\n",
       "      <td>2015</td>\n",
       "      <td>manual</td>\n",
       "      <td>208.00</td>\n",
       "      <td>2_reihe</td>\n",
       "      <td>20000</td>\n",
       "      <td>petrol</td>\n",
       "      <td>peugeot</td>\n",
       "      <td>no</td>\n",
       "    </tr>\n",
       "    <tr>\n",
       "      <th>148452</th>\n",
       "      <td>20000</td>\n",
       "      <td>sedan</td>\n",
       "      <td>2014</td>\n",
       "      <td>NaN</td>\n",
       "      <td>275.00</td>\n",
       "      <td>a8</td>\n",
       "      <td>60000</td>\n",
       "      <td>petrol</td>\n",
       "      <td>audi</td>\n",
       "      <td>no</td>\n",
       "    </tr>\n",
       "  </tbody>\n",
       "</table>\n",
       "</div>"
      ],
      "text/plain": [
       "        Price  VehicleType  RegistrationYear Gearbox  Power      Model  \\\n",
       "342303  20000        sedan              2013  manual 194.00   insignia   \n",
       "110872  20000          suv              2010  manual 163.00     amarok   \n",
       "13681   20000          suv              2009    auto 224.00   g_klasse   \n",
       "1515    20000        sedan              2010    auto 239.00         a6   \n",
       "113554  20000        wagon              2014  manual 124.00      auris   \n",
       "197617  20000        coupe              2010    auto 170.00        3er   \n",
       "100694  20000        sedan              2010    auto 184.00        5er   \n",
       "19551   20000  convertible              2013  manual 105.00     beetle   \n",
       "227601  20000  convertible              1972    auto 176.00        NaN   \n",
       "13360   20000        coupe              2004  manual 325.00  crossfire   \n",
       "302739  20000        wagon              2011    auto 170.00     passat   \n",
       "122041  20000        sedan              2007    auto 207.00      other   \n",
       "305581  20000  convertible              1972    auto 177.00        NaN   \n",
       "63866   20000        sedan              2015  manual 208.00    2_reihe   \n",
       "148452  20000        sedan              2014     NaN 275.00         a8   \n",
       "\n",
       "        Kilometer FuelType           Brand Repaired  \n",
       "342303      60000   petrol            opel       no  \n",
       "110872      80000   petrol      volkswagen       no  \n",
       "13681      150000   petrol   mercedes_benz       no  \n",
       "1515       150000   petrol            audi       no  \n",
       "113554      30000   petrol          toyota       no  \n",
       "197617      90000   petrol             bmw       no  \n",
       "100694     150000   petrol             bmw       no  \n",
       "19551       30000   petrol      volkswagen       no  \n",
       "227601     150000   petrol  sonstige_autos      NaN  \n",
       "13360      125000   petrol        chrysler       no  \n",
       "302739     150000   petrol      volkswagen       no  \n",
       "122041      70000   petrol          jaguar       no  \n",
       "305581     150000   petrol  sonstige_autos       no  \n",
       "63866       20000   petrol         peugeot       no  \n",
       "148452      60000   petrol            audi       no  "
      ]
     },
     "execution_count": 19,
     "metadata": {},
     "output_type": "execute_result"
    }
   ],
   "source": [
    "autos.sort_values(by='Price',ascending=False).head(15)"
   ]
  },
  {
   "cell_type": "markdown",
   "metadata": {},
   "source": [
    "Как видим в топ-15 по цене входят такие бренды как audi, mercedes_benz, поэтому в целом оценить какие значения являются некорректными не представляется возможным."
   ]
  },
  {
   "cell_type": "code",
   "execution_count": 20,
   "metadata": {},
   "outputs": [
    {
     "data": {
      "text/html": [
       "<div>\n",
       "<style scoped>\n",
       "    .dataframe tbody tr th:only-of-type {\n",
       "        vertical-align: middle;\n",
       "    }\n",
       "\n",
       "    .dataframe tbody tr th {\n",
       "        vertical-align: top;\n",
       "    }\n",
       "\n",
       "    .dataframe thead th {\n",
       "        text-align: right;\n",
       "    }\n",
       "</style>\n",
       "<table border=\"1\" class=\"dataframe\">\n",
       "  <thead>\n",
       "    <tr style=\"text-align: right;\">\n",
       "      <th></th>\n",
       "      <th>Price</th>\n",
       "      <th>VehicleType</th>\n",
       "      <th>RegistrationYear</th>\n",
       "      <th>Gearbox</th>\n",
       "      <th>Power</th>\n",
       "      <th>Model</th>\n",
       "      <th>Kilometer</th>\n",
       "      <th>FuelType</th>\n",
       "      <th>Brand</th>\n",
       "      <th>Repaired</th>\n",
       "    </tr>\n",
       "  </thead>\n",
       "  <tbody>\n",
       "    <tr>\n",
       "      <th>154600</th>\n",
       "      <td>16500</td>\n",
       "      <td>sedan</td>\n",
       "      <td>2003</td>\n",
       "      <td>auto</td>\n",
       "      <td>600.00</td>\n",
       "      <td>NaN</td>\n",
       "      <td>150000</td>\n",
       "      <td>petrol</td>\n",
       "      <td>mercedes_benz</td>\n",
       "      <td>no</td>\n",
       "    </tr>\n",
       "    <tr>\n",
       "      <th>146339</th>\n",
       "      <td>12500</td>\n",
       "      <td>sedan</td>\n",
       "      <td>2002</td>\n",
       "      <td>auto</td>\n",
       "      <td>600.00</td>\n",
       "      <td>s_type</td>\n",
       "      <td>150000</td>\n",
       "      <td>NaN</td>\n",
       "      <td>jaguar</td>\n",
       "      <td>no</td>\n",
       "    </tr>\n",
       "    <tr>\n",
       "      <th>43600</th>\n",
       "      <td>12999</td>\n",
       "      <td>wagon</td>\n",
       "      <td>2004</td>\n",
       "      <td>auto</td>\n",
       "      <td>600.00</td>\n",
       "      <td>a6</td>\n",
       "      <td>150000</td>\n",
       "      <td>petrol</td>\n",
       "      <td>audi</td>\n",
       "      <td>NaN</td>\n",
       "    </tr>\n",
       "    <tr>\n",
       "      <th>186427</th>\n",
       "      <td>16500</td>\n",
       "      <td>coupe</td>\n",
       "      <td>2000</td>\n",
       "      <td>manual</td>\n",
       "      <td>600.00</td>\n",
       "      <td>other</td>\n",
       "      <td>5000</td>\n",
       "      <td>petrol</td>\n",
       "      <td>toyota</td>\n",
       "      <td>no</td>\n",
       "    </tr>\n",
       "    <tr>\n",
       "      <th>102613</th>\n",
       "      <td>19500</td>\n",
       "      <td>coupe</td>\n",
       "      <td>1974</td>\n",
       "      <td>auto</td>\n",
       "      <td>600.00</td>\n",
       "      <td>other</td>\n",
       "      <td>5000</td>\n",
       "      <td>petrol</td>\n",
       "      <td>chevrolet</td>\n",
       "      <td>no</td>\n",
       "    </tr>\n",
       "    <tr>\n",
       "      <th>13373</th>\n",
       "      <td>18500</td>\n",
       "      <td>small</td>\n",
       "      <td>2002</td>\n",
       "      <td>auto</td>\n",
       "      <td>600.00</td>\n",
       "      <td>s_type</td>\n",
       "      <td>150000</td>\n",
       "      <td>NaN</td>\n",
       "      <td>jaguar</td>\n",
       "      <td>no</td>\n",
       "    </tr>\n",
       "    <tr>\n",
       "      <th>162460</th>\n",
       "      <td>12000</td>\n",
       "      <td>sedan</td>\n",
       "      <td>2002</td>\n",
       "      <td>auto</td>\n",
       "      <td>600.00</td>\n",
       "      <td>s_type</td>\n",
       "      <td>150000</td>\n",
       "      <td>petrol</td>\n",
       "      <td>jaguar</td>\n",
       "      <td>no</td>\n",
       "    </tr>\n",
       "    <tr>\n",
       "      <th>243042</th>\n",
       "      <td>15900</td>\n",
       "      <td>sedan</td>\n",
       "      <td>2003</td>\n",
       "      <td>auto</td>\n",
       "      <td>600.00</td>\n",
       "      <td>s_klasse</td>\n",
       "      <td>150000</td>\n",
       "      <td>petrol</td>\n",
       "      <td>mercedes_benz</td>\n",
       "      <td>no</td>\n",
       "    </tr>\n",
       "    <tr>\n",
       "      <th>151744</th>\n",
       "      <td>12500</td>\n",
       "      <td>wagon</td>\n",
       "      <td>2004</td>\n",
       "      <td>auto</td>\n",
       "      <td>600.00</td>\n",
       "      <td>a6</td>\n",
       "      <td>150000</td>\n",
       "      <td>petrol</td>\n",
       "      <td>audi</td>\n",
       "      <td>NaN</td>\n",
       "    </tr>\n",
       "    <tr>\n",
       "      <th>138257</th>\n",
       "      <td>14750</td>\n",
       "      <td>sedan</td>\n",
       "      <td>2014</td>\n",
       "      <td>auto</td>\n",
       "      <td>585.00</td>\n",
       "      <td>e_klasse</td>\n",
       "      <td>150000</td>\n",
       "      <td>petrol</td>\n",
       "      <td>mercedes_benz</td>\n",
       "      <td>no</td>\n",
       "    </tr>\n",
       "    <tr>\n",
       "      <th>114478</th>\n",
       "      <td>4538</td>\n",
       "      <td>coupe</td>\n",
       "      <td>2015</td>\n",
       "      <td>auto</td>\n",
       "      <td>585.00</td>\n",
       "      <td>s_klasse</td>\n",
       "      <td>5000</td>\n",
       "      <td>petrol</td>\n",
       "      <td>mercedes_benz</td>\n",
       "      <td>NaN</td>\n",
       "    </tr>\n",
       "    <tr>\n",
       "      <th>152546</th>\n",
       "      <td>500</td>\n",
       "      <td>small</td>\n",
       "      <td>2005</td>\n",
       "      <td>manual</td>\n",
       "      <td>584.00</td>\n",
       "      <td>matiz</td>\n",
       "      <td>125000</td>\n",
       "      <td>petrol</td>\n",
       "      <td>chevrolet</td>\n",
       "      <td>NaN</td>\n",
       "    </tr>\n",
       "    <tr>\n",
       "      <th>107164</th>\n",
       "      <td>250</td>\n",
       "      <td>small</td>\n",
       "      <td>2001</td>\n",
       "      <td>manual</td>\n",
       "      <td>580.00</td>\n",
       "      <td>twingo</td>\n",
       "      <td>150000</td>\n",
       "      <td>petrol</td>\n",
       "      <td>renault</td>\n",
       "      <td>NaN</td>\n",
       "    </tr>\n",
       "    <tr>\n",
       "      <th>105658</th>\n",
       "      <td>19000</td>\n",
       "      <td>wagon</td>\n",
       "      <td>2008</td>\n",
       "      <td>auto</td>\n",
       "      <td>579.00</td>\n",
       "      <td>other</td>\n",
       "      <td>150000</td>\n",
       "      <td>petrol</td>\n",
       "      <td>audi</td>\n",
       "      <td>yes</td>\n",
       "    </tr>\n",
       "    <tr>\n",
       "      <th>320566</th>\n",
       "      <td>14750</td>\n",
       "      <td>wagon</td>\n",
       "      <td>2008</td>\n",
       "      <td>auto</td>\n",
       "      <td>579.00</td>\n",
       "      <td>other</td>\n",
       "      <td>150000</td>\n",
       "      <td>petrol</td>\n",
       "      <td>audi</td>\n",
       "      <td>yes</td>\n",
       "    </tr>\n",
       "  </tbody>\n",
       "</table>\n",
       "</div>"
      ],
      "text/plain": [
       "        Price VehicleType  RegistrationYear Gearbox  Power     Model  \\\n",
       "154600  16500       sedan              2003    auto 600.00       NaN   \n",
       "146339  12500       sedan              2002    auto 600.00    s_type   \n",
       "43600   12999       wagon              2004    auto 600.00        a6   \n",
       "186427  16500       coupe              2000  manual 600.00     other   \n",
       "102613  19500       coupe              1974    auto 600.00     other   \n",
       "13373   18500       small              2002    auto 600.00    s_type   \n",
       "162460  12000       sedan              2002    auto 600.00    s_type   \n",
       "243042  15900       sedan              2003    auto 600.00  s_klasse   \n",
       "151744  12500       wagon              2004    auto 600.00        a6   \n",
       "138257  14750       sedan              2014    auto 585.00  e_klasse   \n",
       "114478   4538       coupe              2015    auto 585.00  s_klasse   \n",
       "152546    500       small              2005  manual 584.00     matiz   \n",
       "107164    250       small              2001  manual 580.00    twingo   \n",
       "105658  19000       wagon              2008    auto 579.00     other   \n",
       "320566  14750       wagon              2008    auto 579.00     other   \n",
       "\n",
       "        Kilometer FuelType          Brand Repaired  \n",
       "154600     150000   petrol  mercedes_benz       no  \n",
       "146339     150000      NaN         jaguar       no  \n",
       "43600      150000   petrol           audi      NaN  \n",
       "186427       5000   petrol         toyota       no  \n",
       "102613       5000   petrol      chevrolet       no  \n",
       "13373      150000      NaN         jaguar       no  \n",
       "162460     150000   petrol         jaguar       no  \n",
       "243042     150000   petrol  mercedes_benz       no  \n",
       "151744     150000   petrol           audi      NaN  \n",
       "138257     150000   petrol  mercedes_benz       no  \n",
       "114478       5000   petrol  mercedes_benz      NaN  \n",
       "152546     125000   petrol      chevrolet      NaN  \n",
       "107164     150000   petrol        renault      NaN  \n",
       "105658     150000   petrol           audi      yes  \n",
       "320566     150000   petrol           audi      yes  "
      ]
     },
     "execution_count": 20,
     "metadata": {},
     "output_type": "execute_result"
    }
   ],
   "source": [
    "autos.sort_values(by='Power',ascending=False).head(15)"
   ]
  },
  {
   "cell_type": "markdown",
   "metadata": {},
   "source": [
    "Входящие в топ-15 по мощности авто вполне могут иметь таковую.\n",
    "\n",
    "Оценим распределение признаков после проведенной обработки"
   ]
  },
  {
   "cell_type": "code",
   "execution_count": 21,
   "metadata": {},
   "outputs": [
    {
     "data": {
      "text/plain": [
       "<Figure size 432x288 with 0 Axes>"
      ]
     },
     "metadata": {},
     "output_type": "display_data"
    },
    {
     "data": {
      "image/png": "[encoded data removed]",
      "text/plain": [
       "<Figure size 1440x360 with 2 Axes>"
      ]
     },
     "metadata": {
      "needs_background": "light"
     },
     "output_type": "display_data"
    },
    {
     "data": {
      "text/plain": [
       "<Figure size 432x288 with 0 Axes>"
      ]
     },
     "metadata": {},
     "output_type": "display_data"
    },
    {
     "data": {
      "image/png": "[encoded data removed]",
      "text/plain": [
       "<Figure size 1440x360 with 2 Axes>"
      ]
     },
     "metadata": {
      "needs_background": "light"
     },
     "output_type": "display_data"
    },
    {
     "data": {
      "text/plain": [
       "<Figure size 432x288 with 0 Axes>"
      ]
     },
     "metadata": {},
     "output_type": "display_data"
    },
    {
     "data": {
      "image/png": "[encoded data removed]",
      "text/plain": [
       "<Figure size 1440x360 with 2 Axes>"
      ]
     },
     "metadata": {
      "needs_background": "light"
     },
     "output_type": "display_data"
    },
    {
     "data": {
      "text/plain": [
       "<Figure size 432x288 with 0 Axes>"
      ]
     },
     "metadata": {},
     "output_type": "display_data"
    },
    {
     "data": {
      "image/png": "[encoded data removed]",
      "text/plain": [
       "<Figure size 1440x360 with 2 Axes>"
      ]
     },
     "metadata": {
      "needs_background": "light"
     },
     "output_type": "display_data"
    }
   ],
   "source": [
    "#выведем  диаграммы \n",
    "for i in  autos.select_dtypes(include='number').columns.tolist():\n",
    "    plt.subplots_adjust(hspace = 1.5);\n",
    "    hist_box(autos, i);"
   ]
  },
  {
   "cell_type": "markdown",
   "metadata": {},
   "source": [
    "- Распределение цены согласно боксплоту имеет выбросы, но они не оцениваются как аномалии - оставим в текущем виде,\n",
    "- Год регистрации: в целом значение находятся в интервале от 1987 до 2016, до этого присутствует несколько значений,\n",
    "- Мощность: значение свыше 250 лс согласно боксплота оцениваются как выбросы, но их немного и они в целом имеют место быть как мы оценили выше,\n",
    "- Пробег: значение преимущественно находятся в интервале от 90000 до 146000 км, есть некоторые значения меньше этого интервала, но они могут иметь место.\n",
    "\n",
    "Повторно проверим долю пропусков"
   ]
  },
  {
   "cell_type": "code",
   "execution_count": 22,
   "metadata": {},
   "outputs": [
    {
     "data": {
      "text/html": [
       "<style  type=\"text/css\" >\n",
       "#T_81a36_row0_col0{\n",
       "            background-color:  #b40426;\n",
       "            color:  #f1f1f1;\n",
       "        }#T_81a36_row1_col0{\n",
       "            background-color:  #b6cefa;\n",
       "            color:  #000000;\n",
       "        }#T_81a36_row2_col0{\n",
       "            background-color:  #9bbcff;\n",
       "            color:  #000000;\n",
       "        }#T_81a36_row3_col0{\n",
       "            background-color:  #84a7fc;\n",
       "            color:  #000000;\n",
       "        }#T_81a36_row4_col0{\n",
       "            background-color:  #7a9df8;\n",
       "            color:  #000000;\n",
       "        }#T_81a36_row5_col0,#T_81a36_row6_col0,#T_81a36_row7_col0,#T_81a36_row8_col0,#T_81a36_row9_col0{\n",
       "            background-color:  #3b4cc0;\n",
       "            color:  #f1f1f1;\n",
       "        }</style><table id=\"T_81a36_\" ><thead>    <tr>        <th class=\"blank level0\" ></th>        <th class=\"col_heading level0 col0\" >доля пропусков,%</th>    </tr></thead><tbody>\n",
       "                <tr>\n",
       "                        <th id=\"T_81a36_level0_row0\" class=\"row_heading level0 row0\" >Repaired</th>\n",
       "                        <td id=\"T_81a36_row0_col0\" class=\"data row0 col0\" >16.770000</td>\n",
       "            </tr>\n",
       "            <tr>\n",
       "                        <th id=\"T_81a36_level0_row1\" class=\"row_heading level0 row1\" >FuelType</th>\n",
       "                        <td id=\"T_81a36_row1_col0\" class=\"data row1 col0\" >6.220000</td>\n",
       "            </tr>\n",
       "            <tr>\n",
       "                        <th id=\"T_81a36_level0_row2\" class=\"row_heading level0 row2\" >VehicleType</th>\n",
       "                        <td id=\"T_81a36_row2_col0\" class=\"data row2 col0\" >4.910000</td>\n",
       "            </tr>\n",
       "            <tr>\n",
       "                        <th id=\"T_81a36_level0_row3\" class=\"row_heading level0 row3\" >Gearbox</th>\n",
       "                        <td id=\"T_81a36_row3_col0\" class=\"data row3 col0\" >3.770000</td>\n",
       "            </tr>\n",
       "            <tr>\n",
       "                        <th id=\"T_81a36_level0_row4\" class=\"row_heading level0 row4\" >Model</th>\n",
       "                        <td id=\"T_81a36_row4_col0\" class=\"data row4 col0\" >3.300000</td>\n",
       "            </tr>\n",
       "            <tr>\n",
       "                        <th id=\"T_81a36_level0_row5\" class=\"row_heading level0 row5\" >Price</th>\n",
       "                        <td id=\"T_81a36_row5_col0\" class=\"data row5 col0\" >0.000000</td>\n",
       "            </tr>\n",
       "            <tr>\n",
       "                        <th id=\"T_81a36_level0_row6\" class=\"row_heading level0 row6\" >RegistrationYear</th>\n",
       "                        <td id=\"T_81a36_row6_col0\" class=\"data row6 col0\" >0.000000</td>\n",
       "            </tr>\n",
       "            <tr>\n",
       "                        <th id=\"T_81a36_level0_row7\" class=\"row_heading level0 row7\" >Power</th>\n",
       "                        <td id=\"T_81a36_row7_col0\" class=\"data row7 col0\" >0.000000</td>\n",
       "            </tr>\n",
       "            <tr>\n",
       "                        <th id=\"T_81a36_level0_row8\" class=\"row_heading level0 row8\" >Kilometer</th>\n",
       "                        <td id=\"T_81a36_row8_col0\" class=\"data row8 col0\" >0.000000</td>\n",
       "            </tr>\n",
       "            <tr>\n",
       "                        <th id=\"T_81a36_level0_row9\" class=\"row_heading level0 row9\" >Brand</th>\n",
       "                        <td id=\"T_81a36_row9_col0\" class=\"data row9 col0\" >0.000000</td>\n",
       "            </tr>\n",
       "    </tbody></table>"
      ],
      "text/plain": [
       "<pandas.io.formats.style.Styler at 0x7f8d10b9a6d0>"
      ]
     },
     "execution_count": 22,
     "metadata": {},
     "output_type": "execute_result"
    }
   ],
   "source": [
    "#создадим таблицу с долей пропусков по столбцам, значения зададим по убыванию\n",
    "pd.DataFrame(round((autos.isna().sum()*100/len(autos)),2), columns=['доля пропусков,%'])\\\n",
    ".sort_values(by='доля пропусков,%', ascending=False).style.background_gradient('coolwarm')"
   ]
  },
  {
   "cell_type": "markdown",
   "metadata": {},
   "source": [
    "В связи с удалением некоторых данных  кол-во пропусков немного сократилось, стратегия по обработке оставшихся пропусков следующая:\n",
    "- модель: важнейший фактор при ценообразовании, не можем наполнить, например, наиболее частыми значениями по бренду, - удалим пропуски,\n",
    "- тип коробки передач,тип кузова,тип топлива: для каждой модели может быть несколько модификаций по данным параметрам, поэтому заполнить данные пропуски (например, наиболее частыми значениями по модели), не искажая данные, невозможно. Поэтому наполним данные пропуски значением - 'unknown'\n",
    "- было ли авто в ремонте: самое большое кол-во пропусков, также наполним - 'unknown'"
   ]
  },
  {
   "cell_type": "code",
   "execution_count": 23,
   "metadata": {},
   "outputs": [
    {
     "data": {
      "text/plain": [
       "306398"
      ]
     },
     "execution_count": 23,
     "metadata": {},
     "output_type": "execute_result"
    }
   ],
   "source": [
    "#удалим строки с пропусками в модели\n",
    "autos = autos.dropna(subset=['Model'])\n",
    "#заполним пропуски в столбце с данными по ремонту\n",
    "autos[['Repaired','VehicleType','FuelType','Gearbox']] = autos[['Repaired','VehicleType','FuelType','Gearbox']].fillna('unknown')\n",
    "#выведем кол-во оставшихся после этого строк\n",
    "len(autos)"
   ]
  },
  {
   "cell_type": "code",
   "execution_count": 24,
   "metadata": {},
   "outputs": [
    {
     "data": {
      "text/html": [
       "<style  type=\"text/css\" >\n",
       "#T_c22bf_row0_col0,#T_c22bf_row1_col0,#T_c22bf_row2_col0,#T_c22bf_row3_col0,#T_c22bf_row4_col0,#T_c22bf_row5_col0,#T_c22bf_row6_col0,#T_c22bf_row7_col0,#T_c22bf_row8_col0,#T_c22bf_row9_col0{\n",
       "            background-color:  #3b4cc0;\n",
       "            color:  #f1f1f1;\n",
       "        }</style><table id=\"T_c22bf_\" ><thead>    <tr>        <th class=\"blank level0\" ></th>        <th class=\"col_heading level0 col0\" >доля пропусков,%</th>    </tr></thead><tbody>\n",
       "                <tr>\n",
       "                        <th id=\"T_c22bf_level0_row0\" class=\"row_heading level0 row0\" >Price</th>\n",
       "                        <td id=\"T_c22bf_row0_col0\" class=\"data row0 col0\" >0.000000</td>\n",
       "            </tr>\n",
       "            <tr>\n",
       "                        <th id=\"T_c22bf_level0_row1\" class=\"row_heading level0 row1\" >VehicleType</th>\n",
       "                        <td id=\"T_c22bf_row1_col0\" class=\"data row1 col0\" >0.000000</td>\n",
       "            </tr>\n",
       "            <tr>\n",
       "                        <th id=\"T_c22bf_level0_row2\" class=\"row_heading level0 row2\" >RegistrationYear</th>\n",
       "                        <td id=\"T_c22bf_row2_col0\" class=\"data row2 col0\" >0.000000</td>\n",
       "            </tr>\n",
       "            <tr>\n",
       "                        <th id=\"T_c22bf_level0_row3\" class=\"row_heading level0 row3\" >Gearbox</th>\n",
       "                        <td id=\"T_c22bf_row3_col0\" class=\"data row3 col0\" >0.000000</td>\n",
       "            </tr>\n",
       "            <tr>\n",
       "                        <th id=\"T_c22bf_level0_row4\" class=\"row_heading level0 row4\" >Power</th>\n",
       "                        <td id=\"T_c22bf_row4_col0\" class=\"data row4 col0\" >0.000000</td>\n",
       "            </tr>\n",
       "            <tr>\n",
       "                        <th id=\"T_c22bf_level0_row5\" class=\"row_heading level0 row5\" >Model</th>\n",
       "                        <td id=\"T_c22bf_row5_col0\" class=\"data row5 col0\" >0.000000</td>\n",
       "            </tr>\n",
       "            <tr>\n",
       "                        <th id=\"T_c22bf_level0_row6\" class=\"row_heading level0 row6\" >Kilometer</th>\n",
       "                        <td id=\"T_c22bf_row6_col0\" class=\"data row6 col0\" >0.000000</td>\n",
       "            </tr>\n",
       "            <tr>\n",
       "                        <th id=\"T_c22bf_level0_row7\" class=\"row_heading level0 row7\" >FuelType</th>\n",
       "                        <td id=\"T_c22bf_row7_col0\" class=\"data row7 col0\" >0.000000</td>\n",
       "            </tr>\n",
       "            <tr>\n",
       "                        <th id=\"T_c22bf_level0_row8\" class=\"row_heading level0 row8\" >Brand</th>\n",
       "                        <td id=\"T_c22bf_row8_col0\" class=\"data row8 col0\" >0.000000</td>\n",
       "            </tr>\n",
       "            <tr>\n",
       "                        <th id=\"T_c22bf_level0_row9\" class=\"row_heading level0 row9\" >Repaired</th>\n",
       "                        <td id=\"T_c22bf_row9_col0\" class=\"data row9 col0\" >0.000000</td>\n",
       "            </tr>\n",
       "    </tbody></table>"
      ],
      "text/plain": [
       "<pandas.io.formats.style.Styler at 0x7f8d116500a0>"
      ]
     },
     "execution_count": 24,
     "metadata": {},
     "output_type": "execute_result"
    }
   ],
   "source": [
    "#создадим таблицу с долей пропусков по столбцам, значения зададим по убыванию\n",
    "pd.DataFrame(round((autos.isna().sum()*100/len(autos)),2), columns=['доля пропусков,%'])\\\n",
    ".sort_values(by='доля пропусков,%', ascending=False).style.background_gradient('coolwarm')"
   ]
  },
  {
   "cell_type": "markdown",
   "metadata": {},
   "source": [
    "Пропуски обработы, оценим на полные дубликаты"
   ]
  },
  {
   "cell_type": "code",
   "execution_count": 25,
   "metadata": {},
   "outputs": [
    {
     "data": {
      "text/plain": [
       "'Кол-во полных дубликатов:42940'"
      ]
     },
     "execution_count": 25,
     "metadata": {},
     "output_type": "execute_result"
    }
   ],
   "source": [
    "f'Кол-во полных дубликатов:{autos.duplicated().sum()}'"
   ]
  },
  {
   "cell_type": "markdown",
   "metadata": {},
   "source": [
    "После удаления неиформативных столбцов, корректировки аномалий и наполнения пропусков, появилось большое кол-во дубликатов - удалим их"
   ]
  },
  {
   "cell_type": "code",
   "execution_count": 26,
   "metadata": {},
   "outputs": [
    {
     "data": {
      "text/plain": [
       "(263458, 10)"
      ]
     },
     "execution_count": 26,
     "metadata": {},
     "output_type": "execute_result"
    }
   ],
   "source": [
    "#удалим явные дубликаты\n",
    "autos = autos.drop_duplicates()\n",
    "autos.shape"
   ]
  },
  {
   "cell_type": "markdown",
   "metadata": {},
   "source": [
    "Итого после удаления аномальных значений, заполнения пропусков осталось 263,4 тыс строк 10 столбцов."
   ]
  },
  {
   "cell_type": "markdown",
   "metadata": {},
   "source": [
    "### Подготовка выборок для обучения моделей"
   ]
  },
  {
   "cell_type": "markdown",
   "metadata": {},
   "source": [
    "Подготовим выборки для обучения моделей не бустинга, т.к. для GBM не нужно отдельно обрабатывать категориальные признаки, она это делает сама, туда лучше подавать необработанные данные.\n",
    "Выделим целевой и входные признаки, закодируем признаки модель и прочие с более, чем 2-мя возможными значениями через кодировщик TargetEncoder, затем масштабируем все признаки (сделаем сначала для тренининговой, затем для тестовой)."
   ]
  },
  {
   "cell_type": "code",
   "execution_count": 27,
   "metadata": {},
   "outputs": [
    {
     "data": {
      "text/html": [
       "<div>\n",
       "<style scoped>\n",
       "    .dataframe tbody tr th:only-of-type {\n",
       "        vertical-align: middle;\n",
       "    }\n",
       "\n",
       "    .dataframe tbody tr th {\n",
       "        vertical-align: top;\n",
       "    }\n",
       "\n",
       "    .dataframe thead th {\n",
       "        text-align: right;\n",
       "    }\n",
       "</style>\n",
       "<table border=\"1\" class=\"dataframe\">\n",
       "  <thead>\n",
       "    <tr style=\"text-align: right;\">\n",
       "      <th></th>\n",
       "      <th>VehicleType</th>\n",
       "      <th>RegistrationYear</th>\n",
       "      <th>Gearbox</th>\n",
       "      <th>Power</th>\n",
       "      <th>Model</th>\n",
       "      <th>Kilometer</th>\n",
       "      <th>FuelType</th>\n",
       "      <th>Brand</th>\n",
       "      <th>Repaired</th>\n",
       "    </tr>\n",
       "  </thead>\n",
       "  <tbody>\n",
       "    <tr>\n",
       "      <th>157428</th>\n",
       "      <td>small</td>\n",
       "      <td>2005</td>\n",
       "      <td>manual</td>\n",
       "      <td>75.00</td>\n",
       "      <td>ibiza</td>\n",
       "      <td>125000</td>\n",
       "      <td>petrol</td>\n",
       "      <td>seat</td>\n",
       "      <td>no</td>\n",
       "    </tr>\n",
       "  </tbody>\n",
       "</table>\n",
       "</div>"
      ],
      "text/plain": [
       "       VehicleType  RegistrationYear Gearbox  Power  Model  Kilometer  \\\n",
       "157428       small              2005  manual  75.00  ibiza     125000   \n",
       "\n",
       "       FuelType Brand Repaired  \n",
       "157428   petrol  seat       no  "
      ]
     },
     "execution_count": 27,
     "metadata": {},
     "output_type": "execute_result"
    }
   ],
   "source": [
    "#выделим целевой признак и прочие, разобьем выборку на тестовую и тренинговую\n",
    "y = autos['Price']\n",
    "X = autos.drop(['Price'], axis=1)\n",
    "\n",
    "\n",
    "X_train,X_test,y_train,y_test = train_test_split( \n",
    "                                     X,\n",
    "                                     y,\n",
    "                                     test_size = 0.25,\n",
    "                                     random_state = 12345\n",
    "    )\n",
    "X_train.head(1)"
   ]
  },
  {
   "cell_type": "code",
   "execution_count": 28,
   "metadata": {},
   "outputs": [
    {
     "data": {
      "text/html": [
       "<div>\n",
       "<style scoped>\n",
       "    .dataframe tbody tr th:only-of-type {\n",
       "        vertical-align: middle;\n",
       "    }\n",
       "\n",
       "    .dataframe tbody tr th {\n",
       "        vertical-align: top;\n",
       "    }\n",
       "\n",
       "    .dataframe thead th {\n",
       "        text-align: right;\n",
       "    }\n",
       "</style>\n",
       "<table border=\"1\" class=\"dataframe\">\n",
       "  <thead>\n",
       "    <tr style=\"text-align: right;\">\n",
       "      <th></th>\n",
       "      <th>VehicleType</th>\n",
       "      <th>RegistrationYear</th>\n",
       "      <th>Gearbox</th>\n",
       "      <th>Power</th>\n",
       "      <th>Model</th>\n",
       "      <th>Kilometer</th>\n",
       "      <th>FuelType</th>\n",
       "      <th>Brand</th>\n",
       "      <th>Repaired</th>\n",
       "    </tr>\n",
       "  </thead>\n",
       "  <tbody>\n",
       "    <tr>\n",
       "      <th>265268</th>\n",
       "      <td>5,160.30</td>\n",
       "      <td>2000</td>\n",
       "      <td>1</td>\n",
       "      <td>140.00</td>\n",
       "      <td>4,091.66</td>\n",
       "      <td>150000</td>\n",
       "      <td>5,043.13</td>\n",
       "      <td>4,456.38</td>\n",
       "      <td>5,652.35</td>\n",
       "    </tr>\n",
       "    <tr>\n",
       "      <th>304285</th>\n",
       "      <td>5,056.46</td>\n",
       "      <td>2005</td>\n",
       "      <td>1</td>\n",
       "      <td>218.00</td>\n",
       "      <td>12,232.07</td>\n",
       "      <td>150000</td>\n",
       "      <td>5,043.13</td>\n",
       "      <td>6,712.96</td>\n",
       "      <td>5,652.35</td>\n",
       "    </tr>\n",
       "    <tr>\n",
       "      <th>151452</th>\n",
       "      <td>5,160.30</td>\n",
       "      <td>2012</td>\n",
       "      <td>0</td>\n",
       "      <td>103.00</td>\n",
       "      <td>2,428.36</td>\n",
       "      <td>60000</td>\n",
       "      <td>5,043.13</td>\n",
       "      <td>2,603.02</td>\n",
       "      <td>3,126.38</td>\n",
       "    </tr>\n",
       "    <tr>\n",
       "      <th>45315</th>\n",
       "      <td>5,160.30</td>\n",
       "      <td>2006</td>\n",
       "      <td>0</td>\n",
       "      <td>101.00</td>\n",
       "      <td>4,725.58</td>\n",
       "      <td>150000</td>\n",
       "      <td>5,043.13</td>\n",
       "      <td>5,023.60</td>\n",
       "      <td>5,652.35</td>\n",
       "    </tr>\n",
       "    <tr>\n",
       "      <th>95607</th>\n",
       "      <td>5,160.30</td>\n",
       "      <td>2006</td>\n",
       "      <td>0</td>\n",
       "      <td>90.00</td>\n",
       "      <td>2,794.82</td>\n",
       "      <td>125000</td>\n",
       "      <td>5,043.13</td>\n",
       "      <td>3,175.94</td>\n",
       "      <td>5,652.35</td>\n",
       "    </tr>\n",
       "    <tr>\n",
       "      <th>271698</th>\n",
       "      <td>5,160.30</td>\n",
       "      <td>1997</td>\n",
       "      <td>0</td>\n",
       "      <td>75.00</td>\n",
       "      <td>3,359.79</td>\n",
       "      <td>125000</td>\n",
       "      <td>5,043.13</td>\n",
       "      <td>3,175.94</td>\n",
       "      <td>3,126.38</td>\n",
       "    </tr>\n",
       "    <tr>\n",
       "      <th>83430</th>\n",
       "      <td>5,056.46</td>\n",
       "      <td>1998</td>\n",
       "      <td>0</td>\n",
       "      <td>82.00</td>\n",
       "      <td>3,359.79</td>\n",
       "      <td>150000</td>\n",
       "      <td>5,043.13</td>\n",
       "      <td>3,175.94</td>\n",
       "      <td>5,652.35</td>\n",
       "    </tr>\n",
       "    <tr>\n",
       "      <th>190888</th>\n",
       "      <td>5,160.30</td>\n",
       "      <td>1998</td>\n",
       "      <td>1</td>\n",
       "      <td>165.00</td>\n",
       "      <td>6,610.88</td>\n",
       "      <td>150000</td>\n",
       "      <td>4,069.70</td>\n",
       "      <td>6,770.64</td>\n",
       "      <td>2,276.33</td>\n",
       "    </tr>\n",
       "    <tr>\n",
       "      <th>19040</th>\n",
       "      <td>6,345.36</td>\n",
       "      <td>2008</td>\n",
       "      <td>0</td>\n",
       "      <td>192.00</td>\n",
       "      <td>10,032.08</td>\n",
       "      <td>150000</td>\n",
       "      <td>5,043.13</td>\n",
       "      <td>9,311.56</td>\n",
       "      <td>2,276.33</td>\n",
       "    </tr>\n",
       "    <tr>\n",
       "      <th>157704</th>\n",
       "      <td>5,623.66</td>\n",
       "      <td>1996</td>\n",
       "      <td>0</td>\n",
       "      <td>174.00</td>\n",
       "      <td>5,293.91</td>\n",
       "      <td>150000</td>\n",
       "      <td>5,043.13</td>\n",
       "      <td>5,023.60</td>\n",
       "      <td>5,652.35</td>\n",
       "    </tr>\n",
       "  </tbody>\n",
       "</table>\n",
       "</div>"
      ],
      "text/plain": [
       "        VehicleType  RegistrationYear  Gearbox  Power     Model  Kilometer  \\\n",
       "265268     5,160.30              2000        1 140.00  4,091.66     150000   \n",
       "304285     5,056.46              2005        1 218.00 12,232.07     150000   \n",
       "151452     5,160.30              2012        0 103.00  2,428.36      60000   \n",
       "45315      5,160.30              2006        0 101.00  4,725.58     150000   \n",
       "95607      5,160.30              2006        0  90.00  2,794.82     125000   \n",
       "271698     5,160.30              1997        0  75.00  3,359.79     125000   \n",
       "83430      5,056.46              1998        0  82.00  3,359.79     150000   \n",
       "190888     5,160.30              1998        1 165.00  6,610.88     150000   \n",
       "19040      6,345.36              2008        0 192.00 10,032.08     150000   \n",
       "157704     5,623.66              1996        0 174.00  5,293.91     150000   \n",
       "\n",
       "        FuelType    Brand  Repaired  \n",
       "265268  5,043.13 4,456.38  5,652.35  \n",
       "304285  5,043.13 6,712.96  5,652.35  \n",
       "151452  5,043.13 2,603.02  3,126.38  \n",
       "45315   5,043.13 5,023.60  5,652.35  \n",
       "95607   5,043.13 3,175.94  5,652.35  \n",
       "271698  5,043.13 3,175.94  3,126.38  \n",
       "83430   5,043.13 3,175.94  5,652.35  \n",
       "190888  4,069.70 6,770.64  2,276.33  \n",
       "19040   5,043.13 9,311.56  2,276.33  \n",
       "157704  5,043.13 5,023.60  5,652.35  "
      ]
     },
     "execution_count": 28,
     "metadata": {},
     "output_type": "execute_result"
    }
   ],
   "source": [
    "#закодируем признаки со строковым типом и более чем 2-мя возможными значениями\n",
    "target_encoder = ce.TargetEncoder(cols=['VehicleType','Model','FuelType','Brand','Repaired'])\n",
    "X_train = target_encoder.fit_transform(X_train,y_train)\n",
    "#закодириуем бинарный признак \"коробка передач\"\n",
    "X_train['Gearbox'] = X_train['Gearbox'].apply(lambda x: 1 if x=='auto' else 0)\n",
    "#выведем любые 10 строк получившегося после кодировки\n",
    "X_train.sample(10)"
   ]
  },
  {
   "cell_type": "code",
   "execution_count": 29,
   "metadata": {},
   "outputs": [
    {
     "data": {
      "text/html": [
       "<div>\n",
       "<style scoped>\n",
       "    .dataframe tbody tr th:only-of-type {\n",
       "        vertical-align: middle;\n",
       "    }\n",
       "\n",
       "    .dataframe tbody tr th {\n",
       "        vertical-align: top;\n",
       "    }\n",
       "\n",
       "    .dataframe thead th {\n",
       "        text-align: right;\n",
       "    }\n",
       "</style>\n",
       "<table border=\"1\" class=\"dataframe\">\n",
       "  <thead>\n",
       "    <tr style=\"text-align: right;\">\n",
       "      <th></th>\n",
       "      <th>VehicleType</th>\n",
       "      <th>RegistrationYear</th>\n",
       "      <th>Gearbox</th>\n",
       "      <th>Power</th>\n",
       "      <th>Model</th>\n",
       "      <th>Kilometer</th>\n",
       "      <th>FuelType</th>\n",
       "      <th>Brand</th>\n",
       "      <th>Repaired</th>\n",
       "    </tr>\n",
       "  </thead>\n",
       "  <tbody>\n",
       "    <tr>\n",
       "      <th>0</th>\n",
       "      <td>-1.23</td>\n",
       "      <td>0.31</td>\n",
       "      <td>-0.50</td>\n",
       "      <td>-0.88</td>\n",
       "      <td>-0.40</td>\n",
       "      <td>-0.06</td>\n",
       "      <td>0.27</td>\n",
       "      <td>-0.34</td>\n",
       "      <td>0.60</td>\n",
       "    </tr>\n",
       "    <tr>\n",
       "      <th>1</th>\n",
       "      <td>0.11</td>\n",
       "      <td>-0.76</td>\n",
       "      <td>1.99</td>\n",
       "      <td>2.86</td>\n",
       "      <td>-0.09</td>\n",
       "      <td>0.61</td>\n",
       "      <td>0.27</td>\n",
       "      <td>-0.29</td>\n",
       "      <td>0.60</td>\n",
       "    </tr>\n",
       "    <tr>\n",
       "      <th>2</th>\n",
       "      <td>-1.23</td>\n",
       "      <td>1.39</td>\n",
       "      <td>1.99</td>\n",
       "      <td>-0.07</td>\n",
       "      <td>-0.09</td>\n",
       "      <td>-2.59</td>\n",
       "      <td>5.99</td>\n",
       "      <td>-1.51</td>\n",
       "      <td>0.60</td>\n",
       "    </tr>\n",
       "    <tr>\n",
       "      <th>3</th>\n",
       "      <td>0.18</td>\n",
       "      <td>-5.81</td>\n",
       "      <td>1.99</td>\n",
       "      <td>-0.07</td>\n",
       "      <td>-0.09</td>\n",
       "      <td>-0.73</td>\n",
       "      <td>0.27</td>\n",
       "      <td>0.86</td>\n",
       "      <td>-2.05</td>\n",
       "    </tr>\n",
       "    <tr>\n",
       "      <th>4</th>\n",
       "      <td>0.11</td>\n",
       "      <td>0.47</td>\n",
       "      <td>-0.50</td>\n",
       "      <td>0.92</td>\n",
       "      <td>0.66</td>\n",
       "      <td>0.61</td>\n",
       "      <td>0.27</td>\n",
       "      <td>-0.34</td>\n",
       "      <td>-2.05</td>\n",
       "    </tr>\n",
       "  </tbody>\n",
       "</table>\n",
       "</div>"
      ],
      "text/plain": [
       "   VehicleType  RegistrationYear  Gearbox  Power  Model  Kilometer  FuelType  \\\n",
       "0        -1.23              0.31    -0.50  -0.88  -0.40      -0.06      0.27   \n",
       "1         0.11             -0.76     1.99   2.86  -0.09       0.61      0.27   \n",
       "2        -1.23              1.39     1.99  -0.07  -0.09      -2.59      5.99   \n",
       "3         0.18             -5.81     1.99  -0.07  -0.09      -0.73      0.27   \n",
       "4         0.11              0.47    -0.50   0.92   0.66       0.61      0.27   \n",
       "\n",
       "   Brand  Repaired  \n",
       "0  -0.34      0.60  \n",
       "1  -0.29      0.60  \n",
       "2  -1.51      0.60  \n",
       "3   0.86     -2.05  \n",
       "4  -0.34     -2.05  "
      ]
     },
     "execution_count": 29,
     "metadata": {},
     "output_type": "execute_result"
    }
   ],
   "source": [
    "#масштабируем входные признаки\n",
    "scaler = StandardScaler()\n",
    "columns = X_train.columns\n",
    "X_train = pd.DataFrame(scaler.fit_transform(X_train), columns = columns)\n",
    "\n",
    "X_train.head()"
   ]
  },
  {
   "cell_type": "code",
   "execution_count": 30,
   "metadata": {},
   "outputs": [
    {
     "data": {
      "text/html": [
       "<div>\n",
       "<style scoped>\n",
       "    .dataframe tbody tr th:only-of-type {\n",
       "        vertical-align: middle;\n",
       "    }\n",
       "\n",
       "    .dataframe tbody tr th {\n",
       "        vertical-align: top;\n",
       "    }\n",
       "\n",
       "    .dataframe thead th {\n",
       "        text-align: right;\n",
       "    }\n",
       "</style>\n",
       "<table border=\"1\" class=\"dataframe\">\n",
       "  <thead>\n",
       "    <tr style=\"text-align: right;\">\n",
       "      <th></th>\n",
       "      <th>VehicleType</th>\n",
       "      <th>RegistrationYear</th>\n",
       "      <th>Gearbox</th>\n",
       "      <th>Power</th>\n",
       "      <th>Model</th>\n",
       "      <th>Kilometer</th>\n",
       "      <th>FuelType</th>\n",
       "      <th>Brand</th>\n",
       "      <th>Repaired</th>\n",
       "    </tr>\n",
       "  </thead>\n",
       "  <tbody>\n",
       "    <tr>\n",
       "      <th>0</th>\n",
       "      <td>0.11</td>\n",
       "      <td>0.31</td>\n",
       "      <td>-0.50</td>\n",
       "      <td>0.54</td>\n",
       "      <td>0.20</td>\n",
       "      <td>0.61</td>\n",
       "      <td>0.27</td>\n",
       "      <td>1.20</td>\n",
       "      <td>0.60</td>\n",
       "    </tr>\n",
       "    <tr>\n",
       "      <th>1</th>\n",
       "      <td>0.49</td>\n",
       "      <td>0.31</td>\n",
       "      <td>-0.50</td>\n",
       "      <td>-0.10</td>\n",
       "      <td>-0.51</td>\n",
       "      <td>0.61</td>\n",
       "      <td>0.27</td>\n",
       "      <td>-0.88</td>\n",
       "      <td>0.60</td>\n",
       "    </tr>\n",
       "    <tr>\n",
       "      <th>2</th>\n",
       "      <td>-1.23</td>\n",
       "      <td>-0.60</td>\n",
       "      <td>-0.50</td>\n",
       "      <td>-0.39</td>\n",
       "      <td>-0.63</td>\n",
       "      <td>0.61</td>\n",
       "      <td>0.27</td>\n",
       "      <td>-1.13</td>\n",
       "      <td>0.60</td>\n",
       "    </tr>\n",
       "    <tr>\n",
       "      <th>3</th>\n",
       "      <td>-1.58</td>\n",
       "      <td>2.00</td>\n",
       "      <td>1.99</td>\n",
       "      <td>0.54</td>\n",
       "      <td>0.40</td>\n",
       "      <td>0.61</td>\n",
       "      <td>-3.65</td>\n",
       "      <td>0.86</td>\n",
       "      <td>-1.38</td>\n",
       "    </tr>\n",
       "    <tr>\n",
       "      <th>4</th>\n",
       "      <td>0.11</td>\n",
       "      <td>1.39</td>\n",
       "      <td>1.99</td>\n",
       "      <td>0.66</td>\n",
       "      <td>1.91</td>\n",
       "      <td>-2.59</td>\n",
       "      <td>0.27</td>\n",
       "      <td>0.86</td>\n",
       "      <td>-1.38</td>\n",
       "    </tr>\n",
       "  </tbody>\n",
       "</table>\n",
       "</div>"
      ],
      "text/plain": [
       "   VehicleType  RegistrationYear  Gearbox  Power  Model  Kilometer  FuelType  \\\n",
       "0         0.11              0.31    -0.50   0.54   0.20       0.61      0.27   \n",
       "1         0.49              0.31    -0.50  -0.10  -0.51       0.61      0.27   \n",
       "2        -1.23             -0.60    -0.50  -0.39  -0.63       0.61      0.27   \n",
       "3        -1.58              2.00     1.99   0.54   0.40       0.61     -3.65   \n",
       "4         0.11              1.39     1.99   0.66   1.91      -2.59      0.27   \n",
       "\n",
       "   Brand  Repaired  \n",
       "0   1.20      0.60  \n",
       "1  -0.88      0.60  \n",
       "2  -1.13      0.60  \n",
       "3   0.86     -1.38  \n",
       "4   0.86     -1.38  "
      ]
     },
     "execution_count": 30,
     "metadata": {},
     "output_type": "execute_result"
    }
   ],
   "source": [
    "#проведем кодирование тестовой выборки\n",
    "X_test = target_encoder.transform(X_test,y_test)\n",
    "X_test['Gearbox'] = X_test['Gearbox'].apply(lambda x: 1 if x=='auto' else 0)\n",
    "X_test = pd.DataFrame(scaler.transform(X_test), columns = columns)\n",
    "\n",
    "X_test.head()"
   ]
  },
  {
   "cell_type": "markdown",
   "metadata": {},
   "source": [
    "\n",
    "**Вывод по предобработке данных**:\n",
    "\n",
    " - Входные данные были представлены 16 столбцами и 354369 строками.\n",
    " - Отобраны признаки, необходимые для построения моделей.\n",
    " - Типы данных соответствуют описанию,\n",
    " - Пропущенные значения, выбросы, а также неправдоподобные значения в признаках по возможности заполнены на основе имеющейся информации. Остальные объекты удалены - после чего осталось 10 столбцов и 306633 строк.\n",
    " - После удаления неинформативных столбцов, обработки пропусков и аномалий появилось существенное кол-во полных дубликатов, после удаления которых осталось 263458 строк или 74% строк от исходных данных.\n",
    " - Данные разделены на тестовую и обучающую выборки в соотношении 1:4, признаки закодированы и масштабированы. "
   ]
  },
  {
   "cell_type": "markdown",
   "metadata": {},
   "source": [
    "## Обучение моделей"
   ]
  },
  {
   "cell_type": "markdown",
   "metadata": {},
   "source": [
    "Рассмотрим несколько линейных моделей (с регуляризацией и без), дерево решений и модель бустинга. Подберем для каждой модели  такие гиперпараметры, при которых метрика MSE, а соответственно RMSE будет меньше."
   ]
  },
  {
   "cell_type": "markdown",
   "metadata": {},
   "source": [
    "### Линейная регрессия"
   ]
  },
  {
   "cell_type": "code",
   "execution_count": 31,
   "metadata": {},
   "outputs": [
    {
     "name": "stdout",
     "output_type": "stream",
     "text": [
      "Параметры лучшей линейной модели:  {'normalize': True, 'fit_intercept': True, 'copy_X': True}\n"
     ]
    }
   ],
   "source": [
    "# инициализируем модель\n",
    "model_lr = LinearRegression()\n",
    "model_lr.fit(X_train, y_train)\n",
    "#зададим гиперпараметры для перебора\n",
    "parameters = {\n",
    "    'fit_intercept':[True,False],\n",
    "    'normalize':[True,False], \n",
    "    'copy_X':[True, False]\n",
    "}\n",
    "#произведем поиск лучше модели рандомайзером\n",
    "random_lr = RandomizedSearchCV(\n",
    "    model_lr,\n",
    "    parameters,\n",
    "    cv=5,\n",
    "    n_jobs=-1,\n",
    "    scoring = 'neg_mean_squared_error'\n",
    ")\n",
    "#обучим лучшую модель\n",
    "random_lr.fit(X_train, y_train)\n",
    "# выведем параметры лучшей модели\n",
    "print('Параметры лучшей линейной модели: ' , random_lr.best_params_)"
   ]
  },
  {
   "cell_type": "markdown",
   "metadata": {},
   "source": [
    "### Линейная модель с L1 регуляризацией"
   ]
  },
  {
   "cell_type": "code",
   "execution_count": 32,
   "metadata": {},
   "outputs": [
    {
     "name": "stdout",
     "output_type": "stream",
     "text": [
      "Параметры лучшей линейной модели с L1 регуляризацией:  {'alpha': 1}\n"
     ]
    }
   ],
   "source": [
    "# инициализируем модель\n",
    "model_lasso = Lasso(random_state=12345)\n",
    "model_lasso.fit(X_train, y_train)\n",
    "#зададим гиперпараметры для перебора\n",
    "parameters = {\n",
    "    'alpha':range(1,20)\n",
    "}\n",
    "#произведем поиск лучше модели рандомайзером и обучим ее\n",
    "random_lasso = RandomizedSearchCV(\n",
    "    model_lasso,\n",
    "    parameters,\n",
    "    cv=5,\n",
    "    n_jobs=-1,\n",
    "    scoring = 'neg_mean_squared_error'\n",
    ")\n",
    "#обучим лучшую модель\n",
    "random_lasso.fit(X_train, y_train)\n",
    "# выведем параметры лучшей модели\n",
    "print('Параметры лучшей линейной модели с L1 регуляризацией: ', random_lasso.best_params_)\n"
   ]
  },
  {
   "cell_type": "markdown",
   "metadata": {},
   "source": [
    "### Линейная модель с L2 регуляризацией"
   ]
  },
  {
   "cell_type": "code",
   "execution_count": 33,
   "metadata": {},
   "outputs": [
    {
     "name": "stdout",
     "output_type": "stream",
     "text": [
      "Параметры лучшей линейной модели с L2 регуляризацией:  {'alpha': 19}\n"
     ]
    }
   ],
   "source": [
    "# инициализируем модель\n",
    "model_ridge = Ridge(random_state=12345)\n",
    "model_ridge.fit(X_train, y_train)\n",
    "#зададим гиперпараметры для перебора\n",
    "parameters = {\n",
    "    'alpha':range(1,20)\n",
    "}\n",
    "#произведем поиск лучше модели рандомайзером и обучим ее\n",
    "random_ridge = RandomizedSearchCV(\n",
    "    model_ridge,\n",
    "    parameters,\n",
    "    cv=5,\n",
    "    n_jobs=-1,\n",
    "    scoring = 'neg_mean_squared_error'\n",
    ")\n",
    "random_ridge.fit(X_train, y_train)\n",
    "# выведем параметры лучшей модели \n",
    "print('Параметры лучшей линейной модели с L2 регуляризацией: ', random_ridge.best_params_)"
   ]
  },
  {
   "cell_type": "markdown",
   "metadata": {},
   "source": [
    "### Модель дерева решений"
   ]
  },
  {
   "cell_type": "code",
   "execution_count": 34,
   "metadata": {},
   "outputs": [
    {
     "name": "stdout",
     "output_type": "stream",
     "text": [
      "Парамтеры лучшей модели Дерева решений:  {'min_samples_split': 9, 'min_samples_leaf': 6, 'max_depth': 9}\n"
     ]
    }
   ],
   "source": [
    "# инициализируем модель\n",
    "model_dtr = DecisionTreeRegressor(random_state=12345)\n",
    "model_dtr.fit(X_train, y_train)\n",
    "#зададим гиперпараметры для перебора\n",
    "parameters = {\n",
    "      'max_depth': [3, 5, 7, 9],\n",
    "    'min_samples_split': range(2, 10),\n",
    "        'min_samples_leaf': range(2, 10)\n",
    "}\n",
    "#произведем поиск лучше модели рандомайзером и обучим ее\n",
    "random_dtr = RandomizedSearchCV(\n",
    "    model_dtr,\n",
    "    parameters,\n",
    "    cv=5,\n",
    "    n_jobs=-1,\n",
    "    scoring = 'neg_mean_squared_error'\n",
    ")\n",
    "random_dtr.fit(X_train, y_train)\n",
    "# выведем параметры лучшей модели\n",
    "print('Парамтеры лучшей модели Дерева решений: ', random_dtr.best_params_)"
   ]
  },
  {
   "cell_type": "markdown",
   "metadata": {},
   "source": [
    "Перейдем к бустингу"
   ]
  },
  {
   "cell_type": "markdown",
   "metadata": {},
   "source": [
    "### Модель LGBMRegressor "
   ]
  },
  {
   "cell_type": "markdown",
   "metadata": {},
   "source": [
    "Повторно подготовим выборки для обучения модели, т.к. для GBM не нужно отдельно обрабатывать категориальные признаки, она это делает сама."
   ]
  },
  {
   "cell_type": "code",
   "execution_count": 35,
   "metadata": {},
   "outputs": [],
   "source": [
    "#выделим целевой признак и прочие\n",
    "y_boost = autos['Price']\n",
    "X_boost = autos.drop(['Price'], axis=1)\n",
    "\n",
    "#выделим категориальные/количественные признаки, \n",
    "numerical_features = X_boost.select_dtypes(include='number').columns\n",
    "categorical_features = X_boost.select_dtypes(exclude='number').columns\n",
    "\n",
    "#переведем категориальные признаки в тип category, который требуется для LightGBM\n",
    "X_boost[categorical_features] = X_boost[categorical_features].astype('category')\n",
    "\n",
    "#сплит\n",
    "X_boost_train,X_boost_test,y_boost_train,y_boost_test = train_test_split( \n",
    "                                     X_boost,\n",
    "                                     y_boost,\n",
    "                                     test_size = 0.25,\n",
    "                                     random_state = 12345\n",
    "    )"
   ]
  },
  {
   "cell_type": "code",
   "execution_count": 36,
   "metadata": {},
   "outputs": [
    {
     "name": "stdout",
     "output_type": "stream",
     "text": [
      "Параметры лучшей модели бустинга:  {'max_depth': 9, 'learning_rate': 0.3}\n"
     ]
    }
   ],
   "source": [
    "# инициализируем модель\n",
    "model_lgb = lgb.LGBMRegressor(random_state=12345)\n",
    "model_lgb.fit(X_boost_train, y_boost_train)\n",
    "#зададим гиперпараметры для перебора\n",
    "parameters = {\n",
    "      'learning_rate': [0.3, 0.7],\n",
    "              'max_depth': [3, 6, 9]\n",
    "}\n",
    "#произведем поиск лучше модели рандомайзером и обучим ее\n",
    "random_lgb = RandomizedSearchCV(\n",
    "    model_lgb,\n",
    "    parameters,\n",
    "    cv=5,\n",
    "    n_jobs=-1,\n",
    "    scoring = 'neg_mean_squared_error'\n",
    ")\n",
    "random_lgb.fit(X_boost_train, y_boost_train)\n",
    "# выведем параметры лучшей модели\n",
    "print('Параметры лучшей модели бустинга: ', random_lgb.best_params_)"
   ]
  },
  {
   "cell_type": "markdown",
   "metadata": {},
   "source": [
    "**Вывод по обучению моделей**:\n",
    " - Было обучено 3 линейных модели, дерево решений и модель бустинга LGBMRegressor.\n",
    " \n",
    "Далее оценим метрику RMSE при кросс-валидации для каждой из моделей"
   ]
  },
  {
   "cell_type": "markdown",
   "metadata": {},
   "source": [
    "## Анализ моделей"
   ]
  },
  {
   "cell_type": "markdown",
   "metadata": {},
   "source": [
    "Проанализируем время обучения, предсказания и качество каждой  модели.\n",
    "После чего, опираясь на критерии заказчика, выберем из них необходимую  модель."
   ]
  },
  {
   "cell_type": "markdown",
   "metadata": {},
   "source": [
    "### Линейная регрессия"
   ]
  },
  {
   "cell_type": "code",
   "execution_count": 37,
   "metadata": {},
   "outputs": [
    {
     "data": {
      "text/html": [
       "<div>\n",
       "<style scoped>\n",
       "    .dataframe tbody tr th:only-of-type {\n",
       "        vertical-align: middle;\n",
       "    }\n",
       "\n",
       "    .dataframe tbody tr th {\n",
       "        vertical-align: top;\n",
       "    }\n",
       "\n",
       "    .dataframe thead th {\n",
       "        text-align: right;\n",
       "    }\n",
       "</style>\n",
       "<table border=\"1\" class=\"dataframe\">\n",
       "  <thead>\n",
       "    <tr style=\"text-align: right;\">\n",
       "      <th></th>\n",
       "      <th>rmse_cv</th>\n",
       "      <th>training_time(sec)</th>\n",
       "      <th>preds_time(sec)</th>\n",
       "    </tr>\n",
       "  </thead>\n",
       "  <tbody>\n",
       "    <tr>\n",
       "      <th>0</th>\n",
       "      <td>2834</td>\n",
       "      <td>0.21</td>\n",
       "      <td>0.08</td>\n",
       "    </tr>\n",
       "  </tbody>\n",
       "</table>\n",
       "</div>"
      ],
      "text/plain": [
       "   rmse_cv  training_time(sec)  preds_time(sec)\n",
       "0     2834                0.21             0.08"
      ]
     },
     "execution_count": 37,
     "metadata": {},
     "output_type": "execute_result"
    }
   ],
   "source": [
    "# найдем время обучения модели\n",
    "start = time()\n",
    "\n",
    "model_lr = random_lr.best_estimator_ \n",
    "\n",
    "model_lr.fit(X_train, y_train)\n",
    "\n",
    "end = time()\n",
    "lr_training_time =pd.Series(end-start)\n",
    "\n",
    "#построим предсказания на тренинге для нахождения скорости предсказания\n",
    "start = time()\n",
    "\n",
    "predictions_lr = model_lr.predict(X_train)\n",
    "\n",
    "end = time()\n",
    "lr_preds_time = pd.Series(end-start)\n",
    "\n",
    "#посчитаем метрику RMSE лучшей модели при кросс-валидации\n",
    "rmse_lr = pd.Series(round(abs(random_lr.best_score_) ** 0.5))\n",
    "\n",
    "# объединим все в одну таблицу\n",
    "lr = pd.DataFrame(zip(rmse_lr,lr_training_time,lr_preds_time), \\\n",
    "                  columns = ['rmse_cv','training_time(sec)','preds_time(sec)'])\n",
    "lr"
   ]
  },
  {
   "cell_type": "markdown",
   "metadata": {},
   "source": [
    "### Линейная модель с L1 регуляризацией"
   ]
  },
  {
   "cell_type": "code",
   "execution_count": 38,
   "metadata": {},
   "outputs": [
    {
     "data": {
      "text/html": [
       "<div>\n",
       "<style scoped>\n",
       "    .dataframe tbody tr th:only-of-type {\n",
       "        vertical-align: middle;\n",
       "    }\n",
       "\n",
       "    .dataframe tbody tr th {\n",
       "        vertical-align: top;\n",
       "    }\n",
       "\n",
       "    .dataframe thead th {\n",
       "        text-align: right;\n",
       "    }\n",
       "</style>\n",
       "<table border=\"1\" class=\"dataframe\">\n",
       "  <thead>\n",
       "    <tr style=\"text-align: right;\">\n",
       "      <th></th>\n",
       "      <th>rmse_cv</th>\n",
       "      <th>training_time(sec)</th>\n",
       "      <th>preds_time(sec)</th>\n",
       "    </tr>\n",
       "  </thead>\n",
       "  <tbody>\n",
       "    <tr>\n",
       "      <th>0</th>\n",
       "      <td>2834</td>\n",
       "      <td>0.39</td>\n",
       "      <td>0.10</td>\n",
       "    </tr>\n",
       "  </tbody>\n",
       "</table>\n",
       "</div>"
      ],
      "text/plain": [
       "   rmse_cv  training_time(sec)  preds_time(sec)\n",
       "0     2834                0.39             0.10"
      ]
     },
     "execution_count": 38,
     "metadata": {},
     "output_type": "execute_result"
    }
   ],
   "source": [
    "# найдем время обучения модели\n",
    "start = time()\n",
    "\n",
    "model_lasso = random_lasso.best_estimator_ \n",
    "model_lasso.fit(X_train, y_train)\n",
    "\n",
    "end = time()\n",
    "lasso_training_time =pd.Series(end-start)\n",
    "\n",
    "#построим предсказания на тренинге для нахождения скорости предсказания\n",
    "start = time()\n",
    "\n",
    "predictions_lasso = model_lasso.predict(X_train)\n",
    "\n",
    "end = time()\n",
    "lasso_preds_time = pd.Series(end-start)\n",
    "\n",
    "#посчитаем метрику RMSE лучшей модели при кросс-валидации\n",
    "rmse_lasso = pd.Series(round(abs(random_lasso.best_score_) ** 0.5))\n",
    "\n",
    "# объединим все в одну таблицу\n",
    "lasso = pd.DataFrame(zip(rmse_lasso,lasso_training_time,lasso_preds_time),\\\n",
    "                     columns = ['rmse_cv','training_time(sec)','preds_time(sec)'])\n",
    "lasso"
   ]
  },
  {
   "cell_type": "markdown",
   "metadata": {},
   "source": [
    "### Линейная модель с L2 регуляризацией"
   ]
  },
  {
   "cell_type": "code",
   "execution_count": 39,
   "metadata": {},
   "outputs": [
    {
     "data": {
      "text/html": [
       "<div>\n",
       "<style scoped>\n",
       "    .dataframe tbody tr th:only-of-type {\n",
       "        vertical-align: middle;\n",
       "    }\n",
       "\n",
       "    .dataframe tbody tr th {\n",
       "        vertical-align: top;\n",
       "    }\n",
       "\n",
       "    .dataframe thead th {\n",
       "        text-align: right;\n",
       "    }\n",
       "</style>\n",
       "<table border=\"1\" class=\"dataframe\">\n",
       "  <thead>\n",
       "    <tr style=\"text-align: right;\">\n",
       "      <th></th>\n",
       "      <th>rmse_cv</th>\n",
       "      <th>training_time(sec)</th>\n",
       "      <th>preds_time(sec)</th>\n",
       "    </tr>\n",
       "  </thead>\n",
       "  <tbody>\n",
       "    <tr>\n",
       "      <th>0</th>\n",
       "      <td>2834</td>\n",
       "      <td>0.02</td>\n",
       "      <td>0.00</td>\n",
       "    </tr>\n",
       "  </tbody>\n",
       "</table>\n",
       "</div>"
      ],
      "text/plain": [
       "   rmse_cv  training_time(sec)  preds_time(sec)\n",
       "0     2834                0.02             0.00"
      ]
     },
     "execution_count": 39,
     "metadata": {},
     "output_type": "execute_result"
    }
   ],
   "source": [
    "# найдем время обучения модели\n",
    "start = time()\n",
    "\n",
    "model_ridge = random_ridge.best_estimator_ \n",
    "model_ridge.fit(X_train, y_train)\n",
    "\n",
    "end = time()\n",
    "ridge_training_time =pd.Series(end-start)\n",
    "\n",
    "#построим предсказания на тренинге для нахождения скорости предсказания\n",
    "start = time()\n",
    "\n",
    "predictions_ridge = model_ridge.predict(X_train)\n",
    "\n",
    "end = time()\n",
    "ridge_preds_time = pd.Series(end-start)\n",
    "\n",
    "#посчитаем метрику RMSE лучшей модели при кросс-валидации\n",
    "rmse_ridge = pd.Series(round(abs(random_ridge.best_score_) ** 0.5))\n",
    "\n",
    "# объединим все в одну таблицу\n",
    "ridge = pd.DataFrame(zip(rmse_ridge,ridge_training_time,ridge_preds_time), \\\n",
    "                     columns = ['rmse_cv','training_time(sec)','preds_time(sec)'])\n",
    "ridge"
   ]
  },
  {
   "cell_type": "markdown",
   "metadata": {},
   "source": [
    "### Модель дерева решений"
   ]
  },
  {
   "cell_type": "code",
   "execution_count": 40,
   "metadata": {},
   "outputs": [
    {
     "data": {
      "text/html": [
       "<div>\n",
       "<style scoped>\n",
       "    .dataframe tbody tr th:only-of-type {\n",
       "        vertical-align: middle;\n",
       "    }\n",
       "\n",
       "    .dataframe tbody tr th {\n",
       "        vertical-align: top;\n",
       "    }\n",
       "\n",
       "    .dataframe thead th {\n",
       "        text-align: right;\n",
       "    }\n",
       "</style>\n",
       "<table border=\"1\" class=\"dataframe\">\n",
       "  <thead>\n",
       "    <tr style=\"text-align: right;\">\n",
       "      <th></th>\n",
       "      <th>rmse_cv</th>\n",
       "      <th>training_time(sec)</th>\n",
       "      <th>preds_time(sec)</th>\n",
       "    </tr>\n",
       "  </thead>\n",
       "  <tbody>\n",
       "    <tr>\n",
       "      <th>0</th>\n",
       "      <td>1983</td>\n",
       "      <td>0.47</td>\n",
       "      <td>0.02</td>\n",
       "    </tr>\n",
       "  </tbody>\n",
       "</table>\n",
       "</div>"
      ],
      "text/plain": [
       "   rmse_cv  training_time(sec)  preds_time(sec)\n",
       "0     1983                0.47             0.02"
      ]
     },
     "execution_count": 40,
     "metadata": {},
     "output_type": "execute_result"
    }
   ],
   "source": [
    "# найдем время обучения модели\n",
    "start = time()\n",
    "\n",
    "model_dtr = random_dtr.best_estimator_ \n",
    "model_dtr.fit(X_train, y_train)\n",
    "\n",
    "end = time()\n",
    "dtr_training_time =pd.Series(end-start)\n",
    "\n",
    "#построим предсказания на тренинге для нахождения скорости предсказания\n",
    "start = time()\n",
    "\n",
    "predictions_dtr = model_dtr.predict(X_train)\n",
    "\n",
    "end = time()\n",
    "dtr_preds_time = pd.Series(end-start)\n",
    "\n",
    "#посчитаем метрику RMSE лучшей модели при кросс-валидации\n",
    "rmse_dtr = pd.Series(round(abs(random_dtr.best_score_) ** 0.5))\n",
    "\n",
    "# объединим все в одну таблицу\n",
    "dtr = pd.DataFrame(zip(rmse_dtr,dtr_training_time,dtr_preds_time), \\\n",
    "                   columns = ['rmse_cv','training_time(sec)','preds_time(sec)'])\n",
    "dtr"
   ]
  },
  {
   "cell_type": "markdown",
   "metadata": {},
   "source": [
    "### Модель LGBMRegressor "
   ]
  },
  {
   "cell_type": "code",
   "execution_count": 41,
   "metadata": {},
   "outputs": [
    {
     "data": {
      "text/html": [
       "<div>\n",
       "<style scoped>\n",
       "    .dataframe tbody tr th:only-of-type {\n",
       "        vertical-align: middle;\n",
       "    }\n",
       "\n",
       "    .dataframe tbody tr th {\n",
       "        vertical-align: top;\n",
       "    }\n",
       "\n",
       "    .dataframe thead th {\n",
       "        text-align: right;\n",
       "    }\n",
       "</style>\n",
       "<table border=\"1\" class=\"dataframe\">\n",
       "  <thead>\n",
       "    <tr style=\"text-align: right;\">\n",
       "      <th></th>\n",
       "      <th>rmse_cv</th>\n",
       "      <th>training_time(sec)</th>\n",
       "      <th>preds_time(sec)</th>\n",
       "    </tr>\n",
       "  </thead>\n",
       "  <tbody>\n",
       "    <tr>\n",
       "      <th>0</th>\n",
       "      <td>1621</td>\n",
       "      <td>9.50</td>\n",
       "      <td>1.50</td>\n",
       "    </tr>\n",
       "  </tbody>\n",
       "</table>\n",
       "</div>"
      ],
      "text/plain": [
       "   rmse_cv  training_time(sec)  preds_time(sec)\n",
       "0     1621                9.50             1.50"
      ]
     },
     "execution_count": 41,
     "metadata": {},
     "output_type": "execute_result"
    }
   ],
   "source": [
    "# найдем время обучения модели\n",
    "start = time()\n",
    "\n",
    "model_lgb = random_lgb.best_estimator_ \n",
    "model_lgb.fit(X_boost_train, y_boost_train)\n",
    "\n",
    "end = time()\n",
    "lgb_training_time =pd.Series(end-start)\n",
    "\n",
    "#построим предсказания на тренинге для нахождения скорости предсказания\n",
    "start = time()\n",
    "\n",
    "predictions_lgb = model_lgb.predict(X_boost_train)\n",
    "\n",
    "end = time()\n",
    "lgb_preds_time = pd.Series(end-start)\n",
    "\n",
    "#посчитаем метрику RMSE лучшей модели при кросс-валидации\n",
    "rmse_lgb = pd.Series(round(abs(random_lgb.best_score_) ** 0.5))\n",
    "\n",
    "# объединим все в одну таблицу\n",
    "lgb = pd.DataFrame(zip(rmse_lgb,lgb_training_time,lgb_preds_time),\\\n",
    "                   columns = ['rmse_cv','training_time(sec)','preds_time(sec)'])\n",
    "lgb"
   ]
  },
  {
   "cell_type": "markdown",
   "metadata": {},
   "source": [
    "### Вывод по анализу моделей"
   ]
  },
  {
   "cell_type": "code",
   "execution_count": 42,
   "metadata": {},
   "outputs": [
    {
     "data": {
      "text/html": [
       "<div>\n",
       "<style scoped>\n",
       "    .dataframe tbody tr th:only-of-type {\n",
       "        vertical-align: middle;\n",
       "    }\n",
       "\n",
       "    .dataframe tbody tr th {\n",
       "        vertical-align: top;\n",
       "    }\n",
       "\n",
       "    .dataframe thead th {\n",
       "        text-align: right;\n",
       "    }\n",
       "</style>\n",
       "<table border=\"1\" class=\"dataframe\">\n",
       "  <thead>\n",
       "    <tr style=\"text-align: right;\">\n",
       "      <th></th>\n",
       "      <th>rmse_cv</th>\n",
       "      <th>training_time(sec)</th>\n",
       "      <th>preds_time(sec)</th>\n",
       "      <th>rmse_acceptable</th>\n",
       "    </tr>\n",
       "  </thead>\n",
       "  <tbody>\n",
       "    <tr>\n",
       "      <th>0</th>\n",
       "      <td>1621</td>\n",
       "      <td>9.50</td>\n",
       "      <td>1.50</td>\n",
       "      <td>yes</td>\n",
       "    </tr>\n",
       "    <tr>\n",
       "      <th>0</th>\n",
       "      <td>1983</td>\n",
       "      <td>0.47</td>\n",
       "      <td>0.02</td>\n",
       "      <td>yes</td>\n",
       "    </tr>\n",
       "    <tr>\n",
       "      <th>0</th>\n",
       "      <td>2834</td>\n",
       "      <td>0.21</td>\n",
       "      <td>0.08</td>\n",
       "      <td>no!</td>\n",
       "    </tr>\n",
       "    <tr>\n",
       "      <th>0</th>\n",
       "      <td>2834</td>\n",
       "      <td>0.39</td>\n",
       "      <td>0.10</td>\n",
       "      <td>no!</td>\n",
       "    </tr>\n",
       "    <tr>\n",
       "      <th>0</th>\n",
       "      <td>2834</td>\n",
       "      <td>0.02</td>\n",
       "      <td>0.00</td>\n",
       "      <td>no!</td>\n",
       "    </tr>\n",
       "  </tbody>\n",
       "</table>\n",
       "</div>"
      ],
      "text/plain": [
       "   rmse_cv  training_time(sec)  preds_time(sec) rmse_acceptable\n",
       "0     1621                9.50             1.50             yes\n",
       "0     1983                0.47             0.02             yes\n",
       "0     2834                0.21             0.08             no!\n",
       "0     2834                0.39             0.10             no!\n",
       "0     2834                0.02             0.00             no!"
      ]
     },
     "execution_count": 42,
     "metadata": {},
     "output_type": "execute_result"
    }
   ],
   "source": [
    "#выведем сводную таблицу с критериями по всем моделям, отсортируем по метрике RMSE\n",
    "\n",
    "models = pd.concat([lr,lasso,ridge,dtr,lgb],sort=False,axis=0)\n",
    "models['rmse_acceptable'] = models['rmse_cv'].apply(lambda x: 'no!' if x>=2500 else 'yes')\n",
    "models.sort_values(by='rmse_cv')"
   ]
  },
  {
   "cell_type": "markdown",
   "metadata": {},
   "source": [
    " - При проведении кросс-валидации лучшее значение метрики RMSE показала модель бустинга LGBMRegressor:RMSE=1621. Также достаточную метрику показала модель дерева решений: RMSE=1983\n",
    " - Линейные модели не подходят по значению метрики: RMSE=2834 - их отсекаем и далее не анализируем.\n",
    " - По времени обучения у выбранных моделей, наоборот, аутсайдером является модель бустинга: время обучения дерева решений составляет милисекунды, в то время как у бустинга более 9 секунд.\n",
    "\n",
    "Т.о., необходимо решить будем ли мы пользоваться бустингом с самой лучшей метрикой качества, но долгим по сравнению с деревом решений временем обучения и предсказания, либо выберем более быструю модель дерево решения с менее точной,но тем не менее приемлемой метрикой качества модели.\n",
    "\n",
    "Метрика RMSE бустинга точнее по отношению к дереву решения на 17%, что является достаточно существенным. При этом время обучения отличается в десятки раз, что при большом кол-ве данных может также быть критичным. Несмотря, на казалось бы большую разницу во времени обучения и предсказания, стоит отметить, что обучатся модель будет не постоянно, время предсказания не является настолько уже критично большим - оно выглядит таким на фоне выбранных моделей.\n",
    "\n",
    "Поэтому, по совокупности фактов: если в большей степени важна точность модели - лучше выбрать модель бустинга LGBMRegressor, если    на вход будет подаваться очень  большой объем данных (в разы больше объемов нашей выборки) и при этом критично важно сократить затрачиваемое моделью время на получение результата - то лучше воспользоваться моделью дерева решений.\n",
    "\n",
    "Посчитаем метрику обоих моделей на тестовой выборке"
   ]
  },
  {
   "cell_type": "code",
   "execution_count": 43,
   "metadata": {},
   "outputs": [
    {
     "name": "stdout",
     "output_type": "stream",
     "text": [
      "RMSE для  модели бустинга на тесте :  1618\n",
      "RMSE для дерева решений на тесте :  1968\n"
     ]
    }
   ],
   "source": [
    "pred_lgb = random_lgb.best_estimator_.predict(X_boost_test)\n",
    "pred_dtr = random_dtr.best_estimator_.predict(X_test)\n",
    "\n",
    "print('RMSE для  модели бустинга на тесте : ',round(mean_squared_error(y_boost_test,pred_lgb) ** 0.5,))\n",
    "print('RMSE для дерева решений на тесте : ',round(mean_squared_error(y_test,pred_dtr) ** 0.5,))"
   ]
  },
  {
   "cell_type": "markdown",
   "metadata": {},
   "source": [
    "Видим, что и на тестовой выборке модель бустинга показала лучшее значение метрики. Моделью дерева решений стоит пользоваться только в случае, если крайне важным явлется сокращение затрачиваемого моделью времени на обучение/предсказание."
   ]
  },
  {
   "cell_type": "markdown",
   "metadata": {},
   "source": [
    "## Вывод"
   ]
  },
  {
   "cell_type": "markdown",
   "metadata": {},
   "source": [
    "Сервис по продаже автомобилей с пробегом «Не бит, не крашен» разрабатывает приложение для привлечения новых клиентов. В нём можно быстро узнать рыночную стоимость своего автомобиля. В нашем распоряжении исторические данные: технические характеристики, комплектации и цены автомобилей. В связи с этим в рамках проекта было построено несколько моделей для определения стоимости, после чего данные модели оценивались по следующим критерям заказчика:\n",
    " - качество предсказания(значение метрики RMSE должно быть меньше 2500);\n",
    " - скорость предсказания;\n",
    " - время обучения.\n",
    "\n",
    "Перед построением моделей проведена предобработка данных:\n",
    "   - Входные данные были представлены 16 столбцами и 354369 строками.\n",
    "   - Отобраны признаки, необходимые для построения моделей.\n",
    "   - Типы данных соответствуют описанию,\n",
    "   - Пропущенные значения, выбросы, а также неправдоподобные значения в признаках по возможности заполнены на основе имеющейся информации. Остальные объекты удалены - после чего осталось 10 столбцов и 306633 строк.\n",
    "   - После удаления неинформативных столбцов, обработки пропусков и аномалий появилось существенное кол-во полных дубликатов, после удаления которых осталось 263458 строк или 74% строк от исходных данных.\n",
    "   - Данные разделены на тестовую и обучающую выборки в соотношении 1:4, признаки закодированы и масштабированы.\n",
    "\n",
    "Обучено 3 линейных модели, дерево решений и модель бустинга LGBMRegressor.\n",
    "   - для каждой из моделей подбирались разные гиперпараметры, для которых метрика MSE, а соответственно RMSE, покажет наилучший результат. \n",
    "\n",
    "Далее проведен анализ по критериям заказчика:\n",
    " - наихудшую метрику при кросс-валидации показали линейные модели (RMSE - 2834), приемлемую - дерево решений(RMSE - 1983), самую лучшую - бустинг (значение метрики 1621).\n",
    " - Линейные модели не подходят по значению метрики: RMSE=2834,\n",
    " - По времени обучения у выбранных моделей, наоборот, аутсайдером является модель бустинга: время обучения дерева решений составляет милисекунды, в то время как у бустинга более 9 секунд.\n",
    "\n",
    "Метрика RMSE бустинга точнее по отношению к дереву решения на 17%, что является достаточно существенным. При этом время обучения отличается в десятки раз, что при большом кол-ве данных может также быть критичным. Несмотря, на казалось бы большую разницу во времени обучения и предсказания, стоит отметить, что обучатся модель будет не постоянно, время предсказания не является настолько уже критично большим - оно выглядит таким на фоне выбранных моделей.\n",
    "\n",
    "Поэтому, по совокупности фактов,исходя из требований заказчика для определения рыночной стоимости авто рекомендуем: \n",
    " - если **в большей степени важна точность модели** - использовать разработанную **модель бустинга LGBMRegressor**, \n",
    " - если  **на вход будет подаваться очень  большой объем данных (в десятки разы больше объемов нашей выборки) и при этом принципиально сократить время, затрачиваемое моделью,** - то лучше воспользоваться **моделью дерева решений**."
   ]
  },
  {
   "cell_type": "code",
   "execution_count": null,
   "metadata": {},
   "outputs": [],
   "source": []
  }
 ],
 "metadata": {
  "ExecuteTimeLog": [
   {
    "duration": 26916,
    "start_time": "2024-05-06T17:20:54.474Z"
   },
   {
    "duration": 25,
    "start_time": "2024-05-06T17:21:29.864Z"
   },
   {
    "duration": 2874,
    "start_time": "2024-05-06T17:22:34.993Z"
   },
   {
    "duration": 27091,
    "start_time": "2024-05-11T07:30:52.242Z"
   },
   {
    "duration": 2022,
    "start_time": "2024-05-11T07:31:19.335Z"
   },
   {
    "duration": 701,
    "start_time": "2024-05-11T07:31:24.168Z"
   },
   {
    "duration": 724,
    "start_time": "2024-05-11T07:31:40.919Z"
   },
   {
    "duration": 683,
    "start_time": "2024-05-11T07:31:44.548Z"
   },
   {
    "duration": 159,
    "start_time": "2024-05-11T10:06:53.194Z"
   },
   {
    "duration": 25394,
    "start_time": "2024-05-11T10:09:49.187Z"
   },
   {
    "duration": 10,
    "start_time": "2024-05-11T10:10:17.912Z"
   },
   {
    "duration": 1986,
    "start_time": "2024-05-11T10:10:51.168Z"
   },
   {
    "duration": 2926,
    "start_time": "2024-05-11T10:11:19.902Z"
   },
   {
    "duration": 116861,
    "start_time": "2024-05-11T10:13:21.449Z"
   },
   {
    "duration": 29,
    "start_time": "2024-05-11T10:15:18.313Z"
   },
   {
    "duration": 1422,
    "start_time": "2024-05-16T11:11:08.868Z"
   },
   {
    "duration": 208,
    "start_time": "2024-05-16T11:11:25.154Z"
   },
   {
    "duration": 33,
    "start_time": "2024-05-16T11:11:40.614Z"
   },
   {
    "duration": 28225,
    "start_time": "2024-05-16T11:13:19.866Z"
   },
   {
    "duration": 275,
    "start_time": "2024-05-16T11:13:48.094Z"
   },
   {
    "duration": 115,
    "start_time": "2024-05-16T11:15:45.039Z"
   },
   {
    "duration": 5093,
    "start_time": "2024-05-16T11:16:35.113Z"
   },
   {
    "duration": 19,
    "start_time": "2024-05-16T11:16:45.570Z"
   },
   {
    "duration": 15,
    "start_time": "2024-05-16T11:17:17.060Z"
   },
   {
    "duration": 14,
    "start_time": "2024-05-16T11:18:07.987Z"
   },
   {
    "duration": 5138,
    "start_time": "2024-05-16T11:18:59.305Z"
   },
   {
    "duration": 1562,
    "start_time": "2024-05-16T11:19:04.445Z"
   },
   {
    "duration": 1143,
    "start_time": "2024-05-16T11:19:06.009Z"
   },
   {
    "duration": 151,
    "start_time": "2024-05-16T11:26:18.502Z"
   },
   {
    "duration": 518,
    "start_time": "2024-05-16T11:32:18.495Z"
   },
   {
    "duration": 92,
    "start_time": "2024-05-16T11:36:32.972Z"
   },
   {
    "duration": 581,
    "start_time": "2024-05-16T12:40:37.977Z"
   },
   {
    "duration": 358,
    "start_time": "2024-05-16T12:42:43.352Z"
   },
   {
    "duration": 345,
    "start_time": "2024-05-16T12:43:23.778Z"
   },
   {
    "duration": 49,
    "start_time": "2024-05-16T13:06:52.364Z"
   },
   {
    "duration": 2417,
    "start_time": "2024-05-16T13:09:08.632Z"
   },
   {
    "duration": 171,
    "start_time": "2024-05-16T13:10:10.381Z"
   },
   {
    "duration": 2380,
    "start_time": "2024-05-16T13:10:42.992Z"
   },
   {
    "duration": 203,
    "start_time": "2024-05-16T13:11:56.174Z"
   },
   {
    "duration": 160,
    "start_time": "2024-05-16T13:12:38.211Z"
   },
   {
    "duration": 16485,
    "start_time": "2024-05-16T13:14:16.207Z"
   },
   {
    "duration": 240,
    "start_time": "2024-05-16T13:22:47.492Z"
   },
   {
    "duration": 466,
    "start_time": "2024-05-16T13:24:31.407Z"
   },
   {
    "duration": 171,
    "start_time": "2024-05-16T13:25:19.341Z"
   },
   {
    "duration": 161,
    "start_time": "2024-05-16T13:29:18.435Z"
   },
   {
    "duration": 70,
    "start_time": "2024-05-16T13:29:33.088Z"
   },
   {
    "duration": 183,
    "start_time": "2024-05-16T13:29:44.862Z"
   },
   {
    "duration": 201,
    "start_time": "2024-05-16T13:30:24.825Z"
   },
   {
    "duration": 167,
    "start_time": "2024-05-16T13:31:26.012Z"
   },
   {
    "duration": 162,
    "start_time": "2024-05-16T13:34:30.430Z"
   },
   {
    "duration": 152,
    "start_time": "2024-05-16T13:34:40.435Z"
   },
   {
    "duration": 164,
    "start_time": "2024-05-16T13:35:17.954Z"
   },
   {
    "duration": 175,
    "start_time": "2024-05-16T13:35:33.320Z"
   },
   {
    "duration": 164,
    "start_time": "2024-05-16T13:35:51.558Z"
   },
   {
    "duration": 183,
    "start_time": "2024-05-16T13:36:26.862Z"
   },
   {
    "duration": 171,
    "start_time": "2024-05-16T13:37:09.466Z"
   },
   {
    "duration": 136,
    "start_time": "2024-05-16T13:37:36.830Z"
   },
   {
    "duration": 66,
    "start_time": "2024-05-16T14:11:46.646Z"
   },
   {
    "duration": 59,
    "start_time": "2024-05-16T14:12:05.531Z"
   },
   {
    "duration": 57,
    "start_time": "2024-05-16T14:12:31.863Z"
   },
   {
    "duration": 75,
    "start_time": "2024-05-16T14:12:50.049Z"
   },
   {
    "duration": 342,
    "start_time": "2024-05-16T14:12:56.842Z"
   },
   {
    "duration": 83,
    "start_time": "2024-05-16T14:15:28.503Z"
   },
   {
    "duration": 17,
    "start_time": "2024-05-16T14:15:46.326Z"
   },
   {
    "duration": 13,
    "start_time": "2024-05-16T14:16:22.649Z"
   },
   {
    "duration": 383,
    "start_time": "2024-05-16T14:16:59.986Z"
   },
   {
    "duration": 3936,
    "start_time": "2024-05-16T14:17:12.265Z"
   },
   {
    "duration": 819,
    "start_time": "2024-05-16T14:18:06.673Z"
   },
   {
    "duration": 136,
    "start_time": "2024-05-16T14:18:10.197Z"
   },
   {
    "duration": 408,
    "start_time": "2024-05-16T14:18:13.727Z"
   },
   {
    "duration": 82,
    "start_time": "2024-05-16T14:18:16.131Z"
   },
   {
    "duration": 299,
    "start_time": "2024-05-16T14:18:26.649Z"
   },
   {
    "duration": 133,
    "start_time": "2024-05-16T14:18:35.085Z"
   },
   {
    "duration": 39,
    "start_time": "2024-05-16T14:18:41.423Z"
   },
   {
    "duration": 3758,
    "start_time": "2024-05-16T14:18:52.946Z"
   },
   {
    "duration": 1333,
    "start_time": "2024-05-17T08:34:09.036Z"
   },
   {
    "duration": 27301,
    "start_time": "2024-05-17T08:34:41.557Z"
   },
   {
    "duration": 36,
    "start_time": "2024-05-17T08:35:52.453Z"
   },
   {
    "duration": 917,
    "start_time": "2024-05-17T08:35:54.777Z"
   },
   {
    "duration": 103,
    "start_time": "2024-05-17T08:36:01.508Z"
   },
   {
    "duration": 349,
    "start_time": "2024-05-17T08:36:05.156Z"
   },
   {
    "duration": 76,
    "start_time": "2024-05-17T08:36:09.417Z"
   },
   {
    "duration": 314,
    "start_time": "2024-05-17T08:36:39.386Z"
   },
   {
    "duration": 64,
    "start_time": "2024-05-17T08:37:37.189Z"
   },
   {
    "duration": 293,
    "start_time": "2024-05-17T08:39:29.703Z"
   },
   {
    "duration": 179,
    "start_time": "2024-05-17T08:51:34.295Z"
   },
   {
    "duration": 101,
    "start_time": "2024-05-17T08:51:43.365Z"
   },
   {
    "duration": 123,
    "start_time": "2024-05-17T08:52:04.243Z"
   },
   {
    "duration": 415,
    "start_time": "2024-05-17T08:52:16.150Z"
   },
   {
    "duration": 771,
    "start_time": "2024-05-17T08:52:44.288Z"
   },
   {
    "duration": 347,
    "start_time": "2024-05-17T08:52:52.029Z"
   },
   {
    "duration": 336,
    "start_time": "2024-05-17T08:53:20.667Z"
   },
   {
    "duration": 486,
    "start_time": "2024-05-17T08:53:40.249Z"
   },
   {
    "duration": 370,
    "start_time": "2024-05-17T08:55:14.044Z"
   },
   {
    "duration": 2736,
    "start_time": "2024-05-17T08:55:21.144Z"
   },
   {
    "duration": 11,
    "start_time": "2024-05-17T09:09:05.715Z"
   },
   {
    "duration": 10,
    "start_time": "2024-05-17T09:09:12.878Z"
   },
   {
    "duration": 33,
    "start_time": "2024-05-17T09:18:15.106Z"
   },
   {
    "duration": 31,
    "start_time": "2024-05-17T09:18:51.674Z"
   },
   {
    "duration": 115,
    "start_time": "2024-05-17T09:19:41.791Z"
   },
   {
    "duration": 114,
    "start_time": "2024-05-17T09:20:44.441Z"
   },
   {
    "duration": 56,
    "start_time": "2024-05-17T09:21:02.771Z"
   },
   {
    "duration": 185,
    "start_time": "2024-05-17T09:21:09.669Z"
   },
   {
    "duration": 116,
    "start_time": "2024-05-17T09:22:23.050Z"
   },
   {
    "duration": 59,
    "start_time": "2024-05-17T09:26:22.734Z"
   },
   {
    "duration": 75,
    "start_time": "2024-05-17T09:26:30.264Z"
   },
   {
    "duration": 78,
    "start_time": "2024-05-17T09:27:09.085Z"
   },
   {
    "duration": 84,
    "start_time": "2024-05-17T09:28:11.800Z"
   },
   {
    "duration": 82,
    "start_time": "2024-05-17T09:28:39.324Z"
   },
   {
    "duration": 133,
    "start_time": "2024-05-17T09:28:55.891Z"
   },
   {
    "duration": 667,
    "start_time": "2024-05-17T09:29:06.538Z"
   },
   {
    "duration": 109,
    "start_time": "2024-05-17T09:29:18.382Z"
   },
   {
    "duration": 447,
    "start_time": "2024-05-17T09:29:26.131Z"
   },
   {
    "duration": 364,
    "start_time": "2024-05-17T09:29:29.296Z"
   },
   {
    "duration": 11,
    "start_time": "2024-05-17T09:29:35.121Z"
   },
   {
    "duration": 221,
    "start_time": "2024-05-17T09:29:46.462Z"
   },
   {
    "duration": 115,
    "start_time": "2024-05-17T09:30:23.848Z"
   },
   {
    "duration": 116,
    "start_time": "2024-05-17T09:30:43.216Z"
   },
   {
    "duration": 478,
    "start_time": "2024-05-17T09:31:21.882Z"
   },
   {
    "duration": 24,
    "start_time": "2024-05-17T09:39:10.808Z"
   },
   {
    "duration": 31,
    "start_time": "2024-05-17T09:39:59.079Z"
   },
   {
    "duration": 80,
    "start_time": "2024-05-17T09:42:45.486Z"
   },
   {
    "duration": 22,
    "start_time": "2024-05-17T09:43:01.974Z"
   },
   {
    "duration": 25,
    "start_time": "2024-05-17T09:43:25.900Z"
   },
   {
    "duration": 24,
    "start_time": "2024-05-17T09:43:30.195Z"
   },
   {
    "duration": 23,
    "start_time": "2024-05-17T09:43:40.054Z"
   },
   {
    "duration": 24,
    "start_time": "2024-05-17T09:43:44.176Z"
   },
   {
    "duration": 27,
    "start_time": "2024-05-17T09:43:56.761Z"
   },
   {
    "duration": 27,
    "start_time": "2024-05-17T09:44:07.756Z"
   },
   {
    "duration": 71,
    "start_time": "2024-05-17T09:52:09.942Z"
   },
   {
    "duration": 67,
    "start_time": "2024-05-17T09:52:31.672Z"
   },
   {
    "duration": 2454,
    "start_time": "2024-05-17T09:59:42.167Z"
   },
   {
    "duration": 24,
    "start_time": "2024-05-17T10:03:40.835Z"
   },
   {
    "duration": 2049,
    "start_time": "2024-05-17T10:03:53.107Z"
   },
   {
    "duration": 10,
    "start_time": "2024-05-17T10:06:01.597Z"
   },
   {
    "duration": 10,
    "start_time": "2024-05-17T10:06:53.753Z"
   },
   {
    "duration": 11,
    "start_time": "2024-05-17T10:07:15.225Z"
   },
   {
    "duration": 297,
    "start_time": "2024-05-17T10:08:09.832Z"
   },
   {
    "duration": 74,
    "start_time": "2024-05-17T10:08:53.337Z"
   },
   {
    "duration": 75,
    "start_time": "2024-05-17T10:09:35.438Z"
   },
   {
    "duration": 71,
    "start_time": "2024-05-17T10:09:42.343Z"
   },
   {
    "duration": 2188,
    "start_time": "2024-05-17T10:10:34.938Z"
   },
   {
    "duration": 61,
    "start_time": "2024-05-17T10:11:30.947Z"
   },
   {
    "duration": 1196,
    "start_time": "2024-05-17T10:30:50.982Z"
   },
   {
    "duration": 452,
    "start_time": "2024-05-17T10:32:34.797Z"
   },
   {
    "duration": 432,
    "start_time": "2024-05-17T10:34:27.743Z"
   },
   {
    "duration": 31,
    "start_time": "2024-05-17T10:36:35.216Z"
   },
   {
    "duration": 1213,
    "start_time": "2024-05-17T10:37:31.272Z"
   },
   {
    "duration": 667,
    "start_time": "2024-05-17T10:39:25.118Z"
   },
   {
    "duration": 96,
    "start_time": "2024-05-17T10:39:30.311Z"
   },
   {
    "duration": 311,
    "start_time": "2024-05-17T10:39:34.993Z"
   },
   {
    "duration": 93,
    "start_time": "2024-05-17T10:39:40.880Z"
   },
   {
    "duration": 435,
    "start_time": "2024-05-17T10:40:11.805Z"
   },
   {
    "duration": 344,
    "start_time": "2024-05-17T10:40:15.640Z"
   },
   {
    "duration": 31,
    "start_time": "2024-05-17T10:40:22.056Z"
   },
   {
    "duration": 199,
    "start_time": "2024-05-17T10:40:26.697Z"
   },
   {
    "duration": 490,
    "start_time": "2024-05-17T10:40:33.833Z"
   },
   {
    "duration": 66,
    "start_time": "2024-05-17T10:40:45.182Z"
   },
   {
    "duration": 67,
    "start_time": "2024-05-17T10:41:14.604Z"
   },
   {
    "duration": 67,
    "start_time": "2024-05-17T10:41:21.693Z"
   },
   {
    "duration": 2086,
    "start_time": "2024-05-17T10:41:29.000Z"
   },
   {
    "duration": 60,
    "start_time": "2024-05-17T10:41:45.160Z"
   },
   {
    "duration": 34,
    "start_time": "2024-05-17T10:42:24.472Z"
   },
   {
    "duration": 1235,
    "start_time": "2024-05-17T10:42:31.944Z"
   },
   {
    "duration": 25,
    "start_time": "2024-05-17T10:44:13.993Z"
   },
   {
    "duration": 7,
    "start_time": "2024-05-17T10:45:57.057Z"
   },
   {
    "duration": 477,
    "start_time": "2024-05-17T10:46:16.653Z"
   },
   {
    "duration": 34,
    "start_time": "2024-05-17T10:48:06.839Z"
   },
   {
    "duration": 9,
    "start_time": "2024-05-17T10:51:08.001Z"
   },
   {
    "duration": 50,
    "start_time": "2024-05-17T10:51:21.191Z"
   },
   {
    "duration": 180,
    "start_time": "2024-05-17T10:51:43.385Z"
   },
   {
    "duration": 27,
    "start_time": "2024-05-17T10:51:52.023Z"
   },
   {
    "duration": 606,
    "start_time": "2024-05-17T10:52:12.869Z"
   },
   {
    "duration": 397,
    "start_time": "2024-05-17T10:52:24.470Z"
   },
   {
    "duration": 35,
    "start_time": "2024-05-17T10:52:31.553Z"
   },
   {
    "duration": 204,
    "start_time": "2024-05-17T10:52:33.759Z"
   },
   {
    "duration": 70,
    "start_time": "2024-05-17T10:52:38.320Z"
   },
   {
    "duration": 62,
    "start_time": "2024-05-17T10:52:44.394Z"
   },
   {
    "duration": 74,
    "start_time": "2024-05-17T10:52:49.766Z"
   },
   {
    "duration": 28,
    "start_time": "2024-05-17T10:53:06.789Z"
   },
   {
    "duration": 57,
    "start_time": "2024-05-17T10:53:40.083Z"
   },
   {
    "duration": 1081,
    "start_time": "2024-05-17T10:53:43.562Z"
   },
   {
    "duration": 70,
    "start_time": "2024-05-17T10:55:04.077Z"
   },
   {
    "duration": 32449,
    "start_time": "2024-05-17T15:11:33.866Z"
   },
   {
    "duration": 1960,
    "start_time": "2024-05-17T15:12:06.318Z"
   },
   {
    "duration": 1311,
    "start_time": "2024-05-17T15:12:08.280Z"
   },
   {
    "duration": 156,
    "start_time": "2024-05-17T15:12:09.593Z"
   },
   {
    "duration": 571,
    "start_time": "2024-05-17T15:12:09.751Z"
   },
   {
    "duration": 92,
    "start_time": "2024-05-17T15:12:42.481Z"
   },
   {
    "duration": 177,
    "start_time": "2024-05-17T15:16:45.457Z"
   },
   {
    "duration": 695,
    "start_time": "2024-05-17T15:24:52.957Z"
   },
   {
    "duration": 558,
    "start_time": "2024-05-17T15:24:55.919Z"
   },
   {
    "duration": 4238,
    "start_time": "2024-05-17T15:24:58.533Z"
   },
   {
    "duration": 36,
    "start_time": "2024-05-17T15:25:20.205Z"
   },
   {
    "duration": 277,
    "start_time": "2024-05-17T15:25:26.676Z"
   },
   {
    "duration": 118,
    "start_time": "2024-05-17T15:25:34.810Z"
   },
   {
    "duration": 998,
    "start_time": "2024-05-17T15:25:57.388Z"
   },
   {
    "duration": 671,
    "start_time": "2024-05-17T15:26:09.603Z"
   },
   {
    "duration": 575,
    "start_time": "2024-05-17T15:26:11.581Z"
   },
   {
    "duration": 39,
    "start_time": "2024-05-17T15:26:16.869Z"
   },
   {
    "duration": 271,
    "start_time": "2024-05-17T15:26:20.620Z"
   },
   {
    "duration": 866,
    "start_time": "2024-05-17T15:26:26.124Z"
   },
   {
    "duration": 91,
    "start_time": "2024-05-17T15:27:59.062Z"
   },
   {
    "duration": 3334,
    "start_time": "2024-05-17T15:28:10.001Z"
   },
   {
    "duration": 123,
    "start_time": "2024-05-17T15:28:58.641Z"
   },
   {
    "duration": 76,
    "start_time": "2024-05-17T15:30:21.843Z"
   },
   {
    "duration": 1374,
    "start_time": "2024-05-17T15:30:24.168Z"
   },
   {
    "duration": 16378,
    "start_time": "2024-05-17T15:32:11.894Z"
   },
   {
    "duration": 1773,
    "start_time": "2024-05-17T15:32:28.275Z"
   },
   {
    "duration": 967,
    "start_time": "2024-05-17T15:32:30.050Z"
   },
   {
    "duration": 162,
    "start_time": "2024-05-17T15:32:31.019Z"
   },
   {
    "duration": 772,
    "start_time": "2024-05-17T15:32:31.184Z"
   },
   {
    "duration": 107,
    "start_time": "2024-05-17T15:32:31.958Z"
   },
   {
    "duration": 625,
    "start_time": "2024-05-17T15:32:32.066Z"
   },
   {
    "duration": 159,
    "start_time": "2024-05-17T15:32:32.692Z"
   },
   {
    "duration": 850,
    "start_time": "2024-05-17T15:32:32.853Z"
   },
   {
    "duration": 563,
    "start_time": "2024-05-17T15:32:33.706Z"
   },
   {
    "duration": 4160,
    "start_time": "2024-05-17T15:32:34.270Z"
   },
   {
    "duration": 33,
    "start_time": "2024-05-17T15:32:38.432Z"
   },
   {
    "duration": 317,
    "start_time": "2024-05-17T15:32:38.481Z"
   },
   {
    "duration": 798,
    "start_time": "2024-05-17T15:32:38.802Z"
   },
   {
    "duration": 101,
    "start_time": "2024-05-17T15:32:39.602Z"
   },
   {
    "duration": 3340,
    "start_time": "2024-05-17T15:32:39.705Z"
   },
   {
    "duration": 99,
    "start_time": "2024-05-17T15:32:43.047Z"
   },
   {
    "duration": 74,
    "start_time": "2024-05-17T15:32:43.148Z"
   },
   {
    "duration": 289,
    "start_time": "2024-05-17T15:32:43.223Z"
   },
   {
    "duration": 57,
    "start_time": "2024-05-17T15:32:43.513Z"
   },
   {
    "duration": 324,
    "start_time": "2024-05-17T15:34:42.603Z"
   },
   {
    "duration": 279,
    "start_time": "2024-05-17T15:34:59.216Z"
   },
   {
    "duration": 289,
    "start_time": "2024-05-17T15:35:10.611Z"
   },
   {
    "duration": 277,
    "start_time": "2024-05-17T15:36:42.654Z"
   },
   {
    "duration": 279,
    "start_time": "2024-05-17T15:37:53.791Z"
   },
   {
    "duration": 304,
    "start_time": "2024-05-17T15:38:26.060Z"
   },
   {
    "duration": 16752,
    "start_time": "2024-05-17T15:40:14.715Z"
   },
   {
    "duration": 1845,
    "start_time": "2024-05-17T15:40:31.469Z"
   },
   {
    "duration": 1103,
    "start_time": "2024-05-17T15:40:33.316Z"
   },
   {
    "duration": 187,
    "start_time": "2024-05-17T15:40:34.422Z"
   },
   {
    "duration": 570,
    "start_time": "2024-05-17T15:40:34.611Z"
   },
   {
    "duration": 119,
    "start_time": "2024-05-17T15:40:35.183Z"
   },
   {
    "duration": 404,
    "start_time": "2024-05-17T15:40:35.304Z"
   },
   {
    "duration": 174,
    "start_time": "2024-05-17T15:40:35.710Z"
   },
   {
    "duration": 695,
    "start_time": "2024-05-17T15:40:35.886Z"
   },
   {
    "duration": 563,
    "start_time": "2024-05-17T15:40:36.583Z"
   },
   {
    "duration": 4229,
    "start_time": "2024-05-17T15:40:37.148Z"
   },
   {
    "duration": 33,
    "start_time": "2024-05-17T15:40:41.380Z"
   },
   {
    "duration": 306,
    "start_time": "2024-05-17T15:40:41.414Z"
   },
   {
    "duration": 875,
    "start_time": "2024-05-17T15:40:41.721Z"
   },
   {
    "duration": 108,
    "start_time": "2024-05-17T15:40:42.598Z"
   },
   {
    "duration": 3337,
    "start_time": "2024-05-17T15:40:42.708Z"
   },
   {
    "duration": 105,
    "start_time": "2024-05-17T15:40:46.047Z"
   },
   {
    "duration": 79,
    "start_time": "2024-05-17T15:40:46.154Z"
   },
   {
    "duration": 914,
    "start_time": "2024-05-17T15:40:46.235Z"
   },
   {
    "duration": 861,
    "start_time": "2024-05-17T15:41:34.328Z"
   },
   {
    "duration": 123,
    "start_time": "2024-05-17T15:42:51.978Z"
   },
   {
    "duration": 190,
    "start_time": "2024-05-17T15:42:57.698Z"
   },
   {
    "duration": 188,
    "start_time": "2024-05-17T15:43:30.622Z"
   },
   {
    "duration": 27,
    "start_time": "2024-05-17T15:45:16.543Z"
   },
   {
    "duration": 16508,
    "start_time": "2024-05-17T15:46:34.280Z"
   },
   {
    "duration": 1798,
    "start_time": "2024-05-17T15:46:50.790Z"
   },
   {
    "duration": 968,
    "start_time": "2024-05-17T15:46:52.589Z"
   },
   {
    "duration": 163,
    "start_time": "2024-05-17T15:46:53.559Z"
   },
   {
    "duration": 520,
    "start_time": "2024-05-17T15:46:53.724Z"
   },
   {
    "duration": 110,
    "start_time": "2024-05-17T15:46:54.246Z"
   },
   {
    "duration": 396,
    "start_time": "2024-05-17T15:46:54.358Z"
   },
   {
    "duration": 166,
    "start_time": "2024-05-17T15:46:54.756Z"
   },
   {
    "duration": 648,
    "start_time": "2024-05-17T15:46:54.923Z"
   },
   {
    "duration": 557,
    "start_time": "2024-05-17T15:46:55.574Z"
   },
   {
    "duration": 4050,
    "start_time": "2024-05-17T15:46:56.132Z"
   },
   {
    "duration": 33,
    "start_time": "2024-05-17T15:47:00.184Z"
   },
   {
    "duration": 374,
    "start_time": "2024-05-17T15:47:00.218Z"
   },
   {
    "duration": 788,
    "start_time": "2024-05-17T15:47:00.594Z"
   },
   {
    "duration": 104,
    "start_time": "2024-05-17T15:47:01.384Z"
   },
   {
    "duration": 3394,
    "start_time": "2024-05-17T15:47:01.490Z"
   },
   {
    "duration": 105,
    "start_time": "2024-05-17T15:47:04.887Z"
   },
   {
    "duration": 61,
    "start_time": "2024-05-17T15:47:04.994Z"
   },
   {
    "duration": 888,
    "start_time": "2024-05-17T15:47:05.057Z"
   },
   {
    "duration": 182,
    "start_time": "2024-05-17T15:47:05.947Z"
   },
   {
    "duration": 22,
    "start_time": "2024-05-17T15:47:06.131Z"
   },
   {
    "duration": 196,
    "start_time": "2024-05-17T15:50:45.666Z"
   },
   {
    "duration": 338,
    "start_time": "2024-05-17T15:52:11.123Z"
   },
   {
    "duration": 343,
    "start_time": "2024-05-17T15:54:16.944Z"
   },
   {
    "duration": 607,
    "start_time": "2024-05-17T15:55:47.425Z"
   },
   {
    "duration": 53,
    "start_time": "2024-05-17T16:02:23.981Z"
   },
   {
    "duration": 8,
    "start_time": "2024-05-17T16:03:37.823Z"
   },
   {
    "duration": 9,
    "start_time": "2024-05-17T16:06:39.416Z"
   },
   {
    "duration": 6,
    "start_time": "2024-05-17T16:06:52.257Z"
   },
   {
    "duration": 16805,
    "start_time": "2024-05-17T16:07:28.038Z"
   },
   {
    "duration": 4539,
    "start_time": "2024-05-17T16:07:44.847Z"
   },
   {
    "duration": 1443,
    "start_time": "2024-05-17T16:07:49.388Z"
   },
   {
    "duration": 155,
    "start_time": "2024-05-17T16:07:50.833Z"
   },
   {
    "duration": 491,
    "start_time": "2024-05-17T16:07:50.990Z"
   },
   {
    "duration": 98,
    "start_time": "2024-05-17T16:07:51.483Z"
   },
   {
    "duration": 408,
    "start_time": "2024-05-17T16:07:51.583Z"
   },
   {
    "duration": 188,
    "start_time": "2024-05-17T16:07:51.993Z"
   },
   {
    "duration": 854,
    "start_time": "2024-05-17T16:07:52.183Z"
   },
   {
    "duration": 496,
    "start_time": "2024-05-17T16:07:53.040Z"
   },
   {
    "duration": 4245,
    "start_time": "2024-05-17T16:07:53.537Z"
   },
   {
    "duration": 34,
    "start_time": "2024-05-17T16:07:57.784Z"
   },
   {
    "duration": 285,
    "start_time": "2024-05-17T16:07:57.820Z"
   },
   {
    "duration": 1652,
    "start_time": "2024-05-17T16:07:58.107Z"
   },
   {
    "duration": 0,
    "start_time": "2024-05-17T16:07:59.761Z"
   },
   {
    "duration": 0,
    "start_time": "2024-05-17T16:07:59.763Z"
   },
   {
    "duration": 0,
    "start_time": "2024-05-17T16:07:59.765Z"
   },
   {
    "duration": 0,
    "start_time": "2024-05-17T16:07:59.766Z"
   },
   {
    "duration": 0,
    "start_time": "2024-05-17T16:07:59.767Z"
   },
   {
    "duration": 0,
    "start_time": "2024-05-17T16:07:59.769Z"
   },
   {
    "duration": 0,
    "start_time": "2024-05-17T16:07:59.770Z"
   },
   {
    "duration": 0,
    "start_time": "2024-05-17T16:07:59.772Z"
   },
   {
    "duration": 0,
    "start_time": "2024-05-17T16:07:59.773Z"
   },
   {
    "duration": 15,
    "start_time": "2024-05-17T16:10:13.250Z"
   },
   {
    "duration": 492,
    "start_time": "2024-05-17T16:10:28.339Z"
   },
   {
    "duration": 1328,
    "start_time": "2024-05-17T16:11:07.233Z"
   },
   {
    "duration": 26,
    "start_time": "2024-05-17T16:16:25.767Z"
   },
   {
    "duration": 18,
    "start_time": "2024-05-17T16:16:48.768Z"
   },
   {
    "duration": 47,
    "start_time": "2024-05-17T16:17:39.379Z"
   },
   {
    "duration": 32,
    "start_time": "2024-05-17T16:18:33.190Z"
   },
   {
    "duration": 792,
    "start_time": "2024-05-17T16:18:35.851Z"
   },
   {
    "duration": 94,
    "start_time": "2024-05-17T16:18:41.142Z"
   },
   {
    "duration": 4004,
    "start_time": "2024-05-17T16:18:45.528Z"
   },
   {
    "duration": 97,
    "start_time": "2024-05-17T16:18:53.442Z"
   },
   {
    "duration": 76,
    "start_time": "2024-05-17T16:20:33.198Z"
   },
   {
    "duration": 886,
    "start_time": "2024-05-17T16:20:39.844Z"
   },
   {
    "duration": 168,
    "start_time": "2024-05-17T16:20:44.728Z"
   },
   {
    "duration": 172,
    "start_time": "2024-05-17T16:20:50.646Z"
   },
   {
    "duration": 11249,
    "start_time": "2024-05-17T16:20:54.468Z"
   },
   {
    "duration": 20,
    "start_time": "2024-05-17T16:33:31.813Z"
   },
   {
    "duration": 14,
    "start_time": "2024-05-17T16:33:41.028Z"
   },
   {
    "duration": 8609,
    "start_time": "2024-05-17T16:33:49.138Z"
   },
   {
    "duration": 14,
    "start_time": "2024-05-17T16:36:27.993Z"
   },
   {
    "duration": 5744,
    "start_time": "2024-05-17T16:36:31.859Z"
   },
   {
    "duration": 101,
    "start_time": "2024-05-17T16:38:44.984Z"
   },
   {
    "duration": 125,
    "start_time": "2024-05-17T16:39:20.459Z"
   },
   {
    "duration": 16165,
    "start_time": "2024-05-17T16:58:08.598Z"
   },
   {
    "duration": 2329,
    "start_time": "2024-05-17T16:58:24.766Z"
   },
   {
    "duration": 994,
    "start_time": "2024-05-17T16:58:27.097Z"
   },
   {
    "duration": 152,
    "start_time": "2024-05-17T16:58:28.093Z"
   },
   {
    "duration": 502,
    "start_time": "2024-05-17T16:58:28.247Z"
   },
   {
    "duration": 92,
    "start_time": "2024-05-17T16:58:28.752Z"
   },
   {
    "duration": 425,
    "start_time": "2024-05-17T16:58:28.846Z"
   },
   {
    "duration": 152,
    "start_time": "2024-05-17T16:58:29.272Z"
   },
   {
    "duration": 650,
    "start_time": "2024-05-17T16:58:29.426Z"
   },
   {
    "duration": 571,
    "start_time": "2024-05-17T16:58:30.082Z"
   },
   {
    "duration": 4144,
    "start_time": "2024-05-17T16:58:30.655Z"
   },
   {
    "duration": 32,
    "start_time": "2024-05-17T16:58:34.800Z"
   },
   {
    "duration": 279,
    "start_time": "2024-05-17T16:58:34.834Z"
   },
   {
    "duration": 36,
    "start_time": "2024-05-17T16:58:35.114Z"
   },
   {
    "duration": 750,
    "start_time": "2024-05-17T16:58:35.152Z"
   },
   {
    "duration": 107,
    "start_time": "2024-05-17T16:58:35.905Z"
   },
   {
    "duration": 3918,
    "start_time": "2024-05-17T16:58:36.014Z"
   },
   {
    "duration": 99,
    "start_time": "2024-05-17T16:58:39.934Z"
   },
   {
    "duration": 78,
    "start_time": "2024-05-17T16:58:40.035Z"
   },
   {
    "duration": 965,
    "start_time": "2024-05-17T16:58:40.115Z"
   },
   {
    "duration": 196,
    "start_time": "2024-05-17T16:58:41.081Z"
   },
   {
    "duration": 196,
    "start_time": "2024-05-17T16:58:41.279Z"
   },
   {
    "duration": 11377,
    "start_time": "2024-05-17T16:58:41.477Z"
   },
   {
    "duration": 160,
    "start_time": "2024-05-17T16:58:52.855Z"
   },
   {
    "duration": 65,
    "start_time": "2024-05-17T17:03:40.845Z"
   },
   {
    "duration": 176,
    "start_time": "2024-05-17T17:03:55.481Z"
   },
   {
    "duration": 27,
    "start_time": "2024-05-17T17:04:42.262Z"
   },
   {
    "duration": 84,
    "start_time": "2024-05-17T17:04:48.408Z"
   },
   {
    "duration": 9046,
    "start_time": "2024-05-17T17:05:35.926Z"
   },
   {
    "duration": 16,
    "start_time": "2024-05-17T17:08:44.677Z"
   },
   {
    "duration": 79,
    "start_time": "2024-05-17T17:08:51.014Z"
   },
   {
    "duration": 84,
    "start_time": "2024-05-17T17:13:39.636Z"
   },
   {
    "duration": 23,
    "start_time": "2024-05-17T17:17:02.527Z"
   },
   {
    "duration": 23,
    "start_time": "2024-05-17T17:17:15.326Z"
   },
   {
    "duration": 15,
    "start_time": "2024-05-17T17:17:19.672Z"
   },
   {
    "duration": 118,
    "start_time": "2024-05-17T17:17:40.435Z"
   },
   {
    "duration": 126,
    "start_time": "2024-05-17T17:17:46.101Z"
   },
   {
    "duration": 75,
    "start_time": "2024-05-17T17:17:49.721Z"
   },
   {
    "duration": 4,
    "start_time": "2024-05-17T17:21:39.809Z"
   },
   {
    "duration": 444,
    "start_time": "2024-05-17T17:35:27.758Z"
   },
   {
    "duration": 71,
    "start_time": "2024-05-17T17:40:14.535Z"
   },
   {
    "duration": 3,
    "start_time": "2024-05-17T17:40:51.572Z"
   },
   {
    "duration": 18,
    "start_time": "2024-05-17T17:55:33.937Z"
   },
   {
    "duration": 117,
    "start_time": "2024-05-17T17:56:34.621Z"
   },
   {
    "duration": 37,
    "start_time": "2024-05-17T17:57:37.056Z"
   },
   {
    "duration": 50,
    "start_time": "2024-05-17T18:00:35.440Z"
   },
   {
    "duration": 39,
    "start_time": "2024-05-17T18:01:27.044Z"
   },
   {
    "duration": 44,
    "start_time": "2024-05-17T18:14:59.997Z"
   },
   {
    "duration": 15040,
    "start_time": "2024-05-17T18:45:13.994Z"
   },
   {
    "duration": 2154,
    "start_time": "2024-05-17T18:45:29.037Z"
   },
   {
    "duration": 914,
    "start_time": "2024-05-17T18:45:31.193Z"
   },
   {
    "duration": 147,
    "start_time": "2024-05-17T18:45:32.109Z"
   },
   {
    "duration": 538,
    "start_time": "2024-05-17T18:45:32.257Z"
   },
   {
    "duration": 94,
    "start_time": "2024-05-17T18:45:32.797Z"
   },
   {
    "duration": 368,
    "start_time": "2024-05-17T18:45:32.893Z"
   },
   {
    "duration": 143,
    "start_time": "2024-05-17T18:45:33.263Z"
   },
   {
    "duration": 582,
    "start_time": "2024-05-17T18:45:33.408Z"
   },
   {
    "duration": 528,
    "start_time": "2024-05-17T18:45:33.991Z"
   },
   {
    "duration": 3774,
    "start_time": "2024-05-17T18:45:34.520Z"
   },
   {
    "duration": 31,
    "start_time": "2024-05-17T18:45:38.295Z"
   },
   {
    "duration": 266,
    "start_time": "2024-05-17T18:45:38.327Z"
   },
   {
    "duration": 37,
    "start_time": "2024-05-17T18:45:38.596Z"
   },
   {
    "duration": 770,
    "start_time": "2024-05-17T18:45:38.635Z"
   },
   {
    "duration": 90,
    "start_time": "2024-05-17T18:45:39.406Z"
   },
   {
    "duration": 3774,
    "start_time": "2024-05-17T18:45:39.497Z"
   },
   {
    "duration": 85,
    "start_time": "2024-05-17T18:45:43.280Z"
   },
   {
    "duration": 83,
    "start_time": "2024-05-17T18:45:43.367Z"
   },
   {
    "duration": 856,
    "start_time": "2024-05-17T18:45:43.452Z"
   },
   {
    "duration": 154,
    "start_time": "2024-05-17T18:45:44.310Z"
   },
   {
    "duration": 166,
    "start_time": "2024-05-17T18:45:44.466Z"
   },
   {
    "duration": 148,
    "start_time": "2024-05-17T18:45:44.633Z"
   },
   {
    "duration": 0,
    "start_time": "2024-05-17T18:45:44.782Z"
   },
   {
    "duration": 0,
    "start_time": "2024-05-17T18:45:44.784Z"
   },
   {
    "duration": 0,
    "start_time": "2024-05-17T18:45:44.785Z"
   },
   {
    "duration": 0,
    "start_time": "2024-05-17T18:45:44.786Z"
   },
   {
    "duration": 0,
    "start_time": "2024-05-17T18:45:44.787Z"
   },
   {
    "duration": 0,
    "start_time": "2024-05-17T18:45:44.788Z"
   },
   {
    "duration": 6134,
    "start_time": "2024-05-17T18:45:59.796Z"
   },
   {
    "duration": 4,
    "start_time": "2024-05-17T18:54:39.896Z"
   },
   {
    "duration": 77,
    "start_time": "2024-05-17T18:57:51.651Z"
   },
   {
    "duration": 15269,
    "start_time": "2024-05-17T19:08:49.281Z"
   },
   {
    "duration": 2099,
    "start_time": "2024-05-17T19:09:04.552Z"
   },
   {
    "duration": 895,
    "start_time": "2024-05-17T19:09:06.652Z"
   },
   {
    "duration": 153,
    "start_time": "2024-05-17T19:09:07.549Z"
   },
   {
    "duration": 458,
    "start_time": "2024-05-17T19:09:07.705Z"
   },
   {
    "duration": 89,
    "start_time": "2024-05-17T19:09:08.164Z"
   },
   {
    "duration": 342,
    "start_time": "2024-05-17T19:09:08.254Z"
   },
   {
    "duration": 153,
    "start_time": "2024-05-17T19:09:08.598Z"
   },
   {
    "duration": 812,
    "start_time": "2024-05-17T19:09:08.753Z"
   },
   {
    "duration": 536,
    "start_time": "2024-05-17T19:09:09.566Z"
   },
   {
    "duration": 3941,
    "start_time": "2024-05-17T19:09:10.104Z"
   },
   {
    "duration": 38,
    "start_time": "2024-05-17T19:09:14.047Z"
   },
   {
    "duration": 361,
    "start_time": "2024-05-17T19:09:14.087Z"
   },
   {
    "duration": 42,
    "start_time": "2024-05-17T19:09:14.451Z"
   },
   {
    "duration": 708,
    "start_time": "2024-05-17T19:09:14.495Z"
   },
   {
    "duration": 94,
    "start_time": "2024-05-17T19:09:15.205Z"
   },
   {
    "duration": 3608,
    "start_time": "2024-05-17T19:09:15.301Z"
   },
   {
    "duration": 92,
    "start_time": "2024-05-17T19:09:18.911Z"
   },
   {
    "duration": 80,
    "start_time": "2024-05-17T19:09:19.004Z"
   },
   {
    "duration": 811,
    "start_time": "2024-05-17T19:09:19.086Z"
   },
   {
    "duration": 151,
    "start_time": "2024-05-17T19:09:19.899Z"
   },
   {
    "duration": 220,
    "start_time": "2024-05-17T19:09:20.052Z"
   },
   {
    "duration": 4,
    "start_time": "2024-05-17T19:09:20.279Z"
   },
   {
    "duration": 148,
    "start_time": "2024-05-17T19:09:20.284Z"
   },
   {
    "duration": 0,
    "start_time": "2024-05-17T19:09:20.433Z"
   },
   {
    "duration": 0,
    "start_time": "2024-05-17T19:09:20.434Z"
   },
   {
    "duration": 1,
    "start_time": "2024-05-17T19:09:20.435Z"
   },
   {
    "duration": 6059,
    "start_time": "2024-05-17T19:09:54.471Z"
   },
   {
    "duration": 76,
    "start_time": "2024-05-17T19:10:17.973Z"
   },
   {
    "duration": 43,
    "start_time": "2024-05-17T19:22:37.076Z"
   },
   {
    "duration": 72,
    "start_time": "2024-05-17T19:25:25.254Z"
   },
   {
    "duration": 57,
    "start_time": "2024-05-17T19:26:06.312Z"
   },
   {
    "duration": 18256,
    "start_time": "2024-05-17T20:11:25.917Z"
   },
   {
    "duration": 109,
    "start_time": "2024-05-17T20:12:21.651Z"
   },
   {
    "duration": 4,
    "start_time": "2024-05-17T20:22:58.423Z"
   },
   {
    "duration": 30,
    "start_time": "2024-05-17T20:26:01.239Z"
   },
   {
    "duration": 946,
    "start_time": "2024-05-17T20:26:18.956Z"
   },
   {
    "duration": 1041,
    "start_time": "2024-05-17T20:32:53.340Z"
   },
   {
    "duration": 11,
    "start_time": "2024-05-17T20:33:11.098Z"
   },
   {
    "duration": 1002,
    "start_time": "2024-05-17T20:33:52.801Z"
   },
   {
    "duration": 728,
    "start_time": "2024-05-17T20:35:30.715Z"
   },
   {
    "duration": 17720,
    "start_time": "2024-05-17T20:38:04.572Z"
   },
   {
    "duration": 2173,
    "start_time": "2024-05-17T20:38:22.295Z"
   },
   {
    "duration": 941,
    "start_time": "2024-05-17T20:38:24.469Z"
   },
   {
    "duration": 142,
    "start_time": "2024-05-17T20:38:25.412Z"
   },
   {
    "duration": 526,
    "start_time": "2024-05-17T20:38:25.556Z"
   },
   {
    "duration": 97,
    "start_time": "2024-05-17T20:38:26.084Z"
   },
   {
    "duration": 360,
    "start_time": "2024-05-17T20:38:26.182Z"
   },
   {
    "duration": 147,
    "start_time": "2024-05-17T20:38:26.543Z"
   },
   {
    "duration": 731,
    "start_time": "2024-05-17T20:38:26.691Z"
   },
   {
    "duration": 547,
    "start_time": "2024-05-17T20:38:27.425Z"
   },
   {
    "duration": 3910,
    "start_time": "2024-05-17T20:38:27.974Z"
   },
   {
    "duration": 30,
    "start_time": "2024-05-17T20:38:31.886Z"
   },
   {
    "duration": 333,
    "start_time": "2024-05-17T20:38:31.918Z"
   },
   {
    "duration": 44,
    "start_time": "2024-05-17T20:38:32.252Z"
   },
   {
    "duration": 759,
    "start_time": "2024-05-17T20:38:32.298Z"
   },
   {
    "duration": 83,
    "start_time": "2024-05-17T20:38:33.059Z"
   },
   {
    "duration": 3652,
    "start_time": "2024-05-17T20:38:33.143Z"
   },
   {
    "duration": 92,
    "start_time": "2024-05-17T20:38:36.797Z"
   },
   {
    "duration": 169,
    "start_time": "2024-05-17T20:38:36.891Z"
   },
   {
    "duration": 836,
    "start_time": "2024-05-17T20:38:37.062Z"
   },
   {
    "duration": 152,
    "start_time": "2024-05-17T20:38:37.900Z"
   },
   {
    "duration": 155,
    "start_time": "2024-05-17T20:38:38.054Z"
   },
   {
    "duration": 4,
    "start_time": "2024-05-17T20:38:38.211Z"
   },
   {
    "duration": 5848,
    "start_time": "2024-05-17T20:38:38.217Z"
   },
   {
    "duration": 82,
    "start_time": "2024-05-17T20:38:44.067Z"
   },
   {
    "duration": 148,
    "start_time": "2024-05-17T20:38:44.151Z"
   },
   {
    "duration": 0,
    "start_time": "2024-05-17T20:38:44.300Z"
   },
   {
    "duration": 0,
    "start_time": "2024-05-17T20:38:44.301Z"
   },
   {
    "duration": 0,
    "start_time": "2024-05-17T20:38:44.303Z"
   },
   {
    "duration": 860,
    "start_time": "2024-05-17T20:39:53.258Z"
   },
   {
    "duration": 22,
    "start_time": "2024-05-17T20:42:18.679Z"
   },
   {
    "duration": 64,
    "start_time": "2024-05-17T20:43:35.630Z"
   },
   {
    "duration": 148,
    "start_time": "2024-05-17T20:44:40.059Z"
   },
   {
    "duration": 68,
    "start_time": "2024-05-17T20:45:24.023Z"
   },
   {
    "duration": 76,
    "start_time": "2024-05-17T20:46:42.537Z"
   },
   {
    "duration": 95,
    "start_time": "2024-05-17T20:46:58.660Z"
   },
   {
    "duration": 77,
    "start_time": "2024-05-17T20:47:04.451Z"
   },
   {
    "duration": 76,
    "start_time": "2024-05-17T20:47:07.455Z"
   },
   {
    "duration": 78,
    "start_time": "2024-05-17T20:47:25.652Z"
   },
   {
    "duration": 74,
    "start_time": "2024-05-17T20:48:43.059Z"
   },
   {
    "duration": 17980,
    "start_time": "2024-05-17T20:49:22.875Z"
   },
   {
    "duration": 2214,
    "start_time": "2024-05-17T20:49:40.857Z"
   },
   {
    "duration": 931,
    "start_time": "2024-05-17T20:49:43.072Z"
   },
   {
    "duration": 158,
    "start_time": "2024-05-17T20:49:44.005Z"
   },
   {
    "duration": 504,
    "start_time": "2024-05-17T20:49:44.165Z"
   },
   {
    "duration": 93,
    "start_time": "2024-05-17T20:49:44.671Z"
   },
   {
    "duration": 430,
    "start_time": "2024-05-17T20:49:44.765Z"
   },
   {
    "duration": 142,
    "start_time": "2024-05-17T20:49:45.196Z"
   },
   {
    "duration": 784,
    "start_time": "2024-05-17T20:49:45.339Z"
   },
   {
    "duration": 511,
    "start_time": "2024-05-17T20:49:46.126Z"
   },
   {
    "duration": 3853,
    "start_time": "2024-05-17T20:49:46.639Z"
   },
   {
    "duration": 33,
    "start_time": "2024-05-17T20:49:50.493Z"
   },
   {
    "duration": 299,
    "start_time": "2024-05-17T20:49:50.528Z"
   },
   {
    "duration": 33,
    "start_time": "2024-05-17T20:49:50.829Z"
   },
   {
    "duration": 732,
    "start_time": "2024-05-17T20:49:50.864Z"
   },
   {
    "duration": 98,
    "start_time": "2024-05-17T20:49:51.598Z"
   },
   {
    "duration": 3670,
    "start_time": "2024-05-17T20:49:51.697Z"
   },
   {
    "duration": 93,
    "start_time": "2024-05-17T20:49:55.369Z"
   },
   {
    "duration": 74,
    "start_time": "2024-05-17T20:49:55.464Z"
   },
   {
    "duration": 837,
    "start_time": "2024-05-17T20:49:55.539Z"
   },
   {
    "duration": 148,
    "start_time": "2024-05-17T20:49:56.377Z"
   },
   {
    "duration": 168,
    "start_time": "2024-05-17T20:49:56.527Z"
   },
   {
    "duration": 3,
    "start_time": "2024-05-17T20:49:56.697Z"
   },
   {
    "duration": 5988,
    "start_time": "2024-05-17T20:49:56.702Z"
   },
   {
    "duration": 78,
    "start_time": "2024-05-17T20:50:02.691Z"
   },
   {
    "duration": 154,
    "start_time": "2024-05-17T20:50:02.771Z"
   },
   {
    "duration": 0,
    "start_time": "2024-05-17T20:50:02.926Z"
   },
   {
    "duration": 0,
    "start_time": "2024-05-17T20:50:02.928Z"
   },
   {
    "duration": 0,
    "start_time": "2024-05-17T20:50:02.928Z"
   },
   {
    "duration": 0,
    "start_time": "2024-05-17T20:50:02.930Z"
   },
   {
    "duration": 0,
    "start_time": "2024-05-17T20:50:02.931Z"
   },
   {
    "duration": 13,
    "start_time": "2024-05-17T20:50:15.004Z"
   },
   {
    "duration": 866,
    "start_time": "2024-05-17T20:50:39.585Z"
   },
   {
    "duration": 82,
    "start_time": "2024-05-17T20:51:19.270Z"
   },
   {
    "duration": 47,
    "start_time": "2024-05-17T20:53:35.748Z"
   },
   {
    "duration": 118,
    "start_time": "2024-05-17T20:55:15.743Z"
   },
   {
    "duration": 121,
    "start_time": "2024-05-17T21:02:43.677Z"
   },
   {
    "duration": 323,
    "start_time": "2024-05-17T21:02:51.757Z"
   },
   {
    "duration": 34,
    "start_time": "2024-05-17T21:03:39.234Z"
   },
   {
    "duration": 144,
    "start_time": "2024-05-17T21:03:47.941Z"
   },
   {
    "duration": 15,
    "start_time": "2024-05-17T21:18:46.813Z"
   },
   {
    "duration": 28,
    "start_time": "2024-05-17T21:19:03.705Z"
   },
   {
    "duration": 25,
    "start_time": "2024-05-17T21:19:51.282Z"
   },
   {
    "duration": 3806,
    "start_time": "2024-05-17T21:21:50.198Z"
   },
   {
    "duration": 36,
    "start_time": "2024-05-17T21:22:33.560Z"
   },
   {
    "duration": 3900,
    "start_time": "2024-05-17T21:22:40.197Z"
   },
   {
    "duration": 13,
    "start_time": "2024-05-17T21:23:52.189Z"
   },
   {
    "duration": 6471,
    "start_time": "2024-05-17T21:24:14.009Z"
   },
   {
    "duration": 67,
    "start_time": "2024-05-17T21:25:15.957Z"
   },
   {
    "duration": 268,
    "start_time": "2024-05-17T21:25:54.020Z"
   },
   {
    "duration": 17898,
    "start_time": "2024-05-17T21:28:21.807Z"
   },
   {
    "duration": 2101,
    "start_time": "2024-05-17T21:28:39.708Z"
   },
   {
    "duration": 959,
    "start_time": "2024-05-17T21:28:41.810Z"
   },
   {
    "duration": 143,
    "start_time": "2024-05-17T21:28:42.771Z"
   },
   {
    "duration": 467,
    "start_time": "2024-05-17T21:28:42.915Z"
   },
   {
    "duration": 98,
    "start_time": "2024-05-17T21:28:43.383Z"
   },
   {
    "duration": 359,
    "start_time": "2024-05-17T21:28:43.482Z"
   },
   {
    "duration": 150,
    "start_time": "2024-05-17T21:28:43.842Z"
   },
   {
    "duration": 716,
    "start_time": "2024-05-17T21:28:43.993Z"
   },
   {
    "duration": 535,
    "start_time": "2024-05-17T21:28:44.712Z"
   },
   {
    "duration": 3876,
    "start_time": "2024-05-17T21:28:45.249Z"
   },
   {
    "duration": 30,
    "start_time": "2024-05-17T21:28:49.126Z"
   },
   {
    "duration": 290,
    "start_time": "2024-05-17T21:28:49.158Z"
   },
   {
    "duration": 41,
    "start_time": "2024-05-17T21:28:49.449Z"
   },
   {
    "duration": 735,
    "start_time": "2024-05-17T21:28:49.493Z"
   },
   {
    "duration": 88,
    "start_time": "2024-05-17T21:28:50.229Z"
   },
   {
    "duration": 3529,
    "start_time": "2024-05-17T21:28:50.319Z"
   },
   {
    "duration": 88,
    "start_time": "2024-05-17T21:28:53.849Z"
   },
   {
    "duration": 71,
    "start_time": "2024-05-17T21:28:53.939Z"
   },
   {
    "duration": 828,
    "start_time": "2024-05-17T21:28:54.012Z"
   },
   {
    "duration": 146,
    "start_time": "2024-05-17T21:28:54.842Z"
   },
   {
    "duration": 157,
    "start_time": "2024-05-17T21:28:54.990Z"
   },
   {
    "duration": 3,
    "start_time": "2024-05-17T21:28:55.149Z"
   },
   {
    "duration": 5760,
    "start_time": "2024-05-17T21:28:55.153Z"
   },
   {
    "duration": 81,
    "start_time": "2024-05-17T21:29:00.915Z"
   },
   {
    "duration": 941,
    "start_time": "2024-05-17T21:29:00.997Z"
   },
   {
    "duration": 55,
    "start_time": "2024-05-17T21:29:01.940Z"
   },
   {
    "duration": 146,
    "start_time": "2024-05-17T21:29:01.998Z"
   },
   {
    "duration": 158,
    "start_time": "2024-05-17T21:29:02.145Z"
   },
   {
    "duration": 0,
    "start_time": "2024-05-17T21:29:02.305Z"
   },
   {
    "duration": 164,
    "start_time": "2024-05-17T21:30:21.524Z"
   },
   {
    "duration": 6711,
    "start_time": "2024-05-17T21:30:30.795Z"
   },
   {
    "duration": 36123,
    "start_time": "2024-05-18T08:06:53.681Z"
   },
   {
    "duration": 2581,
    "start_time": "2024-05-18T08:07:29.806Z"
   },
   {
    "duration": 1321,
    "start_time": "2024-05-18T08:07:32.388Z"
   },
   {
    "duration": 542,
    "start_time": "2024-05-18T08:08:22.967Z"
   },
   {
    "duration": 102,
    "start_time": "2024-05-18T08:08:28.740Z"
   },
   {
    "duration": 380,
    "start_time": "2024-05-18T08:10:55.908Z"
   },
   {
    "duration": 154,
    "start_time": "2024-05-18T08:12:32.271Z"
   },
   {
    "duration": 848,
    "start_time": "2024-05-18T08:15:37.562Z"
   },
   {
    "duration": 559,
    "start_time": "2024-05-18T08:16:25.476Z"
   },
   {
    "duration": 4255,
    "start_time": "2024-05-18T08:17:10.101Z"
   },
   {
    "duration": 230,
    "start_time": "2024-05-18T08:24:24.719Z"
   },
   {
    "duration": 24,
    "start_time": "2024-05-18T08:25:18.096Z"
   },
   {
    "duration": 817,
    "start_time": "2024-05-18T08:25:59.046Z"
   },
   {
    "duration": 43,
    "start_time": "2024-05-18T08:26:54.752Z"
   },
   {
    "duration": 19787,
    "start_time": "2024-05-18T08:27:16.751Z"
   },
   {
    "duration": 2282,
    "start_time": "2024-05-18T08:27:36.542Z"
   },
   {
    "duration": 963,
    "start_time": "2024-05-18T08:27:38.825Z"
   },
   {
    "duration": 156,
    "start_time": "2024-05-18T08:27:39.791Z"
   },
   {
    "duration": 548,
    "start_time": "2024-05-18T08:27:39.949Z"
   },
   {
    "duration": 122,
    "start_time": "2024-05-18T08:27:40.499Z"
   },
   {
    "duration": 351,
    "start_time": "2024-05-18T08:27:40.623Z"
   },
   {
    "duration": 156,
    "start_time": "2024-05-18T08:27:40.979Z"
   },
   {
    "duration": 802,
    "start_time": "2024-05-18T08:27:41.137Z"
   },
   {
    "duration": 582,
    "start_time": "2024-05-18T08:27:41.941Z"
   },
   {
    "duration": 4119,
    "start_time": "2024-05-18T08:27:42.526Z"
   },
   {
    "duration": 39,
    "start_time": "2024-05-18T08:27:46.646Z"
   },
   {
    "duration": 377,
    "start_time": "2024-05-18T08:27:46.687Z"
   },
   {
    "duration": 20,
    "start_time": "2024-05-18T08:27:47.065Z"
   },
   {
    "duration": 795,
    "start_time": "2024-05-18T08:27:47.087Z"
   },
   {
    "duration": 168,
    "start_time": "2024-05-18T08:27:47.884Z"
   },
   {
    "duration": 0,
    "start_time": "2024-05-18T08:27:48.054Z"
   },
   {
    "duration": 0,
    "start_time": "2024-05-18T08:27:48.056Z"
   },
   {
    "duration": 0,
    "start_time": "2024-05-18T08:27:48.058Z"
   },
   {
    "duration": 0,
    "start_time": "2024-05-18T08:27:48.060Z"
   },
   {
    "duration": 0,
    "start_time": "2024-05-18T08:27:48.061Z"
   },
   {
    "duration": 0,
    "start_time": "2024-05-18T08:27:48.063Z"
   },
   {
    "duration": 0,
    "start_time": "2024-05-18T08:27:48.079Z"
   },
   {
    "duration": 0,
    "start_time": "2024-05-18T08:27:48.081Z"
   },
   {
    "duration": 0,
    "start_time": "2024-05-18T08:27:48.083Z"
   },
   {
    "duration": 1,
    "start_time": "2024-05-18T08:27:48.084Z"
   },
   {
    "duration": 0,
    "start_time": "2024-05-18T08:27:48.086Z"
   },
   {
    "duration": 0,
    "start_time": "2024-05-18T08:27:48.087Z"
   },
   {
    "duration": 0,
    "start_time": "2024-05-18T08:27:48.089Z"
   },
   {
    "duration": 0,
    "start_time": "2024-05-18T08:27:48.091Z"
   },
   {
    "duration": 0,
    "start_time": "2024-05-18T08:27:48.092Z"
   },
   {
    "duration": 83,
    "start_time": "2024-05-18T08:29:19.427Z"
   },
   {
    "duration": 3142,
    "start_time": "2024-05-18T08:30:31.141Z"
   },
   {
    "duration": 9,
    "start_time": "2024-05-18T08:32:45.297Z"
   },
   {
    "duration": 35,
    "start_time": "2024-05-18T08:34:21.433Z"
   },
   {
    "duration": 82,
    "start_time": "2024-05-18T08:34:43.885Z"
   },
   {
    "duration": 89,
    "start_time": "2024-05-18T08:35:11.599Z"
   },
   {
    "duration": 91,
    "start_time": "2024-05-18T08:35:52.576Z"
   },
   {
    "duration": 89,
    "start_time": "2024-05-18T08:42:28.898Z"
   },
   {
    "duration": 75,
    "start_time": "2024-05-18T08:45:27.108Z"
   },
   {
    "duration": 74,
    "start_time": "2024-05-18T08:45:36.752Z"
   },
   {
    "duration": 36,
    "start_time": "2024-05-18T08:46:57.817Z"
   },
   {
    "duration": 49,
    "start_time": "2024-05-18T08:47:24.878Z"
   },
   {
    "duration": 147,
    "start_time": "2024-05-18T08:48:33.226Z"
   },
   {
    "duration": 153,
    "start_time": "2024-05-18T08:48:58.541Z"
   },
   {
    "duration": 34,
    "start_time": "2024-05-18T08:49:36.286Z"
   },
   {
    "duration": 23,
    "start_time": "2024-05-18T08:50:43.165Z"
   },
   {
    "duration": 27,
    "start_time": "2024-05-18T08:53:05.239Z"
   },
   {
    "duration": 17,
    "start_time": "2024-05-18T08:54:09.751Z"
   },
   {
    "duration": 27,
    "start_time": "2024-05-18T08:54:27.647Z"
   },
   {
    "duration": 114,
    "start_time": "2024-05-18T08:56:12.558Z"
   },
   {
    "duration": 64,
    "start_time": "2024-05-18T08:56:50.108Z"
   },
   {
    "duration": 885,
    "start_time": "2024-05-18T08:56:59.606Z"
   },
   {
    "duration": 151,
    "start_time": "2024-05-18T08:57:13.770Z"
   },
   {
    "duration": 154,
    "start_time": "2024-05-18T08:57:22.207Z"
   },
   {
    "duration": 142,
    "start_time": "2024-05-18T08:57:30.728Z"
   },
   {
    "duration": 19042,
    "start_time": "2024-05-18T08:58:03.627Z"
   },
   {
    "duration": 2307,
    "start_time": "2024-05-18T08:58:22.671Z"
   },
   {
    "duration": 971,
    "start_time": "2024-05-18T08:58:24.980Z"
   },
   {
    "duration": 168,
    "start_time": "2024-05-18T08:58:25.953Z"
   },
   {
    "duration": 547,
    "start_time": "2024-05-18T08:58:26.122Z"
   },
   {
    "duration": 110,
    "start_time": "2024-05-18T08:58:26.671Z"
   },
   {
    "duration": 400,
    "start_time": "2024-05-18T08:58:26.783Z"
   },
   {
    "duration": 166,
    "start_time": "2024-05-18T08:58:27.185Z"
   },
   {
    "duration": 815,
    "start_time": "2024-05-18T08:58:27.352Z"
   },
   {
    "duration": 598,
    "start_time": "2024-05-18T08:58:28.169Z"
   },
   {
    "duration": 4084,
    "start_time": "2024-05-18T08:58:28.769Z"
   },
   {
    "duration": 39,
    "start_time": "2024-05-18T08:58:32.854Z"
   },
   {
    "duration": 367,
    "start_time": "2024-05-18T08:58:32.894Z"
   },
   {
    "duration": 24,
    "start_time": "2024-05-18T08:58:33.263Z"
   },
   {
    "duration": 781,
    "start_time": "2024-05-18T08:58:33.289Z"
   },
   {
    "duration": 86,
    "start_time": "2024-05-18T08:58:34.072Z"
   },
   {
    "duration": 94,
    "start_time": "2024-05-18T08:58:34.159Z"
   },
   {
    "duration": 93,
    "start_time": "2024-05-18T08:58:34.255Z"
   },
   {
    "duration": 3109,
    "start_time": "2024-05-18T08:58:34.349Z"
   },
   {
    "duration": 96,
    "start_time": "2024-05-18T08:58:37.460Z"
   },
   {
    "duration": 93,
    "start_time": "2024-05-18T08:58:37.557Z"
   },
   {
    "duration": 953,
    "start_time": "2024-05-18T08:58:37.651Z"
   },
   {
    "duration": 179,
    "start_time": "2024-05-18T08:58:38.606Z"
   },
   {
    "duration": 154,
    "start_time": "2024-05-18T08:58:38.787Z"
   },
   {
    "duration": 172,
    "start_time": "2024-05-18T08:58:38.943Z"
   },
   {
    "duration": 0,
    "start_time": "2024-05-18T08:58:39.116Z"
   },
   {
    "duration": 0,
    "start_time": "2024-05-18T08:58:39.118Z"
   },
   {
    "duration": 0,
    "start_time": "2024-05-18T08:58:39.119Z"
   },
   {
    "duration": 0,
    "start_time": "2024-05-18T08:58:39.120Z"
   },
   {
    "duration": 0,
    "start_time": "2024-05-18T08:58:39.121Z"
   },
   {
    "duration": 0,
    "start_time": "2024-05-18T08:58:39.122Z"
   },
   {
    "duration": 0,
    "start_time": "2024-05-18T08:58:39.123Z"
   },
   {
    "duration": 5166,
    "start_time": "2024-05-18T09:10:23.060Z"
   },
   {
    "duration": 68,
    "start_time": "2024-05-18T09:17:29.005Z"
   },
   {
    "duration": 920,
    "start_time": "2024-05-18T09:18:32.057Z"
   },
   {
    "duration": 37,
    "start_time": "2024-05-18T09:18:37.032Z"
   },
   {
    "duration": 106,
    "start_time": "2024-05-18T09:18:44.764Z"
   },
   {
    "duration": 170,
    "start_time": "2024-05-18T09:19:00.513Z"
   },
   {
    "duration": 5384,
    "start_time": "2024-05-18T09:19:36.498Z"
   },
   {
    "duration": 263,
    "start_time": "2024-05-18T09:19:47.825Z"
   },
   {
    "duration": 9449,
    "start_time": "2024-05-18T10:05:42.233Z"
   },
   {
    "duration": 236,
    "start_time": "2024-05-18T10:06:11.153Z"
   },
   {
    "duration": 10906,
    "start_time": "2024-05-18T10:09:04.425Z"
   },
   {
    "duration": 2042,
    "start_time": "2024-05-18T10:11:32.450Z"
   },
   {
    "duration": 10630,
    "start_time": "2024-05-18T10:11:53.390Z"
   },
   {
    "duration": 77,
    "start_time": "2024-05-18T10:13:41.769Z"
   },
   {
    "duration": 10512,
    "start_time": "2024-05-18T10:15:02.106Z"
   },
   {
    "duration": 14,
    "start_time": "2024-05-18T10:22:14.845Z"
   },
   {
    "duration": 32,
    "start_time": "2024-05-18T10:23:07.142Z"
   },
   {
    "duration": 17921,
    "start_time": "2024-05-18T10:23:14.669Z"
   },
   {
    "duration": 19830,
    "start_time": "2024-05-18T10:24:18.350Z"
   },
   {
    "duration": 18223,
    "start_time": "2024-05-18T10:25:00.461Z"
   },
   {
    "duration": 9966,
    "start_time": "2024-05-18T10:31:12.226Z"
   },
   {
    "duration": 10473,
    "start_time": "2024-05-18T10:34:19.346Z"
   },
   {
    "duration": 14,
    "start_time": "2024-05-18T10:35:11.066Z"
   },
   {
    "duration": 16,
    "start_time": "2024-05-18T10:36:29.370Z"
   },
   {
    "duration": 12,
    "start_time": "2024-05-18T10:36:37.690Z"
   },
   {
    "duration": 17767,
    "start_time": "2024-05-18T10:37:36.714Z"
   },
   {
    "duration": 9,
    "start_time": "2024-05-18T10:38:43.456Z"
   },
   {
    "duration": 9766,
    "start_time": "2024-05-18T10:39:19.018Z"
   },
   {
    "duration": 10,
    "start_time": "2024-05-18T10:39:57.613Z"
   },
   {
    "duration": 49,
    "start_time": "2024-05-18T10:43:14.642Z"
   },
   {
    "duration": 9680,
    "start_time": "2024-05-18T10:43:36.304Z"
   },
   {
    "duration": 28,
    "start_time": "2024-05-18T10:44:15.424Z"
   },
   {
    "duration": 762,
    "start_time": "2024-05-18T10:45:04.945Z"
   },
   {
    "duration": 764,
    "start_time": "2024-05-18T10:45:30.426Z"
   },
   {
    "duration": 781,
    "start_time": "2024-05-18T10:46:00.426Z"
   },
   {
    "duration": 768,
    "start_time": "2024-05-18T10:46:12.848Z"
   },
   {
    "duration": 22216,
    "start_time": "2024-05-18T10:46:37.746Z"
   },
   {
    "duration": 18840,
    "start_time": "2024-05-18T10:47:43.465Z"
   },
   {
    "duration": 37,
    "start_time": "2024-05-18T10:49:01.518Z"
   },
   {
    "duration": 13697,
    "start_time": "2024-05-18T10:49:55.006Z"
   },
   {
    "duration": 33,
    "start_time": "2024-05-18T10:50:13.766Z"
   },
   {
    "duration": 35,
    "start_time": "2024-05-18T11:03:40.675Z"
   },
   {
    "duration": 622672,
    "start_time": "2024-05-18T11:08:07.655Z"
   },
   {
    "duration": 19086,
    "start_time": "2024-05-18T11:35:34.753Z"
   },
   {
    "duration": 2343,
    "start_time": "2024-05-18T11:35:53.841Z"
   },
   {
    "duration": 997,
    "start_time": "2024-05-18T11:35:56.185Z"
   },
   {
    "duration": 179,
    "start_time": "2024-05-18T11:35:57.184Z"
   },
   {
    "duration": 622,
    "start_time": "2024-05-18T11:35:57.364Z"
   },
   {
    "duration": 107,
    "start_time": "2024-05-18T11:35:57.988Z"
   },
   {
    "duration": 395,
    "start_time": "2024-05-18T11:35:58.097Z"
   },
   {
    "duration": 161,
    "start_time": "2024-05-18T11:35:58.493Z"
   },
   {
    "duration": 880,
    "start_time": "2024-05-18T11:35:58.657Z"
   },
   {
    "duration": 578,
    "start_time": "2024-05-18T11:35:59.540Z"
   },
   {
    "duration": 4119,
    "start_time": "2024-05-18T11:36:00.120Z"
   },
   {
    "duration": 47,
    "start_time": "2024-05-18T11:36:04.241Z"
   },
   {
    "duration": 329,
    "start_time": "2024-05-18T11:36:04.290Z"
   },
   {
    "duration": 17,
    "start_time": "2024-05-18T11:36:04.621Z"
   },
   {
    "duration": 870,
    "start_time": "2024-05-18T11:36:04.640Z"
   },
   {
    "duration": 94,
    "start_time": "2024-05-18T11:36:05.512Z"
   },
   {
    "duration": 94,
    "start_time": "2024-05-18T11:36:05.608Z"
   },
   {
    "duration": 102,
    "start_time": "2024-05-18T11:36:05.703Z"
   },
   {
    "duration": 3270,
    "start_time": "2024-05-18T11:36:05.806Z"
   },
   {
    "duration": 93,
    "start_time": "2024-05-18T11:36:09.079Z"
   },
   {
    "duration": 78,
    "start_time": "2024-05-18T11:36:09.180Z"
   },
   {
    "duration": 909,
    "start_time": "2024-05-18T11:36:09.260Z"
   },
   {
    "duration": 155,
    "start_time": "2024-05-18T11:36:10.171Z"
   },
   {
    "duration": 165,
    "start_time": "2024-05-18T11:36:10.328Z"
   },
   {
    "duration": 5303,
    "start_time": "2024-05-18T11:36:10.495Z"
   },
   {
    "duration": 76,
    "start_time": "2024-05-18T11:36:15.800Z"
   },
   {
    "duration": 971,
    "start_time": "2024-05-18T11:36:15.877Z"
   },
   {
    "duration": 51,
    "start_time": "2024-05-18T11:36:16.853Z"
   },
   {
    "duration": 124,
    "start_time": "2024-05-18T11:36:16.905Z"
   },
   {
    "duration": 11185,
    "start_time": "2024-05-18T11:36:17.031Z"
   },
   {
    "duration": 73,
    "start_time": "2024-05-18T11:36:28.217Z"
   },
   {
    "duration": 18591,
    "start_time": "2024-05-18T11:36:28.293Z"
   },
   {
    "duration": 99,
    "start_time": "2024-05-18T11:36:46.886Z"
   },
   {
    "duration": 10097,
    "start_time": "2024-05-18T11:36:46.987Z"
   },
   {
    "duration": 102,
    "start_time": "2024-05-18T11:36:57.086Z"
   },
   {
    "duration": 13990,
    "start_time": "2024-05-18T11:36:57.191Z"
   },
   {
    "duration": 35,
    "start_time": "2024-05-18T11:37:11.183Z"
   },
   {
    "duration": 192,
    "start_time": "2024-05-18T11:37:11.220Z"
   },
   {
    "duration": 177,
    "start_time": "2024-05-18T11:37:11.414Z"
   },
   {
    "duration": 36,
    "start_time": "2024-05-18T11:37:58.443Z"
   },
   {
    "duration": 409518,
    "start_time": "2024-05-18T11:44:57.483Z"
   },
   {
    "duration": 709,
    "start_time": "2024-05-18T11:54:41.386Z"
   },
   {
    "duration": 167,
    "start_time": "2024-05-18T13:10:28.308Z"
   },
   {
    "duration": 86,
    "start_time": "2024-05-18T13:21:49.708Z"
   },
   {
    "duration": 18816,
    "start_time": "2024-05-18T13:22:14.179Z"
   },
   {
    "duration": 2149,
    "start_time": "2024-05-18T13:22:32.998Z"
   },
   {
    "duration": 963,
    "start_time": "2024-05-18T13:22:35.149Z"
   },
   {
    "duration": 181,
    "start_time": "2024-05-18T13:22:36.115Z"
   },
   {
    "duration": 497,
    "start_time": "2024-05-18T13:22:36.297Z"
   },
   {
    "duration": 97,
    "start_time": "2024-05-18T13:22:36.796Z"
   },
   {
    "duration": 371,
    "start_time": "2024-05-18T13:22:36.894Z"
   },
   {
    "duration": 170,
    "start_time": "2024-05-18T13:22:37.267Z"
   },
   {
    "duration": 775,
    "start_time": "2024-05-18T13:22:37.439Z"
   },
   {
    "duration": 534,
    "start_time": "2024-05-18T13:22:38.217Z"
   },
   {
    "duration": 4173,
    "start_time": "2024-05-18T13:22:38.753Z"
   },
   {
    "duration": 34,
    "start_time": "2024-05-18T13:22:42.927Z"
   },
   {
    "duration": 270,
    "start_time": "2024-05-18T13:22:42.962Z"
   },
   {
    "duration": 17,
    "start_time": "2024-05-18T13:22:43.233Z"
   },
   {
    "duration": 790,
    "start_time": "2024-05-18T13:22:43.251Z"
   },
   {
    "duration": 93,
    "start_time": "2024-05-18T13:22:44.043Z"
   },
   {
    "duration": 93,
    "start_time": "2024-05-18T13:22:44.138Z"
   },
   {
    "duration": 190,
    "start_time": "2024-05-18T13:22:44.232Z"
   },
   {
    "duration": 3204,
    "start_time": "2024-05-18T13:22:44.424Z"
   },
   {
    "duration": 97,
    "start_time": "2024-05-18T13:22:47.630Z"
   },
   {
    "duration": 117,
    "start_time": "2024-05-18T13:22:47.729Z"
   },
   {
    "duration": 900,
    "start_time": "2024-05-18T13:22:47.848Z"
   },
   {
    "duration": 152,
    "start_time": "2024-05-18T13:22:48.749Z"
   },
   {
    "duration": 156,
    "start_time": "2024-05-18T13:22:48.902Z"
   },
   {
    "duration": 78,
    "start_time": "2024-05-18T13:22:49.060Z"
   },
   {
    "duration": 951,
    "start_time": "2024-05-18T13:22:49.141Z"
   },
   {
    "duration": 40,
    "start_time": "2024-05-18T13:22:50.094Z"
   },
   {
    "duration": 120,
    "start_time": "2024-05-18T13:22:50.138Z"
   },
   {
    "duration": 181,
    "start_time": "2024-05-18T13:22:50.260Z"
   },
   {
    "duration": 0,
    "start_time": "2024-05-18T13:22:50.443Z"
   },
   {
    "duration": 0,
    "start_time": "2024-05-18T13:22:50.445Z"
   },
   {
    "duration": 0,
    "start_time": "2024-05-18T13:22:50.447Z"
   },
   {
    "duration": 0,
    "start_time": "2024-05-18T13:22:50.448Z"
   },
   {
    "duration": 0,
    "start_time": "2024-05-18T13:22:50.450Z"
   },
   {
    "duration": 0,
    "start_time": "2024-05-18T13:22:50.451Z"
   },
   {
    "duration": 0,
    "start_time": "2024-05-18T13:22:50.453Z"
   },
   {
    "duration": 0,
    "start_time": "2024-05-18T13:22:50.454Z"
   },
   {
    "duration": 11014,
    "start_time": "2024-05-18T13:23:06.468Z"
   },
   {
    "duration": 17532,
    "start_time": "2024-05-18T13:25:07.951Z"
   },
   {
    "duration": 9655,
    "start_time": "2024-05-18T13:27:06.431Z"
   },
   {
    "duration": 13722,
    "start_time": "2024-05-18T13:31:40.247Z"
   },
   {
    "duration": 28192,
    "start_time": "2024-05-18T13:45:07.355Z"
   },
   {
    "duration": 182,
    "start_time": "2024-05-18T13:47:34.185Z"
   },
   {
    "duration": 335048,
    "start_time": "2024-05-18T13:47:39.448Z"
   },
   {
    "duration": 2621,
    "start_time": "2024-05-18T13:59:34.149Z"
   },
   {
    "duration": 65,
    "start_time": "2024-05-18T14:02:46.467Z"
   },
   {
    "duration": 882,
    "start_time": "2024-05-18T14:02:50.680Z"
   },
   {
    "duration": 42,
    "start_time": "2024-05-18T14:02:54.670Z"
   },
   {
    "duration": 103,
    "start_time": "2024-05-18T14:02:56.971Z"
   },
   {
    "duration": 10700,
    "start_time": "2024-05-18T14:03:02.022Z"
   },
   {
    "duration": 17376,
    "start_time": "2024-05-18T14:03:20.908Z"
   },
   {
    "duration": 10292,
    "start_time": "2024-05-18T14:03:42.495Z"
   },
   {
    "duration": 15547,
    "start_time": "2024-05-18T14:04:13.534Z"
   },
   {
    "duration": 178,
    "start_time": "2024-05-18T14:04:53.879Z"
   },
   {
    "duration": 324150,
    "start_time": "2024-05-18T14:05:09.938Z"
   },
   {
    "duration": 9679,
    "start_time": "2024-05-18T14:10:51.509Z"
   },
   {
    "duration": 75,
    "start_time": "2024-05-18T14:12:31.328Z"
   },
   {
    "duration": 171,
    "start_time": "2024-05-18T14:14:50.813Z"
   },
   {
    "duration": 8,
    "start_time": "2024-05-18T14:15:40.447Z"
   },
   {
    "duration": 4,
    "start_time": "2024-05-18T14:16:35.320Z"
   },
   {
    "duration": 66,
    "start_time": "2024-05-18T14:20:35.418Z"
   },
   {
    "duration": 56,
    "start_time": "2024-05-18T14:21:42.724Z"
   },
   {
    "duration": 4,
    "start_time": "2024-05-18T14:21:59.082Z"
   },
   {
    "duration": 24,
    "start_time": "2024-05-18T14:23:11.470Z"
   },
   {
    "duration": 8,
    "start_time": "2024-05-18T14:23:34.900Z"
   },
   {
    "duration": 5,
    "start_time": "2024-05-18T14:24:27.811Z"
   },
   {
    "duration": 7,
    "start_time": "2024-05-18T14:24:38.749Z"
   },
   {
    "duration": 357,
    "start_time": "2024-05-18T14:32:34.082Z"
   },
   {
    "duration": 12,
    "start_time": "2024-05-18T14:33:17.925Z"
   },
   {
    "duration": 10,
    "start_time": "2024-05-18T14:33:23.163Z"
   },
   {
    "duration": 4,
    "start_time": "2024-05-18T14:33:25.606Z"
   },
   {
    "duration": 5629,
    "start_time": "2024-05-18T14:36:51.359Z"
   },
   {
    "duration": 95,
    "start_time": "2024-05-18T14:37:52.159Z"
   },
   {
    "duration": 478,
    "start_time": "2024-05-18T14:38:11.007Z"
   },
   {
    "duration": 5,
    "start_time": "2024-05-18T14:38:16.511Z"
   },
   {
    "duration": 6706,
    "start_time": "2024-05-18T15:16:38.091Z"
   },
   {
    "duration": 17943,
    "start_time": "2024-05-18T16:27:23.534Z"
   },
   {
    "duration": 2164,
    "start_time": "2024-05-18T16:27:41.479Z"
   },
   {
    "duration": 968,
    "start_time": "2024-05-18T16:27:43.645Z"
   },
   {
    "duration": 156,
    "start_time": "2024-05-18T16:27:44.615Z"
   },
   {
    "duration": 508,
    "start_time": "2024-05-18T16:27:44.780Z"
   },
   {
    "duration": 94,
    "start_time": "2024-05-18T16:27:45.290Z"
   },
   {
    "duration": 418,
    "start_time": "2024-05-18T16:27:45.386Z"
   },
   {
    "duration": 147,
    "start_time": "2024-05-18T16:27:45.805Z"
   },
   {
    "duration": 762,
    "start_time": "2024-05-18T16:27:45.953Z"
   },
   {
    "duration": 540,
    "start_time": "2024-05-18T16:27:46.717Z"
   },
   {
    "duration": 3896,
    "start_time": "2024-05-18T16:27:47.259Z"
   },
   {
    "duration": 39,
    "start_time": "2024-05-18T16:27:51.157Z"
   },
   {
    "duration": 260,
    "start_time": "2024-05-18T16:27:51.197Z"
   },
   {
    "duration": 23,
    "start_time": "2024-05-18T16:27:51.458Z"
   },
   {
    "duration": 733,
    "start_time": "2024-05-18T16:27:51.483Z"
   },
   {
    "duration": 95,
    "start_time": "2024-05-18T16:27:52.217Z"
   },
   {
    "duration": 93,
    "start_time": "2024-05-18T16:27:52.314Z"
   },
   {
    "duration": 96,
    "start_time": "2024-05-18T16:27:52.409Z"
   },
   {
    "duration": 3114,
    "start_time": "2024-05-18T16:27:52.507Z"
   },
   {
    "duration": 94,
    "start_time": "2024-05-18T16:27:55.623Z"
   },
   {
    "duration": 72,
    "start_time": "2024-05-18T16:27:55.719Z"
   },
   {
    "duration": 834,
    "start_time": "2024-05-18T16:27:55.793Z"
   },
   {
    "duration": 145,
    "start_time": "2024-05-18T16:27:56.629Z"
   },
   {
    "duration": 147,
    "start_time": "2024-05-18T16:27:56.776Z"
   },
   {
    "duration": 81,
    "start_time": "2024-05-18T16:27:56.925Z"
   },
   {
    "duration": 903,
    "start_time": "2024-05-18T16:27:57.007Z"
   },
   {
    "duration": 40,
    "start_time": "2024-05-18T16:27:57.912Z"
   },
   {
    "duration": 116,
    "start_time": "2024-05-18T16:27:57.956Z"
   },
   {
    "duration": 11308,
    "start_time": "2024-05-18T16:27:58.073Z"
   },
   {
    "duration": 16094,
    "start_time": "2024-05-18T16:28:09.387Z"
   },
   {
    "duration": 10101,
    "start_time": "2024-05-18T16:28:25.484Z"
   },
   {
    "duration": 14172,
    "start_time": "2024-05-18T16:28:35.587Z"
   },
   {
    "duration": 173,
    "start_time": "2024-05-18T16:28:49.761Z"
   },
   {
    "duration": 302565,
    "start_time": "2024-05-18T16:28:49.935Z"
   },
   {
    "duration": 57,
    "start_time": "2024-05-18T16:33:52.502Z"
   },
   {
    "duration": 0,
    "start_time": "2024-05-18T16:33:52.561Z"
   },
   {
    "duration": 0,
    "start_time": "2024-05-18T16:33:52.562Z"
   },
   {
    "duration": 0,
    "start_time": "2024-05-18T16:33:52.580Z"
   },
   {
    "duration": 0,
    "start_time": "2024-05-18T16:33:52.581Z"
   },
   {
    "duration": 0,
    "start_time": "2024-05-18T16:33:52.582Z"
   },
   {
    "duration": 0,
    "start_time": "2024-05-18T16:33:52.583Z"
   },
   {
    "duration": 0,
    "start_time": "2024-05-18T16:33:52.584Z"
   },
   {
    "duration": 0,
    "start_time": "2024-05-18T16:33:52.585Z"
   },
   {
    "duration": 0,
    "start_time": "2024-05-18T16:33:52.586Z"
   },
   {
    "duration": 0,
    "start_time": "2024-05-18T16:33:52.587Z"
   },
   {
    "duration": 0,
    "start_time": "2024-05-18T16:33:52.588Z"
   },
   {
    "duration": 0,
    "start_time": "2024-05-18T16:33:52.589Z"
   },
   {
    "duration": 0,
    "start_time": "2024-05-18T16:33:52.590Z"
   },
   {
    "duration": 0,
    "start_time": "2024-05-18T16:33:52.591Z"
   },
   {
    "duration": 166,
    "start_time": "2024-05-18T16:41:02.336Z"
   },
   {
    "duration": 38,
    "start_time": "2024-05-18T16:43:13.707Z"
   },
   {
    "duration": 4,
    "start_time": "2024-05-18T16:43:40.226Z"
   },
   {
    "duration": 4,
    "start_time": "2024-05-18T16:43:51.189Z"
   },
   {
    "duration": 146,
    "start_time": "2024-05-18T16:44:00.242Z"
   },
   {
    "duration": 142,
    "start_time": "2024-05-18T16:47:50.238Z"
   },
   {
    "duration": 480,
    "start_time": "2024-05-18T16:56:05.646Z"
   },
   {
    "duration": 261,
    "start_time": "2024-05-18T16:59:43.023Z"
   },
   {
    "duration": 254,
    "start_time": "2024-05-18T17:02:54.837Z"
   },
   {
    "duration": 326,
    "start_time": "2024-05-18T17:04:20.559Z"
   },
   {
    "duration": 382,
    "start_time": "2024-05-18T17:04:42.799Z"
   },
   {
    "duration": 294,
    "start_time": "2024-05-18T17:08:25.586Z"
   },
   {
    "duration": 38,
    "start_time": "2024-05-18T17:10:31.950Z"
   },
   {
    "duration": 377,
    "start_time": "2024-05-18T17:12:16.692Z"
   },
   {
    "duration": 7884,
    "start_time": "2024-05-18T17:14:25.121Z"
   },
   {
    "duration": 8,
    "start_time": "2024-05-18T17:19:45.821Z"
   },
   {
    "duration": 9,
    "start_time": "2024-05-18T17:23:55.881Z"
   },
   {
    "duration": 9,
    "start_time": "2024-05-18T17:24:05.882Z"
   },
   {
    "duration": 17,
    "start_time": "2024-05-18T17:32:35.880Z"
   },
   {
    "duration": 11,
    "start_time": "2024-05-18T17:32:42.152Z"
   },
   {
    "duration": 12,
    "start_time": "2024-05-18T17:33:41.633Z"
   },
   {
    "duration": 59,
    "start_time": "2024-05-18T17:53:42.814Z"
   },
   {
    "duration": 17829,
    "start_time": "2024-05-18T18:11:21.577Z"
   },
   {
    "duration": 2152,
    "start_time": "2024-05-18T18:11:39.410Z"
   },
   {
    "duration": 985,
    "start_time": "2024-05-18T18:11:41.564Z"
   },
   {
    "duration": 169,
    "start_time": "2024-05-18T18:11:42.551Z"
   },
   {
    "duration": 498,
    "start_time": "2024-05-18T18:11:42.722Z"
   },
   {
    "duration": 99,
    "start_time": "2024-05-18T18:11:43.222Z"
   },
   {
    "duration": 370,
    "start_time": "2024-05-18T18:11:43.323Z"
   },
   {
    "duration": 147,
    "start_time": "2024-05-18T18:11:43.695Z"
   },
   {
    "duration": 808,
    "start_time": "2024-05-18T18:11:43.844Z"
   },
   {
    "duration": 513,
    "start_time": "2024-05-18T18:11:44.656Z"
   },
   {
    "duration": 3985,
    "start_time": "2024-05-18T18:11:45.170Z"
   },
   {
    "duration": 48,
    "start_time": "2024-05-18T18:11:49.157Z"
   },
   {
    "duration": 294,
    "start_time": "2024-05-18T18:11:49.207Z"
   },
   {
    "duration": 21,
    "start_time": "2024-05-18T18:11:49.503Z"
   },
   {
    "duration": 754,
    "start_time": "2024-05-18T18:11:49.526Z"
   },
   {
    "duration": 81,
    "start_time": "2024-05-18T18:11:50.282Z"
   },
   {
    "duration": 84,
    "start_time": "2024-05-18T18:11:50.364Z"
   },
   {
    "duration": 99,
    "start_time": "2024-05-18T18:11:50.450Z"
   },
   {
    "duration": 3029,
    "start_time": "2024-05-18T18:11:50.551Z"
   },
   {
    "duration": 83,
    "start_time": "2024-05-18T18:11:53.581Z"
   },
   {
    "duration": 70,
    "start_time": "2024-05-18T18:11:53.666Z"
   },
   {
    "duration": 902,
    "start_time": "2024-05-18T18:11:53.738Z"
   },
   {
    "duration": 156,
    "start_time": "2024-05-18T18:11:54.642Z"
   },
   {
    "duration": 154,
    "start_time": "2024-05-18T18:11:54.799Z"
   },
   {
    "duration": 78,
    "start_time": "2024-05-18T18:11:54.954Z"
   },
   {
    "duration": 914,
    "start_time": "2024-05-18T18:11:55.034Z"
   },
   {
    "duration": 73,
    "start_time": "2024-05-18T18:11:55.949Z"
   },
   {
    "duration": 181,
    "start_time": "2024-05-18T18:11:56.025Z"
   },
   {
    "duration": 11473,
    "start_time": "2024-05-18T18:11:56.208Z"
   },
   {
    "duration": 17004,
    "start_time": "2024-05-18T18:12:07.683Z"
   },
   {
    "duration": 9906,
    "start_time": "2024-05-18T18:12:24.780Z"
   },
   {
    "duration": 13913,
    "start_time": "2024-05-18T18:12:34.689Z"
   },
   {
    "duration": 184,
    "start_time": "2024-05-18T18:12:48.603Z"
   },
   {
    "duration": 338709,
    "start_time": "2024-05-18T18:12:48.789Z"
   },
   {
    "duration": 390,
    "start_time": "2024-05-18T18:18:27.499Z"
   },
   {
    "duration": 590,
    "start_time": "2024-05-18T18:18:27.890Z"
   },
   {
    "duration": 203,
    "start_time": "2024-05-18T18:18:28.482Z"
   },
   {
    "duration": 473,
    "start_time": "2024-05-18T18:18:28.688Z"
   },
   {
    "duration": 7631,
    "start_time": "2024-05-18T18:18:29.163Z"
   },
   {
    "duration": 13,
    "start_time": "2024-05-18T18:18:36.796Z"
   },
   {
    "duration": 5016,
    "start_time": "2024-05-18T18:34:29.119Z"
   },
   {
    "duration": 1202,
    "start_time": "2024-05-18T18:34:34.137Z"
   },
   {
    "duration": 918,
    "start_time": "2024-05-18T18:34:35.341Z"
   },
   {
    "duration": 150,
    "start_time": "2024-05-18T18:34:36.261Z"
   },
   {
    "duration": 504,
    "start_time": "2024-05-18T18:34:36.413Z"
   },
   {
    "duration": 96,
    "start_time": "2024-05-18T18:34:36.919Z"
   },
   {
    "duration": 386,
    "start_time": "2024-05-18T18:34:37.017Z"
   },
   {
    "duration": 149,
    "start_time": "2024-05-18T18:34:37.404Z"
   },
   {
    "duration": 813,
    "start_time": "2024-05-18T18:34:37.555Z"
   },
   {
    "duration": 534,
    "start_time": "2024-05-18T18:34:38.370Z"
   },
   {
    "duration": 123,
    "start_time": "2024-05-18T18:34:38.905Z"
   },
   {
    "duration": 0,
    "start_time": "2024-05-18T18:34:39.030Z"
   },
   {
    "duration": 0,
    "start_time": "2024-05-18T18:34:39.031Z"
   },
   {
    "duration": 0,
    "start_time": "2024-05-18T18:34:39.032Z"
   },
   {
    "duration": 0,
    "start_time": "2024-05-18T18:34:39.033Z"
   },
   {
    "duration": 0,
    "start_time": "2024-05-18T18:34:39.034Z"
   },
   {
    "duration": 0,
    "start_time": "2024-05-18T18:34:39.035Z"
   },
   {
    "duration": 0,
    "start_time": "2024-05-18T18:34:39.036Z"
   },
   {
    "duration": 0,
    "start_time": "2024-05-18T18:34:39.037Z"
   },
   {
    "duration": 0,
    "start_time": "2024-05-18T18:34:39.038Z"
   },
   {
    "duration": 0,
    "start_time": "2024-05-18T18:34:39.039Z"
   },
   {
    "duration": 0,
    "start_time": "2024-05-18T18:34:39.041Z"
   },
   {
    "duration": 0,
    "start_time": "2024-05-18T18:34:39.042Z"
   },
   {
    "duration": 0,
    "start_time": "2024-05-18T18:34:39.043Z"
   },
   {
    "duration": 0,
    "start_time": "2024-05-18T18:34:39.044Z"
   },
   {
    "duration": 0,
    "start_time": "2024-05-18T18:34:39.045Z"
   },
   {
    "duration": 0,
    "start_time": "2024-05-18T18:34:39.046Z"
   },
   {
    "duration": 0,
    "start_time": "2024-05-18T18:34:39.047Z"
   },
   {
    "duration": 0,
    "start_time": "2024-05-18T18:34:39.048Z"
   },
   {
    "duration": 0,
    "start_time": "2024-05-18T18:34:39.080Z"
   },
   {
    "duration": 0,
    "start_time": "2024-05-18T18:34:39.081Z"
   },
   {
    "duration": 0,
    "start_time": "2024-05-18T18:34:39.082Z"
   },
   {
    "duration": 0,
    "start_time": "2024-05-18T18:34:39.083Z"
   },
   {
    "duration": 0,
    "start_time": "2024-05-18T18:34:39.084Z"
   },
   {
    "duration": 0,
    "start_time": "2024-05-18T18:34:39.085Z"
   },
   {
    "duration": 0,
    "start_time": "2024-05-18T18:34:39.086Z"
   },
   {
    "duration": 0,
    "start_time": "2024-05-18T18:34:39.087Z"
   },
   {
    "duration": 0,
    "start_time": "2024-05-18T18:34:39.088Z"
   },
   {
    "duration": 0,
    "start_time": "2024-05-18T18:34:39.090Z"
   },
   {
    "duration": 0,
    "start_time": "2024-05-18T18:34:39.091Z"
   },
   {
    "duration": 7674,
    "start_time": "2024-05-18T18:36:19.073Z"
   },
   {
    "duration": 1739,
    "start_time": "2024-05-18T18:36:26.749Z"
   },
   {
    "duration": 923,
    "start_time": "2024-05-18T18:36:28.490Z"
   },
   {
    "duration": 158,
    "start_time": "2024-05-18T18:36:29.414Z"
   },
   {
    "duration": 498,
    "start_time": "2024-05-18T18:36:29.574Z"
   },
   {
    "duration": 89,
    "start_time": "2024-05-18T18:36:30.074Z"
   },
   {
    "duration": 720,
    "start_time": "2024-05-18T18:36:30.165Z"
   },
   {
    "duration": 497,
    "start_time": "2024-05-18T18:36:30.887Z"
   },
   {
    "duration": 785,
    "start_time": "2024-05-18T18:36:31.385Z"
   },
   {
    "duration": 554,
    "start_time": "2024-05-18T18:36:32.171Z"
   },
   {
    "duration": 3761,
    "start_time": "2024-05-18T18:36:32.728Z"
   },
   {
    "duration": 35,
    "start_time": "2024-05-18T18:36:36.491Z"
   },
   {
    "duration": 284,
    "start_time": "2024-05-18T18:36:36.528Z"
   },
   {
    "duration": 17,
    "start_time": "2024-05-18T18:36:36.815Z"
   },
   {
    "duration": 838,
    "start_time": "2024-05-18T18:36:36.834Z"
   },
   {
    "duration": 88,
    "start_time": "2024-05-18T18:36:37.679Z"
   },
   {
    "duration": 84,
    "start_time": "2024-05-18T18:36:37.769Z"
   },
   {
    "duration": 121,
    "start_time": "2024-05-18T18:36:37.854Z"
   },
   {
    "duration": 3045,
    "start_time": "2024-05-18T18:36:37.976Z"
   },
   {
    "duration": 94,
    "start_time": "2024-05-18T18:36:41.023Z"
   },
   {
    "duration": 62,
    "start_time": "2024-05-18T18:36:41.119Z"
   },
   {
    "duration": 815,
    "start_time": "2024-05-18T18:36:41.183Z"
   },
   {
    "duration": 149,
    "start_time": "2024-05-18T18:36:42.000Z"
   },
   {
    "duration": 153,
    "start_time": "2024-05-18T18:36:42.150Z"
   },
   {
    "duration": 65,
    "start_time": "2024-05-18T18:36:42.304Z"
   },
   {
    "duration": 903,
    "start_time": "2024-05-18T18:36:42.371Z"
   },
   {
    "duration": 42,
    "start_time": "2024-05-18T18:36:43.279Z"
   },
   {
    "duration": 110,
    "start_time": "2024-05-18T18:36:43.323Z"
   },
   {
    "duration": 11046,
    "start_time": "2024-05-18T18:36:43.435Z"
   },
   {
    "duration": 18698,
    "start_time": "2024-05-18T18:36:54.483Z"
   },
   {
    "duration": 9795,
    "start_time": "2024-05-18T18:37:13.186Z"
   },
   {
    "duration": 13998,
    "start_time": "2024-05-18T18:37:22.984Z"
   },
   {
    "duration": 172,
    "start_time": "2024-05-18T18:37:36.983Z"
   },
   {
    "duration": 312442,
    "start_time": "2024-05-18T18:37:37.156Z"
   },
   {
    "duration": 581,
    "start_time": "2024-05-18T18:42:49.600Z"
   },
   {
    "duration": 399,
    "start_time": "2024-05-18T18:42:50.183Z"
   },
   {
    "duration": 197,
    "start_time": "2024-05-18T18:42:50.587Z"
   },
   {
    "duration": 453,
    "start_time": "2024-05-18T18:42:50.786Z"
   },
   {
    "duration": 8260,
    "start_time": "2024-05-18T18:42:51.241Z"
   },
   {
    "duration": 82,
    "start_time": "2024-05-18T18:42:59.503Z"
   },
   {
    "duration": 7474,
    "start_time": "2024-05-18T19:45:15.752Z"
   },
   {
    "duration": 1542,
    "start_time": "2024-05-18T19:45:23.228Z"
   },
   {
    "duration": 892,
    "start_time": "2024-05-18T19:45:24.771Z"
   },
   {
    "duration": 150,
    "start_time": "2024-05-18T19:45:25.665Z"
   },
   {
    "duration": 487,
    "start_time": "2024-05-18T19:45:25.817Z"
   },
   {
    "duration": 96,
    "start_time": "2024-05-18T19:45:26.306Z"
   },
   {
    "duration": 377,
    "start_time": "2024-05-18T19:45:26.404Z"
   },
   {
    "duration": 141,
    "start_time": "2024-05-18T19:45:26.783Z"
   },
   {
    "duration": 771,
    "start_time": "2024-05-18T19:45:26.926Z"
   },
   {
    "duration": 513,
    "start_time": "2024-05-18T19:45:27.700Z"
   },
   {
    "duration": 3773,
    "start_time": "2024-05-18T19:45:28.215Z"
   },
   {
    "duration": 31,
    "start_time": "2024-05-18T19:45:31.989Z"
   },
   {
    "duration": 340,
    "start_time": "2024-05-18T19:45:32.021Z"
   },
   {
    "duration": 23,
    "start_time": "2024-05-18T19:45:32.362Z"
   },
   {
    "duration": 845,
    "start_time": "2024-05-18T19:45:32.387Z"
   },
   {
    "duration": 85,
    "start_time": "2024-05-18T19:45:33.233Z"
   },
   {
    "duration": 115,
    "start_time": "2024-05-18T19:45:33.319Z"
   },
   {
    "duration": 89,
    "start_time": "2024-05-18T19:45:33.436Z"
   },
   {
    "duration": 2971,
    "start_time": "2024-05-18T19:45:33.527Z"
   },
   {
    "duration": 88,
    "start_time": "2024-05-18T19:45:36.499Z"
   },
   {
    "duration": 54,
    "start_time": "2024-05-18T19:45:36.588Z"
   },
   {
    "duration": 850,
    "start_time": "2024-05-18T19:45:36.644Z"
   },
   {
    "duration": 145,
    "start_time": "2024-05-18T19:45:37.496Z"
   },
   {
    "duration": 152,
    "start_time": "2024-05-18T19:45:37.643Z"
   },
   {
    "duration": 60,
    "start_time": "2024-05-18T19:45:37.797Z"
   },
   {
    "duration": 815,
    "start_time": "2024-05-18T19:45:37.859Z"
   },
   {
    "duration": 46,
    "start_time": "2024-05-18T19:45:38.679Z"
   },
   {
    "duration": 109,
    "start_time": "2024-05-18T19:45:38.728Z"
   },
   {
    "duration": 10878,
    "start_time": "2024-05-18T19:45:38.839Z"
   },
   {
    "duration": 17903,
    "start_time": "2024-05-18T19:45:49.779Z"
   },
   {
    "duration": 9796,
    "start_time": "2024-05-18T19:46:07.684Z"
   },
   {
    "duration": 14639,
    "start_time": "2024-05-18T19:46:17.483Z"
   },
   {
    "duration": 187,
    "start_time": "2024-05-18T19:46:32.124Z"
   },
   {
    "duration": 188667,
    "start_time": "2024-05-18T19:46:32.313Z"
   },
   {
    "duration": 500,
    "start_time": "2024-05-18T19:49:40.982Z"
   },
   {
    "duration": 306,
    "start_time": "2024-05-18T19:49:41.484Z"
   },
   {
    "duration": 295,
    "start_time": "2024-05-18T19:49:41.791Z"
   },
   {
    "duration": 455,
    "start_time": "2024-05-18T19:49:42.088Z"
   },
   {
    "duration": 8257,
    "start_time": "2024-05-18T19:49:42.545Z"
   },
   {
    "duration": 11,
    "start_time": "2024-05-18T19:49:50.803Z"
   },
   {
    "duration": 18093,
    "start_time": "2024-05-20T08:06:58.831Z"
   },
   {
    "duration": 1773,
    "start_time": "2024-05-20T08:07:22.754Z"
   },
   {
    "duration": 8111,
    "start_time": "2024-05-20T08:15:17.031Z"
   },
   {
    "duration": 29,
    "start_time": "2024-05-20T08:15:43.695Z"
   },
   {
    "duration": 2782,
    "start_time": "2024-05-20T08:15:47.289Z"
   },
   {
    "duration": 123,
    "start_time": "2024-05-20T08:15:53.962Z"
   },
   {
    "duration": 378,
    "start_time": "2024-05-20T08:15:58.073Z"
   },
   {
    "duration": 88,
    "start_time": "2024-05-20T08:16:00.551Z"
   },
   {
    "duration": 355,
    "start_time": "2024-05-20T08:17:17.939Z"
   },
   {
    "duration": 119,
    "start_time": "2024-05-20T08:17:22.552Z"
   },
   {
    "duration": 700,
    "start_time": "2024-05-20T08:17:26.655Z"
   },
   {
    "duration": 38,
    "start_time": "2024-05-20T08:17:38.123Z"
   },
   {
    "duration": 213,
    "start_time": "2024-05-20T08:18:23.004Z"
   },
   {
    "duration": 102,
    "start_time": "2024-05-20T08:18:32.342Z"
   },
   {
    "duration": 121,
    "start_time": "2024-05-20T08:25:04.770Z"
   },
   {
    "duration": 309,
    "start_time": "2024-05-20T08:25:20.863Z"
   },
   {
    "duration": 2739,
    "start_time": "2024-05-20T08:25:24.629Z"
   },
   {
    "duration": 19,
    "start_time": "2024-05-20T08:25:30.507Z"
   },
   {
    "duration": 8020,
    "start_time": "2024-05-20T08:25:48.888Z"
   },
   {
    "duration": 1532,
    "start_time": "2024-05-20T08:25:56.910Z"
   },
   {
    "duration": 785,
    "start_time": "2024-05-20T08:25:58.443Z"
   },
   {
    "duration": 126,
    "start_time": "2024-05-20T08:25:59.230Z"
   },
   {
    "duration": 401,
    "start_time": "2024-05-20T08:25:59.357Z"
   },
   {
    "duration": 91,
    "start_time": "2024-05-20T08:25:59.759Z"
   },
   {
    "duration": 361,
    "start_time": "2024-05-20T08:25:59.852Z"
   },
   {
    "duration": 112,
    "start_time": "2024-05-20T08:26:00.214Z"
   },
   {
    "duration": 798,
    "start_time": "2024-05-20T08:26:00.327Z"
   },
   {
    "duration": 460,
    "start_time": "2024-05-20T08:26:01.128Z"
   },
   {
    "duration": 3472,
    "start_time": "2024-05-20T08:26:01.590Z"
   },
   {
    "duration": 30,
    "start_time": "2024-05-20T08:26:05.063Z"
   },
   {
    "duration": 224,
    "start_time": "2024-05-20T08:26:05.095Z"
   },
   {
    "duration": 676,
    "start_time": "2024-05-20T08:26:05.321Z"
   },
   {
    "duration": 123,
    "start_time": "2024-05-20T08:26:05.998Z"
   },
   {
    "duration": 0,
    "start_time": "2024-05-20T08:26:06.123Z"
   },
   {
    "duration": 0,
    "start_time": "2024-05-20T08:26:06.124Z"
   },
   {
    "duration": 0,
    "start_time": "2024-05-20T08:26:06.125Z"
   },
   {
    "duration": 0,
    "start_time": "2024-05-20T08:26:06.126Z"
   },
   {
    "duration": 0,
    "start_time": "2024-05-20T08:26:06.127Z"
   },
   {
    "duration": 0,
    "start_time": "2024-05-20T08:26:06.128Z"
   },
   {
    "duration": 0,
    "start_time": "2024-05-20T08:26:06.129Z"
   },
   {
    "duration": 0,
    "start_time": "2024-05-20T08:26:06.130Z"
   },
   {
    "duration": 0,
    "start_time": "2024-05-20T08:26:06.131Z"
   },
   {
    "duration": 0,
    "start_time": "2024-05-20T08:26:06.132Z"
   },
   {
    "duration": 0,
    "start_time": "2024-05-20T08:26:06.133Z"
   },
   {
    "duration": 0,
    "start_time": "2024-05-20T08:26:06.134Z"
   },
   {
    "duration": 0,
    "start_time": "2024-05-20T08:26:06.135Z"
   },
   {
    "duration": 0,
    "start_time": "2024-05-20T08:26:06.136Z"
   },
   {
    "duration": 0,
    "start_time": "2024-05-20T08:26:06.137Z"
   },
   {
    "duration": 0,
    "start_time": "2024-05-20T08:26:06.138Z"
   },
   {
    "duration": 0,
    "start_time": "2024-05-20T08:26:06.139Z"
   },
   {
    "duration": 0,
    "start_time": "2024-05-20T08:26:06.140Z"
   },
   {
    "duration": 0,
    "start_time": "2024-05-20T08:26:06.141Z"
   },
   {
    "duration": 0,
    "start_time": "2024-05-20T08:26:06.141Z"
   },
   {
    "duration": 0,
    "start_time": "2024-05-20T08:26:06.143Z"
   },
   {
    "duration": 0,
    "start_time": "2024-05-20T08:26:06.143Z"
   },
   {
    "duration": 0,
    "start_time": "2024-05-20T08:26:06.144Z"
   },
   {
    "duration": 0,
    "start_time": "2024-05-20T08:26:06.145Z"
   },
   {
    "duration": 0,
    "start_time": "2024-05-20T08:26:06.146Z"
   },
   {
    "duration": 0,
    "start_time": "2024-05-20T08:26:06.147Z"
   },
   {
    "duration": 0,
    "start_time": "2024-05-20T08:26:06.148Z"
   },
   {
    "duration": 39,
    "start_time": "2024-05-20T08:28:44.299Z"
   },
   {
    "duration": 18,
    "start_time": "2024-05-20T08:29:05.802Z"
   },
   {
    "duration": 48,
    "start_time": "2024-05-20T08:37:55.519Z"
   },
   {
    "duration": 12,
    "start_time": "2024-05-20T08:38:12.900Z"
   },
   {
    "duration": 8171,
    "start_time": "2024-05-20T08:38:25.896Z"
   },
   {
    "duration": 1558,
    "start_time": "2024-05-20T08:38:34.069Z"
   },
   {
    "duration": 770,
    "start_time": "2024-05-20T08:38:35.628Z"
   },
   {
    "duration": 118,
    "start_time": "2024-05-20T08:38:36.400Z"
   },
   {
    "duration": 395,
    "start_time": "2024-05-20T08:38:36.520Z"
   },
   {
    "duration": 86,
    "start_time": "2024-05-20T08:38:36.916Z"
   },
   {
    "duration": 373,
    "start_time": "2024-05-20T08:38:37.004Z"
   },
   {
    "duration": 116,
    "start_time": "2024-05-20T08:38:37.379Z"
   },
   {
    "duration": 700,
    "start_time": "2024-05-20T08:38:37.496Z"
   },
   {
    "duration": 445,
    "start_time": "2024-05-20T08:38:38.199Z"
   },
   {
    "duration": 3374,
    "start_time": "2024-05-20T08:38:38.646Z"
   },
   {
    "duration": 30,
    "start_time": "2024-05-20T08:38:42.021Z"
   },
   {
    "duration": 201,
    "start_time": "2024-05-20T08:38:42.052Z"
   },
   {
    "duration": 640,
    "start_time": "2024-05-20T08:38:42.255Z"
   },
   {
    "duration": 44,
    "start_time": "2024-05-20T08:38:42.896Z"
   },
   {
    "duration": 17,
    "start_time": "2024-05-20T08:38:42.941Z"
   },
   {
    "duration": 85,
    "start_time": "2024-05-20T08:38:42.959Z"
   },
   {
    "duration": 125,
    "start_time": "2024-05-20T08:38:43.046Z"
   },
   {
    "duration": 0,
    "start_time": "2024-05-20T08:38:43.173Z"
   },
   {
    "duration": 0,
    "start_time": "2024-05-20T08:38:43.174Z"
   },
   {
    "duration": 0,
    "start_time": "2024-05-20T08:38:43.175Z"
   },
   {
    "duration": 0,
    "start_time": "2024-05-20T08:38:43.175Z"
   },
   {
    "duration": 0,
    "start_time": "2024-05-20T08:38:43.177Z"
   },
   {
    "duration": 0,
    "start_time": "2024-05-20T08:38:43.178Z"
   },
   {
    "duration": 0,
    "start_time": "2024-05-20T08:38:43.179Z"
   },
   {
    "duration": 0,
    "start_time": "2024-05-20T08:38:43.180Z"
   },
   {
    "duration": 0,
    "start_time": "2024-05-20T08:38:43.180Z"
   },
   {
    "duration": 0,
    "start_time": "2024-05-20T08:38:43.181Z"
   },
   {
    "duration": 0,
    "start_time": "2024-05-20T08:38:43.182Z"
   },
   {
    "duration": 0,
    "start_time": "2024-05-20T08:38:43.183Z"
   },
   {
    "duration": 0,
    "start_time": "2024-05-20T08:38:43.184Z"
   },
   {
    "duration": 0,
    "start_time": "2024-05-20T08:38:43.185Z"
   },
   {
    "duration": 0,
    "start_time": "2024-05-20T08:38:43.212Z"
   },
   {
    "duration": 0,
    "start_time": "2024-05-20T08:38:43.213Z"
   },
   {
    "duration": 0,
    "start_time": "2024-05-20T08:38:43.213Z"
   },
   {
    "duration": 0,
    "start_time": "2024-05-20T08:38:43.214Z"
   },
   {
    "duration": 0,
    "start_time": "2024-05-20T08:38:43.215Z"
   },
   {
    "duration": 0,
    "start_time": "2024-05-20T08:38:43.216Z"
   },
   {
    "duration": 0,
    "start_time": "2024-05-20T08:38:43.217Z"
   },
   {
    "duration": 1,
    "start_time": "2024-05-20T08:38:43.218Z"
   },
   {
    "duration": 0,
    "start_time": "2024-05-20T08:38:43.220Z"
   },
   {
    "duration": 62,
    "start_time": "2024-05-20T08:39:38.535Z"
   },
   {
    "duration": 70,
    "start_time": "2024-05-20T08:40:05.910Z"
   },
   {
    "duration": 2578,
    "start_time": "2024-05-20T08:40:14.066Z"
   },
   {
    "duration": 67,
    "start_time": "2024-05-20T08:41:03.976Z"
   },
   {
    "duration": 98,
    "start_time": "2024-05-20T08:47:39.120Z"
   },
   {
    "duration": 65,
    "start_time": "2024-05-20T08:47:54.761Z"
   },
   {
    "duration": 135,
    "start_time": "2024-05-20T08:49:26.531Z"
   },
   {
    "duration": 160,
    "start_time": "2024-05-20T08:50:06.141Z"
   },
   {
    "duration": 54,
    "start_time": "2024-05-20T08:51:33.065Z"
   },
   {
    "duration": 736,
    "start_time": "2024-05-20T08:51:37.352Z"
   },
   {
    "duration": 28,
    "start_time": "2024-05-20T08:53:51.069Z"
   },
   {
    "duration": 662,
    "start_time": "2024-05-20T09:03:09.973Z"
   },
   {
    "duration": 645,
    "start_time": "2024-05-20T09:03:36.401Z"
   },
   {
    "duration": 600,
    "start_time": "2024-05-20T09:04:09.765Z"
   },
   {
    "duration": 8145,
    "start_time": "2024-05-20T09:04:32.475Z"
   },
   {
    "duration": 1601,
    "start_time": "2024-05-20T09:04:40.623Z"
   },
   {
    "duration": 769,
    "start_time": "2024-05-20T09:04:42.225Z"
   },
   {
    "duration": 116,
    "start_time": "2024-05-20T09:04:42.996Z"
   },
   {
    "duration": 386,
    "start_time": "2024-05-20T09:04:43.113Z"
   },
   {
    "duration": 112,
    "start_time": "2024-05-20T09:04:43.501Z"
   },
   {
    "duration": 355,
    "start_time": "2024-05-20T09:04:43.614Z"
   },
   {
    "duration": 117,
    "start_time": "2024-05-20T09:04:43.970Z"
   },
   {
    "duration": 653,
    "start_time": "2024-05-20T09:04:44.089Z"
   },
   {
    "duration": 457,
    "start_time": "2024-05-20T09:04:44.745Z"
   },
   {
    "duration": 3409,
    "start_time": "2024-05-20T09:04:45.203Z"
   },
   {
    "duration": 30,
    "start_time": "2024-05-20T09:04:48.613Z"
   },
   {
    "duration": 204,
    "start_time": "2024-05-20T09:04:48.644Z"
   },
   {
    "duration": 662,
    "start_time": "2024-05-20T09:04:48.850Z"
   },
   {
    "duration": 37,
    "start_time": "2024-05-20T09:04:49.514Z"
   },
   {
    "duration": 17,
    "start_time": "2024-05-20T09:04:49.553Z"
   },
   {
    "duration": 94,
    "start_time": "2024-05-20T09:04:49.571Z"
   },
   {
    "duration": 69,
    "start_time": "2024-05-20T09:04:49.666Z"
   },
   {
    "duration": 76,
    "start_time": "2024-05-20T09:04:49.737Z"
   },
   {
    "duration": 2638,
    "start_time": "2024-05-20T09:04:49.814Z"
   },
   {
    "duration": 76,
    "start_time": "2024-05-20T09:04:52.454Z"
   },
   {
    "duration": 110,
    "start_time": "2024-05-20T09:04:52.531Z"
   },
   {
    "duration": 77,
    "start_time": "2024-05-20T09:04:52.643Z"
   },
   {
    "duration": 162,
    "start_time": "2024-05-20T09:04:52.722Z"
   },
   {
    "duration": 174,
    "start_time": "2024-05-20T09:04:52.885Z"
   },
   {
    "duration": 69,
    "start_time": "2024-05-20T09:04:53.061Z"
   },
   {
    "duration": 125,
    "start_time": "2024-05-20T09:04:53.132Z"
   },
   {
    "duration": 0,
    "start_time": "2024-05-20T09:04:53.259Z"
   },
   {
    "duration": 0,
    "start_time": "2024-05-20T09:04:53.260Z"
   },
   {
    "duration": 0,
    "start_time": "2024-05-20T09:04:53.261Z"
   },
   {
    "duration": 0,
    "start_time": "2024-05-20T09:04:53.262Z"
   },
   {
    "duration": 0,
    "start_time": "2024-05-20T09:04:53.263Z"
   },
   {
    "duration": 0,
    "start_time": "2024-05-20T09:04:53.264Z"
   },
   {
    "duration": 0,
    "start_time": "2024-05-20T09:04:53.265Z"
   },
   {
    "duration": 0,
    "start_time": "2024-05-20T09:04:53.266Z"
   },
   {
    "duration": 0,
    "start_time": "2024-05-20T09:04:53.267Z"
   },
   {
    "duration": 0,
    "start_time": "2024-05-20T09:04:53.268Z"
   },
   {
    "duration": 0,
    "start_time": "2024-05-20T09:04:53.270Z"
   },
   {
    "duration": 0,
    "start_time": "2024-05-20T09:04:53.271Z"
   },
   {
    "duration": 0,
    "start_time": "2024-05-20T09:04:53.272Z"
   },
   {
    "duration": 0,
    "start_time": "2024-05-20T09:04:53.274Z"
   },
   {
    "duration": 688,
    "start_time": "2024-05-20T09:05:21.367Z"
   },
   {
    "duration": 642,
    "start_time": "2024-05-20T09:06:01.417Z"
   },
   {
    "duration": 681,
    "start_time": "2024-05-20T09:09:58.600Z"
   },
   {
    "duration": 32,
    "start_time": "2024-05-20T09:13:16.945Z"
   },
   {
    "duration": 117,
    "start_time": "2024-05-20T09:13:28.350Z"
   },
   {
    "duration": 10198,
    "start_time": "2024-05-20T09:16:45.139Z"
   },
   {
    "duration": 17053,
    "start_time": "2024-05-20T09:17:00.759Z"
   },
   {
    "duration": 7963,
    "start_time": "2024-05-20T09:17:28.755Z"
   },
   {
    "duration": 14314,
    "start_time": "2024-05-20T09:17:41.306Z"
   },
   {
    "duration": 174,
    "start_time": "2024-05-20T09:19:20.028Z"
   },
   {
    "duration": 176151,
    "start_time": "2024-05-20T09:19:30.662Z"
   },
   {
    "duration": 3356,
    "start_time": "2024-05-20T09:31:27.418Z"
   },
   {
    "duration": 1861,
    "start_time": "2024-05-20T09:32:02.152Z"
   },
   {
    "duration": 1863,
    "start_time": "2024-05-20T09:32:14.850Z"
   },
   {
    "duration": 1814,
    "start_time": "2024-05-20T09:33:46.500Z"
   },
   {
    "duration": 1794,
    "start_time": "2024-05-20T09:35:13.924Z"
   },
   {
    "duration": 1336,
    "start_time": "2024-05-20T09:36:54.477Z"
   },
   {
    "duration": 808,
    "start_time": "2024-05-20T09:37:37.411Z"
   },
   {
    "duration": 1829,
    "start_time": "2024-05-20T09:38:06.949Z"
   },
   {
    "duration": 24515,
    "start_time": "2024-05-20T09:38:35.600Z"
   },
   {
    "duration": 11,
    "start_time": "2024-05-20T09:43:35.251Z"
   },
   {
    "duration": 1787,
    "start_time": "2024-05-20T09:45:32.629Z"
   },
   {
    "duration": 1782,
    "start_time": "2024-05-20T09:45:37.832Z"
   },
   {
    "duration": 874,
    "start_time": "2024-05-20T09:45:50.955Z"
   },
   {
    "duration": 1789,
    "start_time": "2024-05-20T09:45:56.382Z"
   },
   {
    "duration": 25565,
    "start_time": "2024-05-20T09:46:10.562Z"
   },
   {
    "duration": 913,
    "start_time": "2024-05-20T09:46:43.668Z"
   },
   {
    "duration": 10,
    "start_time": "2024-05-20T09:46:57.668Z"
   },
   {
    "duration": 66,
    "start_time": "2024-05-20T09:53:03.625Z"
   },
   {
    "duration": 2,
    "start_time": "2024-05-20T09:53:17.279Z"
   },
   {
    "duration": 12404,
    "start_time": "2024-05-20T09:54:38.515Z"
   },
   {
    "duration": 13189,
    "start_time": "2024-05-20T09:56:20.862Z"
   },
   {
    "duration": 8094,
    "start_time": "2024-05-20T09:57:47.272Z"
   },
   {
    "duration": 1543,
    "start_time": "2024-05-20T09:57:55.368Z"
   },
   {
    "duration": 783,
    "start_time": "2024-05-20T09:57:56.913Z"
   },
   {
    "duration": 119,
    "start_time": "2024-05-20T09:57:57.698Z"
   },
   {
    "duration": 380,
    "start_time": "2024-05-20T09:57:57.819Z"
   },
   {
    "duration": 96,
    "start_time": "2024-05-20T09:57:58.200Z"
   },
   {
    "duration": 355,
    "start_time": "2024-05-20T09:57:58.298Z"
   },
   {
    "duration": 117,
    "start_time": "2024-05-20T09:57:58.654Z"
   },
   {
    "duration": 675,
    "start_time": "2024-05-20T09:57:58.772Z"
   },
   {
    "duration": 442,
    "start_time": "2024-05-20T09:57:59.450Z"
   },
   {
    "duration": 3492,
    "start_time": "2024-05-20T09:57:59.894Z"
   },
   {
    "duration": 37,
    "start_time": "2024-05-20T09:58:03.387Z"
   },
   {
    "duration": 237,
    "start_time": "2024-05-20T09:58:03.425Z"
   },
   {
    "duration": 648,
    "start_time": "2024-05-20T09:58:03.664Z"
   },
   {
    "duration": 37,
    "start_time": "2024-05-20T09:58:04.313Z"
   },
   {
    "duration": 17,
    "start_time": "2024-05-20T09:58:04.352Z"
   },
   {
    "duration": 103,
    "start_time": "2024-05-20T09:58:04.371Z"
   },
   {
    "duration": 65,
    "start_time": "2024-05-20T09:58:04.475Z"
   },
   {
    "duration": 83,
    "start_time": "2024-05-20T09:58:04.541Z"
   },
   {
    "duration": 2721,
    "start_time": "2024-05-20T09:58:04.625Z"
   },
   {
    "duration": 71,
    "start_time": "2024-05-20T09:58:07.347Z"
   },
   {
    "duration": 108,
    "start_time": "2024-05-20T09:58:07.419Z"
   },
   {
    "duration": 65,
    "start_time": "2024-05-20T09:58:07.529Z"
   },
   {
    "duration": 147,
    "start_time": "2024-05-20T09:58:07.595Z"
   },
   {
    "duration": 156,
    "start_time": "2024-05-20T09:58:07.743Z"
   },
   {
    "duration": 62,
    "start_time": "2024-05-20T09:58:07.900Z"
   },
   {
    "duration": 743,
    "start_time": "2024-05-20T09:58:07.963Z"
   },
   {
    "duration": 33,
    "start_time": "2024-05-20T09:58:08.712Z"
   },
   {
    "duration": 102,
    "start_time": "2024-05-20T09:58:08.746Z"
   },
   {
    "duration": 10263,
    "start_time": "2024-05-20T09:58:08.850Z"
   },
   {
    "duration": 15796,
    "start_time": "2024-05-20T09:58:19.115Z"
   },
   {
    "duration": 7808,
    "start_time": "2024-05-20T09:58:34.913Z"
   },
   {
    "duration": 16228,
    "start_time": "2024-05-20T09:58:42.723Z"
   },
   {
    "duration": 180,
    "start_time": "2024-05-20T09:58:58.953Z"
   },
   {
    "duration": 13210,
    "start_time": "2024-05-20T10:02:10.229Z"
   },
   {
    "duration": 7998,
    "start_time": "2024-05-20T10:08:01.830Z"
   },
   {
    "duration": 1574,
    "start_time": "2024-05-20T10:08:09.831Z"
   },
   {
    "duration": 766,
    "start_time": "2024-05-20T10:08:11.407Z"
   },
   {
    "duration": 127,
    "start_time": "2024-05-20T10:08:12.174Z"
   },
   {
    "duration": 391,
    "start_time": "2024-05-20T10:08:12.303Z"
   },
   {
    "duration": 87,
    "start_time": "2024-05-20T10:08:12.696Z"
   },
   {
    "duration": 358,
    "start_time": "2024-05-20T10:08:12.784Z"
   },
   {
    "duration": 111,
    "start_time": "2024-05-20T10:08:13.143Z"
   },
   {
    "duration": 698,
    "start_time": "2024-05-20T10:08:13.256Z"
   },
   {
    "duration": 449,
    "start_time": "2024-05-20T10:08:13.957Z"
   },
   {
    "duration": 3413,
    "start_time": "2024-05-20T10:08:14.407Z"
   },
   {
    "duration": 33,
    "start_time": "2024-05-20T10:08:17.822Z"
   },
   {
    "duration": 233,
    "start_time": "2024-05-20T10:08:17.856Z"
   },
   {
    "duration": 732,
    "start_time": "2024-05-20T10:08:18.090Z"
   },
   {
    "duration": 39,
    "start_time": "2024-05-20T10:08:18.824Z"
   },
   {
    "duration": 17,
    "start_time": "2024-05-20T10:08:18.865Z"
   },
   {
    "duration": 100,
    "start_time": "2024-05-20T10:08:18.883Z"
   },
   {
    "duration": 77,
    "start_time": "2024-05-20T10:08:18.984Z"
   },
   {
    "duration": 80,
    "start_time": "2024-05-20T10:08:19.063Z"
   },
   {
    "duration": 2709,
    "start_time": "2024-05-20T10:08:19.144Z"
   },
   {
    "duration": 83,
    "start_time": "2024-05-20T10:08:21.854Z"
   },
   {
    "duration": 107,
    "start_time": "2024-05-20T10:08:21.938Z"
   },
   {
    "duration": 71,
    "start_time": "2024-05-20T10:08:22.046Z"
   },
   {
    "duration": 141,
    "start_time": "2024-05-20T10:08:22.119Z"
   },
   {
    "duration": 153,
    "start_time": "2024-05-20T10:08:22.261Z"
   },
   {
    "duration": 52,
    "start_time": "2024-05-20T10:08:22.416Z"
   },
   {
    "duration": 736,
    "start_time": "2024-05-20T10:08:22.470Z"
   },
   {
    "duration": 34,
    "start_time": "2024-05-20T10:08:23.212Z"
   },
   {
    "duration": 94,
    "start_time": "2024-05-20T10:08:23.248Z"
   },
   {
    "duration": 8232,
    "start_time": "2024-05-20T10:08:33.721Z"
   },
   {
    "duration": 1544,
    "start_time": "2024-05-20T10:08:41.956Z"
   },
   {
    "duration": 817,
    "start_time": "2024-05-20T10:08:43.502Z"
   },
   {
    "duration": 126,
    "start_time": "2024-05-20T10:08:44.320Z"
   },
   {
    "duration": 421,
    "start_time": "2024-05-20T10:08:44.448Z"
   },
   {
    "duration": 94,
    "start_time": "2024-05-20T10:08:44.871Z"
   },
   {
    "duration": 392,
    "start_time": "2024-05-20T10:08:44.966Z"
   },
   {
    "duration": 112,
    "start_time": "2024-05-20T10:08:45.359Z"
   },
   {
    "duration": 672,
    "start_time": "2024-05-20T10:08:45.472Z"
   },
   {
    "duration": 451,
    "start_time": "2024-05-20T10:08:46.148Z"
   },
   {
    "duration": 3398,
    "start_time": "2024-05-20T10:08:46.601Z"
   },
   {
    "duration": 37,
    "start_time": "2024-05-20T10:08:50.000Z"
   },
   {
    "duration": 218,
    "start_time": "2024-05-20T10:08:50.038Z"
   },
   {
    "duration": 645,
    "start_time": "2024-05-20T10:08:50.258Z"
   },
   {
    "duration": 41,
    "start_time": "2024-05-20T10:08:50.905Z"
   },
   {
    "duration": 17,
    "start_time": "2024-05-20T10:08:50.948Z"
   },
   {
    "duration": 92,
    "start_time": "2024-05-20T10:08:50.966Z"
   },
   {
    "duration": 75,
    "start_time": "2024-05-20T10:08:51.060Z"
   },
   {
    "duration": 77,
    "start_time": "2024-05-20T10:08:51.136Z"
   },
   {
    "duration": 2667,
    "start_time": "2024-05-20T10:08:51.215Z"
   },
   {
    "duration": 70,
    "start_time": "2024-05-20T10:08:53.884Z"
   },
   {
    "duration": 106,
    "start_time": "2024-05-20T10:08:53.955Z"
   },
   {
    "duration": 70,
    "start_time": "2024-05-20T10:08:54.063Z"
   },
   {
    "duration": 137,
    "start_time": "2024-05-20T10:08:54.135Z"
   },
   {
    "duration": 156,
    "start_time": "2024-05-20T10:08:54.274Z"
   },
   {
    "duration": 50,
    "start_time": "2024-05-20T10:08:54.431Z"
   },
   {
    "duration": 761,
    "start_time": "2024-05-20T10:08:54.483Z"
   },
   {
    "duration": 33,
    "start_time": "2024-05-20T10:08:55.248Z"
   },
   {
    "duration": 99,
    "start_time": "2024-05-20T10:08:55.283Z"
   },
   {
    "duration": 10430,
    "start_time": "2024-05-20T10:08:55.383Z"
   },
   {
    "duration": 210,
    "start_time": "2024-05-20T10:09:05.814Z"
   },
   {
    "duration": 0,
    "start_time": "2024-05-20T10:09:06.025Z"
   },
   {
    "duration": 0,
    "start_time": "2024-05-20T10:09:06.026Z"
   },
   {
    "duration": 0,
    "start_time": "2024-05-20T10:09:06.027Z"
   },
   {
    "duration": 0,
    "start_time": "2024-05-20T10:09:06.029Z"
   },
   {
    "duration": 0,
    "start_time": "2024-05-20T10:09:06.030Z"
   },
   {
    "duration": 0,
    "start_time": "2024-05-20T10:09:06.031Z"
   },
   {
    "duration": 0,
    "start_time": "2024-05-20T10:09:06.032Z"
   },
   {
    "duration": 0,
    "start_time": "2024-05-20T10:09:06.033Z"
   },
   {
    "duration": 1,
    "start_time": "2024-05-20T10:09:06.033Z"
   },
   {
    "duration": 0,
    "start_time": "2024-05-20T10:09:06.034Z"
   },
   {
    "duration": 0,
    "start_time": "2024-05-20T10:09:06.035Z"
   },
   {
    "duration": 68,
    "start_time": "2024-05-20T10:09:31.641Z"
   },
   {
    "duration": 9,
    "start_time": "2024-05-20T10:10:11.060Z"
   },
   {
    "duration": 9217,
    "start_time": "2024-05-20T10:10:16.406Z"
   },
   {
    "duration": 9,
    "start_time": "2024-05-20T10:10:58.435Z"
   },
   {
    "duration": 14938,
    "start_time": "2024-05-20T10:11:04.978Z"
   },
   {
    "duration": 6907,
    "start_time": "2024-05-20T10:14:09.707Z"
   },
   {
    "duration": 11069,
    "start_time": "2024-05-20T10:14:36.733Z"
   },
   {
    "duration": 8101,
    "start_time": "2024-05-20T10:17:11.161Z"
   },
   {
    "duration": 1473,
    "start_time": "2024-05-20T10:17:19.264Z"
   },
   {
    "duration": 773,
    "start_time": "2024-05-20T10:17:20.739Z"
   },
   {
    "duration": 120,
    "start_time": "2024-05-20T10:17:21.514Z"
   },
   {
    "duration": 410,
    "start_time": "2024-05-20T10:17:21.635Z"
   },
   {
    "duration": 92,
    "start_time": "2024-05-20T10:17:22.046Z"
   },
   {
    "duration": 376,
    "start_time": "2024-05-20T10:17:22.140Z"
   },
   {
    "duration": 112,
    "start_time": "2024-05-20T10:17:22.517Z"
   },
   {
    "duration": 674,
    "start_time": "2024-05-20T10:17:22.630Z"
   },
   {
    "duration": 488,
    "start_time": "2024-05-20T10:17:23.306Z"
   },
   {
    "duration": 3398,
    "start_time": "2024-05-20T10:17:23.796Z"
   },
   {
    "duration": 38,
    "start_time": "2024-05-20T10:17:27.196Z"
   },
   {
    "duration": 221,
    "start_time": "2024-05-20T10:17:27.235Z"
   },
   {
    "duration": 639,
    "start_time": "2024-05-20T10:17:27.458Z"
   },
   {
    "duration": 40,
    "start_time": "2024-05-20T10:17:28.099Z"
   },
   {
    "duration": 18,
    "start_time": "2024-05-20T10:17:28.140Z"
   },
   {
    "duration": 97,
    "start_time": "2024-05-20T10:17:28.159Z"
   },
   {
    "duration": 70,
    "start_time": "2024-05-20T10:17:28.258Z"
   },
   {
    "duration": 69,
    "start_time": "2024-05-20T10:17:28.330Z"
   },
   {
    "duration": 2669,
    "start_time": "2024-05-20T10:17:28.411Z"
   },
   {
    "duration": 73,
    "start_time": "2024-05-20T10:17:31.081Z"
   },
   {
    "duration": 116,
    "start_time": "2024-05-20T10:17:31.156Z"
   },
   {
    "duration": 74,
    "start_time": "2024-05-20T10:17:31.273Z"
   },
   {
    "duration": 150,
    "start_time": "2024-05-20T10:17:31.349Z"
   },
   {
    "duration": 152,
    "start_time": "2024-05-20T10:17:31.501Z"
   },
   {
    "duration": 59,
    "start_time": "2024-05-20T10:17:31.654Z"
   },
   {
    "duration": 746,
    "start_time": "2024-05-20T10:17:31.714Z"
   },
   {
    "duration": 32,
    "start_time": "2024-05-20T10:17:32.463Z"
   },
   {
    "duration": 98,
    "start_time": "2024-05-20T10:17:32.496Z"
   },
   {
    "duration": 9335,
    "start_time": "2024-05-20T10:17:32.596Z"
   },
   {
    "duration": 13280,
    "start_time": "2024-05-20T10:17:41.932Z"
   },
   {
    "duration": 7402,
    "start_time": "2024-05-20T10:17:55.214Z"
   },
   {
    "duration": 11524,
    "start_time": "2024-05-20T10:18:02.618Z"
   },
   {
    "duration": 175,
    "start_time": "2024-05-20T10:18:14.143Z"
   },
   {
    "duration": 130897,
    "start_time": "2024-05-20T10:18:14.320Z"
   },
   {
    "duration": 1793,
    "start_time": "2024-05-20T10:20:25.220Z"
   },
   {
    "duration": 1898,
    "start_time": "2024-05-20T10:20:27.015Z"
   },
   {
    "duration": 1001,
    "start_time": "2024-05-20T10:20:28.915Z"
   },
   {
    "duration": 1957,
    "start_time": "2024-05-20T10:20:29.918Z"
   },
   {
    "duration": 29744,
    "start_time": "2024-05-20T10:20:31.876Z"
   },
   {
    "duration": 9,
    "start_time": "2024-05-20T10:21:01.622Z"
   },
   {
    "duration": 13823,
    "start_time": "2024-05-20T10:21:01.633Z"
   },
   {
    "duration": 9017,
    "start_time": "2024-05-20T10:39:39.005Z"
   },
   {
    "duration": 9219,
    "start_time": "2024-05-20T10:40:00.810Z"
   },
   {
    "duration": 9216,
    "start_time": "2024-05-20T10:40:49.916Z"
   },
   {
    "duration": 428,
    "start_time": "2024-05-20T10:41:48.245Z"
   },
   {
    "duration": 9284,
    "start_time": "2024-05-20T10:42:01.847Z"
   },
   {
    "duration": 14471,
    "start_time": "2024-05-20T10:42:29.645Z"
   },
   {
    "duration": 7298,
    "start_time": "2024-05-20T10:42:44.118Z"
   },
   {
    "duration": 10085,
    "start_time": "2024-05-20T10:43:04.630Z"
   },
   {
    "duration": 128,
    "start_time": "2024-05-20T10:43:33.448Z"
   },
   {
    "duration": 8018,
    "start_time": "2024-05-20T10:51:17.581Z"
   },
   {
    "duration": 1515,
    "start_time": "2024-05-20T10:51:25.602Z"
   },
   {
    "duration": 777,
    "start_time": "2024-05-20T10:51:27.119Z"
   },
   {
    "duration": 124,
    "start_time": "2024-05-20T10:51:27.898Z"
   },
   {
    "duration": 392,
    "start_time": "2024-05-20T10:51:28.024Z"
   },
   {
    "duration": 87,
    "start_time": "2024-05-20T10:51:28.418Z"
   },
   {
    "duration": 350,
    "start_time": "2024-05-20T10:51:28.512Z"
   },
   {
    "duration": 125,
    "start_time": "2024-05-20T10:51:28.863Z"
   },
   {
    "duration": 673,
    "start_time": "2024-05-20T10:51:28.990Z"
   },
   {
    "duration": 447,
    "start_time": "2024-05-20T10:51:29.665Z"
   },
   {
    "duration": 3386,
    "start_time": "2024-05-20T10:51:30.113Z"
   },
   {
    "duration": 36,
    "start_time": "2024-05-20T10:51:33.501Z"
   },
   {
    "duration": 222,
    "start_time": "2024-05-20T10:51:33.539Z"
   },
   {
    "duration": 650,
    "start_time": "2024-05-20T10:51:33.763Z"
   },
   {
    "duration": 38,
    "start_time": "2024-05-20T10:51:34.415Z"
   },
   {
    "duration": 17,
    "start_time": "2024-05-20T10:51:34.455Z"
   },
   {
    "duration": 98,
    "start_time": "2024-05-20T10:51:34.474Z"
   },
   {
    "duration": 77,
    "start_time": "2024-05-20T10:51:34.574Z"
   },
   {
    "duration": 77,
    "start_time": "2024-05-20T10:51:34.653Z"
   },
   {
    "duration": 2709,
    "start_time": "2024-05-20T10:51:34.732Z"
   },
   {
    "duration": 75,
    "start_time": "2024-05-20T10:51:37.443Z"
   },
   {
    "duration": 125,
    "start_time": "2024-05-20T10:51:37.520Z"
   },
   {
    "duration": 71,
    "start_time": "2024-05-20T10:51:37.647Z"
   },
   {
    "duration": 140,
    "start_time": "2024-05-20T10:51:37.719Z"
   },
   {
    "duration": 154,
    "start_time": "2024-05-20T10:51:37.861Z"
   },
   {
    "duration": 52,
    "start_time": "2024-05-20T10:51:38.017Z"
   },
   {
    "duration": 729,
    "start_time": "2024-05-20T10:51:38.071Z"
   },
   {
    "duration": 37,
    "start_time": "2024-05-20T10:51:38.804Z"
   },
   {
    "duration": 93,
    "start_time": "2024-05-20T10:51:38.843Z"
   },
   {
    "duration": 9286,
    "start_time": "2024-05-20T10:51:38.937Z"
   },
   {
    "duration": 14907,
    "start_time": "2024-05-20T10:51:48.224Z"
   },
   {
    "duration": 7397,
    "start_time": "2024-05-20T10:52:03.217Z"
   },
   {
    "duration": 10567,
    "start_time": "2024-05-20T10:52:10.616Z"
   },
   {
    "duration": 175,
    "start_time": "2024-05-20T10:52:21.184Z"
   },
   {
    "duration": 137459,
    "start_time": "2024-05-20T10:52:21.360Z"
   },
   {
    "duration": 1903,
    "start_time": "2024-05-20T10:54:38.911Z"
   },
   {
    "duration": 1904,
    "start_time": "2024-05-20T10:54:40.816Z"
   },
   {
    "duration": 802,
    "start_time": "2024-05-20T10:54:42.721Z"
   },
   {
    "duration": 1983,
    "start_time": "2024-05-20T10:54:43.525Z"
   },
   {
    "duration": 27212,
    "start_time": "2024-05-20T10:54:45.509Z"
   },
   {
    "duration": 10,
    "start_time": "2024-05-20T10:55:12.723Z"
   },
   {
    "duration": 12805,
    "start_time": "2024-05-20T10:55:12.811Z"
   },
   {
    "duration": 8135,
    "start_time": "2024-05-20T11:01:14.542Z"
   },
   {
    "duration": 2254,
    "start_time": "2024-05-20T11:01:22.679Z"
   },
   {
    "duration": 785,
    "start_time": "2024-05-20T11:01:24.934Z"
   },
   {
    "duration": 127,
    "start_time": "2024-05-20T11:01:25.722Z"
   },
   {
    "duration": 412,
    "start_time": "2024-05-20T11:01:25.850Z"
   },
   {
    "duration": 98,
    "start_time": "2024-05-20T11:01:26.263Z"
   },
   {
    "duration": 363,
    "start_time": "2024-05-20T11:01:26.363Z"
   },
   {
    "duration": 115,
    "start_time": "2024-05-20T11:01:26.728Z"
   },
   {
    "duration": 675,
    "start_time": "2024-05-20T11:01:26.845Z"
   },
   {
    "duration": 450,
    "start_time": "2024-05-20T11:01:27.523Z"
   },
   {
    "duration": 3331,
    "start_time": "2024-05-20T11:01:27.974Z"
   },
   {
    "duration": 33,
    "start_time": "2024-05-20T11:01:31.306Z"
   },
   {
    "duration": 223,
    "start_time": "2024-05-20T11:01:31.340Z"
   },
   {
    "duration": 651,
    "start_time": "2024-05-20T11:01:31.565Z"
   },
   {
    "duration": 38,
    "start_time": "2024-05-20T11:01:32.218Z"
   },
   {
    "duration": 17,
    "start_time": "2024-05-20T11:01:32.257Z"
   },
   {
    "duration": 90,
    "start_time": "2024-05-20T11:01:32.276Z"
   },
   {
    "duration": 65,
    "start_time": "2024-05-20T11:01:32.367Z"
   },
   {
    "duration": 80,
    "start_time": "2024-05-20T11:01:32.434Z"
   },
   {
    "duration": 2734,
    "start_time": "2024-05-20T11:01:32.516Z"
   },
   {
    "duration": 70,
    "start_time": "2024-05-20T11:01:35.252Z"
   },
   {
    "duration": 107,
    "start_time": "2024-05-20T11:01:35.323Z"
   },
   {
    "duration": 65,
    "start_time": "2024-05-20T11:01:35.432Z"
   },
   {
    "duration": 155,
    "start_time": "2024-05-20T11:01:35.498Z"
   },
   {
    "duration": 159,
    "start_time": "2024-05-20T11:01:35.654Z"
   },
   {
    "duration": 51,
    "start_time": "2024-05-20T11:01:35.814Z"
   },
   {
    "duration": 745,
    "start_time": "2024-05-20T11:01:35.866Z"
   },
   {
    "duration": 34,
    "start_time": "2024-05-20T11:01:36.614Z"
   },
   {
    "duration": 96,
    "start_time": "2024-05-20T11:01:36.649Z"
   },
   {
    "duration": 9378,
    "start_time": "2024-05-20T11:01:36.746Z"
   },
   {
    "duration": 14690,
    "start_time": "2024-05-20T11:01:46.126Z"
   },
   {
    "duration": 7302,
    "start_time": "2024-05-20T11:02:00.818Z"
   },
   {
    "duration": 11944,
    "start_time": "2024-05-20T11:02:08.122Z"
   },
   {
    "duration": 179,
    "start_time": "2024-05-20T11:02:20.068Z"
   },
   {
    "duration": 134670,
    "start_time": "2024-05-20T11:02:20.249Z"
   },
   {
    "duration": 1995,
    "start_time": "2024-05-20T11:04:34.921Z"
   },
   {
    "duration": 1895,
    "start_time": "2024-05-20T11:04:36.918Z"
   },
   {
    "duration": 896,
    "start_time": "2024-05-20T11:04:38.815Z"
   },
   {
    "duration": 1898,
    "start_time": "2024-05-20T11:04:39.715Z"
   },
   {
    "duration": 29798,
    "start_time": "2024-05-20T11:04:41.615Z"
   },
   {
    "duration": 10,
    "start_time": "2024-05-20T11:05:11.415Z"
   },
   {
    "duration": 13264,
    "start_time": "2024-05-20T11:05:11.426Z"
   },
   {
    "duration": 7983,
    "start_time": "2024-05-21T13:07:27.147Z"
   },
   {
    "duration": 1730,
    "start_time": "2024-05-21T13:07:35.133Z"
   },
   {
    "duration": 1300,
    "start_time": "2024-05-21T13:07:36.865Z"
   },
   {
    "duration": 166,
    "start_time": "2024-05-21T13:07:38.168Z"
   },
   {
    "duration": 538,
    "start_time": "2024-05-21T13:07:38.335Z"
   },
   {
    "duration": 106,
    "start_time": "2024-05-21T13:07:38.880Z"
   },
   {
    "duration": 418,
    "start_time": "2024-05-21T13:07:38.989Z"
   },
   {
    "duration": 156,
    "start_time": "2024-05-21T13:07:39.409Z"
   },
   {
    "duration": 815,
    "start_time": "2024-05-21T13:07:39.567Z"
   },
   {
    "duration": 617,
    "start_time": "2024-05-21T13:07:40.385Z"
   },
   {
    "duration": 4084,
    "start_time": "2024-05-21T13:07:41.005Z"
   },
   {
    "duration": 31,
    "start_time": "2024-05-21T13:07:45.091Z"
   },
   {
    "duration": 343,
    "start_time": "2024-05-21T13:07:45.125Z"
   },
   {
    "duration": 831,
    "start_time": "2024-05-21T13:07:45.470Z"
   },
   {
    "duration": 48,
    "start_time": "2024-05-21T13:07:46.302Z"
   },
   {
    "duration": 33,
    "start_time": "2024-05-21T13:07:46.351Z"
   },
   {
    "duration": 84,
    "start_time": "2024-05-21T13:07:46.386Z"
   },
   {
    "duration": 76,
    "start_time": "2024-05-21T13:07:46.480Z"
   },
   {
    "duration": 98,
    "start_time": "2024-05-21T13:07:46.558Z"
   },
   {
    "duration": 3253,
    "start_time": "2024-05-21T13:07:46.657Z"
   },
   {
    "duration": 95,
    "start_time": "2024-05-21T13:07:49.911Z"
   },
   {
    "duration": 154,
    "start_time": "2024-05-21T13:07:50.007Z"
   },
   {
    "duration": 94,
    "start_time": "2024-05-21T13:07:50.163Z"
   },
   {
    "duration": 152,
    "start_time": "2024-05-21T13:07:50.258Z"
   },
   {
    "duration": 163,
    "start_time": "2024-05-21T13:07:50.412Z"
   },
   {
    "duration": 74,
    "start_time": "2024-05-21T13:07:50.576Z"
   },
   {
    "duration": 915,
    "start_time": "2024-05-21T13:07:50.652Z"
   },
   {
    "duration": 49,
    "start_time": "2024-05-21T13:07:51.571Z"
   },
   {
    "duration": 116,
    "start_time": "2024-05-21T13:07:51.623Z"
   },
   {
    "duration": 10346,
    "start_time": "2024-05-21T13:07:51.741Z"
   },
   {
    "duration": 16101,
    "start_time": "2024-05-21T13:08:02.089Z"
   },
   {
    "duration": 9292,
    "start_time": "2024-05-21T13:08:18.192Z"
   },
   {
    "duration": 13133,
    "start_time": "2024-05-21T13:08:27.487Z"
   },
   {
    "duration": 197,
    "start_time": "2024-05-21T13:08:40.622Z"
   },
   {
    "duration": 200566,
    "start_time": "2024-05-21T13:08:40.821Z"
   },
   {
    "duration": 2391,
    "start_time": "2024-05-21T13:12:01.389Z"
   },
   {
    "duration": 1907,
    "start_time": "2024-05-21T13:12:03.783Z"
   },
   {
    "duration": 1001,
    "start_time": "2024-05-21T13:12:05.781Z"
   },
   {
    "duration": 2008,
    "start_time": "2024-05-21T13:12:06.784Z"
   },
   {
    "duration": 40792,
    "start_time": "2024-05-21T13:12:08.794Z"
   },
   {
    "duration": 11,
    "start_time": "2024-05-21T13:12:49.588Z"
   },
   {
    "duration": 90,
    "start_time": "2024-05-21T13:12:49.601Z"
   },
   {
    "duration": 483,
    "start_time": "2024-05-21T13:14:11.120Z"
   },
   {
    "duration": 9679,
    "start_time": "2024-09-29T18:32:13.332Z"
   },
   {
    "duration": 1682,
    "start_time": "2024-09-29T18:32:55.686Z"
   },
   {
    "duration": 32,
    "start_time": "2024-09-29T18:34:59.350Z"
   },
   {
    "duration": 2906,
    "start_time": "2024-09-29T18:35:01.691Z"
   },
   {
    "duration": 158,
    "start_time": "2024-09-29T18:35:11.163Z"
   },
   {
    "duration": 481,
    "start_time": "2024-09-29T18:35:14.280Z"
   },
   {
    "duration": 91,
    "start_time": "2024-09-29T18:35:16.889Z"
   },
   {
    "duration": 354,
    "start_time": "2024-09-29T18:35:24.316Z"
   },
   {
    "duration": 150,
    "start_time": "2024-09-29T18:35:33.507Z"
   },
   {
    "duration": 180,
    "start_time": "2024-09-29T18:39:43.076Z"
   },
   {
    "duration": 6,
    "start_time": "2024-09-29T18:41:05.567Z"
   },
   {
    "duration": 61,
    "start_time": "2024-09-29T18:41:17.607Z"
   },
   {
    "duration": 5575,
    "start_time": "2024-09-29T18:41:30.031Z"
   },
   {
    "duration": 6,
    "start_time": "2024-09-29T18:42:47.956Z"
   },
   {
    "duration": 5339,
    "start_time": "2024-09-29T18:42:50.144Z"
   },
   {
    "duration": 5,
    "start_time": "2024-09-29T18:43:02.735Z"
   },
   {
    "duration": 5500,
    "start_time": "2024-09-29T18:43:08.058Z"
   },
   {
    "duration": 5,
    "start_time": "2024-09-29T18:43:25.019Z"
   },
   {
    "duration": 5825,
    "start_time": "2024-09-29T18:43:26.528Z"
   },
   {
    "duration": 5,
    "start_time": "2024-09-29T18:43:37.871Z"
   },
   {
    "duration": 5861,
    "start_time": "2024-09-29T18:43:40.564Z"
   },
   {
    "duration": 8,
    "start_time": "2024-09-29T18:45:12.515Z"
   },
   {
    "duration": 5673,
    "start_time": "2024-09-29T18:45:14.565Z"
   },
   {
    "duration": 6,
    "start_time": "2024-09-29T18:45:49.874Z"
   },
   {
    "duration": 5609,
    "start_time": "2024-09-29T18:45:51.499Z"
   },
   {
    "duration": 7,
    "start_time": "2024-09-29T18:46:01.927Z"
   },
   {
    "duration": 5649,
    "start_time": "2024-09-29T18:46:05.344Z"
   },
   {
    "duration": 9,
    "start_time": "2024-09-29T18:46:30.235Z"
   },
   {
    "duration": 5839,
    "start_time": "2024-09-29T18:46:31.902Z"
   },
   {
    "duration": 64,
    "start_time": "2024-09-29T18:52:23.708Z"
   },
   {
    "duration": 5004,
    "start_time": "2024-09-29T18:52:30.634Z"
   },
   {
    "duration": 5,
    "start_time": "2024-09-29T18:54:46.718Z"
   },
   {
    "duration": 5017,
    "start_time": "2024-09-29T18:54:48.689Z"
   },
   {
    "duration": 8196,
    "start_time": "2024-09-29T18:56:49.121Z"
   },
   {
    "duration": 1670,
    "start_time": "2024-09-29T18:56:57.320Z"
   },
   {
    "duration": 936,
    "start_time": "2024-09-29T18:56:58.992Z"
   },
   {
    "duration": 162,
    "start_time": "2024-09-29T18:56:59.929Z"
   },
   {
    "duration": 547,
    "start_time": "2024-09-29T18:57:00.094Z"
   },
   {
    "duration": 111,
    "start_time": "2024-09-29T18:57:00.642Z"
   },
   {
    "duration": 365,
    "start_time": "2024-09-29T18:57:00.755Z"
   },
   {
    "duration": 196,
    "start_time": "2024-09-29T18:57:01.122Z"
   },
   {
    "duration": 820,
    "start_time": "2024-09-29T18:57:01.320Z"
   },
   {
    "duration": 530,
    "start_time": "2024-09-29T18:57:02.142Z"
   },
   {
    "duration": 5,
    "start_time": "2024-09-29T18:57:02.674Z"
   },
   {
    "duration": 3840,
    "start_time": "2024-09-29T18:57:02.681Z"
   },
   {
    "duration": 42,
    "start_time": "2024-09-29T18:57:06.523Z"
   },
   {
    "duration": 212,
    "start_time": "2024-09-29T18:57:06.568Z"
   },
   {
    "duration": 802,
    "start_time": "2024-09-29T18:57:06.782Z"
   },
   {
    "duration": 148,
    "start_time": "2024-09-29T18:57:07.589Z"
   },
   {
    "duration": 0,
    "start_time": "2024-09-29T18:57:07.740Z"
   },
   {
    "duration": 0,
    "start_time": "2024-09-29T18:57:07.741Z"
   },
   {
    "duration": 0,
    "start_time": "2024-09-29T18:57:07.743Z"
   },
   {
    "duration": 0,
    "start_time": "2024-09-29T18:57:07.744Z"
   },
   {
    "duration": 0,
    "start_time": "2024-09-29T18:57:07.746Z"
   },
   {
    "duration": 0,
    "start_time": "2024-09-29T18:57:07.748Z"
   },
   {
    "duration": 0,
    "start_time": "2024-09-29T18:57:07.750Z"
   },
   {
    "duration": 0,
    "start_time": "2024-09-29T18:57:07.766Z"
   },
   {
    "duration": 0,
    "start_time": "2024-09-29T18:57:07.767Z"
   },
   {
    "duration": 0,
    "start_time": "2024-09-29T18:57:07.769Z"
   },
   {
    "duration": 0,
    "start_time": "2024-09-29T18:57:07.771Z"
   },
   {
    "duration": 0,
    "start_time": "2024-09-29T18:57:07.773Z"
   },
   {
    "duration": 0,
    "start_time": "2024-09-29T18:57:07.774Z"
   },
   {
    "duration": 0,
    "start_time": "2024-09-29T18:57:07.776Z"
   },
   {
    "duration": 0,
    "start_time": "2024-09-29T18:57:07.777Z"
   },
   {
    "duration": 0,
    "start_time": "2024-09-29T18:57:07.778Z"
   },
   {
    "duration": 0,
    "start_time": "2024-09-29T18:57:07.780Z"
   },
   {
    "duration": 0,
    "start_time": "2024-09-29T18:57:07.781Z"
   },
   {
    "duration": 0,
    "start_time": "2024-09-29T18:57:07.785Z"
   },
   {
    "duration": 0,
    "start_time": "2024-09-29T18:57:07.787Z"
   },
   {
    "duration": 0,
    "start_time": "2024-09-29T18:57:07.789Z"
   },
   {
    "duration": 0,
    "start_time": "2024-09-29T18:57:07.791Z"
   },
   {
    "duration": 0,
    "start_time": "2024-09-29T18:57:07.793Z"
   },
   {
    "duration": 1,
    "start_time": "2024-09-29T18:57:07.794Z"
   },
   {
    "duration": 0,
    "start_time": "2024-09-29T18:57:07.797Z"
   },
   {
    "duration": 0,
    "start_time": "2024-09-29T18:57:07.799Z"
   },
   {
    "duration": 0,
    "start_time": "2024-09-29T18:57:07.801Z"
   },
   {
    "duration": 53,
    "start_time": "2024-09-29T18:57:34.748Z"
   },
   {
    "duration": 17,
    "start_time": "2024-09-29T18:58:11.681Z"
   },
   {
    "duration": 82,
    "start_time": "2024-09-29T18:58:16.345Z"
   },
   {
    "duration": 83,
    "start_time": "2024-09-29T18:58:30.698Z"
   },
   {
    "duration": 77,
    "start_time": "2024-09-29T18:58:36.144Z"
   },
   {
    "duration": 2988,
    "start_time": "2024-09-29T18:58:42.807Z"
   },
   {
    "duration": 123,
    "start_time": "2024-09-29T18:59:13.840Z"
   },
   {
    "duration": 103,
    "start_time": "2024-09-29T18:59:18.152Z"
   },
   {
    "duration": 88,
    "start_time": "2024-09-29T18:59:33.278Z"
   },
   {
    "duration": 128,
    "start_time": "2024-09-29T18:59:55.315Z"
   },
   {
    "duration": 149,
    "start_time": "2024-09-29T19:00:04.832Z"
   },
   {
    "duration": 69,
    "start_time": "2024-09-29T19:01:18.831Z"
   },
   {
    "duration": 840,
    "start_time": "2024-09-29T19:01:24.632Z"
   },
   {
    "duration": 42,
    "start_time": "2024-09-29T19:01:28.705Z"
   },
   {
    "duration": 121,
    "start_time": "2024-09-29T19:01:33.340Z"
   },
   {
    "duration": 9928,
    "start_time": "2024-09-29T19:05:34.641Z"
   },
   {
    "duration": 15808,
    "start_time": "2024-09-29T19:06:31.957Z"
   },
   {
    "duration": 9427,
    "start_time": "2024-09-29T19:07:26.046Z"
   },
   {
    "duration": 9811,
    "start_time": "2024-09-29T19:08:36.664Z"
   },
   {
    "duration": 177,
    "start_time": "2024-09-29T19:10:58.936Z"
   },
   {
    "duration": 228762,
    "start_time": "2024-09-29T19:11:06.209Z"
   },
   {
    "duration": 2204,
    "start_time": "2024-09-29T19:15:15.963Z"
   },
   {
    "duration": 2701,
    "start_time": "2024-09-29T19:15:26.269Z"
   },
   {
    "duration": 420,
    "start_time": "2024-09-29T19:19:09.545Z"
   },
   {
    "duration": 373,
    "start_time": "2024-09-29T19:20:58.194Z"
   },
   {
    "duration": 5,
    "start_time": "2024-09-29T19:21:27.622Z"
   },
   {
    "duration": 326,
    "start_time": "2024-09-29T19:24:16.147Z"
   },
   {
    "duration": 10739,
    "start_time": "2024-09-29T19:27:00.534Z"
   },
   {
    "duration": 17040,
    "start_time": "2024-09-29T19:28:59.827Z"
   },
   {
    "duration": 15601,
    "start_time": "2024-09-29T19:29:23.570Z"
   },
   {
    "duration": 10087,
    "start_time": "2024-09-29T19:30:01.880Z"
   },
   {
    "duration": 17167,
    "start_time": "2024-09-29T19:30:16.702Z"
   },
   {
    "duration": 20878,
    "start_time": "2024-09-30T10:05:37.958Z"
   },
   {
    "duration": 2078,
    "start_time": "2024-09-30T10:05:58.839Z"
   },
   {
    "duration": 3169,
    "start_time": "2024-09-30T10:06:00.919Z"
   },
   {
    "duration": 180,
    "start_time": "2024-09-30T10:06:04.091Z"
   },
   {
    "duration": 552,
    "start_time": "2024-09-30T10:06:04.274Z"
   },
   {
    "duration": 106,
    "start_time": "2024-09-30T10:06:04.828Z"
   },
   {
    "duration": 430,
    "start_time": "2024-09-30T10:06:04.936Z"
   },
   {
    "duration": 233,
    "start_time": "2024-09-30T10:06:05.368Z"
   },
   {
    "duration": 909,
    "start_time": "2024-09-30T10:06:05.603Z"
   },
   {
    "duration": 609,
    "start_time": "2024-09-30T10:06:06.515Z"
   },
   {
    "duration": 5,
    "start_time": "2024-09-30T10:06:07.126Z"
   },
   {
    "duration": 4380,
    "start_time": "2024-09-30T10:06:07.132Z"
   },
   {
    "duration": 49,
    "start_time": "2024-09-30T10:06:11.518Z"
   },
   {
    "duration": 327,
    "start_time": "2024-09-30T10:06:11.570Z"
   },
   {
    "duration": 904,
    "start_time": "2024-09-30T10:06:11.899Z"
   },
   {
    "duration": 39,
    "start_time": "2024-09-30T10:06:12.805Z"
   },
   {
    "duration": 22,
    "start_time": "2024-09-30T10:06:12.845Z"
   },
   {
    "duration": 111,
    "start_time": "2024-09-30T10:06:12.868Z"
   },
   {
    "duration": 75,
    "start_time": "2024-09-30T10:06:12.982Z"
   },
   {
    "duration": 87,
    "start_time": "2024-09-30T10:06:13.066Z"
   },
   {
    "duration": 3512,
    "start_time": "2024-09-30T10:06:13.165Z"
   },
   {
    "duration": 100,
    "start_time": "2024-09-30T10:06:16.679Z"
   },
   {
    "duration": 528,
    "start_time": "2024-09-30T10:06:16.781Z"
   },
   {
    "duration": 208,
    "start_time": "2024-09-30T10:06:17.311Z"
   },
   {
    "duration": 173,
    "start_time": "2024-09-30T10:06:17.520Z"
   },
   {
    "duration": 189,
    "start_time": "2024-09-30T10:06:17.695Z"
   },
   {
    "duration": 78,
    "start_time": "2024-09-30T10:06:17.887Z"
   },
   {
    "duration": 910,
    "start_time": "2024-09-30T10:06:17.969Z"
   },
   {
    "duration": 39,
    "start_time": "2024-09-30T10:06:18.880Z"
   },
   {
    "duration": 136,
    "start_time": "2024-09-30T10:06:18.920Z"
   },
   {
    "duration": 10520,
    "start_time": "2024-09-30T10:06:19.064Z"
   },
   {
    "duration": 32589,
    "start_time": "2024-09-30T10:06:29.587Z"
   },
   {
    "duration": 8401,
    "start_time": "2024-09-30T10:07:02.178Z"
   },
   {
    "duration": 12548,
    "start_time": "2024-09-30T10:07:10.587Z"
   },
   {
    "duration": 210,
    "start_time": "2024-09-30T10:07:23.137Z"
   },
   {
    "duration": 365120,
    "start_time": "2024-09-30T10:07:23.349Z"
   },
   {
    "duration": 396,
    "start_time": "2024-09-30T10:13:28.470Z"
   },
   {
    "duration": 398,
    "start_time": "2024-09-30T10:13:28.868Z"
   },
   {
    "duration": 4,
    "start_time": "2024-09-30T10:13:29.268Z"
   },
   {
    "duration": 0,
    "start_time": "2024-09-30T10:13:29.274Z"
   },
   {
    "duration": 0,
    "start_time": "2024-09-30T10:13:29.275Z"
   },
   {
    "duration": 0,
    "start_time": "2024-09-30T10:13:29.276Z"
   },
   {
    "duration": 1,
    "start_time": "2024-09-30T10:13:29.277Z"
   },
   {
    "duration": 48,
    "start_time": "2024-09-30T10:14:27.918Z"
   },
   {
    "duration": 463,
    "start_time": "2024-09-30T10:14:37.629Z"
   },
   {
    "duration": 11135,
    "start_time": "2024-09-30T10:14:49.442Z"
   },
   {
    "duration": 12,
    "start_time": "2024-09-30T10:15:12.790Z"
   },
   {
    "duration": 519,
    "start_time": "2024-09-30T10:17:31.362Z"
   },
   {
    "duration": 7499,
    "start_time": "2024-09-30T10:18:41.323Z"
   },
   {
    "duration": 1716,
    "start_time": "2024-09-30T10:18:48.824Z"
   },
   {
    "duration": 962,
    "start_time": "2024-09-30T10:18:50.541Z"
   },
   {
    "duration": 168,
    "start_time": "2024-09-30T10:18:51.505Z"
   },
   {
    "duration": 494,
    "start_time": "2024-09-30T10:18:51.675Z"
   },
   {
    "duration": 98,
    "start_time": "2024-09-30T10:18:52.170Z"
   },
   {
    "duration": 420,
    "start_time": "2024-09-30T10:18:52.270Z"
   },
   {
    "duration": 223,
    "start_time": "2024-09-30T10:18:52.691Z"
   },
   {
    "duration": 785,
    "start_time": "2024-09-30T10:18:52.915Z"
   },
   {
    "duration": 550,
    "start_time": "2024-09-30T10:18:53.703Z"
   },
   {
    "duration": 10,
    "start_time": "2024-09-30T10:18:54.255Z"
   },
   {
    "duration": 3941,
    "start_time": "2024-09-30T10:18:54.267Z"
   },
   {
    "duration": 31,
    "start_time": "2024-09-30T10:18:58.209Z"
   },
   {
    "duration": 236,
    "start_time": "2024-09-30T10:18:58.242Z"
   },
   {
    "duration": 798,
    "start_time": "2024-09-30T10:18:58.479Z"
   },
   {
    "duration": 38,
    "start_time": "2024-09-30T10:18:59.279Z"
   },
   {
    "duration": 17,
    "start_time": "2024-09-30T10:18:59.319Z"
   },
   {
    "duration": 102,
    "start_time": "2024-09-30T10:18:59.338Z"
   },
   {
    "duration": 77,
    "start_time": "2024-09-30T10:18:59.441Z"
   },
   {
    "duration": 90,
    "start_time": "2024-09-30T10:18:59.519Z"
   },
   {
    "duration": 3210,
    "start_time": "2024-09-30T10:18:59.611Z"
   },
   {
    "duration": 97,
    "start_time": "2024-09-30T10:19:02.823Z"
   },
   {
    "duration": 125,
    "start_time": "2024-09-30T10:19:02.922Z"
   },
   {
    "duration": 95,
    "start_time": "2024-09-30T10:19:03.049Z"
   },
   {
    "duration": 147,
    "start_time": "2024-09-30T10:19:03.145Z"
   },
   {
    "duration": 151,
    "start_time": "2024-09-30T10:19:03.293Z"
   },
   {
    "duration": 74,
    "start_time": "2024-09-30T10:19:03.446Z"
   },
   {
    "duration": 926,
    "start_time": "2024-09-30T10:19:03.523Z"
   },
   {
    "duration": 47,
    "start_time": "2024-09-30T10:19:04.451Z"
   },
   {
    "duration": 118,
    "start_time": "2024-09-30T10:19:04.499Z"
   },
   {
    "duration": 9764,
    "start_time": "2024-09-30T10:19:04.619Z"
   },
   {
    "duration": 17788,
    "start_time": "2024-09-30T10:19:14.385Z"
   },
   {
    "duration": 9102,
    "start_time": "2024-09-30T10:19:32.176Z"
   },
   {
    "duration": 12311,
    "start_time": "2024-09-30T10:19:41.282Z"
   },
   {
    "duration": 187,
    "start_time": "2024-09-30T10:19:53.595Z"
   },
   {
    "duration": 421191,
    "start_time": "2024-09-30T10:19:53.783Z"
   },
   {
    "duration": 393,
    "start_time": "2024-09-30T10:26:54.975Z"
   },
   {
    "duration": 595,
    "start_time": "2024-09-30T10:26:55.370Z"
   },
   {
    "duration": 99,
    "start_time": "2024-09-30T10:26:55.968Z"
   },
   {
    "duration": 495,
    "start_time": "2024-09-30T10:26:56.070Z"
   },
   {
    "duration": 11015,
    "start_time": "2024-09-30T10:26:56.567Z"
   },
   {
    "duration": 15,
    "start_time": "2024-09-30T10:27:07.584Z"
   },
   {
    "duration": 572,
    "start_time": "2024-09-30T10:27:07.602Z"
   }
  ],
  "kernelspec": {
   "display_name": "Python 3 (ipykernel)",
   "language": "python",
   "name": "python3"
  },
  "language_info": {
   "codemirror_mode": {
    "name": "ipython",
    "version": 3
   },
   "file_extension": ".py",
   "mimetype": "text/x-python",
   "name": "python",
   "nbconvert_exporter": "python",
   "pygments_lexer": "ipython3",
   "version": "3.9.5"
  },
  "toc": {
   "base_numbering": 1,
   "nav_menu": {},
   "number_sections": true,
   "sideBar": true,
   "skip_h1_title": true,
   "title_cell": "Table of Contents",
   "title_sidebar": "Contents",
   "toc_cell": false,
   "toc_position": {
    "height": "calc(100% - 180px)",
    "left": "10px",
    "top": "150px",
    "width": "288px"
   },
   "toc_section_display": true,
   "toc_window_display": false
  }
 },
 "nbformat": 4,
 "nbformat_minor": 2
}
