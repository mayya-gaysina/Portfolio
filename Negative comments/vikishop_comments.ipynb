{
 "cells": [
  {
   "cell_type": "markdown",
   "metadata": {},
   "source": [
    "# Проект для «Викишоп»"
   ]
  },
  {
   "cell_type": "markdown",
   "metadata": {
    "toc": true
   },
   "source": [
    "<h1>Содержание<span class=\"tocSkip\"></span></h1>\n",
    "<div class=\"toc\"><ul class=\"toc-item\"><li><span><a href=\"#Подготовка\" data-toc-modified-id=\"Подготовка-1\"><span class=\"toc-item-num\">1&nbsp;&nbsp;</span>Подготовка</a></span></li><li><span><a href=\"#Обучение\" data-toc-modified-id=\"Обучение-2\"><span class=\"toc-item-num\">2&nbsp;&nbsp;</span>Обучение</a></span></li><li><span><a href=\"#Выводы\" data-toc-modified-id=\"Выводы-3\"><span class=\"toc-item-num\">3&nbsp;&nbsp;</span>Выводы</a></span></li></ul></div>"
   ]
  },
  {
   "cell_type": "markdown",
   "metadata": {},
   "source": [
    "Интернет-магазин «Викишоп» запускает новый сервис. Теперь пользователи могут редактировать и дополнять описания товаров, как в вики-сообществах. То есть клиенты предлагают свои правки и комментируют изменения других. Магазину нужен инструмент, который будет искать токсичные комментарии и отправлять их на модерацию. \n",
    "\n",
    "**Задача:**\n",
    " - обучить модель классифицировать комментарии на позитивные и негативные. В вашем распоряжении набор данных с разметкой о токсичности правок.\n",
    " - построить модель со значением метрики качества *F1* не меньше 0.75. \n",
    "\n",
    "**Порядок выполнения**\n",
    "\n",
    "1. Подготовка данных.\n",
    "2. Обучение разных моделей. \n",
    "3. Вывод.\n",
    "\n",
    "\n",
    "**Описание данных**\n",
    "\n",
    "Данные находятся в файле `toxic_comments.csv`:\n",
    " - Столбец *text* - содержит текст комментария, \n",
    " - *toxic* — целевой признак."
   ]
  },
  {
   "cell_type": "markdown",
   "metadata": {},
   "source": [
    "## Подготовка"
   ]
  },
  {
   "cell_type": "code",
   "execution_count": 1,
   "metadata": {},
   "outputs": [
    {
     "name": "stdout",
     "output_type": "stream",
     "text": [
      "\u001b[38;5;2m✔ Download and installation successful\u001b[0m\r\n",
      "You can now load the package via spacy.load('en_core_web_sm')\r\n"
     ]
    }
   ],
   "source": [
    "#установим некоторые доп библиотеки\n",
    "!pip install scikit-learn==1.5.0 -q\n",
    "!pip install matplotlib==3.5.2 -q\n",
    "!pip install nltk -q\n",
    "!pip install spacy -q\n",
    "!spacy download en_core_web_sm -q\n",
    "!/opt/conda/bin/python -m pip install wordcloud==1.8.2.2 -q"
   ]
  },
  {
   "cell_type": "code",
   "execution_count": 2,
   "metadata": {},
   "outputs": [
    {
     "name": "stderr",
     "output_type": "stream",
     "text": [
      "[nltk_data] Downloading package wordnet to /home/jovyan/nltk_data...\n",
      "[nltk_data]   Package wordnet is already up-to-date!\n",
      "[nltk_data] Downloading package averaged_perceptron_tagger to\n",
      "[nltk_data]     /home/jovyan/nltk_data...\n",
      "[nltk_data]   Package averaged_perceptron_tagger is already up-to-\n",
      "[nltk_data]       date!\n",
      "[nltk_data] Downloading package stopwords to /home/jovyan/nltk_data...\n",
      "[nltk_data]   Package stopwords is already up-to-date!\n"
     ]
    },
    {
     "data": {
      "text/html": [
       "<style>.container { width:90% !important; }</style>"
      ],
      "text/plain": [
       "<IPython.core.display.HTML object>"
      ]
     },
     "metadata": {},
     "output_type": "display_data"
    }
   ],
   "source": [
    "#импортируем необходимые библиотеки,отключим предупреждения (в конце), \n",
    "#зададим формат вывода знаков после запятой\n",
    "\n",
    "import pandas as pd\n",
    "import numpy as np\n",
    "import matplotlib.pyplot as plt\n",
    "import sklearn\n",
    "import re\n",
    "import sys\n",
    "import spacy\n",
    "import nltk\n",
    "import time\n",
    "from sklearn.model_selection import train_test_split,cross_val_score,GridSearchCV,RandomizedSearchCV\n",
    "from tqdm import tqdm\n",
    "from tqdm.notebook import trange, tqdm\n",
    "from time import sleep\n",
    "from nltk.corpus import stopwords as nltk_stopwords\n",
    "from sklearn.pipeline import Pipeline\n",
    "from catboost import CatBoostClassifier\n",
    "from sklearn.ensemble import RandomForestRegressor\n",
    "from sklearn.tree import DecisionTreeClassifier\n",
    "from sklearn.naive_bayes import ComplementNB\n",
    "from nltk.tokenize import word_tokenize \n",
    "from nltk.stem import WordNetLemmatizer\n",
    "from nltk import pos_tag\n",
    "from nltk.corpus import wordnet\n",
    "from wordcloud import WordCloud\n",
    "from nltk.probability import FreqDist\n",
    "nltk.download('wordnet')\n",
    "nltk.download('averaged_perceptron_tagger')\n",
    "nltk.download('stopwords')\n",
    "nlp = spacy.load('en_core_web_sm', disable=['parser', 'ner'])\n",
    "\n",
    "# загружаем функцию для работы с метриками\n",
    "from sklearn.metrics import f1_score\n",
    "from sklearn.feature_extraction.text import TfidfVectorizer\n",
    "\n",
    "# загружаем нужные модели\n",
    "from sklearn.linear_model import LogisticRegression\n",
    "\n",
    "#отключим предупреждения (в конце)\n",
    "import warnings\n",
    "warnings.filterwarnings('ignore')\n",
    "\n",
    "\n",
    "#зададим формат окна\n",
    "from IPython.core.display import display, HTML\n",
    "display(HTML(\"<style>.container { width:90% !important; }</style>\"))\n",
    "pd.options.display.float_format = '{:,.2f}'.format"
   ]
  },
  {
   "cell_type": "markdown",
   "metadata": {},
   "source": [
    "Загрузим данные, выгрузим любые 5 строк и посмотрим инфо"
   ]
  },
  {
   "cell_type": "code",
   "execution_count": 3,
   "metadata": {},
   "outputs": [
    {
     "data": {
      "text/html": [
       "<div>\n",
       "<style scoped>\n",
       "    .dataframe tbody tr th:only-of-type {\n",
       "        vertical-align: middle;\n",
       "    }\n",
       "\n",
       "    .dataframe tbody tr th {\n",
       "        vertical-align: top;\n",
       "    }\n",
       "\n",
       "    .dataframe thead th {\n",
       "        text-align: right;\n",
       "    }\n",
       "</style>\n",
       "<table border=\"1\" class=\"dataframe\">\n",
       "  <thead>\n",
       "    <tr style=\"text-align: right;\">\n",
       "      <th></th>\n",
       "      <th>text</th>\n",
       "      <th>toxic</th>\n",
       "    </tr>\n",
       "  </thead>\n",
       "  <tbody>\n",
       "    <tr>\n",
       "      <th>156244</th>\n",
       "      <td>Jimbo could only get this barnstar if he had b...</td>\n",
       "      <td>0</td>\n",
       "    </tr>\n",
       "    <tr>\n",
       "      <th>22842</th>\n",
       "      <td>REDIRECT Talk:2005–06 Chappell–Hadlee Trophy</td>\n",
       "      <td>0</td>\n",
       "    </tr>\n",
       "    <tr>\n",
       "      <th>67476</th>\n",
       "      <td>Hyperlink edits \\n\\nTwo incorrect hyperlinks a...</td>\n",
       "      <td>0</td>\n",
       "    </tr>\n",
       "    <tr>\n",
       "      <th>149042</th>\n",
       "      <td>\"\\nI believe it's rolling out slowly.  I had a...</td>\n",
       "      <td>0</td>\n",
       "    </tr>\n",
       "    <tr>\n",
       "      <th>91888</th>\n",
       "      <td>I have confirmed this change by contacting Act...</td>\n",
       "      <td>0</td>\n",
       "    </tr>\n",
       "  </tbody>\n",
       "</table>\n",
       "</div>"
      ],
      "text/plain": [
       "                                                     text  toxic\n",
       "156244  Jimbo could only get this barnstar if he had b...      0\n",
       "22842        REDIRECT Talk:2005–06 Chappell–Hadlee Trophy      0\n",
       "67476   Hyperlink edits \\n\\nTwo incorrect hyperlinks a...      0\n",
       "149042  \"\\nI believe it's rolling out slowly.  I had a...      0\n",
       "91888   I have confirmed this change by contacting Act...      0"
      ]
     },
     "execution_count": 3,
     "metadata": {},
     "output_type": "execute_result"
    }
   ],
   "source": [
    "#загрузим данные из файла \n",
    "try:\n",
    "    data = pd.read_csv('/datasets/toxic_comments.csv', index_col = 0)\n",
    "except:    \n",
    "    data = pd.read_csv('https://code.s3.yandex.net/datasets/toxic_comments.csv', index_col = 0)\n",
    "#выведем любые 5 строк\n",
    "data.sample(5)"
   ]
  },
  {
   "cell_type": "code",
   "execution_count": 4,
   "metadata": {},
   "outputs": [
    {
     "name": "stdout",
     "output_type": "stream",
     "text": [
      "<class 'pandas.core.frame.DataFrame'>\n",
      "Int64Index: 159292 entries, 0 to 159450\n",
      "Data columns (total 2 columns):\n",
      " #   Column  Non-Null Count   Dtype \n",
      "---  ------  --------------   ----- \n",
      " 0   text    159292 non-null  object\n",
      " 1   toxic   159292 non-null  int64 \n",
      "dtypes: int64(1), object(1)\n",
      "memory usage: 3.6+ MB\n"
     ]
    }
   ],
   "source": [
    "data.info()"
   ]
  },
  {
   "cell_type": "markdown",
   "metadata": {},
   "source": [
    "Данные представлены 2-мя столбцами, кол-во строк - 159292, пропуски отсутствуют.\n",
    "\n",
    "Проверим на наличие дубликатов полных и в тексте"
   ]
  },
  {
   "cell_type": "code",
   "execution_count": 5,
   "metadata": {},
   "outputs": [
    {
     "name": "stdout",
     "output_type": "stream",
     "text": [
      "Кол-во полных дубликатов: 0 \n",
      "Кол-во дубликатов твитов: 0\n"
     ]
    }
   ],
   "source": [
    "print('Кол-во полных дубликатов:',data.duplicated().sum(),\\\n",
    "      '\\nКол-во дубликатов твитов:',data['text'].duplicated().sum())"
   ]
  },
  {
   "cell_type": "markdown",
   "metadata": {},
   "source": [
    "Дубликаты отсутствуют.\n",
    "\n",
    "Проверим какими значениями представлен целевой признак"
   ]
  },
  {
   "cell_type": "code",
   "execution_count": 6,
   "metadata": {},
   "outputs": [
    {
     "data": {
      "text/plain": [
       "array([0, 1])"
      ]
     },
     "execution_count": 6,
     "metadata": {},
     "output_type": "execute_result"
    }
   ],
   "source": [
    "data['toxic'].unique()"
   ]
  },
  {
   "cell_type": "markdown",
   "metadata": {},
   "source": [
    "Значения только 0 и 1. \n",
    "\n",
    "Оценим распределение данных - построим диаграмму"
   ]
  },
  {
   "cell_type": "code",
   "execution_count": 7,
   "metadata": {},
   "outputs": [
    {
     "data": {
      "image/png": "[encoded data removed]",
      "text/plain": [
       "<Figure size 72x360 with 1 Axes>"
      ]
     },
     "metadata": {
      "needs_background": "light"
     },
     "output_type": "display_data"
    }
   ],
   "source": [
    "data['toxic'].hist(figsize=(1,5));\n",
    "plt.title('Распределение признака \"токсичный\"')\n",
    "plt.xlabel('0-не токсичный, 1-токсичный');\n",
    "plt.ylabel('Количество твиттов');"
   ]
  },
  {
   "cell_type": "markdown",
   "metadata": {},
   "source": [
    "Целевой признак не сбалансирован по классами с перевесом в пользу класса 0 в 7 раз. Учтем этот факт  при делении датафрейма на обучающие и тестовые выборки.\n",
    "\n"
   ]
  },
  {
   "cell_type": "code",
   "execution_count": 8,
   "metadata": {},
   "outputs": [
    {
     "data": {
      "text/html": [
       "<div>\n",
       "<style scoped>\n",
       "    .dataframe tbody tr th:only-of-type {\n",
       "        vertical-align: middle;\n",
       "    }\n",
       "\n",
       "    .dataframe tbody tr th {\n",
       "        vertical-align: top;\n",
       "    }\n",
       "\n",
       "    .dataframe thead th {\n",
       "        text-align: right;\n",
       "    }\n",
       "</style>\n",
       "<table border=\"1\" class=\"dataframe\">\n",
       "  <thead>\n",
       "    <tr style=\"text-align: right;\">\n",
       "      <th></th>\n",
       "      <th>text</th>\n",
       "      <th>toxic</th>\n",
       "    </tr>\n",
       "  </thead>\n",
       "  <tbody>\n",
       "    <tr>\n",
       "      <th>0</th>\n",
       "      <td>Explanation\\nWhy the edits made under my usern...</td>\n",
       "      <td>0</td>\n",
       "    </tr>\n",
       "    <tr>\n",
       "      <th>1</th>\n",
       "      <td>D'aww! He matches this background colour I'm s...</td>\n",
       "      <td>0</td>\n",
       "    </tr>\n",
       "    <tr>\n",
       "      <th>2</th>\n",
       "      <td>Hey man, I'm really not trying to edit war. It...</td>\n",
       "      <td>0</td>\n",
       "    </tr>\n",
       "    <tr>\n",
       "      <th>3</th>\n",
       "      <td>\"\\nMore\\nI can't make any real suggestions on ...</td>\n",
       "      <td>0</td>\n",
       "    </tr>\n",
       "    <tr>\n",
       "      <th>4</th>\n",
       "      <td>You, sir, are my hero. Any chance you remember...</td>\n",
       "      <td>0</td>\n",
       "    </tr>\n",
       "  </tbody>\n",
       "</table>\n",
       "</div>"
      ],
      "text/plain": [
       "                                                text  toxic\n",
       "0  Explanation\\nWhy the edits made under my usern...      0\n",
       "1  D'aww! He matches this background colour I'm s...      0\n",
       "2  Hey man, I'm really not trying to edit war. It...      0\n",
       "3  \"\\nMore\\nI can't make any real suggestions on ...      0\n",
       "4  You, sir, are my hero. Any chance you remember...      0"
      ]
     },
     "execution_count": 8,
     "metadata": {},
     "output_type": "execute_result"
    }
   ],
   "source": [
    "#выделим часть выборки для ускорения обучения\n",
    "data_sample = data.loc[:75000, :]#зафиксим выборку\n",
    "#выведем первые 5 строк полученной выборки\n",
    "data_sample.head()"
   ]
  },
  {
   "cell_type": "markdown",
   "metadata": {},
   "source": [
    "Далее очистим текст от лишнего, проведем лемматизацию(исключая стоп-слова)"
   ]
  },
  {
   "cell_type": "code",
   "execution_count": 9,
   "metadata": {
    "scrolled": true
   },
   "outputs": [
    {
     "data": {
      "text/html": [
       "<div>\n",
       "<style scoped>\n",
       "    .dataframe tbody tr th:only-of-type {\n",
       "        vertical-align: middle;\n",
       "    }\n",
       "\n",
       "    .dataframe tbody tr th {\n",
       "        vertical-align: top;\n",
       "    }\n",
       "\n",
       "    .dataframe thead th {\n",
       "        text-align: right;\n",
       "    }\n",
       "</style>\n",
       "<table border=\"1\" class=\"dataframe\">\n",
       "  <thead>\n",
       "    <tr style=\"text-align: right;\">\n",
       "      <th></th>\n",
       "      <th>text</th>\n",
       "      <th>toxic</th>\n",
       "      <th>clear</th>\n",
       "    </tr>\n",
       "  </thead>\n",
       "  <tbody>\n",
       "    <tr>\n",
       "      <th>0</th>\n",
       "      <td>Explanation\\nWhy the edits made under my usern...</td>\n",
       "      <td>0</td>\n",
       "      <td>Explanation Why the edits made under my userna...</td>\n",
       "    </tr>\n",
       "    <tr>\n",
       "      <th>1</th>\n",
       "      <td>D'aww! He matches this background colour I'm s...</td>\n",
       "      <td>0</td>\n",
       "      <td>D aww He matches this background colour I m se...</td>\n",
       "    </tr>\n",
       "    <tr>\n",
       "      <th>2</th>\n",
       "      <td>Hey man, I'm really not trying to edit war. It...</td>\n",
       "      <td>0</td>\n",
       "      <td>Hey man I m really not trying to edit war It s...</td>\n",
       "    </tr>\n",
       "    <tr>\n",
       "      <th>3</th>\n",
       "      <td>\"\\nMore\\nI can't make any real suggestions on ...</td>\n",
       "      <td>0</td>\n",
       "      <td>More I can t make any real suggestions on impr...</td>\n",
       "    </tr>\n",
       "    <tr>\n",
       "      <th>4</th>\n",
       "      <td>You, sir, are my hero. Any chance you remember...</td>\n",
       "      <td>0</td>\n",
       "      <td>You sir are my hero Any chance you remember wh...</td>\n",
       "    </tr>\n",
       "  </tbody>\n",
       "</table>\n",
       "</div>"
      ],
      "text/plain": [
       "                                                text  toxic  \\\n",
       "0  Explanation\\nWhy the edits made under my usern...      0   \n",
       "1  D'aww! He matches this background colour I'm s...      0   \n",
       "2  Hey man, I'm really not trying to edit war. It...      0   \n",
       "3  \"\\nMore\\nI can't make any real suggestions on ...      0   \n",
       "4  You, sir, are my hero. Any chance you remember...      0   \n",
       "\n",
       "                                               clear  \n",
       "0  Explanation Why the edits made under my userna...  \n",
       "1  D aww He matches this background colour I m se...  \n",
       "2  Hey man I m really not trying to edit war It s...  \n",
       "3  More I can t make any real suggestions on impr...  \n",
       "4  You sir are my hero Any chance you remember wh...  "
      ]
     },
     "execution_count": 9,
     "metadata": {},
     "output_type": "execute_result"
    }
   ],
   "source": [
    "#создадим функцию для очистки текста\n",
    "def clear(text):\n",
    "    text = ' '.join(re.sub(r'[^a-zA-Z ]', ' ', text).split()) \n",
    "    return text\n",
    "#создадим новый столбец с очищенным текстом\n",
    "data_sample['clear'] = data_sample['text'].apply(clear)\n",
    "#выведем первые 5 строк для оценки очистки\n",
    "data_sample.head()"
   ]
  },
  {
   "cell_type": "markdown",
   "metadata": {},
   "source": [
    "Очистили текст от лишних знаков. Далее проведем лемматизацию"
   ]
  },
  {
   "cell_type": "code",
   "execution_count": 10,
   "metadata": {},
   "outputs": [],
   "source": [
    "#сохраним стоп-слова в переменную\n",
    "stopwords = set(nltk_stopwords.words('english'))"
   ]
  },
  {
   "cell_type": "code",
   "execution_count": 11,
   "metadata": {},
   "outputs": [],
   "source": [
    "#напишем функцию по лемматизации текста\n",
    "def lemmatize(text):\n",
    "    word_list = nlp(text)\n",
    "    text = ' '.join([token.lemma_ for token in word_list if token not in stopwords])\n",
    "    return text"
   ]
  },
  {
   "cell_type": "markdown",
   "metadata": {},
   "source": [
    "Проверим работу фнкции на фразе"
   ]
  },
  {
   "cell_type": "code",
   "execution_count": 12,
   "metadata": {},
   "outputs": [
    {
     "data": {
      "text/plain": [
       "'she be the good lawyer'"
      ]
     },
     "execution_count": 12,
     "metadata": {},
     "output_type": "execute_result"
    }
   ],
   "source": [
    "lemmatize('She was the best lawyer')"
   ]
  },
  {
   "cell_type": "markdown",
   "metadata": {},
   "source": [
    "Как видим лемматизация работает верно: изменилась форма глагола was на to be , сравнительная форма the best на good.\n",
    "\n",
    "Проведем лемматизацию на нашей выборке"
   ]
  },
  {
   "cell_type": "code",
   "execution_count": 13,
   "metadata": {
    "scrolled": true
   },
   "outputs": [
    {
     "data": {
      "application/vnd.jupyter.widget-view+json": {
       "model_id": "60e7902af4914854b9987b5dcb662690",
       "version_major": 2,
       "version_minor": 0
      },
      "text/plain": [
       "  0%|          | 0/74925 [00:00<?, ?it/s]"
      ]
     },
     "metadata": {},
     "output_type": "display_data"
    },
    {
     "data": {
      "text/html": [
       "<div>\n",
       "<style scoped>\n",
       "    .dataframe tbody tr th:only-of-type {\n",
       "        vertical-align: middle;\n",
       "    }\n",
       "\n",
       "    .dataframe tbody tr th {\n",
       "        vertical-align: top;\n",
       "    }\n",
       "\n",
       "    .dataframe thead th {\n",
       "        text-align: right;\n",
       "    }\n",
       "</style>\n",
       "<table border=\"1\" class=\"dataframe\">\n",
       "  <thead>\n",
       "    <tr style=\"text-align: right;\">\n",
       "      <th></th>\n",
       "      <th>text</th>\n",
       "      <th>clear_lem</th>\n",
       "    </tr>\n",
       "  </thead>\n",
       "  <tbody>\n",
       "    <tr>\n",
       "      <th>64458</th>\n",
       "      <td>\"\\n\\n TM article - recent edits \\n\\nKbob, just...</td>\n",
       "      <td>tm article recent edit Kbob just want to say i...</td>\n",
       "    </tr>\n",
       "    <tr>\n",
       "      <th>62999</th>\n",
       "      <td>\"\\n\\nPlease stop adding the redundant informat...</td>\n",
       "      <td>please stop add the redundant information abou...</td>\n",
       "    </tr>\n",
       "    <tr>\n",
       "      <th>53684</th>\n",
       "      <td>\"I'm talking about common names moron. \"\"Trave...</td>\n",
       "      <td>I m talk about common name moron Travers beak ...</td>\n",
       "    </tr>\n",
       "    <tr>\n",
       "      <th>38675</th>\n",
       "      <td>City vs Metropolitan City\\nHere we are talking...</td>\n",
       "      <td>City vs Metropolitan City here we be talk abou...</td>\n",
       "    </tr>\n",
       "    <tr>\n",
       "      <th>61632</th>\n",
       "      <td>\"\\n\\n\"\"Many\"\" is POV Humus.  There are million...</td>\n",
       "      <td>many be POV Humus there be million of organiza...</td>\n",
       "    </tr>\n",
       "  </tbody>\n",
       "</table>\n",
       "</div>"
      ],
      "text/plain": [
       "                                                    text  \\\n",
       "64458  \"\\n\\n TM article - recent edits \\n\\nKbob, just...   \n",
       "62999  \"\\n\\nPlease stop adding the redundant informat...   \n",
       "53684  \"I'm talking about common names moron. \"\"Trave...   \n",
       "38675  City vs Metropolitan City\\nHere we are talking...   \n",
       "61632  \"\\n\\n\"\"Many\"\" is POV Humus.  There are million...   \n",
       "\n",
       "                                               clear_lem  \n",
       "64458  tm article recent edit Kbob just want to say i...  \n",
       "62999  please stop add the redundant information abou...  \n",
       "53684  I m talk about common name moron Travers beak ...  \n",
       "38675  City vs Metropolitan City here we be talk abou...  \n",
       "61632  many be POV Humus there be million of organiza...  "
      ]
     },
     "execution_count": 13,
     "metadata": {},
     "output_type": "execute_result"
    }
   ],
   "source": [
    "#для отслеживания времени выполнения\n",
    "tqdm.pandas()\n",
    "\n",
    "#создадим новый столбец с очищенным и лемматизированным текстом\n",
    "data_sample['clear_lem'] = data_sample['clear'].progress_apply(lemmatize)\n",
    "#выведем любые 5 строк для проверки корректности лемматизации\n",
    "data_sample[['text','clear_lem']].sample(5)"
   ]
  },
  {
   "cell_type": "markdown",
   "metadata": {},
   "source": [
    "Формы глаголов изменились, существительные со множественного изменились на в единственном числе.\n",
    "\n",
    "Проведем частотный анализ текста в виде \"облака слов\" на нашей выборке, чтобы получить общее представление о тематике и о наиболее часто встречаемых словах в токсичных и нетоксичных твитах. Начнем с токсичных твитов."
   ]
  },
  {
   "cell_type": "code",
   "execution_count": 14,
   "metadata": {},
   "outputs": [
    {
     "data": {
      "image/png": "[encoded data removed]",
      "text/plain": [
       "<Figure size 1440x720 with 1 Axes>"
      ]
     },
     "metadata": {},
     "output_type": "display_data"
    }
   ],
   "source": [
    "#построим облако слов для токсичных твитов\n",
    "# готовим размер картинки\n",
    "wordcloud = WordCloud(width=1600, height=800).generate(str(data_sample.query('toxic==1')['clear_lem']))\n",
    "plt.figure( figsize=(20,10), facecolor='k');\n",
    "# добавляем туда облако слов\n",
    "plt.imshow(wordcloud);\n",
    "# добавим подписи\n",
    "plt.title('Наиболее часто встречающиеся слова в токсичных комментариях', fontsize=30, color='white')\n",
    "plt.show()"
   ]
  },
  {
   "cell_type": "markdown",
   "metadata": {},
   "source": [
    "Видим наиболее частые слова в негативных комментах (это преимущественно ругательные слова, имеющие отношения к сексуальной ориентации, возможно носящие расистский окрас, религиозный). Помимо нарицательных существительных, глаговов и прилагательных, в перечне присутствуют имена собственные (Tosser): возможно они попали ошибочно и от имен лучше текст очистить, но также возможно это имена неблагожелательных людей и их имена действительно придают негативный окрас комментариям"
   ]
  },
  {
   "cell_type": "code",
   "execution_count": 15,
   "metadata": {},
   "outputs": [
    {
     "data": {
      "image/png": "[encoded data removed]",
      "text/plain": [
       "<Figure size 1440x720 with 1 Axes>"
      ]
     },
     "metadata": {},
     "output_type": "display_data"
    }
   ],
   "source": [
    "#построим облако слов для нетоксичных твитов\n",
    "# готовим размер картинки\n",
    "wordcloud = WordCloud(width=1600, height=800).generate(str(data_sample.query('toxic==0')['clear_lem']))\n",
    "plt.figure( figsize=(20,10), facecolor='k');\n",
    "# добавляем туда облако слов\n",
    "plt.imshow(wordcloud);\n",
    "# добавим подписи\n",
    "plt.title('Наиболее часто встречающиеся слова в нетоксичных комментариях', fontsize=30, color='white')\n",
    "plt.show()"
   ]
  },
  {
   "cell_type": "markdown",
   "metadata": {},
   "source": [
    "Аналогично негативным, можем увидеть наиболее часто встречающиеся слова в нетоксичных комментариях.\n",
    "\n",
    "\n",
    "Подготовим данные к обучению\n",
    " - объявим целевой признак и прочие, разделим выборку на тренинговую и тестовую."
   ]
  },
  {
   "cell_type": "code",
   "execution_count": 16,
   "metadata": {},
   "outputs": [],
   "source": [
    "y = data_sample['toxic']\n",
    "X = data_sample['clear_lem']\n",
    "\n",
    "RANDOM_STATE=42\n",
    "X_train, X_test, y_train, y_test = train_test_split(\n",
    "    X, \n",
    "    y, \n",
    "    test_size=0.25, \n",
    "    stratify=y, \n",
    "    random_state=42\n",
    ")"
   ]
  },
  {
   "cell_type": "markdown",
   "metadata": {},
   "source": [
    "**Вывод по этапу подготовки:**\n",
    "\n",
    " - Данные представлены 2-мя столбцами, кол-во строк - 159292, пропуски отсутствуют,дубликаты отсутствуют,\n",
    " - Целевой признак не сбалансирован по классами с перевесом в пользу класса 0 в 7 раз. Учтем этот факт при делении датафрейма на обчающую и тестовую выборки,\n",
    " - Для ускорения обучения моделей из данных взята выборка в 50000 строк, в которых текс был очищен и лемматизирован,\n",
    " - Также проведен частотный анализ текста в виде \"облака слов\", чтобы получить общее представление о тематике и о наиболее часто встречаемых словах в токсичных и нетоксичных твитах (отражено на вышеуказанной выборке)  \n",
    " - Эти данные подготовлены для обучения"
   ]
  },
  {
   "cell_type": "markdown",
   "metadata": {},
   "source": [
    "## Обучение"
   ]
  },
  {
   "cell_type": "markdown",
   "metadata": {},
   "source": [
    "Напишем функцию по подбору параметров модели, при которой метрика F1 будет наибольшая, а также по обучению модели с этими параметрами. Учтем, что векторизировать нужно именно тренинговую выборку, чтобы при кросс-валидации не было утечки данных используем пайплайн из векторайзера и модели.\n",
    "Далее обучим 3 модели."
   ]
  },
  {
   "cell_type": "code",
   "execution_count": 17,
   "metadata": {},
   "outputs": [],
   "source": [
    "#напишем функцию по поиску модели с наилучшими параметрами и обучению данной модели\n",
    "def search_fit(model, parameters):\n",
    "    pipeline = Pipeline(\n",
    "        [\n",
    "        ('tfidf', TfidfVectorizer()),\n",
    "        ('model', model)\n",
    "    ])\n",
    "    search = RandomizedSearchCV(\n",
    "        estimator=pipeline, \n",
    "        param_distributions = parameters, \n",
    "        cv = 5,\n",
    "        n_jobs = -1,\n",
    "        random_state=RANDOM_STATE,\n",
    "        scoring = 'f1',\n",
    "        error_score='raise',\n",
    "        verbose = 1)\n",
    "    search.fit(X_train, y_train)\n",
    "    \n",
    "    #на выходе получим лучшую метрику, параметры модели и саму модель\n",
    "    print('Лучшая метрика f1:', round(search.best_score_,2))\n",
    "    print('Лучшие параметры:', search.best_params_)\n",
    "    return search"
   ]
  },
  {
   "cell_type": "code",
   "execution_count": 18,
   "metadata": {},
   "outputs": [
    {
     "name": "stdout",
     "output_type": "stream",
     "text": [
      "Fitting 5 folds for each of 10 candidates, totalling 50 fits\n",
      "Лучшая метрика f1: 0.78\n",
      "Лучшие параметры: {'tfidf__ngram_range': (1, 1), 'model__solver': 'saga', 'model__penalty': 'l1', 'model__C': 10.0}\n"
     ]
    }
   ],
   "source": [
    "#обучим модель лог регрессии\n",
    "model_lr = search_fit(\n",
    "    LogisticRegression(),\n",
    "    {\n",
    "        'tfidf__ngram_range': ((1, 1), (1, 2)),\n",
    "        'model__C':[0.1, 1.0, 10.0],\n",
    "        'model__solver':['liblinear', 'saga'],\n",
    "        'model__penalty':['l1','l2']\n",
    "    }\n",
    ")"
   ]
  },
  {
   "cell_type": "code",
   "execution_count": 19,
   "metadata": {},
   "outputs": [
    {
     "name": "stdout",
     "output_type": "stream",
     "text": [
      "Лучшая метрика f1: 0.61\n",
      "Лучшие параметры: {'tfidf__ngram_range': (1, 2), 'tfidf__min_df': 6, 'model__max_depth': 13, 'model__criterion': 'gini'}\n"
     ]
    }
   ],
   "source": [
    "#обучим модель дерева решений\n",
    "model_dtc = search_fit(\n",
    "    DecisionTreeClassifier(), \n",
    "    {\n",
    "        'tfidf__ngram_range': ((1, 1), (1, 2)),\n",
    "        'tfidf__min_df': range(1,10),\n",
    "        'model__criterion':['gini','entropy'],\n",
    "        'model__max_depth':range(7,15,2)\n",
    "    }\n",
    ")"
   ]
  },
  {
   "cell_type": "code",
   "execution_count": 20,
   "metadata": {},
   "outputs": [
    {
     "name": "stdout",
     "output_type": "stream",
     "text": [
      "Fitting 5 folds for each of 10 candidates, totalling 50 fits\n",
      "Лучшая метрика f1: 0.62\n",
      "Лучшие параметры: {'tfidf__norm': 'l1', 'tfidf__ngram_range': (1, 2), 'tfidf__min_df': 6, 'tfidf__max_features': 1900}\n"
     ]
    }
   ],
   "source": [
    "#обучим модель наивного байесовского алгоритма дополнения\n",
    "model_com = search_fit(\n",
    "    ComplementNB(), \n",
    "    {\n",
    "        'tfidf__ngram_range': ((1, 1), (1, 2)),\n",
    "        'tfidf__min_df': range(1,10),\n",
    "    'tfidf__max_features':range(100, 2000,100),\n",
    "    'tfidf__norm' : ('l1' , 'l2')\n",
    "}\n",
    ")"
   ]
  },
  {
   "cell_type": "markdown",
   "metadata": {},
   "source": [
    "Выведем свод по метрикам для всех моделей"
   ]
  },
  {
   "cell_type": "code",
   "execution_count": 22,
   "metadata": {
    "scrolled": true
   },
   "outputs": [
    {
     "data": {
      "text/html": [
       "<div>\n",
       "<style scoped>\n",
       "    .dataframe tbody tr th:only-of-type {\n",
       "        vertical-align: middle;\n",
       "    }\n",
       "\n",
       "    .dataframe tbody tr th {\n",
       "        vertical-align: top;\n",
       "    }\n",
       "\n",
       "    .dataframe thead th {\n",
       "        text-align: right;\n",
       "    }\n",
       "</style>\n",
       "<table border=\"1\" class=\"dataframe\">\n",
       "  <thead>\n",
       "    <tr style=\"text-align: right;\">\n",
       "      <th></th>\n",
       "      <th>best_score_f1</th>\n",
       "      <th>model</th>\n",
       "    </tr>\n",
       "  </thead>\n",
       "  <tbody>\n",
       "    <tr>\n",
       "      <th>0</th>\n",
       "      <td>0.78</td>\n",
       "      <td>LogisticRegression</td>\n",
       "    </tr>\n",
       "    <tr>\n",
       "      <th>0</th>\n",
       "      <td>0.62</td>\n",
       "      <td>ComplementNB</td>\n",
       "    </tr>\n",
       "    <tr>\n",
       "      <th>0</th>\n",
       "      <td>0.61</td>\n",
       "      <td>DecisionTreeClassifier</td>\n",
       "    </tr>\n",
       "  </tbody>\n",
       "</table>\n",
       "</div>"
      ],
      "text/plain": [
       "   best_score_f1                   model\n",
       "0           0.78      LogisticRegression\n",
       "0           0.62            ComplementNB\n",
       "0           0.61  DecisionTreeClassifier"
      ]
     },
     "execution_count": 22,
     "metadata": {},
     "output_type": "execute_result"
    }
   ],
   "source": [
    "#обернем значения метрик в датафрейм\n",
    "lr = pd.DataFrame(pd.Series(model_lr.best_score_),columns=['best_score_f1'])\n",
    "dtc = pd.DataFrame(pd.Series(model_dtc.best_score_),columns=['best_score_f1'])\n",
    "com = pd.DataFrame(pd.Series(model_com.best_score_),columns=['best_score_f1'])\n",
    "#объединим в одну таблицу, создадим столбец с названиями\n",
    "models = pd.concat([lr,dtc,com])\n",
    "models['model'] = ['LogisticRegression','DecisionTreeClassifier','ComplementNB']\n",
    "#выведем таблицу отсортированную по значению метрики\n",
    "models.sort_values(by='best_score_f1',ascending=False)"
   ]
  },
  {
   "cell_type": "markdown",
   "metadata": {},
   "source": [
    "Наибольшее значение метрика показала на лог регресии. Оценим значение метрики на тесте"
   ]
  },
  {
   "cell_type": "code",
   "execution_count": 23,
   "metadata": {},
   "outputs": [
    {
     "data": {
      "text/plain": [
       "0.79"
      ]
     },
     "execution_count": 23,
     "metadata": {},
     "output_type": "execute_result"
    }
   ],
   "source": [
    "round(f1_score(y_test, model_lr.predict(X_test)),2)"
   ]
  },
  {
   "cell_type": "markdown",
   "metadata": {},
   "source": [
    "**Вывод по этапу обучения**:\n",
    "- написана функция по подбору параметров модели, при которой метрика F1 будет наибольшая, а также по обучению модели с этими параметрами.\n",
    "- с помощью нее обучено 3 модели,\n",
    "- лучшую метрику при кросс-валидации показала лог регресия, размер метрики F1 на тесте у данной модели составляет более 0.75."
   ]
  },
  {
   "cell_type": "markdown",
   "metadata": {},
   "source": [
    "## Выводы"
   ]
  },
  {
   "cell_type": "markdown",
   "metadata": {},
   "source": [
    "Интернет-магазин «Викишоп» запускает новый сервис. Теперь пользователи могут редактировать и дополнять описания товаров, как в вики-сообществах. То есть клиенты предлагают свои правки и комментируют изменения других. Магазину нужен инструмент, который будет искать токсичные комментарии и отправлять их на модерацию.\n",
    "\n",
    "Данные представлены 2-мя столбцами: с текстом комментария и определением, является ли данные комментарий токсичным (это целевой признак, он не сбалансирован по классами с перевесом в пользу класса 0 в 7 раз).\n",
    "\n",
    "Была поставлена следующая задача:\n",
    " - обучить модель классифицировать комментарии на позитивные и негативные.\n",
    " - построить модель со значением метрики качества F1 не меньше 0.75.\n",
    "\n",
    "Для решение задачи данные были подготовлены следующим образом:\n",
    " - Для ускорения обучения моделей из данных взята выборка в 50000 строк, в которых текс был очищен и лемматизирован,\n",
    " - Эти данные подготовлены для обучения.\n",
    " \n",
    "Далее было обучено 3 модели, из которых наилучший результат показала лог регрессия, показав значение метрики F1 при кросс-валидации 0.77. Данная модель на тестовых данных показала метрику F1 свыше 0.75. "
   ]
  }
 ],
 "metadata": {
  "ExecuteTimeLog": [
   {
    "duration": 11799,
    "start_time": "2024-05-29T13:40:05.538Z"
   },
   {
    "duration": 10703,
    "start_time": "2024-05-29T13:40:30.157Z"
   },
   {
    "duration": 1627,
    "start_time": "2024-05-29T14:19:05.327Z"
   },
   {
    "duration": 3008,
    "start_time": "2024-05-29T14:20:58.160Z"
   },
   {
    "duration": 747,
    "start_time": "2024-05-29T14:21:36.836Z"
   },
   {
    "duration": 28,
    "start_time": "2024-05-29T14:23:18.377Z"
   },
   {
    "duration": 204,
    "start_time": "2024-05-29T14:25:59.745Z"
   },
   {
    "duration": 195,
    "start_time": "2024-05-29T14:26:18.648Z"
   },
   {
    "duration": 50,
    "start_time": "2024-05-29T14:27:23.969Z"
   },
   {
    "duration": 191,
    "start_time": "2024-05-29T14:28:33.804Z"
   },
   {
    "duration": 189,
    "start_time": "2024-05-29T14:29:13.511Z"
   },
   {
    "duration": 193,
    "start_time": "2024-05-29T14:29:20.763Z"
   },
   {
    "duration": 192,
    "start_time": "2024-05-29T14:29:28.021Z"
   },
   {
    "duration": 50,
    "start_time": "2024-05-29T14:29:40.900Z"
   },
   {
    "duration": 54,
    "start_time": "2024-05-29T14:29:44.592Z"
   },
   {
    "duration": 197,
    "start_time": "2024-05-29T14:29:48.457Z"
   },
   {
    "duration": 85,
    "start_time": "2024-05-29T14:31:39.085Z"
   },
   {
    "duration": 185,
    "start_time": "2024-05-29T14:31:53.360Z"
   },
   {
    "duration": 3,
    "start_time": "2024-05-29T14:32:18.350Z"
   },
   {
    "duration": 113,
    "start_time": "2024-05-29T14:34:08.056Z"
   },
   {
    "duration": 47,
    "start_time": "2024-05-29T14:37:34.398Z"
   },
   {
    "duration": 7129,
    "start_time": "2024-05-29T14:37:40.524Z"
   },
   {
    "duration": 2230,
    "start_time": "2024-05-29T14:37:47.655Z"
   },
   {
    "duration": 2931,
    "start_time": "2024-05-29T14:37:49.887Z"
   },
   {
    "duration": 16,
    "start_time": "2024-05-29T14:37:52.819Z"
   },
   {
    "duration": 265,
    "start_time": "2024-05-29T14:37:52.837Z"
   },
   {
    "duration": 4,
    "start_time": "2024-05-29T14:37:53.103Z"
   },
   {
    "duration": 41,
    "start_time": "2024-05-29T14:39:33.125Z"
   },
   {
    "duration": 7191,
    "start_time": "2024-05-29T14:40:16.379Z"
   },
   {
    "duration": 2184,
    "start_time": "2024-05-29T14:40:23.572Z"
   },
   {
    "duration": 2969,
    "start_time": "2024-05-29T14:40:25.758Z"
   },
   {
    "duration": 16,
    "start_time": "2024-05-29T14:40:28.728Z"
   },
   {
    "duration": 259,
    "start_time": "2024-05-29T14:40:28.745Z"
   },
   {
    "duration": 3,
    "start_time": "2024-05-29T14:40:29.005Z"
   },
   {
    "duration": 7218,
    "start_time": "2024-05-29T14:41:47.507Z"
   },
   {
    "duration": 2073,
    "start_time": "2024-05-29T14:41:54.727Z"
   },
   {
    "duration": 2980,
    "start_time": "2024-05-29T14:41:56.802Z"
   },
   {
    "duration": 17,
    "start_time": "2024-05-29T14:41:59.784Z"
   },
   {
    "duration": 261,
    "start_time": "2024-05-29T14:41:59.803Z"
   },
   {
    "duration": 5,
    "start_time": "2024-05-29T14:42:00.066Z"
   },
   {
    "duration": 47,
    "start_time": "2024-05-29T15:53:42.570Z"
   },
   {
    "duration": 8459,
    "start_time": "2024-05-29T15:53:57.712Z"
   },
   {
    "duration": 2362,
    "start_time": "2024-05-29T15:54:13.632Z"
   },
   {
    "duration": 3188,
    "start_time": "2024-05-29T15:54:18.916Z"
   },
   {
    "duration": 26,
    "start_time": "2024-05-29T15:54:25.256Z"
   },
   {
    "duration": 317,
    "start_time": "2024-05-29T15:54:28.912Z"
   },
   {
    "duration": 26,
    "start_time": "2024-05-29T15:54:33.994Z"
   },
   {
    "duration": 3,
    "start_time": "2024-05-29T15:54:38.014Z"
   },
   {
    "duration": 1390,
    "start_time": "2024-05-29T15:56:01.746Z"
   },
   {
    "duration": 48,
    "start_time": "2024-05-29T15:57:21.703Z"
   },
   {
    "duration": 8395,
    "start_time": "2024-05-29T15:57:34.825Z"
   },
   {
    "duration": 2604,
    "start_time": "2024-05-29T15:57:43.222Z"
   },
   {
    "duration": 3175,
    "start_time": "2024-05-29T15:57:45.827Z"
   },
   {
    "duration": 26,
    "start_time": "2024-05-29T15:57:49.005Z"
   },
   {
    "duration": 322,
    "start_time": "2024-05-29T15:57:49.033Z"
   },
   {
    "duration": 4,
    "start_time": "2024-05-29T15:57:49.356Z"
   },
   {
    "duration": 8374,
    "start_time": "2024-05-29T16:14:08.103Z"
   },
   {
    "duration": 2524,
    "start_time": "2024-05-29T16:14:16.480Z"
   },
   {
    "duration": 3158,
    "start_time": "2024-05-29T16:14:19.006Z"
   },
   {
    "duration": 34,
    "start_time": "2024-05-29T16:14:22.167Z"
   },
   {
    "duration": 320,
    "start_time": "2024-05-29T16:14:22.203Z"
   },
   {
    "duration": 4,
    "start_time": "2024-05-29T16:14:22.524Z"
   },
   {
    "duration": 29,
    "start_time": "2024-05-29T16:14:22.530Z"
   },
   {
    "duration": 3,
    "start_time": "2024-05-29T16:14:22.570Z"
   },
   {
    "duration": 143,
    "start_time": "2024-05-29T16:14:22.574Z"
   },
   {
    "duration": 0,
    "start_time": "2024-05-29T16:14:22.718Z"
   },
   {
    "duration": 3,
    "start_time": "2024-05-29T16:14:35.624Z"
   },
   {
    "duration": 857,
    "start_time": "2024-05-29T16:15:22.997Z"
   },
   {
    "duration": 151,
    "start_time": "2024-05-29T16:15:32.684Z"
   },
   {
    "duration": 3,
    "start_time": "2024-05-29T16:15:34.998Z"
   },
   {
    "duration": 1378,
    "start_time": "2024-05-29T16:15:49.930Z"
   },
   {
    "duration": 14,
    "start_time": "2024-05-29T16:16:21.401Z"
   },
   {
    "duration": 8420,
    "start_time": "2024-05-29T16:23:37.855Z"
   },
   {
    "duration": 2409,
    "start_time": "2024-05-29T16:23:46.277Z"
   },
   {
    "duration": 3186,
    "start_time": "2024-05-29T16:23:48.688Z"
   },
   {
    "duration": 29,
    "start_time": "2024-05-29T16:23:51.875Z"
   },
   {
    "duration": 345,
    "start_time": "2024-05-29T16:23:51.907Z"
   },
   {
    "duration": 4,
    "start_time": "2024-05-29T16:23:52.254Z"
   },
   {
    "duration": 414,
    "start_time": "2024-05-29T16:23:52.259Z"
   },
   {
    "duration": 154,
    "start_time": "2024-05-29T16:23:52.674Z"
   },
   {
    "duration": 3,
    "start_time": "2024-05-29T16:23:52.830Z"
   },
   {
    "duration": 1418,
    "start_time": "2024-05-29T16:23:52.834Z"
   },
   {
    "duration": 0,
    "start_time": "2024-05-29T16:23:54.253Z"
   },
   {
    "duration": 244,
    "start_time": "2024-05-29T16:25:26.683Z"
   },
   {
    "duration": 148,
    "start_time": "2024-05-29T16:27:20.423Z"
   },
   {
    "duration": 2,
    "start_time": "2024-05-29T16:27:22.640Z"
   },
   {
    "duration": 15,
    "start_time": "2024-05-29T16:28:18.795Z"
   },
   {
    "duration": 11,
    "start_time": "2024-05-29T16:30:21.152Z"
   },
   {
    "duration": 149,
    "start_time": "2024-05-29T16:50:58.217Z"
   },
   {
    "duration": 4,
    "start_time": "2024-05-29T16:52:14.572Z"
   },
   {
    "duration": 15,
    "start_time": "2024-05-29T16:52:57.946Z"
   },
   {
    "duration": 705,
    "start_time": "2024-05-29T16:58:20.022Z"
   },
   {
    "duration": 10,
    "start_time": "2024-05-29T17:00:13.517Z"
   },
   {
    "duration": 49,
    "start_time": "2024-05-29T17:01:10.676Z"
   },
   {
    "duration": 8267,
    "start_time": "2024-05-29T17:01:29.510Z"
   },
   {
    "duration": 2668,
    "start_time": "2024-05-29T17:01:37.780Z"
   },
   {
    "duration": 3140,
    "start_time": "2024-05-29T17:01:40.450Z"
   },
   {
    "duration": 25,
    "start_time": "2024-05-29T17:01:43.592Z"
   },
   {
    "duration": 318,
    "start_time": "2024-05-29T17:01:43.618Z"
   },
   {
    "duration": 4,
    "start_time": "2024-05-29T17:01:43.937Z"
   },
   {
    "duration": 420,
    "start_time": "2024-05-29T17:01:43.942Z"
   },
   {
    "duration": 223,
    "start_time": "2024-05-29T17:01:44.372Z"
   },
   {
    "duration": 2,
    "start_time": "2024-05-29T17:01:44.597Z"
   },
   {
    "duration": 371,
    "start_time": "2024-05-29T17:01:44.602Z"
   },
   {
    "duration": 0,
    "start_time": "2024-05-29T17:01:44.975Z"
   },
   {
    "duration": 0,
    "start_time": "2024-05-29T17:01:44.976Z"
   },
   {
    "duration": 7,
    "start_time": "2024-05-29T17:02:08.440Z"
   },
   {
    "duration": 14,
    "start_time": "2024-05-29T17:02:43.753Z"
   },
   {
    "duration": 8,
    "start_time": "2024-05-29T17:04:09.458Z"
   },
   {
    "duration": 2,
    "start_time": "2024-05-29T17:04:11.383Z"
   },
   {
    "duration": 16,
    "start_time": "2024-05-29T17:04:32.941Z"
   },
   {
    "duration": 14,
    "start_time": "2024-05-29T17:06:10.956Z"
   },
   {
    "duration": 864,
    "start_time": "2024-05-29T17:07:19.807Z"
   },
   {
    "duration": 14,
    "start_time": "2024-05-29T17:07:36.472Z"
   },
   {
    "duration": 281,
    "start_time": "2024-05-29T17:11:12.053Z"
   },
   {
    "duration": 15,
    "start_time": "2024-05-29T17:11:18.460Z"
   },
   {
    "duration": 14,
    "start_time": "2024-05-29T17:12:28.427Z"
   },
   {
    "duration": 9,
    "start_time": "2024-05-29T17:14:12.826Z"
   },
   {
    "duration": 313,
    "start_time": "2024-05-29T17:14:55.968Z"
   },
   {
    "duration": 1225,
    "start_time": "2024-05-29T17:16:04.518Z"
   },
   {
    "duration": 896,
    "start_time": "2024-05-29T17:17:43.765Z"
   },
   {
    "duration": 913,
    "start_time": "2024-05-29T17:17:57.030Z"
   },
   {
    "duration": 896,
    "start_time": "2024-05-29T17:18:02.062Z"
   },
   {
    "duration": 19,
    "start_time": "2024-05-29T17:18:15.718Z"
   },
   {
    "duration": 871,
    "start_time": "2024-05-29T17:19:03.528Z"
   },
   {
    "duration": 381,
    "start_time": "2024-05-29T17:19:08.361Z"
   },
   {
    "duration": 16,
    "start_time": "2024-05-29T17:19:32.892Z"
   },
   {
    "duration": 880,
    "start_time": "2024-05-29T17:20:01.133Z"
   },
   {
    "duration": 388,
    "start_time": "2024-05-29T17:20:06.670Z"
   },
   {
    "duration": 15,
    "start_time": "2024-05-29T17:20:13.632Z"
   },
   {
    "duration": 6,
    "start_time": "2024-05-29T17:20:52.482Z"
   },
   {
    "duration": 9,
    "start_time": "2024-05-29T17:21:37.410Z"
   },
   {
    "duration": 871,
    "start_time": "2024-05-29T17:22:27.103Z"
   },
   {
    "duration": 376,
    "start_time": "2024-05-29T17:22:30.899Z"
   },
   {
    "duration": 127,
    "start_time": "2024-05-29T17:22:36.765Z"
   },
   {
    "duration": 237,
    "start_time": "2024-05-29T17:23:43.437Z"
   },
   {
    "duration": 212,
    "start_time": "2024-05-29T17:31:26.733Z"
   },
   {
    "duration": 8,
    "start_time": "2024-05-29T18:22:42.063Z"
   },
   {
    "duration": 15239,
    "start_time": "2024-05-30T10:25:06.058Z"
   },
   {
    "duration": 53,
    "start_time": "2024-05-30T10:25:33.305Z"
   },
   {
    "duration": 5318,
    "start_time": "2024-05-30T10:25:41.974Z"
   },
   {
    "duration": 2282,
    "start_time": "2024-05-30T10:25:52.561Z"
   },
   {
    "duration": 3493,
    "start_time": "2024-05-30T10:25:58.825Z"
   },
   {
    "duration": 9993,
    "start_time": "2024-05-30T10:33:34.588Z"
   },
   {
    "duration": 49,
    "start_time": "2024-05-30T10:34:09.694Z"
   },
   {
    "duration": 554,
    "start_time": "2024-05-30T10:35:12.018Z"
   },
   {
    "duration": 2510,
    "start_time": "2024-05-30T10:35:47.827Z"
   },
   {
    "duration": 7665,
    "start_time": "2024-05-30T10:36:25.729Z"
   },
   {
    "duration": 7790,
    "start_time": "2024-05-30T10:37:24.574Z"
   },
   {
    "duration": 2917,
    "start_time": "2024-05-30T10:37:32.367Z"
   },
   {
    "duration": 3418,
    "start_time": "2024-05-30T10:37:35.285Z"
   },
   {
    "duration": 33,
    "start_time": "2024-05-30T10:37:38.705Z"
   },
   {
    "duration": 311,
    "start_time": "2024-05-30T10:37:38.740Z"
   },
   {
    "duration": 2429,
    "start_time": "2024-05-30T10:37:39.053Z"
   },
   {
    "duration": 0,
    "start_time": "2024-05-30T10:37:41.483Z"
   },
   {
    "duration": 0,
    "start_time": "2024-05-30T10:37:41.485Z"
   },
   {
    "duration": 0,
    "start_time": "2024-05-30T10:37:41.486Z"
   },
   {
    "duration": 0,
    "start_time": "2024-05-30T10:37:41.487Z"
   },
   {
    "duration": 0,
    "start_time": "2024-05-30T10:37:41.488Z"
   },
   {
    "duration": 0,
    "start_time": "2024-05-30T10:37:41.489Z"
   },
   {
    "duration": 0,
    "start_time": "2024-05-30T10:37:41.490Z"
   },
   {
    "duration": 0,
    "start_time": "2024-05-30T10:37:41.491Z"
   },
   {
    "duration": 8114,
    "start_time": "2024-05-30T10:38:11.800Z"
   },
   {
    "duration": 7884,
    "start_time": "2024-05-30T10:41:13.086Z"
   },
   {
    "duration": 7770,
    "start_time": "2024-05-30T10:41:39.158Z"
   },
   {
    "duration": 34,
    "start_time": "2024-05-30T10:41:59.030Z"
   },
   {
    "duration": 7679,
    "start_time": "2024-05-30T10:42:08.149Z"
   },
   {
    "duration": 22,
    "start_time": "2024-05-30T10:43:11.734Z"
   },
   {
    "duration": 17,
    "start_time": "2024-05-30T10:43:29.762Z"
   },
   {
    "duration": 6,
    "start_time": "2024-05-30T10:44:41.548Z"
   },
   {
    "duration": 32,
    "start_time": "2024-05-30T10:44:53.324Z"
   },
   {
    "duration": 6,
    "start_time": "2024-05-30T10:51:22.951Z"
   },
   {
    "duration": 59,
    "start_time": "2024-05-30T11:00:57.594Z"
   },
   {
    "duration": 10,
    "start_time": "2024-05-30T11:01:04.340Z"
   },
   {
    "duration": 5369,
    "start_time": "2024-05-30T11:01:12.272Z"
   },
   {
    "duration": 2810,
    "start_time": "2024-05-30T11:01:22.747Z"
   },
   {
    "duration": 3459,
    "start_time": "2024-05-30T11:01:29.203Z"
   },
   {
    "duration": 36,
    "start_time": "2024-05-30T11:01:35.723Z"
   },
   {
    "duration": 313,
    "start_time": "2024-05-30T11:01:38.853Z"
   },
   {
    "duration": 6,
    "start_time": "2024-05-30T11:01:41.247Z"
   },
   {
    "duration": 476,
    "start_time": "2024-05-30T11:01:44.513Z"
   },
   {
    "duration": 213,
    "start_time": "2024-05-30T11:02:37.103Z"
   },
   {
    "duration": 288,
    "start_time": "2024-05-30T11:02:44.830Z"
   },
   {
    "duration": 283,
    "start_time": "2024-05-30T11:02:55.827Z"
   },
   {
    "duration": 275,
    "start_time": "2024-05-30T11:03:06.429Z"
   },
   {
    "duration": 263,
    "start_time": "2024-05-30T11:03:59.351Z"
   },
   {
    "duration": 388,
    "start_time": "2024-05-30T11:06:57.425Z"
   },
   {
    "duration": 2,
    "start_time": "2024-05-30T11:07:23.218Z"
   },
   {
    "duration": 1445,
    "start_time": "2024-05-30T11:07:37.115Z"
   },
   {
    "duration": 221,
    "start_time": "2024-05-30T11:07:51.502Z"
   },
   {
    "duration": 347,
    "start_time": "2024-05-30T11:08:03.307Z"
   },
   {
    "duration": 351,
    "start_time": "2024-05-30T11:08:19.788Z"
   },
   {
    "duration": 70,
    "start_time": "2024-05-30T11:08:25.441Z"
   },
   {
    "duration": 113,
    "start_time": "2024-05-30T11:08:30.807Z"
   },
   {
    "duration": 939,
    "start_time": "2024-05-30T11:08:37.516Z"
   },
   {
    "duration": 380,
    "start_time": "2024-05-30T11:08:47.149Z"
   },
   {
    "duration": 137,
    "start_time": "2024-05-30T11:08:51.728Z"
   },
   {
    "duration": 259,
    "start_time": "2024-05-30T11:08:58.506Z"
   },
   {
    "duration": 940,
    "start_time": "2024-05-30T11:10:11.171Z"
   },
   {
    "duration": 729,
    "start_time": "2024-05-30T11:10:21.480Z"
   },
   {
    "duration": 3,
    "start_time": "2024-05-30T11:14:20.827Z"
   },
   {
    "duration": 446,
    "start_time": "2024-05-30T11:15:08.850Z"
   },
   {
    "duration": 1297,
    "start_time": "2024-05-30T11:15:45.715Z"
   },
   {
    "duration": 14,
    "start_time": "2024-05-30T11:15:53.398Z"
   },
   {
    "duration": 1000,
    "start_time": "2024-05-30T11:21:47.859Z"
   },
   {
    "duration": 873,
    "start_time": "2024-05-30T11:21:58.683Z"
   },
   {
    "duration": 3,
    "start_time": "2024-05-30T11:22:03.509Z"
   },
   {
    "duration": 419,
    "start_time": "2024-05-30T11:22:06.678Z"
   },
   {
    "duration": 409,
    "start_time": "2024-05-30T11:22:27.251Z"
   },
   {
    "duration": 956,
    "start_time": "2024-05-30T11:27:59.030Z"
   },
   {
    "duration": 808,
    "start_time": "2024-05-30T11:28:05.207Z"
   },
   {
    "duration": 3,
    "start_time": "2024-05-30T11:28:09.062Z"
   },
   {
    "duration": 7333,
    "start_time": "2024-05-30T11:28:12.338Z"
   },
   {
    "duration": 9016,
    "start_time": "2024-05-30T11:41:01.533Z"
   },
   {
    "duration": 126,
    "start_time": "2024-05-30T11:41:14.574Z"
   },
   {
    "duration": 1035,
    "start_time": "2024-05-30T11:54:33.515Z"
   },
   {
    "duration": 770,
    "start_time": "2024-05-30T11:54:40.500Z"
   },
   {
    "duration": 7314,
    "start_time": "2024-05-30T12:04:03.951Z"
   },
   {
    "duration": 4,
    "start_time": "2024-05-30T12:04:53.783Z"
   },
   {
    "duration": 2,
    "start_time": "2024-05-30T12:05:18.686Z"
   },
   {
    "duration": 2,
    "start_time": "2024-05-30T12:06:47.354Z"
   },
   {
    "duration": 76,
    "start_time": "2024-05-30T12:09:02.389Z"
   },
   {
    "duration": 56,
    "start_time": "2024-05-30T12:09:30.825Z"
   },
   {
    "duration": 138,
    "start_time": "2024-05-30T12:09:54.718Z"
   },
   {
    "duration": 28,
    "start_time": "2024-05-30T12:10:50.085Z"
   },
   {
    "duration": 30,
    "start_time": "2024-05-30T12:11:10.170Z"
   },
   {
    "duration": 4,
    "start_time": "2024-05-30T12:11:29.126Z"
   },
   {
    "duration": 4,
    "start_time": "2024-05-30T12:12:00.436Z"
   },
   {
    "duration": 22,
    "start_time": "2024-05-30T12:16:36.256Z"
   },
   {
    "duration": 10,
    "start_time": "2024-05-30T12:17:15.617Z"
   },
   {
    "duration": 227,
    "start_time": "2024-05-30T12:20:45.480Z"
   },
   {
    "duration": 7,
    "start_time": "2024-05-30T12:21:01.191Z"
   },
   {
    "duration": 24,
    "start_time": "2024-05-30T12:22:07.901Z"
   },
   {
    "duration": 23,
    "start_time": "2024-05-30T12:22:34.925Z"
   },
   {
    "duration": 950,
    "start_time": "2024-05-30T12:24:26.158Z"
   },
   {
    "duration": 24,
    "start_time": "2024-05-30T12:24:37.796Z"
   },
   {
    "duration": 7001,
    "start_time": "2024-05-30T12:25:07.919Z"
   },
   {
    "duration": 4,
    "start_time": "2024-05-30T12:25:21.470Z"
   },
   {
    "duration": 4,
    "start_time": "2024-05-30T12:25:25.499Z"
   },
   {
    "duration": 24,
    "start_time": "2024-05-30T12:25:37.313Z"
   },
   {
    "duration": 951,
    "start_time": "2024-05-30T12:27:11.797Z"
   },
   {
    "duration": 74,
    "start_time": "2024-05-30T12:27:53.801Z"
   },
   {
    "duration": 767,
    "start_time": "2024-05-30T12:30:12.673Z"
   },
   {
    "duration": 7169,
    "start_time": "2024-05-30T12:30:20.974Z"
   },
   {
    "duration": 7797,
    "start_time": "2024-05-30T12:31:11.815Z"
   },
   {
    "duration": 2192,
    "start_time": "2024-05-30T12:31:19.615Z"
   },
   {
    "duration": 972,
    "start_time": "2024-05-30T12:31:21.809Z"
   },
   {
    "duration": 35,
    "start_time": "2024-05-30T12:31:22.783Z"
   },
   {
    "duration": 336,
    "start_time": "2024-05-30T12:31:22.820Z"
   },
   {
    "duration": 5,
    "start_time": "2024-05-30T12:31:23.159Z"
   },
   {
    "duration": 395,
    "start_time": "2024-05-30T12:31:23.166Z"
   },
   {
    "duration": 777,
    "start_time": "2024-05-30T12:31:23.563Z"
   },
   {
    "duration": 315,
    "start_time": "2024-05-30T12:31:24.342Z"
   },
   {
    "duration": 5,
    "start_time": "2024-05-30T12:31:24.659Z"
   },
   {
    "duration": 13,
    "start_time": "2024-05-30T12:31:24.666Z"
   },
   {
    "duration": 164,
    "start_time": "2024-05-30T12:31:24.681Z"
   },
   {
    "duration": 0,
    "start_time": "2024-05-30T12:31:24.847Z"
   },
   {
    "duration": 0,
    "start_time": "2024-05-30T12:31:24.849Z"
   },
   {
    "duration": 27,
    "start_time": "2024-05-30T12:33:42.028Z"
   },
   {
    "duration": 23,
    "start_time": "2024-05-30T12:35:23.351Z"
   },
   {
    "duration": 58,
    "start_time": "2024-05-30T12:36:15.326Z"
   },
   {
    "duration": 24,
    "start_time": "2024-05-30T12:36:22.519Z"
   },
   {
    "duration": 26,
    "start_time": "2024-05-30T12:37:20.756Z"
   },
   {
    "duration": 7,
    "start_time": "2024-05-30T12:37:53.881Z"
   },
   {
    "duration": 25,
    "start_time": "2024-05-30T12:38:12.060Z"
   },
   {
    "duration": 1365,
    "start_time": "2024-05-30T12:38:45.264Z"
   },
   {
    "duration": 29,
    "start_time": "2024-05-30T12:40:53.191Z"
   },
   {
    "duration": 30,
    "start_time": "2024-05-30T12:42:18.846Z"
   },
   {
    "duration": 3,
    "start_time": "2024-05-30T12:42:26.896Z"
   },
   {
    "duration": 68,
    "start_time": "2024-05-30T12:42:31.716Z"
   },
   {
    "duration": 39,
    "start_time": "2024-05-30T12:43:47.615Z"
   },
   {
    "duration": 984,
    "start_time": "2024-05-30T12:43:51.559Z"
   },
   {
    "duration": 691,
    "start_time": "2024-05-30T12:43:57.324Z"
   },
   {
    "duration": 293,
    "start_time": "2024-05-30T12:44:00.833Z"
   },
   {
    "duration": 4,
    "start_time": "2024-05-30T12:44:06.120Z"
   },
   {
    "duration": 4,
    "start_time": "2024-05-30T12:44:08.801Z"
   },
   {
    "duration": 30,
    "start_time": "2024-05-30T12:44:12.828Z"
   },
   {
    "duration": 502,
    "start_time": "2024-05-30T12:44:38.226Z"
   },
   {
    "duration": 134,
    "start_time": "2024-05-30T12:44:45.319Z"
   },
   {
    "duration": 14,
    "start_time": "2024-05-30T12:45:39.432Z"
   },
   {
    "duration": 103993,
    "start_time": "2024-05-30T12:47:11.496Z"
   },
   {
    "duration": 103409,
    "start_time": "2024-05-30T12:49:03.622Z"
   },
   {
    "duration": 12,
    "start_time": "2024-05-30T12:52:25.887Z"
   },
   {
    "duration": 5,
    "start_time": "2024-05-30T13:15:39.993Z"
   },
   {
    "duration": 6,
    "start_time": "2024-05-30T13:37:48.653Z"
   },
   {
    "duration": 75148,
    "start_time": "2024-05-30T13:42:34.911Z"
   },
   {
    "duration": 11,
    "start_time": "2024-05-30T13:46:02.920Z"
   },
   {
    "duration": 23837,
    "start_time": "2024-05-30T13:46:16.277Z"
   },
   {
    "duration": 5,
    "start_time": "2024-05-30T13:47:06.769Z"
   },
   {
    "duration": 83323,
    "start_time": "2024-05-30T13:47:12.045Z"
   },
   {
    "duration": 24401,
    "start_time": "2024-05-30T13:49:29.527Z"
   },
   {
    "duration": 8,
    "start_time": "2024-05-30T14:40:50.934Z"
   },
   {
    "duration": 57,
    "start_time": "2024-05-30T14:40:54.411Z"
   },
   {
    "duration": 60,
    "start_time": "2024-05-30T14:41:13.522Z"
   },
   {
    "duration": 31,
    "start_time": "2024-05-30T14:42:22.327Z"
   },
   {
    "duration": 32,
    "start_time": "2024-05-30T14:43:04.911Z"
   },
   {
    "duration": 306959,
    "start_time": "2024-05-30T14:44:37.407Z"
   },
   {
    "duration": 262,
    "start_time": "2024-05-30T14:50:23.640Z"
   },
   {
    "duration": 189,
    "start_time": "2024-05-30T14:50:59.327Z"
   },
   {
    "duration": 13,
    "start_time": "2024-05-30T14:51:08.326Z"
   },
   {
    "duration": 122,
    "start_time": "2024-05-30T14:51:46.548Z"
   },
   {
    "duration": 5,
    "start_time": "2024-05-30T14:52:01.944Z"
   },
   {
    "duration": 5,
    "start_time": "2024-05-30T14:52:20.632Z"
   },
   {
    "duration": 5,
    "start_time": "2024-05-30T14:53:43.736Z"
   },
   {
    "duration": 6,
    "start_time": "2024-05-30T14:54:45.545Z"
   },
   {
    "duration": 6,
    "start_time": "2024-05-30T14:55:20.202Z"
   },
   {
    "duration": 305665,
    "start_time": "2024-05-30T14:55:27.196Z"
   },
   {
    "duration": 5,
    "start_time": "2024-05-30T15:00:39.726Z"
   },
   {
    "duration": 5,
    "start_time": "2024-05-30T15:00:47.367Z"
   },
   {
    "duration": 30,
    "start_time": "2024-05-30T15:01:57.691Z"
   },
   {
    "duration": 24019,
    "start_time": "2024-05-30T15:02:11.198Z"
   },
   {
    "duration": 23987,
    "start_time": "2024-05-30T15:03:14.420Z"
   },
   {
    "duration": 5,
    "start_time": "2024-05-30T15:04:03.382Z"
   },
   {
    "duration": 5,
    "start_time": "2024-05-30T15:04:21.113Z"
   },
   {
    "duration": 5,
    "start_time": "2024-05-30T15:06:41.360Z"
   },
   {
    "duration": 469497,
    "start_time": "2024-05-30T15:07:22.795Z"
   },
   {
    "duration": 60,
    "start_time": "2024-05-30T15:16:13.665Z"
   },
   {
    "duration": 7,
    "start_time": "2024-05-30T15:16:31.233Z"
   },
   {
    "duration": 6,
    "start_time": "2024-05-30T15:16:57.983Z"
   },
   {
    "duration": 5,
    "start_time": "2024-05-30T15:19:16.638Z"
   },
   {
    "duration": 8,
    "start_time": "2024-05-30T15:21:03.770Z"
   },
   {
    "duration": 55714,
    "start_time": "2024-05-30T15:21:38.348Z"
   },
   {
    "duration": 280819,
    "start_time": "2024-05-30T15:26:10.810Z"
   },
   {
    "duration": 5,
    "start_time": "2024-05-30T15:31:25.480Z"
   },
   {
    "duration": 454,
    "start_time": "2024-05-30T15:31:34.963Z"
   },
   {
    "duration": 7999,
    "start_time": "2024-05-30T16:02:40.066Z"
   },
   {
    "duration": 256,
    "start_time": "2024-05-30T16:02:54.499Z"
   },
   {
    "duration": 1065,
    "start_time": "2024-05-30T16:07:33.148Z"
   },
   {
    "duration": 33,
    "start_time": "2024-05-30T16:07:38.881Z"
   },
   {
    "duration": 287,
    "start_time": "2024-05-30T16:07:42.514Z"
   },
   {
    "duration": 5,
    "start_time": "2024-05-30T16:07:46.248Z"
   },
   {
    "duration": 278,
    "start_time": "2024-05-30T16:14:07.881Z"
   },
   {
    "duration": 1911,
    "start_time": "2024-05-30T16:14:13.867Z"
   },
   {
    "duration": 711,
    "start_time": "2024-05-30T16:14:27.496Z"
   },
   {
    "duration": 4,
    "start_time": "2024-05-30T16:14:35.627Z"
   },
   {
    "duration": 3,
    "start_time": "2024-05-30T16:14:41.905Z"
   },
   {
    "duration": 3,
    "start_time": "2024-05-30T16:14:44.348Z"
   },
   {
    "duration": 265425,
    "start_time": "2024-05-30T16:14:48.025Z"
   },
   {
    "duration": 10,
    "start_time": "2024-05-30T16:20:26.275Z"
   },
   {
    "duration": 13,
    "start_time": "2024-05-30T16:20:55.930Z"
   },
   {
    "duration": 38,
    "start_time": "2024-05-30T16:22:07.143Z"
   },
   {
    "duration": 5,
    "start_time": "2024-05-30T16:22:10.631Z"
   },
   {
    "duration": 1068,
    "start_time": "2024-05-30T16:22:15.194Z"
   },
   {
    "duration": 1047,
    "start_time": "2024-05-30T16:22:47.260Z"
   },
   {
    "duration": 1097,
    "start_time": "2024-05-30T16:23:20.693Z"
   },
   {
    "duration": 42340,
    "start_time": "2024-05-30T16:24:03.936Z"
   },
   {
    "duration": 1073342,
    "start_time": "2024-05-30T16:25:59.724Z"
   },
   {
    "duration": 0,
    "start_time": "2024-05-30T16:43:53.070Z"
   },
   {
    "duration": 751,
    "start_time": "2024-05-30T16:44:14.658Z"
   },
   {
    "duration": 262,
    "start_time": "2024-05-30T16:44:19.377Z"
   },
   {
    "duration": 4,
    "start_time": "2024-05-30T16:44:26.482Z"
   },
   {
    "duration": 3,
    "start_time": "2024-05-30T16:44:29.399Z"
   },
   {
    "duration": 85511,
    "start_time": "2024-05-30T16:44:40.506Z"
   },
   {
    "duration": 12,
    "start_time": "2024-05-30T16:47:59.352Z"
   },
   {
    "duration": 23,
    "start_time": "2024-05-30T16:48:26.256Z"
   },
   {
    "duration": 5,
    "start_time": "2024-05-30T16:48:29.284Z"
   },
   {
    "duration": 344105,
    "start_time": "2024-05-30T16:48:35.189Z"
   },
   {
    "duration": 512960,
    "start_time": "2024-05-30T16:56:36.150Z"
   },
   {
    "duration": 1283076,
    "start_time": "2024-05-30T17:05:42.322Z"
   },
   {
    "duration": 7881,
    "start_time": "2024-05-30T17:27:44.382Z"
   },
   {
    "duration": 2366,
    "start_time": "2024-05-30T17:27:52.266Z"
   },
   {
    "duration": 977,
    "start_time": "2024-05-30T17:27:54.633Z"
   },
   {
    "duration": 34,
    "start_time": "2024-05-30T17:27:55.612Z"
   },
   {
    "duration": 322,
    "start_time": "2024-05-30T17:27:55.648Z"
   },
   {
    "duration": 4,
    "start_time": "2024-05-30T17:27:55.972Z"
   },
   {
    "duration": 414,
    "start_time": "2024-05-30T17:27:55.978Z"
   },
   {
    "duration": 666,
    "start_time": "2024-05-30T17:27:56.394Z"
   },
   {
    "duration": 242,
    "start_time": "2024-05-30T17:27:57.062Z"
   },
   {
    "duration": 4,
    "start_time": "2024-05-30T17:27:57.306Z"
   },
   {
    "duration": 4,
    "start_time": "2024-05-30T17:27:57.311Z"
   },
   {
    "duration": 11,
    "start_time": "2024-05-30T17:27:57.317Z"
   },
   {
    "duration": 86004,
    "start_time": "2024-05-30T17:27:57.330Z"
   },
   {
    "duration": 13,
    "start_time": "2024-05-30T17:29:23.335Z"
   },
   {
    "duration": 12,
    "start_time": "2024-05-30T17:29:23.358Z"
   },
   {
    "duration": 6,
    "start_time": "2024-05-30T17:29:23.371Z"
   },
   {
    "duration": 9,
    "start_time": "2024-05-30T17:29:23.378Z"
   },
   {
    "duration": 161,
    "start_time": "2024-05-30T17:29:23.389Z"
   },
   {
    "duration": 0,
    "start_time": "2024-05-30T17:29:23.552Z"
   },
   {
    "duration": 0,
    "start_time": "2024-05-30T17:29:23.553Z"
   },
   {
    "duration": 0,
    "start_time": "2024-05-30T17:29:23.558Z"
   },
   {
    "duration": 0,
    "start_time": "2024-05-30T17:29:23.559Z"
   },
   {
    "duration": 6,
    "start_time": "2024-05-30T17:30:01.097Z"
   },
   {
    "duration": 74036,
    "start_time": "2024-05-30T17:30:07.283Z"
   },
   {
    "duration": 55098,
    "start_time": "2024-05-30T17:31:30.745Z"
   },
   {
    "duration": 1188101,
    "start_time": "2024-05-30T17:32:44.464Z"
   },
   {
    "duration": 60829,
    "start_time": "2024-05-30T17:52:58.580Z"
   },
   {
    "duration": 16,
    "start_time": "2024-05-30T17:54:18.959Z"
   },
   {
    "duration": 15,
    "start_time": "2024-05-30T17:54:51.170Z"
   },
   {
    "duration": 13,
    "start_time": "2024-05-30T17:55:36.074Z"
   },
   {
    "duration": 6,
    "start_time": "2024-05-30T17:57:16.302Z"
   },
   {
    "duration": 10,
    "start_time": "2024-05-30T17:57:50.275Z"
   },
   {
    "duration": 104467,
    "start_time": "2024-05-30T17:58:25.111Z"
   },
   {
    "duration": 12,
    "start_time": "2024-05-30T18:01:32.558Z"
   },
   {
    "duration": 5,
    "start_time": "2024-05-30T18:04:29.149Z"
   },
   {
    "duration": 151303,
    "start_time": "2024-05-30T18:04:39.180Z"
   },
   {
    "duration": 126,
    "start_time": "2024-05-30T18:09:17.983Z"
   },
   {
    "duration": 15,
    "start_time": "2024-05-30T18:10:49.035Z"
   },
   {
    "duration": 5,
    "start_time": "2024-05-30T18:13:03.359Z"
   },
   {
    "duration": 153552,
    "start_time": "2024-05-30T18:13:33.359Z"
   },
   {
    "duration": 6,
    "start_time": "2024-05-30T18:29:31.813Z"
   },
   {
    "duration": 153498,
    "start_time": "2024-05-30T18:29:43.600Z"
   },
   {
    "duration": 8,
    "start_time": "2024-05-30T18:32:51.433Z"
   },
   {
    "duration": 6,
    "start_time": "2024-05-30T18:37:27.860Z"
   },
   {
    "duration": 151221,
    "start_time": "2024-05-30T18:37:51.663Z"
   },
   {
    "duration": 15,
    "start_time": "2024-05-30T18:41:07.949Z"
   },
   {
    "duration": 7,
    "start_time": "2024-05-30T18:44:34.311Z"
   },
   {
    "duration": 163990,
    "start_time": "2024-05-30T18:44:37.965Z"
   },
   {
    "duration": 16,
    "start_time": "2024-05-30T18:48:22.446Z"
   },
   {
    "duration": 5,
    "start_time": "2024-05-30T18:49:43.612Z"
   },
   {
    "duration": 1031,
    "start_time": "2024-05-30T18:50:05.093Z"
   },
   {
    "duration": 1171,
    "start_time": "2024-05-30T18:50:30.482Z"
   },
   {
    "duration": 367,
    "start_time": "2024-05-30T18:50:34.829Z"
   },
   {
    "duration": 5,
    "start_time": "2024-05-30T18:50:38.949Z"
   },
   {
    "duration": 135010,
    "start_time": "2024-05-30T18:50:48.185Z"
   },
   {
    "duration": 5,
    "start_time": "2024-05-30T18:53:07.632Z"
   },
   {
    "duration": 6,
    "start_time": "2024-05-30T18:54:27.111Z"
   },
   {
    "duration": 5,
    "start_time": "2024-05-30T18:54:35.047Z"
   },
   {
    "duration": 16,
    "start_time": "2024-05-30T18:59:25.117Z"
   },
   {
    "duration": 24,
    "start_time": "2024-05-30T18:59:30.841Z"
   },
   {
    "duration": 4,
    "start_time": "2024-05-30T18:59:36.184Z"
   },
   {
    "duration": 276565,
    "start_time": "2024-05-30T18:59:54.019Z"
   },
   {
    "duration": 58,
    "start_time": "2024-05-30T19:05:20.450Z"
   },
   {
    "duration": 15579,
    "start_time": "2024-05-30T19:05:28.783Z"
   },
   {
    "duration": 1048,
    "start_time": "2024-05-30T19:05:56.639Z"
   },
   {
    "duration": 1135,
    "start_time": "2024-05-30T19:06:02.253Z"
   },
   {
    "duration": 396,
    "start_time": "2024-05-30T19:06:06.987Z"
   },
   {
    "duration": 67,
    "start_time": "2024-05-30T19:09:44.235Z"
   },
   {
    "duration": 535,
    "start_time": "2024-05-30T19:10:30.268Z"
   },
   {
    "duration": 11,
    "start_time": "2024-05-30T19:10:57.326Z"
   },
   {
    "duration": 4,
    "start_time": "2024-05-30T19:15:59.718Z"
   },
   {
    "duration": 482,
    "start_time": "2024-05-30T19:16:02.599Z"
   },
   {
    "duration": 50,
    "start_time": "2024-05-30T19:16:05.247Z"
   },
   {
    "duration": 460,
    "start_time": "2024-05-30T19:16:24.138Z"
   },
   {
    "duration": 9,
    "start_time": "2024-05-30T19:16:25.942Z"
   },
   {
    "duration": 175322,
    "start_time": "2024-05-30T19:18:43.111Z"
   },
   {
    "duration": 32,
    "start_time": "2024-05-30T19:22:58.234Z"
   },
   {
    "duration": 4,
    "start_time": "2024-05-30T19:23:02.717Z"
   },
   {
    "duration": 311434,
    "start_time": "2024-05-30T19:23:08.527Z"
   },
   {
    "duration": 12155,
    "start_time": "2024-05-30T19:31:51.532Z"
   },
   {
    "duration": 123890,
    "start_time": "2024-05-30T19:32:34.028Z"
   },
   {
    "duration": 60,
    "start_time": "2024-05-30T19:44:54.943Z"
   },
   {
    "duration": 7876,
    "start_time": "2024-05-30T19:45:51.170Z"
   },
   {
    "duration": 17111,
    "start_time": "2024-05-30T19:45:59.048Z"
   },
   {
    "duration": 2637,
    "start_time": "2024-05-30T19:46:16.161Z"
   },
   {
    "duration": 3488,
    "start_time": "2024-05-30T19:46:18.800Z"
   },
   {
    "duration": 35,
    "start_time": "2024-05-30T19:46:22.290Z"
   },
   {
    "duration": 325,
    "start_time": "2024-05-30T19:46:22.327Z"
   },
   {
    "duration": 6,
    "start_time": "2024-05-30T19:46:22.654Z"
   },
   {
    "duration": 335,
    "start_time": "2024-05-30T19:46:22.662Z"
   },
   {
    "duration": 476,
    "start_time": "2024-05-30T19:46:23.000Z"
   },
   {
    "duration": 177,
    "start_time": "2024-05-30T19:46:23.478Z"
   },
   {
    "duration": 4,
    "start_time": "2024-05-30T19:46:23.658Z"
   },
   {
    "duration": 2312,
    "start_time": "2024-05-30T19:46:23.663Z"
   },
   {
    "duration": 9,
    "start_time": "2024-05-30T19:46:25.977Z"
   },
   {
    "duration": 71425,
    "start_time": "2024-05-30T19:46:25.988Z"
   },
   {
    "duration": 10,
    "start_time": "2024-05-30T19:47:37.415Z"
   },
   {
    "duration": 16,
    "start_time": "2024-05-30T19:47:37.427Z"
   },
   {
    "duration": 110332,
    "start_time": "2024-05-30T19:47:37.445Z"
   },
   {
    "duration": 45105,
    "start_time": "2024-05-30T19:49:27.779Z"
   },
   {
    "duration": 1057503,
    "start_time": "2024-05-30T19:50:12.886Z"
   },
   {
    "duration": 0,
    "start_time": "2024-05-30T20:07:50.391Z"
   },
   {
    "duration": 0,
    "start_time": "2024-05-30T20:07:50.392Z"
   },
   {
    "duration": 0,
    "start_time": "2024-05-30T20:07:50.393Z"
   },
   {
    "duration": 46803,
    "start_time": "2024-05-30T20:08:01.136Z"
   },
   {
    "duration": 62,
    "start_time": "2024-05-30T20:09:05.461Z"
   },
   {
    "duration": 1570011,
    "start_time": "2024-05-30T20:09:35.990Z"
   },
   {
    "duration": 34469,
    "start_time": "2024-05-30T20:36:30.631Z"
   },
   {
    "duration": 73570,
    "start_time": "2024-05-30T20:38:17.599Z"
   },
   {
    "duration": 18859,
    "start_time": "2024-05-31T11:17:20.336Z"
   },
   {
    "duration": 16763,
    "start_time": "2024-05-31T11:17:39.198Z"
   },
   {
    "duration": 2217,
    "start_time": "2024-05-31T11:17:55.963Z"
   },
   {
    "duration": 3389,
    "start_time": "2024-05-31T11:17:58.182Z"
   },
   {
    "duration": 36,
    "start_time": "2024-05-31T11:18:01.574Z"
   },
   {
    "duration": 450,
    "start_time": "2024-05-31T11:18:01.612Z"
   },
   {
    "duration": 6,
    "start_time": "2024-05-31T11:18:02.065Z"
   },
   {
    "duration": 444,
    "start_time": "2024-05-31T11:18:02.073Z"
   },
   {
    "duration": 510,
    "start_time": "2024-05-31T11:18:02.519Z"
   },
   {
    "duration": 174,
    "start_time": "2024-05-31T11:18:03.031Z"
   },
   {
    "duration": 6,
    "start_time": "2024-05-31T11:18:03.207Z"
   },
   {
    "duration": 533,
    "start_time": "2024-05-31T11:18:03.215Z"
   },
   {
    "duration": 12,
    "start_time": "2024-05-31T11:18:03.750Z"
   },
   {
    "duration": 71523,
    "start_time": "2024-05-31T11:18:03.765Z"
   },
   {
    "duration": 11,
    "start_time": "2024-05-31T11:19:15.289Z"
   },
   {
    "duration": 25,
    "start_time": "2024-05-31T11:19:15.302Z"
   },
   {
    "duration": 117506,
    "start_time": "2024-05-31T11:19:15.329Z"
   },
   {
    "duration": 60668,
    "start_time": "2024-05-31T11:21:12.837Z"
   },
   {
    "duration": 47309,
    "start_time": "2024-05-31T11:22:13.507Z"
   },
   {
    "duration": 8075,
    "start_time": "2024-05-31T11:28:24.671Z"
   },
   {
    "duration": 15684,
    "start_time": "2024-05-31T11:28:32.749Z"
   },
   {
    "duration": 1660,
    "start_time": "2024-05-31T11:28:48.435Z"
   },
   {
    "duration": 1002,
    "start_time": "2024-05-31T11:28:50.099Z"
   },
   {
    "duration": 35,
    "start_time": "2024-05-31T11:28:51.102Z"
   },
   {
    "duration": 328,
    "start_time": "2024-05-31T11:28:51.139Z"
   },
   {
    "duration": 4,
    "start_time": "2024-05-31T11:28:51.469Z"
   },
   {
    "duration": 324,
    "start_time": "2024-05-31T11:28:51.475Z"
   },
   {
    "duration": 798,
    "start_time": "2024-05-31T11:28:51.801Z"
   },
   {
    "duration": 304,
    "start_time": "2024-05-31T11:28:52.602Z"
   },
   {
    "duration": 5,
    "start_time": "2024-05-31T11:28:52.908Z"
   },
   {
    "duration": 536,
    "start_time": "2024-05-31T11:28:52.915Z"
   },
   {
    "duration": 10,
    "start_time": "2024-05-31T11:28:53.452Z"
   },
   {
    "duration": 140126,
    "start_time": "2024-05-31T11:28:53.464Z"
   },
   {
    "duration": 13,
    "start_time": "2024-05-31T11:31:13.591Z"
   },
   {
    "duration": 5,
    "start_time": "2024-05-31T11:31:13.606Z"
   },
   {
    "duration": 264913,
    "start_time": "2024-05-31T11:31:13.612Z"
   },
   {
    "duration": 128767,
    "start_time": "2024-05-31T11:35:38.526Z"
   },
   {
    "duration": 98930,
    "start_time": "2024-05-31T11:37:47.295Z"
   },
   {
    "duration": 8048,
    "start_time": "2024-05-31T11:43:20.371Z"
   },
   {
    "duration": 16976,
    "start_time": "2024-05-31T11:43:28.422Z"
   },
   {
    "duration": 2560,
    "start_time": "2024-05-31T11:43:45.400Z"
   },
   {
    "duration": 3327,
    "start_time": "2024-05-31T11:43:47.962Z"
   },
   {
    "duration": 36,
    "start_time": "2024-05-31T11:43:51.292Z"
   },
   {
    "duration": 313,
    "start_time": "2024-05-31T11:43:51.330Z"
   },
   {
    "duration": 7,
    "start_time": "2024-05-31T11:43:51.645Z"
   },
   {
    "duration": 370,
    "start_time": "2024-05-31T11:43:51.654Z"
   },
   {
    "duration": 2003,
    "start_time": "2024-05-31T11:43:52.027Z"
   },
   {
    "duration": 718,
    "start_time": "2024-05-31T11:43:54.032Z"
   },
   {
    "duration": 7,
    "start_time": "2024-05-31T11:43:54.752Z"
   },
   {
    "duration": 532,
    "start_time": "2024-05-31T11:43:54.761Z"
   },
   {
    "duration": 11,
    "start_time": "2024-05-31T11:43:55.295Z"
   },
   {
    "duration": 344658,
    "start_time": "2024-05-31T11:43:55.308Z"
   },
   {
    "duration": 39,
    "start_time": "2024-05-31T11:49:39.969Z"
   },
   {
    "duration": 7,
    "start_time": "2024-05-31T11:49:40.010Z"
   },
   {
    "duration": 737894,
    "start_time": "2024-05-31T11:49:40.019Z"
   },
   {
    "duration": 352503,
    "start_time": "2024-05-31T12:01:57.914Z"
   },
   {
    "duration": 237317,
    "start_time": "2024-05-31T12:07:50.419Z"
   },
   {
    "duration": 234950,
    "start_time": "2024-05-31T12:11:47.738Z"
   },
   {
    "duration": 0,
    "start_time": "2024-05-31T12:15:42.692Z"
   },
   {
    "duration": 593,
    "start_time": "2024-05-31T12:15:49.874Z"
   },
   {
    "duration": 18719,
    "start_time": "2024-06-01T13:18:57.845Z"
   },
   {
    "duration": 6724,
    "start_time": "2024-06-01T13:19:16.567Z"
   },
   {
    "duration": 2407,
    "start_time": "2024-06-01T13:19:23.293Z"
   },
   {
    "duration": 30,
    "start_time": "2024-06-01T13:19:25.702Z"
   },
   {
    "duration": 291,
    "start_time": "2024-06-01T13:19:25.734Z"
   },
   {
    "duration": 5,
    "start_time": "2024-06-01T13:19:26.026Z"
   },
   {
    "duration": 312,
    "start_time": "2024-06-01T13:19:26.032Z"
   },
   {
    "duration": 2118,
    "start_time": "2024-06-01T13:19:26.346Z"
   },
   {
    "duration": 707,
    "start_time": "2024-06-01T13:19:28.465Z"
   },
   {
    "duration": 5,
    "start_time": "2024-06-01T13:19:29.176Z"
   },
   {
    "duration": 15,
    "start_time": "2024-06-01T13:19:29.183Z"
   },
   {
    "duration": 38,
    "start_time": "2024-06-01T13:19:29.200Z"
   },
   {
    "duration": 302563,
    "start_time": "2024-06-01T13:19:29.240Z"
   },
   {
    "duration": 41,
    "start_time": "2024-06-01T13:24:31.805Z"
   },
   {
    "duration": 6,
    "start_time": "2024-06-01T13:24:31.848Z"
   },
   {
    "duration": 663369,
    "start_time": "2024-06-01T13:24:31.865Z"
   },
   {
    "duration": 290497,
    "start_time": "2024-06-01T13:35:35.235Z"
   },
   {
    "duration": 203743,
    "start_time": "2024-06-01T13:40:25.734Z"
   },
   {
    "duration": 25025,
    "start_time": "2024-06-03T06:32:13.903Z"
   },
   {
    "duration": 6337,
    "start_time": "2024-06-03T06:32:38.931Z"
   },
   {
    "duration": 3271,
    "start_time": "2024-06-03T06:32:45.269Z"
   },
   {
    "duration": 32,
    "start_time": "2024-06-03T06:32:48.543Z"
   },
   {
    "duration": 310,
    "start_time": "2024-06-03T06:32:48.577Z"
   },
   {
    "duration": 4,
    "start_time": "2024-06-03T06:32:48.889Z"
   },
   {
    "duration": 362,
    "start_time": "2024-06-03T06:32:48.895Z"
   },
   {
    "duration": 2252,
    "start_time": "2024-06-03T06:32:49.259Z"
   },
   {
    "duration": 728,
    "start_time": "2024-06-03T06:32:51.512Z"
   },
   {
    "duration": 4,
    "start_time": "2024-06-03T06:32:52.242Z"
   },
   {
    "duration": 9,
    "start_time": "2024-06-03T06:32:52.247Z"
   },
   {
    "duration": 23,
    "start_time": "2024-06-03T06:32:52.258Z"
   },
   {
    "duration": 18782,
    "start_time": "2024-06-03T06:33:38.455Z"
   },
   {
    "duration": 5577,
    "start_time": "2024-06-03T06:33:57.239Z"
   },
   {
    "duration": 938,
    "start_time": "2024-06-03T06:34:02.818Z"
   },
   {
    "duration": 31,
    "start_time": "2024-06-03T06:34:03.758Z"
   },
   {
    "duration": 318,
    "start_time": "2024-06-03T06:34:03.791Z"
   },
   {
    "duration": 5,
    "start_time": "2024-06-03T06:34:04.111Z"
   },
   {
    "duration": 342,
    "start_time": "2024-06-03T06:34:04.118Z"
   },
   {
    "duration": 1956,
    "start_time": "2024-06-03T06:34:04.462Z"
   },
   {
    "duration": 719,
    "start_time": "2024-06-03T06:34:06.419Z"
   },
   {
    "duration": 4,
    "start_time": "2024-06-03T06:34:07.139Z"
   },
   {
    "duration": 14,
    "start_time": "2024-06-03T06:34:07.145Z"
   },
   {
    "duration": 26,
    "start_time": "2024-06-03T06:34:07.160Z"
   },
   {
    "duration": 321750,
    "start_time": "2024-06-03T06:34:07.188Z"
   },
   {
    "duration": 28,
    "start_time": "2024-06-03T06:39:28.940Z"
   },
   {
    "duration": 4,
    "start_time": "2024-06-03T06:39:28.970Z"
   },
   {
    "duration": 716971,
    "start_time": "2024-06-03T06:39:28.975Z"
   },
   {
    "duration": 329091,
    "start_time": "2024-06-03T06:51:25.948Z"
   },
   {
    "duration": 226264,
    "start_time": "2024-06-03T06:56:55.041Z"
   },
   {
    "duration": 608955,
    "start_time": "2024-06-03T07:00:41.307Z"
   },
   {
    "duration": 0,
    "start_time": "2024-06-03T07:10:50.264Z"
   },
   {
    "duration": 18,
    "start_time": "2024-06-03T07:10:55.369Z"
   },
   {
    "duration": 509,
    "start_time": "2024-06-03T07:13:38.379Z"
   },
   {
    "duration": 20546,
    "start_time": "2024-06-03T07:22:16.784Z"
   },
   {
    "duration": 507,
    "start_time": "2024-06-03T07:22:47.653Z"
   },
   {
    "duration": 1016,
    "start_time": "2024-06-03T07:22:58.615Z"
   },
   {
    "duration": 34,
    "start_time": "2024-06-03T07:23:02.045Z"
   },
   {
    "duration": 287,
    "start_time": "2024-06-03T07:23:04.861Z"
   },
   {
    "duration": 5,
    "start_time": "2024-06-03T07:23:07.389Z"
   },
   {
    "duration": 314,
    "start_time": "2024-06-03T07:23:10.044Z"
   },
   {
    "duration": 1917,
    "start_time": "2024-06-03T07:23:15.529Z"
   },
   {
    "duration": 758,
    "start_time": "2024-06-03T07:23:20.077Z"
   },
   {
    "duration": 3,
    "start_time": "2024-06-03T07:23:23.509Z"
   },
   {
    "duration": 3,
    "start_time": "2024-06-03T07:23:36.485Z"
   },
   {
    "duration": 11,
    "start_time": "2024-06-03T07:23:39.463Z"
   },
   {
    "duration": 332729,
    "start_time": "2024-06-03T07:23:42.402Z"
   },
   {
    "duration": 73,
    "start_time": "2024-06-03T07:30:26.657Z"
   },
   {
    "duration": 6,
    "start_time": "2024-06-03T07:30:31.999Z"
   },
   {
    "duration": 48,
    "start_time": "2024-06-03T07:31:30.059Z"
   },
   {
    "duration": 32,
    "start_time": "2024-06-03T07:32:01.268Z"
   },
   {
    "duration": 6,
    "start_time": "2024-06-03T07:32:49.179Z"
   },
   {
    "duration": 26,
    "start_time": "2024-06-03T07:32:51.941Z"
   },
   {
    "duration": 5,
    "start_time": "2024-06-03T07:35:08.415Z"
   },
   {
    "duration": 30,
    "start_time": "2024-06-03T07:35:10.850Z"
   },
   {
    "duration": 5,
    "start_time": "2024-06-03T07:35:48.836Z"
   },
   {
    "duration": 26,
    "start_time": "2024-06-03T07:35:51.369Z"
   },
   {
    "duration": 30,
    "start_time": "2024-06-03T07:37:35.995Z"
   },
   {
    "duration": 4,
    "start_time": "2024-06-03T07:37:46.244Z"
   },
   {
    "duration": 125881,
    "start_time": "2024-06-03T07:37:48.790Z"
   },
   {
    "duration": 718936,
    "start_time": "2024-06-03T07:40:28.343Z"
   },
   {
    "duration": 18628,
    "start_time": "2024-06-03T07:55:31.849Z"
   },
   {
    "duration": 106198,
    "start_time": "2024-06-03T07:56:12.081Z"
   },
   {
    "duration": 1202,
    "start_time": "2024-06-03T07:58:16.322Z"
   },
   {
    "duration": 333304,
    "start_time": "2024-06-03T07:58:41.638Z"
   },
   {
    "duration": 24,
    "start_time": "2024-06-03T08:08:30.743Z"
   },
   {
    "duration": 21,
    "start_time": "2024-06-03T08:09:08.700Z"
   },
   {
    "duration": 8,
    "start_time": "2024-06-03T08:09:28.427Z"
   },
   {
    "duration": 41,
    "start_time": "2024-06-03T08:18:26.127Z"
   },
   {
    "duration": 11,
    "start_time": "2024-06-03T08:19:00.018Z"
   },
   {
    "duration": 23,
    "start_time": "2024-06-03T08:19:13.078Z"
   },
   {
    "duration": 10,
    "start_time": "2024-06-03T08:19:35.297Z"
   },
   {
    "duration": 25,
    "start_time": "2024-06-03T08:20:36.187Z"
   },
   {
    "duration": 23,
    "start_time": "2024-06-03T08:30:05.688Z"
   },
   {
    "duration": 23,
    "start_time": "2024-06-03T08:35:40.192Z"
   },
   {
    "duration": 25,
    "start_time": "2024-06-03T08:35:49.355Z"
   },
   {
    "duration": 22,
    "start_time": "2024-06-03T08:37:01.327Z"
   },
   {
    "duration": 10,
    "start_time": "2024-06-03T08:37:19.734Z"
   },
   {
    "duration": 21,
    "start_time": "2024-06-03T08:37:58.505Z"
   },
   {
    "duration": 18926,
    "start_time": "2024-06-03T08:42:49.199Z"
   },
   {
    "duration": 5641,
    "start_time": "2024-06-03T08:43:08.128Z"
   },
   {
    "duration": 990,
    "start_time": "2024-06-03T08:43:13.770Z"
   },
   {
    "duration": 31,
    "start_time": "2024-06-03T08:43:14.761Z"
   },
   {
    "duration": 304,
    "start_time": "2024-06-03T08:43:14.794Z"
   },
   {
    "duration": 8,
    "start_time": "2024-06-03T08:43:15.100Z"
   },
   {
    "duration": 351,
    "start_time": "2024-06-03T08:43:15.110Z"
   },
   {
    "duration": 2197,
    "start_time": "2024-06-03T08:43:15.463Z"
   },
   {
    "duration": 704,
    "start_time": "2024-06-03T08:43:17.662Z"
   },
   {
    "duration": 4,
    "start_time": "2024-06-03T08:43:18.368Z"
   },
   {
    "duration": 19,
    "start_time": "2024-06-03T08:43:18.373Z"
   },
   {
    "duration": 10,
    "start_time": "2024-06-03T08:43:18.394Z"
   },
   {
    "duration": 338513,
    "start_time": "2024-06-03T08:43:18.405Z"
   },
   {
    "duration": 36,
    "start_time": "2024-06-03T08:48:56.921Z"
   },
   {
    "duration": 4,
    "start_time": "2024-06-03T08:48:56.959Z"
   },
   {
    "duration": 719105,
    "start_time": "2024-06-03T08:48:56.964Z"
   },
   {
    "duration": 318814,
    "start_time": "2024-06-03T09:00:56.071Z"
   },
   {
    "duration": 220902,
    "start_time": "2024-06-03T09:06:14.887Z"
   },
   {
    "duration": 54,
    "start_time": "2024-06-03T09:09:55.791Z"
   },
   {
    "duration": 0,
    "start_time": "2024-06-03T09:09:55.847Z"
   },
   {
    "duration": 0,
    "start_time": "2024-06-03T09:09:55.848Z"
   },
   {
    "duration": 374,
    "start_time": "2024-06-03T09:10:27.414Z"
   },
   {
    "duration": 25,
    "start_time": "2024-06-03T09:11:00.750Z"
   },
   {
    "duration": 26,
    "start_time": "2024-06-03T09:11:42.641Z"
   },
   {
    "duration": 12,
    "start_time": "2024-06-03T09:14:13.548Z"
   },
   {
    "duration": 10,
    "start_time": "2024-06-03T09:14:31.627Z"
   },
   {
    "duration": 29,
    "start_time": "2024-06-03T09:14:53.084Z"
   },
   {
    "duration": 13,
    "start_time": "2024-06-03T09:14:59.675Z"
   },
   {
    "duration": 14,
    "start_time": "2024-06-03T09:15:20.753Z"
   },
   {
    "duration": 21,
    "start_time": "2024-06-03T09:15:47.374Z"
   },
   {
    "duration": 19,
    "start_time": "2024-06-03T09:15:58.281Z"
   },
   {
    "duration": 14,
    "start_time": "2024-06-03T09:22:06.961Z"
   },
   {
    "duration": 599,
    "start_time": "2024-06-03T09:23:24.027Z"
   },
   {
    "duration": 571,
    "start_time": "2024-06-03T09:23:41.839Z"
   },
   {
    "duration": 19070,
    "start_time": "2024-06-03T09:25:27.037Z"
   },
   {
    "duration": 5659,
    "start_time": "2024-06-03T09:25:46.110Z"
   },
   {
    "duration": 965,
    "start_time": "2024-06-03T09:25:51.771Z"
   },
   {
    "duration": 32,
    "start_time": "2024-06-03T09:25:52.738Z"
   },
   {
    "duration": 304,
    "start_time": "2024-06-03T09:25:52.771Z"
   },
   {
    "duration": 5,
    "start_time": "2024-06-03T09:25:53.077Z"
   },
   {
    "duration": 314,
    "start_time": "2024-06-03T09:25:53.083Z"
   },
   {
    "duration": 2100,
    "start_time": "2024-06-03T09:25:53.399Z"
   },
   {
    "duration": 732,
    "start_time": "2024-06-03T09:25:55.500Z"
   },
   {
    "duration": 3,
    "start_time": "2024-06-03T09:25:56.235Z"
   },
   {
    "duration": 3,
    "start_time": "2024-06-03T09:25:56.240Z"
   },
   {
    "duration": 10,
    "start_time": "2024-06-03T09:25:56.255Z"
   },
   {
    "duration": 343358,
    "start_time": "2024-06-03T09:25:56.266Z"
   },
   {
    "duration": 39,
    "start_time": "2024-06-03T09:31:39.626Z"
   },
   {
    "duration": 5,
    "start_time": "2024-06-03T09:31:39.667Z"
   },
   {
    "duration": 714131,
    "start_time": "2024-06-03T09:31:39.674Z"
   },
   {
    "duration": 332942,
    "start_time": "2024-06-03T09:43:33.807Z"
   },
   {
    "duration": 224567,
    "start_time": "2024-06-03T09:49:06.751Z"
   },
   {
    "duration": 3,
    "start_time": "2024-06-03T09:52:51.319Z"
   },
   {
    "duration": 24,
    "start_time": "2024-06-03T09:52:51.323Z"
   },
   {
    "duration": 56,
    "start_time": "2024-06-03T09:52:51.349Z"
   },
   {
    "duration": 600,
    "start_time": "2024-06-03T09:53:38.944Z"
   },
   {
    "duration": 36716,
    "start_time": "2024-06-05T15:05:27.984Z"
   },
   {
    "duration": 27207,
    "start_time": "2024-06-05T15:06:54.116Z"
   },
   {
    "duration": 5801,
    "start_time": "2024-06-05T15:07:27.339Z"
   },
   {
    "duration": 3128,
    "start_time": "2024-06-05T15:07:40.236Z"
   },
   {
    "duration": 25,
    "start_time": "2024-06-05T15:07:46.103Z"
   },
   {
    "duration": 301,
    "start_time": "2024-06-05T15:07:49.140Z"
   },
   {
    "duration": 4,
    "start_time": "2024-06-05T15:07:52.541Z"
   },
   {
    "duration": 271,
    "start_time": "2024-06-05T15:07:57.475Z"
   },
   {
    "duration": 15,
    "start_time": "2024-06-05T15:08:06.769Z"
   },
   {
    "duration": 659,
    "start_time": "2024-06-05T15:08:13.344Z"
   },
   {
    "duration": 4,
    "start_time": "2024-06-05T15:08:17.450Z"
   },
   {
    "duration": 3,
    "start_time": "2024-06-05T15:08:23.181Z"
   },
   {
    "duration": 22,
    "start_time": "2024-06-05T15:08:26.796Z"
   },
   {
    "duration": 257086,
    "start_time": "2024-06-05T15:08:32.341Z"
   },
   {
    "duration": 420,
    "start_time": "2024-06-05T15:14:25.470Z"
   },
   {
    "duration": 3,
    "start_time": "2024-06-05T15:15:06.303Z"
   },
   {
    "duration": 327,
    "start_time": "2024-06-05T15:15:13.475Z"
   },
   {
    "duration": 16,
    "start_time": "2024-06-05T15:15:37.115Z"
   },
   {
    "duration": 17,
    "start_time": "2024-06-05T15:17:33.600Z"
   },
   {
    "duration": 49,
    "start_time": "2024-06-05T15:17:50.608Z"
   },
   {
    "duration": 65,
    "start_time": "2024-06-05T15:18:00.599Z"
   },
   {
    "duration": 21,
    "start_time": "2024-06-05T15:18:12.254Z"
   },
   {
    "duration": 16,
    "start_time": "2024-06-05T15:20:12.587Z"
   },
   {
    "duration": 18,
    "start_time": "2024-06-05T15:24:36.311Z"
   },
   {
    "duration": 428,
    "start_time": "2024-06-05T15:25:57.592Z"
   },
   {
    "duration": 584,
    "start_time": "2024-06-05T15:26:32.424Z"
   },
   {
    "duration": 581,
    "start_time": "2024-06-05T15:28:26.195Z"
   },
   {
    "duration": 14,
    "start_time": "2024-06-05T15:29:07.277Z"
   },
   {
    "duration": 59,
    "start_time": "2024-06-05T15:31:06.304Z"
   },
   {
    "duration": 21,
    "start_time": "2024-06-05T15:31:14.400Z"
   },
   {
    "duration": 13,
    "start_time": "2024-06-05T15:32:20.805Z"
   },
   {
    "duration": 13,
    "start_time": "2024-06-05T15:32:52.256Z"
   },
   {
    "duration": 25,
    "start_time": "2024-06-05T15:33:08.798Z"
   },
   {
    "duration": 47,
    "start_time": "2024-06-05T15:34:59.268Z"
   },
   {
    "duration": 43,
    "start_time": "2024-06-05T15:36:20.687Z"
   },
   {
    "duration": 22998,
    "start_time": "2024-06-05T15:36:37.580Z"
   },
   {
    "duration": 5616,
    "start_time": "2024-06-05T15:37:00.581Z"
   },
   {
    "duration": 2992,
    "start_time": "2024-06-05T15:37:06.198Z"
   },
   {
    "duration": 18,
    "start_time": "2024-06-05T15:37:09.192Z"
   },
   {
    "duration": 262,
    "start_time": "2024-06-05T15:37:09.212Z"
   },
   {
    "duration": 5,
    "start_time": "2024-06-05T15:37:09.475Z"
   },
   {
    "duration": 267,
    "start_time": "2024-06-05T15:37:09.482Z"
   },
   {
    "duration": 15,
    "start_time": "2024-06-05T15:37:09.750Z"
   },
   {
    "duration": 582,
    "start_time": "2024-06-05T15:37:09.766Z"
   },
   {
    "duration": 3,
    "start_time": "2024-06-05T15:37:10.351Z"
   },
   {
    "duration": 5,
    "start_time": "2024-06-05T15:37:10.355Z"
   },
   {
    "duration": 27,
    "start_time": "2024-06-05T15:37:10.375Z"
   },
   {
    "duration": 240504,
    "start_time": "2024-06-05T15:37:10.404Z"
   },
   {
    "duration": 338,
    "start_time": "2024-06-05T15:41:10.909Z"
   },
   {
    "duration": 102,
    "start_time": "2024-06-05T15:41:11.249Z"
   },
   {
    "duration": 0,
    "start_time": "2024-06-05T15:41:11.352Z"
   },
   {
    "duration": 0,
    "start_time": "2024-06-05T15:41:11.353Z"
   },
   {
    "duration": 0,
    "start_time": "2024-06-05T15:41:11.354Z"
   },
   {
    "duration": 0,
    "start_time": "2024-06-05T15:41:11.355Z"
   },
   {
    "duration": 0,
    "start_time": "2024-06-05T15:41:11.357Z"
   },
   {
    "duration": 0,
    "start_time": "2024-06-05T15:41:11.358Z"
   },
   {
    "duration": 0,
    "start_time": "2024-06-05T15:41:11.359Z"
   },
   {
    "duration": 0,
    "start_time": "2024-06-05T15:41:11.361Z"
   },
   {
    "duration": 311,
    "start_time": "2024-06-05T15:41:26.809Z"
   },
   {
    "duration": 52,
    "start_time": "2024-06-05T15:42:49.296Z"
   },
   {
    "duration": 134,
    "start_time": "2024-06-05T15:42:54.516Z"
   },
   {
    "duration": 23786,
    "start_time": "2024-06-05T15:46:44.437Z"
   },
   {
    "duration": 472,
    "start_time": "2024-06-05T15:47:11.242Z"
   },
   {
    "duration": 104,
    "start_time": "2024-06-05T15:47:20.728Z"
   },
   {
    "duration": 19136,
    "start_time": "2024-06-05T15:48:27.926Z"
   },
   {
    "duration": 5858,
    "start_time": "2024-06-05T15:48:47.064Z"
   },
   {
    "duration": 732,
    "start_time": "2024-06-05T15:48:52.923Z"
   },
   {
    "duration": 22,
    "start_time": "2024-06-05T15:48:53.657Z"
   },
   {
    "duration": 271,
    "start_time": "2024-06-05T15:48:53.680Z"
   },
   {
    "duration": 4,
    "start_time": "2024-06-05T15:48:53.953Z"
   },
   {
    "duration": 265,
    "start_time": "2024-06-05T15:48:53.958Z"
   },
   {
    "duration": 13,
    "start_time": "2024-06-05T15:48:54.224Z"
   },
   {
    "duration": 611,
    "start_time": "2024-06-05T15:48:54.239Z"
   },
   {
    "duration": 3,
    "start_time": "2024-06-05T15:48:54.852Z"
   },
   {
    "duration": 19,
    "start_time": "2024-06-05T15:48:54.856Z"
   },
   {
    "duration": 21,
    "start_time": "2024-06-05T15:48:54.877Z"
   },
   {
    "duration": 244432,
    "start_time": "2024-06-05T15:48:54.899Z"
   },
   {
    "duration": 346,
    "start_time": "2024-06-05T15:52:59.333Z"
   },
   {
    "duration": 2211,
    "start_time": "2024-06-05T15:52:59.681Z"
   },
   {
    "duration": 16,
    "start_time": "2024-06-05T15:53:01.893Z"
   },
   {
    "duration": 12,
    "start_time": "2024-06-05T15:53:01.910Z"
   },
   {
    "duration": 252531,
    "start_time": "2024-06-05T15:53:01.923Z"
   },
   {
    "duration": 0,
    "start_time": "2024-06-05T15:57:14.456Z"
   },
   {
    "duration": 0,
    "start_time": "2024-06-05T15:57:14.458Z"
   },
   {
    "duration": 0,
    "start_time": "2024-06-05T15:57:14.459Z"
   },
   {
    "duration": 0,
    "start_time": "2024-06-05T15:57:14.460Z"
   },
   {
    "duration": 0,
    "start_time": "2024-06-05T15:57:14.461Z"
   },
   {
    "duration": 0,
    "start_time": "2024-06-05T15:57:14.463Z"
   },
   {
    "duration": 1360,
    "start_time": "2024-06-05T15:57:25.028Z"
   },
   {
    "duration": 1176,
    "start_time": "2024-06-05T15:57:52.402Z"
   },
   {
    "duration": 1223,
    "start_time": "2024-06-05T15:58:00.175Z"
   },
   {
    "duration": 1238,
    "start_time": "2024-06-05T15:58:22.856Z"
   },
   {
    "duration": 1137,
    "start_time": "2024-06-05T16:03:33.234Z"
   },
   {
    "duration": 1316,
    "start_time": "2024-06-05T16:04:14.061Z"
   },
   {
    "duration": 1124,
    "start_time": "2024-06-05T16:06:07.766Z"
   },
   {
    "duration": 1193,
    "start_time": "2024-06-05T16:06:37.588Z"
   },
   {
    "duration": 1177,
    "start_time": "2024-06-05T16:07:11.227Z"
   },
   {
    "duration": 1207,
    "start_time": "2024-06-05T16:07:19.297Z"
   },
   {
    "duration": 1176,
    "start_time": "2024-06-05T16:07:41.695Z"
   },
   {
    "duration": 638,
    "start_time": "2024-06-05T16:08:41.834Z"
   },
   {
    "duration": 5,
    "start_time": "2024-06-05T16:10:28.074Z"
   },
   {
    "duration": 1132,
    "start_time": "2024-06-05T16:10:38.664Z"
   },
   {
    "duration": 1123,
    "start_time": "2024-06-05T16:10:53.687Z"
   },
   {
    "duration": 1322,
    "start_time": "2024-06-05T16:11:14.958Z"
   },
   {
    "duration": 1220,
    "start_time": "2024-06-05T16:11:32.876Z"
   },
   {
    "duration": 1020,
    "start_time": "2024-06-05T16:11:56.587Z"
   },
   {
    "duration": 1030,
    "start_time": "2024-06-05T16:12:19.458Z"
   },
   {
    "duration": 1009,
    "start_time": "2024-06-05T16:12:37.182Z"
   },
   {
    "duration": 1180,
    "start_time": "2024-06-05T16:13:10.224Z"
   },
   {
    "duration": 28,
    "start_time": "2024-06-05T16:29:05.638Z"
   },
   {
    "duration": 3,
    "start_time": "2024-06-05T16:29:25.941Z"
   },
   {
    "duration": 19966,
    "start_time": "2024-06-05T16:30:19.082Z"
   },
   {
    "duration": 5844,
    "start_time": "2024-06-05T16:30:39.051Z"
   },
   {
    "duration": 764,
    "start_time": "2024-06-05T16:30:44.896Z"
   },
   {
    "duration": 18,
    "start_time": "2024-06-05T16:30:45.662Z"
   },
   {
    "duration": 271,
    "start_time": "2024-06-05T16:30:45.681Z"
   },
   {
    "duration": 4,
    "start_time": "2024-06-05T16:30:45.954Z"
   },
   {
    "duration": 265,
    "start_time": "2024-06-05T16:30:45.959Z"
   },
   {
    "duration": 13,
    "start_time": "2024-06-05T16:30:46.225Z"
   },
   {
    "duration": 596,
    "start_time": "2024-06-05T16:30:46.239Z"
   },
   {
    "duration": 3,
    "start_time": "2024-06-05T16:30:46.837Z"
   },
   {
    "duration": 6,
    "start_time": "2024-06-05T16:30:46.842Z"
   },
   {
    "duration": 9,
    "start_time": "2024-06-05T16:30:46.849Z"
   },
   {
    "duration": 241519,
    "start_time": "2024-06-05T16:30:46.859Z"
   },
   {
    "duration": 1228,
    "start_time": "2024-06-05T16:34:48.379Z"
   },
   {
    "duration": 1110,
    "start_time": "2024-06-05T16:34:49.609Z"
   },
   {
    "duration": 18,
    "start_time": "2024-06-05T16:34:50.720Z"
   },
   {
    "duration": 11,
    "start_time": "2024-06-05T16:34:50.739Z"
   },
   {
    "duration": 19554,
    "start_time": "2024-06-05T16:37:53.751Z"
   },
   {
    "duration": 5934,
    "start_time": "2024-06-05T16:38:13.308Z"
   },
   {
    "duration": 748,
    "start_time": "2024-06-05T16:38:19.243Z"
   },
   {
    "duration": 21,
    "start_time": "2024-06-05T16:38:19.992Z"
   },
   {
    "duration": 288,
    "start_time": "2024-06-05T16:38:20.014Z"
   },
   {
    "duration": 5,
    "start_time": "2024-06-05T16:38:20.303Z"
   },
   {
    "duration": 268,
    "start_time": "2024-06-05T16:38:20.309Z"
   },
   {
    "duration": 13,
    "start_time": "2024-06-05T16:38:20.579Z"
   },
   {
    "duration": 569,
    "start_time": "2024-06-05T16:38:20.594Z"
   },
   {
    "duration": 8,
    "start_time": "2024-06-05T16:38:21.165Z"
   },
   {
    "duration": 10,
    "start_time": "2024-06-05T16:38:21.174Z"
   },
   {
    "duration": 15,
    "start_time": "2024-06-05T16:38:21.185Z"
   },
   {
    "duration": 242797,
    "start_time": "2024-06-05T16:38:21.201Z"
   },
   {
    "duration": 1280,
    "start_time": "2024-06-05T16:42:23.999Z"
   },
   {
    "duration": 1210,
    "start_time": "2024-06-05T16:42:25.281Z"
   },
   {
    "duration": 17,
    "start_time": "2024-06-05T16:42:26.492Z"
   },
   {
    "duration": 3,
    "start_time": "2024-06-05T16:42:26.511Z"
   },
   {
    "duration": 607030,
    "start_time": "2024-06-05T16:42:26.516Z"
   },
   {
    "duration": 19486,
    "start_time": "2024-06-05T16:53:56.354Z"
   },
   {
    "duration": 5705,
    "start_time": "2024-06-05T16:54:15.842Z"
   },
   {
    "duration": 778,
    "start_time": "2024-06-05T16:54:21.549Z"
   },
   {
    "duration": 17,
    "start_time": "2024-06-05T16:54:22.328Z"
   },
   {
    "duration": 271,
    "start_time": "2024-06-05T16:54:22.347Z"
   },
   {
    "duration": 4,
    "start_time": "2024-06-05T16:54:22.619Z"
   },
   {
    "duration": 298,
    "start_time": "2024-06-05T16:54:22.624Z"
   },
   {
    "duration": 8,
    "start_time": "2024-06-05T16:54:22.923Z"
   },
   {
    "duration": 912,
    "start_time": "2024-06-05T16:54:22.933Z"
   },
   {
    "duration": 3,
    "start_time": "2024-06-05T16:54:23.847Z"
   },
   {
    "duration": 3,
    "start_time": "2024-06-05T16:54:23.851Z"
   },
   {
    "duration": 16,
    "start_time": "2024-06-05T16:54:23.855Z"
   },
   {
    "duration": 366718,
    "start_time": "2024-06-05T16:54:23.873Z"
   },
   {
    "duration": 1323,
    "start_time": "2024-06-05T17:00:30.592Z"
   },
   {
    "duration": 1382,
    "start_time": "2024-06-05T17:00:31.917Z"
   },
   {
    "duration": 25,
    "start_time": "2024-06-05T17:00:33.300Z"
   },
   {
    "duration": 4,
    "start_time": "2024-06-05T17:00:33.326Z"
   },
   {
    "duration": 1035753,
    "start_time": "2024-06-05T17:00:33.331Z"
   },
   {
    "duration": 407404,
    "start_time": "2024-06-05T17:17:49.085Z"
   },
   {
    "duration": 247347,
    "start_time": "2024-06-05T17:24:36.490Z"
   },
   {
    "duration": 2,
    "start_time": "2024-06-05T17:28:43.838Z"
   },
   {
    "duration": 32,
    "start_time": "2024-06-05T17:28:43.842Z"
   },
   {
    "duration": 726,
    "start_time": "2024-06-05T17:28:43.876Z"
   },
   {
    "duration": 30680,
    "start_time": "2024-06-05T20:29:02.308Z"
   },
   {
    "duration": 8284,
    "start_time": "2024-06-05T20:29:32.991Z"
   },
   {
    "duration": 2175,
    "start_time": "2024-06-05T20:29:41.277Z"
   },
   {
    "duration": 21,
    "start_time": "2024-06-05T20:29:43.454Z"
   },
   {
    "duration": 267,
    "start_time": "2024-06-05T20:29:43.477Z"
   },
   {
    "duration": 3,
    "start_time": "2024-06-05T20:29:43.746Z"
   },
   {
    "duration": 299,
    "start_time": "2024-06-05T20:29:43.750Z"
   },
   {
    "duration": 17,
    "start_time": "2024-06-05T20:29:44.050Z"
   },
   {
    "duration": 876,
    "start_time": "2024-06-05T20:29:44.068Z"
   },
   {
    "duration": 3,
    "start_time": "2024-06-05T20:29:44.946Z"
   },
   {
    "duration": 5,
    "start_time": "2024-06-05T20:29:44.950Z"
   },
   {
    "duration": 10,
    "start_time": "2024-06-05T20:29:44.956Z"
   },
   {
    "duration": 385061,
    "start_time": "2024-06-05T20:29:44.967Z"
   },
   {
    "duration": 1775,
    "start_time": "2024-06-05T20:36:10.029Z"
   },
   {
    "duration": 1797,
    "start_time": "2024-06-05T20:36:11.806Z"
   },
   {
    "duration": 28,
    "start_time": "2024-06-05T20:36:13.605Z"
   },
   {
    "duration": 1832,
    "start_time": "2024-06-05T20:36:21.451Z"
   },
   {
    "duration": 1816,
    "start_time": "2024-06-05T20:36:28.579Z"
   },
   {
    "duration": 1397,
    "start_time": "2024-06-05T20:36:34.765Z"
   },
   {
    "duration": 1836,
    "start_time": "2024-06-05T20:36:37.738Z"
   },
   {
    "duration": 1033,
    "start_time": "2024-06-05T20:36:40.287Z"
   },
   {
    "duration": 1802,
    "start_time": "2024-06-05T20:36:42.755Z"
   },
   {
    "duration": 1092,
    "start_time": "2024-06-05T20:36:46.216Z"
   },
   {
    "duration": 1772,
    "start_time": "2024-06-05T20:37:05.210Z"
   },
   {
    "duration": 2022,
    "start_time": "2024-06-05T20:37:39.058Z"
   },
   {
    "duration": 1938,
    "start_time": "2024-06-05T20:37:45.745Z"
   },
   {
    "duration": 2005,
    "start_time": "2024-06-05T20:38:56.730Z"
   },
   {
    "duration": 1238,
    "start_time": "2024-06-05T20:39:01.190Z"
   },
   {
    "duration": 1254,
    "start_time": "2024-06-05T20:39:11.976Z"
   },
   {
    "duration": 1660,
    "start_time": "2024-06-05T20:39:14.709Z"
   },
   {
    "duration": 1911,
    "start_time": "2024-06-05T20:39:21.908Z"
   },
   {
    "duration": 1852,
    "start_time": "2024-06-05T20:39:29.934Z"
   },
   {
    "duration": 1783,
    "start_time": "2024-06-05T20:39:33.461Z"
   },
   {
    "duration": 1386,
    "start_time": "2024-06-05T20:39:44.017Z"
   },
   {
    "duration": 1357,
    "start_time": "2024-06-05T20:39:47.094Z"
   },
   {
    "duration": 1810,
    "start_time": "2024-06-05T20:39:55.230Z"
   },
   {
    "duration": 1692,
    "start_time": "2024-06-05T20:40:04.446Z"
   },
   {
    "duration": 2483,
    "start_time": "2024-06-05T20:40:08.447Z"
   },
   {
    "duration": 2726,
    "start_time": "2024-06-05T20:40:13.768Z"
   },
   {
    "duration": 1847,
    "start_time": "2024-06-05T20:40:25.639Z"
   },
   {
    "duration": 1690,
    "start_time": "2024-06-05T20:40:32.113Z"
   },
   {
    "duration": 1688,
    "start_time": "2024-06-05T20:40:37.703Z"
   },
   {
    "duration": 1788,
    "start_time": "2024-06-05T20:40:43.025Z"
   },
   {
    "duration": 1781,
    "start_time": "2024-06-05T20:40:48.661Z"
   },
   {
    "duration": 1763,
    "start_time": "2024-06-05T20:40:57.463Z"
   },
   {
    "duration": 1735,
    "start_time": "2024-06-05T20:41:03.135Z"
   },
   {
    "duration": 1737,
    "start_time": "2024-06-05T20:41:08.565Z"
   },
   {
    "duration": 1698,
    "start_time": "2024-06-05T20:41:12.087Z"
   },
   {
    "duration": 1716,
    "start_time": "2024-06-05T20:41:17.699Z"
   },
   {
    "duration": 1665,
    "start_time": "2024-06-05T20:41:25.831Z"
   },
   {
    "duration": 1744,
    "start_time": "2024-06-05T20:41:30.800Z"
   },
   {
    "duration": 1725,
    "start_time": "2024-06-05T20:41:34.298Z"
   },
   {
    "duration": 1799,
    "start_time": "2024-06-05T20:41:41.197Z"
   },
   {
    "duration": 1317,
    "start_time": "2024-06-05T20:41:50.490Z"
   },
   {
    "duration": 1254,
    "start_time": "2024-06-05T20:41:54.112Z"
   },
   {
    "duration": 1335,
    "start_time": "2024-06-05T20:41:59.134Z"
   },
   {
    "duration": 1765,
    "start_time": "2024-06-05T20:42:03.088Z"
   },
   {
    "duration": 1719,
    "start_time": "2024-06-05T20:42:40.592Z"
   },
   {
    "duration": 1678,
    "start_time": "2024-06-05T20:42:52.871Z"
   },
   {
    "duration": 1761,
    "start_time": "2024-06-05T20:42:56.459Z"
   },
   {
    "duration": 1805,
    "start_time": "2024-06-05T20:43:01.259Z"
   },
   {
    "duration": 1807,
    "start_time": "2024-06-05T20:43:07.257Z"
   },
   {
    "duration": 1817,
    "start_time": "2024-06-05T20:43:45.059Z"
   },
   {
    "duration": 1699,
    "start_time": "2024-06-05T20:43:50.833Z"
   },
   {
    "duration": 32885,
    "start_time": "2024-09-25T15:10:08.461Z"
   },
   {
    "duration": 6033,
    "start_time": "2024-09-25T15:12:34.358Z"
   },
   {
    "duration": 3824,
    "start_time": "2024-09-25T15:15:54.116Z"
   },
   {
    "duration": 32,
    "start_time": "2024-09-25T15:16:01.869Z"
   },
   {
    "duration": 304,
    "start_time": "2024-09-25T15:16:06.490Z"
   },
   {
    "duration": 5,
    "start_time": "2024-09-25T15:16:09.231Z"
   },
   {
    "duration": 56,
    "start_time": "2024-09-25T15:16:40.578Z"
   },
   {
    "duration": 52,
    "start_time": "2024-09-25T15:19:31.865Z"
   },
   {
    "duration": 21661,
    "start_time": "2024-09-25T15:19:37.952Z"
   },
   {
    "duration": 7482,
    "start_time": "2024-09-25T15:20:55.358Z"
   },
   {
    "duration": 3833,
    "start_time": "2024-09-25T15:21:06.977Z"
   },
   {
    "duration": 33,
    "start_time": "2024-09-25T15:21:13.684Z"
   },
   {
    "duration": 324,
    "start_time": "2024-09-25T15:21:17.164Z"
   },
   {
    "duration": 5,
    "start_time": "2024-09-25T15:21:19.892Z"
   },
   {
    "duration": 338,
    "start_time": "2024-09-25T15:21:22.390Z"
   },
   {
    "duration": 12,
    "start_time": "2024-09-25T15:21:31.324Z"
   },
   {
    "duration": 1067,
    "start_time": "2024-09-25T15:22:13.141Z"
   },
   {
    "duration": 4,
    "start_time": "2024-09-25T15:22:24.516Z"
   },
   {
    "duration": 3,
    "start_time": "2024-09-25T15:22:31.565Z"
   },
   {
    "duration": 10,
    "start_time": "2024-09-25T15:22:38.650Z"
   },
   {
    "duration": 527520,
    "start_time": "2024-09-25T15:22:51.539Z"
   },
   {
    "duration": 2010,
    "start_time": "2024-09-25T15:31:44.612Z"
   },
   {
    "duration": 1958,
    "start_time": "2024-09-25T15:32:05.932Z"
   },
   {
    "duration": 2122,
    "start_time": "2024-09-25T15:32:17.378Z"
   },
   {
    "duration": 42,
    "start_time": "2024-09-25T15:32:32.422Z"
   },
   {
    "duration": 4,
    "start_time": "2024-09-25T15:32:50.974Z"
   },
   {
    "duration": 0,
    "start_time": "2024-09-25T15:41:32.264Z"
   },
   {
    "duration": 415145,
    "start_time": "2024-09-25T15:41:51.629Z"
   },
   {
    "duration": 349184,
    "start_time": "2024-09-25T15:49:22.026Z"
   },
   {
    "duration": 52,
    "start_time": "2024-09-25T16:03:08.612Z"
   },
   {
    "duration": 21285,
    "start_time": "2024-09-25T16:07:41.916Z"
   },
   {
    "duration": 7149,
    "start_time": "2024-09-25T16:08:03.204Z"
   },
   {
    "duration": 3883,
    "start_time": "2024-09-25T16:08:10.355Z"
   },
   {
    "duration": 34,
    "start_time": "2024-09-25T16:08:14.241Z"
   },
   {
    "duration": 314,
    "start_time": "2024-09-25T16:08:14.276Z"
   },
   {
    "duration": 5,
    "start_time": "2024-09-25T16:08:14.591Z"
   },
   {
    "duration": 353,
    "start_time": "2024-09-25T16:08:14.598Z"
   },
   {
    "duration": 11,
    "start_time": "2024-09-25T16:08:14.953Z"
   },
   {
    "duration": 1072,
    "start_time": "2024-09-25T16:08:14.966Z"
   },
   {
    "duration": 4,
    "start_time": "2024-09-25T16:08:16.040Z"
   },
   {
    "duration": 7,
    "start_time": "2024-09-25T16:08:16.045Z"
   },
   {
    "duration": 11,
    "start_time": "2024-09-25T16:08:16.054Z"
   },
   {
    "duration": 516063,
    "start_time": "2024-09-25T16:08:16.066Z"
   },
   {
    "duration": 2035,
    "start_time": "2024-09-25T16:16:52.131Z"
   },
   {
    "duration": 2091,
    "start_time": "2024-09-25T16:16:54.167Z"
   },
   {
    "duration": 31,
    "start_time": "2024-09-25T16:16:56.260Z"
   },
   {
    "duration": 4,
    "start_time": "2024-09-25T16:16:56.293Z"
   },
   {
    "duration": 1201626,
    "start_time": "2024-09-25T16:16:56.299Z"
   },
   {
    "duration": 512962,
    "start_time": "2024-09-25T16:36:57.927Z"
   },
   {
    "duration": 335220,
    "start_time": "2024-09-25T16:45:30.891Z"
   },
   {
    "duration": 3,
    "start_time": "2024-09-25T16:51:06.113Z"
   },
   {
    "duration": 54,
    "start_time": "2024-09-25T16:51:06.117Z"
   },
   {
    "duration": 822,
    "start_time": "2024-09-25T16:51:06.173Z"
   }
  ],
  "kernelspec": {
   "display_name": "Python 3 (ipykernel)",
   "language": "python",
   "name": "python3"
  },
  "language_info": {
   "codemirror_mode": {
    "name": "ipython",
    "version": 3
   },
   "file_extension": ".py",
   "mimetype": "text/x-python",
   "name": "python",
   "nbconvert_exporter": "python",
   "pygments_lexer": "ipython3",
   "version": "3.9.5"
  },
  "toc": {
   "base_numbering": 1,
   "nav_menu": {},
   "number_sections": true,
   "sideBar": true,
   "skip_h1_title": true,
   "title_cell": "Содержание",
   "title_sidebar": "Contents",
   "toc_cell": true,
   "toc_position": {
    "height": "calc(100% - 180px)",
    "left": "10px",
    "top": "150px",
    "width": "302.391px"
   },
   "toc_section_display": true,
   "toc_window_display": false
  }
 },
 "nbformat": 4,
 "nbformat_minor": 2
}
