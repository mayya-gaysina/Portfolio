{
 "cells": [
  {
   "cell_type": "markdown",
   "metadata": {},
   "source": [
    "# Проект \"Выбор локации для скважины\""
   ]
  },
  {
   "cell_type": "markdown",
   "metadata": {},
   "source": [
    "\n",
    "Данные:\n",
    " - предоставлены пробы нефти в трёх регионах: в каждом 10 000 месторождений, где измерили качество нефти и объём её запасов.\n",
    " - находятся в 3-х файлах(geo_data_0.csv,geo_data_1.csv,geo_data_2.csv), в которых:\n",
    "  - id — уникальный идентификатор скважины;\n",
    "  - f0, f1, f2 — три признака точек (неважно, что они означают, но сами признаки значимы);\n",
    "  - product — объём запасов в скважине (тыс. баррелей).\n",
    "\n",
    "Задача:\n",
    " - необходимо определить регион, в котором добыча принесет наибольшую прибыль, с помощью модели машинного обучения. Анализ  возможной прибыли и рисков необходимо провести техникой *Bootstrap.*\n",
    "\n",
    "Условия задачи:\n",
    " - Для обучения модели подходит только линейная регрессия (остальные — недостаточно предсказуемые).\n",
    " - При разведке региона исследуют 500 точек, из которых с помощью машинного обучения выбирают 200 лучших для разработки.\n",
    " - Бюджет на разработку скважин в регионе — 10 млрд рублей.\n",
    " - При нынешних ценах один баррель сырья приносит 450 рублей дохода. Доход с каждой единицы продукта составляет 450 тыс. рублей, поскольку объём указан в тысячах баррелей.\n",
    " - После оценки рисков нужно оставить лишь те регионы, в которых вероятность убытков меньше 2.5%. Среди них выбирают регион с наибольшей средней прибылью.\n"
   ]
  },
  {
   "cell_type": "markdown",
   "metadata": {},
   "source": [
    "## Загрузка и подготовка данных"
   ]
  },
  {
   "cell_type": "markdown",
   "metadata": {},
   "source": [
    "Загрузим и подготовим данные:\n",
    "- загрузим данные и проведем визуальную оценку,\n",
    "- проанализируем общую информацию для понимания корректности типов данных и наличия/отсутствия пропусков,\n",
    "- проанализируем на наличие/отсутствие явных/неявных дубликатов, очистим от них данные,\n",
    "- проведем сравнительный анализ признаков по регионам,\n",
    "- проведем корреляционный анализ признаков по регионам."
   ]
  },
  {
   "cell_type": "markdown",
   "metadata": {},
   "source": [
    "### Загрузка данных"
   ]
  },
  {
   "cell_type": "code",
   "execution_count": 1,
   "metadata": {},
   "outputs": [
    {
     "data": {
      "text/html": [
       "<style>.container { width:90% !important; }</style>"
      ],
      "text/plain": [
       "<IPython.core.display.HTML object>"
      ]
     },
     "metadata": {},
     "output_type": "display_data"
    }
   ],
   "source": [
    "#импортируем необходимые библиотеки,\n",
    "#зададим формат вывода знаков после запятой\n",
    "\n",
    "import pandas as pd\n",
    "import numpy as np\n",
    "import seaborn as sns\n",
    "import matplotlib.pyplot as plt\n",
    "import sklearn\n",
    "import os\n",
    "from scipy import stats as st\n",
    "from sklearn.model_selection import train_test_split\n",
    "\n",
    "# загружаем классы для подготовки данных\n",
    "from sklearn.preprocessing import StandardScaler\n",
    "\n",
    "# загружаем функцию для работы с метриками\n",
    "from sklearn.metrics import mean_squared_error,r2_score\n",
    "\n",
    "# загружаем нужные модели\n",
    "from sklearn.linear_model import LinearRegression\n",
    "\n",
    "pd.options.display.float_format = '{:,.2f}'.format\n",
    "\n",
    "from IPython.core.display import display, HTML\n",
    "display(HTML(\"<style>.container { width:90% !important; }</style>\"))"
   ]
  },
  {
   "cell_type": "code",
   "execution_count": 2,
   "metadata": {},
   "outputs": [],
   "source": [
    "#загрузим данные из файла games.csv\n",
    "def download(file):\n",
    "    \n",
    "    data = pd.DataFrame()\n",
    "    \n",
    "    path_1 = '/datasets/' + file + '.csv'\n",
    "    path_2 = 'https://code.s3.yandex.net/datasets/' + file + '.csv'\n",
    "\n",
    "    if os.path.exists(path_1):\n",
    "        data = pd.read_csv(path_1, sep=',')\n",
    "    elif os.path.exists(path_2):\n",
    "        data = pd.read_csv(path_2, sep=',')\n",
    "    else:\n",
    "        print('Something is wrong')\n",
    "        \n",
    "    return data "
   ]
  },
  {
   "cell_type": "code",
   "execution_count": 3,
   "metadata": {},
   "outputs": [
    {
     "data": {
      "text/html": [
       "<div>\n",
       "<style scoped>\n",
       "    .dataframe tbody tr th:only-of-type {\n",
       "        vertical-align: middle;\n",
       "    }\n",
       "\n",
       "    .dataframe tbody tr th {\n",
       "        vertical-align: top;\n",
       "    }\n",
       "\n",
       "    .dataframe thead th {\n",
       "        text-align: right;\n",
       "    }\n",
       "</style>\n",
       "<table border=\"1\" class=\"dataframe\">\n",
       "  <thead>\n",
       "    <tr style=\"text-align: right;\">\n",
       "      <th></th>\n",
       "      <th>id</th>\n",
       "      <th>f0</th>\n",
       "      <th>f1</th>\n",
       "      <th>f2</th>\n",
       "      <th>product</th>\n",
       "    </tr>\n",
       "  </thead>\n",
       "  <tbody>\n",
       "    <tr>\n",
       "      <th>0</th>\n",
       "      <td>txEyH</td>\n",
       "      <td>0.71</td>\n",
       "      <td>-0.50</td>\n",
       "      <td>1.22</td>\n",
       "      <td>105.28</td>\n",
       "    </tr>\n",
       "    <tr>\n",
       "      <th>1</th>\n",
       "      <td>2acmU</td>\n",
       "      <td>1.33</td>\n",
       "      <td>-0.34</td>\n",
       "      <td>4.37</td>\n",
       "      <td>73.04</td>\n",
       "    </tr>\n",
       "    <tr>\n",
       "      <th>2</th>\n",
       "      <td>409Wp</td>\n",
       "      <td>1.02</td>\n",
       "      <td>0.15</td>\n",
       "      <td>1.42</td>\n",
       "      <td>85.27</td>\n",
       "    </tr>\n",
       "    <tr>\n",
       "      <th>3</th>\n",
       "      <td>iJLyR</td>\n",
       "      <td>-0.03</td>\n",
       "      <td>0.14</td>\n",
       "      <td>2.98</td>\n",
       "      <td>168.62</td>\n",
       "    </tr>\n",
       "    <tr>\n",
       "      <th>4</th>\n",
       "      <td>Xdl7t</td>\n",
       "      <td>1.99</td>\n",
       "      <td>0.16</td>\n",
       "      <td>4.75</td>\n",
       "      <td>154.04</td>\n",
       "    </tr>\n",
       "  </tbody>\n",
       "</table>\n",
       "</div>"
      ],
      "text/plain": [
       "      id    f0    f1   f2  product\n",
       "0  txEyH  0.71 -0.50 1.22   105.28\n",
       "1  2acmU  1.33 -0.34 4.37    73.04\n",
       "2  409Wp  1.02  0.15 1.42    85.27\n",
       "3  iJLyR -0.03  0.14 2.98   168.62\n",
       "4  Xdl7t  1.99  0.16 4.75   154.04"
      ]
     },
     "execution_count": 3,
     "metadata": {},
     "output_type": "execute_result"
    }
   ],
   "source": [
    "#загрузим данные из файла для первого региона\n",
    "data_1 = download('geo_data_0')\n",
    "\n",
    "#выведем первые 5 строк\n",
    "data_1.head()"
   ]
  },
  {
   "cell_type": "code",
   "execution_count": 4,
   "metadata": {},
   "outputs": [
    {
     "data": {
      "text/html": [
       "<div>\n",
       "<style scoped>\n",
       "    .dataframe tbody tr th:only-of-type {\n",
       "        vertical-align: middle;\n",
       "    }\n",
       "\n",
       "    .dataframe tbody tr th {\n",
       "        vertical-align: top;\n",
       "    }\n",
       "\n",
       "    .dataframe thead th {\n",
       "        text-align: right;\n",
       "    }\n",
       "</style>\n",
       "<table border=\"1\" class=\"dataframe\">\n",
       "  <thead>\n",
       "    <tr style=\"text-align: right;\">\n",
       "      <th></th>\n",
       "      <th>id</th>\n",
       "      <th>f0</th>\n",
       "      <th>f1</th>\n",
       "      <th>f2</th>\n",
       "      <th>product</th>\n",
       "    </tr>\n",
       "  </thead>\n",
       "  <tbody>\n",
       "    <tr>\n",
       "      <th>0</th>\n",
       "      <td>kBEdx</td>\n",
       "      <td>-15.00</td>\n",
       "      <td>-8.28</td>\n",
       "      <td>-0.01</td>\n",
       "      <td>3.18</td>\n",
       "    </tr>\n",
       "    <tr>\n",
       "      <th>1</th>\n",
       "      <td>62mP7</td>\n",
       "      <td>14.27</td>\n",
       "      <td>-3.48</td>\n",
       "      <td>1.00</td>\n",
       "      <td>26.95</td>\n",
       "    </tr>\n",
       "    <tr>\n",
       "      <th>2</th>\n",
       "      <td>vyE1P</td>\n",
       "      <td>6.26</td>\n",
       "      <td>-5.95</td>\n",
       "      <td>5.00</td>\n",
       "      <td>134.77</td>\n",
       "    </tr>\n",
       "    <tr>\n",
       "      <th>3</th>\n",
       "      <td>KcrkZ</td>\n",
       "      <td>-13.08</td>\n",
       "      <td>-11.51</td>\n",
       "      <td>5.00</td>\n",
       "      <td>137.95</td>\n",
       "    </tr>\n",
       "    <tr>\n",
       "      <th>4</th>\n",
       "      <td>AHL4O</td>\n",
       "      <td>12.70</td>\n",
       "      <td>-8.15</td>\n",
       "      <td>5.00</td>\n",
       "      <td>134.77</td>\n",
       "    </tr>\n",
       "  </tbody>\n",
       "</table>\n",
       "</div>"
      ],
      "text/plain": [
       "      id     f0     f1    f2  product\n",
       "0  kBEdx -15.00  -8.28 -0.01     3.18\n",
       "1  62mP7  14.27  -3.48  1.00    26.95\n",
       "2  vyE1P   6.26  -5.95  5.00   134.77\n",
       "3  KcrkZ -13.08 -11.51  5.00   137.95\n",
       "4  AHL4O  12.70  -8.15  5.00   134.77"
      ]
     },
     "execution_count": 4,
     "metadata": {},
     "output_type": "execute_result"
    }
   ],
   "source": [
    "#загрузим данные из файла для второго региона\n",
    "data_2 = download('geo_data_1')\n",
    "\n",
    "#выведем первые 5 строк\n",
    "data_2.head()"
   ]
  },
  {
   "cell_type": "code",
   "execution_count": 5,
   "metadata": {},
   "outputs": [
    {
     "data": {
      "text/html": [
       "<div>\n",
       "<style scoped>\n",
       "    .dataframe tbody tr th:only-of-type {\n",
       "        vertical-align: middle;\n",
       "    }\n",
       "\n",
       "    .dataframe tbody tr th {\n",
       "        vertical-align: top;\n",
       "    }\n",
       "\n",
       "    .dataframe thead th {\n",
       "        text-align: right;\n",
       "    }\n",
       "</style>\n",
       "<table border=\"1\" class=\"dataframe\">\n",
       "  <thead>\n",
       "    <tr style=\"text-align: right;\">\n",
       "      <th></th>\n",
       "      <th>id</th>\n",
       "      <th>f0</th>\n",
       "      <th>f1</th>\n",
       "      <th>f2</th>\n",
       "      <th>product</th>\n",
       "    </tr>\n",
       "  </thead>\n",
       "  <tbody>\n",
       "    <tr>\n",
       "      <th>0</th>\n",
       "      <td>fwXo0</td>\n",
       "      <td>-1.15</td>\n",
       "      <td>0.96</td>\n",
       "      <td>-0.83</td>\n",
       "      <td>27.76</td>\n",
       "    </tr>\n",
       "    <tr>\n",
       "      <th>1</th>\n",
       "      <td>WJtFt</td>\n",
       "      <td>0.26</td>\n",
       "      <td>0.27</td>\n",
       "      <td>-2.53</td>\n",
       "      <td>56.07</td>\n",
       "    </tr>\n",
       "    <tr>\n",
       "      <th>2</th>\n",
       "      <td>ovLUW</td>\n",
       "      <td>0.19</td>\n",
       "      <td>0.29</td>\n",
       "      <td>-5.59</td>\n",
       "      <td>62.87</td>\n",
       "    </tr>\n",
       "    <tr>\n",
       "      <th>3</th>\n",
       "      <td>q6cA6</td>\n",
       "      <td>2.24</td>\n",
       "      <td>-0.55</td>\n",
       "      <td>0.93</td>\n",
       "      <td>114.57</td>\n",
       "    </tr>\n",
       "    <tr>\n",
       "      <th>4</th>\n",
       "      <td>WPMUX</td>\n",
       "      <td>-0.52</td>\n",
       "      <td>1.72</td>\n",
       "      <td>5.90</td>\n",
       "      <td>149.60</td>\n",
       "    </tr>\n",
       "  </tbody>\n",
       "</table>\n",
       "</div>"
      ],
      "text/plain": [
       "      id    f0    f1    f2  product\n",
       "0  fwXo0 -1.15  0.96 -0.83    27.76\n",
       "1  WJtFt  0.26  0.27 -2.53    56.07\n",
       "2  ovLUW  0.19  0.29 -5.59    62.87\n",
       "3  q6cA6  2.24 -0.55  0.93   114.57\n",
       "4  WPMUX -0.52  1.72  5.90   149.60"
      ]
     },
     "execution_count": 5,
     "metadata": {},
     "output_type": "execute_result"
    }
   ],
   "source": [
    "#загрузим данные из файла для третьего региона\n",
    "data_3 = download('geo_data_2')\n",
    "\n",
    "#выведем первые 5 строк\n",
    "data_3.head()"
   ]
  },
  {
   "cell_type": "markdown",
   "metadata": {},
   "source": [
    "На первый взгляд с данными все в порядке. Проведем первичный анализ данных"
   ]
  },
  {
   "cell_type": "markdown",
   "metadata": {},
   "source": [
    "### Общая информация о данных"
   ]
  },
  {
   "cell_type": "code",
   "execution_count": 6,
   "metadata": {},
   "outputs": [
    {
     "name": "stdout",
     "output_type": "stream",
     "text": [
      "Первый регион\n",
      "<class 'pandas.core.frame.DataFrame'>\n",
      "RangeIndex: 100000 entries, 0 to 99999\n",
      "Data columns (total 5 columns):\n",
      " #   Column   Non-Null Count   Dtype  \n",
      "---  ------   --------------   -----  \n",
      " 0   id       100000 non-null  object \n",
      " 1   f0       100000 non-null  float64\n",
      " 2   f1       100000 non-null  float64\n",
      " 3   f2       100000 non-null  float64\n",
      " 4   product  100000 non-null  float64\n",
      "dtypes: float64(4), object(1)\n",
      "memory usage: 3.8+ MB\n",
      "\n",
      "\n",
      "\n",
      "Второй регион\n",
      "<class 'pandas.core.frame.DataFrame'>\n",
      "RangeIndex: 100000 entries, 0 to 99999\n",
      "Data columns (total 5 columns):\n",
      " #   Column   Non-Null Count   Dtype  \n",
      "---  ------   --------------   -----  \n",
      " 0   id       100000 non-null  object \n",
      " 1   f0       100000 non-null  float64\n",
      " 2   f1       100000 non-null  float64\n",
      " 3   f2       100000 non-null  float64\n",
      " 4   product  100000 non-null  float64\n",
      "dtypes: float64(4), object(1)\n",
      "memory usage: 3.8+ MB\n",
      "\n",
      "\n",
      "\n",
      "Третий регион\n",
      "<class 'pandas.core.frame.DataFrame'>\n",
      "RangeIndex: 100000 entries, 0 to 99999\n",
      "Data columns (total 5 columns):\n",
      " #   Column   Non-Null Count   Dtype  \n",
      "---  ------   --------------   -----  \n",
      " 0   id       100000 non-null  object \n",
      " 1   f0       100000 non-null  float64\n",
      " 2   f1       100000 non-null  float64\n",
      " 3   f2       100000 non-null  float64\n",
      " 4   product  100000 non-null  float64\n",
      "dtypes: float64(4), object(1)\n",
      "memory usage: 3.8+ MB\n",
      "\n",
      "\n",
      "\n"
     ]
    }
   ],
   "source": [
    "#запишем в словарь название региона и датафрейм соответствующего региона\n",
    "frames = {\n",
    "    'Первый регион':data_1,\n",
    "    'Второй регион':data_2,\n",
    "    'Третий регион':data_3\n",
    "}\n",
    "#в цикле выведем инфо по регионам\n",
    "for name, df in frames.items():\n",
    "    print(name)\n",
    "    df.info()\n",
    "    print('\\n\\n')   "
   ]
  },
  {
   "cell_type": "markdown",
   "metadata": {},
   "source": [
    "Пропуски в данных отсутствуют, типы данных корректные: тип  id - строковой, признаков и объема запасов - числовой.В таблице по каждому региону присутствует по 100 000 строк.\n",
    "\n",
    "Далее проверим на явные и неявные дубликаты"
   ]
  },
  {
   "cell_type": "markdown",
   "metadata": {},
   "source": [
    "### Проверка на дубликаты"
   ]
  },
  {
   "cell_type": "code",
   "execution_count": 7,
   "metadata": {},
   "outputs": [
    {
     "name": "stdout",
     "output_type": "stream",
     "text": [
      "Кол-во полных дубликатов для Первый регион:0\n",
      "Кол-во полных дубликатов для Второй регион:0\n",
      "Кол-во полных дубликатов для Третий регион:0\n"
     ]
    }
   ],
   "source": [
    "#в цикле выведем инфо по регионам\n",
    "for name, df in frames.items():\n",
    "    print(f'Кол-во полных дубликатов для {name}:{df.duplicated().sum()}')"
   ]
  },
  {
   "cell_type": "code",
   "execution_count": 8,
   "metadata": {},
   "outputs": [
    {
     "name": "stdout",
     "output_type": "stream",
     "text": [
      "Кол-во дубликатов по id скважин для Первый регион:10\n",
      "Кол-во дубликатов по id скважин для Второй регион:4\n",
      "Кол-во дубликатов по id скважин для Третий регион:4\n"
     ]
    }
   ],
   "source": [
    "#выведем дубликаты скважин для каждого региона\n",
    "for name, df in frames.items():\n",
    "    print(f'Кол-во дубликатов по id скважин для {name}:{df[\"id\"].duplicated().sum()}')"
   ]
  },
  {
   "cell_type": "markdown",
   "metadata": {},
   "source": [
    "Явные (полные) дубликаты отсутствуют.\n",
    "Необходимо понять чем отличаются строки с однаковыми названиями скважин. Для примера введем дубликаты скважин для 2-го региона и посмотрим на примере 2-х дубликатов"
   ]
  },
  {
   "cell_type": "code",
   "execution_count": 9,
   "metadata": {},
   "outputs": [
    {
     "data": {
      "text/html": [
       "<div>\n",
       "<style scoped>\n",
       "    .dataframe tbody tr th:only-of-type {\n",
       "        vertical-align: middle;\n",
       "    }\n",
       "\n",
       "    .dataframe tbody tr th {\n",
       "        vertical-align: top;\n",
       "    }\n",
       "\n",
       "    .dataframe thead th {\n",
       "        text-align: right;\n",
       "    }\n",
       "</style>\n",
       "<table border=\"1\" class=\"dataframe\">\n",
       "  <thead>\n",
       "    <tr style=\"text-align: right;\">\n",
       "      <th></th>\n",
       "      <th>id</th>\n",
       "      <th>f0</th>\n",
       "      <th>f1</th>\n",
       "      <th>f2</th>\n",
       "      <th>product</th>\n",
       "    </tr>\n",
       "  </thead>\n",
       "  <tbody>\n",
       "    <tr>\n",
       "      <th>41906</th>\n",
       "      <td>LHZR0</td>\n",
       "      <td>-8.99</td>\n",
       "      <td>-4.29</td>\n",
       "      <td>2.01</td>\n",
       "      <td>57.09</td>\n",
       "    </tr>\n",
       "    <tr>\n",
       "      <th>82178</th>\n",
       "      <td>bfPNe</td>\n",
       "      <td>-6.20</td>\n",
       "      <td>-4.82</td>\n",
       "      <td>3.00</td>\n",
       "      <td>84.04</td>\n",
       "    </tr>\n",
       "  </tbody>\n",
       "</table>\n",
       "</div>"
      ],
      "text/plain": [
       "          id    f0    f1   f2  product\n",
       "41906  LHZR0 -8.99 -4.29 2.01    57.09\n",
       "82178  bfPNe -6.20 -4.82 3.00    84.04"
      ]
     },
     "execution_count": 9,
     "metadata": {},
     "output_type": "execute_result"
    }
   ],
   "source": [
    "data_2.loc[data_2['id'].duplicated()].head(2)"
   ]
  },
  {
   "cell_type": "code",
   "execution_count": 10,
   "metadata": {},
   "outputs": [
    {
     "name": "stdout",
     "output_type": "stream",
     "text": [
      "          id    f0    f1   f2  product\n",
      "1305   LHZR0 11.17 -1.95 3.00    80.86\n",
      "41906  LHZR0 -8.99 -4.29 2.01    57.09 \n",
      "\n",
      "           id    f0    f1   f2  product\n",
      "2721   bfPNe -9.49 -5.46 4.01   110.99\n",
      "82178  bfPNe -6.20 -4.82 3.00    84.04\n"
     ]
    }
   ],
   "source": [
    "print(data_2.loc[data_2['id']=='LHZR0'],'\\n\\n',data_2.loc[data_2['id']=='bfPNe'])"
   ]
  },
  {
   "cell_type": "markdown",
   "metadata": {},
   "source": [
    "Явные (полные) дубликаты отсутствуют, при этом есть дубликаты месторождений в каждом регионе с видимо разными значениями признаков f0, f1, f2. Возможно при сборе данных разным месторождениям присвоили одно и то же значение id -  удалим эти дубликаты месторождений."
   ]
  },
  {
   "cell_type": "code",
   "execution_count": 11,
   "metadata": {},
   "outputs": [],
   "source": [
    "data_1 = data_1.loc[~data_1['id'].duplicated()].reset_index(drop=True)\n",
    "data_2 = data_2.loc[~data_2['id'].duplicated()].reset_index(drop=True)\n",
    "data_3 = data_3.loc[~data_3['id'].duplicated()].reset_index(drop=True)"
   ]
  },
  {
   "cell_type": "markdown",
   "metadata": {},
   "source": [
    "### Сравнительный анализ признаков по регионам"
   ]
  },
  {
   "cell_type": "code",
   "execution_count": 12,
   "metadata": {},
   "outputs": [
    {
     "name": "stdout",
     "output_type": "stream",
     "text": [
      "Первый регион\n",
      "             count  mean   std    min   25%   50%    75%    max\n",
      "f0      100,000.00  0.50  0.87  -1.41 -0.07  0.50   1.07   2.36\n",
      "f1      100,000.00  0.25  0.50  -0.85 -0.20  0.25   0.70   1.34\n",
      "f2      100,000.00  2.50  3.25 -12.09  0.29  2.52   4.72  16.00\n",
      "product 100,000.00 92.50 44.29   0.00 56.50 91.85 128.56 185.36\n",
      "\n",
      "\n",
      "\n",
      "Второй регион\n",
      "             count  mean   std    min   25%   50%    75%    max\n",
      "f0      100,000.00  1.14  8.97 -31.61 -6.30  1.15   8.62  29.42\n",
      "f1      100,000.00 -4.80  5.12 -26.36 -8.27 -4.81  -1.33  18.73\n",
      "f2      100,000.00  2.49  1.70  -0.02  1.00  2.01   4.00   5.02\n",
      "product 100,000.00 68.83 45.94   0.00 26.95 57.09 107.81 137.95\n",
      "\n",
      "\n",
      "\n",
      "Третий регион\n",
      "             count  mean   std    min   25%   50%    75%    max\n",
      "f0      100,000.00  0.00  1.73  -8.76 -1.16  0.01   1.16   7.24\n",
      "f1      100,000.00 -0.00  1.73  -7.08 -1.17 -0.01   1.16   7.84\n",
      "f2      100,000.00  2.50  3.47 -11.97  0.13  2.48   4.86  16.74\n",
      "product 100,000.00 95.00 44.75   0.00 59.45 94.93 130.60 190.03\n",
      "\n",
      "\n",
      "\n"
     ]
    }
   ],
   "source": [
    "#выведем статистику датафреймов по регионам в цикле\n",
    "for name, df in frames.items():\n",
    "    print(name)\n",
    "    print(df.describe().T)\n",
    "    print('\\n\\n')    "
   ]
  },
  {
   "cell_type": "markdown",
   "metadata": {},
   "source": [
    " - Первый регион:\n",
    "   - Кол-во строк стало на 10 дуликатов меньше, значения признаков f0, f1, f2 имеют как отрицательные, так и положительные значения, объем запасов в месторождениях от 0 до 185 тыс баррелей.\n",
    " - Второй регион:\n",
    "   - Кол-во строк стало на 4 дуликата меньше, значения признаков f0, f1, f2 имеют как отрицательные, так и положительные значения, объем запасов в месторождениях от 0 до 138 тыс баррелей.\n",
    " - Третий регион:\n",
    "   - Кол-во строк стало на 4 дуликата меньше, значения признаков f0, f1, f2 имеют как отрицательные, так и положительные значения, объем запасов в месторождениях от 0 до 190 тыс баррелей.\n",
    "   \n",
    "По совокупности статистики данных по 3-м регионам можно сказать, что значения мин/макс значения признаков f0, f1, f2 для регионов сильно разнятся, при этом объем запасов в скважине не превышет 190 тыс баррелей.\n",
    "\n",
    "Сравним значения признаков по регионам визуально путем анализа распределения и размаха значений признаков.  "
   ]
  },
  {
   "cell_type": "code",
   "execution_count": 13,
   "metadata": {},
   "outputs": [],
   "source": [
    "#создадим таблицу с объединением данных по регионам в один, предварительно пометив к какому региону относится,\n",
    "#после объединения из исходных таблиц удалим признак региона\n",
    "data_1['number'] = 1\n",
    "data_2['number'] = 2\n",
    "data_3['number'] = 3\n",
    "data_all = pd.concat([data_1, data_2, data_3])\n",
    "data_1 = data_1.drop(['number'],axis=1)\n",
    "data_2 = data_2.drop(['number'],axis=1)\n",
    "data_3 = data_3.drop(['number'],axis=1)"
   ]
  },
  {
   "cell_type": "code",
   "execution_count": 14,
   "metadata": {},
   "outputs": [],
   "source": [
    "#напишем функцию для вывода гистограммы и боксплота по каждому признаку в разрезе регионов\n",
    "def hist_box(data,column):\n",
    "    fig, ax = plt.subplots(figsize = (20, 5));\n",
    "    \n",
    "    ax = plt.subplot(1, 2, 1)\n",
    "    data.query('number==1').plot(kind='hist',y=column,histtype='step',bins=50,\\\n",
    "                                 linewidth=5,alpha=0.7,label='Первый регион',ax=ax);\n",
    "    data.query('number==2').plot(kind='hist',y=column,histtype='step',bins=50,\\\n",
    "                                 linewidth=5,alpha=0.7,label='Второй регион',ax=ax);\n",
    "    data.query('number==3').plot(kind='hist',y=column,histtype='step',bins=50,\\\n",
    "                                 linewidth=5,alpha=0.7,label='Третий регион',ax=ax);\n",
    "    plt.ylabel('Кол-во скважин', fontsize=12);\n",
    "    plt.xlabel(column, fontsize=12);\n",
    "    plt.title('Гистограмма распределения');\n",
    "\n",
    "    data.boxplot(column,by='number', ax = plt.subplot(1, 2, 2));\n",
    "    plt.ylabel('Значение по признаку '+column, fontsize=12);\n",
    "    plt.xlabel('Регион', fontsize=12);\n",
    "    plt.title('Диаграмма размаха');\n",
    "\n",
    "    fig.suptitle('Распределение значений  в разрезе регионов по признаку '+column,fontsize=14);\n",
    "    plt.subplots_adjust(wspace=1,hspace = 1);\n",
    "    plt.show();"
   ]
  },
  {
   "cell_type": "code",
   "execution_count": 15,
   "metadata": {},
   "outputs": [
    {
     "data": {
      "text/plain": [
       "<Figure size 432x288 with 0 Axes>"
      ]
     },
     "metadata": {},
     "output_type": "display_data"
    },
    {
     "data": {
      "image/png": "[encoded data removed]",
      "text/plain": [
       "<Figure size 1440x360 with 2 Axes>"
      ]
     },
     "metadata": {
      "needs_background": "light"
     },
     "output_type": "display_data"
    },
    {
     "data": {
      "text/plain": [
       "<Figure size 432x288 with 0 Axes>"
      ]
     },
     "metadata": {},
     "output_type": "display_data"
    },
    {
     "data": {
      "image/png": "[encoded data removed]",
      "text/plain": [
       "<Figure size 1440x360 with 2 Axes>"
      ]
     },
     "metadata": {
      "needs_background": "light"
     },
     "output_type": "display_data"
    },
    {
     "data": {
      "text/plain": [
       "<Figure size 432x288 with 0 Axes>"
      ]
     },
     "metadata": {},
     "output_type": "display_data"
    },
    {
     "data": {
      "image/png": "[encoded data removed]",
      "text/plain": [
       "<Figure size 1440x360 with 2 Axes>"
      ]
     },
     "metadata": {
      "needs_background": "light"
     },
     "output_type": "display_data"
    },
    {
     "data": {
      "text/plain": [
       "<Figure size 432x288 with 0 Axes>"
      ]
     },
     "metadata": {},
     "output_type": "display_data"
    },
    {
     "data": {
      "image/png": "[encoded data removed]",
      "text/plain": [
       "<Figure size 1440x360 with 2 Axes>"
      ]
     },
     "metadata": {
      "needs_background": "light"
     },
     "output_type": "display_data"
    }
   ],
   "source": [
    "#выведем  диаграммы \n",
    "for i in  data_all.drop(['id','number'],axis=1).columns.tolist():\n",
    "    plt.subplots_adjust(hspace = 1.5);\n",
    "    hist_box(data_all, i);"
   ]
  },
  {
   "cell_type": "markdown",
   "metadata": {},
   "source": [
    " - Как близкое к нормальному оценивается распределение признаков по регионам 1 и 3, по 2-му региону только распределение признака f1 близко к нормальному, \n",
    " - Признак f0: медиана колеблется в одном интервале, при этом размах значений по регионам отличается в разы, для 3-го региона ряд значений оцениваются как выбросы.\n",
    " - Признак f1: размах значений аналогично по регионам отличается в разы, но при этом еще и медиана существенно отличается, для 2-го и 3-го региона присутствует большое кол-во выбросов\n",
    " - Признак f2: медиана по регионам колеблется в одном интервале, значения между 1-м и 3-м квартилями находятся примерно в одном интервале, но при этом размах значения по 2-му региону в разы меньше, чем для 1-го и 3-го. Для 1-го и 3-го региона часть значений оцениваются как выбросы.\n",
    " - Признак product: размах значений, медиана, 1-й и 3-й квартили для 1-го и 3-го месторождения очень приближены, в то время как у 2-го месторождения эти показатели существенно ниже.\n",
    " \n",
    "Проверим корреляцию между признаками для каждого региона "
   ]
  },
  {
   "cell_type": "markdown",
   "metadata": {},
   "source": [
    "### Корреляционный анализ"
   ]
  },
  {
   "cell_type": "code",
   "execution_count": 16,
   "metadata": {},
   "outputs": [],
   "source": [
    "#функция для построения матрицы корреляции\n",
    "def heatmap(data):\n",
    "    fig, ax = plt.subplots(figsize=(8, 4));\n",
    "    sns.heatmap(data.drop(['id'],axis=1).corr(), ax=ax, annot=True, fmt='.2f');"
   ]
  },
  {
   "cell_type": "code",
   "execution_count": 17,
   "metadata": {},
   "outputs": [
    {
     "data": {
      "image/png": "[encoded data removed]",
      "text/plain": [
       "<Figure size 576x288 with 2 Axes>"
      ]
     },
     "metadata": {
      "needs_background": "light"
     },
     "output_type": "display_data"
    },
    {
     "data": {
      "image/png": "[encoded data removed]",
      "text/plain": [
       "<Figure size 576x288 with 2 Axes>"
      ]
     },
     "metadata": {
      "needs_background": "light"
     },
     "output_type": "display_data"
    },
    {
     "data": {
      "image/png": "[encoded data removed]",
      "text/plain": [
       "<Figure size 576x288 with 2 Axes>"
      ]
     },
     "metadata": {
      "needs_background": "light"
     },
     "output_type": "display_data"
    }
   ],
   "source": [
    "#построим матрицу корреляции\n",
    "for name,df in frames.items():\n",
    "    heatmap(df)\n",
    "    plt.title(name) "
   ]
  },
  {
   "cell_type": "markdown",
   "metadata": {},
   "source": [
    " - Первый регион. Прослеживается прямая коррелиция объемов и признака f2, а также отрицательная корреляция признаков f0 и f1. Корреляция объемов и признаков f0 и f1 прямая слабая и обратная слабая соответственно.\n",
    " - Второй регион.Прослеживается максимальная корреляция между признаком f2 и объемами - коэф-и равен 1. Также присутствует слабая прямая корреляция признаков f0 и f1.\n",
    " - Третий регион.Корреляция прослеживается только между признаком f2 и объемом запасов - средняя и прямая."
   ]
  },
  {
   "cell_type": "markdown",
   "metadata": {},
   "source": [
    "**Вывод по первичному анализу данных**:\n",
    "\n",
    " - пропуски в данных отсутствуют,\n",
    " - типы данных корректные,\n",
    " - полные дубликаты отсутствуют, дубликаты с одинаковым id скважин есть в данных каждого региона - удалены (кол-во таких дубликатов от 4 до 10),\n",
    " - размах значений признаков f0, f1 в разы отличается по регионам, по признаку f2 - для региона 1 и 3 размах значений примерно в одном интервале, в то время как для 2-го региона размах по данному признаку существенно меньше(для 2-го региона все значения находятся в интервале от 0 до 5, в то время как для 1-го и 3-го региона в интервале от -12 до 17). Объем запасов: размах значений, медиана, 1-й и 3-й квартили для 1-го и 3-го месторождения очень приближены, в то время как у 2-го месторождения эти показатели существенно ниже. \n",
    " - для разных регионов корреляция признаков и целевого признака (объем запасов) существенно отличается, общим является наличие прямой корреляции признака f2 с целевым, при этом для 2-го региона коэф-т корреляции равен 100%.\n",
    " "
   ]
  },
  {
   "cell_type": "markdown",
   "metadata": {},
   "source": [
    "## Обучение и проверка модели"
   ]
  },
  {
   "cell_type": "code",
   "execution_count": 18,
   "metadata": {},
   "outputs": [
    {
     "name": "stdout",
     "output_type": "stream",
     "text": [
      "0 0 0\n"
     ]
    }
   ],
   "source": [
    "#проверим на наличие дубликатов после удаления id\n",
    "print(data_1.drop(['id'],axis=1).duplicated().sum(),data_2.drop(['id'],axis=1).duplicated().sum(),\\\n",
    "      data_3.drop(['id'],axis=1).duplicated().sum())"
   ]
  },
  {
   "cell_type": "markdown",
   "metadata": {},
   "source": [
    "Обучим и проверим модель для каждого региона.\n",
    " - Напишем фукнцию, в которой:\n",
    "   - Разбиваются данные на обучающую и валидационную выборки в соотношении 75:25.\n",
    "   - Модель обучается и делает предсказания на валидационной выборке.\n",
    " - Сохраним предсказания и правильные ответы на валидационной выборке.\n",
    " - Выведем средний запас предсказанного сырья и RMSE модели.\n",
    " - Дополнительно посчитаем качество модели( в качестве показателя возьмем r2 - коэффициент детерминации, т.к. он используется для оценки производительности модели машинного обучения на основе регрессии)"
   ]
  },
  {
   "cell_type": "code",
   "execution_count": 19,
   "metadata": {},
   "outputs": [],
   "source": [
    "#функция для работы модели\n",
    "def linear_regr(data):\n",
    "    #входные признаки\n",
    "    features = data.drop(['id','product'], axis = 1)\n",
    "    #целевой признак\n",
    "    target = data['product']\n",
    "    #разбивка данных на обучающую и валидационную выборки\n",
    "    features_train,features_valid,target_train,target_valid = train_test_split( \n",
    "                                     features,\n",
    "                                     target,\n",
    "                                     test_size = 0.25,\n",
    "                                     random_state = 12345\n",
    "    )\n",
    "    #масштабируем признаки (все признаки количественные)\n",
    "    scaler = StandardScaler()\n",
    "    features_train = scaler.fit_transform(features_train)\n",
    "    features_valid = scaler.transform(features_valid)\n",
    "    #инициируем модель\n",
    "    model = LinearRegression()\n",
    "    #обучим модель\n",
    "    model.fit(features_train,target_train)\n",
    "    #сделаем предсказания на валидационной выборке\n",
    "    predictions = model.predict(features_valid)\n",
    "    #посчитаем RMSE\n",
    "    RMSE = mean_squared_error(target_valid, predictions) ** 0.5\n",
    "    #посчитаем средний запас предсказанного сырь\n",
    "    predictions_mean = predictions.mean()\n",
    "    #рассчитаем коэф-т детерминации\n",
    "    r2 = r2_score(target_valid, predictions)\n",
    "    \n",
    "    return predictions,target_valid,predictions_mean,RMSE,r2\n"
   ]
  },
  {
   "cell_type": "code",
   "execution_count": 20,
   "metadata": {},
   "outputs": [],
   "source": [
    "#сохраним предсказания и правильные ответы на валидационной выборке\n",
    "predictions_1,target_valid_1,predictions_mean_1,RMSE_1,r2_1 = linear_regr(data_1)\n",
    "predictions_2,target_valid_2,predictions_mean_2,RMSE_2,r2_2 = linear_regr(data_2)\n",
    "predictions_3,target_valid_3,predictions_mean_3,RMSE_3,r2_3 = linear_regr(data_3)"
   ]
  },
  {
   "cell_type": "code",
   "execution_count": 21,
   "metadata": {},
   "outputs": [
    {
     "name": "stdout",
     "output_type": "stream",
     "text": [
      "Средний предсказанный запас сырья - Регион первый:  92.79 , RMSE 37.85\n",
      "Средний предсказанный запас сырья - Регион второй:  69.18 , RMSE 0.89\n",
      "Средний предсказанный запас сырья - Регион третий:  94.87 , RMSE 40.08\n"
     ]
    }
   ],
   "source": [
    "#выведем средний предсказанный запас сырья и значение RMSE  по регионам\n",
    "print('Средний предсказанный запас сырья - Регион первый: ',round(predictions_mean_1,2),', RMSE',round(RMSE_1,2))\n",
    "print('Средний предсказанный запас сырья - Регион второй: ',round(predictions_mean_2,2),', RMSE',round(RMSE_2,2))\n",
    "print('Средний предсказанный запас сырья - Регион третий: ',round(predictions_mean_3,2),', RMSE',round(RMSE_3,2))"
   ]
  },
  {
   "cell_type": "markdown",
   "metadata": {},
   "source": [
    "- В первом регионе: средний предсказанный запас сырья порядка 92.8 тыс баррелей, точность оценки предсказания объемов запасов составляет плюс/минус 37.9 тыс баррелей.\n",
    "- Во втором регионе: средний предсказанный запас сырья порядка 69.2 тыс баррелей - самое низкое значение по регионам, точность оценки предсказания объемов запасов составляет плюс/минус 0.9 тыс баррелей - самое точное по регионам\n",
    "- В третьем регионе: средний предсказанный запас сырья порядка 94.9 тыс баррелей, точность оценки предсказания объемов запасов составляет плюс/минус 40.1 тыс баррелей.\n",
    "Т.о., самое низкое среднее предсказанных запасов скважины у 2-го региона, для 1-го и 3-го аналогичное значение выше более чем на 1/3 и примерно одинаковое между собой. При этом самая высокая точность предсказания у 2-го региона.\n",
    "\n",
    "Выведем коэф-т детерминации модели для каждого региона"
   ]
  },
  {
   "cell_type": "code",
   "execution_count": 22,
   "metadata": {},
   "outputs": [
    {
     "name": "stdout",
     "output_type": "stream",
     "text": [
      "r2 модели первого региона:0.2724\n",
      " r2 модели второго региона:0.9996\n",
      " r2 модели третьего региона:0.1956\n",
      "\n"
     ]
    }
   ],
   "source": [
    "print(f'r2 модели первого региона:{round(r2_1,4)}\\n',f'r2 модели второго региона:{round(r2_2,4)}\\n',\\\n",
    "      f'r2 модели третьего региона:{round(r2_3,4)}\\n')"
   ]
  },
  {
   "cell_type": "markdown",
   "metadata": {},
   "source": [
    "Метрики r2 для 1-го и 3-го региона низкие, можно  сказать, что модель  прогнозирует лучше, чем условные случайные предсказания.\n",
    "При этом для 2-го региона видим значение коэф-та почти 1: это обусловлено прямой корреляцией признака f2 с целевым, замеченной нами ранее.\n",
    "\n",
    "**Вывод по обучению и проверке модели**:\n",
    "\n",
    "Обучена модель линейной регресии:\n",
    "- На основании данной модели для каждого региона посчитаны предсказания объемов запасов скважин,определена точность предсказания:самое низкое среднее предсказанных запасов скважины у 2-го региона(69.2 тыс баррелей), для 1-го и 3-го аналогичное значение выше более чем на 1/3 и примерно одинаковое между собой, при этом самая высокая точность предсказания у 2-го региона - предсказанное значение отличается от фактического на плюс/минус 0.9 тыс. баррелей.\n",
    "- коэф-т детерминации r2 для 1-го и 3-го региона низкие (0.27 и 0.2 соответственно), можно  сказать, что модель  прогнозирует лучше, чем условные случайные предсказания. При этом для 2-го региона видим значение коэф-та почти 1: это обусловлено прямой корреляцией признака f2 с целевым, замеченной нами ранее."
   ]
  },
  {
   "cell_type": "markdown",
   "metadata": {},
   "source": [
    "## Подготовка к расчёту прибыли"
   ]
  },
  {
   "cell_type": "markdown",
   "metadata": {},
   "source": [
    "Запишем в переменные все ключевые значения, посчитаем объем сырья для безубыточной разработки новой скважины"
   ]
  },
  {
   "cell_type": "code",
   "execution_count": 23,
   "metadata": {},
   "outputs": [
    {
     "name": "stdout",
     "output_type": "stream",
     "text": [
      "Объем сырья для безубыточной разработки новой скважины - 111.11 тыс. баррелей\n"
     ]
    }
   ],
   "source": [
    "BUDGET = 10_000_000_000 # бюджет на разработку\n",
    "MAX_POINTS = 500 #при разведке региона исследуют 500 точек\n",
    "BEST_POINTS = 200 #лучшие точки из исследуемых 500\n",
    "REVENUE_BARREL = 450000 #доход с каждой единицы продукта\n",
    "PROBABILITY_LOSS=  2.5 #порог приемлемой вероятности убытков\n",
    "BREAK_EVEN= BUDGET/REVENUE_BARREL/BEST_POINTS #\n",
    "print(f'Объем сырья для безубыточной разработки новой скважины - {round(BREAK_EVEN,2)} тыс. баррелей')              "
   ]
  },
  {
   "cell_type": "markdown",
   "metadata": {},
   "source": [
    "Среднее предсказанное значение объема сырья скважины для каждого региона (92.8, 62.2, 94.9 тыс) меньше, чем точка безубыточности. Но это средние значения, а согласно проведенного анализа выше для каждого региона присутствуют скважины, значение объема которых превышает необходимое значение безубыточности - посчитаем долю таких точек"
   ]
  },
  {
   "cell_type": "code",
   "execution_count": 24,
   "metadata": {},
   "outputs": [
    {
     "name": "stdout",
     "output_type": "stream",
     "text": [
      "Процент безубыточных точек (Первый регион): 36.58%\n",
      "Процент безубыточных точек (Второй регион): 16.54%\n",
      "Процент безубыточных точек (Третий регион): 38.18%\n"
     ]
    }
   ],
   "source": [
    "#напишем функцию для подсчета доля скважин с запасами не менее 111.11 тыс\n",
    "def percent(data):\n",
    "    return len(data.loc[data['product']>=111.11])*100/len(data)\n",
    "#выведем долю в цикле\n",
    "for name, df in frames.items():\n",
    "    print(f'Процент безубыточных точек ({name}): {round(percent(df),2)}%')  "
   ]
  },
  {
   "cell_type": "markdown",
   "metadata": {},
   "source": [
    "Т.о., несмотря на недостаточное для безубыточности значение средних предсказанных объемов запасов, в каждом регионе все-таки присутствуют необходимые скважины"
   ]
  },
  {
   "cell_type": "markdown",
   "metadata": {},
   "source": [
    "Напишем функции для расчёта прибыли по скважинам с максимальными значениями предсказаний"
   ]
  },
  {
   "cell_type": "code",
   "execution_count": 25,
   "metadata": {},
   "outputs": [],
   "source": [
    "#функция для расчёта прибыли по выбранным скважинам и предсказаниям модели\n",
    "def income(target_true, target_pred,count):\n",
    "    sort_pred = pd.Series(target_pred).sort_values(ascending=False)[:count]\n",
    "    selected = target_true.reset_index(drop = True)[sort_pred.index]\n",
    "    return round((selected.sum() * REVENUE_BARREL) - BUDGET,2)"
   ]
  },
  {
   "cell_type": "markdown",
   "metadata": {},
   "source": [
    "**Вывод по подготовке к расчету прибыли**:\n",
    "\n",
    "- Объем сырья для безубыточной разработки новой скважины - 111.11 тыс. баррелей, что существенно ниже, чем среднее предсказанное значение объема сырья скважины для каждого региона (92.8, 69.2, 94.9 тыс). При этом,  несмотря на недостаточное для безубыточности значение средних предсказанных объемов запасов, в каждом регионе все-таки присутствуют необходимые скважины - порядка 1/3 в 1-м и 3-м регионах и менее 1/6 всех скважин во 2-м регионе.\n",
    "- написана функция для расчета прибыли по скважина с максимальными значениями предсказаний "
   ]
  },
  {
   "cell_type": "markdown",
   "metadata": {},
   "source": [
    "## Расчёт прибыли и рисков "
   ]
  },
  {
   "cell_type": "markdown",
   "metadata": {},
   "source": [
    "Посчитаем среднюю прибыль,95%-й доверительный интервал и рисков убытков для каждого региона. Сначала напишем функцию для расчета"
   ]
  },
  {
   "cell_type": "code",
   "execution_count": 26,
   "metadata": {},
   "outputs": [],
   "source": [
    "state = np.random.RandomState(12345)\n",
    "\n",
    "#функция для расчета средней прибыли,доверительного интервала и риска убытоков\n",
    "def bootstrap(target_true, target_pred):\n",
    "\n",
    "    #создадим список для сохранения прибыли для выбранных 200 точек из 500\n",
    "    values = []\n",
    "    #в цикле найдем необходимое нам распределение прибыли по точкам, будет 1000 выборок\n",
    "    for i in range(1000):\n",
    "        predictions_sample = pd.Series(target_pred).sample(replace = True, random_state = state, n = MAX_POINTS)\n",
    "        values.append(income(target_true, predictions_sample, BEST_POINTS))\n",
    "\n",
    "    values = pd.Series(values)\n",
    "    #выведем нужные нам данные в виде таблицы для чего создадим датафрейм\n",
    "    df_1 = pd.Series(values.mean())\n",
    "    df_2 = pd.Series('от '+str(round(values.quantile(0.025),2))+' до '+str(round(values.quantile(0.975),2)))\n",
    "    df_3 = pd.Series(len(values[values<0])*100/len(values))\n",
    "    df = pd.DataFrame(zip(df_1,df_2,df_3),columns=['Средняя прибыль','95%-й Доверительный интервал','Риск убытков,%'])\n",
    "    #результат функции-таблица с данными средней прибыли выбранных 200 лучших точек,доверительным интервалом и риском убытков\n",
    "    return df"
   ]
  },
  {
   "cell_type": "markdown",
   "metadata": {},
   "source": [
    "Объединим вывод необходимых значений сразу по всем регионам с пометкой подходят ли регионы по уровню риска \"менее 2.5%\""
   ]
  },
  {
   "cell_type": "code",
   "execution_count": 27,
   "metadata": {},
   "outputs": [
    {
     "data": {
      "text/html": [
       "<div>\n",
       "<style scoped>\n",
       "    .dataframe tbody tr th:only-of-type {\n",
       "        vertical-align: middle;\n",
       "    }\n",
       "\n",
       "    .dataframe tbody tr th {\n",
       "        vertical-align: top;\n",
       "    }\n",
       "\n",
       "    .dataframe thead th {\n",
       "        text-align: right;\n",
       "    }\n",
       "</style>\n",
       "<table border=\"1\" class=\"dataframe\">\n",
       "  <thead>\n",
       "    <tr style=\"text-align: right;\">\n",
       "      <th></th>\n",
       "      <th>Регион</th>\n",
       "      <th>Средняя прибыль</th>\n",
       "      <th>95%-й Доверительный интервал</th>\n",
       "      <th>Риск убытков,%</th>\n",
       "      <th>Условие по уровню риска</th>\n",
       "    </tr>\n",
       "  </thead>\n",
       "  <tbody>\n",
       "    <tr>\n",
       "      <th>0</th>\n",
       "      <td>Первый регион</td>\n",
       "      <td>380,613,470.02</td>\n",
       "      <td>от -142942739.74 до 890976833.85</td>\n",
       "      <td>7.70</td>\n",
       "      <td>не подходит!</td>\n",
       "    </tr>\n",
       "    <tr>\n",
       "      <th>0</th>\n",
       "      <td>Второй регион</td>\n",
       "      <td>479,159,869.98</td>\n",
       "      <td>от 73849212.03 до 917953817.72</td>\n",
       "      <td>0.60</td>\n",
       "      <td>подходит</td>\n",
       "    </tr>\n",
       "    <tr>\n",
       "      <th>0</th>\n",
       "      <td>Третий регион</td>\n",
       "      <td>315,441,916.02</td>\n",
       "      <td>от -216265050.04 до 811060708.24</td>\n",
       "      <td>12.40</td>\n",
       "      <td>не подходит!</td>\n",
       "    </tr>\n",
       "  </tbody>\n",
       "</table>\n",
       "</div>"
      ],
      "text/plain": [
       "          Регион  Средняя прибыль      95%-й Доверительный интервал  \\\n",
       "0  Первый регион   380,613,470.02  от -142942739.74 до 890976833.85   \n",
       "0  Второй регион   479,159,869.98    от 73849212.03 до 917953817.72   \n",
       "0  Третий регион   315,441,916.02  от -216265050.04 до 811060708.24   \n",
       "\n",
       "   Риск убытков,% Условие по уровню риска  \n",
       "0            7.70            не подходит!  \n",
       "0            0.60                подходит  \n",
       "0           12.40            не подходит!  "
      ]
     },
     "execution_count": 27,
     "metadata": {},
     "output_type": "execute_result"
    }
   ],
   "source": [
    "#объедним результат работы функции bootstrap для всех регионов\n",
    "results = pd.concat([bootstrap(target_valid_1,predictions_1), \\\n",
    "                     bootstrap(target_valid_2,predictions_2), bootstrap(target_valid_3,predictions_3)])\n",
    "region = [ 'Первый регион','Второй регион','Третий регион']\n",
    "results.insert (0, 'Регион', region)\n",
    "results['Условие по уровню риска'] = results['Риск убытков,%'].apply(lambda x: 'не подходит!' if x>=PROBABILITY_LOSS else 'подходит')\n",
    "results"
   ]
  },
  {
   "cell_type": "markdown",
   "metadata": {},
   "source": [
    "**Вывод по рискам и прибыли для каждого региона**:\n",
    "\n",
    "Исходя из данных о средней прибыли,доверительном интервале и рисках убытков следует:\n",
    "- 1-й и 3-й регионы имеют достаточно высокие риски получения убытков (8-12%) и не подходят по условиям задачи (вероятность убытков должна быть меньше 2.5%), доверительный интервал имеет широкий размах. В это же время риски получения убытков для 2-го региона менее 1%, показана самая высокая средняя предсказанная прибыль по лучшим 200 точкам по сравнению с другим регионами, а также доверительный интервал уже, т.е.выборочная оценка надежнее.\n",
    "\n",
    "Т.о., несмотря на то, что средние запасы 2-го региона (69 тыс баррелей) гораздо ниже остальных регионов(93-95), модель для данного региона показывает наиболее высокую прибыль, более \"узкий\" доверительный интервал и минимальные риски убытков. Также учтем, что модель для данного региона является наиболее точной (коэф-т детерминации равен почти 1, RMSE также минимален по регионам- 0.9 тыс баррелей). По совокупности фактов, для разработки предлагается 2-й регион."
   ]
  },
  {
   "cell_type": "markdown",
   "metadata": {},
   "source": [
    "## Вывод по проекту"
   ]
  },
  {
   "cell_type": "markdown",
   "metadata": {},
   "source": [
    "В рамках проекта поставлена задача определить регион, в котором добыча принесет наибольшую прибыль, с помощью модели машинного обучения. Анализ возможной прибыли и рисков необходимо провести техникой Bootstrap.\n",
    "\n",
    "Данные для работы представлены 3-мя таблицами с информацией о признаках и запасах скважин из 3-х регионов, которые содержат уникальный идентификатор скважины, три признака точек и объём запасов в скважине (тыс. баррелей).\n",
    "\n",
    "В рамках предобработки и исследовательского анализа выявлено, что:\n",
    " - пропуски в данных отсутствуют,типы данных корректные,\n",
    " - полные дубликаты отсутствуют, дубликаты с одинаковым id скважин есть в данных каждого региона - удалены (кол-во таких дубликатов от 4 до 10),\n",
    " - размах значений признаков f0, f1 в разы отличается по регионам, по признаку f2 - для региона 1 и 3 размах значений примерно в одном интервале, в то время как для 2-го региона размах по данному признаку существенно меньше(для 2-го региона все значения находятся в интервале от 0 до 5, в то время как для 1-го и 3-го региона в интервале от -12 до 17). Объем запасов: размах значений, медиана, 1-й и 3-й квартили для 1-го и 3-го месторождения очень приближены, в то время как у 2-го месторождения эти показатели существенно ниже.\n",
    " - для разных регионов корреляция признаков и целевого признака (объем запасов) существенно отличается, общим является наличие прямой корреляции признака f2 с целевым, при этом для 2-го региона коэф-т корреляции равен 100%.\n",
    " \n",
    "Обучена модель линейной регресии. На основании данной модели:\n",
    " - для каждого региона посчитаны предсказания объемов запасов скважин,определена точность предсказания:самое низкое среднее предсказанных запасов скважины у 2-го региона(69.2 тыс баррелей), для 1-го и 3-го аналогичное значение выше более чем на 1/3 и примерно одинаковое между собой, при этом самая высокая точность предсказания у 2-го региона - предсказанное значение отличается от фактического на плюс/минус 0.9 тыс. баррелей.\n",
    " - посчитан коэф-т детерминации r2: для 1-го и 3-го региона значение низкое (0.27 и 0.2 соответственно), можно сказать, что для данных регионов модель прогнозирует лучше, чем условные случайные предсказания. При этом для 2-го региона видим значение коэф-та почти 1: это обусловлено прямой корреляцией признака f2 с целевым, замеченной нами ранее. \n",
    "\n",
    "Исходя из условий задачи посчитан объем сырья для безубыточной разработки новой скважины - 111.11 тыс. баррелей, что существенно ниже, чем среднее предсказанное значение объема сырья скважины для каждого региона (92.8, 69.2, 94.9 тыс). При этом, несмотря на недостаточное для безубыточности значение средних предсказанных объемов запасов, в каждом регионе все-таки присутствуют необходимые скважины - порядка 1/3 в 1-м и 3-м регионах и менее 1/6 всех скважин во 2-м регионе.\n",
    "\n",
    "Для расчета прибыли и рисков написаны функции, анализ возможной прибыли и рисков проведен техникой Bootstrap. Исходя из проведенного анализа:\n",
    "- 1-й и 3-й регионы имеют достаточно высокие риски получения убытков (8-12%) и не подходят по условиям задачи (вероятность убытков должна быть меньше 2.5%), доверительный интервал имеет широкий размах. В это же время риски получения убытков для 2-го региона менее 1%, показана самая высокая средняя предсказанная прибыль по лучшим 200 точкам по сравнению с другим регионами, а также доверительный интервал более узкий, т.е.выборочная оценка надежнее.\n",
    "\n",
    "Несмотря на то, что средние запасы 2-го региона (69 тыс баррелей) гораздо ниже остальных регионов(93-95), модель для данного региона показывает наиболее высокую прибыль, более \"узкий\" доверительный интервал и минимальные риски убытков, причем только по данному региону уровень риска соответствует условиям задачи. Также учтем, что модель для данного региона является наиболее точной (коэф-т детерминации равен почти 1, RMSE также минимален по регионам- 0.9 тыс баррелей). По результатам проведенного анализа, **для разработки предлагается 2-й регион.**\n",
    " "
   ]
  }
 ],
 "metadata": {
  "ExecuteTimeLog": [
   {
    "duration": 28008,
    "start_time": "2024-04-21T08:46:28.312Z"
   },
   {
    "duration": 2233,
    "start_time": "2024-04-21T08:47:17.478Z"
   },
   {
    "duration": 619,
    "start_time": "2024-04-21T08:49:40.385Z"
   },
   {
    "duration": 595,
    "start_time": "2024-04-21T08:50:31.527Z"
   },
   {
    "duration": 587,
    "start_time": "2024-04-21T08:50:57.584Z"
   },
   {
    "duration": 142,
    "start_time": "2024-04-21T08:53:45.695Z"
   },
   {
    "duration": 136,
    "start_time": "2024-04-21T08:53:53.724Z"
   },
   {
    "duration": 164,
    "start_time": "2024-04-21T08:54:03.071Z"
   },
   {
    "duration": 43,
    "start_time": "2024-04-21T10:04:18.867Z"
   },
   {
    "duration": 33,
    "start_time": "2024-04-21T10:05:31.209Z"
   },
   {
    "duration": 38,
    "start_time": "2024-04-21T10:05:47.146Z"
   },
   {
    "duration": 14,
    "start_time": "2024-04-21T10:06:28.863Z"
   },
   {
    "duration": 33,
    "start_time": "2024-04-21T10:07:57.847Z"
   },
   {
    "duration": 36,
    "start_time": "2024-04-21T10:08:49.877Z"
   },
   {
    "duration": 53,
    "start_time": "2024-04-21T10:09:13.385Z"
   },
   {
    "duration": 38,
    "start_time": "2024-04-21T10:09:34.506Z"
   },
   {
    "duration": 33,
    "start_time": "2024-04-21T10:10:56.235Z"
   },
   {
    "duration": 32,
    "start_time": "2024-04-21T10:11:11.033Z"
   },
   {
    "duration": 33,
    "start_time": "2024-04-21T10:11:39.847Z"
   },
   {
    "duration": 47,
    "start_time": "2024-04-21T10:11:48.559Z"
   },
   {
    "duration": 32,
    "start_time": "2024-04-21T10:12:36.148Z"
   },
   {
    "duration": 33,
    "start_time": "2024-04-21T10:12:47.337Z"
   },
   {
    "duration": 40,
    "start_time": "2024-04-21T10:13:07.818Z"
   },
   {
    "duration": 34,
    "start_time": "2024-04-21T10:13:29.947Z"
   },
   {
    "duration": 107,
    "start_time": "2024-04-21T10:17:57.551Z"
   },
   {
    "duration": 55,
    "start_time": "2024-04-21T10:19:05.966Z"
   },
   {
    "duration": 24,
    "start_time": "2024-04-21T10:24:23.864Z"
   },
   {
    "duration": 14,
    "start_time": "2024-04-21T10:25:19.211Z"
   },
   {
    "duration": 81,
    "start_time": "2024-04-21T10:26:03.871Z"
   },
   {
    "duration": 22,
    "start_time": "2024-04-21T10:26:19.578Z"
   },
   {
    "duration": 156,
    "start_time": "2024-04-21T10:29:35.328Z"
   },
   {
    "duration": 47,
    "start_time": "2024-04-21T10:41:35.413Z"
   },
   {
    "duration": 173,
    "start_time": "2024-04-21T10:43:43.430Z"
   },
   {
    "duration": 35,
    "start_time": "2024-04-21T10:43:45.785Z"
   },
   {
    "duration": 46,
    "start_time": "2024-04-21T10:44:32.245Z"
   },
   {
    "duration": 54,
    "start_time": "2024-04-21T10:44:34.752Z"
   },
   {
    "duration": 150,
    "start_time": "2024-04-21T10:44:57.813Z"
   },
   {
    "duration": 153,
    "start_time": "2024-04-21T10:45:00.524Z"
   },
   {
    "duration": 156,
    "start_time": "2024-04-21T10:45:03.004Z"
   },
   {
    "duration": 31,
    "start_time": "2024-04-21T10:47:10.604Z"
   },
   {
    "duration": 34,
    "start_time": "2024-04-21T10:47:12.548Z"
   },
   {
    "duration": 53,
    "start_time": "2024-04-21T10:47:40.857Z"
   },
   {
    "duration": 34,
    "start_time": "2024-04-21T10:47:52.954Z"
   },
   {
    "duration": 40,
    "start_time": "2024-04-21T10:51:01.868Z"
   },
   {
    "duration": 31,
    "start_time": "2024-04-21T10:51:59.645Z"
   },
   {
    "duration": 568,
    "start_time": "2024-04-21T11:02:36.300Z"
   },
   {
    "duration": 2887,
    "start_time": "2024-04-21T11:05:22.168Z"
   },
   {
    "duration": 2818,
    "start_time": "2024-04-21T11:05:49.661Z"
   },
   {
    "duration": 514,
    "start_time": "2024-04-21T11:10:37.351Z"
   },
   {
    "duration": 2867,
    "start_time": "2024-04-21T11:11:05.672Z"
   },
   {
    "duration": 2679,
    "start_time": "2024-04-21T11:12:03.778Z"
   },
   {
    "duration": 2639,
    "start_time": "2024-04-21T11:12:43.377Z"
   },
   {
    "duration": 2640,
    "start_time": "2024-04-21T11:13:00.576Z"
   },
   {
    "duration": 2547,
    "start_time": "2024-04-21T11:15:37.372Z"
   },
   {
    "duration": 91,
    "start_time": "2024-04-21T11:19:45.501Z"
   },
   {
    "duration": 15,
    "start_time": "2024-04-21T11:21:18.431Z"
   },
   {
    "duration": 2099,
    "start_time": "2024-04-21T11:23:18.831Z"
   },
   {
    "duration": 2306,
    "start_time": "2024-04-21T11:24:14.820Z"
   },
   {
    "duration": 2135,
    "start_time": "2024-04-21T11:24:26.396Z"
   },
   {
    "duration": 2121,
    "start_time": "2024-04-21T11:24:37.905Z"
   },
   {
    "duration": 2233,
    "start_time": "2024-04-21T11:26:05.997Z"
   },
   {
    "duration": 2119,
    "start_time": "2024-04-21T11:26:16.916Z"
   },
   {
    "duration": 2049,
    "start_time": "2024-04-21T11:26:46.751Z"
   },
   {
    "duration": 2255,
    "start_time": "2024-04-21T11:26:56.886Z"
   },
   {
    "duration": 2135,
    "start_time": "2024-04-21T11:27:06.590Z"
   },
   {
    "duration": 17,
    "start_time": "2024-04-21T11:27:30.665Z"
   },
   {
    "duration": 1731,
    "start_time": "2024-04-21T11:27:36.295Z"
   },
   {
    "duration": 1861,
    "start_time": "2024-04-21T11:28:10.874Z"
   },
   {
    "duration": 1816,
    "start_time": "2024-04-21T11:29:14.315Z"
   },
   {
    "duration": 1795,
    "start_time": "2024-04-21T11:33:15.355Z"
   },
   {
    "duration": 361,
    "start_time": "2024-04-21T11:42:00.344Z"
   },
   {
    "duration": 327,
    "start_time": "2024-04-21T11:42:11.657Z"
   },
   {
    "duration": 375,
    "start_time": "2024-04-21T11:44:25.226Z"
   },
   {
    "duration": 210,
    "start_time": "2024-04-21T11:46:13.099Z"
   },
   {
    "duration": 178,
    "start_time": "2024-04-21T11:46:32.431Z"
   },
   {
    "duration": 179,
    "start_time": "2024-04-21T11:46:47.133Z"
   },
   {
    "duration": 264,
    "start_time": "2024-04-21T11:47:26.921Z"
   },
   {
    "duration": 302,
    "start_time": "2024-04-21T11:48:35.574Z"
   },
   {
    "duration": 321,
    "start_time": "2024-04-21T11:48:45.585Z"
   },
   {
    "duration": 267,
    "start_time": "2024-04-21T11:52:09.403Z"
   },
   {
    "duration": 267,
    "start_time": "2024-04-21T11:52:18.280Z"
   },
   {
    "duration": 260,
    "start_time": "2024-04-21T11:52:36.994Z"
   },
   {
    "duration": 272,
    "start_time": "2024-04-21T11:52:57.374Z"
   },
   {
    "duration": 14,
    "start_time": "2024-04-21T12:02:23.210Z"
   },
   {
    "duration": 17,
    "start_time": "2024-04-21T12:02:48.716Z"
   },
   {
    "duration": 742,
    "start_time": "2024-04-21T12:03:24.066Z"
   },
   {
    "duration": 906,
    "start_time": "2024-04-21T12:03:49.679Z"
   },
   {
    "duration": 207,
    "start_time": "2024-04-21T12:04:03.403Z"
   },
   {
    "duration": 92,
    "start_time": "2024-04-21T12:09:15.255Z"
   },
   {
    "duration": 37,
    "start_time": "2024-04-21T12:10:58.827Z"
   },
   {
    "duration": 1724,
    "start_time": "2024-04-21T12:11:31.414Z"
   },
   {
    "duration": 396,
    "start_time": "2024-04-21T12:11:51.365Z"
   },
   {
    "duration": 288,
    "start_time": "2024-04-21T12:12:03.295Z"
   },
   {
    "duration": 294,
    "start_time": "2024-04-21T12:12:14.602Z"
   },
   {
    "duration": 69,
    "start_time": "2024-04-21T13:36:47.683Z"
   },
   {
    "duration": 875,
    "start_time": "2024-04-21T13:56:40.071Z"
   },
   {
    "duration": 160,
    "start_time": "2024-04-21T13:58:06.442Z"
   },
   {
    "duration": 11,
    "start_time": "2024-04-21T13:58:54.705Z"
   },
   {
    "duration": 92,
    "start_time": "2024-04-21T13:59:04.795Z"
   },
   {
    "duration": 93,
    "start_time": "2024-04-21T13:59:51.260Z"
   },
   {
    "duration": 12,
    "start_time": "2024-04-21T13:59:56.549Z"
   },
   {
    "duration": 302,
    "start_time": "2024-04-21T14:02:36.628Z"
   },
   {
    "duration": 874,
    "start_time": "2024-04-21T14:03:06.273Z"
   },
   {
    "duration": 424,
    "start_time": "2024-04-21T14:03:31.872Z"
   },
   {
    "duration": 11,
    "start_time": "2024-04-21T14:04:33.660Z"
   },
   {
    "duration": 215,
    "start_time": "2024-04-21T14:04:49.386Z"
   },
   {
    "duration": 178,
    "start_time": "2024-04-21T14:07:45.531Z"
   },
   {
    "duration": 11,
    "start_time": "2024-04-21T14:08:02.348Z"
   },
   {
    "duration": 199,
    "start_time": "2024-04-21T14:08:30.331Z"
   },
   {
    "duration": 13,
    "start_time": "2024-04-21T14:09:48.458Z"
   },
   {
    "duration": 878,
    "start_time": "2024-04-21T14:13:39.071Z"
   },
   {
    "duration": 259,
    "start_time": "2024-04-21T14:17:00.949Z"
   },
   {
    "duration": 34,
    "start_time": "2024-04-21T14:18:14.495Z"
   },
   {
    "duration": 37,
    "start_time": "2024-04-21T14:18:29.357Z"
   },
   {
    "duration": 33,
    "start_time": "2024-04-21T14:18:45.708Z"
   },
   {
    "duration": 73,
    "start_time": "2024-04-21T14:21:11.016Z"
   },
   {
    "duration": 74,
    "start_time": "2024-04-21T14:22:16.051Z"
   },
   {
    "duration": 75,
    "start_time": "2024-04-21T14:23:54.090Z"
   },
   {
    "duration": 77,
    "start_time": "2024-04-21T14:24:08.627Z"
   },
   {
    "duration": 873,
    "start_time": "2024-04-21T14:25:10.078Z"
   },
   {
    "duration": 5,
    "start_time": "2024-04-21T14:51:50.359Z"
   },
   {
    "duration": 301,
    "start_time": "2024-04-21T14:52:12.294Z"
   },
   {
    "duration": 50,
    "start_time": "2024-04-21T14:53:06.903Z"
   },
   {
    "duration": 32,
    "start_time": "2024-04-21T14:53:16.409Z"
   },
   {
    "duration": 84,
    "start_time": "2024-04-21T14:55:13.711Z"
   },
   {
    "duration": 5,
    "start_time": "2024-04-21T14:55:18.418Z"
   },
   {
    "duration": 87,
    "start_time": "2024-04-21T14:55:20.317Z"
   },
   {
    "duration": 4,
    "start_time": "2024-04-21T14:59:02.489Z"
   },
   {
    "duration": 280,
    "start_time": "2024-04-21T15:00:44.730Z"
   },
   {
    "duration": 4,
    "start_time": "2024-04-21T15:07:33.241Z"
   },
   {
    "duration": 5,
    "start_time": "2024-04-21T15:08:50.170Z"
   },
   {
    "duration": 5,
    "start_time": "2024-04-21T15:09:36.431Z"
   },
   {
    "duration": 7,
    "start_time": "2024-04-21T15:09:50.289Z"
   },
   {
    "duration": 5,
    "start_time": "2024-04-21T15:28:24.962Z"
   },
   {
    "duration": 106,
    "start_time": "2024-04-21T15:28:26.797Z"
   },
   {
    "duration": 172,
    "start_time": "2024-04-21T15:28:53.771Z"
   },
   {
    "duration": 6,
    "start_time": "2024-04-21T15:29:18.010Z"
   },
   {
    "duration": 371,
    "start_time": "2024-04-21T15:29:20.528Z"
   },
   {
    "duration": 6,
    "start_time": "2024-04-21T15:29:23.423Z"
   },
   {
    "duration": 3,
    "start_time": "2024-04-21T15:31:32.571Z"
   },
   {
    "duration": 4,
    "start_time": "2024-04-21T15:31:44.716Z"
   },
   {
    "duration": 87,
    "start_time": "2024-04-21T15:31:56.513Z"
   },
   {
    "duration": 4,
    "start_time": "2024-04-21T15:32:11.792Z"
   },
   {
    "duration": 131,
    "start_time": "2024-04-21T15:32:28.994Z"
   },
   {
    "duration": 4,
    "start_time": "2024-04-21T15:32:41.911Z"
   },
   {
    "duration": 3,
    "start_time": "2024-04-21T15:32:46.073Z"
   },
   {
    "duration": 4,
    "start_time": "2024-04-21T15:33:35.914Z"
   },
   {
    "duration": 3,
    "start_time": "2024-04-21T15:34:37.652Z"
   },
   {
    "duration": 3,
    "start_time": "2024-04-21T15:34:47.158Z"
   },
   {
    "duration": 3,
    "start_time": "2024-04-21T15:34:59.557Z"
   },
   {
    "duration": 97,
    "start_time": "2024-04-21T15:52:08.601Z"
   },
   {
    "duration": 3,
    "start_time": "2024-04-21T15:52:20.853Z"
   },
   {
    "duration": 6,
    "start_time": "2024-04-21T15:55:12.312Z"
   },
   {
    "duration": 16,
    "start_time": "2024-04-21T16:34:57.554Z"
   },
   {
    "duration": 20,
    "start_time": "2024-04-21T16:36:01.201Z"
   },
   {
    "duration": 13,
    "start_time": "2024-04-21T16:36:45.064Z"
   },
   {
    "duration": 9,
    "start_time": "2024-04-21T16:37:12.870Z"
   },
   {
    "duration": 17,
    "start_time": "2024-04-21T16:39:51.479Z"
   },
   {
    "duration": 12,
    "start_time": "2024-04-21T16:40:32.443Z"
   },
   {
    "duration": 18,
    "start_time": "2024-04-21T16:41:31.795Z"
   },
   {
    "duration": 6,
    "start_time": "2024-04-21T16:42:15.758Z"
   },
   {
    "duration": 9,
    "start_time": "2024-04-21T16:42:19.406Z"
   },
   {
    "duration": 13,
    "start_time": "2024-04-21T16:42:42.363Z"
   },
   {
    "duration": 15,
    "start_time": "2024-04-21T16:43:33.317Z"
   },
   {
    "duration": 3,
    "start_time": "2024-04-21T17:04:53.789Z"
   },
   {
    "duration": 5,
    "start_time": "2024-04-21T17:04:55.805Z"
   },
   {
    "duration": 25,
    "start_time": "2024-04-21T17:22:21.424Z"
   },
   {
    "duration": 8,
    "start_time": "2024-04-21T17:23:03.531Z"
   },
   {
    "duration": 21,
    "start_time": "2024-04-21T17:23:06.427Z"
   },
   {
    "duration": 14,
    "start_time": "2024-04-21T17:23:51.585Z"
   },
   {
    "duration": 10,
    "start_time": "2024-04-21T17:29:55.941Z"
   },
   {
    "duration": 9,
    "start_time": "2024-04-21T17:30:39.144Z"
   },
   {
    "duration": 3,
    "start_time": "2024-04-21T17:37:49.724Z"
   },
   {
    "duration": 8,
    "start_time": "2024-04-21T17:37:51.168Z"
   },
   {
    "duration": 8,
    "start_time": "2024-04-21T17:38:11.113Z"
   },
   {
    "duration": 3,
    "start_time": "2024-04-21T17:38:52.632Z"
   },
   {
    "duration": 9,
    "start_time": "2024-04-21T17:38:54.122Z"
   },
   {
    "duration": 8,
    "start_time": "2024-04-21T17:39:10.519Z"
   },
   {
    "duration": 3,
    "start_time": "2024-04-21T17:43:17.258Z"
   },
   {
    "duration": 25,
    "start_time": "2024-04-21T17:43:19.238Z"
   },
   {
    "duration": 5,
    "start_time": "2024-04-21T17:43:35.183Z"
   },
   {
    "duration": 14,
    "start_time": "2024-04-21T17:43:37.205Z"
   },
   {
    "duration": 3,
    "start_time": "2024-04-21T17:45:34.946Z"
   },
   {
    "duration": 9,
    "start_time": "2024-04-21T17:45:37.755Z"
   },
   {
    "duration": 5,
    "start_time": "2024-04-21T17:46:02.106Z"
   },
   {
    "duration": 13,
    "start_time": "2024-04-21T17:46:04.046Z"
   },
   {
    "duration": 19,
    "start_time": "2024-04-21T17:47:12.381Z"
   },
   {
    "duration": 4,
    "start_time": "2024-04-21T17:47:26.094Z"
   },
   {
    "duration": 19,
    "start_time": "2024-04-21T17:47:28.893Z"
   },
   {
    "duration": 5,
    "start_time": "2024-04-21T17:49:43.305Z"
   },
   {
    "duration": 19,
    "start_time": "2024-04-21T17:49:46.475Z"
   },
   {
    "duration": 91,
    "start_time": "2024-04-21T17:50:09.503Z"
   },
   {
    "duration": 5,
    "start_time": "2024-04-21T17:50:18.030Z"
   },
   {
    "duration": 23,
    "start_time": "2024-04-21T17:50:20.529Z"
   },
   {
    "duration": 4,
    "start_time": "2024-04-21T18:12:38.804Z"
   },
   {
    "duration": 897,
    "start_time": "2024-04-21T18:12:43.136Z"
   },
   {
    "duration": 860,
    "start_time": "2024-04-21T18:13:00.229Z"
   },
   {
    "duration": 867,
    "start_time": "2024-04-21T18:13:12.279Z"
   },
   {
    "duration": 4,
    "start_time": "2024-04-21T18:16:29.542Z"
   },
   {
    "duration": 8,
    "start_time": "2024-04-21T18:16:31.182Z"
   },
   {
    "duration": 4,
    "start_time": "2024-04-21T18:16:35.267Z"
   },
   {
    "duration": 852,
    "start_time": "2024-04-21T18:16:37.725Z"
   },
   {
    "duration": 858,
    "start_time": "2024-04-21T18:16:54.852Z"
   },
   {
    "duration": 4,
    "start_time": "2024-04-21T18:18:10.598Z"
   },
   {
    "duration": 22,
    "start_time": "2024-04-21T18:18:12.170Z"
   },
   {
    "duration": 83,
    "start_time": "2024-04-21T18:18:47.203Z"
   },
   {
    "duration": 20,
    "start_time": "2024-04-21T18:18:50.235Z"
   },
   {
    "duration": 3,
    "start_time": "2024-04-21T18:18:56.032Z"
   },
   {
    "duration": 8,
    "start_time": "2024-04-21T18:18:59.809Z"
   },
   {
    "duration": 7,
    "start_time": "2024-04-21T18:19:08.128Z"
   },
   {
    "duration": 7,
    "start_time": "2024-04-21T18:21:26.755Z"
   },
   {
    "duration": 5,
    "start_time": "2024-04-21T18:24:27.109Z"
   },
   {
    "duration": 863,
    "start_time": "2024-04-21T18:24:32.659Z"
   },
   {
    "duration": 853,
    "start_time": "2024-04-21T18:24:44.174Z"
   },
   {
    "duration": 4,
    "start_time": "2024-04-21T18:29:44.850Z"
   },
   {
    "duration": 20,
    "start_time": "2024-04-21T18:29:46.966Z"
   },
   {
    "duration": 4,
    "start_time": "2024-04-21T18:30:25.829Z"
   },
   {
    "duration": 1205,
    "start_time": "2024-04-21T18:30:28.962Z"
   },
   {
    "duration": 4,
    "start_time": "2024-04-21T18:34:52.801Z"
   },
   {
    "duration": 24,
    "start_time": "2024-04-21T18:34:54.556Z"
   },
   {
    "duration": 4,
    "start_time": "2024-04-21T18:42:39.357Z"
   },
   {
    "duration": 27,
    "start_time": "2024-04-21T18:42:41.765Z"
   },
   {
    "duration": 4,
    "start_time": "2024-04-21T18:43:37.922Z"
   },
   {
    "duration": 807,
    "start_time": "2024-04-21T18:43:40.651Z"
   },
   {
    "duration": 819,
    "start_time": "2024-04-21T18:43:53.837Z"
   },
   {
    "duration": 853,
    "start_time": "2024-04-21T18:44:08.655Z"
   },
   {
    "duration": 5,
    "start_time": "2024-04-21T18:44:24.761Z"
   },
   {
    "duration": 816,
    "start_time": "2024-04-21T18:44:26.267Z"
   },
   {
    "duration": 819,
    "start_time": "2024-04-21T18:44:38.103Z"
   },
   {
    "duration": 827,
    "start_time": "2024-04-21T18:44:47.915Z"
   },
   {
    "duration": 1560,
    "start_time": "2024-04-22T10:49:07.382Z"
   },
   {
    "duration": 562,
    "start_time": "2024-04-22T10:49:13.751Z"
   },
   {
    "duration": 559,
    "start_time": "2024-04-22T10:49:18.708Z"
   },
   {
    "duration": 574,
    "start_time": "2024-04-22T10:49:30.497Z"
   },
   {
    "duration": 29,
    "start_time": "2024-04-22T11:07:33.506Z"
   },
   {
    "duration": 29,
    "start_time": "2024-04-22T11:09:41.670Z"
   },
   {
    "duration": 109,
    "start_time": "2024-04-22T11:10:10.489Z"
   },
   {
    "duration": 109,
    "start_time": "2024-04-22T11:10:20.195Z"
   },
   {
    "duration": 101,
    "start_time": "2024-04-22T11:10:48.229Z"
   },
   {
    "duration": 106,
    "start_time": "2024-04-22T11:10:53.395Z"
   },
   {
    "duration": 105,
    "start_time": "2024-04-22T11:10:57.675Z"
   },
   {
    "duration": 104,
    "start_time": "2024-04-22T11:11:03.700Z"
   },
   {
    "duration": 113,
    "start_time": "2024-04-22T11:11:29.694Z"
   },
   {
    "duration": 93,
    "start_time": "2024-04-22T11:12:13.414Z"
   },
   {
    "duration": 82,
    "start_time": "2024-04-22T11:13:40.403Z"
   },
   {
    "duration": 1284,
    "start_time": "2024-04-22T11:14:19.580Z"
   },
   {
    "duration": 86,
    "start_time": "2024-04-22T11:14:34.653Z"
   },
   {
    "duration": 108,
    "start_time": "2024-04-22T11:15:38.831Z"
   },
   {
    "duration": 107,
    "start_time": "2024-04-22T11:15:49.115Z"
   },
   {
    "duration": 96,
    "start_time": "2024-04-22T11:16:52.930Z"
   },
   {
    "duration": 36,
    "start_time": "2024-04-22T11:17:15.845Z"
   },
   {
    "duration": 14,
    "start_time": "2024-04-22T11:17:55.907Z"
   },
   {
    "duration": 14,
    "start_time": "2024-04-22T11:20:30.119Z"
   },
   {
    "duration": 16,
    "start_time": "2024-04-22T11:20:32.990Z"
   },
   {
    "duration": 15,
    "start_time": "2024-04-22T11:20:57.405Z"
   },
   {
    "duration": 14,
    "start_time": "2024-04-22T11:21:14.820Z"
   },
   {
    "duration": 16,
    "start_time": "2024-04-22T11:21:30.377Z"
   },
   {
    "duration": 17,
    "start_time": "2024-04-22T11:21:38.957Z"
   },
   {
    "duration": 42,
    "start_time": "2024-04-22T11:28:35.945Z"
   },
   {
    "duration": 79,
    "start_time": "2024-04-22T11:28:38.875Z"
   },
   {
    "duration": 1497,
    "start_time": "2024-04-22T11:29:05.763Z"
   },
   {
    "duration": 370,
    "start_time": "2024-04-22T11:37:23.121Z"
   },
   {
    "duration": 4551,
    "start_time": "2024-04-22T11:37:53.236Z"
   },
   {
    "duration": 4382,
    "start_time": "2024-04-22T11:40:21.651Z"
   },
   {
    "duration": 2763,
    "start_time": "2024-04-22T11:44:26.747Z"
   },
   {
    "duration": 2659,
    "start_time": "2024-04-22T11:44:54.213Z"
   },
   {
    "duration": 2551,
    "start_time": "2024-04-22T11:46:21.611Z"
   },
   {
    "duration": 2572,
    "start_time": "2024-04-22T11:47:28.628Z"
   },
   {
    "duration": 15,
    "start_time": "2024-04-22T11:52:51.475Z"
   },
   {
    "duration": 452,
    "start_time": "2024-04-22T11:53:03.892Z"
   },
   {
    "duration": 3041,
    "start_time": "2024-04-22T11:53:13.748Z"
   },
   {
    "duration": 2698,
    "start_time": "2024-04-22T11:53:32.192Z"
   },
   {
    "duration": 2658,
    "start_time": "2024-04-22T11:54:15.303Z"
   },
   {
    "duration": 2962,
    "start_time": "2024-04-22T11:58:53.309Z"
   },
   {
    "duration": 25,
    "start_time": "2024-04-22T11:59:21.350Z"
   },
   {
    "duration": 2986,
    "start_time": "2024-04-22T11:59:52.707Z"
   },
   {
    "duration": 3284,
    "start_time": "2024-04-22T12:02:06.062Z"
   },
   {
    "duration": 3317,
    "start_time": "2024-04-22T12:02:25.898Z"
   },
   {
    "duration": 719,
    "start_time": "2024-04-22T12:02:47.169Z"
   },
   {
    "duration": 2802,
    "start_time": "2024-04-22T12:03:59.965Z"
   },
   {
    "duration": 2820,
    "start_time": "2024-04-22T12:04:34.841Z"
   },
   {
    "duration": 2950,
    "start_time": "2024-04-22T12:05:07.177Z"
   },
   {
    "duration": 2860,
    "start_time": "2024-04-22T12:05:50.414Z"
   },
   {
    "duration": 2601,
    "start_time": "2024-04-22T12:08:38.831Z"
   },
   {
    "duration": 2802,
    "start_time": "2024-04-22T12:09:55.768Z"
   },
   {
    "duration": 2802,
    "start_time": "2024-04-22T12:10:07.856Z"
   },
   {
    "duration": 2817,
    "start_time": "2024-04-22T12:10:17.152Z"
   },
   {
    "duration": 2861,
    "start_time": "2024-04-22T12:10:27.649Z"
   },
   {
    "duration": 2749,
    "start_time": "2024-04-22T12:17:53.555Z"
   },
   {
    "duration": 176,
    "start_time": "2024-04-22T12:19:59.568Z"
   },
   {
    "duration": 159,
    "start_time": "2024-04-22T12:21:34.500Z"
   },
   {
    "duration": 145,
    "start_time": "2024-04-22T12:22:57.661Z"
   },
   {
    "duration": 1515,
    "start_time": "2024-04-22T12:26:02.189Z"
   },
   {
    "duration": 8,
    "start_time": "2024-04-22T12:26:44.220Z"
   },
   {
    "duration": 34,
    "start_time": "2024-04-22T12:26:58.457Z"
   },
   {
    "duration": 167,
    "start_time": "2024-04-22T12:28:08.306Z"
   },
   {
    "duration": 2644,
    "start_time": "2024-04-22T12:28:54.597Z"
   },
   {
    "duration": 2707,
    "start_time": "2024-04-22T12:30:31.606Z"
   },
   {
    "duration": 2667,
    "start_time": "2024-04-22T12:30:54.743Z"
   },
   {
    "duration": 2644,
    "start_time": "2024-04-22T12:31:04.235Z"
   },
   {
    "duration": 2662,
    "start_time": "2024-04-22T12:32:17.905Z"
   },
   {
    "duration": 126,
    "start_time": "2024-04-22T12:38:40.039Z"
   },
   {
    "duration": 128,
    "start_time": "2024-04-22T12:39:48.869Z"
   },
   {
    "duration": 116,
    "start_time": "2024-04-22T12:42:16.228Z"
   },
   {
    "duration": 2647,
    "start_time": "2024-04-22T12:43:14.214Z"
   },
   {
    "duration": 164,
    "start_time": "2024-04-22T12:44:22.455Z"
   },
   {
    "duration": 2749,
    "start_time": "2024-04-22T12:44:28.811Z"
   },
   {
    "duration": 205,
    "start_time": "2024-04-22T12:46:15.823Z"
   },
   {
    "duration": 121,
    "start_time": "2024-04-22T12:46:48.193Z"
   },
   {
    "duration": 307,
    "start_time": "2024-04-22T12:49:07.855Z"
   },
   {
    "duration": 2293,
    "start_time": "2024-04-22T12:50:25.331Z"
   },
   {
    "duration": 2147,
    "start_time": "2024-04-22T12:50:53.582Z"
   },
   {
    "duration": 2620,
    "start_time": "2024-04-22T12:51:34.697Z"
   },
   {
    "duration": 2107,
    "start_time": "2024-04-22T12:55:35.068Z"
   },
   {
    "duration": 2173,
    "start_time": "2024-04-22T13:24:30.913Z"
   },
   {
    "duration": 883,
    "start_time": "2024-04-22T13:33:36.452Z"
   },
   {
    "duration": 67,
    "start_time": "2024-04-22T13:33:46.099Z"
   },
   {
    "duration": 4,
    "start_time": "2024-04-22T13:46:53.219Z"
   },
   {
    "duration": 386,
    "start_time": "2024-04-22T13:47:01.501Z"
   },
   {
    "duration": 5,
    "start_time": "2024-04-22T13:47:09.007Z"
   },
   {
    "duration": 3,
    "start_time": "2024-04-22T14:15:13.581Z"
   },
   {
    "duration": 3,
    "start_time": "2024-04-22T14:15:17.734Z"
   },
   {
    "duration": 11,
    "start_time": "2024-04-22T14:28:33.955Z"
   },
   {
    "duration": 2,
    "start_time": "2024-04-22T14:28:40.932Z"
   },
   {
    "duration": 4,
    "start_time": "2024-04-22T14:32:40.849Z"
   },
   {
    "duration": 714,
    "start_time": "2024-04-22T14:35:13.545Z"
   },
   {
    "duration": 105,
    "start_time": "2024-04-22T14:36:11.311Z"
   },
   {
    "duration": 96,
    "start_time": "2024-04-22T14:36:17.995Z"
   },
   {
    "duration": 686,
    "start_time": "2024-04-22T14:36:28.656Z"
   },
   {
    "duration": 111,
    "start_time": "2024-04-22T14:40:34.411Z"
   },
   {
    "duration": 688,
    "start_time": "2024-04-22T14:40:47.997Z"
   },
   {
    "duration": 4,
    "start_time": "2024-04-22T14:41:36.400Z"
   },
   {
    "duration": 3,
    "start_time": "2024-04-22T14:41:57.441Z"
   },
   {
    "duration": 715,
    "start_time": "2024-04-22T14:41:59.063Z"
   },
   {
    "duration": 4,
    "start_time": "2024-04-22T14:42:15.495Z"
   },
   {
    "duration": 686,
    "start_time": "2024-04-22T14:42:17.456Z"
   },
   {
    "duration": 4,
    "start_time": "2024-04-22T14:42:33.013Z"
   },
   {
    "duration": 4,
    "start_time": "2024-04-22T14:42:36.868Z"
   },
   {
    "duration": 4,
    "start_time": "2024-04-22T14:42:43.826Z"
   },
   {
    "duration": 719,
    "start_time": "2024-04-22T14:42:46.019Z"
   },
   {
    "duration": 90,
    "start_time": "2024-04-22T14:43:16.670Z"
   },
   {
    "duration": 691,
    "start_time": "2024-04-22T14:43:24.808Z"
   },
   {
    "duration": 687,
    "start_time": "2024-04-22T14:43:48.585Z"
   },
   {
    "duration": 694,
    "start_time": "2024-04-22T14:44:53.291Z"
   },
   {
    "duration": 169,
    "start_time": "2024-04-22T14:44:59.875Z"
   },
   {
    "duration": 693,
    "start_time": "2024-04-22T14:45:10.959Z"
   },
   {
    "duration": 418,
    "start_time": "2024-04-22T14:59:24.856Z"
   },
   {
    "duration": 102,
    "start_time": "2024-04-22T14:59:42.525Z"
   },
   {
    "duration": 84,
    "start_time": "2024-04-22T15:00:50.458Z"
   },
   {
    "duration": 6,
    "start_time": "2024-04-22T15:04:28.949Z"
   },
   {
    "duration": 708,
    "start_time": "2024-04-22T15:04:38.319Z"
   },
   {
    "duration": 5,
    "start_time": "2024-04-22T15:05:15.942Z"
   },
   {
    "duration": 747,
    "start_time": "2024-04-22T15:05:17.445Z"
   },
   {
    "duration": 4,
    "start_time": "2024-04-22T15:09:23.867Z"
   },
   {
    "duration": 679,
    "start_time": "2024-04-22T15:09:25.852Z"
   },
   {
    "duration": 5,
    "start_time": "2024-04-22T15:10:02.227Z"
   },
   {
    "duration": 701,
    "start_time": "2024-04-22T15:10:04.437Z"
   },
   {
    "duration": 5,
    "start_time": "2024-04-22T15:11:24.875Z"
   },
   {
    "duration": 695,
    "start_time": "2024-04-22T15:11:26.452Z"
   },
   {
    "duration": 5,
    "start_time": "2024-04-22T15:11:56.294Z"
   },
   {
    "duration": 706,
    "start_time": "2024-04-22T15:11:58.411Z"
   },
   {
    "duration": 4,
    "start_time": "2024-04-22T15:12:21.846Z"
   },
   {
    "duration": 725,
    "start_time": "2024-04-22T15:12:23.660Z"
   },
   {
    "duration": 5,
    "start_time": "2024-04-22T15:14:06.273Z"
   },
   {
    "duration": 689,
    "start_time": "2024-04-22T15:14:08.408Z"
   },
   {
    "duration": 4,
    "start_time": "2024-04-22T15:15:11.399Z"
   },
   {
    "duration": 671,
    "start_time": "2024-04-22T15:15:20.928Z"
   },
   {
    "duration": 680,
    "start_time": "2024-04-22T15:15:39.837Z"
   },
   {
    "duration": 674,
    "start_time": "2024-04-22T15:15:53.637Z"
   },
   {
    "duration": 681,
    "start_time": "2024-04-22T15:16:35.626Z"
   },
   {
    "duration": 98,
    "start_time": "2024-04-22T15:17:39.723Z"
   },
   {
    "duration": 5,
    "start_time": "2024-04-22T15:17:48.867Z"
   },
   {
    "duration": 671,
    "start_time": "2024-04-22T15:17:51.446Z"
   },
   {
    "duration": 1999,
    "start_time": "2024-04-22T15:29:20.702Z"
   },
   {
    "duration": 2013,
    "start_time": "2024-04-22T15:31:16.948Z"
   },
   {
    "duration": 1982,
    "start_time": "2024-04-22T15:31:42.728Z"
   },
   {
    "duration": 2021,
    "start_time": "2024-04-22T15:31:51.087Z"
   },
   {
    "duration": 2044,
    "start_time": "2024-04-22T15:34:21.378Z"
   },
   {
    "duration": 89,
    "start_time": "2024-04-22T15:35:05.478Z"
   },
   {
    "duration": 90,
    "start_time": "2024-04-22T15:35:32.672Z"
   },
   {
    "duration": 6,
    "start_time": "2024-04-22T15:35:54.971Z"
   },
   {
    "duration": 693,
    "start_time": "2024-04-22T15:35:58.135Z"
   },
   {
    "duration": 2049,
    "start_time": "2024-04-22T15:36:02.651Z"
   },
   {
    "duration": 1445,
    "start_time": "2024-04-22T15:37:35.282Z"
   },
   {
    "duration": 122,
    "start_time": "2024-04-22T15:37:36.729Z"
   },
   {
    "duration": 103,
    "start_time": "2024-04-22T15:37:36.853Z"
   },
   {
    "duration": 108,
    "start_time": "2024-04-22T15:37:36.957Z"
   },
   {
    "duration": 36,
    "start_time": "2024-04-22T15:37:37.067Z"
   },
   {
    "duration": 105,
    "start_time": "2024-04-22T15:37:37.104Z"
   },
   {
    "duration": 34,
    "start_time": "2024-04-22T15:37:37.210Z"
   },
   {
    "duration": 17,
    "start_time": "2024-04-22T15:37:37.246Z"
   },
   {
    "duration": 43,
    "start_time": "2024-04-22T15:37:37.265Z"
   },
   {
    "duration": 54,
    "start_time": "2024-04-22T15:37:37.310Z"
   },
   {
    "duration": 88,
    "start_time": "2024-04-22T15:37:37.365Z"
   },
   {
    "duration": 2180,
    "start_time": "2024-04-22T15:37:37.454Z"
   },
   {
    "duration": 789,
    "start_time": "2024-04-22T15:37:39.635Z"
   },
   {
    "duration": 64,
    "start_time": "2024-04-22T15:37:40.426Z"
   },
   {
    "duration": 4,
    "start_time": "2024-04-22T15:37:40.491Z"
   },
   {
    "duration": 291,
    "start_time": "2024-04-22T15:37:40.496Z"
   },
   {
    "duration": 5,
    "start_time": "2024-04-22T15:37:40.789Z"
   },
   {
    "duration": 93,
    "start_time": "2024-04-22T15:37:40.795Z"
   },
   {
    "duration": 109,
    "start_time": "2024-04-22T15:37:40.889Z"
   },
   {
    "duration": 28,
    "start_time": "2024-04-22T15:37:40.999Z"
   },
   {
    "duration": 15,
    "start_time": "2024-04-22T15:37:41.028Z"
   },
   {
    "duration": 30,
    "start_time": "2024-04-22T15:37:41.045Z"
   },
   {
    "duration": 2022,
    "start_time": "2024-04-22T15:37:41.076Z"
   },
   {
    "duration": 72,
    "start_time": "2024-04-22T15:38:16.388Z"
   },
   {
    "duration": 2138,
    "start_time": "2024-04-22T15:39:16.239Z"
   },
   {
    "duration": 11,
    "start_time": "2024-04-22T15:41:13.032Z"
   },
   {
    "duration": 1306,
    "start_time": "2024-04-22T16:44:51.974Z"
   },
   {
    "duration": 125,
    "start_time": "2024-04-22T16:44:53.282Z"
   },
   {
    "duration": 104,
    "start_time": "2024-04-22T16:44:53.411Z"
   },
   {
    "duration": 105,
    "start_time": "2024-04-22T16:44:53.516Z"
   },
   {
    "duration": 35,
    "start_time": "2024-04-22T16:44:53.623Z"
   },
   {
    "duration": 125,
    "start_time": "2024-04-22T16:44:53.659Z"
   },
   {
    "duration": 42,
    "start_time": "2024-04-22T16:44:53.786Z"
   },
   {
    "duration": 67,
    "start_time": "2024-04-22T16:44:53.829Z"
   },
   {
    "duration": 31,
    "start_time": "2024-04-22T16:44:53.899Z"
   },
   {
    "duration": 69,
    "start_time": "2024-04-22T16:44:53.932Z"
   },
   {
    "duration": 84,
    "start_time": "2024-04-22T16:44:54.003Z"
   },
   {
    "duration": 2206,
    "start_time": "2024-04-22T16:44:54.089Z"
   },
   {
    "duration": 852,
    "start_time": "2024-04-22T16:44:56.297Z"
   },
   {
    "duration": 69,
    "start_time": "2024-04-22T16:44:57.151Z"
   },
   {
    "duration": 6,
    "start_time": "2024-04-22T16:44:57.221Z"
   },
   {
    "duration": 169,
    "start_time": "2024-04-22T16:44:57.229Z"
   },
   {
    "duration": 93,
    "start_time": "2024-04-22T16:44:57.399Z"
   },
   {
    "duration": 118,
    "start_time": "2024-04-22T16:44:57.494Z"
   },
   {
    "duration": 9,
    "start_time": "2024-04-22T16:44:57.613Z"
   },
   {
    "duration": 24,
    "start_time": "2024-04-22T16:44:57.624Z"
   },
   {
    "duration": 6,
    "start_time": "2024-04-22T16:44:57.649Z"
   },
   {
    "duration": 28,
    "start_time": "2024-04-22T16:44:57.656Z"
   },
   {
    "duration": 2049,
    "start_time": "2024-04-22T16:44:57.685Z"
   },
   {
    "duration": 1339,
    "start_time": "2024-04-22T17:19:17.696Z"
   },
   {
    "duration": 126,
    "start_time": "2024-04-22T17:19:19.037Z"
   },
   {
    "duration": 102,
    "start_time": "2024-04-22T17:19:19.164Z"
   },
   {
    "duration": 108,
    "start_time": "2024-04-22T17:19:19.267Z"
   },
   {
    "duration": 33,
    "start_time": "2024-04-22T17:19:19.376Z"
   },
   {
    "duration": 107,
    "start_time": "2024-04-22T17:19:19.410Z"
   },
   {
    "duration": 30,
    "start_time": "2024-04-22T17:19:19.518Z"
   },
   {
    "duration": 11,
    "start_time": "2024-04-22T17:19:19.549Z"
   },
   {
    "duration": 34,
    "start_time": "2024-04-22T17:19:19.562Z"
   },
   {
    "duration": 42,
    "start_time": "2024-04-22T17:19:19.598Z"
   },
   {
    "duration": 87,
    "start_time": "2024-04-22T17:19:19.641Z"
   },
   {
    "duration": 2137,
    "start_time": "2024-04-22T17:19:19.729Z"
   },
   {
    "duration": 874,
    "start_time": "2024-04-22T17:19:21.867Z"
   },
   {
    "duration": 71,
    "start_time": "2024-04-22T17:19:22.742Z"
   },
   {
    "duration": 4,
    "start_time": "2024-04-22T17:19:22.814Z"
   },
   {
    "duration": 268,
    "start_time": "2024-04-22T17:19:22.819Z"
   },
   {
    "duration": 95,
    "start_time": "2024-04-22T17:19:23.089Z"
   },
   {
    "duration": 100,
    "start_time": "2024-04-22T17:19:23.186Z"
   },
   {
    "duration": 4,
    "start_time": "2024-04-22T17:19:23.287Z"
   },
   {
    "duration": 12,
    "start_time": "2024-04-22T17:19:23.292Z"
   },
   {
    "duration": 2,
    "start_time": "2024-04-22T17:19:23.305Z"
   },
   {
    "duration": 7,
    "start_time": "2024-04-22T17:19:23.308Z"
   },
   {
    "duration": 1982,
    "start_time": "2024-04-22T17:19:23.317Z"
   },
   {
    "duration": 1199,
    "start_time": "2024-04-22T17:25:26.732Z"
   },
   {
    "duration": 123,
    "start_time": "2024-04-22T17:25:27.932Z"
   },
   {
    "duration": 100,
    "start_time": "2024-04-22T17:25:28.057Z"
   },
   {
    "duration": 105,
    "start_time": "2024-04-22T17:25:28.159Z"
   },
   {
    "duration": 32,
    "start_time": "2024-04-22T17:25:28.265Z"
   },
   {
    "duration": 100,
    "start_time": "2024-04-22T17:25:28.298Z"
   },
   {
    "duration": 28,
    "start_time": "2024-04-22T17:25:28.400Z"
   },
   {
    "duration": 13,
    "start_time": "2024-04-22T17:25:28.429Z"
   },
   {
    "duration": 16,
    "start_time": "2024-04-22T17:25:28.443Z"
   },
   {
    "duration": 59,
    "start_time": "2024-04-22T17:25:28.461Z"
   },
   {
    "duration": 78,
    "start_time": "2024-04-22T17:25:28.521Z"
   },
   {
    "duration": 2143,
    "start_time": "2024-04-22T17:25:28.600Z"
   },
   {
    "duration": 814,
    "start_time": "2024-04-22T17:25:30.745Z"
   },
   {
    "duration": 68,
    "start_time": "2024-04-22T17:25:31.561Z"
   },
   {
    "duration": 4,
    "start_time": "2024-04-22T17:25:31.630Z"
   },
   {
    "duration": 253,
    "start_time": "2024-04-22T17:25:31.635Z"
   },
   {
    "duration": 5,
    "start_time": "2024-04-22T17:25:31.890Z"
   },
   {
    "duration": 101,
    "start_time": "2024-04-22T17:25:31.985Z"
   },
   {
    "duration": 40,
    "start_time": "2024-04-22T17:25:32.087Z"
   },
   {
    "duration": 51,
    "start_time": "2024-04-22T17:25:32.128Z"
   },
   {
    "duration": 33,
    "start_time": "2024-04-22T17:25:32.181Z"
   },
   {
    "duration": 42,
    "start_time": "2024-04-22T17:25:32.216Z"
   },
   {
    "duration": 2001,
    "start_time": "2024-04-22T17:25:32.259Z"
   },
   {
    "duration": 1966,
    "start_time": "2024-04-22T17:27:07.530Z"
   },
   {
    "duration": 1250,
    "start_time": "2024-04-22T17:28:51.870Z"
   },
   {
    "duration": 121,
    "start_time": "2024-04-22T17:28:53.121Z"
   },
   {
    "duration": 102,
    "start_time": "2024-04-22T17:28:53.243Z"
   },
   {
    "duration": 104,
    "start_time": "2024-04-22T17:28:53.346Z"
   },
   {
    "duration": 40,
    "start_time": "2024-04-22T17:28:53.451Z"
   },
   {
    "duration": 106,
    "start_time": "2024-04-22T17:28:53.493Z"
   },
   {
    "duration": 31,
    "start_time": "2024-04-22T17:28:53.600Z"
   },
   {
    "duration": 23,
    "start_time": "2024-04-22T17:28:53.632Z"
   },
   {
    "duration": 20,
    "start_time": "2024-04-22T17:28:53.656Z"
   },
   {
    "duration": 45,
    "start_time": "2024-04-22T17:28:53.678Z"
   },
   {
    "duration": 90,
    "start_time": "2024-04-22T17:28:53.725Z"
   },
   {
    "duration": 2152,
    "start_time": "2024-04-22T17:28:53.816Z"
   },
   {
    "duration": 851,
    "start_time": "2024-04-22T17:28:55.969Z"
   },
   {
    "duration": 66,
    "start_time": "2024-04-22T17:28:56.822Z"
   },
   {
    "duration": 3,
    "start_time": "2024-04-22T17:28:56.890Z"
   },
   {
    "duration": 299,
    "start_time": "2024-04-22T17:28:56.895Z"
   },
   {
    "duration": 95,
    "start_time": "2024-04-22T17:28:57.195Z"
   },
   {
    "duration": 93,
    "start_time": "2024-04-22T17:28:57.292Z"
   },
   {
    "duration": 4,
    "start_time": "2024-04-22T17:28:57.386Z"
   },
   {
    "duration": 14,
    "start_time": "2024-04-22T17:28:57.391Z"
   },
   {
    "duration": 7,
    "start_time": "2024-04-22T17:28:57.406Z"
   },
   {
    "duration": 13,
    "start_time": "2024-04-22T17:28:57.414Z"
   },
   {
    "duration": 1994,
    "start_time": "2024-04-22T17:28:57.428Z"
   },
   {
    "duration": 825,
    "start_time": "2024-04-22T17:36:03.983Z"
   },
   {
    "duration": 1277,
    "start_time": "2024-04-22T17:44:08.286Z"
   },
   {
    "duration": 132,
    "start_time": "2024-04-22T17:44:09.565Z"
   },
   {
    "duration": 104,
    "start_time": "2024-04-22T17:44:09.698Z"
   },
   {
    "duration": 107,
    "start_time": "2024-04-22T17:44:09.803Z"
   },
   {
    "duration": 28,
    "start_time": "2024-04-22T17:44:09.911Z"
   },
   {
    "duration": 108,
    "start_time": "2024-04-22T17:44:09.940Z"
   },
   {
    "duration": 37,
    "start_time": "2024-04-22T17:44:10.049Z"
   },
   {
    "duration": 12,
    "start_time": "2024-04-22T17:44:10.087Z"
   },
   {
    "duration": 15,
    "start_time": "2024-04-22T17:44:10.100Z"
   },
   {
    "duration": 56,
    "start_time": "2024-04-22T17:44:10.117Z"
   },
   {
    "duration": 75,
    "start_time": "2024-04-22T17:44:10.174Z"
   },
   {
    "duration": 2152,
    "start_time": "2024-04-22T17:44:10.250Z"
   },
   {
    "duration": 827,
    "start_time": "2024-04-22T17:44:12.404Z"
   },
   {
    "duration": 69,
    "start_time": "2024-04-22T17:44:13.232Z"
   },
   {
    "duration": 4,
    "start_time": "2024-04-22T17:44:13.302Z"
   },
   {
    "duration": 281,
    "start_time": "2024-04-22T17:44:13.307Z"
   },
   {
    "duration": 96,
    "start_time": "2024-04-22T17:44:13.590Z"
   },
   {
    "duration": 94,
    "start_time": "2024-04-22T17:44:13.691Z"
   },
   {
    "duration": 5,
    "start_time": "2024-04-22T17:44:13.787Z"
   },
   {
    "duration": 16,
    "start_time": "2024-04-22T17:44:13.793Z"
   },
   {
    "duration": 7,
    "start_time": "2024-04-22T17:44:13.810Z"
   },
   {
    "duration": 6,
    "start_time": "2024-04-22T17:44:13.818Z"
   },
   {
    "duration": 1998,
    "start_time": "2024-04-22T17:44:13.825Z"
   },
   {
    "duration": 1263,
    "start_time": "2024-04-22T17:50:54.443Z"
   },
   {
    "duration": 132,
    "start_time": "2024-04-22T17:50:55.707Z"
   },
   {
    "duration": 105,
    "start_time": "2024-04-22T17:50:55.842Z"
   },
   {
    "duration": 104,
    "start_time": "2024-04-22T17:50:55.948Z"
   },
   {
    "duration": 32,
    "start_time": "2024-04-22T17:50:56.053Z"
   },
   {
    "duration": 105,
    "start_time": "2024-04-22T17:50:56.086Z"
   },
   {
    "duration": 30,
    "start_time": "2024-04-22T17:50:56.192Z"
   },
   {
    "duration": 13,
    "start_time": "2024-04-22T17:50:56.224Z"
   },
   {
    "duration": 16,
    "start_time": "2024-04-22T17:50:56.240Z"
   },
   {
    "duration": 64,
    "start_time": "2024-04-22T17:50:56.257Z"
   },
   {
    "duration": 80,
    "start_time": "2024-04-22T17:50:56.323Z"
   },
   {
    "duration": 2104,
    "start_time": "2024-04-22T17:50:56.405Z"
   },
   {
    "duration": 811,
    "start_time": "2024-04-22T17:50:58.510Z"
   },
   {
    "duration": 62,
    "start_time": "2024-04-22T17:50:59.322Z"
   },
   {
    "duration": 4,
    "start_time": "2024-04-22T17:50:59.386Z"
   },
   {
    "duration": 203,
    "start_time": "2024-04-22T17:50:59.391Z"
   },
   {
    "duration": 5,
    "start_time": "2024-04-22T17:50:59.684Z"
   },
   {
    "duration": 95,
    "start_time": "2024-04-22T17:50:59.690Z"
   },
   {
    "duration": 5,
    "start_time": "2024-04-22T17:50:59.786Z"
   },
   {
    "duration": 12,
    "start_time": "2024-04-22T17:50:59.793Z"
   },
   {
    "duration": 6,
    "start_time": "2024-04-22T17:50:59.806Z"
   },
   {
    "duration": 6,
    "start_time": "2024-04-22T17:50:59.813Z"
   },
   {
    "duration": 2039,
    "start_time": "2024-04-22T17:50:59.820Z"
   },
   {
    "duration": 1396,
    "start_time": "2024-04-22T17:59:05.622Z"
   },
   {
    "duration": 124,
    "start_time": "2024-04-22T17:59:07.019Z"
   },
   {
    "duration": 107,
    "start_time": "2024-04-22T17:59:07.144Z"
   },
   {
    "duration": 106,
    "start_time": "2024-04-22T17:59:07.253Z"
   },
   {
    "duration": 37,
    "start_time": "2024-04-22T17:59:07.361Z"
   },
   {
    "duration": 114,
    "start_time": "2024-04-22T17:59:07.399Z"
   },
   {
    "duration": 30,
    "start_time": "2024-04-22T17:59:07.514Z"
   },
   {
    "duration": 16,
    "start_time": "2024-04-22T17:59:07.545Z"
   },
   {
    "duration": 27,
    "start_time": "2024-04-22T17:59:07.562Z"
   },
   {
    "duration": 54,
    "start_time": "2024-04-22T17:59:07.591Z"
   },
   {
    "duration": 73,
    "start_time": "2024-04-22T17:59:07.646Z"
   },
   {
    "duration": 2134,
    "start_time": "2024-04-22T17:59:07.720Z"
   },
   {
    "duration": 820,
    "start_time": "2024-04-22T17:59:09.855Z"
   },
   {
    "duration": 73,
    "start_time": "2024-04-22T17:59:10.676Z"
   },
   {
    "duration": 5,
    "start_time": "2024-04-22T17:59:10.751Z"
   },
   {
    "duration": 238,
    "start_time": "2024-04-22T17:59:10.758Z"
   },
   {
    "duration": 89,
    "start_time": "2024-04-22T17:59:10.997Z"
   },
   {
    "duration": 3,
    "start_time": "2024-04-22T17:59:11.088Z"
   },
   {
    "duration": 95,
    "start_time": "2024-04-22T17:59:11.092Z"
   },
   {
    "duration": 20,
    "start_time": "2024-04-22T17:59:11.188Z"
   },
   {
    "duration": 18,
    "start_time": "2024-04-22T17:59:11.209Z"
   },
   {
    "duration": 17,
    "start_time": "2024-04-22T17:59:11.228Z"
   },
   {
    "duration": 2012,
    "start_time": "2024-04-22T17:59:11.247Z"
   },
   {
    "duration": 353,
    "start_time": "2024-04-22T19:26:55.936Z"
   },
   {
    "duration": 1662,
    "start_time": "2024-09-25T18:27:43.635Z"
   },
   {
    "duration": 30,
    "start_time": "2024-09-25T18:28:14.646Z"
   },
   {
    "duration": 4,
    "start_time": "2024-09-25T18:28:17.724Z"
   },
   {
    "duration": 120,
    "start_time": "2024-09-25T18:28:44.997Z"
   },
   {
    "duration": 642,
    "start_time": "2024-09-25T18:28:56.379Z"
   },
   {
    "duration": 601,
    "start_time": "2024-09-25T18:29:29.641Z"
   },
   {
    "duration": 604,
    "start_time": "2024-09-25T18:29:55.506Z"
   },
   {
    "duration": 40,
    "start_time": "2024-09-25T18:30:05.351Z"
   },
   {
    "duration": 136,
    "start_time": "2024-09-25T18:30:14.969Z"
   },
   {
    "duration": 47,
    "start_time": "2024-09-25T18:30:19.075Z"
   },
   {
    "duration": 19,
    "start_time": "2024-09-25T18:30:27.581Z"
   },
   {
    "duration": 21,
    "start_time": "2024-09-25T18:30:30.807Z"
   },
   {
    "duration": 69,
    "start_time": "2024-09-25T18:30:37.153Z"
   },
   {
    "duration": 96,
    "start_time": "2024-09-25T18:30:43.220Z"
   },
   {
    "duration": 34,
    "start_time": "2024-09-25T18:32:27.700Z"
   },
   {
    "duration": 7,
    "start_time": "2024-09-25T18:32:30.749Z"
   },
   {
    "duration": 3043,
    "start_time": "2024-09-25T18:32:34.296Z"
   },
   {
    "duration": 899,
    "start_time": "2024-09-25T18:32:58.846Z"
   },
   {
    "duration": 15,
    "start_time": "2024-09-25T18:42:49.716Z"
   },
   {
    "duration": 1124,
    "start_time": "2024-09-25T18:43:10.573Z"
   },
   {
    "duration": 1010,
    "start_time": "2024-09-25T18:43:46.189Z"
   },
   {
    "duration": 44,
    "start_time": "2024-09-25T18:45:35.459Z"
   },
   {
    "duration": 3,
    "start_time": "2024-09-25T18:45:42.753Z"
   },
   {
    "duration": 946,
    "start_time": "2024-09-25T18:45:45.449Z"
   },
   {
    "duration": 1116,
    "start_time": "2024-09-25T18:46:44.783Z"
   },
   {
    "duration": 584,
    "start_time": "2024-09-25T18:47:27.133Z"
   },
   {
    "duration": 1020,
    "start_time": "2024-09-25T18:47:45.569Z"
   },
   {
    "duration": 1200,
    "start_time": "2024-09-25T18:48:30.157Z"
   },
   {
    "duration": 1026,
    "start_time": "2024-09-25T18:48:46.308Z"
   },
   {
    "duration": 1352,
    "start_time": "2024-09-25T18:48:56.247Z"
   },
   {
    "duration": 1505,
    "start_time": "2024-09-25T18:51:48.233Z"
   },
   {
    "duration": 993,
    "start_time": "2024-09-25T18:52:09.455Z"
   },
   {
    "duration": 1131,
    "start_time": "2024-09-25T18:52:44.615Z"
   },
   {
    "duration": 889,
    "start_time": "2024-09-25T19:02:59.220Z"
   },
   {
    "duration": 10,
    "start_time": "2024-09-25T19:04:28.037Z"
   },
   {
    "duration": 11,
    "start_time": "2024-09-25T19:05:32.749Z"
   },
   {
    "duration": 35,
    "start_time": "2024-09-25T19:05:46.548Z"
   },
   {
    "duration": 72,
    "start_time": "2024-09-25T19:06:03.465Z"
   },
   {
    "duration": 4,
    "start_time": "2024-09-25T19:06:10.242Z"
   },
   {
    "duration": 374,
    "start_time": "2024-09-25T19:06:16.362Z"
   },
   {
    "duration": 5,
    "start_time": "2024-09-25T19:06:18.974Z"
   },
   {
    "duration": 3,
    "start_time": "2024-09-25T19:06:46.637Z"
   },
   {
    "duration": 4,
    "start_time": "2024-09-25T19:09:41.218Z"
   },
   {
    "duration": 3,
    "start_time": "2024-09-25T19:10:02.994Z"
   },
   {
    "duration": 14,
    "start_time": "2024-09-25T19:10:11.502Z"
   },
   {
    "duration": 3,
    "start_time": "2024-09-25T19:10:23.620Z"
   },
   {
    "duration": 6,
    "start_time": "2024-09-25T19:10:34.178Z"
   },
   {
    "duration": 15,
    "start_time": "2024-09-25T19:10:45.464Z"
   },
   {
    "duration": 5,
    "start_time": "2024-09-25T19:12:04.281Z"
   },
   {
    "duration": 18,
    "start_time": "2024-09-25T19:12:06.254Z"
   },
   {
    "duration": 3,
    "start_time": "2024-09-25T19:13:50.413Z"
   },
   {
    "duration": 853,
    "start_time": "2024-09-25T19:13:52.543Z"
   },
   {
    "duration": 1391,
    "start_time": "2024-09-26T17:47:46.176Z"
   },
   {
    "duration": 5,
    "start_time": "2024-09-26T17:47:47.569Z"
   },
   {
    "duration": 667,
    "start_time": "2024-09-26T17:47:47.576Z"
   },
   {
    "duration": 578,
    "start_time": "2024-09-26T17:47:48.245Z"
   },
   {
    "duration": 552,
    "start_time": "2024-09-26T17:47:48.825Z"
   },
   {
    "duration": 35,
    "start_time": "2024-09-26T17:47:49.379Z"
   },
   {
    "duration": 125,
    "start_time": "2024-09-26T17:47:49.415Z"
   },
   {
    "duration": 48,
    "start_time": "2024-09-26T17:47:49.542Z"
   },
   {
    "duration": 21,
    "start_time": "2024-09-26T17:47:49.592Z"
   },
   {
    "duration": 27,
    "start_time": "2024-09-26T17:47:49.615Z"
   },
   {
    "duration": 68,
    "start_time": "2024-09-26T17:47:49.644Z"
   },
   {
    "duration": 95,
    "start_time": "2024-09-26T17:47:49.714Z"
   },
   {
    "duration": 32,
    "start_time": "2024-09-26T17:47:49.811Z"
   },
   {
    "duration": 6,
    "start_time": "2024-09-26T17:47:49.846Z"
   },
   {
    "duration": 2530,
    "start_time": "2024-09-26T17:47:49.853Z"
   },
   {
    "duration": 3,
    "start_time": "2024-09-26T17:47:52.389Z"
   },
   {
    "duration": 944,
    "start_time": "2024-09-26T17:47:52.393Z"
   },
   {
    "duration": 72,
    "start_time": "2024-09-26T17:47:53.339Z"
   },
   {
    "duration": 5,
    "start_time": "2024-09-26T17:47:53.413Z"
   },
   {
    "duration": 379,
    "start_time": "2024-09-26T17:47:53.419Z"
   },
   {
    "duration": 91,
    "start_time": "2024-09-26T17:47:53.800Z"
   },
   {
    "duration": 97,
    "start_time": "2024-09-26T17:47:53.893Z"
   },
   {
    "duration": 66,
    "start_time": "2024-09-26T17:47:53.992Z"
   },
   {
    "duration": 24,
    "start_time": "2024-09-26T17:47:54.060Z"
   },
   {
    "duration": 3,
    "start_time": "2024-09-26T17:47:54.085Z"
   },
   {
    "duration": 5,
    "start_time": "2024-09-26T17:47:54.090Z"
   },
   {
    "duration": 2899,
    "start_time": "2024-09-26T17:47:54.097Z"
   },
   {
    "duration": 2705,
    "start_time": "2024-09-26T17:49:08.195Z"
   },
   {
    "duration": 1345,
    "start_time": "2024-09-26T17:49:23.616Z"
   },
   {
    "duration": 5,
    "start_time": "2024-09-26T17:49:24.962Z"
   },
   {
    "duration": 189,
    "start_time": "2024-09-26T17:49:24.969Z"
   },
   {
    "duration": 129,
    "start_time": "2024-09-26T17:49:25.159Z"
   },
   {
    "duration": 134,
    "start_time": "2024-09-26T17:49:25.290Z"
   },
   {
    "duration": 34,
    "start_time": "2024-09-26T17:49:25.426Z"
   },
   {
    "duration": 129,
    "start_time": "2024-09-26T17:49:25.462Z"
   },
   {
    "duration": 40,
    "start_time": "2024-09-26T17:49:25.593Z"
   },
   {
    "duration": 19,
    "start_time": "2024-09-26T17:49:25.634Z"
   },
   {
    "duration": 41,
    "start_time": "2024-09-26T17:49:25.654Z"
   },
   {
    "duration": 54,
    "start_time": "2024-09-26T17:49:25.697Z"
   },
   {
    "duration": 100,
    "start_time": "2024-09-26T17:49:25.753Z"
   },
   {
    "duration": 44,
    "start_time": "2024-09-26T17:49:25.854Z"
   },
   {
    "duration": 9,
    "start_time": "2024-09-26T17:49:25.901Z"
   },
   {
    "duration": 2506,
    "start_time": "2024-09-26T17:49:25.912Z"
   },
   {
    "duration": 4,
    "start_time": "2024-09-26T17:49:28.420Z"
   },
   {
    "duration": 906,
    "start_time": "2024-09-26T17:49:28.425Z"
   },
   {
    "duration": 78,
    "start_time": "2024-09-26T17:49:29.333Z"
   },
   {
    "duration": 5,
    "start_time": "2024-09-26T17:49:29.412Z"
   },
   {
    "duration": 375,
    "start_time": "2024-09-26T17:49:29.418Z"
   },
   {
    "duration": 7,
    "start_time": "2024-09-26T17:49:29.796Z"
   },
   {
    "duration": 5,
    "start_time": "2024-09-26T17:49:29.890Z"
   },
   {
    "duration": 5,
    "start_time": "2024-09-26T17:49:29.897Z"
   },
   {
    "duration": 90,
    "start_time": "2024-09-26T17:49:29.904Z"
   },
   {
    "duration": 3,
    "start_time": "2024-09-26T17:49:29.996Z"
   },
   {
    "duration": 71,
    "start_time": "2024-09-26T17:49:30.001Z"
   },
   {
    "duration": 2745,
    "start_time": "2024-09-26T17:49:30.074Z"
   },
   {
    "duration": 1321,
    "start_time": "2024-09-26T18:10:18.833Z"
   },
   {
    "duration": 5,
    "start_time": "2024-09-26T18:10:20.156Z"
   },
   {
    "duration": 194,
    "start_time": "2024-09-26T18:10:20.162Z"
   },
   {
    "duration": 140,
    "start_time": "2024-09-26T18:10:20.357Z"
   },
   {
    "duration": 135,
    "start_time": "2024-09-26T18:10:20.500Z"
   },
   {
    "duration": 39,
    "start_time": "2024-09-26T18:10:20.636Z"
   },
   {
    "duration": 127,
    "start_time": "2024-09-26T18:10:20.689Z"
   },
   {
    "duration": 40,
    "start_time": "2024-09-26T18:10:20.818Z"
   },
   {
    "duration": 34,
    "start_time": "2024-09-26T18:10:20.859Z"
   },
   {
    "duration": 27,
    "start_time": "2024-09-26T18:10:20.894Z"
   },
   {
    "duration": 65,
    "start_time": "2024-09-26T18:10:20.923Z"
   },
   {
    "duration": 89,
    "start_time": "2024-09-26T18:10:20.989Z"
   },
   {
    "duration": 31,
    "start_time": "2024-09-26T18:10:21.090Z"
   },
   {
    "duration": 6,
    "start_time": "2024-09-26T18:10:21.123Z"
   },
   {
    "duration": 2513,
    "start_time": "2024-09-26T18:10:21.131Z"
   },
   {
    "duration": 3,
    "start_time": "2024-09-26T18:10:23.646Z"
   },
   {
    "duration": 974,
    "start_time": "2024-09-26T18:10:23.651Z"
   },
   {
    "duration": 77,
    "start_time": "2024-09-26T18:10:24.627Z"
   },
   {
    "duration": 5,
    "start_time": "2024-09-26T18:10:24.706Z"
   },
   {
    "duration": 480,
    "start_time": "2024-09-26T18:10:24.712Z"
   },
   {
    "duration": 7,
    "start_time": "2024-09-26T18:10:25.194Z"
   },
   {
    "duration": 90,
    "start_time": "2024-09-26T18:10:25.202Z"
   },
   {
    "duration": 9,
    "start_time": "2024-09-26T18:10:25.294Z"
   },
   {
    "duration": 17,
    "start_time": "2024-09-26T18:10:25.305Z"
   },
   {
    "duration": 3,
    "start_time": "2024-09-26T18:10:25.323Z"
   },
   {
    "duration": 5,
    "start_time": "2024-09-26T18:10:25.328Z"
   },
   {
    "duration": 2665,
    "start_time": "2024-09-26T18:10:25.334Z"
   }
  ],
  "kernelspec": {
   "display_name": "Python 3 (ipykernel)",
   "language": "python",
   "name": "python3"
  },
  "language_info": {
   "codemirror_mode": {
    "name": "ipython",
    "version": 3
   },
   "file_extension": ".py",
   "mimetype": "text/x-python",
   "name": "python",
   "nbconvert_exporter": "python",
   "pygments_lexer": "ipython3",
   "version": "3.9.5"
  },
  "toc": {
   "base_numbering": 1,
   "nav_menu": {},
   "number_sections": true,
   "sideBar": true,
   "skip_h1_title": true,
   "title_cell": "Table of Contents",
   "title_sidebar": "Contents",
   "toc_cell": false,
   "toc_position": {
    "height": "calc(100% - 180px)",
    "left": "10px",
    "top": "150px",
    "width": "320px"
   },
   "toc_section_display": true,
   "toc_window_display": true
  }
 },
 "nbformat": 4,
 "nbformat_minor": 2
}
